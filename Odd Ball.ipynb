{
 "cells": [
  {
   "cell_type": "markdown",
   "metadata": {},
   "source": [
    "# Odd Ball"
   ]
  },
  {
   "cell_type": "markdown",
   "metadata": {},
   "source": [
    "## Dataframes and Cleaning"
   ]
  },
  {
   "cell_type": "code",
   "execution_count": 2,
   "metadata": {
    "ExecuteTime": {
     "end_time": "2019-09-24T19:13:40.863878Z",
     "start_time": "2019-09-24T19:13:40.861186Z"
    }
   },
   "outputs": [],
   "source": [
    "import pandas as pd\n",
    "import numpy as np\n",
    "import requests"
   ]
  },
  {
   "cell_type": "markdown",
   "metadata": {},
   "source": [
    "### Elo DataFrames"
   ]
  },
  {
   "cell_type": "markdown",
   "metadata": {},
   "source": [
    "These DataFrames contain the ELO score scraped from clubelo.com for each of the clubs in the premier league for the passed three seasons.\n",
    "\n",
    "I think this will be one of the strongest coefficients for predicting the outcome of a game."
   ]
  },
  {
   "cell_type": "code",
   "execution_count": null,
   "metadata": {
    "ExecuteTime": {
     "end_time": "2019-09-09T19:01:41.914383Z",
     "start_time": "2019-09-09T19:01:41.909470Z"
    }
   },
   "outputs": [],
   "source": [
    "clubs = ['Burnley', 'CrystalPalace', 'Everton', 'Hull',\n",
    "       'ManCity', 'Middlesbrough', 'Southampton', 'Arsenal',\n",
    "       'Bournemouth', 'Chelsea', 'ManUnited', 'Leicester',\n",
    "       'Stoke', 'Swansea', 'Tottenham', 'Watford',\n",
    "       'WestBrom', 'Sunderland', 'WestHam',\n",
    "       'Liverpool', 'Brighton', 'Newcastle',\n",
    "       'Huddersfield', 'Fulham', 'Wolves', 'Cardiff']"
   ]
  },
  {
   "cell_type": "code",
   "execution_count": null,
   "metadata": {
    "ExecuteTime": {
     "end_time": "2019-09-09T19:01:42.258784Z",
     "start_time": "2019-09-09T19:01:42.254741Z"
    }
   },
   "outputs": [],
   "source": [
    "# Commented out so don't accidently run the scraper unnecesarily\n",
    "# You need to run this if doing from scratch though\n",
    "\n",
    "# for i in clubs:\n",
    "#     csv = requests.get('http://api.clubelo.com/{}'.format(i))\n",
    "    \n",
    "#     with open('{}.csv'.format(i), 'w+') as f:\n",
    "#         f.write(csv.text)  "
   ]
  },
  {
   "cell_type": "code",
   "execution_count": null,
   "metadata": {
    "ExecuteTime": {
     "end_time": "2019-09-09T19:01:42.990436Z",
     "start_time": "2019-09-09T19:01:42.984987Z"
    }
   },
   "outputs": [],
   "source": [
    "# create an empty df to append the cleaned csv's to\n",
    "\n",
    "all_elo = pd.DataFrame()"
   ]
  },
  {
   "cell_type": "code",
   "execution_count": null,
   "metadata": {
    "ExecuteTime": {
     "end_time": "2019-09-09T19:02:18.770052Z",
     "start_time": "2019-09-09T19:02:18.280472Z"
    }
   },
   "outputs": [],
   "source": [
    "for i in clubs:\n",
    "    \n",
    "    df_maker = pd.read_csv('{}.csv'.format(i)) # open each csv\n",
    "    \n",
    "    # convert date column to datetime format\n",
    "    try:\n",
    "        df_maker['Date'] = pd.to_datetime(df_maker['To'], format='%Y/%m/%d')\n",
    "    except:\n",
    "        df_maker['Date'] = pd.to_datetime(df_maker['To'], format='%d/%m/%Y')\n",
    "     \n",
    "    # make the date column the index\n",
    "    df_maker.set_index('Date', inplace=True, drop=True)\n",
    "    \n",
    "    # drop unnecessary columns\n",
    "    df_maker.drop(columns=['From', 'To', 'Level', 'Country', 'Rank'], inplace=True)\n",
    "    \n",
    "    # subset the data so that only the relevant periods are kept\n",
    "    df_maker = df_maker[(df_maker.index <= '2019-06') & (df_maker.index >= '2016-08')]\n",
    "    \n",
    "    # combine cleaned df with all_elo\n",
    "    all_elo = pd.concat([all_elo, df_maker])"
   ]
  },
  {
   "cell_type": "code",
   "execution_count": null,
   "metadata": {
    "ExecuteTime": {
     "end_time": "2019-09-09T19:02:19.757675Z",
     "start_time": "2019-09-09T19:02:19.751707Z"
    }
   },
   "outputs": [],
   "source": [
    "all_elo.shape"
   ]
  },
  {
   "cell_type": "code",
   "execution_count": null,
   "metadata": {
    "ExecuteTime": {
     "end_time": "2019-09-09T19:02:20.889488Z",
     "start_time": "2019-09-09T19:02:20.882398Z"
    }
   },
   "outputs": [],
   "source": [
    "# need to see the formatting of the club names, this needs to be consistent as I plan to use a portion\n",
    "# of the club names and the date column to create unique keys for merging dataframes later\n",
    "\n",
    "all_elo.Club.unique()"
   ]
  },
  {
   "cell_type": "code",
   "execution_count": null,
   "metadata": {
    "ExecuteTime": {
     "end_time": "2019-09-09T19:02:21.889114Z",
     "start_time": "2019-09-09T19:02:21.875231Z"
    }
   },
   "outputs": [],
   "source": [
    "# Changing the format of some of the clubs\n",
    "\n",
    "all_elo['Club'] = ['ManUtd' if i=='Man United' else i for i in all_elo['Club']]\n",
    "all_elo['Club'] = ['ManCity' if i=='Man City' else i for i in all_elo['Club']]\n",
    "all_elo['Club'] = ['WestHam' if i=='West Ham' else i for i in all_elo['Club']]\n",
    "all_elo['Club'] = ['WestBrom' if i=='West Brom' else i for i in all_elo['Club']]\n",
    "all_elo['Club'] = ['HullCity' if i=='Hull' else i for i in all_elo['Club']]"
   ]
  },
  {
   "cell_type": "code",
   "execution_count": null,
   "metadata": {
    "ExecuteTime": {
     "end_time": "2019-09-09T19:02:23.290972Z",
     "start_time": "2019-09-09T19:02:23.252720Z"
    }
   },
   "outputs": [],
   "source": [
    "# creating a unique key for merging dataframes later\n",
    "\n",
    "all_elo['key'] = [str(i)+n[:5] for i,n in zip(all_elo.index, all_elo['Club'])]"
   ]
  },
  {
   "cell_type": "code",
   "execution_count": null,
   "metadata": {
    "ExecuteTime": {
     "end_time": "2019-09-09T19:02:24.060241Z",
     "start_time": "2019-09-09T19:02:23.728151Z"
    }
   },
   "outputs": [],
   "source": [
    "# look! a histogram!\n",
    "\n",
    "all_elo.plot(kind='hist');"
   ]
  },
  {
   "cell_type": "markdown",
   "metadata": {},
   "source": [
    "### Five_38 Dataset"
   ]
  },
  {
   "cell_type": "markdown",
   "metadata": {},
   "source": [
    "This is the dataset I am going to use as my main dataset. I plan on appending the market values of the clubs as well as the ELO's of the clubs to this one. I alos need to do some feature engineering and clean/remove some of these columns."
   ]
  },
  {
   "cell_type": "code",
   "execution_count": 32,
   "metadata": {
    "ExecuteTime": {
     "end_time": "2019-09-24T19:20:04.197567Z",
     "start_time": "2019-09-24T19:20:04.060357Z"
    }
   },
   "outputs": [],
   "source": [
    "five_38 = pd.read_csv('csv/spi_matches.csv')"
   ]
  },
  {
   "cell_type": "code",
   "execution_count": 33,
   "metadata": {
    "ExecuteTime": {
     "end_time": "2019-09-24T19:20:04.527344Z",
     "start_time": "2019-09-24T19:20:04.500745Z"
    }
   },
   "outputs": [
    {
     "data": {
      "text/html": [
       "<div>\n",
       "<style scoped>\n",
       "    .dataframe tbody tr th:only-of-type {\n",
       "        vertical-align: middle;\n",
       "    }\n",
       "\n",
       "    .dataframe tbody tr th {\n",
       "        vertical-align: top;\n",
       "    }\n",
       "\n",
       "    .dataframe thead th {\n",
       "        text-align: right;\n",
       "    }\n",
       "</style>\n",
       "<table border=\"1\" class=\"dataframe\">\n",
       "  <thead>\n",
       "    <tr style=\"text-align: right;\">\n",
       "      <th></th>\n",
       "      <th>date</th>\n",
       "      <th>league_id</th>\n",
       "      <th>league</th>\n",
       "      <th>team1</th>\n",
       "      <th>team2</th>\n",
       "      <th>spi1</th>\n",
       "      <th>spi2</th>\n",
       "      <th>prob1</th>\n",
       "      <th>prob2</th>\n",
       "      <th>probtie</th>\n",
       "      <th>...</th>\n",
       "      <th>importance1</th>\n",
       "      <th>importance2</th>\n",
       "      <th>score1</th>\n",
       "      <th>score2</th>\n",
       "      <th>xg1</th>\n",
       "      <th>xg2</th>\n",
       "      <th>nsxg1</th>\n",
       "      <th>nsxg2</th>\n",
       "      <th>adj_score1</th>\n",
       "      <th>adj_score2</th>\n",
       "    </tr>\n",
       "  </thead>\n",
       "  <tbody>\n",
       "    <tr>\n",
       "      <th>0</th>\n",
       "      <td>2016-08-12</td>\n",
       "      <td>1843</td>\n",
       "      <td>French Ligue 1</td>\n",
       "      <td>Bastia</td>\n",
       "      <td>Paris Saint-Germain</td>\n",
       "      <td>51.16</td>\n",
       "      <td>85.68</td>\n",
       "      <td>0.0463</td>\n",
       "      <td>0.8380</td>\n",
       "      <td>0.1157</td>\n",
       "      <td>...</td>\n",
       "      <td>32.4</td>\n",
       "      <td>67.7</td>\n",
       "      <td>0.0</td>\n",
       "      <td>1.0</td>\n",
       "      <td>0.97</td>\n",
       "      <td>0.63</td>\n",
       "      <td>0.43</td>\n",
       "      <td>0.45</td>\n",
       "      <td>0.00</td>\n",
       "      <td>1.05</td>\n",
       "    </tr>\n",
       "    <tr>\n",
       "      <th>1</th>\n",
       "      <td>2016-08-12</td>\n",
       "      <td>1843</td>\n",
       "      <td>French Ligue 1</td>\n",
       "      <td>AS Monaco</td>\n",
       "      <td>Guingamp</td>\n",
       "      <td>68.85</td>\n",
       "      <td>56.48</td>\n",
       "      <td>0.5714</td>\n",
       "      <td>0.1669</td>\n",
       "      <td>0.2617</td>\n",
       "      <td>...</td>\n",
       "      <td>53.7</td>\n",
       "      <td>22.9</td>\n",
       "      <td>2.0</td>\n",
       "      <td>2.0</td>\n",
       "      <td>2.45</td>\n",
       "      <td>0.77</td>\n",
       "      <td>1.75</td>\n",
       "      <td>0.42</td>\n",
       "      <td>2.10</td>\n",
       "      <td>2.10</td>\n",
       "    </tr>\n",
       "    <tr>\n",
       "      <th>2</th>\n",
       "      <td>2016-08-13</td>\n",
       "      <td>2411</td>\n",
       "      <td>Barclays Premier League</td>\n",
       "      <td>Hull City</td>\n",
       "      <td>Leicester City</td>\n",
       "      <td>53.57</td>\n",
       "      <td>66.81</td>\n",
       "      <td>0.3459</td>\n",
       "      <td>0.3621</td>\n",
       "      <td>0.2921</td>\n",
       "      <td>...</td>\n",
       "      <td>38.1</td>\n",
       "      <td>22.2</td>\n",
       "      <td>2.0</td>\n",
       "      <td>1.0</td>\n",
       "      <td>0.85</td>\n",
       "      <td>2.77</td>\n",
       "      <td>0.17</td>\n",
       "      <td>1.25</td>\n",
       "      <td>2.10</td>\n",
       "      <td>1.05</td>\n",
       "    </tr>\n",
       "    <tr>\n",
       "      <th>3</th>\n",
       "      <td>2016-08-13</td>\n",
       "      <td>2411</td>\n",
       "      <td>Barclays Premier League</td>\n",
       "      <td>Crystal Palace</td>\n",
       "      <td>West Bromwich Albion</td>\n",
       "      <td>55.19</td>\n",
       "      <td>58.66</td>\n",
       "      <td>0.4214</td>\n",
       "      <td>0.2939</td>\n",
       "      <td>0.2847</td>\n",
       "      <td>...</td>\n",
       "      <td>43.6</td>\n",
       "      <td>34.6</td>\n",
       "      <td>0.0</td>\n",
       "      <td>1.0</td>\n",
       "      <td>1.11</td>\n",
       "      <td>0.68</td>\n",
       "      <td>0.84</td>\n",
       "      <td>1.60</td>\n",
       "      <td>0.00</td>\n",
       "      <td>1.05</td>\n",
       "    </tr>\n",
       "    <tr>\n",
       "      <th>4</th>\n",
       "      <td>2016-08-13</td>\n",
       "      <td>2411</td>\n",
       "      <td>Barclays Premier League</td>\n",
       "      <td>Everton</td>\n",
       "      <td>Tottenham Hotspur</td>\n",
       "      <td>68.02</td>\n",
       "      <td>73.25</td>\n",
       "      <td>0.3910</td>\n",
       "      <td>0.3401</td>\n",
       "      <td>0.2689</td>\n",
       "      <td>...</td>\n",
       "      <td>31.9</td>\n",
       "      <td>48.0</td>\n",
       "      <td>1.0</td>\n",
       "      <td>1.0</td>\n",
       "      <td>0.73</td>\n",
       "      <td>1.11</td>\n",
       "      <td>0.88</td>\n",
       "      <td>1.81</td>\n",
       "      <td>1.05</td>\n",
       "      <td>1.05</td>\n",
       "    </tr>\n",
       "  </tbody>\n",
       "</table>\n",
       "<p>5 rows × 22 columns</p>\n",
       "</div>"
      ],
      "text/plain": [
       "         date  league_id                   league           team1  \\\n",
       "0  2016-08-12       1843           French Ligue 1          Bastia   \n",
       "1  2016-08-12       1843           French Ligue 1       AS Monaco   \n",
       "2  2016-08-13       2411  Barclays Premier League       Hull City   \n",
       "3  2016-08-13       2411  Barclays Premier League  Crystal Palace   \n",
       "4  2016-08-13       2411  Barclays Premier League         Everton   \n",
       "\n",
       "                  team2   spi1   spi2   prob1   prob2  probtie     ...      \\\n",
       "0   Paris Saint-Germain  51.16  85.68  0.0463  0.8380   0.1157     ...       \n",
       "1              Guingamp  68.85  56.48  0.5714  0.1669   0.2617     ...       \n",
       "2        Leicester City  53.57  66.81  0.3459  0.3621   0.2921     ...       \n",
       "3  West Bromwich Albion  55.19  58.66  0.4214  0.2939   0.2847     ...       \n",
       "4     Tottenham Hotspur  68.02  73.25  0.3910  0.3401   0.2689     ...       \n",
       "\n",
       "   importance1  importance2  score1  score2   xg1   xg2  nsxg1  nsxg2  \\\n",
       "0         32.4         67.7     0.0     1.0  0.97  0.63   0.43   0.45   \n",
       "1         53.7         22.9     2.0     2.0  2.45  0.77   1.75   0.42   \n",
       "2         38.1         22.2     2.0     1.0  0.85  2.77   0.17   1.25   \n",
       "3         43.6         34.6     0.0     1.0  1.11  0.68   0.84   1.60   \n",
       "4         31.9         48.0     1.0     1.0  0.73  1.11   0.88   1.81   \n",
       "\n",
       "   adj_score1  adj_score2  \n",
       "0        0.00        1.05  \n",
       "1        2.10        2.10  \n",
       "2        2.10        1.05  \n",
       "3        0.00        1.05  \n",
       "4        1.05        1.05  \n",
       "\n",
       "[5 rows x 22 columns]"
      ]
     },
     "execution_count": 33,
     "metadata": {},
     "output_type": "execute_result"
    }
   ],
   "source": [
    "five_38.head()"
   ]
  },
  {
   "cell_type": "code",
   "execution_count": 34,
   "metadata": {
    "ExecuteTime": {
     "end_time": "2019-09-24T19:20:05.167115Z",
     "start_time": "2019-09-24T19:20:05.157515Z"
    }
   },
   "outputs": [
    {
     "data": {
      "text/plain": [
       "array(['French Ligue 1', 'Barclays Premier League',\n",
       "       'Spanish Primera Division', 'Italy Serie A', 'German Bundesliga',\n",
       "       'UEFA Champions League',\n",
       "       'Mexican Primera Division Torneo Clausura', 'Major League Soccer',\n",
       "       'Swedish Allsvenskan', 'Norwegian Tippeligaen',\n",
       "       \"National Women's Soccer League\", 'Brasileiro Série A',\n",
       "       'Russian Premier Liga', 'Mexican Primera Division Torneo Apertura',\n",
       "       'Austrian T-Mobile Bundesliga', 'Swiss Raiffeisen Super League',\n",
       "       'French Ligue 2', 'German 2. Bundesliga',\n",
       "       'English League Championship', 'Scottish Premiership',\n",
       "       'Portuguese Liga', 'Dutch Eredivisie',\n",
       "       'Turkish Turkcell Super Lig', 'Spanish Segunda Division',\n",
       "       'Italy Serie B', 'Argentina Primera Division',\n",
       "       'UEFA Europa League', 'United Soccer League', 'Danish SAS-Ligaen',\n",
       "       'Belgian Jupiler League', 'Japanese J League',\n",
       "       'Chinese Super League', 'English League One',\n",
       "       'South African ABSA Premier League', 'English League Two',\n",
       "       'Greek Super League', 'Australian A-League'], dtype=object)"
      ]
     },
     "execution_count": 34,
     "metadata": {},
     "output_type": "execute_result"
    }
   ],
   "source": [
    "five_38['league'].unique()"
   ]
  },
  {
   "cell_type": "code",
   "execution_count": 35,
   "metadata": {
    "ExecuteTime": {
     "end_time": "2019-09-24T19:20:05.581283Z",
     "start_time": "2019-09-24T19:20:05.566111Z"
    }
   },
   "outputs": [],
   "source": [
    "# change date column to datetime\n",
    "\n",
    "five_38['date'] = pd.to_datetime(five_38['date'], format='%Y-%m-%d')"
   ]
  },
  {
   "cell_type": "code",
   "execution_count": 36,
   "metadata": {
    "ExecuteTime": {
     "end_time": "2019-09-24T19:20:05.873563Z",
     "start_time": "2019-09-24T19:20:05.868454Z"
    }
   },
   "outputs": [],
   "source": [
    "# make it the index\n",
    "\n",
    "five_38.set_index('date', inplace=True, drop=True)"
   ]
  },
  {
   "cell_type": "code",
   "execution_count": 37,
   "metadata": {
    "ExecuteTime": {
     "end_time": "2019-09-24T19:20:06.103923Z",
     "start_time": "2019-09-24T19:20:06.101275Z"
    }
   },
   "outputs": [],
   "source": [
    "# make it prettier\n",
    "\n",
    "five_38.index.name = None"
   ]
  },
  {
   "cell_type": "code",
   "execution_count": 38,
   "metadata": {
    "ExecuteTime": {
     "end_time": "2019-09-24T19:20:06.306459Z",
     "start_time": "2019-09-24T19:20:06.298804Z"
    }
   },
   "outputs": [],
   "source": [
    "# Selecting only the premier league and only the last three seasons\n",
    "\n",
    "epl = five_38[(five_38['league_id'] == 2411) & (five_38.index <= '2019-07')]"
   ]
  },
  {
   "cell_type": "code",
   "execution_count": 39,
   "metadata": {
    "ExecuteTime": {
     "end_time": "2019-09-24T19:20:06.483646Z",
     "start_time": "2019-09-24T19:20:06.478930Z"
    }
   },
   "outputs": [
    {
     "data": {
      "text/plain": [
       "(1140, 21)"
      ]
     },
     "execution_count": 39,
     "metadata": {},
     "output_type": "execute_result"
    }
   ],
   "source": [
    "epl.shape"
   ]
  },
  {
   "cell_type": "code",
   "execution_count": 50,
   "metadata": {
    "ExecuteTime": {
     "end_time": "2019-09-24T19:21:56.698949Z",
     "start_time": "2019-09-24T19:21:56.694025Z"
    }
   },
   "outputs": [],
   "source": [
    "# making sure things are in date order\n",
    "\n",
    "epl.sort_index(inplace=True)"
   ]
  },
  {
   "cell_type": "code",
   "execution_count": 51,
   "metadata": {
    "ExecuteTime": {
     "end_time": "2019-09-24T19:21:57.385963Z",
     "start_time": "2019-09-24T19:21:57.362528Z"
    }
   },
   "outputs": [
    {
     "data": {
      "text/html": [
       "<div>\n",
       "<style scoped>\n",
       "    .dataframe tbody tr th:only-of-type {\n",
       "        vertical-align: middle;\n",
       "    }\n",
       "\n",
       "    .dataframe tbody tr th {\n",
       "        vertical-align: top;\n",
       "    }\n",
       "\n",
       "    .dataframe thead th {\n",
       "        text-align: right;\n",
       "    }\n",
       "</style>\n",
       "<table border=\"1\" class=\"dataframe\">\n",
       "  <thead>\n",
       "    <tr style=\"text-align: right;\">\n",
       "      <th></th>\n",
       "      <th>league_id</th>\n",
       "      <th>league</th>\n",
       "      <th>team1</th>\n",
       "      <th>team2</th>\n",
       "      <th>spi1</th>\n",
       "      <th>spi2</th>\n",
       "      <th>prob1</th>\n",
       "      <th>prob2</th>\n",
       "      <th>probtie</th>\n",
       "      <th>proj_score1</th>\n",
       "      <th>...</th>\n",
       "      <th>importance1</th>\n",
       "      <th>importance2</th>\n",
       "      <th>score1</th>\n",
       "      <th>score2</th>\n",
       "      <th>xg1</th>\n",
       "      <th>xg2</th>\n",
       "      <th>nsxg1</th>\n",
       "      <th>nsxg2</th>\n",
       "      <th>adj_score1</th>\n",
       "      <th>adj_score2</th>\n",
       "    </tr>\n",
       "  </thead>\n",
       "  <tbody>\n",
       "    <tr>\n",
       "      <th>2016-08-13</th>\n",
       "      <td>2411</td>\n",
       "      <td>Barclays Premier League</td>\n",
       "      <td>Burnley</td>\n",
       "      <td>Swansea City</td>\n",
       "      <td>58.98</td>\n",
       "      <td>59.74</td>\n",
       "      <td>0.4482</td>\n",
       "      <td>0.2663</td>\n",
       "      <td>0.2854</td>\n",
       "      <td>1.37</td>\n",
       "      <td>...</td>\n",
       "      <td>36.5</td>\n",
       "      <td>29.1</td>\n",
       "      <td>0.0</td>\n",
       "      <td>1.0</td>\n",
       "      <td>1.24</td>\n",
       "      <td>1.84</td>\n",
       "      <td>1.71</td>\n",
       "      <td>1.56</td>\n",
       "      <td>0.00</td>\n",
       "      <td>1.05</td>\n",
       "    </tr>\n",
       "    <tr>\n",
       "      <th>2016-08-13</th>\n",
       "      <td>2411</td>\n",
       "      <td>Barclays Premier League</td>\n",
       "      <td>Crystal Palace</td>\n",
       "      <td>WestBrom</td>\n",
       "      <td>55.19</td>\n",
       "      <td>58.66</td>\n",
       "      <td>0.4214</td>\n",
       "      <td>0.2939</td>\n",
       "      <td>0.2847</td>\n",
       "      <td>1.35</td>\n",
       "      <td>...</td>\n",
       "      <td>43.6</td>\n",
       "      <td>34.6</td>\n",
       "      <td>0.0</td>\n",
       "      <td>1.0</td>\n",
       "      <td>1.11</td>\n",
       "      <td>0.68</td>\n",
       "      <td>0.84</td>\n",
       "      <td>1.60</td>\n",
       "      <td>0.00</td>\n",
       "      <td>1.05</td>\n",
       "    </tr>\n",
       "    <tr>\n",
       "      <th>2016-08-13</th>\n",
       "      <td>2411</td>\n",
       "      <td>Barclays Premier League</td>\n",
       "      <td>Everton</td>\n",
       "      <td>Tottenham Hotspur</td>\n",
       "      <td>68.02</td>\n",
       "      <td>73.25</td>\n",
       "      <td>0.3910</td>\n",
       "      <td>0.3401</td>\n",
       "      <td>0.2689</td>\n",
       "      <td>1.47</td>\n",
       "      <td>...</td>\n",
       "      <td>31.9</td>\n",
       "      <td>48.0</td>\n",
       "      <td>1.0</td>\n",
       "      <td>1.0</td>\n",
       "      <td>0.73</td>\n",
       "      <td>1.11</td>\n",
       "      <td>0.88</td>\n",
       "      <td>1.81</td>\n",
       "      <td>1.05</td>\n",
       "      <td>1.05</td>\n",
       "    </tr>\n",
       "    <tr>\n",
       "      <th>2016-08-13</th>\n",
       "      <td>2411</td>\n",
       "      <td>Barclays Premier League</td>\n",
       "      <td>HullCity</td>\n",
       "      <td>Leicester City</td>\n",
       "      <td>53.57</td>\n",
       "      <td>66.81</td>\n",
       "      <td>0.3459</td>\n",
       "      <td>0.3621</td>\n",
       "      <td>0.2921</td>\n",
       "      <td>1.16</td>\n",
       "      <td>...</td>\n",
       "      <td>38.1</td>\n",
       "      <td>22.2</td>\n",
       "      <td>2.0</td>\n",
       "      <td>1.0</td>\n",
       "      <td>0.85</td>\n",
       "      <td>2.77</td>\n",
       "      <td>0.17</td>\n",
       "      <td>1.25</td>\n",
       "      <td>2.10</td>\n",
       "      <td>1.05</td>\n",
       "    </tr>\n",
       "    <tr>\n",
       "      <th>2016-08-13</th>\n",
       "      <td>2411</td>\n",
       "      <td>Barclays Premier League</td>\n",
       "      <td>ManCity</td>\n",
       "      <td>Sunderland</td>\n",
       "      <td>86.42</td>\n",
       "      <td>53.64</td>\n",
       "      <td>0.8152</td>\n",
       "      <td>0.0525</td>\n",
       "      <td>0.1323</td>\n",
       "      <td>2.69</td>\n",
       "      <td>...</td>\n",
       "      <td>73.0</td>\n",
       "      <td>27.0</td>\n",
       "      <td>2.0</td>\n",
       "      <td>1.0</td>\n",
       "      <td>2.14</td>\n",
       "      <td>1.25</td>\n",
       "      <td>1.81</td>\n",
       "      <td>0.92</td>\n",
       "      <td>2.10</td>\n",
       "      <td>1.05</td>\n",
       "    </tr>\n",
       "  </tbody>\n",
       "</table>\n",
       "<p>5 rows × 21 columns</p>\n",
       "</div>"
      ],
      "text/plain": [
       "            league_id                   league           team1  \\\n",
       "2016-08-13       2411  Barclays Premier League         Burnley   \n",
       "2016-08-13       2411  Barclays Premier League  Crystal Palace   \n",
       "2016-08-13       2411  Barclays Premier League         Everton   \n",
       "2016-08-13       2411  Barclays Premier League        HullCity   \n",
       "2016-08-13       2411  Barclays Premier League         ManCity   \n",
       "\n",
       "                        team2   spi1   spi2   prob1   prob2  probtie  \\\n",
       "2016-08-13       Swansea City  58.98  59.74  0.4482  0.2663   0.2854   \n",
       "2016-08-13           WestBrom  55.19  58.66  0.4214  0.2939   0.2847   \n",
       "2016-08-13  Tottenham Hotspur  68.02  73.25  0.3910  0.3401   0.2689   \n",
       "2016-08-13     Leicester City  53.57  66.81  0.3459  0.3621   0.2921   \n",
       "2016-08-13         Sunderland  86.42  53.64  0.8152  0.0525   0.1323   \n",
       "\n",
       "            proj_score1     ...      importance1  importance2  score1  score2  \\\n",
       "2016-08-13         1.37     ...             36.5         29.1     0.0     1.0   \n",
       "2016-08-13         1.35     ...             43.6         34.6     0.0     1.0   \n",
       "2016-08-13         1.47     ...             31.9         48.0     1.0     1.0   \n",
       "2016-08-13         1.16     ...             38.1         22.2     2.0     1.0   \n",
       "2016-08-13         2.69     ...             73.0         27.0     2.0     1.0   \n",
       "\n",
       "             xg1   xg2  nsxg1  nsxg2  adj_score1  adj_score2  \n",
       "2016-08-13  1.24  1.84   1.71   1.56        0.00        1.05  \n",
       "2016-08-13  1.11  0.68   0.84   1.60        0.00        1.05  \n",
       "2016-08-13  0.73  1.11   0.88   1.81        1.05        1.05  \n",
       "2016-08-13  0.85  2.77   0.17   1.25        2.10        1.05  \n",
       "2016-08-13  2.14  1.25   1.81   0.92        2.10        1.05  \n",
       "\n",
       "[5 rows x 21 columns]"
      ]
     },
     "execution_count": 51,
     "metadata": {},
     "output_type": "execute_result"
    }
   ],
   "source": [
    "# yes,they are\n",
    "\n",
    "epl.head()"
   ]
  },
  {
   "cell_type": "code",
   "execution_count": 44,
   "metadata": {
    "ExecuteTime": {
     "end_time": "2019-09-24T19:20:08.779119Z",
     "start_time": "2019-09-24T19:20:08.429398Z"
    }
   },
   "outputs": [
    {
     "name": "stderr",
     "output_type": "stream",
     "text": [
      "/anaconda3/lib/python3.7/site-packages/ipykernel_launcher.py:5: SettingWithCopyWarning: \n",
      "A value is trying to be set on a copy of a slice from a DataFrame.\n",
      "Try using .loc[row_indexer,col_indexer] = value instead\n",
      "\n",
      "See the caveats in the documentation: http://pandas.pydata.org/pandas-docs/stable/indexing.html#indexing-view-versus-copy\n",
      "  \"\"\"\n",
      "/anaconda3/lib/python3.7/site-packages/ipykernel_launcher.py:6: SettingWithCopyWarning: \n",
      "A value is trying to be set on a copy of a slice from a DataFrame.\n",
      "Try using .loc[row_indexer,col_indexer] = value instead\n",
      "\n",
      "See the caveats in the documentation: http://pandas.pydata.org/pandas-docs/stable/indexing.html#indexing-view-versus-copy\n",
      "  \n",
      "/anaconda3/lib/python3.7/site-packages/ipykernel_launcher.py:7: SettingWithCopyWarning: \n",
      "A value is trying to be set on a copy of a slice from a DataFrame.\n",
      "Try using .loc[row_indexer,col_indexer] = value instead\n",
      "\n",
      "See the caveats in the documentation: http://pandas.pydata.org/pandas-docs/stable/indexing.html#indexing-view-versus-copy\n",
      "  import sys\n",
      "/anaconda3/lib/python3.7/site-packages/ipykernel_launcher.py:8: SettingWithCopyWarning: \n",
      "A value is trying to be set on a copy of a slice from a DataFrame.\n",
      "Try using .loc[row_indexer,col_indexer] = value instead\n",
      "\n",
      "See the caveats in the documentation: http://pandas.pydata.org/pandas-docs/stable/indexing.html#indexing-view-versus-copy\n",
      "  \n",
      "/anaconda3/lib/python3.7/site-packages/ipykernel_launcher.py:9: SettingWithCopyWarning: \n",
      "A value is trying to be set on a copy of a slice from a DataFrame.\n",
      "Try using .loc[row_indexer,col_indexer] = value instead\n",
      "\n",
      "See the caveats in the documentation: http://pandas.pydata.org/pandas-docs/stable/indexing.html#indexing-view-versus-copy\n",
      "  if __name__ == '__main__':\n",
      "/anaconda3/lib/python3.7/site-packages/ipykernel_launcher.py:10: SettingWithCopyWarning: \n",
      "A value is trying to be set on a copy of a slice from a DataFrame.\n",
      "Try using .loc[row_indexer,col_indexer] = value instead\n",
      "\n",
      "See the caveats in the documentation: http://pandas.pydata.org/pandas-docs/stable/indexing.html#indexing-view-versus-copy\n",
      "  # Remove the CWD from sys.path while we load stuff.\n",
      "/anaconda3/lib/python3.7/site-packages/ipykernel_launcher.py:11: SettingWithCopyWarning: \n",
      "A value is trying to be set on a copy of a slice from a DataFrame.\n",
      "Try using .loc[row_indexer,col_indexer] = value instead\n",
      "\n",
      "See the caveats in the documentation: http://pandas.pydata.org/pandas-docs/stable/indexing.html#indexing-view-versus-copy\n",
      "  # This is added back by InteractiveShellApp.init_path()\n",
      "/anaconda3/lib/python3.7/site-packages/ipykernel_launcher.py:12: SettingWithCopyWarning: \n",
      "A value is trying to be set on a copy of a slice from a DataFrame.\n",
      "Try using .loc[row_indexer,col_indexer] = value instead\n",
      "\n",
      "See the caveats in the documentation: http://pandas.pydata.org/pandas-docs/stable/indexing.html#indexing-view-versus-copy\n",
      "  if sys.path[0] == '':\n",
      "/anaconda3/lib/python3.7/site-packages/ipykernel_launcher.py:13: SettingWithCopyWarning: \n",
      "A value is trying to be set on a copy of a slice from a DataFrame.\n",
      "Try using .loc[row_indexer,col_indexer] = value instead\n",
      "\n",
      "See the caveats in the documentation: http://pandas.pydata.org/pandas-docs/stable/indexing.html#indexing-view-versus-copy\n",
      "  del sys.path[0]\n",
      "/anaconda3/lib/python3.7/site-packages/ipykernel_launcher.py:14: SettingWithCopyWarning: \n",
      "A value is trying to be set on a copy of a slice from a DataFrame.\n",
      "Try using .loc[row_indexer,col_indexer] = value instead\n",
      "\n",
      "See the caveats in the documentation: http://pandas.pydata.org/pandas-docs/stable/indexing.html#indexing-view-versus-copy\n",
      "  \n",
      "/anaconda3/lib/python3.7/site-packages/ipykernel_launcher.py:15: SettingWithCopyWarning: \n",
      "A value is trying to be set on a copy of a slice from a DataFrame.\n",
      "Try using .loc[row_indexer,col_indexer] = value instead\n",
      "\n",
      "See the caveats in the documentation: http://pandas.pydata.org/pandas-docs/stable/indexing.html#indexing-view-versus-copy\n",
      "  from ipykernel import kernelapp as app\n",
      "/anaconda3/lib/python3.7/site-packages/ipykernel_launcher.py:16: SettingWithCopyWarning: \n",
      "A value is trying to be set on a copy of a slice from a DataFrame.\n",
      "Try using .loc[row_indexer,col_indexer] = value instead\n",
      "\n",
      "See the caveats in the documentation: http://pandas.pydata.org/pandas-docs/stable/indexing.html#indexing-view-versus-copy\n",
      "  app.launch_new_instance()\n"
     ]
    }
   ],
   "source": [
    "# making sure the teams names match those from previous dataframes.\n",
    "# This could be streamlined if there are lots of teams I'd need to change\n",
    "# a function with loops to remove spaces for example\n",
    "\n",
    "epl['team1'] = ['Bournemouth' if i=='AFC Bournemouth' else i for i in epl['team1']]\n",
    "epl['team2'] = ['Bournemouth' if i=='AFC Bournemouth' else i for i in epl['team2']]\n",
    "epl['team1'] = ['ManUtd' if i=='Manchester United' else i for i in epl['team1']]\n",
    "epl['team2'] = ['ManUtd' if i=='Manchester United' else i for i in epl['team2']]\n",
    "epl['team1'] = ['ManCity' if i=='Manchester City' else i for i in epl['team1']]\n",
    "epl['team2'] = ['ManCity' if i=='Manchester City' else i for i in epl['team2']]\n",
    "epl['team1'] = ['WestBrom' if i=='West Bromwich Albion' else i for i in epl['team1']]\n",
    "epl['team2'] = ['WestBrom' if i=='West Bromwich Albion' else i for i in epl['team2']]\n",
    "epl['team1'] = ['HullCity' if i=='Hull City' else i for i in epl['team1']]\n",
    "epl['team2'] = ['HullCity' if i=='Hull City' else i for i in epl['team2']]\n",
    "epl['team1'] = ['WestHam' if i=='West Ham United' else i for i in epl['team1']]\n",
    "epl['team2'] = ['WestHam' if i=='West Ham United' else i for i in epl['team2']]"
   ]
  },
  {
   "cell_type": "code",
   "execution_count": 45,
   "metadata": {
    "ExecuteTime": {
     "end_time": "2019-09-24T19:20:11.774038Z",
     "start_time": "2019-09-24T19:20:11.766910Z"
    }
   },
   "outputs": [],
   "source": [
    "# because I made it prettier by dropping the index name, it made it hard for me to sort values\n",
    "# i renamed the index column and then sorted by date and then by home team to keep everything in season order\n",
    "\n",
    "epl = epl.rename_axis('date').sort_values(by = ['date', 'team1'], ascending = True)"
   ]
  },
  {
   "cell_type": "code",
   "execution_count": 46,
   "metadata": {
    "ExecuteTime": {
     "end_time": "2019-09-24T19:20:12.072592Z",
     "start_time": "2019-09-24T19:20:12.069626Z"
    }
   },
   "outputs": [],
   "source": [
    "# made it pretty again\n",
    "\n",
    "epl.index.name = None"
   ]
  },
  {
   "cell_type": "code",
   "execution_count": 47,
   "metadata": {
    "ExecuteTime": {
     "end_time": "2019-09-24T19:20:12.313316Z",
     "start_time": "2019-09-24T19:20:12.286528Z"
    },
    "scrolled": true
   },
   "outputs": [
    {
     "data": {
      "text/html": [
       "<div>\n",
       "<style scoped>\n",
       "    .dataframe tbody tr th:only-of-type {\n",
       "        vertical-align: middle;\n",
       "    }\n",
       "\n",
       "    .dataframe tbody tr th {\n",
       "        vertical-align: top;\n",
       "    }\n",
       "\n",
       "    .dataframe thead th {\n",
       "        text-align: right;\n",
       "    }\n",
       "</style>\n",
       "<table border=\"1\" class=\"dataframe\">\n",
       "  <thead>\n",
       "    <tr style=\"text-align: right;\">\n",
       "      <th></th>\n",
       "      <th>league_id</th>\n",
       "      <th>league</th>\n",
       "      <th>team1</th>\n",
       "      <th>team2</th>\n",
       "      <th>spi1</th>\n",
       "      <th>spi2</th>\n",
       "      <th>prob1</th>\n",
       "      <th>prob2</th>\n",
       "      <th>probtie</th>\n",
       "      <th>proj_score1</th>\n",
       "      <th>...</th>\n",
       "      <th>importance1</th>\n",
       "      <th>importance2</th>\n",
       "      <th>score1</th>\n",
       "      <th>score2</th>\n",
       "      <th>xg1</th>\n",
       "      <th>xg2</th>\n",
       "      <th>nsxg1</th>\n",
       "      <th>nsxg2</th>\n",
       "      <th>adj_score1</th>\n",
       "      <th>adj_score2</th>\n",
       "    </tr>\n",
       "  </thead>\n",
       "  <tbody>\n",
       "    <tr>\n",
       "      <th>2016-08-13</th>\n",
       "      <td>2411</td>\n",
       "      <td>Barclays Premier League</td>\n",
       "      <td>Burnley</td>\n",
       "      <td>Swansea City</td>\n",
       "      <td>58.98</td>\n",
       "      <td>59.74</td>\n",
       "      <td>0.4482</td>\n",
       "      <td>0.2663</td>\n",
       "      <td>0.2854</td>\n",
       "      <td>1.37</td>\n",
       "      <td>...</td>\n",
       "      <td>36.5</td>\n",
       "      <td>29.1</td>\n",
       "      <td>0.0</td>\n",
       "      <td>1.0</td>\n",
       "      <td>1.24</td>\n",
       "      <td>1.84</td>\n",
       "      <td>1.71</td>\n",
       "      <td>1.56</td>\n",
       "      <td>0.00</td>\n",
       "      <td>1.05</td>\n",
       "    </tr>\n",
       "    <tr>\n",
       "      <th>2016-08-13</th>\n",
       "      <td>2411</td>\n",
       "      <td>Barclays Premier League</td>\n",
       "      <td>Crystal Palace</td>\n",
       "      <td>WestBrom</td>\n",
       "      <td>55.19</td>\n",
       "      <td>58.66</td>\n",
       "      <td>0.4214</td>\n",
       "      <td>0.2939</td>\n",
       "      <td>0.2847</td>\n",
       "      <td>1.35</td>\n",
       "      <td>...</td>\n",
       "      <td>43.6</td>\n",
       "      <td>34.6</td>\n",
       "      <td>0.0</td>\n",
       "      <td>1.0</td>\n",
       "      <td>1.11</td>\n",
       "      <td>0.68</td>\n",
       "      <td>0.84</td>\n",
       "      <td>1.60</td>\n",
       "      <td>0.00</td>\n",
       "      <td>1.05</td>\n",
       "    </tr>\n",
       "    <tr>\n",
       "      <th>2016-08-13</th>\n",
       "      <td>2411</td>\n",
       "      <td>Barclays Premier League</td>\n",
       "      <td>Everton</td>\n",
       "      <td>Tottenham Hotspur</td>\n",
       "      <td>68.02</td>\n",
       "      <td>73.25</td>\n",
       "      <td>0.3910</td>\n",
       "      <td>0.3401</td>\n",
       "      <td>0.2689</td>\n",
       "      <td>1.47</td>\n",
       "      <td>...</td>\n",
       "      <td>31.9</td>\n",
       "      <td>48.0</td>\n",
       "      <td>1.0</td>\n",
       "      <td>1.0</td>\n",
       "      <td>0.73</td>\n",
       "      <td>1.11</td>\n",
       "      <td>0.88</td>\n",
       "      <td>1.81</td>\n",
       "      <td>1.05</td>\n",
       "      <td>1.05</td>\n",
       "    </tr>\n",
       "    <tr>\n",
       "      <th>2016-08-13</th>\n",
       "      <td>2411</td>\n",
       "      <td>Barclays Premier League</td>\n",
       "      <td>HullCity</td>\n",
       "      <td>Leicester City</td>\n",
       "      <td>53.57</td>\n",
       "      <td>66.81</td>\n",
       "      <td>0.3459</td>\n",
       "      <td>0.3621</td>\n",
       "      <td>0.2921</td>\n",
       "      <td>1.16</td>\n",
       "      <td>...</td>\n",
       "      <td>38.1</td>\n",
       "      <td>22.2</td>\n",
       "      <td>2.0</td>\n",
       "      <td>1.0</td>\n",
       "      <td>0.85</td>\n",
       "      <td>2.77</td>\n",
       "      <td>0.17</td>\n",
       "      <td>1.25</td>\n",
       "      <td>2.10</td>\n",
       "      <td>1.05</td>\n",
       "    </tr>\n",
       "    <tr>\n",
       "      <th>2016-08-13</th>\n",
       "      <td>2411</td>\n",
       "      <td>Barclays Premier League</td>\n",
       "      <td>ManCity</td>\n",
       "      <td>Sunderland</td>\n",
       "      <td>86.42</td>\n",
       "      <td>53.64</td>\n",
       "      <td>0.8152</td>\n",
       "      <td>0.0525</td>\n",
       "      <td>0.1323</td>\n",
       "      <td>2.69</td>\n",
       "      <td>...</td>\n",
       "      <td>73.0</td>\n",
       "      <td>27.0</td>\n",
       "      <td>2.0</td>\n",
       "      <td>1.0</td>\n",
       "      <td>2.14</td>\n",
       "      <td>1.25</td>\n",
       "      <td>1.81</td>\n",
       "      <td>0.92</td>\n",
       "      <td>2.10</td>\n",
       "      <td>1.05</td>\n",
       "    </tr>\n",
       "  </tbody>\n",
       "</table>\n",
       "<p>5 rows × 21 columns</p>\n",
       "</div>"
      ],
      "text/plain": [
       "            league_id                   league           team1  \\\n",
       "2016-08-13       2411  Barclays Premier League         Burnley   \n",
       "2016-08-13       2411  Barclays Premier League  Crystal Palace   \n",
       "2016-08-13       2411  Barclays Premier League         Everton   \n",
       "2016-08-13       2411  Barclays Premier League        HullCity   \n",
       "2016-08-13       2411  Barclays Premier League         ManCity   \n",
       "\n",
       "                        team2   spi1   spi2   prob1   prob2  probtie  \\\n",
       "2016-08-13       Swansea City  58.98  59.74  0.4482  0.2663   0.2854   \n",
       "2016-08-13           WestBrom  55.19  58.66  0.4214  0.2939   0.2847   \n",
       "2016-08-13  Tottenham Hotspur  68.02  73.25  0.3910  0.3401   0.2689   \n",
       "2016-08-13     Leicester City  53.57  66.81  0.3459  0.3621   0.2921   \n",
       "2016-08-13         Sunderland  86.42  53.64  0.8152  0.0525   0.1323   \n",
       "\n",
       "            proj_score1     ...      importance1  importance2  score1  score2  \\\n",
       "2016-08-13         1.37     ...             36.5         29.1     0.0     1.0   \n",
       "2016-08-13         1.35     ...             43.6         34.6     0.0     1.0   \n",
       "2016-08-13         1.47     ...             31.9         48.0     1.0     1.0   \n",
       "2016-08-13         1.16     ...             38.1         22.2     2.0     1.0   \n",
       "2016-08-13         2.69     ...             73.0         27.0     2.0     1.0   \n",
       "\n",
       "             xg1   xg2  nsxg1  nsxg2  adj_score1  adj_score2  \n",
       "2016-08-13  1.24  1.84   1.71   1.56        0.00        1.05  \n",
       "2016-08-13  1.11  0.68   0.84   1.60        0.00        1.05  \n",
       "2016-08-13  0.73  1.11   0.88   1.81        1.05        1.05  \n",
       "2016-08-13  0.85  2.77   0.17   1.25        2.10        1.05  \n",
       "2016-08-13  2.14  1.25   1.81   0.92        2.10        1.05  \n",
       "\n",
       "[5 rows x 21 columns]"
      ]
     },
     "execution_count": 47,
     "metadata": {},
     "output_type": "execute_result"
    }
   ],
   "source": [
    "epl.head()"
   ]
  },
  {
   "cell_type": "code",
   "execution_count": 48,
   "metadata": {
    "ExecuteTime": {
     "end_time": "2019-09-24T19:20:12.966592Z",
     "start_time": "2019-09-24T19:20:12.960590Z"
    }
   },
   "outputs": [
    {
     "data": {
      "text/plain": [
       "array(['Burnley', 'Crystal Palace', 'Everton', 'HullCity', 'ManCity',\n",
       "       'Middlesbrough', 'Southampton', 'Arsenal', 'Bournemouth',\n",
       "       'Chelsea', 'ManUtd', 'Leicester City', 'Stoke City',\n",
       "       'Swansea City', 'Tottenham Hotspur', 'Watford', 'WestBrom',\n",
       "       'Sunderland', 'WestHam', 'Liverpool', 'Brighton and Hove Albion',\n",
       "       'Newcastle', 'Huddersfield Town', 'Fulham', 'Wolverhampton',\n",
       "       'Cardiff City'], dtype=object)"
      ]
     },
     "execution_count": 48,
     "metadata": {},
     "output_type": "execute_result"
    }
   ],
   "source": [
    "epl.team1.unique()"
   ]
  },
  {
   "cell_type": "code",
   "execution_count": 656,
   "metadata": {
    "ExecuteTime": {
     "end_time": "2019-09-11T17:31:49.498059Z",
     "start_time": "2019-09-11T17:31:49.124918Z"
    }
   },
   "outputs": [
    {
     "data": {
      "text/plain": [
       "<matplotlib.axes._subplots.AxesSubplot at 0x1a1bf0d588>"
      ]
     },
     "execution_count": 656,
     "metadata": {},
     "output_type": "execute_result"
    },
    {
     "data": {
      "image/png": "[encoded data removed]",
      "text/plain": [
       "<Figure size 432x288 with 1 Axes>"
      ]
     },
     "metadata": {
      "image/png": {
       "height": 256,
       "width": 411
      },
      "needs_background": "light"
     },
     "output_type": "display_data"
    }
   ],
   "source": [
    "epl[epl['team1'] == 'Liverpool'].xg1.plot(kind='hist')\n",
    "epl[epl['team1'] == 'Liverpool'].score1.plot(kind='hist', alpha=0.8)"
   ]
  },
  {
   "cell_type": "code",
   "execution_count": 655,
   "metadata": {
    "ExecuteTime": {
     "end_time": "2019-09-11T17:31:41.145067Z",
     "start_time": "2019-09-11T17:31:40.776450Z"
    }
   },
   "outputs": [
    {
     "data": {
      "text/plain": [
       "<matplotlib.axes._subplots.AxesSubplot at 0x1a1be3da58>"
      ]
     },
     "execution_count": 655,
     "metadata": {},
     "output_type": "execute_result"
    },
    {
     "data": {
      "image/png": "[encoded data removed]",
      "text/plain": [
       "<Figure size 432x288 with 1 Axes>"
      ]
     },
     "metadata": {
      "image/png": {
       "height": 256,
       "width": 397
      },
      "needs_background": "light"
     },
     "output_type": "display_data"
    }
   ],
   "source": [
    "epl[epl['team1'] == 'ManCity'].xg1.plot(kind='hist')\n",
    "epl[epl['team1'] == 'ManCity'].score1.plot(kind='hist', alpha=0.8)"
   ]
  },
  {
   "cell_type": "markdown",
   "metadata": {
    "heading_collapsed": true
   },
   "source": [
    "### Football Odds DataFrames"
   ]
  },
  {
   "cell_type": "markdown",
   "metadata": {
    "hidden": true
   },
   "source": [
    "These DataFrames will be the testing of the concept. Predicting the outcome of a football game with a great deal of certainty is an unlikely event. However, predicting the outcome of the game better than the bookies do is a possibility.\n",
    "\n",
    "These dataframes show the bookies odds for the passed three seasons in the Premier League"
   ]
  },
  {
   "cell_type": "code",
   "execution_count": 7,
   "metadata": {
    "ExecuteTime": {
     "end_time": "2019-09-24T19:17:03.479176Z",
     "start_time": "2019-09-24T19:17:03.445074Z"
    },
    "hidden": true
   },
   "outputs": [],
   "source": [
    "football_data_2016 = pd.read_csv('csv/2016_2017.csv')\n",
    "football_data_2017 = pd.read_csv('csv/2017_2018.csv')\n",
    "football_data_2018 = pd.read_csv('csv/2018_2019.csv')"
   ]
  },
  {
   "cell_type": "code",
   "execution_count": 8,
   "metadata": {
    "ExecuteTime": {
     "end_time": "2019-09-24T19:17:04.018104Z",
     "start_time": "2019-09-24T19:17:04.008793Z"
    },
    "hidden": true
   },
   "outputs": [
    {
     "data": {
      "text/plain": [
       "(380, 65)"
      ]
     },
     "execution_count": 8,
     "metadata": {},
     "output_type": "execute_result"
    }
   ],
   "source": [
    "# Checking the shape, there should be 380 values based on a single season\n",
    "\n",
    "football_data_2016.shape"
   ]
  },
  {
   "cell_type": "code",
   "execution_count": 9,
   "metadata": {
    "ExecuteTime": {
     "end_time": "2019-09-24T19:17:04.677520Z",
     "start_time": "2019-09-24T19:17:04.672697Z"
    },
    "hidden": true
   },
   "outputs": [
    {
     "data": {
      "text/plain": [
       "(380, 65)"
      ]
     },
     "execution_count": 9,
     "metadata": {},
     "output_type": "execute_result"
    }
   ],
   "source": [
    "football_data_2017.shape"
   ]
  },
  {
   "cell_type": "code",
   "execution_count": 10,
   "metadata": {
    "ExecuteTime": {
     "end_time": "2019-09-24T19:17:05.182270Z",
     "start_time": "2019-09-24T19:17:05.171914Z"
    },
    "hidden": true
   },
   "outputs": [
    {
     "data": {
      "text/plain": [
       "(380, 62)"
      ]
     },
     "execution_count": 10,
     "metadata": {},
     "output_type": "execute_result"
    }
   ],
   "source": [
    "# There are three less columns in this dataframe, probably going to need to drop these three so I can merge\n",
    "# with the other two\n",
    "\n",
    "football_data_2018.shape"
   ]
  },
  {
   "cell_type": "code",
   "execution_count": 11,
   "metadata": {
    "ExecuteTime": {
     "end_time": "2019-09-24T19:17:06.787371Z",
     "start_time": "2019-09-24T19:17:06.750392Z"
    },
    "hidden": true
   },
   "outputs": [
    {
     "data": {
      "text/html": [
       "<div>\n",
       "<style scoped>\n",
       "    .dataframe tbody tr th:only-of-type {\n",
       "        vertical-align: middle;\n",
       "    }\n",
       "\n",
       "    .dataframe tbody tr th {\n",
       "        vertical-align: top;\n",
       "    }\n",
       "\n",
       "    .dataframe thead th {\n",
       "        text-align: right;\n",
       "    }\n",
       "</style>\n",
       "<table border=\"1\" class=\"dataframe\">\n",
       "  <thead>\n",
       "    <tr style=\"text-align: right;\">\n",
       "      <th></th>\n",
       "      <th>Div</th>\n",
       "      <th>Date</th>\n",
       "      <th>HomeTeam</th>\n",
       "      <th>AwayTeam</th>\n",
       "      <th>FTHG</th>\n",
       "      <th>FTAG</th>\n",
       "      <th>FTR</th>\n",
       "      <th>HTHG</th>\n",
       "      <th>HTAG</th>\n",
       "      <th>HTR</th>\n",
       "      <th>...</th>\n",
       "      <th>BbAv&lt;2.5</th>\n",
       "      <th>BbAH</th>\n",
       "      <th>BbAHh</th>\n",
       "      <th>BbMxAHH</th>\n",
       "      <th>BbAvAHH</th>\n",
       "      <th>BbMxAHA</th>\n",
       "      <th>BbAvAHA</th>\n",
       "      <th>PSCH</th>\n",
       "      <th>PSCD</th>\n",
       "      <th>PSCA</th>\n",
       "    </tr>\n",
       "  </thead>\n",
       "  <tbody>\n",
       "    <tr>\n",
       "      <th>0</th>\n",
       "      <td>E0</td>\n",
       "      <td>10/08/2018</td>\n",
       "      <td>Man United</td>\n",
       "      <td>Leicester</td>\n",
       "      <td>2</td>\n",
       "      <td>1</td>\n",
       "      <td>H</td>\n",
       "      <td>1</td>\n",
       "      <td>0</td>\n",
       "      <td>H</td>\n",
       "      <td>...</td>\n",
       "      <td>1.79</td>\n",
       "      <td>17</td>\n",
       "      <td>-0.75</td>\n",
       "      <td>1.75</td>\n",
       "      <td>1.70</td>\n",
       "      <td>2.29</td>\n",
       "      <td>2.21</td>\n",
       "      <td>1.55</td>\n",
       "      <td>4.07</td>\n",
       "      <td>7.69</td>\n",
       "    </tr>\n",
       "    <tr>\n",
       "      <th>1</th>\n",
       "      <td>E0</td>\n",
       "      <td>11/08/2018</td>\n",
       "      <td>Bournemouth</td>\n",
       "      <td>Cardiff</td>\n",
       "      <td>2</td>\n",
       "      <td>0</td>\n",
       "      <td>H</td>\n",
       "      <td>1</td>\n",
       "      <td>0</td>\n",
       "      <td>H</td>\n",
       "      <td>...</td>\n",
       "      <td>1.83</td>\n",
       "      <td>20</td>\n",
       "      <td>-0.75</td>\n",
       "      <td>2.20</td>\n",
       "      <td>2.13</td>\n",
       "      <td>1.80</td>\n",
       "      <td>1.75</td>\n",
       "      <td>1.88</td>\n",
       "      <td>3.61</td>\n",
       "      <td>4.70</td>\n",
       "    </tr>\n",
       "    <tr>\n",
       "      <th>2</th>\n",
       "      <td>E0</td>\n",
       "      <td>11/08/2018</td>\n",
       "      <td>Fulham</td>\n",
       "      <td>Crystal Palace</td>\n",
       "      <td>0</td>\n",
       "      <td>2</td>\n",
       "      <td>A</td>\n",
       "      <td>0</td>\n",
       "      <td>1</td>\n",
       "      <td>A</td>\n",
       "      <td>...</td>\n",
       "      <td>1.87</td>\n",
       "      <td>22</td>\n",
       "      <td>-0.25</td>\n",
       "      <td>2.18</td>\n",
       "      <td>2.11</td>\n",
       "      <td>1.81</td>\n",
       "      <td>1.77</td>\n",
       "      <td>2.62</td>\n",
       "      <td>3.38</td>\n",
       "      <td>2.90</td>\n",
       "    </tr>\n",
       "    <tr>\n",
       "      <th>3</th>\n",
       "      <td>E0</td>\n",
       "      <td>11/08/2018</td>\n",
       "      <td>Huddersfield</td>\n",
       "      <td>Chelsea</td>\n",
       "      <td>0</td>\n",
       "      <td>3</td>\n",
       "      <td>A</td>\n",
       "      <td>0</td>\n",
       "      <td>2</td>\n",
       "      <td>A</td>\n",
       "      <td>...</td>\n",
       "      <td>1.84</td>\n",
       "      <td>23</td>\n",
       "      <td>1.00</td>\n",
       "      <td>1.84</td>\n",
       "      <td>1.80</td>\n",
       "      <td>2.13</td>\n",
       "      <td>2.06</td>\n",
       "      <td>7.24</td>\n",
       "      <td>3.95</td>\n",
       "      <td>1.58</td>\n",
       "    </tr>\n",
       "    <tr>\n",
       "      <th>4</th>\n",
       "      <td>E0</td>\n",
       "      <td>11/08/2018</td>\n",
       "      <td>Newcastle</td>\n",
       "      <td>Tottenham</td>\n",
       "      <td>1</td>\n",
       "      <td>2</td>\n",
       "      <td>A</td>\n",
       "      <td>1</td>\n",
       "      <td>2</td>\n",
       "      <td>A</td>\n",
       "      <td>...</td>\n",
       "      <td>1.81</td>\n",
       "      <td>20</td>\n",
       "      <td>0.25</td>\n",
       "      <td>2.20</td>\n",
       "      <td>2.12</td>\n",
       "      <td>1.80</td>\n",
       "      <td>1.76</td>\n",
       "      <td>4.74</td>\n",
       "      <td>3.53</td>\n",
       "      <td>1.89</td>\n",
       "    </tr>\n",
       "  </tbody>\n",
       "</table>\n",
       "<p>5 rows × 62 columns</p>\n",
       "</div>"
      ],
      "text/plain": [
       "  Div        Date      HomeTeam        AwayTeam  FTHG  FTAG FTR  HTHG  HTAG  \\\n",
       "0  E0  10/08/2018    Man United       Leicester     2     1   H     1     0   \n",
       "1  E0  11/08/2018   Bournemouth         Cardiff     2     0   H     1     0   \n",
       "2  E0  11/08/2018        Fulham  Crystal Palace     0     2   A     0     1   \n",
       "3  E0  11/08/2018  Huddersfield         Chelsea     0     3   A     0     2   \n",
       "4  E0  11/08/2018     Newcastle       Tottenham     1     2   A     1     2   \n",
       "\n",
       "  HTR  ...  BbAv<2.5  BbAH  BbAHh  BbMxAHH  BbAvAHH  BbMxAHA  BbAvAHA  PSCH  \\\n",
       "0   H  ...      1.79    17  -0.75     1.75     1.70     2.29     2.21  1.55   \n",
       "1   H  ...      1.83    20  -0.75     2.20     2.13     1.80     1.75  1.88   \n",
       "2   A  ...      1.87    22  -0.25     2.18     2.11     1.81     1.77  2.62   \n",
       "3   A  ...      1.84    23   1.00     1.84     1.80     2.13     2.06  7.24   \n",
       "4   A  ...      1.81    20   0.25     2.20     2.12     1.80     1.76  4.74   \n",
       "\n",
       "   PSCD  PSCA  \n",
       "0  4.07  7.69  \n",
       "1  3.61  4.70  \n",
       "2  3.38  2.90  \n",
       "3  3.95  1.58  \n",
       "4  3.53  1.89  \n",
       "\n",
       "[5 rows x 62 columns]"
      ]
     },
     "execution_count": 11,
     "metadata": {},
     "output_type": "execute_result"
    }
   ],
   "source": [
    "# How does it look\n",
    "\n",
    "football_data_2018.head()"
   ]
  },
  {
   "cell_type": "markdown",
   "metadata": {
    "hidden": true
   },
   "source": [
    "<b>It turns out that this dataframe has more variables than I thought it would. I'll use this one as my main dataframe and append the others to this.</b>"
   ]
  },
  {
   "cell_type": "code",
   "execution_count": 12,
   "metadata": {
    "ExecuteTime": {
     "end_time": "2019-09-24T19:17:08.099908Z",
     "start_time": "2019-09-24T19:17:08.090916Z"
    },
    "hidden": true
   },
   "outputs": [
    {
     "data": {
      "text/plain": [
       "['Div',\n",
       " 'Date',\n",
       " 'HomeTeam',\n",
       " 'AwayTeam',\n",
       " 'FTHG',\n",
       " 'FTAG',\n",
       " 'FTR',\n",
       " 'HTHG',\n",
       " 'HTAG',\n",
       " 'HTR',\n",
       " 'Referee',\n",
       " 'HS',\n",
       " 'AS',\n",
       " 'HST',\n",
       " 'AST',\n",
       " 'HF',\n",
       " 'AF',\n",
       " 'HC',\n",
       " 'AC',\n",
       " 'HY',\n",
       " 'AY',\n",
       " 'HR',\n",
       " 'AR',\n",
       " 'B365H',\n",
       " 'B365D',\n",
       " 'B365A',\n",
       " 'BWH',\n",
       " 'BWD',\n",
       " 'BWA',\n",
       " 'IWH',\n",
       " 'IWD',\n",
       " 'IWA',\n",
       " nan,\n",
       " nan,\n",
       " nan,\n",
       " nan,\n",
       " nan,\n",
       " nan,\n",
       " nan,\n",
       " nan,\n",
       " nan,\n",
       " nan,\n",
       " nan,\n",
       " nan,\n",
       " nan,\n",
       " nan,\n",
       " nan,\n",
       " nan,\n",
       " nan,\n",
       " nan,\n",
       " nan,\n",
       " nan,\n",
       " nan,\n",
       " nan,\n",
       " nan,\n",
       " nan,\n",
       " nan,\n",
       " nan,\n",
       " nan,\n",
       " nan,\n",
       " nan,\n",
       " nan]"
      ]
     },
     "execution_count": 12,
     "metadata": {},
     "output_type": "execute_result"
    }
   ],
   "source": [
    "# a dirty list comprehension to see where the df's stop lining up\n",
    "\n",
    "[n if n==i else np.nan for i,n in zip(football_data_2017.columns, football_data_2018.columns)]"
   ]
  },
  {
   "cell_type": "code",
   "execution_count": 13,
   "metadata": {
    "ExecuteTime": {
     "end_time": "2019-09-24T19:17:11.149058Z",
     "start_time": "2019-09-24T19:17:11.144036Z"
    },
    "hidden": true
   },
   "outputs": [],
   "source": [
    "# It looks like the missing columns occur just after 'IWA' - let's eyeball the three df's columns"
   ]
  },
  {
   "cell_type": "code",
   "execution_count": 14,
   "metadata": {
    "ExecuteTime": {
     "end_time": "2019-09-24T19:17:11.684052Z",
     "start_time": "2019-09-24T19:17:11.675252Z"
    },
    "hidden": true
   },
   "outputs": [
    {
     "data": {
      "text/plain": [
       "Index(['Div', 'Date', 'HomeTeam', 'AwayTeam', 'FTHG', 'FTAG', 'FTR', 'HTHG',\n",
       "       'HTAG', 'HTR', 'Referee', 'HS', 'AS', 'HST', 'AST', 'HF', 'AF', 'HC',\n",
       "       'AC', 'HY', 'AY', 'HR', 'AR', 'B365H', 'B365D', 'B365A', 'BWH', 'BWD',\n",
       "       'BWA', 'IWH', 'IWD', 'IWA', 'LBH', 'LBD', 'LBA', 'PSH', 'PSD', 'PSA',\n",
       "       'WHH', 'WHD', 'WHA', 'VCH', 'VCD', 'VCA', 'Bb1X2', 'BbMxH', 'BbAvH',\n",
       "       'BbMxD', 'BbAvD', 'BbMxA', 'BbAvA', 'BbOU', 'BbMx>2.5', 'BbAv>2.5',\n",
       "       'BbMx<2.5', 'BbAv<2.5', 'BbAH', 'BbAHh', 'BbMxAHH', 'BbAvAHH',\n",
       "       'BbMxAHA', 'BbAvAHA', 'PSCH', 'PSCD', 'PSCA'],\n",
       "      dtype='object')"
      ]
     },
     "execution_count": 14,
     "metadata": {},
     "output_type": "execute_result"
    }
   ],
   "source": [
    "football_data_2016.columns"
   ]
  },
  {
   "cell_type": "code",
   "execution_count": 15,
   "metadata": {
    "ExecuteTime": {
     "end_time": "2019-09-24T19:17:12.076423Z",
     "start_time": "2019-09-24T19:17:12.070247Z"
    },
    "hidden": true
   },
   "outputs": [
    {
     "data": {
      "text/plain": [
       "Index(['Div', 'Date', 'HomeTeam', 'AwayTeam', 'FTHG', 'FTAG', 'FTR', 'HTHG',\n",
       "       'HTAG', 'HTR', 'Referee', 'HS', 'AS', 'HST', 'AST', 'HF', 'AF', 'HC',\n",
       "       'AC', 'HY', 'AY', 'HR', 'AR', 'B365H', 'B365D', 'B365A', 'BWH', 'BWD',\n",
       "       'BWA', 'IWH', 'IWD', 'IWA', 'LBH', 'LBD', 'LBA', 'PSH', 'PSD', 'PSA',\n",
       "       'WHH', 'WHD', 'WHA', 'VCH', 'VCD', 'VCA', 'Bb1X2', 'BbMxH', 'BbAvH',\n",
       "       'BbMxD', 'BbAvD', 'BbMxA', 'BbAvA', 'BbOU', 'BbMx>2.5', 'BbAv>2.5',\n",
       "       'BbMx<2.5', 'BbAv<2.5', 'BbAH', 'BbAHh', 'BbMxAHH', 'BbAvAHH',\n",
       "       'BbMxAHA', 'BbAvAHA', 'PSCH', 'PSCD', 'PSCA'],\n",
       "      dtype='object')"
      ]
     },
     "execution_count": 15,
     "metadata": {},
     "output_type": "execute_result"
    }
   ],
   "source": [
    "football_data_2017.columns"
   ]
  },
  {
   "cell_type": "code",
   "execution_count": 16,
   "metadata": {
    "ExecuteTime": {
     "end_time": "2019-09-24T19:17:12.576174Z",
     "start_time": "2019-09-24T19:17:12.568941Z"
    },
    "hidden": true
   },
   "outputs": [
    {
     "data": {
      "text/plain": [
       "Index(['Div', 'Date', 'HomeTeam', 'AwayTeam', 'FTHG', 'FTAG', 'FTR', 'HTHG',\n",
       "       'HTAG', 'HTR', 'Referee', 'HS', 'AS', 'HST', 'AST', 'HF', 'AF', 'HC',\n",
       "       'AC', 'HY', 'AY', 'HR', 'AR', 'B365H', 'B365D', 'B365A', 'BWH', 'BWD',\n",
       "       'BWA', 'IWH', 'IWD', 'IWA', 'PSH', 'PSD', 'PSA', 'WHH', 'WHD', 'WHA',\n",
       "       'VCH', 'VCD', 'VCA', 'Bb1X2', 'BbMxH', 'BbAvH', 'BbMxD', 'BbAvD',\n",
       "       'BbMxA', 'BbAvA', 'BbOU', 'BbMx>2.5', 'BbAv>2.5', 'BbMx<2.5',\n",
       "       'BbAv<2.5', 'BbAH', 'BbAHh', 'BbMxAHH', 'BbAvAHH', 'BbMxAHA', 'BbAvAHA',\n",
       "       'PSCH', 'PSCD', 'PSCA'],\n",
       "      dtype='object')"
      ]
     },
     "execution_count": 16,
     "metadata": {},
     "output_type": "execute_result"
    }
   ],
   "source": [
    "football_data_2018.columns"
   ]
  },
  {
   "cell_type": "code",
   "execution_count": 17,
   "metadata": {
    "ExecuteTime": {
     "end_time": "2019-09-24T19:17:13.005020Z",
     "start_time": "2019-09-24T19:17:13.000720Z"
    },
    "hidden": true
   },
   "outputs": [],
   "source": [
    "# Yes, just after IWA, 2016 and 2017 have three values that don't appear in 2018. I'll just drop those\n",
    "# as I have enough betting companies anyway"
   ]
  },
  {
   "cell_type": "code",
   "execution_count": 18,
   "metadata": {
    "ExecuteTime": {
     "end_time": "2019-09-24T19:17:14.342172Z",
     "start_time": "2019-09-24T19:17:14.333083Z"
    },
    "hidden": true
   },
   "outputs": [],
   "source": [
    "football_data_2016.drop(columns=['LBH', 'LBD', 'LBA'], inplace=True)\n",
    "football_data_2017.drop(columns=['LBH', 'LBD', 'LBA'], inplace=True)"
   ]
  },
  {
   "cell_type": "code",
   "execution_count": 19,
   "metadata": {
    "ExecuteTime": {
     "end_time": "2019-09-24T19:17:14.673304Z",
     "start_time": "2019-09-24T19:17:14.670133Z"
    },
    "hidden": true
   },
   "outputs": [],
   "source": [
    "# Create a list of the df's to merge them\n",
    "\n",
    "frames = [football_data_2016, football_data_2017, football_data_2018]"
   ]
  },
  {
   "cell_type": "code",
   "execution_count": 20,
   "metadata": {
    "ExecuteTime": {
     "end_time": "2019-09-24T19:17:15.168616Z",
     "start_time": "2019-09-24T19:17:15.158754Z"
    },
    "hidden": true
   },
   "outputs": [],
   "source": [
    "# aaaaaaaand concat!\n",
    "football_all = pd.concat(frames)"
   ]
  },
  {
   "cell_type": "code",
   "execution_count": 21,
   "metadata": {
    "ExecuteTime": {
     "end_time": "2019-09-24T19:17:15.478443Z",
     "start_time": "2019-09-24T19:17:15.470322Z"
    },
    "hidden": true
   },
   "outputs": [
    {
     "data": {
      "text/plain": [
       "(1140, 62)"
      ]
     },
     "execution_count": 21,
     "metadata": {},
     "output_type": "execute_result"
    }
   ],
   "source": [
    "# Just checking....\n",
    "\n",
    "football_all.shape"
   ]
  },
  {
   "cell_type": "code",
   "execution_count": 22,
   "metadata": {
    "ExecuteTime": {
     "end_time": "2019-09-24T19:17:15.782036Z",
     "start_time": "2019-09-24T19:17:15.754965Z"
    },
    "hidden": true
   },
   "outputs": [
    {
     "data": {
      "text/html": [
       "<div>\n",
       "<style scoped>\n",
       "    .dataframe tbody tr th:only-of-type {\n",
       "        vertical-align: middle;\n",
       "    }\n",
       "\n",
       "    .dataframe tbody tr th {\n",
       "        vertical-align: top;\n",
       "    }\n",
       "\n",
       "    .dataframe thead th {\n",
       "        text-align: right;\n",
       "    }\n",
       "</style>\n",
       "<table border=\"1\" class=\"dataframe\">\n",
       "  <thead>\n",
       "    <tr style=\"text-align: right;\">\n",
       "      <th></th>\n",
       "      <th>Div</th>\n",
       "      <th>Date</th>\n",
       "      <th>HomeTeam</th>\n",
       "      <th>AwayTeam</th>\n",
       "      <th>FTHG</th>\n",
       "      <th>FTAG</th>\n",
       "      <th>FTR</th>\n",
       "      <th>HTHG</th>\n",
       "      <th>HTAG</th>\n",
       "      <th>HTR</th>\n",
       "      <th>...</th>\n",
       "      <th>BbAv&lt;2.5</th>\n",
       "      <th>BbAH</th>\n",
       "      <th>BbAHh</th>\n",
       "      <th>BbMxAHH</th>\n",
       "      <th>BbAvAHH</th>\n",
       "      <th>BbMxAHA</th>\n",
       "      <th>BbAvAHA</th>\n",
       "      <th>PSCH</th>\n",
       "      <th>PSCD</th>\n",
       "      <th>PSCA</th>\n",
       "    </tr>\n",
       "  </thead>\n",
       "  <tbody>\n",
       "    <tr>\n",
       "      <th>0</th>\n",
       "      <td>E0</td>\n",
       "      <td>13/08/2016</td>\n",
       "      <td>Burnley</td>\n",
       "      <td>Swansea</td>\n",
       "      <td>0</td>\n",
       "      <td>1</td>\n",
       "      <td>A</td>\n",
       "      <td>0</td>\n",
       "      <td>0</td>\n",
       "      <td>D</td>\n",
       "      <td>...</td>\n",
       "      <td>1.61</td>\n",
       "      <td>32</td>\n",
       "      <td>-0.25</td>\n",
       "      <td>2.13</td>\n",
       "      <td>2.06</td>\n",
       "      <td>1.86</td>\n",
       "      <td>1.81</td>\n",
       "      <td>2.79</td>\n",
       "      <td>3.16</td>\n",
       "      <td>2.89</td>\n",
       "    </tr>\n",
       "    <tr>\n",
       "      <th>1</th>\n",
       "      <td>E0</td>\n",
       "      <td>13/08/2016</td>\n",
       "      <td>Crystal Palace</td>\n",
       "      <td>West Brom</td>\n",
       "      <td>0</td>\n",
       "      <td>1</td>\n",
       "      <td>A</td>\n",
       "      <td>0</td>\n",
       "      <td>0</td>\n",
       "      <td>D</td>\n",
       "      <td>...</td>\n",
       "      <td>1.52</td>\n",
       "      <td>33</td>\n",
       "      <td>-0.50</td>\n",
       "      <td>2.07</td>\n",
       "      <td>2.00</td>\n",
       "      <td>1.90</td>\n",
       "      <td>1.85</td>\n",
       "      <td>2.25</td>\n",
       "      <td>3.15</td>\n",
       "      <td>3.86</td>\n",
       "    </tr>\n",
       "    <tr>\n",
       "      <th>2</th>\n",
       "      <td>E0</td>\n",
       "      <td>13/08/2016</td>\n",
       "      <td>Everton</td>\n",
       "      <td>Tottenham</td>\n",
       "      <td>1</td>\n",
       "      <td>1</td>\n",
       "      <td>D</td>\n",
       "      <td>1</td>\n",
       "      <td>0</td>\n",
       "      <td>H</td>\n",
       "      <td>...</td>\n",
       "      <td>1.77</td>\n",
       "      <td>32</td>\n",
       "      <td>0.25</td>\n",
       "      <td>1.91</td>\n",
       "      <td>1.85</td>\n",
       "      <td>2.09</td>\n",
       "      <td>2.00</td>\n",
       "      <td>3.64</td>\n",
       "      <td>3.54</td>\n",
       "      <td>2.16</td>\n",
       "    </tr>\n",
       "    <tr>\n",
       "      <th>3</th>\n",
       "      <td>E0</td>\n",
       "      <td>13/08/2016</td>\n",
       "      <td>Hull</td>\n",
       "      <td>Leicester</td>\n",
       "      <td>2</td>\n",
       "      <td>1</td>\n",
       "      <td>H</td>\n",
       "      <td>1</td>\n",
       "      <td>0</td>\n",
       "      <td>H</td>\n",
       "      <td>...</td>\n",
       "      <td>1.67</td>\n",
       "      <td>31</td>\n",
       "      <td>0.25</td>\n",
       "      <td>2.35</td>\n",
       "      <td>2.26</td>\n",
       "      <td>2.03</td>\n",
       "      <td>1.67</td>\n",
       "      <td>4.68</td>\n",
       "      <td>3.50</td>\n",
       "      <td>1.92</td>\n",
       "    </tr>\n",
       "    <tr>\n",
       "      <th>4</th>\n",
       "      <td>E0</td>\n",
       "      <td>13/08/2016</td>\n",
       "      <td>Man City</td>\n",
       "      <td>Sunderland</td>\n",
       "      <td>2</td>\n",
       "      <td>1</td>\n",
       "      <td>H</td>\n",
       "      <td>1</td>\n",
       "      <td>0</td>\n",
       "      <td>H</td>\n",
       "      <td>...</td>\n",
       "      <td>2.48</td>\n",
       "      <td>34</td>\n",
       "      <td>-1.50</td>\n",
       "      <td>1.81</td>\n",
       "      <td>1.73</td>\n",
       "      <td>2.20</td>\n",
       "      <td>2.14</td>\n",
       "      <td>1.25</td>\n",
       "      <td>6.50</td>\n",
       "      <td>14.50</td>\n",
       "    </tr>\n",
       "  </tbody>\n",
       "</table>\n",
       "<p>5 rows × 62 columns</p>\n",
       "</div>"
      ],
      "text/plain": [
       "  Div        Date        HomeTeam    AwayTeam  FTHG  FTAG FTR  HTHG  HTAG HTR  \\\n",
       "0  E0  13/08/2016         Burnley     Swansea     0     1   A     0     0   D   \n",
       "1  E0  13/08/2016  Crystal Palace   West Brom     0     1   A     0     0   D   \n",
       "2  E0  13/08/2016         Everton   Tottenham     1     1   D     1     0   H   \n",
       "3  E0  13/08/2016            Hull   Leicester     2     1   H     1     0   H   \n",
       "4  E0  13/08/2016        Man City  Sunderland     2     1   H     1     0   H   \n",
       "\n",
       "   ...   BbAv<2.5  BbAH  BbAHh  BbMxAHH  BbAvAHH  BbMxAHA  BbAvAHA  PSCH  \\\n",
       "0  ...       1.61    32  -0.25     2.13     2.06     1.86     1.81  2.79   \n",
       "1  ...       1.52    33  -0.50     2.07     2.00     1.90     1.85  2.25   \n",
       "2  ...       1.77    32   0.25     1.91     1.85     2.09     2.00  3.64   \n",
       "3  ...       1.67    31   0.25     2.35     2.26     2.03     1.67  4.68   \n",
       "4  ...       2.48    34  -1.50     1.81     1.73     2.20     2.14  1.25   \n",
       "\n",
       "   PSCD   PSCA  \n",
       "0  3.16   2.89  \n",
       "1  3.15   3.86  \n",
       "2  3.54   2.16  \n",
       "3  3.50   1.92  \n",
       "4  6.50  14.50  \n",
       "\n",
       "[5 rows x 62 columns]"
      ]
     },
     "execution_count": 22,
     "metadata": {},
     "output_type": "execute_result"
    }
   ],
   "source": [
    "football_all.head()"
   ]
  },
  {
   "cell_type": "code",
   "execution_count": 23,
   "metadata": {
    "ExecuteTime": {
     "end_time": "2019-09-24T19:17:16.150505Z",
     "start_time": "2019-09-24T19:17:16.137572Z"
    },
    "hidden": true
   },
   "outputs": [],
   "source": [
    "# convert date to datetime format\n",
    "\n",
    "football_all['date'] = pd.to_datetime(football_all['Date'], format='%d/%m/%Y')"
   ]
  },
  {
   "cell_type": "code",
   "execution_count": 24,
   "metadata": {
    "ExecuteTime": {
     "end_time": "2019-09-24T19:17:17.536149Z",
     "start_time": "2019-09-24T19:17:17.529260Z"
    },
    "hidden": true
   },
   "outputs": [],
   "source": [
    "# make it the index\n",
    "\n",
    "football_all.set_index('date', inplace=True, drop=True)"
   ]
  },
  {
   "cell_type": "code",
   "execution_count": 25,
   "metadata": {
    "ExecuteTime": {
     "end_time": "2019-09-24T19:17:17.929323Z",
     "start_time": "2019-09-24T19:17:17.926630Z"
    },
    "hidden": true
   },
   "outputs": [],
   "source": [
    "# give the index a name so I can sort it by index and home team\n",
    "\n",
    "football_all.index.name = 'date'"
   ]
  },
  {
   "cell_type": "code",
   "execution_count": 26,
   "metadata": {
    "ExecuteTime": {
     "end_time": "2019-09-24T19:17:18.333113Z",
     "start_time": "2019-09-24T19:17:18.320776Z"
    },
    "hidden": true
   },
   "outputs": [],
   "source": [
    "football_all = football_all.sort_values(by = ['date', 'HomeTeam'], ascending = True)"
   ]
  },
  {
   "cell_type": "code",
   "execution_count": 27,
   "metadata": {
    "ExecuteTime": {
     "end_time": "2019-09-24T19:17:18.676209Z",
     "start_time": "2019-09-24T19:17:18.647122Z"
    },
    "hidden": true
   },
   "outputs": [
    {
     "data": {
      "text/html": [
       "<div>\n",
       "<style scoped>\n",
       "    .dataframe tbody tr th:only-of-type {\n",
       "        vertical-align: middle;\n",
       "    }\n",
       "\n",
       "    .dataframe tbody tr th {\n",
       "        vertical-align: top;\n",
       "    }\n",
       "\n",
       "    .dataframe thead th {\n",
       "        text-align: right;\n",
       "    }\n",
       "</style>\n",
       "<table border=\"1\" class=\"dataframe\">\n",
       "  <thead>\n",
       "    <tr style=\"text-align: right;\">\n",
       "      <th></th>\n",
       "      <th>Div</th>\n",
       "      <th>Date</th>\n",
       "      <th>HomeTeam</th>\n",
       "      <th>AwayTeam</th>\n",
       "      <th>FTHG</th>\n",
       "      <th>FTAG</th>\n",
       "      <th>FTR</th>\n",
       "      <th>HTHG</th>\n",
       "      <th>HTAG</th>\n",
       "      <th>HTR</th>\n",
       "      <th>...</th>\n",
       "      <th>BbAv&lt;2.5</th>\n",
       "      <th>BbAH</th>\n",
       "      <th>BbAHh</th>\n",
       "      <th>BbMxAHH</th>\n",
       "      <th>BbAvAHH</th>\n",
       "      <th>BbMxAHA</th>\n",
       "      <th>BbAvAHA</th>\n",
       "      <th>PSCH</th>\n",
       "      <th>PSCD</th>\n",
       "      <th>PSCA</th>\n",
       "    </tr>\n",
       "    <tr>\n",
       "      <th>date</th>\n",
       "      <th></th>\n",
       "      <th></th>\n",
       "      <th></th>\n",
       "      <th></th>\n",
       "      <th></th>\n",
       "      <th></th>\n",
       "      <th></th>\n",
       "      <th></th>\n",
       "      <th></th>\n",
       "      <th></th>\n",
       "      <th></th>\n",
       "      <th></th>\n",
       "      <th></th>\n",
       "      <th></th>\n",
       "      <th></th>\n",
       "      <th></th>\n",
       "      <th></th>\n",
       "      <th></th>\n",
       "      <th></th>\n",
       "      <th></th>\n",
       "      <th></th>\n",
       "    </tr>\n",
       "  </thead>\n",
       "  <tbody>\n",
       "    <tr>\n",
       "      <th>2016-08-13</th>\n",
       "      <td>E0</td>\n",
       "      <td>13/08/2016</td>\n",
       "      <td>Burnley</td>\n",
       "      <td>Swansea</td>\n",
       "      <td>0</td>\n",
       "      <td>1</td>\n",
       "      <td>A</td>\n",
       "      <td>0</td>\n",
       "      <td>0</td>\n",
       "      <td>D</td>\n",
       "      <td>...</td>\n",
       "      <td>1.61</td>\n",
       "      <td>32</td>\n",
       "      <td>-0.25</td>\n",
       "      <td>2.13</td>\n",
       "      <td>2.06</td>\n",
       "      <td>1.86</td>\n",
       "      <td>1.81</td>\n",
       "      <td>2.79</td>\n",
       "      <td>3.16</td>\n",
       "      <td>2.89</td>\n",
       "    </tr>\n",
       "    <tr>\n",
       "      <th>2016-08-13</th>\n",
       "      <td>E0</td>\n",
       "      <td>13/08/2016</td>\n",
       "      <td>Crystal Palace</td>\n",
       "      <td>West Brom</td>\n",
       "      <td>0</td>\n",
       "      <td>1</td>\n",
       "      <td>A</td>\n",
       "      <td>0</td>\n",
       "      <td>0</td>\n",
       "      <td>D</td>\n",
       "      <td>...</td>\n",
       "      <td>1.52</td>\n",
       "      <td>33</td>\n",
       "      <td>-0.50</td>\n",
       "      <td>2.07</td>\n",
       "      <td>2.00</td>\n",
       "      <td>1.90</td>\n",
       "      <td>1.85</td>\n",
       "      <td>2.25</td>\n",
       "      <td>3.15</td>\n",
       "      <td>3.86</td>\n",
       "    </tr>\n",
       "    <tr>\n",
       "      <th>2016-08-13</th>\n",
       "      <td>E0</td>\n",
       "      <td>13/08/2016</td>\n",
       "      <td>Everton</td>\n",
       "      <td>Tottenham</td>\n",
       "      <td>1</td>\n",
       "      <td>1</td>\n",
       "      <td>D</td>\n",
       "      <td>1</td>\n",
       "      <td>0</td>\n",
       "      <td>H</td>\n",
       "      <td>...</td>\n",
       "      <td>1.77</td>\n",
       "      <td>32</td>\n",
       "      <td>0.25</td>\n",
       "      <td>1.91</td>\n",
       "      <td>1.85</td>\n",
       "      <td>2.09</td>\n",
       "      <td>2.00</td>\n",
       "      <td>3.64</td>\n",
       "      <td>3.54</td>\n",
       "      <td>2.16</td>\n",
       "    </tr>\n",
       "    <tr>\n",
       "      <th>2016-08-13</th>\n",
       "      <td>E0</td>\n",
       "      <td>13/08/2016</td>\n",
       "      <td>Hull</td>\n",
       "      <td>Leicester</td>\n",
       "      <td>2</td>\n",
       "      <td>1</td>\n",
       "      <td>H</td>\n",
       "      <td>1</td>\n",
       "      <td>0</td>\n",
       "      <td>H</td>\n",
       "      <td>...</td>\n",
       "      <td>1.67</td>\n",
       "      <td>31</td>\n",
       "      <td>0.25</td>\n",
       "      <td>2.35</td>\n",
       "      <td>2.26</td>\n",
       "      <td>2.03</td>\n",
       "      <td>1.67</td>\n",
       "      <td>4.68</td>\n",
       "      <td>3.50</td>\n",
       "      <td>1.92</td>\n",
       "    </tr>\n",
       "    <tr>\n",
       "      <th>2016-08-13</th>\n",
       "      <td>E0</td>\n",
       "      <td>13/08/2016</td>\n",
       "      <td>Man City</td>\n",
       "      <td>Sunderland</td>\n",
       "      <td>2</td>\n",
       "      <td>1</td>\n",
       "      <td>H</td>\n",
       "      <td>1</td>\n",
       "      <td>0</td>\n",
       "      <td>H</td>\n",
       "      <td>...</td>\n",
       "      <td>2.48</td>\n",
       "      <td>34</td>\n",
       "      <td>-1.50</td>\n",
       "      <td>1.81</td>\n",
       "      <td>1.73</td>\n",
       "      <td>2.20</td>\n",
       "      <td>2.14</td>\n",
       "      <td>1.25</td>\n",
       "      <td>6.50</td>\n",
       "      <td>14.50</td>\n",
       "    </tr>\n",
       "  </tbody>\n",
       "</table>\n",
       "<p>5 rows × 62 columns</p>\n",
       "</div>"
      ],
      "text/plain": [
       "           Div        Date        HomeTeam    AwayTeam  FTHG  FTAG FTR  HTHG  \\\n",
       "date                                                                           \n",
       "2016-08-13  E0  13/08/2016         Burnley     Swansea     0     1   A     0   \n",
       "2016-08-13  E0  13/08/2016  Crystal Palace   West Brom     0     1   A     0   \n",
       "2016-08-13  E0  13/08/2016         Everton   Tottenham     1     1   D     1   \n",
       "2016-08-13  E0  13/08/2016            Hull   Leicester     2     1   H     1   \n",
       "2016-08-13  E0  13/08/2016        Man City  Sunderland     2     1   H     1   \n",
       "\n",
       "            HTAG HTR  ...   BbAv<2.5  BbAH  BbAHh  BbMxAHH  BbAvAHH  BbMxAHA  \\\n",
       "date                  ...                                                      \n",
       "2016-08-13     0   D  ...       1.61    32  -0.25     2.13     2.06     1.86   \n",
       "2016-08-13     0   D  ...       1.52    33  -0.50     2.07     2.00     1.90   \n",
       "2016-08-13     0   H  ...       1.77    32   0.25     1.91     1.85     2.09   \n",
       "2016-08-13     0   H  ...       1.67    31   0.25     2.35     2.26     2.03   \n",
       "2016-08-13     0   H  ...       2.48    34  -1.50     1.81     1.73     2.20   \n",
       "\n",
       "            BbAvAHA  PSCH  PSCD   PSCA  \n",
       "date                                    \n",
       "2016-08-13     1.81  2.79  3.16   2.89  \n",
       "2016-08-13     1.85  2.25  3.15   3.86  \n",
       "2016-08-13     2.00  3.64  3.54   2.16  \n",
       "2016-08-13     1.67  4.68  3.50   1.92  \n",
       "2016-08-13     2.14  1.25  6.50  14.50  \n",
       "\n",
       "[5 rows x 62 columns]"
      ]
     },
     "execution_count": 27,
     "metadata": {},
     "output_type": "execute_result"
    }
   ],
   "source": [
    "football_all.head()"
   ]
  },
  {
   "cell_type": "code",
   "execution_count": 28,
   "metadata": {
    "ExecuteTime": {
     "end_time": "2019-09-24T19:17:19.054629Z",
     "start_time": "2019-09-24T19:17:19.047049Z"
    },
    "hidden": true
   },
   "outputs": [
    {
     "data": {
      "text/plain": [
       "(1140, 62)"
      ]
     },
     "execution_count": 28,
     "metadata": {},
     "output_type": "execute_result"
    }
   ],
   "source": [
    "football_all.shape"
   ]
  },
  {
   "cell_type": "code",
   "execution_count": 29,
   "metadata": {
    "ExecuteTime": {
     "end_time": "2019-09-24T19:17:20.965113Z",
     "start_time": "2019-09-24T19:17:20.876108Z"
    },
    "hidden": true
   },
   "outputs": [],
   "source": [
    "# save it to csv \n",
    "\n",
    "football_all.to_csv('csv/football_all.csv')"
   ]
  },
  {
   "cell_type": "code",
   "execution_count": 30,
   "metadata": {
    "ExecuteTime": {
     "end_time": "2019-09-24T19:17:23.140217Z",
     "start_time": "2019-09-24T19:17:23.077026Z"
    },
    "hidden": true
   },
   "outputs": [
    {
     "data": {
      "text/html": [
       "<div>\n",
       "<style scoped>\n",
       "    .dataframe tbody tr th:only-of-type {\n",
       "        vertical-align: middle;\n",
       "    }\n",
       "\n",
       "    .dataframe tbody tr th {\n",
       "        vertical-align: top;\n",
       "    }\n",
       "\n",
       "    .dataframe thead th {\n",
       "        text-align: right;\n",
       "    }\n",
       "</style>\n",
       "<table border=\"1\" class=\"dataframe\">\n",
       "  <thead>\n",
       "    <tr style=\"text-align: right;\">\n",
       "      <th></th>\n",
       "      <th>date</th>\n",
       "      <th>Div</th>\n",
       "      <th>Date</th>\n",
       "      <th>HomeTeam</th>\n",
       "      <th>AwayTeam</th>\n",
       "      <th>FTHG</th>\n",
       "      <th>FTAG</th>\n",
       "      <th>FTR</th>\n",
       "      <th>HTHG</th>\n",
       "      <th>HTAG</th>\n",
       "      <th>...</th>\n",
       "      <th>BbAv&lt;2.5</th>\n",
       "      <th>BbAH</th>\n",
       "      <th>BbAHh</th>\n",
       "      <th>BbMxAHH</th>\n",
       "      <th>BbAvAHH</th>\n",
       "      <th>BbMxAHA</th>\n",
       "      <th>BbAvAHA</th>\n",
       "      <th>PSCH</th>\n",
       "      <th>PSCD</th>\n",
       "      <th>PSCA</th>\n",
       "    </tr>\n",
       "  </thead>\n",
       "  <tbody>\n",
       "    <tr>\n",
       "      <th>0</th>\n",
       "      <td>2016-08-13</td>\n",
       "      <td>E0</td>\n",
       "      <td>13/08/2016</td>\n",
       "      <td>Burnley</td>\n",
       "      <td>Swansea</td>\n",
       "      <td>0</td>\n",
       "      <td>1</td>\n",
       "      <td>A</td>\n",
       "      <td>0</td>\n",
       "      <td>0</td>\n",
       "      <td>...</td>\n",
       "      <td>1.61</td>\n",
       "      <td>32</td>\n",
       "      <td>-0.25</td>\n",
       "      <td>2.13</td>\n",
       "      <td>2.06</td>\n",
       "      <td>1.86</td>\n",
       "      <td>1.81</td>\n",
       "      <td>2.79</td>\n",
       "      <td>3.16</td>\n",
       "      <td>2.89</td>\n",
       "    </tr>\n",
       "    <tr>\n",
       "      <th>1</th>\n",
       "      <td>2016-08-13</td>\n",
       "      <td>E0</td>\n",
       "      <td>13/08/2016</td>\n",
       "      <td>Crystal Palace</td>\n",
       "      <td>West Brom</td>\n",
       "      <td>0</td>\n",
       "      <td>1</td>\n",
       "      <td>A</td>\n",
       "      <td>0</td>\n",
       "      <td>0</td>\n",
       "      <td>...</td>\n",
       "      <td>1.52</td>\n",
       "      <td>33</td>\n",
       "      <td>-0.50</td>\n",
       "      <td>2.07</td>\n",
       "      <td>2.00</td>\n",
       "      <td>1.90</td>\n",
       "      <td>1.85</td>\n",
       "      <td>2.25</td>\n",
       "      <td>3.15</td>\n",
       "      <td>3.86</td>\n",
       "    </tr>\n",
       "    <tr>\n",
       "      <th>2</th>\n",
       "      <td>2016-08-13</td>\n",
       "      <td>E0</td>\n",
       "      <td>13/08/2016</td>\n",
       "      <td>Everton</td>\n",
       "      <td>Tottenham</td>\n",
       "      <td>1</td>\n",
       "      <td>1</td>\n",
       "      <td>D</td>\n",
       "      <td>1</td>\n",
       "      <td>0</td>\n",
       "      <td>...</td>\n",
       "      <td>1.77</td>\n",
       "      <td>32</td>\n",
       "      <td>0.25</td>\n",
       "      <td>1.91</td>\n",
       "      <td>1.85</td>\n",
       "      <td>2.09</td>\n",
       "      <td>2.00</td>\n",
       "      <td>3.64</td>\n",
       "      <td>3.54</td>\n",
       "      <td>2.16</td>\n",
       "    </tr>\n",
       "    <tr>\n",
       "      <th>3</th>\n",
       "      <td>2016-08-13</td>\n",
       "      <td>E0</td>\n",
       "      <td>13/08/2016</td>\n",
       "      <td>Hull</td>\n",
       "      <td>Leicester</td>\n",
       "      <td>2</td>\n",
       "      <td>1</td>\n",
       "      <td>H</td>\n",
       "      <td>1</td>\n",
       "      <td>0</td>\n",
       "      <td>...</td>\n",
       "      <td>1.67</td>\n",
       "      <td>31</td>\n",
       "      <td>0.25</td>\n",
       "      <td>2.35</td>\n",
       "      <td>2.26</td>\n",
       "      <td>2.03</td>\n",
       "      <td>1.67</td>\n",
       "      <td>4.68</td>\n",
       "      <td>3.50</td>\n",
       "      <td>1.92</td>\n",
       "    </tr>\n",
       "    <tr>\n",
       "      <th>4</th>\n",
       "      <td>2016-08-13</td>\n",
       "      <td>E0</td>\n",
       "      <td>13/08/2016</td>\n",
       "      <td>Man City</td>\n",
       "      <td>Sunderland</td>\n",
       "      <td>2</td>\n",
       "      <td>1</td>\n",
       "      <td>H</td>\n",
       "      <td>1</td>\n",
       "      <td>0</td>\n",
       "      <td>...</td>\n",
       "      <td>2.48</td>\n",
       "      <td>34</td>\n",
       "      <td>-1.50</td>\n",
       "      <td>1.81</td>\n",
       "      <td>1.73</td>\n",
       "      <td>2.20</td>\n",
       "      <td>2.14</td>\n",
       "      <td>1.25</td>\n",
       "      <td>6.50</td>\n",
       "      <td>14.50</td>\n",
       "    </tr>\n",
       "    <tr>\n",
       "      <th>5</th>\n",
       "      <td>2016-08-13</td>\n",
       "      <td>E0</td>\n",
       "      <td>13/08/2016</td>\n",
       "      <td>Middlesbrough</td>\n",
       "      <td>Stoke</td>\n",
       "      <td>1</td>\n",
       "      <td>1</td>\n",
       "      <td>D</td>\n",
       "      <td>1</td>\n",
       "      <td>0</td>\n",
       "      <td>...</td>\n",
       "      <td>1.53</td>\n",
       "      <td>32</td>\n",
       "      <td>-0.25</td>\n",
       "      <td>1.99</td>\n",
       "      <td>1.93</td>\n",
       "      <td>1.97</td>\n",
       "      <td>1.92</td>\n",
       "      <td>2.20</td>\n",
       "      <td>3.38</td>\n",
       "      <td>3.70</td>\n",
       "    </tr>\n",
       "    <tr>\n",
       "      <th>6</th>\n",
       "      <td>2016-08-13</td>\n",
       "      <td>E0</td>\n",
       "      <td>13/08/2016</td>\n",
       "      <td>Southampton</td>\n",
       "      <td>Watford</td>\n",
       "      <td>1</td>\n",
       "      <td>1</td>\n",
       "      <td>D</td>\n",
       "      <td>0</td>\n",
       "      <td>1</td>\n",
       "      <td>...</td>\n",
       "      <td>1.75</td>\n",
       "      <td>33</td>\n",
       "      <td>-0.75</td>\n",
       "      <td>2.16</td>\n",
       "      <td>2.07</td>\n",
       "      <td>1.89</td>\n",
       "      <td>1.80</td>\n",
       "      <td>1.80</td>\n",
       "      <td>3.83</td>\n",
       "      <td>4.91</td>\n",
       "    </tr>\n",
       "    <tr>\n",
       "      <th>7</th>\n",
       "      <td>2016-08-14</td>\n",
       "      <td>E0</td>\n",
       "      <td>14/08/2016</td>\n",
       "      <td>Arsenal</td>\n",
       "      <td>Liverpool</td>\n",
       "      <td>3</td>\n",
       "      <td>4</td>\n",
       "      <td>A</td>\n",
       "      <td>1</td>\n",
       "      <td>1</td>\n",
       "      <td>...</td>\n",
       "      <td>1.99</td>\n",
       "      <td>31</td>\n",
       "      <td>-0.50</td>\n",
       "      <td>2.41</td>\n",
       "      <td>2.31</td>\n",
       "      <td>1.81</td>\n",
       "      <td>1.64</td>\n",
       "      <td>2.80</td>\n",
       "      <td>3.44</td>\n",
       "      <td>2.68</td>\n",
       "    </tr>\n",
       "    <tr>\n",
       "      <th>8</th>\n",
       "      <td>2016-08-14</td>\n",
       "      <td>E0</td>\n",
       "      <td>14/08/2016</td>\n",
       "      <td>Bournemouth</td>\n",
       "      <td>Man United</td>\n",
       "      <td>1</td>\n",
       "      <td>3</td>\n",
       "      <td>A</td>\n",
       "      <td>0</td>\n",
       "      <td>1</td>\n",
       "      <td>...</td>\n",
       "      <td>1.76</td>\n",
       "      <td>33</td>\n",
       "      <td>0.75</td>\n",
       "      <td>1.80</td>\n",
       "      <td>1.76</td>\n",
       "      <td>2.17</td>\n",
       "      <td>2.11</td>\n",
       "      <td>5.40</td>\n",
       "      <td>3.65</td>\n",
       "      <td>1.78</td>\n",
       "    </tr>\n",
       "    <tr>\n",
       "      <th>9</th>\n",
       "      <td>2016-08-15</td>\n",
       "      <td>E0</td>\n",
       "      <td>15/08/2016</td>\n",
       "      <td>Chelsea</td>\n",
       "      <td>West Ham</td>\n",
       "      <td>2</td>\n",
       "      <td>1</td>\n",
       "      <td>H</td>\n",
       "      <td>0</td>\n",
       "      <td>0</td>\n",
       "      <td>...</td>\n",
       "      <td>2.01</td>\n",
       "      <td>33</td>\n",
       "      <td>-1.00</td>\n",
       "      <td>2.20</td>\n",
       "      <td>2.10</td>\n",
       "      <td>1.80</td>\n",
       "      <td>1.76</td>\n",
       "      <td>1.52</td>\n",
       "      <td>4.38</td>\n",
       "      <td>7.45</td>\n",
       "    </tr>\n",
       "    <tr>\n",
       "      <th>10</th>\n",
       "      <td>2016-08-19</td>\n",
       "      <td>E0</td>\n",
       "      <td>19/08/2016</td>\n",
       "      <td>Man United</td>\n",
       "      <td>Southampton</td>\n",
       "      <td>2</td>\n",
       "      <td>0</td>\n",
       "      <td>H</td>\n",
       "      <td>1</td>\n",
       "      <td>0</td>\n",
       "      <td>...</td>\n",
       "      <td>1.86</td>\n",
       "      <td>37</td>\n",
       "      <td>-1.00</td>\n",
       "      <td>2.01</td>\n",
       "      <td>1.92</td>\n",
       "      <td>2.19</td>\n",
       "      <td>1.94</td>\n",
       "      <td>1.53</td>\n",
       "      <td>4.27</td>\n",
       "      <td>7.44</td>\n",
       "    </tr>\n",
       "    <tr>\n",
       "      <th>11</th>\n",
       "      <td>2016-08-20</td>\n",
       "      <td>E0</td>\n",
       "      <td>20/08/2016</td>\n",
       "      <td>Burnley</td>\n",
       "      <td>Liverpool</td>\n",
       "      <td>2</td>\n",
       "      <td>0</td>\n",
       "      <td>H</td>\n",
       "      <td>2</td>\n",
       "      <td>0</td>\n",
       "      <td>...</td>\n",
       "      <td>1.93</td>\n",
       "      <td>36</td>\n",
       "      <td>1.00</td>\n",
       "      <td>1.98</td>\n",
       "      <td>1.91</td>\n",
       "      <td>2.00</td>\n",
       "      <td>1.94</td>\n",
       "      <td>7.26</td>\n",
       "      <td>4.54</td>\n",
       "      <td>1.51</td>\n",
       "    </tr>\n",
       "    <tr>\n",
       "      <th>12</th>\n",
       "      <td>2016-08-20</td>\n",
       "      <td>E0</td>\n",
       "      <td>20/08/2016</td>\n",
       "      <td>Leicester</td>\n",
       "      <td>Arsenal</td>\n",
       "      <td>0</td>\n",
       "      <td>0</td>\n",
       "      <td>D</td>\n",
       "      <td>0</td>\n",
       "      <td>0</td>\n",
       "      <td>...</td>\n",
       "      <td>2.16</td>\n",
       "      <td>32</td>\n",
       "      <td>0.25</td>\n",
       "      <td>1.83</td>\n",
       "      <td>1.78</td>\n",
       "      <td>2.15</td>\n",
       "      <td>2.10</td>\n",
       "      <td>2.82</td>\n",
       "      <td>3.50</td>\n",
       "      <td>2.63</td>\n",
       "    </tr>\n",
       "    <tr>\n",
       "      <th>13</th>\n",
       "      <td>2016-08-20</td>\n",
       "      <td>E0</td>\n",
       "      <td>20/08/2016</td>\n",
       "      <td>Stoke</td>\n",
       "      <td>Man City</td>\n",
       "      <td>1</td>\n",
       "      <td>4</td>\n",
       "      <td>A</td>\n",
       "      <td>0</td>\n",
       "      <td>2</td>\n",
       "      <td>...</td>\n",
       "      <td>2.05</td>\n",
       "      <td>36</td>\n",
       "      <td>1.00</td>\n",
       "      <td>1.75</td>\n",
       "      <td>1.69</td>\n",
       "      <td>2.33</td>\n",
       "      <td>2.22</td>\n",
       "      <td>6.29</td>\n",
       "      <td>4.34</td>\n",
       "      <td>1.58</td>\n",
       "    </tr>\n",
       "    <tr>\n",
       "      <th>14</th>\n",
       "      <td>2016-08-20</td>\n",
       "      <td>E0</td>\n",
       "      <td>20/08/2016</td>\n",
       "      <td>Swansea</td>\n",
       "      <td>Hull</td>\n",
       "      <td>0</td>\n",
       "      <td>2</td>\n",
       "      <td>A</td>\n",
       "      <td>0</td>\n",
       "      <td>0</td>\n",
       "      <td>...</td>\n",
       "      <td>1.64</td>\n",
       "      <td>33</td>\n",
       "      <td>-1.00</td>\n",
       "      <td>2.56</td>\n",
       "      <td>2.45</td>\n",
       "      <td>1.62</td>\n",
       "      <td>1.57</td>\n",
       "      <td>1.86</td>\n",
       "      <td>3.55</td>\n",
       "      <td>4.95</td>\n",
       "    </tr>\n",
       "    <tr>\n",
       "      <th>15</th>\n",
       "      <td>2016-08-20</td>\n",
       "      <td>E0</td>\n",
       "      <td>20/08/2016</td>\n",
       "      <td>Tottenham</td>\n",
       "      <td>Crystal Palace</td>\n",
       "      <td>1</td>\n",
       "      <td>0</td>\n",
       "      <td>H</td>\n",
       "      <td>0</td>\n",
       "      <td>0</td>\n",
       "      <td>...</td>\n",
       "      <td>2.04</td>\n",
       "      <td>36</td>\n",
       "      <td>-1.00</td>\n",
       "      <td>1.76</td>\n",
       "      <td>1.72</td>\n",
       "      <td>2.26</td>\n",
       "      <td>2.17</td>\n",
       "      <td>1.47</td>\n",
       "      <td>4.64</td>\n",
       "      <td>7.91</td>\n",
       "    </tr>\n",
       "    <tr>\n",
       "      <th>16</th>\n",
       "      <td>2016-08-20</td>\n",
       "      <td>E0</td>\n",
       "      <td>20/08/2016</td>\n",
       "      <td>Watford</td>\n",
       "      <td>Chelsea</td>\n",
       "      <td>1</td>\n",
       "      <td>2</td>\n",
       "      <td>A</td>\n",
       "      <td>0</td>\n",
       "      <td>0</td>\n",
       "      <td>...</td>\n",
       "      <td>1.74</td>\n",
       "      <td>33</td>\n",
       "      <td>0.75</td>\n",
       "      <td>1.97</td>\n",
       "      <td>1.93</td>\n",
       "      <td>2.01</td>\n",
       "      <td>1.93</td>\n",
       "      <td>6.00</td>\n",
       "      <td>3.99</td>\n",
       "      <td>1.66</td>\n",
       "    </tr>\n",
       "    <tr>\n",
       "      <th>17</th>\n",
       "      <td>2016-08-20</td>\n",
       "      <td>E0</td>\n",
       "      <td>20/08/2016</td>\n",
       "      <td>West Brom</td>\n",
       "      <td>Everton</td>\n",
       "      <td>1</td>\n",
       "      <td>2</td>\n",
       "      <td>A</td>\n",
       "      <td>1</td>\n",
       "      <td>1</td>\n",
       "      <td>...</td>\n",
       "      <td>1.57</td>\n",
       "      <td>32</td>\n",
       "      <td>0.25</td>\n",
       "      <td>1.77</td>\n",
       "      <td>1.72</td>\n",
       "      <td>2.25</td>\n",
       "      <td>2.17</td>\n",
       "      <td>3.08</td>\n",
       "      <td>3.17</td>\n",
       "      <td>2.63</td>\n",
       "    </tr>\n",
       "    <tr>\n",
       "      <th>18</th>\n",
       "      <td>2016-08-21</td>\n",
       "      <td>E0</td>\n",
       "      <td>21/08/2016</td>\n",
       "      <td>Sunderland</td>\n",
       "      <td>Middlesbrough</td>\n",
       "      <td>1</td>\n",
       "      <td>2</td>\n",
       "      <td>A</td>\n",
       "      <td>0</td>\n",
       "      <td>2</td>\n",
       "      <td>...</td>\n",
       "      <td>1.57</td>\n",
       "      <td>33</td>\n",
       "      <td>-0.25</td>\n",
       "      <td>2.21</td>\n",
       "      <td>2.14</td>\n",
       "      <td>1.80</td>\n",
       "      <td>1.75</td>\n",
       "      <td>2.79</td>\n",
       "      <td>3.10</td>\n",
       "      <td>2.94</td>\n",
       "    </tr>\n",
       "    <tr>\n",
       "      <th>19</th>\n",
       "      <td>2016-08-21</td>\n",
       "      <td>E0</td>\n",
       "      <td>21/08/2016</td>\n",
       "      <td>West Ham</td>\n",
       "      <td>Bournemouth</td>\n",
       "      <td>1</td>\n",
       "      <td>0</td>\n",
       "      <td>H</td>\n",
       "      <td>0</td>\n",
       "      <td>0</td>\n",
       "      <td>...</td>\n",
       "      <td>2.02</td>\n",
       "      <td>31</td>\n",
       "      <td>-0.50</td>\n",
       "      <td>2.00</td>\n",
       "      <td>1.94</td>\n",
       "      <td>2.03</td>\n",
       "      <td>1.91</td>\n",
       "      <td>2.48</td>\n",
       "      <td>3.31</td>\n",
       "      <td>3.17</td>\n",
       "    </tr>\n",
       "    <tr>\n",
       "      <th>20</th>\n",
       "      <td>2016-08-27</td>\n",
       "      <td>E0</td>\n",
       "      <td>27/08/2016</td>\n",
       "      <td>Chelsea</td>\n",
       "      <td>Burnley</td>\n",
       "      <td>3</td>\n",
       "      <td>0</td>\n",
       "      <td>H</td>\n",
       "      <td>2</td>\n",
       "      <td>0</td>\n",
       "      <td>...</td>\n",
       "      <td>2.09</td>\n",
       "      <td>33</td>\n",
       "      <td>-2.00</td>\n",
       "      <td>2.44</td>\n",
       "      <td>2.33</td>\n",
       "      <td>1.68</td>\n",
       "      <td>1.62</td>\n",
       "      <td>1.25</td>\n",
       "      <td>6.60</td>\n",
       "      <td>15.24</td>\n",
       "    </tr>\n",
       "    <tr>\n",
       "      <th>21</th>\n",
       "      <td>2016-08-27</td>\n",
       "      <td>E0</td>\n",
       "      <td>27/08/2016</td>\n",
       "      <td>Crystal Palace</td>\n",
       "      <td>Bournemouth</td>\n",
       "      <td>1</td>\n",
       "      <td>1</td>\n",
       "      <td>D</td>\n",
       "      <td>0</td>\n",
       "      <td>1</td>\n",
       "      <td>...</td>\n",
       "      <td>1.68</td>\n",
       "      <td>31</td>\n",
       "      <td>-0.25</td>\n",
       "      <td>2.03</td>\n",
       "      <td>1.94</td>\n",
       "      <td>1.94</td>\n",
       "      <td>1.88</td>\n",
       "      <td>2.23</td>\n",
       "      <td>3.36</td>\n",
       "      <td>3.64</td>\n",
       "    </tr>\n",
       "    <tr>\n",
       "      <th>22</th>\n",
       "      <td>2016-08-27</td>\n",
       "      <td>E0</td>\n",
       "      <td>27/08/2016</td>\n",
       "      <td>Everton</td>\n",
       "      <td>Stoke</td>\n",
       "      <td>1</td>\n",
       "      <td>0</td>\n",
       "      <td>H</td>\n",
       "      <td>0</td>\n",
       "      <td>0</td>\n",
       "      <td>...</td>\n",
       "      <td>1.82</td>\n",
       "      <td>32</td>\n",
       "      <td>-1.00</td>\n",
       "      <td>2.38</td>\n",
       "      <td>2.30</td>\n",
       "      <td>1.68</td>\n",
       "      <td>1.64</td>\n",
       "      <td>1.68</td>\n",
       "      <td>4.20</td>\n",
       "      <td>5.39</td>\n",
       "    </tr>\n",
       "    <tr>\n",
       "      <th>23</th>\n",
       "      <td>2016-08-27</td>\n",
       "      <td>E0</td>\n",
       "      <td>27/08/2016</td>\n",
       "      <td>Hull</td>\n",
       "      <td>Man United</td>\n",
       "      <td>0</td>\n",
       "      <td>1</td>\n",
       "      <td>A</td>\n",
       "      <td>0</td>\n",
       "      <td>0</td>\n",
       "      <td>...</td>\n",
       "      <td>1.81</td>\n",
       "      <td>33</td>\n",
       "      <td>1.00</td>\n",
       "      <td>2.21</td>\n",
       "      <td>2.12</td>\n",
       "      <td>1.80</td>\n",
       "      <td>1.75</td>\n",
       "      <td>9.15</td>\n",
       "      <td>4.54</td>\n",
       "      <td>1.45</td>\n",
       "    </tr>\n",
       "    <tr>\n",
       "      <th>24</th>\n",
       "      <td>2016-08-27</td>\n",
       "      <td>E0</td>\n",
       "      <td>27/08/2016</td>\n",
       "      <td>Leicester</td>\n",
       "      <td>Swansea</td>\n",
       "      <td>2</td>\n",
       "      <td>1</td>\n",
       "      <td>H</td>\n",
       "      <td>1</td>\n",
       "      <td>0</td>\n",
       "      <td>...</td>\n",
       "      <td>1.74</td>\n",
       "      <td>33</td>\n",
       "      <td>-1.00</td>\n",
       "      <td>2.45</td>\n",
       "      <td>2.31</td>\n",
       "      <td>1.67</td>\n",
       "      <td>1.63</td>\n",
       "      <td>1.69</td>\n",
       "      <td>4.12</td>\n",
       "      <td>5.37</td>\n",
       "    </tr>\n",
       "    <tr>\n",
       "      <th>25</th>\n",
       "      <td>2016-08-27</td>\n",
       "      <td>E0</td>\n",
       "      <td>27/08/2016</td>\n",
       "      <td>Southampton</td>\n",
       "      <td>Sunderland</td>\n",
       "      <td>1</td>\n",
       "      <td>1</td>\n",
       "      <td>D</td>\n",
       "      <td>0</td>\n",
       "      <td>0</td>\n",
       "      <td>...</td>\n",
       "      <td>1.73</td>\n",
       "      <td>34</td>\n",
       "      <td>-1.00</td>\n",
       "      <td>2.12</td>\n",
       "      <td>2.04</td>\n",
       "      <td>1.86</td>\n",
       "      <td>1.81</td>\n",
       "      <td>1.48</td>\n",
       "      <td>4.75</td>\n",
       "      <td>7.45</td>\n",
       "    </tr>\n",
       "    <tr>\n",
       "      <th>26</th>\n",
       "      <td>2016-08-27</td>\n",
       "      <td>E0</td>\n",
       "      <td>27/08/2016</td>\n",
       "      <td>Tottenham</td>\n",
       "      <td>Liverpool</td>\n",
       "      <td>1</td>\n",
       "      <td>1</td>\n",
       "      <td>D</td>\n",
       "      <td>0</td>\n",
       "      <td>1</td>\n",
       "      <td>...</td>\n",
       "      <td>2.05</td>\n",
       "      <td>30</td>\n",
       "      <td>-0.25</td>\n",
       "      <td>2.08</td>\n",
       "      <td>2.01</td>\n",
       "      <td>1.91</td>\n",
       "      <td>1.84</td>\n",
       "      <td>2.68</td>\n",
       "      <td>3.37</td>\n",
       "      <td>2.85</td>\n",
       "    </tr>\n",
       "    <tr>\n",
       "      <th>27</th>\n",
       "      <td>2016-08-27</td>\n",
       "      <td>E0</td>\n",
       "      <td>27/08/2016</td>\n",
       "      <td>Watford</td>\n",
       "      <td>Arsenal</td>\n",
       "      <td>1</td>\n",
       "      <td>3</td>\n",
       "      <td>A</td>\n",
       "      <td>0</td>\n",
       "      <td>3</td>\n",
       "      <td>...</td>\n",
       "      <td>1.87</td>\n",
       "      <td>33</td>\n",
       "      <td>1.00</td>\n",
       "      <td>1.72</td>\n",
       "      <td>1.67</td>\n",
       "      <td>2.34</td>\n",
       "      <td>2.24</td>\n",
       "      <td>6.00</td>\n",
       "      <td>4.16</td>\n",
       "      <td>1.63</td>\n",
       "    </tr>\n",
       "    <tr>\n",
       "      <th>28</th>\n",
       "      <td>2016-08-28</td>\n",
       "      <td>E0</td>\n",
       "      <td>28/08/2016</td>\n",
       "      <td>Man City</td>\n",
       "      <td>West Ham</td>\n",
       "      <td>3</td>\n",
       "      <td>1</td>\n",
       "      <td>H</td>\n",
       "      <td>2</td>\n",
       "      <td>0</td>\n",
       "      <td>...</td>\n",
       "      <td>2.57</td>\n",
       "      <td>31</td>\n",
       "      <td>-1.50</td>\n",
       "      <td>1.85</td>\n",
       "      <td>1.77</td>\n",
       "      <td>2.20</td>\n",
       "      <td>2.08</td>\n",
       "      <td>1.26</td>\n",
       "      <td>6.50</td>\n",
       "      <td>13.25</td>\n",
       "    </tr>\n",
       "    <tr>\n",
       "      <th>29</th>\n",
       "      <td>2016-08-28</td>\n",
       "      <td>E0</td>\n",
       "      <td>28/08/2016</td>\n",
       "      <td>West Brom</td>\n",
       "      <td>Middlesbrough</td>\n",
       "      <td>0</td>\n",
       "      <td>0</td>\n",
       "      <td>D</td>\n",
       "      <td>0</td>\n",
       "      <td>0</td>\n",
       "      <td>...</td>\n",
       "      <td>1.49</td>\n",
       "      <td>29</td>\n",
       "      <td>-0.25</td>\n",
       "      <td>2.20</td>\n",
       "      <td>2.15</td>\n",
       "      <td>1.79</td>\n",
       "      <td>1.73</td>\n",
       "      <td>2.65</td>\n",
       "      <td>3.10</td>\n",
       "      <td>3.12</td>\n",
       "    </tr>\n",
       "    <tr>\n",
       "      <th>...</th>\n",
       "      <td>...</td>\n",
       "      <td>...</td>\n",
       "      <td>...</td>\n",
       "      <td>...</td>\n",
       "      <td>...</td>\n",
       "      <td>...</td>\n",
       "      <td>...</td>\n",
       "      <td>...</td>\n",
       "      <td>...</td>\n",
       "      <td>...</td>\n",
       "      <td>...</td>\n",
       "      <td>...</td>\n",
       "      <td>...</td>\n",
       "      <td>...</td>\n",
       "      <td>...</td>\n",
       "      <td>...</td>\n",
       "      <td>...</td>\n",
       "      <td>...</td>\n",
       "      <td>...</td>\n",
       "      <td>...</td>\n",
       "      <td>...</td>\n",
       "    </tr>\n",
       "    <tr>\n",
       "      <th>1110</th>\n",
       "      <td>2019-04-26</td>\n",
       "      <td>E0</td>\n",
       "      <td>26/04/2019</td>\n",
       "      <td>Liverpool</td>\n",
       "      <td>Huddersfield</td>\n",
       "      <td>5</td>\n",
       "      <td>0</td>\n",
       "      <td>H</td>\n",
       "      <td>3</td>\n",
       "      <td>0</td>\n",
       "      <td>...</td>\n",
       "      <td>4.17</td>\n",
       "      <td>21</td>\n",
       "      <td>-3.00</td>\n",
       "      <td>1.93</td>\n",
       "      <td>1.89</td>\n",
       "      <td>2.02</td>\n",
       "      <td>1.97</td>\n",
       "      <td>1.08</td>\n",
       "      <td>14.10</td>\n",
       "      <td>34.97</td>\n",
       "    </tr>\n",
       "    <tr>\n",
       "      <th>1111</th>\n",
       "      <td>2019-04-27</td>\n",
       "      <td>E0</td>\n",
       "      <td>27/04/2019</td>\n",
       "      <td>Brighton</td>\n",
       "      <td>Newcastle</td>\n",
       "      <td>1</td>\n",
       "      <td>1</td>\n",
       "      <td>D</td>\n",
       "      <td>0</td>\n",
       "      <td>1</td>\n",
       "      <td>...</td>\n",
       "      <td>1.58</td>\n",
       "      <td>19</td>\n",
       "      <td>-0.50</td>\n",
       "      <td>2.36</td>\n",
       "      <td>2.30</td>\n",
       "      <td>1.71</td>\n",
       "      <td>1.66</td>\n",
       "      <td>2.25</td>\n",
       "      <td>3.29</td>\n",
       "      <td>3.68</td>\n",
       "    </tr>\n",
       "    <tr>\n",
       "      <th>1112</th>\n",
       "      <td>2019-04-27</td>\n",
       "      <td>E0</td>\n",
       "      <td>27/04/2019</td>\n",
       "      <td>Crystal Palace</td>\n",
       "      <td>Everton</td>\n",
       "      <td>0</td>\n",
       "      <td>0</td>\n",
       "      <td>D</td>\n",
       "      <td>0</td>\n",
       "      <td>0</td>\n",
       "      <td>...</td>\n",
       "      <td>1.88</td>\n",
       "      <td>18</td>\n",
       "      <td>0.25</td>\n",
       "      <td>1.66</td>\n",
       "      <td>1.63</td>\n",
       "      <td>2.47</td>\n",
       "      <td>2.37</td>\n",
       "      <td>3.05</td>\n",
       "      <td>3.49</td>\n",
       "      <td>2.46</td>\n",
       "    </tr>\n",
       "    <tr>\n",
       "      <th>1113</th>\n",
       "      <td>2019-04-27</td>\n",
       "      <td>E0</td>\n",
       "      <td>27/04/2019</td>\n",
       "      <td>Fulham</td>\n",
       "      <td>Cardiff</td>\n",
       "      <td>1</td>\n",
       "      <td>0</td>\n",
       "      <td>H</td>\n",
       "      <td>0</td>\n",
       "      <td>0</td>\n",
       "      <td>...</td>\n",
       "      <td>2.11</td>\n",
       "      <td>17</td>\n",
       "      <td>0.00</td>\n",
       "      <td>1.80</td>\n",
       "      <td>1.74</td>\n",
       "      <td>2.23</td>\n",
       "      <td>2.15</td>\n",
       "      <td>2.21</td>\n",
       "      <td>3.69</td>\n",
       "      <td>3.35</td>\n",
       "    </tr>\n",
       "    <tr>\n",
       "      <th>1114</th>\n",
       "      <td>2019-04-27</td>\n",
       "      <td>E0</td>\n",
       "      <td>27/04/2019</td>\n",
       "      <td>Southampton</td>\n",
       "      <td>Bournemouth</td>\n",
       "      <td>3</td>\n",
       "      <td>3</td>\n",
       "      <td>D</td>\n",
       "      <td>1</td>\n",
       "      <td>2</td>\n",
       "      <td>...</td>\n",
       "      <td>2.08</td>\n",
       "      <td>19</td>\n",
       "      <td>-0.50</td>\n",
       "      <td>1.95</td>\n",
       "      <td>1.89</td>\n",
       "      <td>2.02</td>\n",
       "      <td>1.97</td>\n",
       "      <td>1.81</td>\n",
       "      <td>3.97</td>\n",
       "      <td>4.58</td>\n",
       "    </tr>\n",
       "    <tr>\n",
       "      <th>1115</th>\n",
       "      <td>2019-04-27</td>\n",
       "      <td>E0</td>\n",
       "      <td>27/04/2019</td>\n",
       "      <td>Tottenham</td>\n",
       "      <td>West Ham</td>\n",
       "      <td>0</td>\n",
       "      <td>1</td>\n",
       "      <td>A</td>\n",
       "      <td>0</td>\n",
       "      <td>0</td>\n",
       "      <td>...</td>\n",
       "      <td>2.50</td>\n",
       "      <td>22</td>\n",
       "      <td>-1.50</td>\n",
       "      <td>2.28</td>\n",
       "      <td>2.17</td>\n",
       "      <td>1.80</td>\n",
       "      <td>1.72</td>\n",
       "      <td>1.36</td>\n",
       "      <td>5.55</td>\n",
       "      <td>8.95</td>\n",
       "    </tr>\n",
       "    <tr>\n",
       "      <th>1116</th>\n",
       "      <td>2019-04-27</td>\n",
       "      <td>E0</td>\n",
       "      <td>27/04/2019</td>\n",
       "      <td>Watford</td>\n",
       "      <td>Wolves</td>\n",
       "      <td>1</td>\n",
       "      <td>2</td>\n",
       "      <td>A</td>\n",
       "      <td>0</td>\n",
       "      <td>1</td>\n",
       "      <td>...</td>\n",
       "      <td>1.68</td>\n",
       "      <td>18</td>\n",
       "      <td>0.25</td>\n",
       "      <td>1.62</td>\n",
       "      <td>1.59</td>\n",
       "      <td>2.51</td>\n",
       "      <td>2.46</td>\n",
       "      <td>2.73</td>\n",
       "      <td>3.26</td>\n",
       "      <td>2.87</td>\n",
       "    </tr>\n",
       "    <tr>\n",
       "      <th>1117</th>\n",
       "      <td>2019-04-28</td>\n",
       "      <td>E0</td>\n",
       "      <td>28/04/2019</td>\n",
       "      <td>Burnley</td>\n",
       "      <td>Man City</td>\n",
       "      <td>0</td>\n",
       "      <td>1</td>\n",
       "      <td>A</td>\n",
       "      <td>0</td>\n",
       "      <td>0</td>\n",
       "      <td>...</td>\n",
       "      <td>2.88</td>\n",
       "      <td>20</td>\n",
       "      <td>2.00</td>\n",
       "      <td>2.27</td>\n",
       "      <td>2.20</td>\n",
       "      <td>1.77</td>\n",
       "      <td>1.71</td>\n",
       "      <td>18.20</td>\n",
       "      <td>9.44</td>\n",
       "      <td>1.16</td>\n",
       "    </tr>\n",
       "    <tr>\n",
       "      <th>1118</th>\n",
       "      <td>2019-04-28</td>\n",
       "      <td>E0</td>\n",
       "      <td>28/04/2019</td>\n",
       "      <td>Leicester</td>\n",
       "      <td>Arsenal</td>\n",
       "      <td>3</td>\n",
       "      <td>0</td>\n",
       "      <td>H</td>\n",
       "      <td>0</td>\n",
       "      <td>0</td>\n",
       "      <td>...</td>\n",
       "      <td>2.33</td>\n",
       "      <td>18</td>\n",
       "      <td>0.25</td>\n",
       "      <td>1.76</td>\n",
       "      <td>1.71</td>\n",
       "      <td>2.26</td>\n",
       "      <td>2.22</td>\n",
       "      <td>2.60</td>\n",
       "      <td>3.65</td>\n",
       "      <td>2.77</td>\n",
       "    </tr>\n",
       "    <tr>\n",
       "      <th>1119</th>\n",
       "      <td>2019-04-28</td>\n",
       "      <td>E0</td>\n",
       "      <td>28/04/2019</td>\n",
       "      <td>Man United</td>\n",
       "      <td>Chelsea</td>\n",
       "      <td>1</td>\n",
       "      <td>1</td>\n",
       "      <td>D</td>\n",
       "      <td>1</td>\n",
       "      <td>1</td>\n",
       "      <td>...</td>\n",
       "      <td>1.97</td>\n",
       "      <td>18</td>\n",
       "      <td>-0.25</td>\n",
       "      <td>2.36</td>\n",
       "      <td>2.31</td>\n",
       "      <td>1.72</td>\n",
       "      <td>1.66</td>\n",
       "      <td>2.77</td>\n",
       "      <td>3.38</td>\n",
       "      <td>2.76</td>\n",
       "    </tr>\n",
       "    <tr>\n",
       "      <th>1120</th>\n",
       "      <td>2019-05-03</td>\n",
       "      <td>E0</td>\n",
       "      <td>03/05/2019</td>\n",
       "      <td>Everton</td>\n",
       "      <td>Burnley</td>\n",
       "      <td>2</td>\n",
       "      <td>0</td>\n",
       "      <td>H</td>\n",
       "      <td>2</td>\n",
       "      <td>0</td>\n",
       "      <td>...</td>\n",
       "      <td>1.99</td>\n",
       "      <td>21</td>\n",
       "      <td>-1.00</td>\n",
       "      <td>2.25</td>\n",
       "      <td>2.16</td>\n",
       "      <td>1.80</td>\n",
       "      <td>1.75</td>\n",
       "      <td>1.71</td>\n",
       "      <td>3.85</td>\n",
       "      <td>5.56</td>\n",
       "    </tr>\n",
       "    <tr>\n",
       "      <th>1121</th>\n",
       "      <td>2019-05-04</td>\n",
       "      <td>E0</td>\n",
       "      <td>04/05/2019</td>\n",
       "      <td>Bournemouth</td>\n",
       "      <td>Tottenham</td>\n",
       "      <td>1</td>\n",
       "      <td>0</td>\n",
       "      <td>H</td>\n",
       "      <td>0</td>\n",
       "      <td>0</td>\n",
       "      <td>...</td>\n",
       "      <td>2.30</td>\n",
       "      <td>19</td>\n",
       "      <td>1.00</td>\n",
       "      <td>1.57</td>\n",
       "      <td>1.54</td>\n",
       "      <td>2.64</td>\n",
       "      <td>2.55</td>\n",
       "      <td>5.99</td>\n",
       "      <td>4.75</td>\n",
       "      <td>1.54</td>\n",
       "    </tr>\n",
       "    <tr>\n",
       "      <th>1122</th>\n",
       "      <td>2019-05-04</td>\n",
       "      <td>E0</td>\n",
       "      <td>04/05/2019</td>\n",
       "      <td>Cardiff</td>\n",
       "      <td>Crystal Palace</td>\n",
       "      <td>2</td>\n",
       "      <td>3</td>\n",
       "      <td>A</td>\n",
       "      <td>1</td>\n",
       "      <td>2</td>\n",
       "      <td>...</td>\n",
       "      <td>1.88</td>\n",
       "      <td>17</td>\n",
       "      <td>0.25</td>\n",
       "      <td>1.69</td>\n",
       "      <td>1.66</td>\n",
       "      <td>2.42</td>\n",
       "      <td>2.31</td>\n",
       "      <td>2.53</td>\n",
       "      <td>3.79</td>\n",
       "      <td>2.75</td>\n",
       "    </tr>\n",
       "    <tr>\n",
       "      <th>1123</th>\n",
       "      <td>2019-05-04</td>\n",
       "      <td>E0</td>\n",
       "      <td>04/05/2019</td>\n",
       "      <td>Newcastle</td>\n",
       "      <td>Liverpool</td>\n",
       "      <td>2</td>\n",
       "      <td>3</td>\n",
       "      <td>A</td>\n",
       "      <td>1</td>\n",
       "      <td>2</td>\n",
       "      <td>...</td>\n",
       "      <td>2.14</td>\n",
       "      <td>22</td>\n",
       "      <td>1.50</td>\n",
       "      <td>1.90</td>\n",
       "      <td>1.83</td>\n",
       "      <td>2.10</td>\n",
       "      <td>2.03</td>\n",
       "      <td>9.80</td>\n",
       "      <td>5.56</td>\n",
       "      <td>1.34</td>\n",
       "    </tr>\n",
       "    <tr>\n",
       "      <th>1124</th>\n",
       "      <td>2019-05-04</td>\n",
       "      <td>E0</td>\n",
       "      <td>04/05/2019</td>\n",
       "      <td>West Ham</td>\n",
       "      <td>Southampton</td>\n",
       "      <td>3</td>\n",
       "      <td>0</td>\n",
       "      <td>H</td>\n",
       "      <td>1</td>\n",
       "      <td>0</td>\n",
       "      <td>...</td>\n",
       "      <td>2.32</td>\n",
       "      <td>18</td>\n",
       "      <td>-0.50</td>\n",
       "      <td>2.35</td>\n",
       "      <td>2.29</td>\n",
       "      <td>1.73</td>\n",
       "      <td>1.66</td>\n",
       "      <td>2.40</td>\n",
       "      <td>3.69</td>\n",
       "      <td>3.00</td>\n",
       "    </tr>\n",
       "    <tr>\n",
       "      <th>1125</th>\n",
       "      <td>2019-05-04</td>\n",
       "      <td>E0</td>\n",
       "      <td>04/05/2019</td>\n",
       "      <td>Wolves</td>\n",
       "      <td>Fulham</td>\n",
       "      <td>1</td>\n",
       "      <td>0</td>\n",
       "      <td>H</td>\n",
       "      <td>0</td>\n",
       "      <td>0</td>\n",
       "      <td>...</td>\n",
       "      <td>2.03</td>\n",
       "      <td>21</td>\n",
       "      <td>-1.00</td>\n",
       "      <td>1.99</td>\n",
       "      <td>1.93</td>\n",
       "      <td>2.00</td>\n",
       "      <td>1.94</td>\n",
       "      <td>1.52</td>\n",
       "      <td>4.39</td>\n",
       "      <td>7.01</td>\n",
       "    </tr>\n",
       "    <tr>\n",
       "      <th>1126</th>\n",
       "      <td>2019-05-05</td>\n",
       "      <td>E0</td>\n",
       "      <td>05/05/2019</td>\n",
       "      <td>Arsenal</td>\n",
       "      <td>Brighton</td>\n",
       "      <td>1</td>\n",
       "      <td>1</td>\n",
       "      <td>D</td>\n",
       "      <td>1</td>\n",
       "      <td>0</td>\n",
       "      <td>...</td>\n",
       "      <td>2.20</td>\n",
       "      <td>22</td>\n",
       "      <td>-1.50</td>\n",
       "      <td>2.35</td>\n",
       "      <td>2.21</td>\n",
       "      <td>1.75</td>\n",
       "      <td>1.70</td>\n",
       "      <td>1.27</td>\n",
       "      <td>6.31</td>\n",
       "      <td>12.29</td>\n",
       "    </tr>\n",
       "    <tr>\n",
       "      <th>1127</th>\n",
       "      <td>2019-05-05</td>\n",
       "      <td>E0</td>\n",
       "      <td>05/05/2019</td>\n",
       "      <td>Chelsea</td>\n",
       "      <td>Watford</td>\n",
       "      <td>3</td>\n",
       "      <td>0</td>\n",
       "      <td>H</td>\n",
       "      <td>0</td>\n",
       "      <td>0</td>\n",
       "      <td>...</td>\n",
       "      <td>2.34</td>\n",
       "      <td>22</td>\n",
       "      <td>-1.50</td>\n",
       "      <td>2.21</td>\n",
       "      <td>2.14</td>\n",
       "      <td>1.80</td>\n",
       "      <td>1.74</td>\n",
       "      <td>1.31</td>\n",
       "      <td>5.98</td>\n",
       "      <td>10.83</td>\n",
       "    </tr>\n",
       "    <tr>\n",
       "      <th>1128</th>\n",
       "      <td>2019-05-05</td>\n",
       "      <td>E0</td>\n",
       "      <td>05/05/2019</td>\n",
       "      <td>Huddersfield</td>\n",
       "      <td>Man United</td>\n",
       "      <td>1</td>\n",
       "      <td>1</td>\n",
       "      <td>D</td>\n",
       "      <td>0</td>\n",
       "      <td>1</td>\n",
       "      <td>...</td>\n",
       "      <td>2.22</td>\n",
       "      <td>22</td>\n",
       "      <td>1.50</td>\n",
       "      <td>2.00</td>\n",
       "      <td>1.93</td>\n",
       "      <td>1.98</td>\n",
       "      <td>1.93</td>\n",
       "      <td>9.96</td>\n",
       "      <td>5.76</td>\n",
       "      <td>1.33</td>\n",
       "    </tr>\n",
       "    <tr>\n",
       "      <th>1129</th>\n",
       "      <td>2019-05-06</td>\n",
       "      <td>E0</td>\n",
       "      <td>06/05/2019</td>\n",
       "      <td>Man City</td>\n",
       "      <td>Leicester</td>\n",
       "      <td>1</td>\n",
       "      <td>0</td>\n",
       "      <td>H</td>\n",
       "      <td>0</td>\n",
       "      <td>0</td>\n",
       "      <td>...</td>\n",
       "      <td>3.42</td>\n",
       "      <td>20</td>\n",
       "      <td>-2.00</td>\n",
       "      <td>1.83</td>\n",
       "      <td>1.75</td>\n",
       "      <td>2.20</td>\n",
       "      <td>2.12</td>\n",
       "      <td>1.17</td>\n",
       "      <td>9.36</td>\n",
       "      <td>15.00</td>\n",
       "    </tr>\n",
       "    <tr>\n",
       "      <th>1130</th>\n",
       "      <td>2019-05-12</td>\n",
       "      <td>E0</td>\n",
       "      <td>12/05/2019</td>\n",
       "      <td>Brighton</td>\n",
       "      <td>Man City</td>\n",
       "      <td>1</td>\n",
       "      <td>4</td>\n",
       "      <td>A</td>\n",
       "      <td>1</td>\n",
       "      <td>2</td>\n",
       "      <td>...</td>\n",
       "      <td>2.86</td>\n",
       "      <td>19</td>\n",
       "      <td>2.50</td>\n",
       "      <td>1.68</td>\n",
       "      <td>1.64</td>\n",
       "      <td>2.38</td>\n",
       "      <td>2.30</td>\n",
       "      <td>13.17</td>\n",
       "      <td>7.24</td>\n",
       "      <td>1.22</td>\n",
       "    </tr>\n",
       "    <tr>\n",
       "      <th>1131</th>\n",
       "      <td>2019-05-12</td>\n",
       "      <td>E0</td>\n",
       "      <td>12/05/2019</td>\n",
       "      <td>Burnley</td>\n",
       "      <td>Arsenal</td>\n",
       "      <td>1</td>\n",
       "      <td>3</td>\n",
       "      <td>A</td>\n",
       "      <td>0</td>\n",
       "      <td>0</td>\n",
       "      <td>...</td>\n",
       "      <td>2.39</td>\n",
       "      <td>19</td>\n",
       "      <td>0.50</td>\n",
       "      <td>1.77</td>\n",
       "      <td>1.72</td>\n",
       "      <td>2.25</td>\n",
       "      <td>2.18</td>\n",
       "      <td>2.52</td>\n",
       "      <td>3.69</td>\n",
       "      <td>2.80</td>\n",
       "    </tr>\n",
       "    <tr>\n",
       "      <th>1132</th>\n",
       "      <td>2019-05-12</td>\n",
       "      <td>E0</td>\n",
       "      <td>12/05/2019</td>\n",
       "      <td>Crystal Palace</td>\n",
       "      <td>Bournemouth</td>\n",
       "      <td>5</td>\n",
       "      <td>3</td>\n",
       "      <td>H</td>\n",
       "      <td>3</td>\n",
       "      <td>1</td>\n",
       "      <td>...</td>\n",
       "      <td>2.45</td>\n",
       "      <td>19</td>\n",
       "      <td>-1.00</td>\n",
       "      <td>2.61</td>\n",
       "      <td>2.52</td>\n",
       "      <td>1.60</td>\n",
       "      <td>1.54</td>\n",
       "      <td>1.79</td>\n",
       "      <td>4.40</td>\n",
       "      <td>4.16</td>\n",
       "    </tr>\n",
       "    <tr>\n",
       "      <th>1133</th>\n",
       "      <td>2019-05-12</td>\n",
       "      <td>E0</td>\n",
       "      <td>12/05/2019</td>\n",
       "      <td>Fulham</td>\n",
       "      <td>Newcastle</td>\n",
       "      <td>0</td>\n",
       "      <td>4</td>\n",
       "      <td>A</td>\n",
       "      <td>0</td>\n",
       "      <td>2</td>\n",
       "      <td>...</td>\n",
       "      <td>2.08</td>\n",
       "      <td>18</td>\n",
       "      <td>-0.25</td>\n",
       "      <td>2.21</td>\n",
       "      <td>2.15</td>\n",
       "      <td>1.80</td>\n",
       "      <td>1.75</td>\n",
       "      <td>2.49</td>\n",
       "      <td>3.55</td>\n",
       "      <td>2.93</td>\n",
       "    </tr>\n",
       "    <tr>\n",
       "      <th>1134</th>\n",
       "      <td>2019-05-12</td>\n",
       "      <td>E0</td>\n",
       "      <td>12/05/2019</td>\n",
       "      <td>Leicester</td>\n",
       "      <td>Chelsea</td>\n",
       "      <td>0</td>\n",
       "      <td>0</td>\n",
       "      <td>D</td>\n",
       "      <td>0</td>\n",
       "      <td>0</td>\n",
       "      <td>...</td>\n",
       "      <td>2.16</td>\n",
       "      <td>19</td>\n",
       "      <td>-0.50</td>\n",
       "      <td>2.45</td>\n",
       "      <td>2.38</td>\n",
       "      <td>1.65</td>\n",
       "      <td>1.62</td>\n",
       "      <td>2.42</td>\n",
       "      <td>3.63</td>\n",
       "      <td>2.98</td>\n",
       "    </tr>\n",
       "    <tr>\n",
       "      <th>1135</th>\n",
       "      <td>2019-05-12</td>\n",
       "      <td>E0</td>\n",
       "      <td>12/05/2019</td>\n",
       "      <td>Liverpool</td>\n",
       "      <td>Wolves</td>\n",
       "      <td>2</td>\n",
       "      <td>0</td>\n",
       "      <td>H</td>\n",
       "      <td>1</td>\n",
       "      <td>0</td>\n",
       "      <td>...</td>\n",
       "      <td>2.31</td>\n",
       "      <td>22</td>\n",
       "      <td>-1.50</td>\n",
       "      <td>1.98</td>\n",
       "      <td>1.91</td>\n",
       "      <td>2.01</td>\n",
       "      <td>1.95</td>\n",
       "      <td>1.32</td>\n",
       "      <td>5.89</td>\n",
       "      <td>9.48</td>\n",
       "    </tr>\n",
       "    <tr>\n",
       "      <th>1136</th>\n",
       "      <td>2019-05-12</td>\n",
       "      <td>E0</td>\n",
       "      <td>12/05/2019</td>\n",
       "      <td>Man United</td>\n",
       "      <td>Cardiff</td>\n",
       "      <td>0</td>\n",
       "      <td>2</td>\n",
       "      <td>A</td>\n",
       "      <td>0</td>\n",
       "      <td>1</td>\n",
       "      <td>...</td>\n",
       "      <td>2.95</td>\n",
       "      <td>21</td>\n",
       "      <td>-2.00</td>\n",
       "      <td>2.52</td>\n",
       "      <td>2.32</td>\n",
       "      <td>1.72</td>\n",
       "      <td>1.64</td>\n",
       "      <td>1.30</td>\n",
       "      <td>6.06</td>\n",
       "      <td>9.71</td>\n",
       "    </tr>\n",
       "    <tr>\n",
       "      <th>1137</th>\n",
       "      <td>2019-05-12</td>\n",
       "      <td>E0</td>\n",
       "      <td>12/05/2019</td>\n",
       "      <td>Southampton</td>\n",
       "      <td>Huddersfield</td>\n",
       "      <td>1</td>\n",
       "      <td>1</td>\n",
       "      <td>D</td>\n",
       "      <td>1</td>\n",
       "      <td>0</td>\n",
       "      <td>...</td>\n",
       "      <td>2.29</td>\n",
       "      <td>22</td>\n",
       "      <td>-1.50</td>\n",
       "      <td>2.27</td>\n",
       "      <td>2.16</td>\n",
       "      <td>1.80</td>\n",
       "      <td>1.73</td>\n",
       "      <td>1.37</td>\n",
       "      <td>5.36</td>\n",
       "      <td>8.49</td>\n",
       "    </tr>\n",
       "    <tr>\n",
       "      <th>1138</th>\n",
       "      <td>2019-05-12</td>\n",
       "      <td>E0</td>\n",
       "      <td>12/05/2019</td>\n",
       "      <td>Tottenham</td>\n",
       "      <td>Everton</td>\n",
       "      <td>2</td>\n",
       "      <td>2</td>\n",
       "      <td>D</td>\n",
       "      <td>1</td>\n",
       "      <td>0</td>\n",
       "      <td>...</td>\n",
       "      <td>2.07</td>\n",
       "      <td>19</td>\n",
       "      <td>-0.50</td>\n",
       "      <td>2.13</td>\n",
       "      <td>2.08</td>\n",
       "      <td>1.85</td>\n",
       "      <td>1.80</td>\n",
       "      <td>1.91</td>\n",
       "      <td>3.81</td>\n",
       "      <td>4.15</td>\n",
       "    </tr>\n",
       "    <tr>\n",
       "      <th>1139</th>\n",
       "      <td>2019-05-12</td>\n",
       "      <td>E0</td>\n",
       "      <td>12/05/2019</td>\n",
       "      <td>Watford</td>\n",
       "      <td>West Ham</td>\n",
       "      <td>1</td>\n",
       "      <td>4</td>\n",
       "      <td>A</td>\n",
       "      <td>0</td>\n",
       "      <td>2</td>\n",
       "      <td>...</td>\n",
       "      <td>2.44</td>\n",
       "      <td>19</td>\n",
       "      <td>-0.50</td>\n",
       "      <td>2.25</td>\n",
       "      <td>2.19</td>\n",
       "      <td>1.78</td>\n",
       "      <td>1.72</td>\n",
       "      <td>2.11</td>\n",
       "      <td>3.86</td>\n",
       "      <td>3.41</td>\n",
       "    </tr>\n",
       "  </tbody>\n",
       "</table>\n",
       "<p>1140 rows × 63 columns</p>\n",
       "</div>"
      ],
      "text/plain": [
       "            date Div        Date        HomeTeam        AwayTeam  FTHG  FTAG  \\\n",
       "0     2016-08-13  E0  13/08/2016         Burnley         Swansea     0     1   \n",
       "1     2016-08-13  E0  13/08/2016  Crystal Palace       West Brom     0     1   \n",
       "2     2016-08-13  E0  13/08/2016         Everton       Tottenham     1     1   \n",
       "3     2016-08-13  E0  13/08/2016            Hull       Leicester     2     1   \n",
       "4     2016-08-13  E0  13/08/2016        Man City      Sunderland     2     1   \n",
       "5     2016-08-13  E0  13/08/2016   Middlesbrough           Stoke     1     1   \n",
       "6     2016-08-13  E0  13/08/2016     Southampton         Watford     1     1   \n",
       "7     2016-08-14  E0  14/08/2016         Arsenal       Liverpool     3     4   \n",
       "8     2016-08-14  E0  14/08/2016     Bournemouth      Man United     1     3   \n",
       "9     2016-08-15  E0  15/08/2016         Chelsea        West Ham     2     1   \n",
       "10    2016-08-19  E0  19/08/2016      Man United     Southampton     2     0   \n",
       "11    2016-08-20  E0  20/08/2016         Burnley       Liverpool     2     0   \n",
       "12    2016-08-20  E0  20/08/2016       Leicester         Arsenal     0     0   \n",
       "13    2016-08-20  E0  20/08/2016           Stoke        Man City     1     4   \n",
       "14    2016-08-20  E0  20/08/2016         Swansea            Hull     0     2   \n",
       "15    2016-08-20  E0  20/08/2016       Tottenham  Crystal Palace     1     0   \n",
       "16    2016-08-20  E0  20/08/2016         Watford         Chelsea     1     2   \n",
       "17    2016-08-20  E0  20/08/2016       West Brom         Everton     1     2   \n",
       "18    2016-08-21  E0  21/08/2016      Sunderland   Middlesbrough     1     2   \n",
       "19    2016-08-21  E0  21/08/2016        West Ham     Bournemouth     1     0   \n",
       "20    2016-08-27  E0  27/08/2016         Chelsea         Burnley     3     0   \n",
       "21    2016-08-27  E0  27/08/2016  Crystal Palace     Bournemouth     1     1   \n",
       "22    2016-08-27  E0  27/08/2016         Everton           Stoke     1     0   \n",
       "23    2016-08-27  E0  27/08/2016            Hull      Man United     0     1   \n",
       "24    2016-08-27  E0  27/08/2016       Leicester         Swansea     2     1   \n",
       "25    2016-08-27  E0  27/08/2016     Southampton      Sunderland     1     1   \n",
       "26    2016-08-27  E0  27/08/2016       Tottenham       Liverpool     1     1   \n",
       "27    2016-08-27  E0  27/08/2016         Watford         Arsenal     1     3   \n",
       "28    2016-08-28  E0  28/08/2016        Man City        West Ham     3     1   \n",
       "29    2016-08-28  E0  28/08/2016       West Brom   Middlesbrough     0     0   \n",
       "...          ...  ..         ...             ...             ...   ...   ...   \n",
       "1110  2019-04-26  E0  26/04/2019       Liverpool    Huddersfield     5     0   \n",
       "1111  2019-04-27  E0  27/04/2019        Brighton       Newcastle     1     1   \n",
       "1112  2019-04-27  E0  27/04/2019  Crystal Palace         Everton     0     0   \n",
       "1113  2019-04-27  E0  27/04/2019          Fulham         Cardiff     1     0   \n",
       "1114  2019-04-27  E0  27/04/2019     Southampton     Bournemouth     3     3   \n",
       "1115  2019-04-27  E0  27/04/2019       Tottenham        West Ham     0     1   \n",
       "1116  2019-04-27  E0  27/04/2019         Watford          Wolves     1     2   \n",
       "1117  2019-04-28  E0  28/04/2019         Burnley        Man City     0     1   \n",
       "1118  2019-04-28  E0  28/04/2019       Leicester         Arsenal     3     0   \n",
       "1119  2019-04-28  E0  28/04/2019      Man United         Chelsea     1     1   \n",
       "1120  2019-05-03  E0  03/05/2019         Everton         Burnley     2     0   \n",
       "1121  2019-05-04  E0  04/05/2019     Bournemouth       Tottenham     1     0   \n",
       "1122  2019-05-04  E0  04/05/2019         Cardiff  Crystal Palace     2     3   \n",
       "1123  2019-05-04  E0  04/05/2019       Newcastle       Liverpool     2     3   \n",
       "1124  2019-05-04  E0  04/05/2019        West Ham     Southampton     3     0   \n",
       "1125  2019-05-04  E0  04/05/2019          Wolves          Fulham     1     0   \n",
       "1126  2019-05-05  E0  05/05/2019         Arsenal        Brighton     1     1   \n",
       "1127  2019-05-05  E0  05/05/2019         Chelsea         Watford     3     0   \n",
       "1128  2019-05-05  E0  05/05/2019    Huddersfield      Man United     1     1   \n",
       "1129  2019-05-06  E0  06/05/2019        Man City       Leicester     1     0   \n",
       "1130  2019-05-12  E0  12/05/2019        Brighton        Man City     1     4   \n",
       "1131  2019-05-12  E0  12/05/2019         Burnley         Arsenal     1     3   \n",
       "1132  2019-05-12  E0  12/05/2019  Crystal Palace     Bournemouth     5     3   \n",
       "1133  2019-05-12  E0  12/05/2019          Fulham       Newcastle     0     4   \n",
       "1134  2019-05-12  E0  12/05/2019       Leicester         Chelsea     0     0   \n",
       "1135  2019-05-12  E0  12/05/2019       Liverpool          Wolves     2     0   \n",
       "1136  2019-05-12  E0  12/05/2019      Man United         Cardiff     0     2   \n",
       "1137  2019-05-12  E0  12/05/2019     Southampton    Huddersfield     1     1   \n",
       "1138  2019-05-12  E0  12/05/2019       Tottenham         Everton     2     2   \n",
       "1139  2019-05-12  E0  12/05/2019         Watford        West Ham     1     4   \n",
       "\n",
       "     FTR  HTHG  HTAG  ...   BbAv<2.5 BbAH  BbAHh  BbMxAHH  BbAvAHH  BbMxAHA  \\\n",
       "0      A     0     0  ...       1.61   32  -0.25     2.13     2.06     1.86   \n",
       "1      A     0     0  ...       1.52   33  -0.50     2.07     2.00     1.90   \n",
       "2      D     1     0  ...       1.77   32   0.25     1.91     1.85     2.09   \n",
       "3      H     1     0  ...       1.67   31   0.25     2.35     2.26     2.03   \n",
       "4      H     1     0  ...       2.48   34  -1.50     1.81     1.73     2.20   \n",
       "5      D     1     0  ...       1.53   32  -0.25     1.99     1.93     1.97   \n",
       "6      D     0     1  ...       1.75   33  -0.75     2.16     2.07     1.89   \n",
       "7      A     1     1  ...       1.99   31  -0.50     2.41     2.31     1.81   \n",
       "8      A     0     1  ...       1.76   33   0.75     1.80     1.76     2.17   \n",
       "9      H     0     0  ...       2.01   33  -1.00     2.20     2.10     1.80   \n",
       "10     H     1     0  ...       1.86   37  -1.00     2.01     1.92     2.19   \n",
       "11     H     2     0  ...       1.93   36   1.00     1.98     1.91     2.00   \n",
       "12     D     0     0  ...       2.16   32   0.25     1.83     1.78     2.15   \n",
       "13     A     0     2  ...       2.05   36   1.00     1.75     1.69     2.33   \n",
       "14     A     0     0  ...       1.64   33  -1.00     2.56     2.45     1.62   \n",
       "15     H     0     0  ...       2.04   36  -1.00     1.76     1.72     2.26   \n",
       "16     A     0     0  ...       1.74   33   0.75     1.97     1.93     2.01   \n",
       "17     A     1     1  ...       1.57   32   0.25     1.77     1.72     2.25   \n",
       "18     A     0     2  ...       1.57   33  -0.25     2.21     2.14     1.80   \n",
       "19     H     0     0  ...       2.02   31  -0.50     2.00     1.94     2.03   \n",
       "20     H     2     0  ...       2.09   33  -2.00     2.44     2.33     1.68   \n",
       "21     D     0     1  ...       1.68   31  -0.25     2.03     1.94     1.94   \n",
       "22     H     0     0  ...       1.82   32  -1.00     2.38     2.30     1.68   \n",
       "23     A     0     0  ...       1.81   33   1.00     2.21     2.12     1.80   \n",
       "24     H     1     0  ...       1.74   33  -1.00     2.45     2.31     1.67   \n",
       "25     D     0     0  ...       1.73   34  -1.00     2.12     2.04     1.86   \n",
       "26     D     0     1  ...       2.05   30  -0.25     2.08     2.01     1.91   \n",
       "27     A     0     3  ...       1.87   33   1.00     1.72     1.67     2.34   \n",
       "28     H     2     0  ...       2.57   31  -1.50     1.85     1.77     2.20   \n",
       "29     D     0     0  ...       1.49   29  -0.25     2.20     2.15     1.79   \n",
       "...   ..   ...   ...  ...        ...  ...    ...      ...      ...      ...   \n",
       "1110   H     3     0  ...       4.17   21  -3.00     1.93     1.89     2.02   \n",
       "1111   D     0     1  ...       1.58   19  -0.50     2.36     2.30     1.71   \n",
       "1112   D     0     0  ...       1.88   18   0.25     1.66     1.63     2.47   \n",
       "1113   H     0     0  ...       2.11   17   0.00     1.80     1.74     2.23   \n",
       "1114   D     1     2  ...       2.08   19  -0.50     1.95     1.89     2.02   \n",
       "1115   A     0     0  ...       2.50   22  -1.50     2.28     2.17     1.80   \n",
       "1116   A     0     1  ...       1.68   18   0.25     1.62     1.59     2.51   \n",
       "1117   A     0     0  ...       2.88   20   2.00     2.27     2.20     1.77   \n",
       "1118   H     0     0  ...       2.33   18   0.25     1.76     1.71     2.26   \n",
       "1119   D     1     1  ...       1.97   18  -0.25     2.36     2.31     1.72   \n",
       "1120   H     2     0  ...       1.99   21  -1.00     2.25     2.16     1.80   \n",
       "1121   H     0     0  ...       2.30   19   1.00     1.57     1.54     2.64   \n",
       "1122   A     1     2  ...       1.88   17   0.25     1.69     1.66     2.42   \n",
       "1123   A     1     2  ...       2.14   22   1.50     1.90     1.83     2.10   \n",
       "1124   H     1     0  ...       2.32   18  -0.50     2.35     2.29     1.73   \n",
       "1125   H     0     0  ...       2.03   21  -1.00     1.99     1.93     2.00   \n",
       "1126   D     1     0  ...       2.20   22  -1.50     2.35     2.21     1.75   \n",
       "1127   H     0     0  ...       2.34   22  -1.50     2.21     2.14     1.80   \n",
       "1128   D     0     1  ...       2.22   22   1.50     2.00     1.93     1.98   \n",
       "1129   H     0     0  ...       3.42   20  -2.00     1.83     1.75     2.20   \n",
       "1130   A     1     2  ...       2.86   19   2.50     1.68     1.64     2.38   \n",
       "1131   A     0     0  ...       2.39   19   0.50     1.77     1.72     2.25   \n",
       "1132   H     3     1  ...       2.45   19  -1.00     2.61     2.52     1.60   \n",
       "1133   A     0     2  ...       2.08   18  -0.25     2.21     2.15     1.80   \n",
       "1134   D     0     0  ...       2.16   19  -0.50     2.45     2.38     1.65   \n",
       "1135   H     1     0  ...       2.31   22  -1.50     1.98     1.91     2.01   \n",
       "1136   A     0     1  ...       2.95   21  -2.00     2.52     2.32     1.72   \n",
       "1137   D     1     0  ...       2.29   22  -1.50     2.27     2.16     1.80   \n",
       "1138   D     1     0  ...       2.07   19  -0.50     2.13     2.08     1.85   \n",
       "1139   A     0     2  ...       2.44   19  -0.50     2.25     2.19     1.78   \n",
       "\n",
       "      BbAvAHA   PSCH   PSCD   PSCA  \n",
       "0        1.81   2.79   3.16   2.89  \n",
       "1        1.85   2.25   3.15   3.86  \n",
       "2        2.00   3.64   3.54   2.16  \n",
       "3        1.67   4.68   3.50   1.92  \n",
       "4        2.14   1.25   6.50  14.50  \n",
       "5        1.92   2.20   3.38   3.70  \n",
       "6        1.80   1.80   3.83   4.91  \n",
       "7        1.64   2.80   3.44   2.68  \n",
       "8        2.11   5.40   3.65   1.78  \n",
       "9        1.76   1.52   4.38   7.45  \n",
       "10       1.94   1.53   4.27   7.44  \n",
       "11       1.94   7.26   4.54   1.51  \n",
       "12       2.10   2.82   3.50   2.63  \n",
       "13       2.22   6.29   4.34   1.58  \n",
       "14       1.57   1.86   3.55   4.95  \n",
       "15       2.17   1.47   4.64   7.91  \n",
       "16       1.93   6.00   3.99   1.66  \n",
       "17       2.17   3.08   3.17   2.63  \n",
       "18       1.75   2.79   3.10   2.94  \n",
       "19       1.91   2.48   3.31   3.17  \n",
       "20       1.62   1.25   6.60  15.24  \n",
       "21       1.88   2.23   3.36   3.64  \n",
       "22       1.64   1.68   4.20   5.39  \n",
       "23       1.75   9.15   4.54   1.45  \n",
       "24       1.63   1.69   4.12   5.37  \n",
       "25       1.81   1.48   4.75   7.45  \n",
       "26       1.84   2.68   3.37   2.85  \n",
       "27       2.24   6.00   4.16   1.63  \n",
       "28       2.08   1.26   6.50  13.25  \n",
       "29       1.73   2.65   3.10   3.12  \n",
       "...       ...    ...    ...    ...  \n",
       "1110     1.97   1.08  14.10  34.97  \n",
       "1111     1.66   2.25   3.29   3.68  \n",
       "1112     2.37   3.05   3.49   2.46  \n",
       "1113     2.15   2.21   3.69   3.35  \n",
       "1114     1.97   1.81   3.97   4.58  \n",
       "1115     1.72   1.36   5.55   8.95  \n",
       "1116     2.46   2.73   3.26   2.87  \n",
       "1117     1.71  18.20   9.44   1.16  \n",
       "1118     2.22   2.60   3.65   2.77  \n",
       "1119     1.66   2.77   3.38   2.76  \n",
       "1120     1.75   1.71   3.85   5.56  \n",
       "1121     2.55   5.99   4.75   1.54  \n",
       "1122     2.31   2.53   3.79   2.75  \n",
       "1123     2.03   9.80   5.56   1.34  \n",
       "1124     1.66   2.40   3.69   3.00  \n",
       "1125     1.94   1.52   4.39   7.01  \n",
       "1126     1.70   1.27   6.31  12.29  \n",
       "1127     1.74   1.31   5.98  10.83  \n",
       "1128     1.93   9.96   5.76   1.33  \n",
       "1129     2.12   1.17   9.36  15.00  \n",
       "1130     2.30  13.17   7.24   1.22  \n",
       "1131     2.18   2.52   3.69   2.80  \n",
       "1132     1.54   1.79   4.40   4.16  \n",
       "1133     1.75   2.49   3.55   2.93  \n",
       "1134     1.62   2.42   3.63   2.98  \n",
       "1135     1.95   1.32   5.89   9.48  \n",
       "1136     1.64   1.30   6.06   9.71  \n",
       "1137     1.73   1.37   5.36   8.49  \n",
       "1138     1.80   1.91   3.81   4.15  \n",
       "1139     1.72   2.11   3.86   3.41  \n",
       "\n",
       "[1140 rows x 63 columns]"
      ]
     },
     "execution_count": 30,
     "metadata": {},
     "output_type": "execute_result"
    }
   ],
   "source": [
    "pd.read_csv('csv/football_all.csv')"
   ]
  },
  {
   "cell_type": "markdown",
   "metadata": {},
   "source": [
    "### Merging of Football Odds, EPL DataFrames and ELO DataFrames"
   ]
  },
  {
   "cell_type": "markdown",
   "metadata": {},
   "source": [
    "Pretty much what it says on the tin... it's merging time"
   ]
  },
  {
   "cell_type": "code",
   "execution_count": 52,
   "metadata": {
    "ExecuteTime": {
     "end_time": "2019-09-24T19:22:05.480589Z",
     "start_time": "2019-09-24T19:22:05.474374Z"
    }
   },
   "outputs": [],
   "source": [
    "# Could get rid of the columns after the merge, it is just less messy doing it first\n",
    "# I don't need these columns because they're features which were created by the author of the dataset\n",
    "# and while they may help, I can't re-create them for any new data.\n",
    "# I may include them later just to see if they add anything. \n",
    "# For Science\n",
    "\n",
    "df = epl.drop(columns=['league_id', 'league', 'spi1', 'spi2', 'prob1',\n",
    "       'prob2', 'probtie', 'proj_score1', 'proj_score2', 'importance1',\n",
    "       'importance2','nsxg1', 'nsxg2',\n",
    "       'adj_score1', 'adj_score2'])"
   ]
  },
  {
   "cell_type": "code",
   "execution_count": 53,
   "metadata": {
    "ExecuteTime": {
     "end_time": "2019-09-24T19:22:08.041297Z",
     "start_time": "2019-09-24T19:22:08.027959Z"
    },
    "scrolled": true
   },
   "outputs": [
    {
     "data": {
      "text/html": [
       "<div>\n",
       "<style scoped>\n",
       "    .dataframe tbody tr th:only-of-type {\n",
       "        vertical-align: middle;\n",
       "    }\n",
       "\n",
       "    .dataframe tbody tr th {\n",
       "        vertical-align: top;\n",
       "    }\n",
       "\n",
       "    .dataframe thead th {\n",
       "        text-align: right;\n",
       "    }\n",
       "</style>\n",
       "<table border=\"1\" class=\"dataframe\">\n",
       "  <thead>\n",
       "    <tr style=\"text-align: right;\">\n",
       "      <th></th>\n",
       "      <th>team1</th>\n",
       "      <th>team2</th>\n",
       "      <th>score1</th>\n",
       "      <th>score2</th>\n",
       "      <th>xg1</th>\n",
       "      <th>xg2</th>\n",
       "    </tr>\n",
       "  </thead>\n",
       "  <tbody>\n",
       "    <tr>\n",
       "      <th>2016-08-13</th>\n",
       "      <td>Burnley</td>\n",
       "      <td>Swansea City</td>\n",
       "      <td>0.0</td>\n",
       "      <td>1.0</td>\n",
       "      <td>1.24</td>\n",
       "      <td>1.84</td>\n",
       "    </tr>\n",
       "    <tr>\n",
       "      <th>2016-08-13</th>\n",
       "      <td>Crystal Palace</td>\n",
       "      <td>WestBrom</td>\n",
       "      <td>0.0</td>\n",
       "      <td>1.0</td>\n",
       "      <td>1.11</td>\n",
       "      <td>0.68</td>\n",
       "    </tr>\n",
       "    <tr>\n",
       "      <th>2016-08-13</th>\n",
       "      <td>Everton</td>\n",
       "      <td>Tottenham Hotspur</td>\n",
       "      <td>1.0</td>\n",
       "      <td>1.0</td>\n",
       "      <td>0.73</td>\n",
       "      <td>1.11</td>\n",
       "    </tr>\n",
       "    <tr>\n",
       "      <th>2016-08-13</th>\n",
       "      <td>HullCity</td>\n",
       "      <td>Leicester City</td>\n",
       "      <td>2.0</td>\n",
       "      <td>1.0</td>\n",
       "      <td>0.85</td>\n",
       "      <td>2.77</td>\n",
       "    </tr>\n",
       "    <tr>\n",
       "      <th>2016-08-13</th>\n",
       "      <td>ManCity</td>\n",
       "      <td>Sunderland</td>\n",
       "      <td>2.0</td>\n",
       "      <td>1.0</td>\n",
       "      <td>2.14</td>\n",
       "      <td>1.25</td>\n",
       "    </tr>\n",
       "  </tbody>\n",
       "</table>\n",
       "</div>"
      ],
      "text/plain": [
       "                     team1              team2  score1  score2   xg1   xg2\n",
       "2016-08-13         Burnley       Swansea City     0.0     1.0  1.24  1.84\n",
       "2016-08-13  Crystal Palace           WestBrom     0.0     1.0  1.11  0.68\n",
       "2016-08-13         Everton  Tottenham Hotspur     1.0     1.0  0.73  1.11\n",
       "2016-08-13        HullCity     Leicester City     2.0     1.0  0.85  2.77\n",
       "2016-08-13         ManCity         Sunderland     2.0     1.0  2.14  1.25"
      ]
     },
     "execution_count": 53,
     "metadata": {},
     "output_type": "execute_result"
    }
   ],
   "source": [
    "# The only thing I really care about is the xg from this dataframe.\n",
    "\n",
    "df.head()"
   ]
  },
  {
   "cell_type": "code",
   "execution_count": 54,
   "metadata": {
    "ExecuteTime": {
     "end_time": "2019-09-24T19:22:37.401473Z",
     "start_time": "2019-09-24T19:22:37.373776Z"
    }
   },
   "outputs": [
    {
     "data": {
      "text/html": [
       "<div>\n",
       "<style scoped>\n",
       "    .dataframe tbody tr th:only-of-type {\n",
       "        vertical-align: middle;\n",
       "    }\n",
       "\n",
       "    .dataframe tbody tr th {\n",
       "        vertical-align: top;\n",
       "    }\n",
       "\n",
       "    .dataframe thead th {\n",
       "        text-align: right;\n",
       "    }\n",
       "</style>\n",
       "<table border=\"1\" class=\"dataframe\">\n",
       "  <thead>\n",
       "    <tr style=\"text-align: right;\">\n",
       "      <th></th>\n",
       "      <th>Div</th>\n",
       "      <th>Date</th>\n",
       "      <th>HomeTeam</th>\n",
       "      <th>AwayTeam</th>\n",
       "      <th>FTHG</th>\n",
       "      <th>FTAG</th>\n",
       "      <th>FTR</th>\n",
       "      <th>HTHG</th>\n",
       "      <th>HTAG</th>\n",
       "      <th>HTR</th>\n",
       "      <th>...</th>\n",
       "      <th>BbAv&lt;2.5</th>\n",
       "      <th>BbAH</th>\n",
       "      <th>BbAHh</th>\n",
       "      <th>BbMxAHH</th>\n",
       "      <th>BbAvAHH</th>\n",
       "      <th>BbMxAHA</th>\n",
       "      <th>BbAvAHA</th>\n",
       "      <th>PSCH</th>\n",
       "      <th>PSCD</th>\n",
       "      <th>PSCA</th>\n",
       "    </tr>\n",
       "    <tr>\n",
       "      <th>date</th>\n",
       "      <th></th>\n",
       "      <th></th>\n",
       "      <th></th>\n",
       "      <th></th>\n",
       "      <th></th>\n",
       "      <th></th>\n",
       "      <th></th>\n",
       "      <th></th>\n",
       "      <th></th>\n",
       "      <th></th>\n",
       "      <th></th>\n",
       "      <th></th>\n",
       "      <th></th>\n",
       "      <th></th>\n",
       "      <th></th>\n",
       "      <th></th>\n",
       "      <th></th>\n",
       "      <th></th>\n",
       "      <th></th>\n",
       "      <th></th>\n",
       "      <th></th>\n",
       "    </tr>\n",
       "  </thead>\n",
       "  <tbody>\n",
       "    <tr>\n",
       "      <th>2016-08-13</th>\n",
       "      <td>E0</td>\n",
       "      <td>13/08/2016</td>\n",
       "      <td>Burnley</td>\n",
       "      <td>Swansea</td>\n",
       "      <td>0</td>\n",
       "      <td>1</td>\n",
       "      <td>A</td>\n",
       "      <td>0</td>\n",
       "      <td>0</td>\n",
       "      <td>D</td>\n",
       "      <td>...</td>\n",
       "      <td>1.61</td>\n",
       "      <td>32</td>\n",
       "      <td>-0.25</td>\n",
       "      <td>2.13</td>\n",
       "      <td>2.06</td>\n",
       "      <td>1.86</td>\n",
       "      <td>1.81</td>\n",
       "      <td>2.79</td>\n",
       "      <td>3.16</td>\n",
       "      <td>2.89</td>\n",
       "    </tr>\n",
       "    <tr>\n",
       "      <th>2016-08-13</th>\n",
       "      <td>E0</td>\n",
       "      <td>13/08/2016</td>\n",
       "      <td>Crystal Palace</td>\n",
       "      <td>West Brom</td>\n",
       "      <td>0</td>\n",
       "      <td>1</td>\n",
       "      <td>A</td>\n",
       "      <td>0</td>\n",
       "      <td>0</td>\n",
       "      <td>D</td>\n",
       "      <td>...</td>\n",
       "      <td>1.52</td>\n",
       "      <td>33</td>\n",
       "      <td>-0.50</td>\n",
       "      <td>2.07</td>\n",
       "      <td>2.00</td>\n",
       "      <td>1.90</td>\n",
       "      <td>1.85</td>\n",
       "      <td>2.25</td>\n",
       "      <td>3.15</td>\n",
       "      <td>3.86</td>\n",
       "    </tr>\n",
       "    <tr>\n",
       "      <th>2016-08-13</th>\n",
       "      <td>E0</td>\n",
       "      <td>13/08/2016</td>\n",
       "      <td>Everton</td>\n",
       "      <td>Tottenham</td>\n",
       "      <td>1</td>\n",
       "      <td>1</td>\n",
       "      <td>D</td>\n",
       "      <td>1</td>\n",
       "      <td>0</td>\n",
       "      <td>H</td>\n",
       "      <td>...</td>\n",
       "      <td>1.77</td>\n",
       "      <td>32</td>\n",
       "      <td>0.25</td>\n",
       "      <td>1.91</td>\n",
       "      <td>1.85</td>\n",
       "      <td>2.09</td>\n",
       "      <td>2.00</td>\n",
       "      <td>3.64</td>\n",
       "      <td>3.54</td>\n",
       "      <td>2.16</td>\n",
       "    </tr>\n",
       "    <tr>\n",
       "      <th>2016-08-13</th>\n",
       "      <td>E0</td>\n",
       "      <td>13/08/2016</td>\n",
       "      <td>Hull</td>\n",
       "      <td>Leicester</td>\n",
       "      <td>2</td>\n",
       "      <td>1</td>\n",
       "      <td>H</td>\n",
       "      <td>1</td>\n",
       "      <td>0</td>\n",
       "      <td>H</td>\n",
       "      <td>...</td>\n",
       "      <td>1.67</td>\n",
       "      <td>31</td>\n",
       "      <td>0.25</td>\n",
       "      <td>2.35</td>\n",
       "      <td>2.26</td>\n",
       "      <td>2.03</td>\n",
       "      <td>1.67</td>\n",
       "      <td>4.68</td>\n",
       "      <td>3.50</td>\n",
       "      <td>1.92</td>\n",
       "    </tr>\n",
       "    <tr>\n",
       "      <th>2016-08-13</th>\n",
       "      <td>E0</td>\n",
       "      <td>13/08/2016</td>\n",
       "      <td>Man City</td>\n",
       "      <td>Sunderland</td>\n",
       "      <td>2</td>\n",
       "      <td>1</td>\n",
       "      <td>H</td>\n",
       "      <td>1</td>\n",
       "      <td>0</td>\n",
       "      <td>H</td>\n",
       "      <td>...</td>\n",
       "      <td>2.48</td>\n",
       "      <td>34</td>\n",
       "      <td>-1.50</td>\n",
       "      <td>1.81</td>\n",
       "      <td>1.73</td>\n",
       "      <td>2.20</td>\n",
       "      <td>2.14</td>\n",
       "      <td>1.25</td>\n",
       "      <td>6.50</td>\n",
       "      <td>14.50</td>\n",
       "    </tr>\n",
       "  </tbody>\n",
       "</table>\n",
       "<p>5 rows × 62 columns</p>\n",
       "</div>"
      ],
      "text/plain": [
       "           Div        Date        HomeTeam    AwayTeam  FTHG  FTAG FTR  HTHG  \\\n",
       "date                                                                           \n",
       "2016-08-13  E0  13/08/2016         Burnley     Swansea     0     1   A     0   \n",
       "2016-08-13  E0  13/08/2016  Crystal Palace   West Brom     0     1   A     0   \n",
       "2016-08-13  E0  13/08/2016         Everton   Tottenham     1     1   D     1   \n",
       "2016-08-13  E0  13/08/2016            Hull   Leicester     2     1   H     1   \n",
       "2016-08-13  E0  13/08/2016        Man City  Sunderland     2     1   H     1   \n",
       "\n",
       "            HTAG HTR  ...   BbAv<2.5  BbAH  BbAHh  BbMxAHH  BbAvAHH  BbMxAHA  \\\n",
       "date                  ...                                                      \n",
       "2016-08-13     0   D  ...       1.61    32  -0.25     2.13     2.06     1.86   \n",
       "2016-08-13     0   D  ...       1.52    33  -0.50     2.07     2.00     1.90   \n",
       "2016-08-13     0   H  ...       1.77    32   0.25     1.91     1.85     2.09   \n",
       "2016-08-13     0   H  ...       1.67    31   0.25     2.35     2.26     2.03   \n",
       "2016-08-13     0   H  ...       2.48    34  -1.50     1.81     1.73     2.20   \n",
       "\n",
       "            BbAvAHA  PSCH  PSCD   PSCA  \n",
       "date                                    \n",
       "2016-08-13     1.81  2.79  3.16   2.89  \n",
       "2016-08-13     1.85  2.25  3.15   3.86  \n",
       "2016-08-13     2.00  3.64  3.54   2.16  \n",
       "2016-08-13     1.67  4.68  3.50   1.92  \n",
       "2016-08-13     2.14  1.25  6.50  14.50  \n",
       "\n",
       "[5 rows x 62 columns]"
      ]
     },
     "execution_count": 54,
     "metadata": {},
     "output_type": "execute_result"
    }
   ],
   "source": [
    "football_all.head()"
   ]
  },
  {
   "cell_type": "code",
   "execution_count": 55,
   "metadata": {
    "ExecuteTime": {
     "end_time": "2019-09-24T19:22:38.537560Z",
     "start_time": "2019-09-24T19:22:38.530878Z"
    }
   },
   "outputs": [
    {
     "data": {
      "text/plain": [
       "Index(['Div', 'Date', 'HomeTeam', 'AwayTeam', 'FTHG', 'FTAG', 'FTR', 'HTHG',\n",
       "       'HTAG', 'HTR', 'Referee', 'HS', 'AS', 'HST', 'AST', 'HF', 'AF', 'HC',\n",
       "       'AC', 'HY', 'AY', 'HR', 'AR', 'B365H', 'B365D', 'B365A', 'BWH', 'BWD',\n",
       "       'BWA', 'IWH', 'IWD', 'IWA', 'PSH', 'PSD', 'PSA', 'WHH', 'WHD', 'WHA',\n",
       "       'VCH', 'VCD', 'VCA', 'Bb1X2', 'BbMxH', 'BbAvH', 'BbMxD', 'BbAvD',\n",
       "       'BbMxA', 'BbAvA', 'BbOU', 'BbMx>2.5', 'BbAv>2.5', 'BbMx<2.5',\n",
       "       'BbAv<2.5', 'BbAH', 'BbAHh', 'BbMxAHH', 'BbAvAHH', 'BbMxAHA', 'BbAvAHA',\n",
       "       'PSCH', 'PSCD', 'PSCA'],\n",
       "      dtype='object')"
      ]
     },
     "execution_count": 55,
     "metadata": {},
     "output_type": "execute_result"
    }
   ],
   "source": [
    "football_all.columns"
   ]
  },
  {
   "cell_type": "code",
   "execution_count": 56,
   "metadata": {
    "ExecuteTime": {
     "end_time": "2019-09-24T19:22:40.489581Z",
     "start_time": "2019-09-24T19:22:40.484750Z"
    }
   },
   "outputs": [],
   "source": [
    "df2 = football_all[['FTR']]"
   ]
  },
  {
   "cell_type": "code",
   "execution_count": 57,
   "metadata": {
    "ExecuteTime": {
     "end_time": "2019-09-24T19:22:41.682144Z",
     "start_time": "2019-09-24T19:22:41.674145Z"
    }
   },
   "outputs": [
    {
     "data": {
      "text/html": [
       "<div>\n",
       "<style scoped>\n",
       "    .dataframe tbody tr th:only-of-type {\n",
       "        vertical-align: middle;\n",
       "    }\n",
       "\n",
       "    .dataframe tbody tr th {\n",
       "        vertical-align: top;\n",
       "    }\n",
       "\n",
       "    .dataframe thead th {\n",
       "        text-align: right;\n",
       "    }\n",
       "</style>\n",
       "<table border=\"1\" class=\"dataframe\">\n",
       "  <thead>\n",
       "    <tr style=\"text-align: right;\">\n",
       "      <th></th>\n",
       "      <th>FTR</th>\n",
       "    </tr>\n",
       "    <tr>\n",
       "      <th>date</th>\n",
       "      <th></th>\n",
       "    </tr>\n",
       "  </thead>\n",
       "  <tbody>\n",
       "    <tr>\n",
       "      <th>2016-08-13</th>\n",
       "      <td>A</td>\n",
       "    </tr>\n",
       "    <tr>\n",
       "      <th>2016-08-13</th>\n",
       "      <td>A</td>\n",
       "    </tr>\n",
       "    <tr>\n",
       "      <th>2016-08-13</th>\n",
       "      <td>D</td>\n",
       "    </tr>\n",
       "    <tr>\n",
       "      <th>2016-08-13</th>\n",
       "      <td>H</td>\n",
       "    </tr>\n",
       "    <tr>\n",
       "      <th>2016-08-13</th>\n",
       "      <td>H</td>\n",
       "    </tr>\n",
       "  </tbody>\n",
       "</table>\n",
       "</div>"
      ],
      "text/plain": [
       "           FTR\n",
       "date          \n",
       "2016-08-13   A\n",
       "2016-08-13   A\n",
       "2016-08-13   D\n",
       "2016-08-13   H\n",
       "2016-08-13   H"
      ]
     },
     "execution_count": 57,
     "metadata": {},
     "output_type": "execute_result"
    }
   ],
   "source": [
    "df2.head()"
   ]
  },
  {
   "cell_type": "code",
   "execution_count": 64,
   "metadata": {
    "ExecuteTime": {
     "end_time": "2019-09-24T19:23:23.772305Z",
     "start_time": "2019-09-24T19:23:23.767191Z"
    }
   },
   "outputs": [],
   "source": [
    "df4 = pd.concat([df,df2], axis=1)"
   ]
  },
  {
   "cell_type": "code",
   "execution_count": 66,
   "metadata": {
    "ExecuteTime": {
     "end_time": "2019-09-24T19:23:30.023751Z",
     "start_time": "2019-09-24T19:23:30.010202Z"
    }
   },
   "outputs": [
    {
     "data": {
      "text/html": [
       "<div>\n",
       "<style scoped>\n",
       "    .dataframe tbody tr th:only-of-type {\n",
       "        vertical-align: middle;\n",
       "    }\n",
       "\n",
       "    .dataframe tbody tr th {\n",
       "        vertical-align: top;\n",
       "    }\n",
       "\n",
       "    .dataframe thead th {\n",
       "        text-align: right;\n",
       "    }\n",
       "</style>\n",
       "<table border=\"1\" class=\"dataframe\">\n",
       "  <thead>\n",
       "    <tr style=\"text-align: right;\">\n",
       "      <th></th>\n",
       "      <th>team1</th>\n",
       "      <th>team2</th>\n",
       "      <th>score1</th>\n",
       "      <th>score2</th>\n",
       "      <th>xg1</th>\n",
       "      <th>xg2</th>\n",
       "      <th>FTR</th>\n",
       "    </tr>\n",
       "    <tr>\n",
       "      <th>date</th>\n",
       "      <th></th>\n",
       "      <th></th>\n",
       "      <th></th>\n",
       "      <th></th>\n",
       "      <th></th>\n",
       "      <th></th>\n",
       "      <th></th>\n",
       "    </tr>\n",
       "  </thead>\n",
       "  <tbody>\n",
       "    <tr>\n",
       "      <th>2016-08-13</th>\n",
       "      <td>Burnley</td>\n",
       "      <td>Swansea City</td>\n",
       "      <td>0.0</td>\n",
       "      <td>1.0</td>\n",
       "      <td>1.24</td>\n",
       "      <td>1.84</td>\n",
       "      <td>A</td>\n",
       "    </tr>\n",
       "    <tr>\n",
       "      <th>2016-08-13</th>\n",
       "      <td>Crystal Palace</td>\n",
       "      <td>WestBrom</td>\n",
       "      <td>0.0</td>\n",
       "      <td>1.0</td>\n",
       "      <td>1.11</td>\n",
       "      <td>0.68</td>\n",
       "      <td>A</td>\n",
       "    </tr>\n",
       "    <tr>\n",
       "      <th>2016-08-13</th>\n",
       "      <td>Everton</td>\n",
       "      <td>Tottenham Hotspur</td>\n",
       "      <td>1.0</td>\n",
       "      <td>1.0</td>\n",
       "      <td>0.73</td>\n",
       "      <td>1.11</td>\n",
       "      <td>D</td>\n",
       "    </tr>\n",
       "    <tr>\n",
       "      <th>2016-08-13</th>\n",
       "      <td>HullCity</td>\n",
       "      <td>Leicester City</td>\n",
       "      <td>2.0</td>\n",
       "      <td>1.0</td>\n",
       "      <td>0.85</td>\n",
       "      <td>2.77</td>\n",
       "      <td>H</td>\n",
       "    </tr>\n",
       "    <tr>\n",
       "      <th>2016-08-13</th>\n",
       "      <td>ManCity</td>\n",
       "      <td>Sunderland</td>\n",
       "      <td>2.0</td>\n",
       "      <td>1.0</td>\n",
       "      <td>2.14</td>\n",
       "      <td>1.25</td>\n",
       "      <td>H</td>\n",
       "    </tr>\n",
       "  </tbody>\n",
       "</table>\n",
       "</div>"
      ],
      "text/plain": [
       "                     team1              team2  score1  score2   xg1   xg2 FTR\n",
       "date                                                                         \n",
       "2016-08-13         Burnley       Swansea City     0.0     1.0  1.24  1.84   A\n",
       "2016-08-13  Crystal Palace           WestBrom     0.0     1.0  1.11  0.68   A\n",
       "2016-08-13         Everton  Tottenham Hotspur     1.0     1.0  0.73  1.11   D\n",
       "2016-08-13        HullCity     Leicester City     2.0     1.0  0.85  2.77   H\n",
       "2016-08-13         ManCity         Sunderland     2.0     1.0  2.14  1.25   H"
      ]
     },
     "execution_count": 66,
     "metadata": {},
     "output_type": "execute_result"
    }
   ],
   "source": [
    "df4.head()"
   ]
  },
  {
   "cell_type": "code",
   "execution_count": 67,
   "metadata": {
    "ExecuteTime": {
     "end_time": "2019-09-24T19:23:38.602757Z",
     "start_time": "2019-09-24T19:23:38.597431Z"
    }
   },
   "outputs": [],
   "source": [
    "# Creating my target variables, changing from H for Home Win to a 0 for Home Win\n",
    "\n",
    "df4['FTR'] = [0 if i=='H' else 1 if i=='A' else 2 for i in df4['FTR']]"
   ]
  },
  {
   "cell_type": "code",
   "execution_count": 68,
   "metadata": {
    "ExecuteTime": {
     "end_time": "2019-09-24T19:23:41.600922Z",
     "start_time": "2019-09-24T19:23:41.587836Z"
    }
   },
   "outputs": [
    {
     "data": {
      "text/html": [
       "<div>\n",
       "<style scoped>\n",
       "    .dataframe tbody tr th:only-of-type {\n",
       "        vertical-align: middle;\n",
       "    }\n",
       "\n",
       "    .dataframe tbody tr th {\n",
       "        vertical-align: top;\n",
       "    }\n",
       "\n",
       "    .dataframe thead th {\n",
       "        text-align: right;\n",
       "    }\n",
       "</style>\n",
       "<table border=\"1\" class=\"dataframe\">\n",
       "  <thead>\n",
       "    <tr style=\"text-align: right;\">\n",
       "      <th></th>\n",
       "      <th>team1</th>\n",
       "      <th>team2</th>\n",
       "      <th>score1</th>\n",
       "      <th>score2</th>\n",
       "      <th>xg1</th>\n",
       "      <th>xg2</th>\n",
       "      <th>FTR</th>\n",
       "    </tr>\n",
       "    <tr>\n",
       "      <th>date</th>\n",
       "      <th></th>\n",
       "      <th></th>\n",
       "      <th></th>\n",
       "      <th></th>\n",
       "      <th></th>\n",
       "      <th></th>\n",
       "      <th></th>\n",
       "    </tr>\n",
       "  </thead>\n",
       "  <tbody>\n",
       "    <tr>\n",
       "      <th>2016-08-13</th>\n",
       "      <td>Burnley</td>\n",
       "      <td>Swansea City</td>\n",
       "      <td>0.0</td>\n",
       "      <td>1.0</td>\n",
       "      <td>1.24</td>\n",
       "      <td>1.84</td>\n",
       "      <td>1</td>\n",
       "    </tr>\n",
       "    <tr>\n",
       "      <th>2016-08-13</th>\n",
       "      <td>Crystal Palace</td>\n",
       "      <td>WestBrom</td>\n",
       "      <td>0.0</td>\n",
       "      <td>1.0</td>\n",
       "      <td>1.11</td>\n",
       "      <td>0.68</td>\n",
       "      <td>1</td>\n",
       "    </tr>\n",
       "    <tr>\n",
       "      <th>2016-08-13</th>\n",
       "      <td>Everton</td>\n",
       "      <td>Tottenham Hotspur</td>\n",
       "      <td>1.0</td>\n",
       "      <td>1.0</td>\n",
       "      <td>0.73</td>\n",
       "      <td>1.11</td>\n",
       "      <td>2</td>\n",
       "    </tr>\n",
       "    <tr>\n",
       "      <th>2016-08-13</th>\n",
       "      <td>HullCity</td>\n",
       "      <td>Leicester City</td>\n",
       "      <td>2.0</td>\n",
       "      <td>1.0</td>\n",
       "      <td>0.85</td>\n",
       "      <td>2.77</td>\n",
       "      <td>0</td>\n",
       "    </tr>\n",
       "    <tr>\n",
       "      <th>2016-08-13</th>\n",
       "      <td>ManCity</td>\n",
       "      <td>Sunderland</td>\n",
       "      <td>2.0</td>\n",
       "      <td>1.0</td>\n",
       "      <td>2.14</td>\n",
       "      <td>1.25</td>\n",
       "      <td>0</td>\n",
       "    </tr>\n",
       "  </tbody>\n",
       "</table>\n",
       "</div>"
      ],
      "text/plain": [
       "                     team1              team2  score1  score2   xg1   xg2  FTR\n",
       "date                                                                          \n",
       "2016-08-13         Burnley       Swansea City     0.0     1.0  1.24  1.84    1\n",
       "2016-08-13  Crystal Palace           WestBrom     0.0     1.0  1.11  0.68    1\n",
       "2016-08-13         Everton  Tottenham Hotspur     1.0     1.0  0.73  1.11    2\n",
       "2016-08-13        HullCity     Leicester City     2.0     1.0  0.85  2.77    0\n",
       "2016-08-13         ManCity         Sunderland     2.0     1.0  2.14  1.25    0"
      ]
     },
     "execution_count": 68,
     "metadata": {},
     "output_type": "execute_result"
    }
   ],
   "source": [
    "df4.head()"
   ]
  },
  {
   "cell_type": "markdown",
   "metadata": {},
   "source": [
    "Below I am combining columns from the viewpoint of the home team. The columns relate to Half Time Home Goals and Half Time Away Goals and Home Shots on Target and Away Shots on Target. By subtracting the Away value from the Home value I am reducing the number of input variables. Also, I get a chance to rename the columns"
   ]
  },
  {
   "cell_type": "code",
   "execution_count": 69,
   "metadata": {
    "ExecuteTime": {
     "end_time": "2019-09-24T19:23:47.909636Z",
     "start_time": "2019-09-24T19:23:47.907131Z"
    }
   },
   "outputs": [],
   "source": [
    "# First Season"
   ]
  },
  {
   "cell_type": "code",
   "execution_count": 70,
   "metadata": {
    "ExecuteTime": {
     "end_time": "2019-09-24T19:23:48.109182Z",
     "start_time": "2019-09-24T19:23:48.099701Z"
    }
   },
   "outputs": [
    {
     "data": {
      "text/plain": [
       "(380, 7)"
      ]
     },
     "execution_count": 70,
     "metadata": {},
     "output_type": "execute_result"
    }
   ],
   "source": [
    "df4[(df4.index <= '2017-06') & (df4.index >= '2016-08')].shape # First Whole Season"
   ]
  },
  {
   "cell_type": "code",
   "execution_count": 71,
   "metadata": {
    "ExecuteTime": {
     "end_time": "2019-09-24T19:23:49.580067Z",
     "start_time": "2019-09-24T19:23:49.519038Z"
    }
   },
   "outputs": [
    {
     "name": "stderr",
     "output_type": "stream",
     "text": [
      "/anaconda3/lib/python3.7/site-packages/ipykernel_launcher.py:2: SettingWithCopyWarning: \n",
      "A value is trying to be set on a copy of a slice from a DataFrame.\n",
      "Try using .loc[row_indexer,col_indexer] = value instead\n",
      "\n",
      "See the caveats in the documentation: http://pandas.pydata.org/pandas-docs/stable/indexing.html#indexing-view-versus-copy\n",
      "  \n"
     ]
    }
   ],
   "source": [
    "df11 = df4[(df4.index < '2016-12') & (df4.index >= '2016-08')]  #First third of First Season\n",
    "df11['season_period'] = [0 for i in df11.index]"
   ]
  },
  {
   "cell_type": "code",
   "execution_count": 72,
   "metadata": {
    "ExecuteTime": {
     "end_time": "2019-09-24T19:23:49.812219Z",
     "start_time": "2019-09-24T19:23:49.773433Z"
    }
   },
   "outputs": [
    {
     "name": "stderr",
     "output_type": "stream",
     "text": [
      "/anaconda3/lib/python3.7/site-packages/ipykernel_launcher.py:2: SettingWithCopyWarning: \n",
      "A value is trying to be set on a copy of a slice from a DataFrame.\n",
      "Try using .loc[row_indexer,col_indexer] = value instead\n",
      "\n",
      "See the caveats in the documentation: http://pandas.pydata.org/pandas-docs/stable/indexing.html#indexing-view-versus-copy\n",
      "  \n"
     ]
    }
   ],
   "source": [
    "df21 = df4[(df4.index < '2017-04') & (df4.index >= '2016-12')] # Second third of First Season\n",
    "df21['season_period'] = [1 for i in df21.index]"
   ]
  },
  {
   "cell_type": "code",
   "execution_count": 73,
   "metadata": {
    "ExecuteTime": {
     "end_time": "2019-09-24T19:23:49.933931Z",
     "start_time": "2019-09-24T19:23:49.898367Z"
    }
   },
   "outputs": [
    {
     "name": "stderr",
     "output_type": "stream",
     "text": [
      "/anaconda3/lib/python3.7/site-packages/ipykernel_launcher.py:2: SettingWithCopyWarning: \n",
      "A value is trying to be set on a copy of a slice from a DataFrame.\n",
      "Try using .loc[row_indexer,col_indexer] = value instead\n",
      "\n",
      "See the caveats in the documentation: http://pandas.pydata.org/pandas-docs/stable/indexing.html#indexing-view-versus-copy\n",
      "  \n"
     ]
    }
   ],
   "source": [
    "df31 = df4[(df4.index < '2017-07') & (df4.index >= '2017-04')] # Final third of First Season\n",
    "df31['season_period'] = [2 for i in df31.index]"
   ]
  },
  {
   "cell_type": "code",
   "execution_count": 74,
   "metadata": {
    "ExecuteTime": {
     "end_time": "2019-09-24T19:23:50.127668Z",
     "start_time": "2019-09-24T19:23:50.122786Z"
    }
   },
   "outputs": [],
   "source": [
    "# Second Season"
   ]
  },
  {
   "cell_type": "code",
   "execution_count": 75,
   "metadata": {
    "ExecuteTime": {
     "end_time": "2019-09-24T19:23:50.438458Z",
     "start_time": "2019-09-24T19:23:50.427308Z"
    }
   },
   "outputs": [
    {
     "data": {
      "text/plain": [
       "(380, 7)"
      ]
     },
     "execution_count": 75,
     "metadata": {},
     "output_type": "execute_result"
    }
   ],
   "source": [
    "df4[(df4.index <= '2018-06') & (df4.index >= '2017-08')].shape # Second Whole Season"
   ]
  },
  {
   "cell_type": "code",
   "execution_count": 76,
   "metadata": {
    "ExecuteTime": {
     "end_time": "2019-09-24T19:23:50.745510Z",
     "start_time": "2019-09-24T19:23:50.715964Z"
    }
   },
   "outputs": [
    {
     "name": "stderr",
     "output_type": "stream",
     "text": [
      "/anaconda3/lib/python3.7/site-packages/ipykernel_launcher.py:2: SettingWithCopyWarning: \n",
      "A value is trying to be set on a copy of a slice from a DataFrame.\n",
      "Try using .loc[row_indexer,col_indexer] = value instead\n",
      "\n",
      "See the caveats in the documentation: http://pandas.pydata.org/pandas-docs/stable/indexing.html#indexing-view-versus-copy\n",
      "  \n"
     ]
    }
   ],
   "source": [
    "df12 = df4[(df4.index < '2017-12') & (df4.index >= '2017-08')]  #First third of Second Season\n",
    "df12['season_period'] = [0 for i in df12.index]"
   ]
  },
  {
   "cell_type": "code",
   "execution_count": 77,
   "metadata": {
    "ExecuteTime": {
     "end_time": "2019-09-24T19:23:50.963079Z",
     "start_time": "2019-09-24T19:23:50.919407Z"
    }
   },
   "outputs": [
    {
     "name": "stderr",
     "output_type": "stream",
     "text": [
      "/anaconda3/lib/python3.7/site-packages/ipykernel_launcher.py:2: SettingWithCopyWarning: \n",
      "A value is trying to be set on a copy of a slice from a DataFrame.\n",
      "Try using .loc[row_indexer,col_indexer] = value instead\n",
      "\n",
      "See the caveats in the documentation: http://pandas.pydata.org/pandas-docs/stable/indexing.html#indexing-view-versus-copy\n",
      "  \n"
     ]
    }
   ],
   "source": [
    "df22 = df4[(df4.index < '2018-04') & (df4.index >= '2017-12')] # Second third of Second Season\n",
    "df22['season_period'] = [1 for i in df22.index]"
   ]
  },
  {
   "cell_type": "code",
   "execution_count": 78,
   "metadata": {
    "ExecuteTime": {
     "end_time": "2019-09-24T19:23:51.103075Z",
     "start_time": "2019-09-24T19:23:51.065867Z"
    }
   },
   "outputs": [
    {
     "name": "stderr",
     "output_type": "stream",
     "text": [
      "/anaconda3/lib/python3.7/site-packages/ipykernel_launcher.py:2: SettingWithCopyWarning: \n",
      "A value is trying to be set on a copy of a slice from a DataFrame.\n",
      "Try using .loc[row_indexer,col_indexer] = value instead\n",
      "\n",
      "See the caveats in the documentation: http://pandas.pydata.org/pandas-docs/stable/indexing.html#indexing-view-versus-copy\n",
      "  \n"
     ]
    }
   ],
   "source": [
    "df32 = df4[(df4.index < '2018-07') & (df4.index >= '2018-04')] # Final third of Second Season\n",
    "df32['season_period'] = [2 for i in df32.index]"
   ]
  },
  {
   "cell_type": "code",
   "execution_count": 79,
   "metadata": {
    "ExecuteTime": {
     "end_time": "2019-09-24T19:23:51.234507Z",
     "start_time": "2019-09-24T19:23:51.230480Z"
    }
   },
   "outputs": [],
   "source": [
    "# Third Season"
   ]
  },
  {
   "cell_type": "code",
   "execution_count": 80,
   "metadata": {
    "ExecuteTime": {
     "end_time": "2019-09-24T19:23:52.598722Z",
     "start_time": "2019-09-24T19:23:52.591300Z"
    }
   },
   "outputs": [
    {
     "data": {
      "text/plain": [
       "(380, 7)"
      ]
     },
     "execution_count": 80,
     "metadata": {},
     "output_type": "execute_result"
    }
   ],
   "source": [
    "df4[(df4.index <= '2019-06') & (df4.index >= '2018-08')].shape# Third Whole Season"
   ]
  },
  {
   "cell_type": "code",
   "execution_count": 81,
   "metadata": {
    "ExecuteTime": {
     "end_time": "2019-09-24T19:23:52.860358Z",
     "start_time": "2019-09-24T19:23:52.815803Z"
    }
   },
   "outputs": [
    {
     "name": "stderr",
     "output_type": "stream",
     "text": [
      "/anaconda3/lib/python3.7/site-packages/ipykernel_launcher.py:2: SettingWithCopyWarning: \n",
      "A value is trying to be set on a copy of a slice from a DataFrame.\n",
      "Try using .loc[row_indexer,col_indexer] = value instead\n",
      "\n",
      "See the caveats in the documentation: http://pandas.pydata.org/pandas-docs/stable/indexing.html#indexing-view-versus-copy\n",
      "  \n"
     ]
    }
   ],
   "source": [
    "df13 = df4[(df4.index < '2018-12') & (df4.index >= '2018-08')]  #First third of Third Season\n",
    "df13['season_period'] = [0 for i in df13.index]"
   ]
  },
  {
   "cell_type": "code",
   "execution_count": 82,
   "metadata": {
    "ExecuteTime": {
     "end_time": "2019-09-24T19:23:52.930398Z",
     "start_time": "2019-09-24T19:23:52.900612Z"
    }
   },
   "outputs": [
    {
     "name": "stderr",
     "output_type": "stream",
     "text": [
      "/anaconda3/lib/python3.7/site-packages/ipykernel_launcher.py:2: SettingWithCopyWarning: \n",
      "A value is trying to be set on a copy of a slice from a DataFrame.\n",
      "Try using .loc[row_indexer,col_indexer] = value instead\n",
      "\n",
      "See the caveats in the documentation: http://pandas.pydata.org/pandas-docs/stable/indexing.html#indexing-view-versus-copy\n",
      "  \n"
     ]
    }
   ],
   "source": [
    "df23 = df4[(df4.index < '2019-04') & (df4.index >= '2018-12')] # Second third of Third Season\n",
    "df23['season_period'] = [1 for i in df23.index]"
   ]
  },
  {
   "cell_type": "code",
   "execution_count": 83,
   "metadata": {
    "ExecuteTime": {
     "end_time": "2019-09-24T19:23:53.159024Z",
     "start_time": "2019-09-24T19:23:53.109821Z"
    }
   },
   "outputs": [
    {
     "name": "stderr",
     "output_type": "stream",
     "text": [
      "/anaconda3/lib/python3.7/site-packages/ipykernel_launcher.py:2: SettingWithCopyWarning: \n",
      "A value is trying to be set on a copy of a slice from a DataFrame.\n",
      "Try using .loc[row_indexer,col_indexer] = value instead\n",
      "\n",
      "See the caveats in the documentation: http://pandas.pydata.org/pandas-docs/stable/indexing.html#indexing-view-versus-copy\n",
      "  \n"
     ]
    }
   ],
   "source": [
    "df33 = df4[(df4.index < '2019-07') & (df4.index >= '2019-04')] # Final third of Third Season\n",
    "df33['season_period'] = [2 for i in df33.index]"
   ]
  },
  {
   "cell_type": "code",
   "execution_count": 84,
   "metadata": {
    "ExecuteTime": {
     "end_time": "2019-09-24T19:23:53.238633Z",
     "start_time": "2019-09-24T19:23:53.231799Z"
    }
   },
   "outputs": [
    {
     "data": {
      "text/plain": [
       "(1140, 7)"
      ]
     },
     "execution_count": 84,
     "metadata": {},
     "output_type": "execute_result"
    }
   ],
   "source": [
    "df4.shape"
   ]
  },
  {
   "cell_type": "code",
   "execution_count": 85,
   "metadata": {
    "ExecuteTime": {
     "end_time": "2019-09-24T19:23:53.410292Z",
     "start_time": "2019-09-24T19:23:53.406922Z"
    }
   },
   "outputs": [],
   "source": [
    "frames = [df11, df21, df31, df12, df22, df32, df13, df23, df33]\n"
   ]
  },
  {
   "cell_type": "code",
   "execution_count": 86,
   "metadata": {
    "ExecuteTime": {
     "end_time": "2019-09-24T19:23:53.566083Z",
     "start_time": "2019-09-24T19:23:53.553955Z"
    }
   },
   "outputs": [],
   "source": [
    "df5 = pd.concat(frames)"
   ]
  },
  {
   "cell_type": "code",
   "execution_count": 87,
   "metadata": {
    "ExecuteTime": {
     "end_time": "2019-09-24T19:23:59.098668Z",
     "start_time": "2019-09-24T19:23:59.092743Z"
    }
   },
   "outputs": [
    {
     "data": {
      "text/plain": [
       "(1140, 8)"
      ]
     },
     "execution_count": 87,
     "metadata": {},
     "output_type": "execute_result"
    }
   ],
   "source": [
    "df5.shape"
   ]
  },
  {
   "cell_type": "code",
   "execution_count": 88,
   "metadata": {
    "ExecuteTime": {
     "end_time": "2019-09-24T19:24:00.391939Z",
     "start_time": "2019-09-24T19:24:00.385958Z"
    }
   },
   "outputs": [],
   "source": [
    "df5 = df5.sort_values(by = ['date', 'team1'], ascending = True)"
   ]
  },
  {
   "cell_type": "code",
   "execution_count": 89,
   "metadata": {
    "ExecuteTime": {
     "end_time": "2019-09-24T19:24:01.736165Z",
     "start_time": "2019-09-24T19:24:01.726811Z"
    }
   },
   "outputs": [],
   "source": [
    "# Run the below to generate a key for all the home teams to merge with Home Elo's\n",
    "\n",
    "df5['key'] = [str(i)+n[:5] for i,n in zip(df5.index, df5['team1'])]"
   ]
  },
  {
   "cell_type": "code",
   "execution_count": 90,
   "metadata": {
    "ExecuteTime": {
     "end_time": "2019-09-24T19:24:02.382732Z",
     "start_time": "2019-09-24T19:24:02.371351Z"
    }
   },
   "outputs": [
    {
     "ename": "NameError",
     "evalue": "name 'all_elo' is not defined",
     "output_type": "error",
     "traceback": [
      "\u001b[0;31m---------------------------------------------------------------------------\u001b[0m",
      "\u001b[0;31mNameError\u001b[0m                                 Traceback (most recent call last)",
      "\u001b[0;32m<ipython-input-90-1205fd175e0d>\u001b[0m in \u001b[0;36m<module>\u001b[0;34m\u001b[0m\n\u001b[0;32m----> 1\u001b[0;31m \u001b[0mdf5\u001b[0m \u001b[0;34m=\u001b[0m \u001b[0mpd\u001b[0m\u001b[0;34m.\u001b[0m\u001b[0mmerge\u001b[0m\u001b[0;34m(\u001b[0m\u001b[0mleft\u001b[0m\u001b[0;34m=\u001b[0m\u001b[0mdf5\u001b[0m\u001b[0;34m,\u001b[0m \u001b[0mright\u001b[0m\u001b[0;34m=\u001b[0m\u001b[0mall_elo\u001b[0m\u001b[0;34m,\u001b[0m \u001b[0mleft_on\u001b[0m\u001b[0;34m=\u001b[0m\u001b[0;34m'key'\u001b[0m\u001b[0;34m,\u001b[0m \u001b[0mright_on\u001b[0m\u001b[0;34m=\u001b[0m\u001b[0;34m'key'\u001b[0m\u001b[0;34m,\u001b[0m \u001b[0mhow\u001b[0m\u001b[0;34m=\u001b[0m\u001b[0;34m'left'\u001b[0m\u001b[0;34m)\u001b[0m\u001b[0;34m\u001b[0m\u001b[0;34m\u001b[0m\u001b[0m\n\u001b[0m",
      "\u001b[0;31mNameError\u001b[0m: name 'all_elo' is not defined"
     ]
    }
   ],
   "source": [
    "df5 = pd.merge(left=df5, right=all_elo, left_on='key', right_on='key', how='left')"
   ]
  },
  {
   "cell_type": "code",
   "execution_count": null,
   "metadata": {
    "ExecuteTime": {
     "end_time": "2019-09-09T19:02:36.541919Z",
     "start_time": "2019-09-09T19:02:36.534587Z"
    }
   },
   "outputs": [],
   "source": [
    "df5.shape"
   ]
  },
  {
   "cell_type": "code",
   "execution_count": null,
   "metadata": {
    "ExecuteTime": {
     "end_time": "2019-09-09T19:02:36.893725Z",
     "start_time": "2019-09-09T19:02:36.889732Z"
    }
   },
   "outputs": [],
   "source": [
    "df5['home_elo'] = [i for i in df5['Elo']]"
   ]
  },
  {
   "cell_type": "code",
   "execution_count": null,
   "metadata": {
    "ExecuteTime": {
     "end_time": "2019-09-09T19:02:38.769052Z",
     "start_time": "2019-09-09T19:02:38.763565Z"
    }
   },
   "outputs": [],
   "source": [
    "df5.drop(columns=['key', 'Club', 'Elo'], inplace=True)"
   ]
  },
  {
   "cell_type": "code",
   "execution_count": null,
   "metadata": {
    "ExecuteTime": {
     "end_time": "2019-09-09T19:02:40.190440Z",
     "start_time": "2019-09-09T19:02:40.184943Z"
    }
   },
   "outputs": [],
   "source": [
    "df5.columns"
   ]
  },
  {
   "cell_type": "code",
   "execution_count": null,
   "metadata": {
    "ExecuteTime": {
     "end_time": "2019-09-09T19:02:40.591581Z",
     "start_time": "2019-09-09T19:02:40.580528Z"
    }
   },
   "outputs": [],
   "source": [
    "# Lost index during merge, need to recreate it\n",
    "df5['date'] = [i for i in df4.index]"
   ]
  },
  {
   "cell_type": "code",
   "execution_count": null,
   "metadata": {
    "ExecuteTime": {
     "end_time": "2019-09-09T19:02:41.576184Z",
     "start_time": "2019-09-09T19:02:41.553312Z"
    }
   },
   "outputs": [],
   "source": [
    "df5.head(10)"
   ]
  },
  {
   "cell_type": "code",
   "execution_count": null,
   "metadata": {
    "ExecuteTime": {
     "end_time": "2019-09-09T19:02:44.235770Z",
     "start_time": "2019-09-09T19:02:44.231673Z"
    }
   },
   "outputs": [],
   "source": [
    "df5.set_index('date', inplace=True)"
   ]
  },
  {
   "cell_type": "code",
   "execution_count": null,
   "metadata": {
    "ExecuteTime": {
     "end_time": "2019-09-09T19:02:44.674753Z",
     "start_time": "2019-09-09T19:02:44.665309Z"
    }
   },
   "outputs": [],
   "source": [
    "# change key so that I can add away elo, too\n",
    "\n",
    "df5['key'] = [str(i)+n[:5] for i,n in zip(df5.index, df5['team2'])]"
   ]
  },
  {
   "cell_type": "code",
   "execution_count": null,
   "metadata": {
    "ExecuteTime": {
     "end_time": "2019-09-09T19:02:45.226238Z",
     "start_time": "2019-09-09T19:02:45.210499Z"
    }
   },
   "outputs": [],
   "source": [
    "df5 = pd.merge(left=df5, right=all_elo, left_on='key', right_on='key', how='left')"
   ]
  },
  {
   "cell_type": "code",
   "execution_count": null,
   "metadata": {
    "ExecuteTime": {
     "end_time": "2019-09-09T19:02:45.778170Z",
     "start_time": "2019-09-09T19:02:45.773115Z"
    }
   },
   "outputs": [],
   "source": [
    "df5.shape"
   ]
  },
  {
   "cell_type": "code",
   "execution_count": null,
   "metadata": {
    "ExecuteTime": {
     "end_time": "2019-09-09T19:02:47.293613Z",
     "start_time": "2019-09-09T19:02:47.289671Z"
    }
   },
   "outputs": [],
   "source": [
    "df5['away_elo'] = [i for i in df5['Elo']]"
   ]
  },
  {
   "cell_type": "code",
   "execution_count": null,
   "metadata": {
    "ExecuteTime": {
     "end_time": "2019-09-09T19:02:47.659919Z",
     "start_time": "2019-09-09T19:02:47.654101Z"
    }
   },
   "outputs": [],
   "source": [
    "df5.drop(columns=['key', 'Club', 'Elo'], inplace=True)"
   ]
  },
  {
   "cell_type": "code",
   "execution_count": null,
   "metadata": {
    "ExecuteTime": {
     "end_time": "2019-09-09T19:19:59.941898Z",
     "start_time": "2019-09-09T19:19:59.914029Z"
    }
   },
   "outputs": [],
   "source": [
    "df5.tail(10)"
   ]
  },
  {
   "cell_type": "code",
   "execution_count": null,
   "metadata": {
    "ExecuteTime": {
     "end_time": "2019-09-09T19:02:53.687123Z",
     "start_time": "2019-09-09T19:02:53.677989Z"
    }
   },
   "outputs": [],
   "source": [
    "df5.home_elo.isnull().sum()"
   ]
  },
  {
   "cell_type": "code",
   "execution_count": null,
   "metadata": {
    "ExecuteTime": {
     "end_time": "2019-09-09T19:02:54.288835Z",
     "start_time": "2019-09-09T19:02:54.285951Z"
    }
   },
   "outputs": [],
   "source": [
    "teams = list(df5.team1.unique())"
   ]
  },
  {
   "cell_type": "code",
   "execution_count": null,
   "metadata": {
    "ExecuteTime": {
     "end_time": "2019-09-09T19:02:54.936514Z",
     "start_time": "2019-09-09T19:02:54.932772Z"
    }
   },
   "outputs": [],
   "source": [
    "df5.set_index(df4.index, inplace=True)"
   ]
  },
  {
   "cell_type": "code",
   "execution_count": null,
   "metadata": {
    "ExecuteTime": {
     "end_time": "2019-09-09T19:04:13.786638Z",
     "start_time": "2019-09-09T19:04:13.773962Z"
    }
   },
   "outputs": [],
   "source": [
    "df5['score1'] = df['score1']\n",
    "df5['score2'] = df['score2']"
   ]
  },
  {
   "cell_type": "code",
   "execution_count": null,
   "metadata": {
    "ExecuteTime": {
     "end_time": "2019-09-09T19:21:46.022163Z",
     "start_time": "2019-09-09T19:21:46.010398Z"
    }
   },
   "outputs": [],
   "source": [
    "df5['FTR_alpha'] = football_all['FTR']"
   ]
  },
  {
   "cell_type": "code",
   "execution_count": null,
   "metadata": {
    "ExecuteTime": {
     "end_time": "2019-09-09T19:21:51.934008Z",
     "start_time": "2019-09-09T19:21:51.912618Z"
    }
   },
   "outputs": [],
   "source": [
    "df5.head()"
   ]
  },
  {
   "cell_type": "code",
   "execution_count": null,
   "metadata": {
    "ExecuteTime": {
     "end_time": "2019-09-03T14:58:15.486578Z",
     "start_time": "2019-09-03T14:58:15.482378Z"
    }
   },
   "outputs": [],
   "source": [
    "# creating columns for form and average xg"
   ]
  },
  {
   "cell_type": "code",
   "execution_count": null,
   "metadata": {
    "ExecuteTime": {
     "end_time": "2019-09-09T19:22:20.976051Z",
     "start_time": "2019-09-09T19:22:07.085485Z"
    }
   },
   "outputs": [],
   "source": [
    "new_df = pd.DataFrame()\n",
    "\n",
    "for team in teams:\n",
    "    \n",
    "    tester = df5[df5['team1'] == team] # create a new dataframe sorting by home team only\n",
    "\n",
    "    xg1_tracker = [1,2,3,4,5] # add 5 numbers because the length of the column is five longer than I have data for\n",
    "    xg2_tracker = [1,2,3,4,5]\n",
    "    \n",
    "    gd_tracker = [1,2,3,4,5]\n",
    "    \n",
    "    game_hist = [[1,2,3,4,5],[1,2,3,4,5],[1,2,3,4,5],[1,2,3,4,5],[1,2,3,4,5]]\n",
    "    \n",
    "\n",
    "    for i in range(5,len(tester['xg1'])): # for each row in new dataframe\n",
    "\n",
    "        xg1_adder = 0\n",
    "        xg2_adder = 0\n",
    "        gd1_adder = 0\n",
    "        gd2_adder = 0\n",
    "        \n",
    "        game = 0\n",
    "        history_tracker = []\n",
    "        \n",
    "        for x in range(i-5,i):\n",
    "            \n",
    "            xg1_adder += tester['xg1'][x] # add up the xg for the last five games\n",
    "            xg2_adder += tester['xg2'][x]\n",
    "            history_tracker.append(tester['FTR_alpha'][x])\n",
    "            gd1_adder += tester['score1'][x]\n",
    "            gd2_adder += tester['score2'][x]\n",
    "            \n",
    "            \n",
    "            \n",
    "        xg1_tracker.append(xg1_adder/5) # append the xg to a list dividing by 5 to give the avg\n",
    "        xg2_tracker.append(xg2_adder/5) \n",
    "        \n",
    "        gd_tracker.append((gd1_adder - gd2_adder)/5)\n",
    "        \n",
    "        game_hist.append(history_tracker)\n",
    "\n",
    "        \n",
    "    tester['xg1_5g_avg'] = [i for i in xg1_tracker] # create a column with the avg xg for the last 5 games\n",
    "    tester['xg2_5g_avg'] = [i for i in xg2_tracker]\n",
    "    \n",
    "    tester['gd_5g_avg'] = [i for i in gd_tracker] # goal diff avg over last 5 games\n",
    "    \n",
    "   \n",
    "    tester['game1'] = [i[0] for i in game_hist]\n",
    "    tester['game2'] = [i[1] for i in game_hist]\n",
    "    tester['game3'] = [i[2] for i in game_hist]    \n",
    "    tester['game4'] = [i[3] for i in game_hist]\n",
    "    tester['game5'] = [i[4] for i in game_hist]\n",
    "    \n",
    "    tester = tester.iloc[5:] # ignore the first 5 rows because I don't have historical data for them\n",
    "    \n",
    "    new_df = pd.concat([new_df, tester]) # append updated dataframe to new_df\n"
   ]
  },
  {
   "cell_type": "code",
   "execution_count": null,
   "metadata": {
    "ExecuteTime": {
     "end_time": "2019-09-09T19:23:24.842375Z",
     "start_time": "2019-09-09T19:23:24.821522Z"
    }
   },
   "outputs": [],
   "source": [
    "new_df.tail()"
   ]
  },
  {
   "cell_type": "code",
   "execution_count": null,
   "metadata": {
    "ExecuteTime": {
     "end_time": "2019-09-09T19:23:28.888613Z",
     "start_time": "2019-09-09T19:23:28.866129Z"
    }
   },
   "outputs": [],
   "source": [
    "new_df.head()"
   ]
  },
  {
   "cell_type": "code",
   "execution_count": null,
   "metadata": {
    "ExecuteTime": {
     "end_time": "2019-09-09T19:44:24.024922Z",
     "start_time": "2019-09-09T19:44:24.016382Z"
    }
   },
   "outputs": [],
   "source": [
    "no_club_no_xg = new_df.copy()"
   ]
  },
  {
   "cell_type": "code",
   "execution_count": null,
   "metadata": {
    "ExecuteTime": {
     "end_time": "2019-09-09T19:44:24.221724Z",
     "start_time": "2019-09-09T19:44:24.212061Z"
    }
   },
   "outputs": [],
   "source": [
    "no_club_no_xg['elo_diff'] = no_club_no_xg['home_elo'] - no_club_no_xg['away_elo']"
   ]
  },
  {
   "cell_type": "code",
   "execution_count": null,
   "metadata": {
    "ExecuteTime": {
     "end_time": "2019-09-09T19:44:24.394335Z",
     "start_time": "2019-09-09T19:44:24.389798Z"
    }
   },
   "outputs": [],
   "source": [
    "no_club_no_xg.reset_index(inplace=True)"
   ]
  },
  {
   "cell_type": "code",
   "execution_count": null,
   "metadata": {
    "ExecuteTime": {
     "end_time": "2019-09-09T19:44:24.724157Z",
     "start_time": "2019-09-09T19:44:24.717036Z"
    }
   },
   "outputs": [],
   "source": [
    "no_club_no_xg.columns"
   ]
  },
  {
   "cell_type": "code",
   "execution_count": null,
   "metadata": {
    "ExecuteTime": {
     "end_time": "2019-09-09T19:44:26.687728Z",
     "start_time": "2019-09-09T19:44:26.683734Z"
    }
   },
   "outputs": [],
   "source": [
    "# Remove the below and run again if putting them in order fucks them up"
   ]
  },
  {
   "cell_type": "code",
   "execution_count": null,
   "metadata": {
    "ExecuteTime": {
     "end_time": "2019-09-09T19:44:26.925987Z",
     "start_time": "2019-09-09T19:44:26.918045Z"
    }
   },
   "outputs": [],
   "source": [
    "no_club_no_xg = no_club_no_xg.sort_values(by = ['date', 'team1'], ascending = True)"
   ]
  },
  {
   "cell_type": "code",
   "execution_count": null,
   "metadata": {
    "ExecuteTime": {
     "end_time": "2019-09-09T19:45:03.859521Z",
     "start_time": "2019-09-09T19:45:03.851732Z"
    }
   },
   "outputs": [],
   "source": [
    "no_club_no_xg.drop(columns=['team1', 'team2', 'xg1', 'xg2','yellow_cards', \n",
    "                            'total_shots', 'shots_on_target', 'free_kicks', 'corners', 'red_cards', 'home_elo',\n",
    "                            'away_elo', 'date', 'A Marriner', 'A Taylor', 'C Kavanagh',\n",
    "       'C Pawson', 'D Coote', 'G Scott', 'J Moss', 'K Friend', 'L Mason',\n",
    "       'L Probert', 'M Atkinson', 'M Clattenburg', 'M Dean', 'M Jones',\n",
    "       'M Oliver', 'N Swarbrick', 'P Tierney', 'R East', 'R Madley',\n",
    "       'S Attwell', 'S Hooper', 'l Mason', 'half_time_gd', 'score1', 'score2', 'FTR_alpha'], inplace=True)"
   ]
  },
  {
   "cell_type": "code",
   "execution_count": null,
   "metadata": {
    "ExecuteTime": {
     "end_time": "2019-09-09T19:45:04.217846Z",
     "start_time": "2019-09-09T19:45:04.213665Z"
    }
   },
   "outputs": [],
   "source": [
    "no_club_no_xg['FTR v HTR'] = no_club_no_xg['FTR'] - no_club_no_xg['HTR']"
   ]
  },
  {
   "cell_type": "code",
   "execution_count": null,
   "metadata": {
    "ExecuteTime": {
     "end_time": "2019-09-09T19:45:05.812437Z",
     "start_time": "2019-09-09T19:45:05.803175Z"
    }
   },
   "outputs": [],
   "source": [
    "no_club_no_xg['FTR v HTR'].value_counts(normalize=True)"
   ]
  },
  {
   "cell_type": "code",
   "execution_count": null,
   "metadata": {
    "ExecuteTime": {
     "end_time": "2019-09-09T19:45:06.147676Z",
     "start_time": "2019-09-09T19:45:06.143730Z"
    }
   },
   "outputs": [],
   "source": [
    "# 61% of the time, a match ends the way it is at half time."
   ]
  },
  {
   "cell_type": "code",
   "execution_count": null,
   "metadata": {
    "ExecuteTime": {
     "end_time": "2019-09-09T19:45:06.426542Z",
     "start_time": "2019-09-09T19:45:06.418934Z"
    }
   },
   "outputs": [],
   "source": [
    "no_club_no_xg.drop(columns=['HTR', 'FTR v HTR'], inplace=True)"
   ]
  },
  {
   "cell_type": "code",
   "execution_count": null,
   "metadata": {
    "ExecuteTime": {
     "end_time": "2019-09-09T19:45:07.302647Z",
     "start_time": "2019-09-09T19:45:07.286201Z"
    }
   },
   "outputs": [],
   "source": [
    "no_club_no_xg = pd.get_dummies(no_club_no_xg, drop_first=True)"
   ]
  },
  {
   "cell_type": "code",
   "execution_count": null,
   "metadata": {
    "ExecuteTime": {
     "end_time": "2019-09-09T19:45:07.525546Z",
     "start_time": "2019-09-09T19:45:07.441608Z"
    }
   },
   "outputs": [],
   "source": [
    "new_df.to_csv('new_df.csv')"
   ]
  },
  {
   "cell_type": "code",
   "execution_count": null,
   "metadata": {
    "ExecuteTime": {
     "end_time": "2019-09-09T19:45:07.694958Z",
     "start_time": "2019-09-09T19:45:07.665486Z"
    }
   },
   "outputs": [],
   "source": [
    "no_club_no_xg.to_csv('no_club.csv')"
   ]
  },
  {
   "cell_type": "markdown",
   "metadata": {},
   "source": [
    "# Modelling Time!"
   ]
  },
  {
   "cell_type": "code",
   "execution_count": 1,
   "metadata": {
    "ExecuteTime": {
     "end_time": "2019-09-12T19:25:00.251737Z",
     "start_time": "2019-09-12T19:24:58.774442Z"
    }
   },
   "outputs": [],
   "source": [
    "import pandas as pd\n",
    "import numpy as np\n",
    "import matplotlib.pyplot as plt\n",
    "import seaborn as sns\n",
    "\n",
    "sns.set(font_scale=1.5)\n",
    "%config InlineBackend.figure_format = 'retina'\n",
    "%matplotlib inline"
   ]
  },
  {
   "cell_type": "code",
   "execution_count": 2,
   "metadata": {
    "ExecuteTime": {
     "end_time": "2019-09-12T19:25:01.672882Z",
     "start_time": "2019-09-12T19:25:00.887774Z"
    }
   },
   "outputs": [],
   "source": [
    "from sklearn.metrics import classification_report, confusion_matrix, accuracy_score, roc_curve, roc_auc_score\n",
    "from sklearn.linear_model import LogisticRegression, LogisticRegressionCV\n",
    "from sklearn.model_selection import cross_val_score\n",
    "from sklearn.model_selection import train_test_split\n",
    "from sklearn.preprocessing import StandardScaler"
   ]
  },
  {
   "cell_type": "code",
   "execution_count": 3,
   "metadata": {
    "ExecuteTime": {
     "end_time": "2019-09-12T19:25:03.227285Z",
     "start_time": "2019-09-12T19:25:03.214905Z"
    }
   },
   "outputs": [],
   "source": [
    "modelling_df = pd.read_csv('csv/no_club.csv', index_col=0)"
   ]
  },
  {
   "cell_type": "code",
   "execution_count": 4,
   "metadata": {
    "ExecuteTime": {
     "end_time": "2019-09-12T19:25:03.481721Z",
     "start_time": "2019-09-12T19:25:03.462306Z"
    }
   },
   "outputs": [
    {
     "data": {
      "text/html": [
       "<div>\n",
       "<style scoped>\n",
       "    .dataframe tbody tr th:only-of-type {\n",
       "        vertical-align: middle;\n",
       "    }\n",
       "\n",
       "    .dataframe tbody tr th {\n",
       "        vertical-align: top;\n",
       "    }\n",
       "\n",
       "    .dataframe thead th {\n",
       "        text-align: right;\n",
       "    }\n",
       "</style>\n",
       "<table border=\"1\" class=\"dataframe\">\n",
       "  <thead>\n",
       "    <tr style=\"text-align: right;\">\n",
       "      <th></th>\n",
       "      <th>FTR</th>\n",
       "      <th>season_period</th>\n",
       "      <th>xg1_5g_avg</th>\n",
       "      <th>xg2_5g_avg</th>\n",
       "      <th>gd_5g_avg</th>\n",
       "      <th>elo_diff</th>\n",
       "      <th>game1_D</th>\n",
       "      <th>game1_H</th>\n",
       "      <th>game2_D</th>\n",
       "      <th>game2_H</th>\n",
       "      <th>game3_D</th>\n",
       "      <th>game3_H</th>\n",
       "      <th>game4_D</th>\n",
       "      <th>game4_H</th>\n",
       "      <th>game5_D</th>\n",
       "      <th>game5_H</th>\n",
       "    </tr>\n",
       "  </thead>\n",
       "  <tbody>\n",
       "    <tr>\n",
       "      <th>0</th>\n",
       "      <td>0</td>\n",
       "      <td>0</td>\n",
       "      <td>0.650</td>\n",
       "      <td>1.306</td>\n",
       "      <td>0.4</td>\n",
       "      <td>-90.930786</td>\n",
       "      <td>0</td>\n",
       "      <td>0</td>\n",
       "      <td>0</td>\n",
       "      <td>1</td>\n",
       "      <td>1</td>\n",
       "      <td>0</td>\n",
       "      <td>0</td>\n",
       "      <td>1</td>\n",
       "      <td>0</td>\n",
       "      <td>0</td>\n",
       "    </tr>\n",
       "    <tr>\n",
       "      <th>340</th>\n",
       "      <td>1</td>\n",
       "      <td>0</td>\n",
       "      <td>1.078</td>\n",
       "      <td>1.228</td>\n",
       "      <td>1.0</td>\n",
       "      <td>30.798828</td>\n",
       "      <td>0</td>\n",
       "      <td>0</td>\n",
       "      <td>0</td>\n",
       "      <td>1</td>\n",
       "      <td>0</td>\n",
       "      <td>1</td>\n",
       "      <td>0</td>\n",
       "      <td>1</td>\n",
       "      <td>1</td>\n",
       "      <td>0</td>\n",
       "    </tr>\n",
       "    <tr>\n",
       "      <th>1</th>\n",
       "      <td>0</td>\n",
       "      <td>0</td>\n",
       "      <td>0.596</td>\n",
       "      <td>1.138</td>\n",
       "      <td>0.8</td>\n",
       "      <td>12.096313</td>\n",
       "      <td>0</td>\n",
       "      <td>1</td>\n",
       "      <td>1</td>\n",
       "      <td>0</td>\n",
       "      <td>0</td>\n",
       "      <td>1</td>\n",
       "      <td>0</td>\n",
       "      <td>0</td>\n",
       "      <td>0</td>\n",
       "      <td>1</td>\n",
       "    </tr>\n",
       "    <tr>\n",
       "      <th>392</th>\n",
       "      <td>0</td>\n",
       "      <td>0</td>\n",
       "      <td>2.090</td>\n",
       "      <td>0.756</td>\n",
       "      <td>2.0</td>\n",
       "      <td>110.588257</td>\n",
       "      <td>0</td>\n",
       "      <td>1</td>\n",
       "      <td>0</td>\n",
       "      <td>1</td>\n",
       "      <td>0</td>\n",
       "      <td>0</td>\n",
       "      <td>0</td>\n",
       "      <td>1</td>\n",
       "      <td>0</td>\n",
       "      <td>1</td>\n",
       "    </tr>\n",
       "    <tr>\n",
       "      <th>170</th>\n",
       "      <td>2</td>\n",
       "      <td>0</td>\n",
       "      <td>2.468</td>\n",
       "      <td>0.630</td>\n",
       "      <td>1.4</td>\n",
       "      <td>280.346558</td>\n",
       "      <td>0</td>\n",
       "      <td>1</td>\n",
       "      <td>0</td>\n",
       "      <td>1</td>\n",
       "      <td>0</td>\n",
       "      <td>1</td>\n",
       "      <td>1</td>\n",
       "      <td>0</td>\n",
       "      <td>1</td>\n",
       "      <td>0</td>\n",
       "    </tr>\n",
       "  </tbody>\n",
       "</table>\n",
       "</div>"
      ],
      "text/plain": [
       "     FTR  season_period  xg1_5g_avg  xg2_5g_avg  gd_5g_avg    elo_diff  \\\n",
       "0      0              0       0.650       1.306        0.4  -90.930786   \n",
       "340    1              0       1.078       1.228        1.0   30.798828   \n",
       "1      0              0       0.596       1.138        0.8   12.096313   \n",
       "392    0              0       2.090       0.756        2.0  110.588257   \n",
       "170    2              0       2.468       0.630        1.4  280.346558   \n",
       "\n",
       "     game1_D  game1_H  game2_D  game2_H  game3_D  game3_H  game4_D  game4_H  \\\n",
       "0          0        0        0        1        1        0        0        1   \n",
       "340        0        0        0        1        0        1        0        1   \n",
       "1          0        1        1        0        0        1        0        0   \n",
       "392        0        1        0        1        0        0        0        1   \n",
       "170        0        1        0        1        0        1        1        0   \n",
       "\n",
       "     game5_D  game5_H  \n",
       "0          0        0  \n",
       "340        1        0  \n",
       "1          0        1  \n",
       "392        0        1  \n",
       "170        1        0  "
      ]
     },
     "execution_count": 4,
     "metadata": {},
     "output_type": "execute_result"
    }
   ],
   "source": [
    "modelling_df.head()"
   ]
  },
  {
   "cell_type": "code",
   "execution_count": 5,
   "metadata": {
    "ExecuteTime": {
     "end_time": "2019-09-12T19:25:05.171262Z",
     "start_time": "2019-09-12T19:25:05.166662Z"
    }
   },
   "outputs": [],
   "source": [
    "y = modelling_df.pop('FTR')"
   ]
  },
  {
   "cell_type": "code",
   "execution_count": 6,
   "metadata": {
    "ExecuteTime": {
     "end_time": "2019-09-12T19:25:05.480848Z",
     "start_time": "2019-09-12T19:25:05.465740Z"
    }
   },
   "outputs": [
    {
     "data": {
      "text/plain": [
       "0    0.483168\n",
       "1    0.300000\n",
       "2    0.216832\n",
       "Name: FTR, dtype: float64"
      ]
     },
     "execution_count": 6,
     "metadata": {},
     "output_type": "execute_result"
    }
   ],
   "source": [
    "y.value_counts(normalize=True)"
   ]
  },
  {
   "cell_type": "code",
   "execution_count": 7,
   "metadata": {
    "ExecuteTime": {
     "end_time": "2019-09-12T19:25:07.259669Z",
     "start_time": "2019-09-12T19:25:07.255578Z"
    }
   },
   "outputs": [],
   "source": [
    "# Getting that sweet baseline"
   ]
  },
  {
   "cell_type": "code",
   "execution_count": 8,
   "metadata": {
    "ExecuteTime": {
     "end_time": "2019-09-12T19:25:07.485380Z",
     "start_time": "2019-09-12T19:25:07.477202Z"
    }
   },
   "outputs": [],
   "source": [
    "X = modelling_df.copy()"
   ]
  },
  {
   "cell_type": "code",
   "execution_count": 9,
   "metadata": {
    "ExecuteTime": {
     "end_time": "2019-09-12T19:25:07.709039Z",
     "start_time": "2019-09-12T19:25:07.700145Z"
    }
   },
   "outputs": [],
   "source": [
    "X_train, X_test, y_train, y_test = train_test_split(X, y, test_size=0.2, stratify=y)"
   ]
  },
  {
   "cell_type": "code",
   "execution_count": 10,
   "metadata": {
    "ExecuteTime": {
     "end_time": "2019-09-12T19:25:07.903821Z",
     "start_time": "2019-09-12T19:25:07.884235Z"
    }
   },
   "outputs": [
    {
     "name": "stderr",
     "output_type": "stream",
     "text": [
      "/anaconda3/lib/python3.7/site-packages/sklearn/preprocessing/data.py:625: DataConversionWarning: Data with input dtype int64, float64 were all converted to float64 by StandardScaler.\n",
      "  return self.partial_fit(X, y)\n",
      "/anaconda3/lib/python3.7/site-packages/sklearn/base.py:462: DataConversionWarning: Data with input dtype int64, float64 were all converted to float64 by StandardScaler.\n",
      "  return self.fit(X, **fit_params).transform(X)\n",
      "/anaconda3/lib/python3.7/site-packages/ipykernel_launcher.py:3: DataConversionWarning: Data with input dtype int64, float64 were all converted to float64 by StandardScaler.\n",
      "  This is separate from the ipykernel package so we can avoid doing imports until\n"
     ]
    }
   ],
   "source": [
    "scaler = StandardScaler()\n",
    "X_train = pd.DataFrame(scaler.fit_transform(X_train), columns=X_train.columns)\n",
    "X_test = pd.DataFrame(scaler.transform(X_test), columns=(X_train.columns))"
   ]
  },
  {
   "cell_type": "code",
   "execution_count": 11,
   "metadata": {
    "ExecuteTime": {
     "end_time": "2019-09-12T19:25:08.110860Z",
     "start_time": "2019-09-12T19:25:08.103433Z"
    }
   },
   "outputs": [
    {
     "data": {
      "text/plain": [
       "Index(['season_period', 'xg1_5g_avg', 'xg2_5g_avg', 'gd_5g_avg', 'elo_diff',\n",
       "       'game1_D', 'game1_H', 'game2_D', 'game2_H', 'game3_D', 'game3_H',\n",
       "       'game4_D', 'game4_H', 'game5_D', 'game5_H'],\n",
       "      dtype='object')"
      ]
     },
     "execution_count": 11,
     "metadata": {},
     "output_type": "execute_result"
    }
   ],
   "source": [
    "X_train.columns"
   ]
  },
  {
   "cell_type": "code",
   "execution_count": 12,
   "metadata": {
    "ExecuteTime": {
     "end_time": "2019-09-12T19:25:09.213862Z",
     "start_time": "2019-09-12T19:25:09.015024Z"
    }
   },
   "outputs": [
    {
     "name": "stdout",
     "output_type": "stream",
     "text": [
      "0.5396039603960396\n",
      "0.5346534653465347\n"
     ]
    }
   ],
   "source": [
    "model = LogisticRegressionCV(solver='liblinear', multi_class='ovr', cv=5)\n",
    "\n",
    "model.fit(X_train, y_train)\n",
    "yhat_test = model.predict(X_test)\n",
    "log_reg_test = model.score(X_test, y_test)\n",
    "log_reg_cv = model.score(X_train, y_train)\n",
    "print(log_reg_test)\n",
    "print(log_reg_cv)"
   ]
  },
  {
   "cell_type": "code",
   "execution_count": 13,
   "metadata": {
    "ExecuteTime": {
     "end_time": "2019-09-12T19:25:10.369063Z",
     "start_time": "2019-09-12T19:25:10.355996Z"
    }
   },
   "outputs": [
    {
     "data": {
      "text/html": [
       "<div>\n",
       "<style scoped>\n",
       "    .dataframe tbody tr th:only-of-type {\n",
       "        vertical-align: middle;\n",
       "    }\n",
       "\n",
       "    .dataframe tbody tr th {\n",
       "        vertical-align: top;\n",
       "    }\n",
       "\n",
       "    .dataframe thead th {\n",
       "        text-align: right;\n",
       "    }\n",
       "</style>\n",
       "<table border=\"1\" class=\"dataframe\">\n",
       "  <thead>\n",
       "    <tr style=\"text-align: right;\">\n",
       "      <th></th>\n",
       "      <th>0</th>\n",
       "      <th>1</th>\n",
       "      <th>2</th>\n",
       "    </tr>\n",
       "  </thead>\n",
       "  <tbody>\n",
       "    <tr>\n",
       "      <th>0</th>\n",
       "      <td>66</td>\n",
       "      <td>6</td>\n",
       "      <td>26</td>\n",
       "    </tr>\n",
       "    <tr>\n",
       "      <th>1</th>\n",
       "      <td>15</td>\n",
       "      <td>21</td>\n",
       "      <td>24</td>\n",
       "    </tr>\n",
       "    <tr>\n",
       "      <th>2</th>\n",
       "      <td>15</td>\n",
       "      <td>7</td>\n",
       "      <td>22</td>\n",
       "    </tr>\n",
       "  </tbody>\n",
       "</table>\n",
       "</div>"
      ],
      "text/plain": [
       "    0   1   2\n",
       "0  66   6  26\n",
       "1  15  21  24\n",
       "2  15   7  22"
      ]
     },
     "execution_count": 13,
     "metadata": {},
     "output_type": "execute_result"
    }
   ],
   "source": [
    "pd.DataFrame(confusion_matrix(y_test, yhat_test))"
   ]
  },
  {
   "cell_type": "code",
   "execution_count": 14,
   "metadata": {
    "ExecuteTime": {
     "end_time": "2019-09-12T19:25:10.625580Z",
     "start_time": "2019-09-12T19:25:10.600866Z"
    },
    "scrolled": true
   },
   "outputs": [
    {
     "name": "stdout",
     "output_type": "stream",
     "text": [
      "              precision    recall  f1-score   support\n",
      "\n",
      "           0       0.69      0.67      0.68        98\n",
      "           1       0.62      0.35      0.45        60\n",
      "           2       0.31      0.50      0.38        44\n",
      "\n",
      "   micro avg       0.54      0.54      0.54       202\n",
      "   macro avg       0.54      0.51      0.50       202\n",
      "weighted avg       0.58      0.54      0.55       202\n",
      "\n"
     ]
    }
   ],
   "source": [
    "print(classification_report(y_test, yhat_test))"
   ]
  },
  {
   "cell_type": "code",
   "execution_count": 15,
   "metadata": {
    "ExecuteTime": {
     "end_time": "2019-09-12T19:25:11.508816Z",
     "start_time": "2019-09-12T19:25:11.504010Z"
    }
   },
   "outputs": [],
   "source": [
    "# Not great at predicting draws... hmm..."
   ]
  },
  {
   "cell_type": "code",
   "execution_count": 16,
   "metadata": {
    "ExecuteTime": {
     "end_time": "2019-09-12T19:25:12.333026Z",
     "start_time": "2019-09-12T19:25:11.972627Z"
    }
   },
   "outputs": [
    {
     "data": {
      "image/png": "[encoded data removed]",
      "text/plain": [
       "<Figure size 432x432 with 1 Axes>"
      ]
     },
     "metadata": {
      "image/png": {
       "height": 365,
       "width": 487
      },
      "needs_background": "light"
     },
     "output_type": "display_data"
    }
   ],
   "source": [
    "coefs_vars_model = pd.DataFrame({\n",
    "    'coef': model.coef_[0],\n",
    "    'variable': X.columns,\n",
    "    'abscoef': np.abs(model.coef_[0])\n",
    "})\n",
    "coefs_vars_model.sort_values('abscoef', ascending=False, inplace=True)\n",
    "coefs_vars_model.plot(kind='barh', x='variable', y='coef',\n",
    "                      color='b', figsize=(6, 6), label='Standard Model')\n",
    "plt.show()"
   ]
  },
  {
   "cell_type": "code",
   "execution_count": 17,
   "metadata": {
    "ExecuteTime": {
     "end_time": "2019-09-12T19:25:15.862139Z",
     "start_time": "2019-09-12T19:25:14.059364Z"
    }
   },
   "outputs": [
    {
     "name": "stderr",
     "output_type": "stream",
     "text": [
      "/anaconda3/lib/python3.7/site-packages/sklearn/linear_model/logistic.py:460: FutureWarning: Default multi_class will be changed to 'auto' in 0.22. Specify the multi_class option to silence this warning.\n",
      "  \"this warning.\", FutureWarning)\n"
     ]
    },
    {
     "name": "stdout",
     "output_type": "stream",
     "text": [
      "[2.05651231e-01 1.83073828e-02 1.20450354e-04]\n",
      "0.5346534653465347\n",
      "0.5346534653465347\n"
     ]
    }
   ],
   "source": [
    "lr_ridge = LogisticRegressionCV(\n",
    "    penalty='l2', Cs=100, cv=5, solver='liblinear')\n",
    "lr_ridge.fit(X_train, y_train)\n",
    "\n",
    "\n",
    "ridge_test = lr_ridge.score(X_test, y_test)\n",
    "ridge_cv = lr_ridge.score(X_train, y_train)\n",
    "\n",
    "print(lr_ridge.C_)\n",
    "print(ridge_test)\n",
    "print(ridge_cv)\n"
   ]
  },
  {
   "cell_type": "code",
   "execution_count": 18,
   "metadata": {
    "ExecuteTime": {
     "end_time": "2019-09-12T19:25:15.872567Z",
     "start_time": "2019-09-12T19:25:15.864221Z"
    }
   },
   "outputs": [],
   "source": [
    "yhat_ridge = lr_ridge.predict(X_test)\n",
    "yhat_pp_ridge = lr_ridge.predict_proba(X_test)"
   ]
  },
  {
   "cell_type": "code",
   "execution_count": 19,
   "metadata": {
    "ExecuteTime": {
     "end_time": "2019-09-12T19:25:15.883113Z",
     "start_time": "2019-09-12T19:25:15.874075Z"
    }
   },
   "outputs": [
    {
     "data": {
      "text/html": [
       "<div>\n",
       "<style scoped>\n",
       "    .dataframe tbody tr th:only-of-type {\n",
       "        vertical-align: middle;\n",
       "    }\n",
       "\n",
       "    .dataframe tbody tr th {\n",
       "        vertical-align: top;\n",
       "    }\n",
       "\n",
       "    .dataframe thead th {\n",
       "        text-align: right;\n",
       "    }\n",
       "</style>\n",
       "<table border=\"1\" class=\"dataframe\">\n",
       "  <thead>\n",
       "    <tr style=\"text-align: right;\">\n",
       "      <th></th>\n",
       "      <th>0</th>\n",
       "      <th>1</th>\n",
       "      <th>2</th>\n",
       "    </tr>\n",
       "  </thead>\n",
       "  <tbody>\n",
       "    <tr>\n",
       "      <th>0</th>\n",
       "      <td>66</td>\n",
       "      <td>5</td>\n",
       "      <td>27</td>\n",
       "    </tr>\n",
       "    <tr>\n",
       "      <th>1</th>\n",
       "      <td>15</td>\n",
       "      <td>22</td>\n",
       "      <td>23</td>\n",
       "    </tr>\n",
       "    <tr>\n",
       "      <th>2</th>\n",
       "      <td>18</td>\n",
       "      <td>6</td>\n",
       "      <td>20</td>\n",
       "    </tr>\n",
       "  </tbody>\n",
       "</table>\n",
       "</div>"
      ],
      "text/plain": [
       "    0   1   2\n",
       "0  66   5  27\n",
       "1  15  22  23\n",
       "2  18   6  20"
      ]
     },
     "execution_count": 19,
     "metadata": {},
     "output_type": "execute_result"
    }
   ],
   "source": [
    "pd.DataFrame(confusion_matrix(y_test, yhat_ridge))"
   ]
  },
  {
   "cell_type": "code",
   "execution_count": 20,
   "metadata": {
    "ExecuteTime": {
     "end_time": "2019-09-12T19:25:17.543099Z",
     "start_time": "2019-09-12T19:25:17.534051Z"
    }
   },
   "outputs": [
    {
     "name": "stdout",
     "output_type": "stream",
     "text": [
      "              precision    recall  f1-score   support\n",
      "\n",
      "           0       0.67      0.67      0.67        98\n",
      "           1       0.67      0.37      0.47        60\n",
      "           2       0.29      0.45      0.35        44\n",
      "\n",
      "   micro avg       0.53      0.53      0.53       202\n",
      "   macro avg       0.54      0.50      0.50       202\n",
      "weighted avg       0.58      0.53      0.54       202\n",
      "\n"
     ]
    }
   ],
   "source": [
    "print(classification_report(y_test, yhat_ridge))"
   ]
  },
  {
   "cell_type": "code",
   "execution_count": 21,
   "metadata": {
    "ExecuteTime": {
     "end_time": "2019-09-12T19:25:18.999569Z",
     "start_time": "2019-09-12T19:25:18.660156Z"
    },
    "scrolled": false
   },
   "outputs": [
    {
     "data": {
      "image/png": "[encoded data removed]",
      "text/plain": [
       "<Figure size 432x432 with 1 Axes>"
      ]
     },
     "metadata": {
      "image/png": {
       "height": 365,
       "width": 487
      },
      "needs_background": "light"
     },
     "output_type": "display_data"
    }
   ],
   "source": [
    "coefs_vars_ridge = pd.DataFrame({\n",
    "    'coef': lr_ridge.coef_[0],\n",
    "    'variable': X.columns,\n",
    "    'abscoef': np.abs(lr_ridge.coef_[0])\n",
    "})\n",
    "coefs_vars_ridge.sort_values('abscoef', ascending=False, inplace=True)\n",
    "coefs_vars_ridge.plot(kind='barh', x='variable', y='coef',\n",
    "                      color='b', figsize=(6, 6), label='Ridge')\n",
    "plt.show()"
   ]
  },
  {
   "cell_type": "markdown",
   "metadata": {},
   "source": [
    "<b>5 game gd as well, and dummify the game columns, add game number to each game from 1 to 38</b>"
   ]
  },
  {
   "cell_type": "code",
   "execution_count": 22,
   "metadata": {
    "ExecuteTime": {
     "end_time": "2019-09-12T19:25:21.019417Z",
     "start_time": "2019-09-12T19:25:21.016079Z"
    }
   },
   "outputs": [],
   "source": [
    "from sklearn.model_selection import GridSearchCV"
   ]
  },
  {
   "cell_type": "code",
   "execution_count": 33,
   "metadata": {
    "ExecuteTime": {
     "end_time": "2019-09-12T19:26:25.929408Z",
     "start_time": "2019-09-12T19:26:25.922802Z"
    }
   },
   "outputs": [],
   "source": [
    "griddy = LogisticRegression()"
   ]
  },
  {
   "cell_type": "code",
   "execution_count": 34,
   "metadata": {
    "ExecuteTime": {
     "end_time": "2019-09-12T19:26:26.457957Z",
     "start_time": "2019-09-12T19:26:26.451070Z"
    }
   },
   "outputs": [
    {
     "data": {
      "text/plain": [
       "<bound method BaseEstimator.get_params of LogisticRegression(C=1.0, class_weight=None, dual=False, fit_intercept=True,\n",
       "          intercept_scaling=1, max_iter=100, multi_class='warn',\n",
       "          n_jobs=None, penalty='l2', random_state=None, solver='warn',\n",
       "          tol=0.0001, verbose=0, warm_start=False)>"
      ]
     },
     "execution_count": 34,
     "metadata": {},
     "output_type": "execute_result"
    }
   ],
   "source": [
    "griddy.get_params"
   ]
  },
  {
   "cell_type": "code",
   "execution_count": 37,
   "metadata": {
    "ExecuteTime": {
     "end_time": "2019-09-12T19:27:24.443591Z",
     "start_time": "2019-09-12T19:27:24.440100Z"
    }
   },
   "outputs": [],
   "source": [
    "params = {'penalty': ['l1', 'l2'],\n",
    "                   'solver': ['liblinear'],\n",
    "                   'C': [1,10,50,100]}"
   ]
  },
  {
   "cell_type": "code",
   "execution_count": 38,
   "metadata": {
    "ExecuteTime": {
     "end_time": "2019-09-12T19:27:25.356899Z",
     "start_time": "2019-09-12T19:27:25.353657Z"
    }
   },
   "outputs": [],
   "source": [
    "model_gs = GridSearchCV(griddy, params, cv=5, n_jobs=2, verbose=1)"
   ]
  },
  {
   "cell_type": "code",
   "execution_count": 39,
   "metadata": {
    "ExecuteTime": {
     "end_time": "2019-09-12T19:27:27.201274Z",
     "start_time": "2019-09-12T19:27:25.693423Z"
    }
   },
   "outputs": [
    {
     "name": "stdout",
     "output_type": "stream",
     "text": [
      "Fitting 5 folds for each of 8 candidates, totalling 40 fits\n"
     ]
    },
    {
     "name": "stderr",
     "output_type": "stream",
     "text": [
      "[Parallel(n_jobs=2)]: Using backend LokyBackend with 2 concurrent workers.\n",
      "[Parallel(n_jobs=2)]: Done  40 out of  40 | elapsed:    1.5s finished\n",
      "/anaconda3/lib/python3.7/site-packages/sklearn/linear_model/logistic.py:460: FutureWarning: Default multi_class will be changed to 'auto' in 0.22. Specify the multi_class option to silence this warning.\n",
      "  \"this warning.\", FutureWarning)\n"
     ]
    },
    {
     "data": {
      "text/plain": [
       "GridSearchCV(cv=5, error_score='raise-deprecating',\n",
       "       estimator=LogisticRegression(C=1.0, class_weight=None, dual=False, fit_intercept=True,\n",
       "          intercept_scaling=1, max_iter=100, multi_class='warn',\n",
       "          n_jobs=None, penalty='l2', random_state=None, solver='warn',\n",
       "          tol=0.0001, verbose=0, warm_start=False),\n",
       "       fit_params=None, iid='warn', n_jobs=2,\n",
       "       param_grid={'penalty': ['l1', 'l2'], 'solver': ['liblinear'], 'C': [1, 10, 50, 100]},\n",
       "       pre_dispatch='2*n_jobs', refit=True, return_train_score='warn',\n",
       "       scoring=None, verbose=1)"
      ]
     },
     "execution_count": 39,
     "metadata": {},
     "output_type": "execute_result"
    }
   ],
   "source": [
    "model_gs.fit(X_train, y_train)"
   ]
  },
  {
   "cell_type": "code",
   "execution_count": 40,
   "metadata": {
    "ExecuteTime": {
     "end_time": "2019-09-12T19:27:29.816879Z",
     "start_time": "2019-09-12T19:27:29.806365Z"
    }
   },
   "outputs": [
    {
     "data": {
      "text/plain": [
       "{'C': 1, 'penalty': 'l1', 'solver': 'liblinear'}"
      ]
     },
     "execution_count": 40,
     "metadata": {},
     "output_type": "execute_result"
    }
   ],
   "source": [
    "model_gs.best_params_"
   ]
  },
  {
   "cell_type": "code",
   "execution_count": 41,
   "metadata": {
    "ExecuteTime": {
     "end_time": "2019-09-12T19:27:35.766342Z",
     "start_time": "2019-09-12T19:27:35.760353Z"
    }
   },
   "outputs": [
    {
     "data": {
      "text/plain": [
       "0.5655940594059405"
      ]
     },
     "execution_count": 41,
     "metadata": {},
     "output_type": "execute_result"
    }
   ],
   "source": [
    "model_gs.best_score_"
   ]
  },
  {
   "cell_type": "code",
   "execution_count": 42,
   "metadata": {
    "ExecuteTime": {
     "end_time": "2019-09-12T19:27:39.581410Z",
     "start_time": "2019-09-12T19:27:39.575485Z"
    }
   },
   "outputs": [],
   "source": [
    "lasso_test = model_gs.score(X_test, y_test)"
   ]
  },
  {
   "cell_type": "code",
   "execution_count": 43,
   "metadata": {
    "ExecuteTime": {
     "end_time": "2019-09-12T19:27:39.833998Z",
     "start_time": "2019-09-12T19:27:39.827544Z"
    }
   },
   "outputs": [],
   "source": [
    "lasso_cv = model_gs.score(X_train, y_train)"
   ]
  },
  {
   "cell_type": "code",
   "execution_count": 44,
   "metadata": {
    "ExecuteTime": {
     "end_time": "2019-09-12T19:27:43.639319Z",
     "start_time": "2019-09-12T19:27:40.342163Z"
    }
   },
   "outputs": [],
   "source": [
    "from sklearn.model_selection import cross_val_score\n",
    "from sklearn.neighbors import KNeighborsClassifier\n",
    "from sklearn import metrics\n",
    "\n",
    "folds = 5\n",
    "max_neighbors = 100\n",
    "\n",
    "\n",
    "\n",
    "# plot test accuracy by number of neighbors:\n",
    "test_acc = []\n",
    "for i in range(1, int(max_neighbors)):\n",
    "    knn = KNeighborsClassifier(n_neighbors=i)\n",
    "    test_acc.append(np.mean(cross_val_score(knn, X_train, y_train, cv=folds)))"
   ]
  },
  {
   "cell_type": "code",
   "execution_count": 45,
   "metadata": {
    "ExecuteTime": {
     "end_time": "2019-09-12T19:27:43.991056Z",
     "start_time": "2019-09-12T19:27:43.641891Z"
    }
   },
   "outputs": [
    {
     "data": {
      "image/png": "[encoded data removed]",
      "text/plain": [
       "<Figure size 576x432 with 1 Axes>"
      ]
     },
     "metadata": {
      "image/png": {
       "height": 386,
       "width": 522
      },
      "needs_background": "light"
     },
     "output_type": "display_data"
    }
   ],
   "source": [
    "fig, ax = plt.subplots(figsize=(8,6))\n",
    "ax.plot(range(1, int(max_neighbors)), test_acc, lw=3.)\n",
    "ax.set_xlabel('k')\n",
    "ax.set_ylabel('accuracy')\n",
    "plt.show()"
   ]
  },
  {
   "cell_type": "code",
   "execution_count": 46,
   "metadata": {
    "ExecuteTime": {
     "end_time": "2019-09-12T19:27:49.914574Z",
     "start_time": "2019-09-12T19:27:49.898391Z"
    }
   },
   "outputs": [
    {
     "name": "stdout",
     "output_type": "stream",
     "text": [
      "0.5247524752475248\n",
      "0.5482478337550801\n"
     ]
    }
   ],
   "source": [
    "knn = KNeighborsClassifier(n_neighbors=38)\n",
    "knn.fit(X_train, y_train)\n",
    "y_pred_class = knn.predict(X_test)\n",
    "print(metrics.accuracy_score(y_test, y_pred_class))\n",
    "print(max(test_acc))\n"
   ]
  },
  {
   "cell_type": "code",
   "execution_count": 47,
   "metadata": {
    "ExecuteTime": {
     "end_time": "2019-09-12T19:27:51.515430Z",
     "start_time": "2019-09-12T19:27:51.468023Z"
    }
   },
   "outputs": [],
   "source": [
    "knn_test = knn.score(X_test, y_test)\n",
    "knn_cv = cross_val_score(knn, X_train, y_train, cv=5).mean()"
   ]
  },
  {
   "cell_type": "code",
   "execution_count": 48,
   "metadata": {
    "ExecuteTime": {
     "end_time": "2019-09-12T19:27:51.986468Z",
     "start_time": "2019-09-12T19:27:51.945742Z"
    }
   },
   "outputs": [],
   "source": [
    "from sklearn import svm, linear_model, datasets"
   ]
  },
  {
   "cell_type": "code",
   "execution_count": 149,
   "metadata": {
    "ExecuteTime": {
     "end_time": "2019-09-12T19:55:54.054543Z",
     "start_time": "2019-09-12T19:55:53.503019Z"
    }
   },
   "outputs": [],
   "source": [
    "clf = svm.SVC(gamma='scale', probability=True)\n",
    "clf_cv = cross_val_score(clf, X_train, y_train, cv=5, scoring='accuracy').mean()\n",
    "clf_test = clf.fit(X_train, y_train).score(X_test, y_test)"
   ]
  },
  {
   "cell_type": "code",
   "execution_count": 150,
   "metadata": {
    "ExecuteTime": {
     "end_time": "2019-09-12T19:55:54.063806Z",
     "start_time": "2019-09-12T19:55:54.057156Z"
    }
   },
   "outputs": [
    {
     "data": {
      "text/plain": [
       "<bound method BaseEstimator.get_params of SVC(C=1.0, cache_size=200, class_weight=None, coef0=0.0,\n",
       "  decision_function_shape='ovr', degree=3, gamma='scale', kernel='rbf',\n",
       "  max_iter=-1, probability=True, random_state=None, shrinking=True,\n",
       "  tol=0.001, verbose=False)>"
      ]
     },
     "execution_count": 150,
     "metadata": {},
     "output_type": "execute_result"
    }
   ],
   "source": [
    "clf.get_params"
   ]
  },
  {
   "cell_type": "code",
   "execution_count": 44,
   "metadata": {
    "ExecuteTime": {
     "end_time": "2019-09-12T18:47:28.873855Z",
     "start_time": "2019-09-12T18:46:17.965730Z"
    }
   },
   "outputs": [
    {
     "name": "stdout",
     "output_type": "stream",
     "text": [
      "Fitting 5 folds for each of 200 candidates, totalling 1000 fits\n"
     ]
    },
    {
     "name": "stderr",
     "output_type": "stream",
     "text": [
      "[Parallel(n_jobs=2)]: Using backend LokyBackend with 2 concurrent workers.\n",
      "[Parallel(n_jobs=2)]: Done  88 tasks      | elapsed:    5.2s\n",
      "[Parallel(n_jobs=2)]: Done 388 tasks      | elapsed:   25.4s\n",
      "[Parallel(n_jobs=2)]: Done 888 tasks      | elapsed:  1.0min\n",
      "[Parallel(n_jobs=2)]: Done 1000 out of 1000 | elapsed:  1.2min finished\n"
     ]
    },
    {
     "data": {
      "text/plain": [
       "GridSearchCV(cv=5, error_score='raise-deprecating',\n",
       "       estimator=SVC(C=1.0, cache_size=200, class_weight=None, coef0=0.0,\n",
       "  decision_function_shape='ovr', degree=3, gamma='scale', kernel='rbf',\n",
       "  max_iter=-1, probability=True, random_state=None, shrinking=True,\n",
       "  tol=0.001, verbose=False),\n",
       "       fit_params=None, iid=False, n_jobs=2,\n",
       "       param_grid={'gamma': array([1.00000e-05, 2.33572e-05, 5.45559e-05, 1.27427e-04, 2.97635e-04,\n",
       "       6.95193e-04, 1.62378e-03, 3.79269e-03, 8.85867e-03, 2.06914e-02,\n",
       "       4.83293e-02, 1.12884e-01, 2.63665e-01, 6.15848e-01, 1.43845e+00,\n",
       "       3.35982e+00, 7.84760e+00, 1.83298e+01, 4.28133e+01, 1.00000e+02]), 'C': array([  1.,  12.,  23.,  34.,  45.,  56.,  67.,  78.,  89., 100.]), 'kernel': ['rbf']},\n",
       "       pre_dispatch='2*n_jobs', refit=True, return_train_score=True,\n",
       "       scoring='accuracy', verbose=True)"
      ]
     },
     "execution_count": 44,
     "metadata": {},
     "output_type": "execute_result"
    }
   ],
   "source": [
    "from sklearn.model_selection import GridSearchCV\n",
    "\n",
    "\n",
    "gamma_range = np.logspace(-5, 2, 20)\n",
    "c = np.linspace(1,100,10)\n",
    "param_grid = dict(gamma=gamma_range, C=c, kernel=['rbf'])\n",
    "\n",
    "clf_grid = GridSearchCV(clf, param_grid, cv=5, scoring='accuracy',\n",
    "                    verbose=True, return_train_score=True, iid=False, n_jobs=2)\n",
    "clf_grid.fit(X_train, y_train)"
   ]
  },
  {
   "cell_type": "code",
   "execution_count": 202,
   "metadata": {
    "ExecuteTime": {
     "end_time": "2019-09-12T19:20:57.278039Z",
     "start_time": "2019-09-12T19:20:57.249455Z"
    }
   },
   "outputs": [
    {
     "data": {
      "text/html": [
       "<div>\n",
       "<style scoped>\n",
       "    .dataframe tbody tr th:only-of-type {\n",
       "        vertical-align: middle;\n",
       "    }\n",
       "\n",
       "    .dataframe tbody tr th {\n",
       "        vertical-align: top;\n",
       "    }\n",
       "\n",
       "    .dataframe thead th {\n",
       "        text-align: right;\n",
       "    }\n",
       "</style>\n",
       "<table border=\"1\" class=\"dataframe\">\n",
       "  <thead>\n",
       "    <tr style=\"text-align: right;\">\n",
       "      <th></th>\n",
       "      <th>mean_fit_time</th>\n",
       "      <th>std_fit_time</th>\n",
       "      <th>mean_score_time</th>\n",
       "      <th>std_score_time</th>\n",
       "      <th>param_C</th>\n",
       "      <th>param_gamma</th>\n",
       "      <th>param_kernel</th>\n",
       "      <th>params</th>\n",
       "      <th>split0_test_score</th>\n",
       "      <th>split1_test_score</th>\n",
       "      <th>split2_test_score</th>\n",
       "      <th>split3_test_score</th>\n",
       "      <th>split4_test_score</th>\n",
       "      <th>mean_test_score</th>\n",
       "      <th>std_test_score</th>\n",
       "      <th>rank_test_score</th>\n",
       "      <th>split0_train_score</th>\n",
       "      <th>split1_train_score</th>\n",
       "      <th>split2_train_score</th>\n",
       "      <th>split3_train_score</th>\n",
       "      <th>split4_train_score</th>\n",
       "      <th>mean_train_score</th>\n",
       "      <th>std_train_score</th>\n",
       "      <th>gamma</th>\n",
       "    </tr>\n",
       "  </thead>\n",
       "  <tbody>\n",
       "    <tr>\n",
       "      <th>0</th>\n",
       "      <td>0.116307</td>\n",
       "      <td>0.024544</td>\n",
       "      <td>0.010885</td>\n",
       "      <td>0.011409</td>\n",
       "      <td>1</td>\n",
       "      <td>1e-05</td>\n",
       "      <td>rbf</td>\n",
       "      <td>{'C': 1.0, 'gamma': 1e-05, 'kernel': 'rbf'}</td>\n",
       "      <td>0.481481</td>\n",
       "      <td>0.481481</td>\n",
       "      <td>0.481481</td>\n",
       "      <td>0.484472</td>\n",
       "      <td>0.484472</td>\n",
       "      <td>0.482678</td>\n",
       "      <td>0.001465</td>\n",
       "      <td>86</td>\n",
       "      <td>0.482972</td>\n",
       "      <td>0.482972</td>\n",
       "      <td>0.482972</td>\n",
       "      <td>0.482226</td>\n",
       "      <td>0.482226</td>\n",
       "      <td>0.482674</td>\n",
       "      <td>0.000366</td>\n",
       "      <td>0.000010</td>\n",
       "    </tr>\n",
       "    <tr>\n",
       "      <th>1</th>\n",
       "      <td>0.099361</td>\n",
       "      <td>0.018230</td>\n",
       "      <td>0.003676</td>\n",
       "      <td>0.000605</td>\n",
       "      <td>1</td>\n",
       "      <td>2.33572e-05</td>\n",
       "      <td>rbf</td>\n",
       "      <td>{'C': 1.0, 'gamma': 2.3357214690901213e-05, 'k...</td>\n",
       "      <td>0.481481</td>\n",
       "      <td>0.481481</td>\n",
       "      <td>0.481481</td>\n",
       "      <td>0.484472</td>\n",
       "      <td>0.484472</td>\n",
       "      <td>0.482678</td>\n",
       "      <td>0.001465</td>\n",
       "      <td>86</td>\n",
       "      <td>0.482972</td>\n",
       "      <td>0.482972</td>\n",
       "      <td>0.482972</td>\n",
       "      <td>0.482226</td>\n",
       "      <td>0.482226</td>\n",
       "      <td>0.482674</td>\n",
       "      <td>0.000366</td>\n",
       "      <td>0.000023</td>\n",
       "    </tr>\n",
       "    <tr>\n",
       "      <th>2</th>\n",
       "      <td>0.098070</td>\n",
       "      <td>0.015344</td>\n",
       "      <td>0.004786</td>\n",
       "      <td>0.001315</td>\n",
       "      <td>1</td>\n",
       "      <td>5.45559e-05</td>\n",
       "      <td>rbf</td>\n",
       "      <td>{'C': 1.0, 'gamma': 5.4555947811685143e-05, 'k...</td>\n",
       "      <td>0.481481</td>\n",
       "      <td>0.481481</td>\n",
       "      <td>0.481481</td>\n",
       "      <td>0.484472</td>\n",
       "      <td>0.484472</td>\n",
       "      <td>0.482678</td>\n",
       "      <td>0.001465</td>\n",
       "      <td>86</td>\n",
       "      <td>0.482972</td>\n",
       "      <td>0.482972</td>\n",
       "      <td>0.482972</td>\n",
       "      <td>0.482226</td>\n",
       "      <td>0.482226</td>\n",
       "      <td>0.482674</td>\n",
       "      <td>0.000366</td>\n",
       "      <td>0.000055</td>\n",
       "    </tr>\n",
       "    <tr>\n",
       "      <th>3</th>\n",
       "      <td>0.077568</td>\n",
       "      <td>0.011633</td>\n",
       "      <td>0.002927</td>\n",
       "      <td>0.000129</td>\n",
       "      <td>1</td>\n",
       "      <td>0.000127427</td>\n",
       "      <td>rbf</td>\n",
       "      <td>{'C': 1.0, 'gamma': 0.00012742749857031334, 'k...</td>\n",
       "      <td>0.481481</td>\n",
       "      <td>0.481481</td>\n",
       "      <td>0.481481</td>\n",
       "      <td>0.484472</td>\n",
       "      <td>0.484472</td>\n",
       "      <td>0.482678</td>\n",
       "      <td>0.001465</td>\n",
       "      <td>86</td>\n",
       "      <td>0.482972</td>\n",
       "      <td>0.482972</td>\n",
       "      <td>0.482972</td>\n",
       "      <td>0.482226</td>\n",
       "      <td>0.482226</td>\n",
       "      <td>0.482674</td>\n",
       "      <td>0.000366</td>\n",
       "      <td>0.000127</td>\n",
       "    </tr>\n",
       "    <tr>\n",
       "      <th>4</th>\n",
       "      <td>0.069575</td>\n",
       "      <td>0.000659</td>\n",
       "      <td>0.002842</td>\n",
       "      <td>0.000068</td>\n",
       "      <td>1</td>\n",
       "      <td>0.000297635</td>\n",
       "      <td>rbf</td>\n",
       "      <td>{'C': 1.0, 'gamma': 0.00029763514416313193, 'k...</td>\n",
       "      <td>0.481481</td>\n",
       "      <td>0.481481</td>\n",
       "      <td>0.481481</td>\n",
       "      <td>0.484472</td>\n",
       "      <td>0.484472</td>\n",
       "      <td>0.482678</td>\n",
       "      <td>0.001465</td>\n",
       "      <td>86</td>\n",
       "      <td>0.482972</td>\n",
       "      <td>0.482972</td>\n",
       "      <td>0.482972</td>\n",
       "      <td>0.482226</td>\n",
       "      <td>0.482226</td>\n",
       "      <td>0.482674</td>\n",
       "      <td>0.000366</td>\n",
       "      <td>0.000298</td>\n",
       "    </tr>\n",
       "  </tbody>\n",
       "</table>\n",
       "</div>"
      ],
      "text/plain": [
       "   mean_fit_time  std_fit_time  mean_score_time  std_score_time param_C  \\\n",
       "0       0.116307      0.024544         0.010885        0.011409       1   \n",
       "1       0.099361      0.018230         0.003676        0.000605       1   \n",
       "2       0.098070      0.015344         0.004786        0.001315       1   \n",
       "3       0.077568      0.011633         0.002927        0.000129       1   \n",
       "4       0.069575      0.000659         0.002842        0.000068       1   \n",
       "\n",
       "   param_gamma param_kernel  \\\n",
       "0        1e-05          rbf   \n",
       "1  2.33572e-05          rbf   \n",
       "2  5.45559e-05          rbf   \n",
       "3  0.000127427          rbf   \n",
       "4  0.000297635          rbf   \n",
       "\n",
       "                                              params  split0_test_score  \\\n",
       "0        {'C': 1.0, 'gamma': 1e-05, 'kernel': 'rbf'}           0.481481   \n",
       "1  {'C': 1.0, 'gamma': 2.3357214690901213e-05, 'k...           0.481481   \n",
       "2  {'C': 1.0, 'gamma': 5.4555947811685143e-05, 'k...           0.481481   \n",
       "3  {'C': 1.0, 'gamma': 0.00012742749857031334, 'k...           0.481481   \n",
       "4  {'C': 1.0, 'gamma': 0.00029763514416313193, 'k...           0.481481   \n",
       "\n",
       "   split1_test_score  split2_test_score  split3_test_score  split4_test_score  \\\n",
       "0           0.481481           0.481481           0.484472           0.484472   \n",
       "1           0.481481           0.481481           0.484472           0.484472   \n",
       "2           0.481481           0.481481           0.484472           0.484472   \n",
       "3           0.481481           0.481481           0.484472           0.484472   \n",
       "4           0.481481           0.481481           0.484472           0.484472   \n",
       "\n",
       "   mean_test_score  std_test_score  rank_test_score  split0_train_score  \\\n",
       "0         0.482678        0.001465               86            0.482972   \n",
       "1         0.482678        0.001465               86            0.482972   \n",
       "2         0.482678        0.001465               86            0.482972   \n",
       "3         0.482678        0.001465               86            0.482972   \n",
       "4         0.482678        0.001465               86            0.482972   \n",
       "\n",
       "   split1_train_score  split2_train_score  split3_train_score  \\\n",
       "0            0.482972            0.482972            0.482226   \n",
       "1            0.482972            0.482972            0.482226   \n",
       "2            0.482972            0.482972            0.482226   \n",
       "3            0.482972            0.482972            0.482226   \n",
       "4            0.482972            0.482972            0.482226   \n",
       "\n",
       "   split4_train_score  mean_train_score  std_train_score     gamma  \n",
       "0            0.482226          0.482674         0.000366  0.000010  \n",
       "1            0.482226          0.482674         0.000366  0.000023  \n",
       "2            0.482226          0.482674         0.000366  0.000055  \n",
       "3            0.482226          0.482674         0.000366  0.000127  \n",
       "4            0.482226          0.482674         0.000366  0.000298  "
      ]
     },
     "execution_count": 202,
     "metadata": {},
     "output_type": "execute_result"
    }
   ],
   "source": [
    "clf_grid_results = pd.DataFrame(clf_grid.cv_results_)\n",
    "clf_grid_results['gamma'] = [x['gamma'] for x in clf_grid_results.params.values]\n",
    "clf_grid_results.head()"
   ]
  },
  {
   "cell_type": "code",
   "execution_count": 203,
   "metadata": {
    "ExecuteTime": {
     "end_time": "2019-09-12T19:21:01.574384Z",
     "start_time": "2019-09-12T19:21:01.567904Z"
    }
   },
   "outputs": [
    {
     "data": {
      "text/plain": [
       "{'C': 34.0, 'gamma': 0.00029763514416313193, 'kernel': 'rbf'}"
      ]
     },
     "execution_count": 203,
     "metadata": {},
     "output_type": "execute_result"
    }
   ],
   "source": [
    "clf_grid.best_params_"
   ]
  },
  {
   "cell_type": "code",
   "execution_count": 48,
   "metadata": {
    "ExecuteTime": {
     "end_time": "2019-09-12T18:47:56.859904Z",
     "start_time": "2019-09-12T18:47:56.835461Z"
    },
    "scrolled": true
   },
   "outputs": [],
   "source": [
    "\n",
    "clf_grid_cv = clf_grid.score(X_train, y_train)\n",
    "clf_grid_test = clf_grid.score(X_test, y_test)"
   ]
  },
  {
   "cell_type": "code",
   "execution_count": 51,
   "metadata": {
    "ExecuteTime": {
     "end_time": "2019-09-12T19:28:08.206517Z",
     "start_time": "2019-09-12T19:28:08.175822Z"
    }
   },
   "outputs": [],
   "source": [
    "from sklearn.tree import DecisionTreeClassifier\n",
    "from sklearn.ensemble import BaggingClassifier\n",
    "from sklearn.ensemble import RandomForestClassifier"
   ]
  },
  {
   "cell_type": "code",
   "execution_count": 52,
   "metadata": {
    "ExecuteTime": {
     "end_time": "2019-09-12T19:28:08.554960Z",
     "start_time": "2019-09-12T19:28:08.463121Z"
    }
   },
   "outputs": [
    {
     "data": {
      "text/plain": [
       "BaggingClassifier(base_estimator=DecisionTreeClassifier(class_weight=None, criterion='gini', max_depth=None,\n",
       "            max_features=None, max_leaf_nodes=None,\n",
       "            min_impurity_decrease=0.0, min_impurity_split=None,\n",
       "            min_samples_leaf=1, min_samples_split=2,\n",
       "            min_weight_fraction_leaf=0.0, presort=False, random_state=None,\n",
       "            splitter='best'),\n",
       "         bootstrap=True, bootstrap_features=False, max_features=0.5,\n",
       "         max_samples=0.5, n_estimators=50, n_jobs=None, oob_score=True,\n",
       "         random_state=None, verbose=0, warm_start=False)"
      ]
     },
     "execution_count": 52,
     "metadata": {},
     "output_type": "execute_result"
    }
   ],
   "source": [
    "\n",
    "DT = DecisionTreeClassifier()\n",
    "bc = BaggingClassifier(base_estimator=DT,\n",
    "                       n_estimators=50,\n",
    "                       max_features=0.5,\n",
    "                       max_samples=0.5,\n",
    "                       oob_score=True)\n",
    "\n",
    "\n",
    "bc.fit(X_train, y_train)"
   ]
  },
  {
   "cell_type": "code",
   "execution_count": 53,
   "metadata": {
    "ExecuteTime": {
     "end_time": "2019-09-12T19:28:10.581011Z",
     "start_time": "2019-09-12T19:28:10.171056Z"
    }
   },
   "outputs": [],
   "source": [
    "bc_cv = cross_val_score(bc, X_train, y_train, cv=5).mean()"
   ]
  },
  {
   "cell_type": "code",
   "execution_count": 54,
   "metadata": {
    "ExecuteTime": {
     "end_time": "2019-09-12T19:28:10.592655Z",
     "start_time": "2019-09-12T19:28:10.582870Z"
    }
   },
   "outputs": [],
   "source": [
    "bc_test = bc.score(X_test, y_test)"
   ]
  },
  {
   "cell_type": "code",
   "execution_count": 55,
   "metadata": {
    "ExecuteTime": {
     "end_time": "2019-09-12T19:28:11.290287Z",
     "start_time": "2019-09-12T19:28:11.285641Z"
    }
   },
   "outputs": [],
   "source": [
    "from sklearn.ensemble import AdaBoostClassifier, AdaBoostRegressor, GradientBoostingClassifier, GradientBoostingRegressor\n",
    "from sklearn.tree import DecisionTreeClassifier, DecisionTreeRegressor\n",
    "from sklearn import datasets\n",
    "from sklearn.model_selection import cross_val_score, train_test_split\n",
    "from sklearn.metrics import accuracy_score, r2_score, mean_squared_error"
   ]
  },
  {
   "cell_type": "code",
   "execution_count": 65,
   "metadata": {
    "ExecuteTime": {
     "end_time": "2019-09-12T19:29:29.066928Z",
     "start_time": "2019-09-12T19:29:13.544937Z"
    }
   },
   "outputs": [],
   "source": [
    "gradboo_model = GradientBoostingClassifier(n_estimators=1000,\n",
    "                                   criterion='mse',\n",
    "                                   loss='deviance',\n",
    "                                   max_depth=3,\n",
    "                                   #learning_rate=1.0,\n",
    "                                   random_state=1,\n",
    "                                   min_samples_split=4)\n",
    "gradboo_model.fit(X_train, y_train)\n",
    "\n",
    "\n",
    "gradboo_cv = cross_val_score(gradboo_model, X_train, y_train, cv=5).mean()\n",
    "gradboo_test = gradboo_model.score(X_test, y_test)"
   ]
  },
  {
   "cell_type": "code",
   "execution_count": 66,
   "metadata": {
    "ExecuteTime": {
     "end_time": "2019-09-12T19:29:30.177842Z",
     "start_time": "2019-09-12T19:29:29.069266Z"
    }
   },
   "outputs": [
    {
     "name": "stdout",
     "output_type": "stream",
     "text": [
      "0    0.500000\n",
      "1    0.589109\n",
      "2    0.599010\n",
      "3    0.599010\n",
      "4    0.594059\n",
      "dtype: float64\n"
     ]
    },
    {
     "data": {
      "image/png": "[encoded data removed]",
      "text/plain": [
       "<Figure size 432x288 with 1 Axes>"
      ]
     },
     "metadata": {
      "image/png": {
       "height": 277,
       "width": 424
      },
      "needs_background": "light"
     },
     "output_type": "display_data"
    }
   ],
   "source": [
    "scores = pd.DataFrame(gradboo_model.staged_predict(X_test)).T.apply(\n",
    "    lambda x: accuracy_score(y_test, x), axis=0)\n",
    "print(scores.head())\n",
    "scores.plot()\n",
    "plt.xlabel('iteration')\n",
    "plt.ylabel('score')\n",
    "plt.show()"
   ]
  },
  {
   "cell_type": "code",
   "execution_count": 67,
   "metadata": {
    "ExecuteTime": {
     "end_time": "2019-09-12T19:30:06.768972Z",
     "start_time": "2019-09-12T19:30:06.763610Z"
    }
   },
   "outputs": [
    {
     "data": {
      "text/plain": [
       "<bound method BaseEstimator.get_params of GradientBoostingClassifier(criterion='mse', init=None, learning_rate=0.1,\n",
       "              loss='deviance', max_depth=3, max_features=None,\n",
       "              max_leaf_nodes=None, min_impurity_decrease=0.0,\n",
       "              min_impurity_split=None, min_samples_leaf=1,\n",
       "              min_samples_split=4, min_weight_fraction_leaf=0.0,\n",
       "              n_estimators=1000, n_iter_no_change=None, presort='auto',\n",
       "              random_state=1, subsample=1.0, tol=0.0001,\n",
       "              validation_fraction=0.1, verbose=0, warm_start=False)>"
      ]
     },
     "execution_count": 67,
     "metadata": {},
     "output_type": "execute_result"
    }
   ],
   "source": [
    "gradboo_model.get_params"
   ]
  },
  {
   "cell_type": "code",
   "execution_count": 68,
   "metadata": {
    "ExecuteTime": {
     "end_time": "2019-09-12T19:30:06.994086Z",
     "start_time": "2019-09-12T19:30:06.986444Z"
    }
   },
   "outputs": [],
   "source": [
    "params = {'n_estimators':[100,10000,100],\n",
    "          'max_depth':[3,4,5],\n",
    "          'min_samples_split':[2,4,6]\n",
    "          }\n",
    "\n",
    "grad_grid = GridSearchCV(gradboo_model, params, cv=5, n_jobs=2, verbose=1)"
   ]
  },
  {
   "cell_type": "code",
   "execution_count": 69,
   "metadata": {
    "ExecuteTime": {
     "end_time": "2019-09-12T19:35:16.919595Z",
     "start_time": "2019-09-12T19:30:10.983696Z"
    }
   },
   "outputs": [
    {
     "name": "stdout",
     "output_type": "stream",
     "text": [
      "Fitting 5 folds for each of 27 candidates, totalling 135 fits\n"
     ]
    },
    {
     "name": "stderr",
     "output_type": "stream",
     "text": [
      "[Parallel(n_jobs=2)]: Using backend LokyBackend with 2 concurrent workers.\n",
      "[Parallel(n_jobs=2)]: Done  46 tasks      | elapsed:  1.7min\n",
      "[Parallel(n_jobs=2)]: Done 135 out of 135 | elapsed:  5.1min finished\n"
     ]
    },
    {
     "data": {
      "text/plain": [
       "GridSearchCV(cv=5, error_score='raise-deprecating',\n",
       "       estimator=GradientBoostingClassifier(criterion='mse', init=None, learning_rate=0.1,\n",
       "              loss='deviance', max_depth=3, max_features=None,\n",
       "              max_leaf_nodes=None, min_impurity_decrease=0.0,\n",
       "              min_impurity_split=None, min_samples_leaf=1,\n",
       "              min_samples_split=...te=1, subsample=1.0, tol=0.0001,\n",
       "              validation_fraction=0.1, verbose=0, warm_start=False),\n",
       "       fit_params=None, iid='warn', n_jobs=2,\n",
       "       param_grid={'n_estimators': [100, 10000, 100], 'max_depth': [3, 4, 5], 'min_samples_split': [2, 4, 6]},\n",
       "       pre_dispatch='2*n_jobs', refit=True, return_train_score='warn',\n",
       "       scoring=None, verbose=1)"
      ]
     },
     "execution_count": 69,
     "metadata": {},
     "output_type": "execute_result"
    }
   ],
   "source": [
    "grad_grid.fit(X_train, y_train)"
   ]
  },
  {
   "cell_type": "code",
   "execution_count": 70,
   "metadata": {
    "ExecuteTime": {
     "end_time": "2019-09-12T19:35:16.929066Z",
     "start_time": "2019-09-12T19:35:16.922574Z"
    }
   },
   "outputs": [
    {
     "data": {
      "text/plain": [
       "{'max_depth': 3, 'min_samples_split': 4, 'n_estimators': 100}"
      ]
     },
     "execution_count": 70,
     "metadata": {},
     "output_type": "execute_result"
    }
   ],
   "source": [
    "grad_grid.best_params_"
   ]
  },
  {
   "cell_type": "code",
   "execution_count": 71,
   "metadata": {
    "ExecuteTime": {
     "end_time": "2019-09-12T19:35:16.941908Z",
     "start_time": "2019-09-12T19:35:16.931524Z"
    }
   },
   "outputs": [],
   "source": [
    "grad_grid_cv = grad_grid.score(X_train, y_train)"
   ]
  },
  {
   "cell_type": "code",
   "execution_count": 72,
   "metadata": {
    "ExecuteTime": {
     "end_time": "2019-09-12T19:35:16.951767Z",
     "start_time": "2019-09-12T19:35:16.944746Z"
    }
   },
   "outputs": [],
   "source": [
    "grad_grid_test = grad_grid.score(X_test, y_test)"
   ]
  },
  {
   "cell_type": "markdown",
   "metadata": {},
   "source": [
    "### Comparing Predictions to Bookies"
   ]
  },
  {
   "cell_type": "code",
   "execution_count": 73,
   "metadata": {
    "ExecuteTime": {
     "end_time": "2019-09-12T19:35:24.212289Z",
     "start_time": "2019-09-12T19:35:24.204312Z"
    }
   },
   "outputs": [],
   "source": [
    "lr_preds = pd.DataFrame(model.predict_proba(X), columns=['HomeWin', 'AwayWin', 'Draw'])"
   ]
  },
  {
   "cell_type": "code",
   "execution_count": 74,
   "metadata": {
    "ExecuteTime": {
     "end_time": "2019-09-12T19:35:24.727161Z",
     "start_time": "2019-09-12T19:35:24.702755Z"
    }
   },
   "outputs": [],
   "source": [
    "knn_preds = pd.DataFrame(knn.predict_proba(X), columns=['HomeWin', 'AwayWin', 'Draw'])"
   ]
  },
  {
   "cell_type": "code",
   "execution_count": 75,
   "metadata": {
    "ExecuteTime": {
     "end_time": "2019-09-12T19:35:25.152470Z",
     "start_time": "2019-09-12T19:35:25.145015Z"
    }
   },
   "outputs": [],
   "source": [
    "ridge_preds = pd.DataFrame(lr_ridge.predict_proba(X), columns=['HomeWin', 'AwayWin', 'Draw'])"
   ]
  },
  {
   "cell_type": "code",
   "execution_count": 76,
   "metadata": {
    "ExecuteTime": {
     "end_time": "2019-09-12T19:35:25.574916Z",
     "start_time": "2019-09-12T19:35:25.569668Z"
    }
   },
   "outputs": [],
   "source": [
    "gs_preds = pd.DataFrame(model_gs.predict_proba(X), columns=['HomeWin', 'AwayWin', 'Draw'])"
   ]
  },
  {
   "cell_type": "code",
   "execution_count": 151,
   "metadata": {
    "ExecuteTime": {
     "end_time": "2019-09-12T19:56:05.833787Z",
     "start_time": "2019-09-12T19:56:05.812268Z"
    }
   },
   "outputs": [],
   "source": [
    "svc_preds = pd.DataFrame(clf.predict_proba(X), columns=['HomeWin', 'AwayWin', 'Draw'])"
   ]
  },
  {
   "cell_type": "code",
   "execution_count": 79,
   "metadata": {
    "ExecuteTime": {
     "end_time": "2019-09-12T19:35:35.457998Z",
     "start_time": "2019-09-12T19:35:35.443679Z"
    }
   },
   "outputs": [],
   "source": [
    "bc_preds = pd.DataFrame(bc.predict_proba(X), columns=['HomeWin', 'AwayWin', 'Draw'])"
   ]
  },
  {
   "cell_type": "code",
   "execution_count": 80,
   "metadata": {
    "ExecuteTime": {
     "end_time": "2019-09-12T19:35:35.865329Z",
     "start_time": "2019-09-12T19:35:35.825335Z"
    }
   },
   "outputs": [],
   "source": [
    "gradboo_preds = pd.DataFrame(gradboo_model.predict_proba(X), columns=['HomeWin', 'AwayWin', 'Draw'])"
   ]
  },
  {
   "cell_type": "code",
   "execution_count": 81,
   "metadata": {
    "ExecuteTime": {
     "end_time": "2019-09-12T19:36:05.402654Z",
     "start_time": "2019-09-12T19:36:05.392668Z"
    }
   },
   "outputs": [],
   "source": [
    "gradgrid_preds = pd.DataFrame(grad_grid.predict_proba(X), columns=['HomeWin', 'AwayWin', 'Draw'])"
   ]
  },
  {
   "cell_type": "code",
   "execution_count": 167,
   "metadata": {
    "ExecuteTime": {
     "end_time": "2019-09-12T20:08:18.173411Z",
     "start_time": "2019-09-12T20:08:18.159602Z"
    }
   },
   "outputs": [],
   "source": [
    "orig_df = pd.read_csv('new_df.csv')"
   ]
  },
  {
   "cell_type": "code",
   "execution_count": 168,
   "metadata": {
    "ExecuteTime": {
     "end_time": "2019-09-12T20:08:20.624834Z",
     "start_time": "2019-09-12T20:08:20.617914Z"
    }
   },
   "outputs": [],
   "source": [
    "orig_df = pd.concat([orig_df, bc_preds], axis=1)"
   ]
  },
  {
   "cell_type": "code",
   "execution_count": 169,
   "metadata": {
    "ExecuteTime": {
     "end_time": "2019-09-12T20:08:22.028052Z",
     "start_time": "2019-09-12T20:08:22.019962Z"
    }
   },
   "outputs": [],
   "source": [
    "orig_df['HomeWin'] = [round(i, 3) for i in orig_df['HomeWin']]\n",
    "orig_df['AwayWin'] = [round(i, 3) for i in orig_df['AwayWin']]\n",
    "orig_df['Draw'] = [round(i, 3) for i in orig_df['Draw']]"
   ]
  },
  {
   "cell_type": "code",
   "execution_count": 160,
   "metadata": {
    "ExecuteTime": {
     "end_time": "2019-09-12T20:02:53.756516Z",
     "start_time": "2019-09-12T20:02:49.571922Z"
    }
   },
   "outputs": [],
   "source": [
    "# looping tester\n",
    "\n",
    "model_preddies = [lr_preds, ridge_preds, gs_preds, knn_preds, svc_preds, bc_preds, gradboo_preds\n",
    "                 ]\n",
    "\n",
    "results = []\n",
    "\n",
    "for mod in model_preddies:\n",
    "    \n",
    "    orig_df = pd.read_csv('new_df.csv')\n",
    "    orig_df = pd.concat([orig_df, mod], axis=1)\n",
    "\n",
    "    checkywecky = []\n",
    "    for i in range(len(orig_df)):\n",
    "        checkywecky.append(np.argmax(orig_df[['HomeWin', 'Draw', 'AwayWin']].iloc[i]))\n",
    "\n",
    "    results.append(sum([1 if j==n else 0 for j,n in \n",
    "         zip([0 if i=='HomeWin' else 1 if i=='AwayWin' else 2 for i in checkywecky], \n",
    "             orig_df['FTR'])])/1010)\n",
    "    "
   ]
  },
  {
   "cell_type": "code",
   "execution_count": 210,
   "metadata": {
    "ExecuteTime": {
     "end_time": "2019-09-12T19:22:45.348126Z",
     "start_time": "2019-09-12T19:22:45.344145Z"
    }
   },
   "outputs": [],
   "source": [
    "testses = [log_reg_test, ridge_test, lasso_test, knn_test, clf_test, bc_cv, gradboo_cv, grad]\n",
    "cvses = [log_reg_cv, ridge_cv, lasso_cv, knn_cv, clf_cv, bc_test, gradboo_test]"
   ]
  },
  {
   "cell_type": "code",
   "execution_count": 161,
   "metadata": {
    "ExecuteTime": {
     "end_time": "2019-09-12T20:02:53.770471Z",
     "start_time": "2019-09-12T20:02:53.759750Z"
    }
   },
   "outputs": [],
   "source": [
    "models_df = pd.DataFrame([results,\n",
    "               [log_reg_test, ridge_test, lasso_test, knn_test, clf_test, bc_cv, gradboo_cv],\n",
    "               [log_reg_cv, ridge_cv, lasso_cv, knn_cv, clf_cv, bc_test, gradboo_test]], \n",
    "                         columns=['LogReg', 'Ridge', 'Lasso', 'KNN','SVC', \n",
    "                             'BaggClass', 'GradBoost'],\n",
    "            index=['money_maker', 'test', 'cv']).T.sort_values(by='money_maker', ascending=False)"
   ]
  },
  {
   "cell_type": "code",
   "execution_count": 162,
   "metadata": {
    "ExecuteTime": {
     "end_time": "2019-09-12T20:03:00.840271Z",
     "start_time": "2019-09-12T20:03:00.093299Z"
    }
   },
   "outputs": [
    {
     "data": {
      "image/png": "[encoded data removed]",
      "text/plain": [
       "<Figure size 1080x864 with 1 Axes>"
      ]
     },
     "metadata": {
      "image/png": {
       "height": 756,
       "width": 883
      },
      "needs_background": "light"
     },
     "output_type": "display_data"
    }
   ],
   "source": [
    "from matplotlib import pyplot as plt\n",
    "models_df.drop(columns=['money_maker']).plot(kind='bar', figsize=[15,12])\n",
    "plt.savefig('model.png', bbox_inches='tight')"
   ]
  },
  {
   "cell_type": "code",
   "execution_count": 164,
   "metadata": {
    "ExecuteTime": {
     "end_time": "2019-09-12T20:03:11.472144Z",
     "start_time": "2019-09-12T20:03:11.452638Z"
    }
   },
   "outputs": [
    {
     "data": {
      "text/html": [
       "<div>\n",
       "<style scoped>\n",
       "    .dataframe tbody tr th:only-of-type {\n",
       "        vertical-align: middle;\n",
       "    }\n",
       "\n",
       "    .dataframe tbody tr th {\n",
       "        vertical-align: top;\n",
       "    }\n",
       "\n",
       "    .dataframe thead th {\n",
       "        text-align: right;\n",
       "    }\n",
       "</style>\n",
       "<table border=\"1\" class=\"dataframe\">\n",
       "  <thead>\n",
       "    <tr style=\"text-align: right;\">\n",
       "      <th></th>\n",
       "      <th>money_maker</th>\n",
       "      <th>test</th>\n",
       "      <th>cv</th>\n",
       "    </tr>\n",
       "  </thead>\n",
       "  <tbody>\n",
       "    <tr>\n",
       "      <th>SVC</th>\n",
       "      <td>0.477228</td>\n",
       "      <td>0.534653</td>\n",
       "      <td>0.554428</td>\n",
       "    </tr>\n",
       "    <tr>\n",
       "      <th>BaggClass</th>\n",
       "      <td>0.439604</td>\n",
       "      <td>0.540886</td>\n",
       "      <td>0.524752</td>\n",
       "    </tr>\n",
       "    <tr>\n",
       "      <th>KNN</th>\n",
       "      <td>0.415842</td>\n",
       "      <td>0.524752</td>\n",
       "      <td>0.535864</td>\n",
       "    </tr>\n",
       "    <tr>\n",
       "      <th>Lasso</th>\n",
       "      <td>0.413861</td>\n",
       "      <td>0.569307</td>\n",
       "      <td>0.582921</td>\n",
       "    </tr>\n",
       "    <tr>\n",
       "      <th>LogReg</th>\n",
       "      <td>0.412871</td>\n",
       "      <td>0.539604</td>\n",
       "      <td>0.534653</td>\n",
       "    </tr>\n",
       "    <tr>\n",
       "      <th>Ridge</th>\n",
       "      <td>0.412871</td>\n",
       "      <td>0.534653</td>\n",
       "      <td>0.534653</td>\n",
       "    </tr>\n",
       "    <tr>\n",
       "      <th>GradBoost</th>\n",
       "      <td>0.402970</td>\n",
       "      <td>0.527214</td>\n",
       "      <td>0.500000</td>\n",
       "    </tr>\n",
       "  </tbody>\n",
       "</table>\n",
       "</div>"
      ],
      "text/plain": [
       "           money_maker      test        cv\n",
       "SVC           0.477228  0.534653  0.554428\n",
       "BaggClass     0.439604  0.540886  0.524752\n",
       "KNN           0.415842  0.524752  0.535864\n",
       "Lasso         0.413861  0.569307  0.582921\n",
       "LogReg        0.412871  0.539604  0.534653\n",
       "Ridge         0.412871  0.534653  0.534653\n",
       "GradBoost     0.402970  0.527214  0.500000"
      ]
     },
     "execution_count": 164,
     "metadata": {},
     "output_type": "execute_result"
    }
   ],
   "source": [
    "models_df.sort_values(by='money_maker', ascending=False)"
   ]
  },
  {
   "cell_type": "code",
   "execution_count": 118,
   "metadata": {
    "ExecuteTime": {
     "end_time": "2019-09-12T19:09:25.624454Z",
     "start_time": "2019-09-12T19:09:25.617083Z"
    }
   },
   "outputs": [
    {
     "data": {
      "text/plain": [
       "0.5445544554455446"
      ]
     },
     "execution_count": 118,
     "metadata": {},
     "output_type": "execute_result"
    }
   ],
   "source": [
    "clf_test"
   ]
  },
  {
   "cell_type": "code",
   "execution_count": 170,
   "metadata": {
    "ExecuteTime": {
     "end_time": "2019-09-12T20:08:27.030997Z",
     "start_time": "2019-09-12T20:08:26.969839Z"
    }
   },
   "outputs": [],
   "source": [
    "orig_df.to_csv('with_probs.csv')"
   ]
  },
  {
   "cell_type": "markdown",
   "metadata": {},
   "source": [
    "### Checking La Liga.. how accurate are the bookies?"
   ]
  },
  {
   "cell_type": "code",
   "execution_count": null,
   "metadata": {},
   "outputs": [],
   "source": []
  },
  {
   "cell_type": "code",
   "execution_count": null,
   "metadata": {},
   "outputs": [],
   "source": [
    "checkywecky = []\n",
    "    for i in range(len(orig_df)):\n",
    "        checkywecky.append(np.argmax(orig_df[['HomeWin', 'Draw', 'AwayWin']].iloc[i]))\n",
    "\n",
    "    sum([1 if j==n else 0 for j,n in \n",
    "         zip([0 if i=='HomeWin' else 1 if i=='AwayWin' else 2 for i in checkywecky], \n",
    "             orig_df['FTR'])])/1010"
   ]
  },
  {
   "cell_type": "markdown",
   "metadata": {
    "heading_collapsed": true
   },
   "source": [
    "# Betting Comparison"
   ]
  },
  {
   "cell_type": "code",
   "execution_count": 97,
   "metadata": {
    "ExecuteTime": {
     "end_time": "2019-09-12T19:52:55.068439Z",
     "start_time": "2019-09-12T19:52:55.046421Z"
    },
    "hidden": true
   },
   "outputs": [],
   "source": [
    "foot_odds = pd.read_csv('football_all.csv')"
   ]
  },
  {
   "cell_type": "code",
   "execution_count": 98,
   "metadata": {
    "ExecuteTime": {
     "end_time": "2019-09-12T19:52:55.236415Z",
     "start_time": "2019-09-12T19:52:55.224307Z"
    },
    "hidden": true
   },
   "outputs": [],
   "source": [
    "only_odds = foot_odds.drop(columns=['Div','FTHG', 'FTAG', 'HTHG',\n",
    "       'HTAG', 'HTR', 'Referee', 'HS', 'AS', 'HST', 'AST', 'HF', 'AF', 'HC',\n",
    "       'AC', 'HY', 'AY', 'HR', 'AR', 'BbMx>2.5', 'BbAv>2.5', 'BbMx<2.5',\n",
    "       'BbAv<2.5', 'Bb1X2', 'BbOU', 'BbAH', 'BbAHh', 'BbAH', 'BbMxAHH', \n",
    "       'BbAvAHH', 'BbMxAHA', 'BbAvAHA', 'BbMxH', 'BbAvH', 'BbMxD', 'BbAvD',\n",
    "       'BbMxA', 'BbAvA'])"
   ]
  },
  {
   "cell_type": "code",
   "execution_count": 99,
   "metadata": {
    "ExecuteTime": {
     "end_time": "2019-09-12T19:52:55.347426Z",
     "start_time": "2019-09-12T19:52:55.323291Z"
    },
    "hidden": true
   },
   "outputs": [
    {
     "data": {
      "text/html": [
       "<div>\n",
       "<style scoped>\n",
       "    .dataframe tbody tr th:only-of-type {\n",
       "        vertical-align: middle;\n",
       "    }\n",
       "\n",
       "    .dataframe tbody tr th {\n",
       "        vertical-align: top;\n",
       "    }\n",
       "\n",
       "    .dataframe thead th {\n",
       "        text-align: right;\n",
       "    }\n",
       "</style>\n",
       "<table border=\"1\" class=\"dataframe\">\n",
       "  <thead>\n",
       "    <tr style=\"text-align: right;\">\n",
       "      <th></th>\n",
       "      <th>date</th>\n",
       "      <th>Date</th>\n",
       "      <th>HomeTeam</th>\n",
       "      <th>AwayTeam</th>\n",
       "      <th>FTR</th>\n",
       "      <th>B365H</th>\n",
       "      <th>B365D</th>\n",
       "      <th>B365A</th>\n",
       "      <th>BWH</th>\n",
       "      <th>BWD</th>\n",
       "      <th>...</th>\n",
       "      <th>PSA</th>\n",
       "      <th>WHH</th>\n",
       "      <th>WHD</th>\n",
       "      <th>WHA</th>\n",
       "      <th>VCH</th>\n",
       "      <th>VCD</th>\n",
       "      <th>VCA</th>\n",
       "      <th>PSCH</th>\n",
       "      <th>PSCD</th>\n",
       "      <th>PSCA</th>\n",
       "    </tr>\n",
       "  </thead>\n",
       "  <tbody>\n",
       "    <tr>\n",
       "      <th>0</th>\n",
       "      <td>2016-08-13</td>\n",
       "      <td>13/08/2016</td>\n",
       "      <td>Burnley</td>\n",
       "      <td>Swansea</td>\n",
       "      <td>A</td>\n",
       "      <td>2.40</td>\n",
       "      <td>3.3</td>\n",
       "      <td>3.25</td>\n",
       "      <td>2.45</td>\n",
       "      <td>3.1</td>\n",
       "      <td>...</td>\n",
       "      <td>3.19</td>\n",
       "      <td>2.50</td>\n",
       "      <td>3.20</td>\n",
       "      <td>2.90</td>\n",
       "      <td>2.50</td>\n",
       "      <td>3.2</td>\n",
       "      <td>3.25</td>\n",
       "      <td>2.79</td>\n",
       "      <td>3.16</td>\n",
       "      <td>2.89</td>\n",
       "    </tr>\n",
       "    <tr>\n",
       "      <th>1</th>\n",
       "      <td>2016-08-13</td>\n",
       "      <td>13/08/2016</td>\n",
       "      <td>Crystal Palace</td>\n",
       "      <td>West Brom</td>\n",
       "      <td>A</td>\n",
       "      <td>2.00</td>\n",
       "      <td>3.3</td>\n",
       "      <td>4.50</td>\n",
       "      <td>2.00</td>\n",
       "      <td>3.2</td>\n",
       "      <td>...</td>\n",
       "      <td>4.32</td>\n",
       "      <td>2.05</td>\n",
       "      <td>3.10</td>\n",
       "      <td>4.00</td>\n",
       "      <td>2.00</td>\n",
       "      <td>3.3</td>\n",
       "      <td>4.40</td>\n",
       "      <td>2.25</td>\n",
       "      <td>3.15</td>\n",
       "      <td>3.86</td>\n",
       "    </tr>\n",
       "    <tr>\n",
       "      <th>2</th>\n",
       "      <td>2016-08-13</td>\n",
       "      <td>13/08/2016</td>\n",
       "      <td>Everton</td>\n",
       "      <td>Tottenham</td>\n",
       "      <td>D</td>\n",
       "      <td>3.20</td>\n",
       "      <td>3.4</td>\n",
       "      <td>2.40</td>\n",
       "      <td>2.95</td>\n",
       "      <td>3.2</td>\n",
       "      <td>...</td>\n",
       "      <td>2.37</td>\n",
       "      <td>3.10</td>\n",
       "      <td>3.10</td>\n",
       "      <td>2.40</td>\n",
       "      <td>3.25</td>\n",
       "      <td>3.4</td>\n",
       "      <td>2.38</td>\n",
       "      <td>3.64</td>\n",
       "      <td>3.54</td>\n",
       "      <td>2.16</td>\n",
       "    </tr>\n",
       "    <tr>\n",
       "      <th>3</th>\n",
       "      <td>2016-08-13</td>\n",
       "      <td>13/08/2016</td>\n",
       "      <td>Hull</td>\n",
       "      <td>Leicester</td>\n",
       "      <td>H</td>\n",
       "      <td>4.50</td>\n",
       "      <td>3.6</td>\n",
       "      <td>1.91</td>\n",
       "      <td>4.33</td>\n",
       "      <td>3.4</td>\n",
       "      <td>...</td>\n",
       "      <td>1.95</td>\n",
       "      <td>4.20</td>\n",
       "      <td>3.25</td>\n",
       "      <td>1.95</td>\n",
       "      <td>4.40</td>\n",
       "      <td>3.5</td>\n",
       "      <td>1.95</td>\n",
       "      <td>4.68</td>\n",
       "      <td>3.50</td>\n",
       "      <td>1.92</td>\n",
       "    </tr>\n",
       "    <tr>\n",
       "      <th>4</th>\n",
       "      <td>2016-08-13</td>\n",
       "      <td>13/08/2016</td>\n",
       "      <td>Man City</td>\n",
       "      <td>Sunderland</td>\n",
       "      <td>H</td>\n",
       "      <td>1.25</td>\n",
       "      <td>6.5</td>\n",
       "      <td>15.00</td>\n",
       "      <td>1.22</td>\n",
       "      <td>6.0</td>\n",
       "      <td>...</td>\n",
       "      <td>13.15</td>\n",
       "      <td>1.25</td>\n",
       "      <td>5.50</td>\n",
       "      <td>13.00</td>\n",
       "      <td>1.25</td>\n",
       "      <td>6.5</td>\n",
       "      <td>15.00</td>\n",
       "      <td>1.25</td>\n",
       "      <td>6.50</td>\n",
       "      <td>14.50</td>\n",
       "    </tr>\n",
       "  </tbody>\n",
       "</table>\n",
       "<p>5 rows × 26 columns</p>\n",
       "</div>"
      ],
      "text/plain": [
       "         date        Date        HomeTeam    AwayTeam FTR  B365H  B365D  \\\n",
       "0  2016-08-13  13/08/2016         Burnley     Swansea   A   2.40    3.3   \n",
       "1  2016-08-13  13/08/2016  Crystal Palace   West Brom   A   2.00    3.3   \n",
       "2  2016-08-13  13/08/2016         Everton   Tottenham   D   3.20    3.4   \n",
       "3  2016-08-13  13/08/2016            Hull   Leicester   H   4.50    3.6   \n",
       "4  2016-08-13  13/08/2016        Man City  Sunderland   H   1.25    6.5   \n",
       "\n",
       "   B365A   BWH  BWD  ...      PSA   WHH   WHD    WHA   VCH  VCD    VCA  PSCH  \\\n",
       "0   3.25  2.45  3.1  ...     3.19  2.50  3.20   2.90  2.50  3.2   3.25  2.79   \n",
       "1   4.50  2.00  3.2  ...     4.32  2.05  3.10   4.00  2.00  3.3   4.40  2.25   \n",
       "2   2.40  2.95  3.2  ...     2.37  3.10  3.10   2.40  3.25  3.4   2.38  3.64   \n",
       "3   1.91  4.33  3.4  ...     1.95  4.20  3.25   1.95  4.40  3.5   1.95  4.68   \n",
       "4  15.00  1.22  6.0  ...    13.15  1.25  5.50  13.00  1.25  6.5  15.00  1.25   \n",
       "\n",
       "   PSCD   PSCA  \n",
       "0  3.16   2.89  \n",
       "1  3.15   3.86  \n",
       "2  3.54   2.16  \n",
       "3  3.50   1.92  \n",
       "4  6.50  14.50  \n",
       "\n",
       "[5 rows x 26 columns]"
      ]
     },
     "execution_count": 99,
     "metadata": {},
     "output_type": "execute_result"
    }
   ],
   "source": [
    "only_odds.head()"
   ]
  },
  {
   "cell_type": "code",
   "execution_count": 100,
   "metadata": {
    "ExecuteTime": {
     "end_time": "2019-09-12T19:52:55.561412Z",
     "start_time": "2019-09-12T19:52:55.541645Z"
    },
    "hidden": true
   },
   "outputs": [
    {
     "data": {
      "text/plain": [
       "(1140, 26)"
      ]
     },
     "execution_count": 100,
     "metadata": {},
     "output_type": "execute_result"
    }
   ],
   "source": [
    "only_odds.shape"
   ]
  },
  {
   "cell_type": "code",
   "execution_count": 101,
   "metadata": {
    "ExecuteTime": {
     "end_time": "2019-09-12T19:52:55.649297Z",
     "start_time": "2019-09-12T19:52:55.641235Z"
    },
    "hidden": true
   },
   "outputs": [
    {
     "data": {
      "text/plain": [
       "Index(['date', 'Date', 'HomeTeam', 'AwayTeam', 'FTR', 'B365H', 'B365D',\n",
       "       'B365A', 'BWH', 'BWD', 'BWA', 'IWH', 'IWD', 'IWA', 'PSH', 'PSD', 'PSA',\n",
       "       'WHH', 'WHD', 'WHA', 'VCH', 'VCD', 'VCA', 'PSCH', 'PSCD', 'PSCA'],\n",
       "      dtype='object')"
      ]
     },
     "execution_count": 101,
     "metadata": {},
     "output_type": "execute_result"
    }
   ],
   "source": [
    "only_odds.columns"
   ]
  },
  {
   "cell_type": "code",
   "execution_count": 102,
   "metadata": {
    "ExecuteTime": {
     "end_time": "2019-09-12T19:52:55.765842Z",
     "start_time": "2019-09-12T19:52:55.754033Z"
    },
    "hidden": true
   },
   "outputs": [],
   "source": [
    "# convert from decimal to probabilities\n",
    "\n",
    "here_we_go = ['B365H', 'B365D', 'B365A', 'BWH',\n",
    "       'BWD', 'BWA', 'IWH', 'IWD', 'IWA', 'PSH', 'PSD', 'PSA', 'WHH', 'WHD',\n",
    "       'WHA', 'VCH', 'VCD', 'VCA', 'PSCH', 'PSCD', 'PSCA']\n",
    "\n",
    "for header in here_we_go:\n",
    "    only_odds[header] = [1/i for i in only_odds[header]]"
   ]
  },
  {
   "cell_type": "code",
   "execution_count": 103,
   "metadata": {
    "ExecuteTime": {
     "end_time": "2019-09-12T19:52:56.037154Z",
     "start_time": "2019-09-12T19:52:55.991107Z"
    },
    "hidden": true
   },
   "outputs": [
    {
     "data": {
      "text/html": [
       "<div>\n",
       "<style scoped>\n",
       "    .dataframe tbody tr th:only-of-type {\n",
       "        vertical-align: middle;\n",
       "    }\n",
       "\n",
       "    .dataframe tbody tr th {\n",
       "        vertical-align: top;\n",
       "    }\n",
       "\n",
       "    .dataframe thead th {\n",
       "        text-align: right;\n",
       "    }\n",
       "</style>\n",
       "<table border=\"1\" class=\"dataframe\">\n",
       "  <thead>\n",
       "    <tr style=\"text-align: right;\">\n",
       "      <th></th>\n",
       "      <th>date</th>\n",
       "      <th>Date</th>\n",
       "      <th>HomeTeam</th>\n",
       "      <th>AwayTeam</th>\n",
       "      <th>FTR</th>\n",
       "      <th>B365H</th>\n",
       "      <th>B365D</th>\n",
       "      <th>B365A</th>\n",
       "      <th>BWH</th>\n",
       "      <th>BWD</th>\n",
       "      <th>...</th>\n",
       "      <th>PSA</th>\n",
       "      <th>WHH</th>\n",
       "      <th>WHD</th>\n",
       "      <th>WHA</th>\n",
       "      <th>VCH</th>\n",
       "      <th>VCD</th>\n",
       "      <th>VCA</th>\n",
       "      <th>PSCH</th>\n",
       "      <th>PSCD</th>\n",
       "      <th>PSCA</th>\n",
       "    </tr>\n",
       "  </thead>\n",
       "  <tbody>\n",
       "    <tr>\n",
       "      <th>0</th>\n",
       "      <td>2016-08-13</td>\n",
       "      <td>13/08/2016</td>\n",
       "      <td>Burnley</td>\n",
       "      <td>Swansea</td>\n",
       "      <td>A</td>\n",
       "      <td>0.416667</td>\n",
       "      <td>0.303030</td>\n",
       "      <td>0.307692</td>\n",
       "      <td>0.408163</td>\n",
       "      <td>0.322581</td>\n",
       "      <td>...</td>\n",
       "      <td>0.313480</td>\n",
       "      <td>0.400000</td>\n",
       "      <td>0.312500</td>\n",
       "      <td>0.344828</td>\n",
       "      <td>0.400000</td>\n",
       "      <td>0.312500</td>\n",
       "      <td>0.307692</td>\n",
       "      <td>0.358423</td>\n",
       "      <td>0.316456</td>\n",
       "      <td>0.346021</td>\n",
       "    </tr>\n",
       "    <tr>\n",
       "      <th>1</th>\n",
       "      <td>2016-08-13</td>\n",
       "      <td>13/08/2016</td>\n",
       "      <td>Crystal Palace</td>\n",
       "      <td>West Brom</td>\n",
       "      <td>A</td>\n",
       "      <td>0.500000</td>\n",
       "      <td>0.303030</td>\n",
       "      <td>0.222222</td>\n",
       "      <td>0.500000</td>\n",
       "      <td>0.312500</td>\n",
       "      <td>...</td>\n",
       "      <td>0.231481</td>\n",
       "      <td>0.487805</td>\n",
       "      <td>0.322581</td>\n",
       "      <td>0.250000</td>\n",
       "      <td>0.500000</td>\n",
       "      <td>0.303030</td>\n",
       "      <td>0.227273</td>\n",
       "      <td>0.444444</td>\n",
       "      <td>0.317460</td>\n",
       "      <td>0.259067</td>\n",
       "    </tr>\n",
       "    <tr>\n",
       "      <th>2</th>\n",
       "      <td>2016-08-13</td>\n",
       "      <td>13/08/2016</td>\n",
       "      <td>Everton</td>\n",
       "      <td>Tottenham</td>\n",
       "      <td>D</td>\n",
       "      <td>0.312500</td>\n",
       "      <td>0.294118</td>\n",
       "      <td>0.416667</td>\n",
       "      <td>0.338983</td>\n",
       "      <td>0.312500</td>\n",
       "      <td>...</td>\n",
       "      <td>0.421941</td>\n",
       "      <td>0.322581</td>\n",
       "      <td>0.322581</td>\n",
       "      <td>0.416667</td>\n",
       "      <td>0.307692</td>\n",
       "      <td>0.294118</td>\n",
       "      <td>0.420168</td>\n",
       "      <td>0.274725</td>\n",
       "      <td>0.282486</td>\n",
       "      <td>0.462963</td>\n",
       "    </tr>\n",
       "    <tr>\n",
       "      <th>3</th>\n",
       "      <td>2016-08-13</td>\n",
       "      <td>13/08/2016</td>\n",
       "      <td>Hull</td>\n",
       "      <td>Leicester</td>\n",
       "      <td>H</td>\n",
       "      <td>0.222222</td>\n",
       "      <td>0.277778</td>\n",
       "      <td>0.523560</td>\n",
       "      <td>0.230947</td>\n",
       "      <td>0.294118</td>\n",
       "      <td>...</td>\n",
       "      <td>0.512821</td>\n",
       "      <td>0.238095</td>\n",
       "      <td>0.307692</td>\n",
       "      <td>0.512821</td>\n",
       "      <td>0.227273</td>\n",
       "      <td>0.285714</td>\n",
       "      <td>0.512821</td>\n",
       "      <td>0.213675</td>\n",
       "      <td>0.285714</td>\n",
       "      <td>0.520833</td>\n",
       "    </tr>\n",
       "    <tr>\n",
       "      <th>4</th>\n",
       "      <td>2016-08-13</td>\n",
       "      <td>13/08/2016</td>\n",
       "      <td>Man City</td>\n",
       "      <td>Sunderland</td>\n",
       "      <td>H</td>\n",
       "      <td>0.800000</td>\n",
       "      <td>0.153846</td>\n",
       "      <td>0.066667</td>\n",
       "      <td>0.819672</td>\n",
       "      <td>0.166667</td>\n",
       "      <td>...</td>\n",
       "      <td>0.076046</td>\n",
       "      <td>0.800000</td>\n",
       "      <td>0.181818</td>\n",
       "      <td>0.076923</td>\n",
       "      <td>0.800000</td>\n",
       "      <td>0.153846</td>\n",
       "      <td>0.066667</td>\n",
       "      <td>0.800000</td>\n",
       "      <td>0.153846</td>\n",
       "      <td>0.068966</td>\n",
       "    </tr>\n",
       "  </tbody>\n",
       "</table>\n",
       "<p>5 rows × 26 columns</p>\n",
       "</div>"
      ],
      "text/plain": [
       "         date        Date        HomeTeam    AwayTeam FTR     B365H     B365D  \\\n",
       "0  2016-08-13  13/08/2016         Burnley     Swansea   A  0.416667  0.303030   \n",
       "1  2016-08-13  13/08/2016  Crystal Palace   West Brom   A  0.500000  0.303030   \n",
       "2  2016-08-13  13/08/2016         Everton   Tottenham   D  0.312500  0.294118   \n",
       "3  2016-08-13  13/08/2016            Hull   Leicester   H  0.222222  0.277778   \n",
       "4  2016-08-13  13/08/2016        Man City  Sunderland   H  0.800000  0.153846   \n",
       "\n",
       "      B365A       BWH       BWD    ...          PSA       WHH       WHD  \\\n",
       "0  0.307692  0.408163  0.322581    ...     0.313480  0.400000  0.312500   \n",
       "1  0.222222  0.500000  0.312500    ...     0.231481  0.487805  0.322581   \n",
       "2  0.416667  0.338983  0.312500    ...     0.421941  0.322581  0.322581   \n",
       "3  0.523560  0.230947  0.294118    ...     0.512821  0.238095  0.307692   \n",
       "4  0.066667  0.819672  0.166667    ...     0.076046  0.800000  0.181818   \n",
       "\n",
       "        WHA       VCH       VCD       VCA      PSCH      PSCD      PSCA  \n",
       "0  0.344828  0.400000  0.312500  0.307692  0.358423  0.316456  0.346021  \n",
       "1  0.250000  0.500000  0.303030  0.227273  0.444444  0.317460  0.259067  \n",
       "2  0.416667  0.307692  0.294118  0.420168  0.274725  0.282486  0.462963  \n",
       "3  0.512821  0.227273  0.285714  0.512821  0.213675  0.285714  0.520833  \n",
       "4  0.076923  0.800000  0.153846  0.066667  0.800000  0.153846  0.068966  \n",
       "\n",
       "[5 rows x 26 columns]"
      ]
     },
     "execution_count": 103,
     "metadata": {},
     "output_type": "execute_result"
    }
   ],
   "source": [
    "only_odds.head()"
   ]
  },
  {
   "cell_type": "code",
   "execution_count": 104,
   "metadata": {
    "ExecuteTime": {
     "end_time": "2019-09-12T19:52:56.110286Z",
     "start_time": "2019-09-12T19:52:56.102357Z"
    },
    "hidden": true
   },
   "outputs": [],
   "source": [
    "only_odds['FTR'] = [0 if i=='H' else 1 if i=='A' else 2 for i in only_odds['FTR']]"
   ]
  },
  {
   "cell_type": "code",
   "execution_count": 105,
   "metadata": {
    "ExecuteTime": {
     "end_time": "2019-09-12T19:52:56.212861Z",
     "start_time": "2019-09-12T19:52:56.190552Z"
    },
    "hidden": true
   },
   "outputs": [
    {
     "data": {
      "text/html": [
       "<div>\n",
       "<style scoped>\n",
       "    .dataframe tbody tr th:only-of-type {\n",
       "        vertical-align: middle;\n",
       "    }\n",
       "\n",
       "    .dataframe tbody tr th {\n",
       "        vertical-align: top;\n",
       "    }\n",
       "\n",
       "    .dataframe thead th {\n",
       "        text-align: right;\n",
       "    }\n",
       "</style>\n",
       "<table border=\"1\" class=\"dataframe\">\n",
       "  <thead>\n",
       "    <tr style=\"text-align: right;\">\n",
       "      <th></th>\n",
       "      <th>date</th>\n",
       "      <th>Date</th>\n",
       "      <th>HomeTeam</th>\n",
       "      <th>AwayTeam</th>\n",
       "      <th>FTR</th>\n",
       "      <th>B365H</th>\n",
       "      <th>B365D</th>\n",
       "      <th>B365A</th>\n",
       "      <th>BWH</th>\n",
       "      <th>BWD</th>\n",
       "      <th>...</th>\n",
       "      <th>PSA</th>\n",
       "      <th>WHH</th>\n",
       "      <th>WHD</th>\n",
       "      <th>WHA</th>\n",
       "      <th>VCH</th>\n",
       "      <th>VCD</th>\n",
       "      <th>VCA</th>\n",
       "      <th>PSCH</th>\n",
       "      <th>PSCD</th>\n",
       "      <th>PSCA</th>\n",
       "    </tr>\n",
       "  </thead>\n",
       "  <tbody>\n",
       "    <tr>\n",
       "      <th>1135</th>\n",
       "      <td>2019-05-12</td>\n",
       "      <td>12/05/2019</td>\n",
       "      <td>Liverpool</td>\n",
       "      <td>Wolves</td>\n",
       "      <td>0</td>\n",
       "      <td>0.769231</td>\n",
       "      <td>0.166667</td>\n",
       "      <td>0.090909</td>\n",
       "      <td>0.769231</td>\n",
       "      <td>0.173913</td>\n",
       "      <td>...</td>\n",
       "      <td>0.094877</td>\n",
       "      <td>0.775194</td>\n",
       "      <td>0.181818</td>\n",
       "      <td>0.090909</td>\n",
       "      <td>0.769231</td>\n",
       "      <td>0.173913</td>\n",
       "      <td>0.086957</td>\n",
       "      <td>0.757576</td>\n",
       "      <td>0.169779</td>\n",
       "      <td>0.105485</td>\n",
       "    </tr>\n",
       "    <tr>\n",
       "      <th>1136</th>\n",
       "      <td>2019-05-12</td>\n",
       "      <td>12/05/2019</td>\n",
       "      <td>Man United</td>\n",
       "      <td>Cardiff</td>\n",
       "      <td>1</td>\n",
       "      <td>0.781250</td>\n",
       "      <td>0.153846</td>\n",
       "      <td>0.090909</td>\n",
       "      <td>0.800000</td>\n",
       "      <td>0.160000</td>\n",
       "      <td>...</td>\n",
       "      <td>0.097943</td>\n",
       "      <td>0.800000</td>\n",
       "      <td>0.153846</td>\n",
       "      <td>0.100000</td>\n",
       "      <td>0.775194</td>\n",
       "      <td>0.160000</td>\n",
       "      <td>0.090909</td>\n",
       "      <td>0.769231</td>\n",
       "      <td>0.165017</td>\n",
       "      <td>0.102987</td>\n",
       "    </tr>\n",
       "    <tr>\n",
       "      <th>1137</th>\n",
       "      <td>2019-05-12</td>\n",
       "      <td>12/05/2019</td>\n",
       "      <td>Southampton</td>\n",
       "      <td>Huddersfield</td>\n",
       "      <td>2</td>\n",
       "      <td>0.694444</td>\n",
       "      <td>0.210526</td>\n",
       "      <td>0.117647</td>\n",
       "      <td>0.704225</td>\n",
       "      <td>0.210526</td>\n",
       "      <td>...</td>\n",
       "      <td>0.131234</td>\n",
       "      <td>0.714286</td>\n",
       "      <td>0.210526</td>\n",
       "      <td>0.125000</td>\n",
       "      <td>0.714286</td>\n",
       "      <td>0.208333</td>\n",
       "      <td>0.117647</td>\n",
       "      <td>0.729927</td>\n",
       "      <td>0.186567</td>\n",
       "      <td>0.117786</td>\n",
       "    </tr>\n",
       "    <tr>\n",
       "      <th>1138</th>\n",
       "      <td>2019-05-12</td>\n",
       "      <td>12/05/2019</td>\n",
       "      <td>Tottenham</td>\n",
       "      <td>Everton</td>\n",
       "      <td>2</td>\n",
       "      <td>0.454545</td>\n",
       "      <td>0.285714</td>\n",
       "      <td>0.285714</td>\n",
       "      <td>0.476190</td>\n",
       "      <td>0.285714</td>\n",
       "      <td>...</td>\n",
       "      <td>0.274725</td>\n",
       "      <td>0.476190</td>\n",
       "      <td>0.285714</td>\n",
       "      <td>0.285714</td>\n",
       "      <td>0.476190</td>\n",
       "      <td>0.285714</td>\n",
       "      <td>0.270270</td>\n",
       "      <td>0.523560</td>\n",
       "      <td>0.262467</td>\n",
       "      <td>0.240964</td>\n",
       "    </tr>\n",
       "    <tr>\n",
       "      <th>1139</th>\n",
       "      <td>2019-05-12</td>\n",
       "      <td>12/05/2019</td>\n",
       "      <td>Watford</td>\n",
       "      <td>West Ham</td>\n",
       "      <td>1</td>\n",
       "      <td>0.444444</td>\n",
       "      <td>0.266667</td>\n",
       "      <td>0.312500</td>\n",
       "      <td>0.454545</td>\n",
       "      <td>0.270270</td>\n",
       "      <td>...</td>\n",
       "      <td>0.311526</td>\n",
       "      <td>0.454545</td>\n",
       "      <td>0.270270</td>\n",
       "      <td>0.322581</td>\n",
       "      <td>0.454545</td>\n",
       "      <td>0.266667</td>\n",
       "      <td>0.307692</td>\n",
       "      <td>0.473934</td>\n",
       "      <td>0.259067</td>\n",
       "      <td>0.293255</td>\n",
       "    </tr>\n",
       "  </tbody>\n",
       "</table>\n",
       "<p>5 rows × 26 columns</p>\n",
       "</div>"
      ],
      "text/plain": [
       "            date        Date     HomeTeam      AwayTeam  FTR     B365H  \\\n",
       "1135  2019-05-12  12/05/2019    Liverpool        Wolves    0  0.769231   \n",
       "1136  2019-05-12  12/05/2019   Man United       Cardiff    1  0.781250   \n",
       "1137  2019-05-12  12/05/2019  Southampton  Huddersfield    2  0.694444   \n",
       "1138  2019-05-12  12/05/2019    Tottenham       Everton    2  0.454545   \n",
       "1139  2019-05-12  12/05/2019      Watford      West Ham    1  0.444444   \n",
       "\n",
       "         B365D     B365A       BWH       BWD    ...          PSA       WHH  \\\n",
       "1135  0.166667  0.090909  0.769231  0.173913    ...     0.094877  0.775194   \n",
       "1136  0.153846  0.090909  0.800000  0.160000    ...     0.097943  0.800000   \n",
       "1137  0.210526  0.117647  0.704225  0.210526    ...     0.131234  0.714286   \n",
       "1138  0.285714  0.285714  0.476190  0.285714    ...     0.274725  0.476190   \n",
       "1139  0.266667  0.312500  0.454545  0.270270    ...     0.311526  0.454545   \n",
       "\n",
       "           WHD       WHA       VCH       VCD       VCA      PSCH      PSCD  \\\n",
       "1135  0.181818  0.090909  0.769231  0.173913  0.086957  0.757576  0.169779   \n",
       "1136  0.153846  0.100000  0.775194  0.160000  0.090909  0.769231  0.165017   \n",
       "1137  0.210526  0.125000  0.714286  0.208333  0.117647  0.729927  0.186567   \n",
       "1138  0.285714  0.285714  0.476190  0.285714  0.270270  0.523560  0.262467   \n",
       "1139  0.270270  0.322581  0.454545  0.266667  0.307692  0.473934  0.259067   \n",
       "\n",
       "          PSCA  \n",
       "1135  0.105485  \n",
       "1136  0.102987  \n",
       "1137  0.117786  \n",
       "1138  0.240964  \n",
       "1139  0.293255  \n",
       "\n",
       "[5 rows x 26 columns]"
      ]
     },
     "execution_count": 105,
     "metadata": {},
     "output_type": "execute_result"
    }
   ],
   "source": [
    "only_odds.tail()"
   ]
  },
  {
   "cell_type": "code",
   "execution_count": 106,
   "metadata": {
    "ExecuteTime": {
     "end_time": "2019-09-12T19:52:56.416472Z",
     "start_time": "2019-09-12T19:52:56.396716Z"
    },
    "hidden": true
   },
   "outputs": [],
   "source": [
    "only_odds.drop(columns=['Date'], inplace=True)"
   ]
  },
  {
   "cell_type": "code",
   "execution_count": 107,
   "metadata": {
    "ExecuteTime": {
     "end_time": "2019-09-12T19:52:56.522543Z",
     "start_time": "2019-09-12T19:52:56.514822Z"
    },
    "hidden": true
   },
   "outputs": [],
   "source": [
    "only_odds['HomeTeam'] = ['ManUtd' if i=='Man United' else i for i in only_odds['HomeTeam']]\n",
    "only_odds['HomeTeam'] = ['ManCity' if i=='Man City' else i for i in only_odds['HomeTeam']]\n",
    "only_odds['HomeTeam'] = ['WestHam' if i=='West Ham' else i for i in only_odds['HomeTeam']]\n",
    "only_odds['HomeTeam'] = ['WestBrom' if i=='West Brom' else i for i in only_odds['HomeTeam']]\n",
    "only_odds['HomeTeam'] = ['HullCity' if i=='Hull' else i for i in only_odds['HomeTeam']]"
   ]
  },
  {
   "cell_type": "code",
   "execution_count": 108,
   "metadata": {
    "ExecuteTime": {
     "end_time": "2019-09-12T19:52:56.643439Z",
     "start_time": "2019-09-12T19:52:56.639647Z"
    },
    "hidden": true
   },
   "outputs": [],
   "source": [
    "only_odds.set_index('date', inplace=True, drop=True)"
   ]
  },
  {
   "cell_type": "code",
   "execution_count": 109,
   "metadata": {
    "ExecuteTime": {
     "end_time": "2019-09-12T19:52:56.864540Z",
     "start_time": "2019-09-12T19:52:56.847178Z"
    },
    "hidden": true
   },
   "outputs": [],
   "source": [
    "only_odds['key'] = [str(i)+n[:5] for i,n in zip(only_odds.index, only_odds['HomeTeam'])]"
   ]
  },
  {
   "cell_type": "code",
   "execution_count": 171,
   "metadata": {
    "ExecuteTime": {
     "end_time": "2019-09-12T20:08:43.465739Z",
     "start_time": "2019-09-12T20:08:43.446820Z"
    },
    "hidden": true
   },
   "outputs": [],
   "source": [
    "with_probs = pd.read_csv('with_probs.csv', index_col=0)"
   ]
  },
  {
   "cell_type": "code",
   "execution_count": 172,
   "metadata": {
    "ExecuteTime": {
     "end_time": "2019-09-12T20:08:43.656550Z",
     "start_time": "2019-09-12T20:08:43.636214Z"
    },
    "hidden": true
   },
   "outputs": [
    {
     "data": {
      "text/plain": [
       "Index(['date', 'team1', 'team2', 'xg1', 'xg2', 'FTR', 'HTR', 'half_time_gd',\n",
       "       'yellow_cards', 'total_shots', 'shots_on_target', 'free_kicks',\n",
       "       'corners', 'red_cards', 'A Marriner', 'A Taylor', 'C Kavanagh',\n",
       "       'C Pawson', 'D Coote', 'G Scott', 'J Moss', 'K Friend', 'L Mason',\n",
       "       'L Probert', 'M Atkinson', 'M Clattenburg', 'M Dean', 'M Jones',\n",
       "       'M Oliver', 'N Swarbrick', 'P Tierney', 'R East', 'R Madley',\n",
       "       'S Attwell', 'S Hooper', 'l Mason', 'season_period', 'home_elo',\n",
       "       'away_elo', 'score1', 'score2', 'FTR_alpha', 'xg1_5g_avg', 'xg2_5g_avg',\n",
       "       'gd_5g_avg', 'game1', 'game2', 'game3', 'game4', 'game5', 'HomeWin',\n",
       "       'AwayWin', 'Draw'],\n",
       "      dtype='object')"
      ]
     },
     "execution_count": 172,
     "metadata": {},
     "output_type": "execute_result"
    }
   ],
   "source": [
    "with_probs.columns"
   ]
  },
  {
   "cell_type": "code",
   "execution_count": 173,
   "metadata": {
    "ExecuteTime": {
     "end_time": "2019-09-12T20:08:43.852209Z",
     "start_time": "2019-09-12T20:08:43.833866Z"
    },
    "hidden": true
   },
   "outputs": [],
   "source": [
    "only_probs = with_probs[['date', 'team1', 'team2','HomeWin', 'Draw', 'AwayWin', 'FTR']]"
   ]
  },
  {
   "cell_type": "code",
   "execution_count": 174,
   "metadata": {
    "ExecuteTime": {
     "end_time": "2019-09-12T20:08:43.955648Z",
     "start_time": "2019-09-12T20:08:43.943489Z"
    },
    "hidden": true
   },
   "outputs": [
    {
     "data": {
      "text/html": [
       "<div>\n",
       "<style scoped>\n",
       "    .dataframe tbody tr th:only-of-type {\n",
       "        vertical-align: middle;\n",
       "    }\n",
       "\n",
       "    .dataframe tbody tr th {\n",
       "        vertical-align: top;\n",
       "    }\n",
       "\n",
       "    .dataframe thead th {\n",
       "        text-align: right;\n",
       "    }\n",
       "</style>\n",
       "<table border=\"1\" class=\"dataframe\">\n",
       "  <thead>\n",
       "    <tr style=\"text-align: right;\">\n",
       "      <th></th>\n",
       "      <th>date</th>\n",
       "      <th>team1</th>\n",
       "      <th>team2</th>\n",
       "      <th>HomeWin</th>\n",
       "      <th>Draw</th>\n",
       "      <th>AwayWin</th>\n",
       "      <th>FTR</th>\n",
       "    </tr>\n",
       "  </thead>\n",
       "  <tbody>\n",
       "    <tr>\n",
       "      <th>0</th>\n",
       "      <td>2016-10-22</td>\n",
       "      <td>Burnley</td>\n",
       "      <td>Everton</td>\n",
       "      <td>0.451</td>\n",
       "      <td>0.181</td>\n",
       "      <td>0.367</td>\n",
       "      <td>0</td>\n",
       "    </tr>\n",
       "    <tr>\n",
       "      <th>1</th>\n",
       "      <td>2016-11-05</td>\n",
       "      <td>Burnley</td>\n",
       "      <td>Crystal Palace</td>\n",
       "      <td>0.741</td>\n",
       "      <td>0.126</td>\n",
       "      <td>0.133</td>\n",
       "      <td>0</td>\n",
       "    </tr>\n",
       "    <tr>\n",
       "      <th>2</th>\n",
       "      <td>2016-11-26</td>\n",
       "      <td>Burnley</td>\n",
       "      <td>ManCity</td>\n",
       "      <td>0.760</td>\n",
       "      <td>0.177</td>\n",
       "      <td>0.063</td>\n",
       "      <td>1</td>\n",
       "    </tr>\n",
       "    <tr>\n",
       "      <th>3</th>\n",
       "      <td>2016-12-10</td>\n",
       "      <td>Burnley</td>\n",
       "      <td>Bournemouth</td>\n",
       "      <td>0.754</td>\n",
       "      <td>0.103</td>\n",
       "      <td>0.142</td>\n",
       "      <td>0</td>\n",
       "    </tr>\n",
       "    <tr>\n",
       "      <th>4</th>\n",
       "      <td>2016-12-26</td>\n",
       "      <td>Burnley</td>\n",
       "      <td>Middlesbrough</td>\n",
       "      <td>0.693</td>\n",
       "      <td>0.168</td>\n",
       "      <td>0.139</td>\n",
       "      <td>0</td>\n",
       "    </tr>\n",
       "    <tr>\n",
       "      <th>5</th>\n",
       "      <td>2016-12-31</td>\n",
       "      <td>Burnley</td>\n",
       "      <td>Sunderland</td>\n",
       "      <td>0.445</td>\n",
       "      <td>0.124</td>\n",
       "      <td>0.431</td>\n",
       "      <td>0</td>\n",
       "    </tr>\n",
       "    <tr>\n",
       "      <th>6</th>\n",
       "      <td>2017-01-14</td>\n",
       "      <td>Burnley</td>\n",
       "      <td>Southampton</td>\n",
       "      <td>0.701</td>\n",
       "      <td>0.146</td>\n",
       "      <td>0.153</td>\n",
       "      <td>0</td>\n",
       "    </tr>\n",
       "    <tr>\n",
       "      <th>7</th>\n",
       "      <td>2017-01-31</td>\n",
       "      <td>Burnley</td>\n",
       "      <td>Leicester City</td>\n",
       "      <td>0.442</td>\n",
       "      <td>0.077</td>\n",
       "      <td>0.480</td>\n",
       "      <td>0</td>\n",
       "    </tr>\n",
       "    <tr>\n",
       "      <th>8</th>\n",
       "      <td>2017-02-12</td>\n",
       "      <td>Burnley</td>\n",
       "      <td>Chelsea</td>\n",
       "      <td>0.573</td>\n",
       "      <td>0.315</td>\n",
       "      <td>0.112</td>\n",
       "      <td>2</td>\n",
       "    </tr>\n",
       "    <tr>\n",
       "      <th>9</th>\n",
       "      <td>2017-04-01</td>\n",
       "      <td>Burnley</td>\n",
       "      <td>Tottenham Hotspur</td>\n",
       "      <td>0.301</td>\n",
       "      <td>0.220</td>\n",
       "      <td>0.479</td>\n",
       "      <td>1</td>\n",
       "    </tr>\n",
       "  </tbody>\n",
       "</table>\n",
       "</div>"
      ],
      "text/plain": [
       "         date    team1              team2  HomeWin   Draw  AwayWin  FTR\n",
       "0  2016-10-22  Burnley            Everton    0.451  0.181    0.367    0\n",
       "1  2016-11-05  Burnley     Crystal Palace    0.741  0.126    0.133    0\n",
       "2  2016-11-26  Burnley            ManCity    0.760  0.177    0.063    1\n",
       "3  2016-12-10  Burnley        Bournemouth    0.754  0.103    0.142    0\n",
       "4  2016-12-26  Burnley      Middlesbrough    0.693  0.168    0.139    0\n",
       "5  2016-12-31  Burnley         Sunderland    0.445  0.124    0.431    0\n",
       "6  2017-01-14  Burnley        Southampton    0.701  0.146    0.153    0\n",
       "7  2017-01-31  Burnley     Leicester City    0.442  0.077    0.480    0\n",
       "8  2017-02-12  Burnley            Chelsea    0.573  0.315    0.112    2\n",
       "9  2017-04-01  Burnley  Tottenham Hotspur    0.301  0.220    0.479    1"
      ]
     },
     "execution_count": 174,
     "metadata": {},
     "output_type": "execute_result"
    }
   ],
   "source": [
    "only_probs.head(10)"
   ]
  },
  {
   "cell_type": "code",
   "execution_count": 175,
   "metadata": {
    "ExecuteTime": {
     "end_time": "2019-09-12T20:08:44.166050Z",
     "start_time": "2019-09-12T20:08:44.160458Z"
    },
    "hidden": true
   },
   "outputs": [],
   "source": [
    "only_probs.set_index('date', inplace=True, drop=True)"
   ]
  },
  {
   "cell_type": "code",
   "execution_count": 176,
   "metadata": {
    "ExecuteTime": {
     "end_time": "2019-09-12T20:08:44.356942Z",
     "start_time": "2019-09-12T20:08:44.269360Z"
    },
    "hidden": true
   },
   "outputs": [
    {
     "name": "stderr",
     "output_type": "stream",
     "text": [
      "/anaconda3/lib/python3.7/site-packages/ipykernel_launcher.py:1: SettingWithCopyWarning: \n",
      "A value is trying to be set on a copy of a slice from a DataFrame.\n",
      "Try using .loc[row_indexer,col_indexer] = value instead\n",
      "\n",
      "See the caveats in the documentation: http://pandas.pydata.org/pandas-docs/stable/indexing.html#indexing-view-versus-copy\n",
      "  \"\"\"Entry point for launching an IPython kernel.\n"
     ]
    }
   ],
   "source": [
    "only_probs['key'] = [str(i)+n[:5] for i,n in zip(only_probs.index, only_probs['team1'])]"
   ]
  },
  {
   "cell_type": "code",
   "execution_count": 177,
   "metadata": {
    "ExecuteTime": {
     "end_time": "2019-09-12T20:08:44.400994Z",
     "start_time": "2019-09-12T20:08:44.388848Z"
    },
    "hidden": true
   },
   "outputs": [
    {
     "data": {
      "text/html": [
       "<div>\n",
       "<style scoped>\n",
       "    .dataframe tbody tr th:only-of-type {\n",
       "        vertical-align: middle;\n",
       "    }\n",
       "\n",
       "    .dataframe tbody tr th {\n",
       "        vertical-align: top;\n",
       "    }\n",
       "\n",
       "    .dataframe thead th {\n",
       "        text-align: right;\n",
       "    }\n",
       "</style>\n",
       "<table border=\"1\" class=\"dataframe\">\n",
       "  <thead>\n",
       "    <tr style=\"text-align: right;\">\n",
       "      <th></th>\n",
       "      <th>team1</th>\n",
       "      <th>team2</th>\n",
       "      <th>HomeWin</th>\n",
       "      <th>Draw</th>\n",
       "      <th>AwayWin</th>\n",
       "      <th>FTR</th>\n",
       "      <th>key</th>\n",
       "    </tr>\n",
       "    <tr>\n",
       "      <th>date</th>\n",
       "      <th></th>\n",
       "      <th></th>\n",
       "      <th></th>\n",
       "      <th></th>\n",
       "      <th></th>\n",
       "      <th></th>\n",
       "      <th></th>\n",
       "    </tr>\n",
       "  </thead>\n",
       "  <tbody>\n",
       "    <tr>\n",
       "      <th>2016-10-22</th>\n",
       "      <td>Burnley</td>\n",
       "      <td>Everton</td>\n",
       "      <td>0.451</td>\n",
       "      <td>0.181</td>\n",
       "      <td>0.367</td>\n",
       "      <td>0</td>\n",
       "      <td>2016-10-22Burnl</td>\n",
       "    </tr>\n",
       "    <tr>\n",
       "      <th>2016-11-05</th>\n",
       "      <td>Burnley</td>\n",
       "      <td>Crystal Palace</td>\n",
       "      <td>0.741</td>\n",
       "      <td>0.126</td>\n",
       "      <td>0.133</td>\n",
       "      <td>0</td>\n",
       "      <td>2016-11-05Burnl</td>\n",
       "    </tr>\n",
       "    <tr>\n",
       "      <th>2016-11-26</th>\n",
       "      <td>Burnley</td>\n",
       "      <td>ManCity</td>\n",
       "      <td>0.760</td>\n",
       "      <td>0.177</td>\n",
       "      <td>0.063</td>\n",
       "      <td>1</td>\n",
       "      <td>2016-11-26Burnl</td>\n",
       "    </tr>\n",
       "    <tr>\n",
       "      <th>2016-12-10</th>\n",
       "      <td>Burnley</td>\n",
       "      <td>Bournemouth</td>\n",
       "      <td>0.754</td>\n",
       "      <td>0.103</td>\n",
       "      <td>0.142</td>\n",
       "      <td>0</td>\n",
       "      <td>2016-12-10Burnl</td>\n",
       "    </tr>\n",
       "    <tr>\n",
       "      <th>2016-12-26</th>\n",
       "      <td>Burnley</td>\n",
       "      <td>Middlesbrough</td>\n",
       "      <td>0.693</td>\n",
       "      <td>0.168</td>\n",
       "      <td>0.139</td>\n",
       "      <td>0</td>\n",
       "      <td>2016-12-26Burnl</td>\n",
       "    </tr>\n",
       "  </tbody>\n",
       "</table>\n",
       "</div>"
      ],
      "text/plain": [
       "              team1           team2  HomeWin   Draw  AwayWin  FTR  \\\n",
       "date                                                                \n",
       "2016-10-22  Burnley         Everton    0.451  0.181    0.367    0   \n",
       "2016-11-05  Burnley  Crystal Palace    0.741  0.126    0.133    0   \n",
       "2016-11-26  Burnley         ManCity    0.760  0.177    0.063    1   \n",
       "2016-12-10  Burnley     Bournemouth    0.754  0.103    0.142    0   \n",
       "2016-12-26  Burnley   Middlesbrough    0.693  0.168    0.139    0   \n",
       "\n",
       "                        key  \n",
       "date                         \n",
       "2016-10-22  2016-10-22Burnl  \n",
       "2016-11-05  2016-11-05Burnl  \n",
       "2016-11-26  2016-11-26Burnl  \n",
       "2016-12-10  2016-12-10Burnl  \n",
       "2016-12-26  2016-12-26Burnl  "
      ]
     },
     "execution_count": 177,
     "metadata": {},
     "output_type": "execute_result"
    }
   ],
   "source": [
    "only_probs.head()"
   ]
  },
  {
   "cell_type": "code",
   "execution_count": 178,
   "metadata": {
    "ExecuteTime": {
     "end_time": "2019-09-12T20:08:44.562301Z",
     "start_time": "2019-09-12T20:08:44.542339Z"
    },
    "hidden": true
   },
   "outputs": [
    {
     "data": {
      "text/html": [
       "<div>\n",
       "<style scoped>\n",
       "    .dataframe tbody tr th:only-of-type {\n",
       "        vertical-align: middle;\n",
       "    }\n",
       "\n",
       "    .dataframe tbody tr th {\n",
       "        vertical-align: top;\n",
       "    }\n",
       "\n",
       "    .dataframe thead th {\n",
       "        text-align: right;\n",
       "    }\n",
       "</style>\n",
       "<table border=\"1\" class=\"dataframe\">\n",
       "  <thead>\n",
       "    <tr style=\"text-align: right;\">\n",
       "      <th></th>\n",
       "      <th>HomeTeam</th>\n",
       "      <th>AwayTeam</th>\n",
       "      <th>FTR</th>\n",
       "      <th>B365H</th>\n",
       "      <th>B365D</th>\n",
       "      <th>B365A</th>\n",
       "      <th>BWH</th>\n",
       "      <th>BWD</th>\n",
       "      <th>BWA</th>\n",
       "      <th>IWH</th>\n",
       "      <th>IWD</th>\n",
       "      <th>IWA</th>\n",
       "      <th>PSH</th>\n",
       "      <th>PSD</th>\n",
       "      <th>PSA</th>\n",
       "      <th>WHH</th>\n",
       "      <th>WHD</th>\n",
       "      <th>WHA</th>\n",
       "      <th>VCH</th>\n",
       "      <th>VCD</th>\n",
       "      <th>VCA</th>\n",
       "      <th>PSCH</th>\n",
       "      <th>PSCD</th>\n",
       "      <th>PSCA</th>\n",
       "      <th>key</th>\n",
       "    </tr>\n",
       "    <tr>\n",
       "      <th>date</th>\n",
       "      <th></th>\n",
       "      <th></th>\n",
       "      <th></th>\n",
       "      <th></th>\n",
       "      <th></th>\n",
       "      <th></th>\n",
       "      <th></th>\n",
       "      <th></th>\n",
       "      <th></th>\n",
       "      <th></th>\n",
       "      <th></th>\n",
       "      <th></th>\n",
       "      <th></th>\n",
       "      <th></th>\n",
       "      <th></th>\n",
       "      <th></th>\n",
       "      <th></th>\n",
       "      <th></th>\n",
       "      <th></th>\n",
       "      <th></th>\n",
       "      <th></th>\n",
       "      <th></th>\n",
       "      <th></th>\n",
       "      <th></th>\n",
       "      <th></th>\n",
       "    </tr>\n",
       "  </thead>\n",
       "  <tbody>\n",
       "    <tr>\n",
       "      <th>2016-08-13</th>\n",
       "      <td>Burnley</td>\n",
       "      <td>Swansea</td>\n",
       "      <td>1</td>\n",
       "      <td>0.416667</td>\n",
       "      <td>0.303030</td>\n",
       "      <td>0.307692</td>\n",
       "      <td>0.408163</td>\n",
       "      <td>0.322581</td>\n",
       "      <td>0.338983</td>\n",
       "      <td>0.400000</td>\n",
       "      <td>0.303030</td>\n",
       "      <td>0.377358</td>\n",
       "      <td>0.404858</td>\n",
       "      <td>0.301205</td>\n",
       "      <td>0.313480</td>\n",
       "      <td>0.400000</td>\n",
       "      <td>0.312500</td>\n",
       "      <td>0.344828</td>\n",
       "      <td>0.400000</td>\n",
       "      <td>0.312500</td>\n",
       "      <td>0.307692</td>\n",
       "      <td>0.358423</td>\n",
       "      <td>0.316456</td>\n",
       "      <td>0.346021</td>\n",
       "      <td>2016-08-13Burnl</td>\n",
       "    </tr>\n",
       "    <tr>\n",
       "      <th>2016-08-13</th>\n",
       "      <td>Crystal Palace</td>\n",
       "      <td>West Brom</td>\n",
       "      <td>1</td>\n",
       "      <td>0.500000</td>\n",
       "      <td>0.303030</td>\n",
       "      <td>0.222222</td>\n",
       "      <td>0.500000</td>\n",
       "      <td>0.312500</td>\n",
       "      <td>0.256410</td>\n",
       "      <td>0.476190</td>\n",
       "      <td>0.303030</td>\n",
       "      <td>0.303030</td>\n",
       "      <td>0.485437</td>\n",
       "      <td>0.303951</td>\n",
       "      <td>0.231481</td>\n",
       "      <td>0.487805</td>\n",
       "      <td>0.322581</td>\n",
       "      <td>0.250000</td>\n",
       "      <td>0.500000</td>\n",
       "      <td>0.303030</td>\n",
       "      <td>0.227273</td>\n",
       "      <td>0.444444</td>\n",
       "      <td>0.317460</td>\n",
       "      <td>0.259067</td>\n",
       "      <td>2016-08-13Cryst</td>\n",
       "    </tr>\n",
       "    <tr>\n",
       "      <th>2016-08-13</th>\n",
       "      <td>Everton</td>\n",
       "      <td>Tottenham</td>\n",
       "      <td>2</td>\n",
       "      <td>0.312500</td>\n",
       "      <td>0.294118</td>\n",
       "      <td>0.416667</td>\n",
       "      <td>0.338983</td>\n",
       "      <td>0.312500</td>\n",
       "      <td>0.416667</td>\n",
       "      <td>0.377358</td>\n",
       "      <td>0.303030</td>\n",
       "      <td>0.400000</td>\n",
       "      <td>0.307692</td>\n",
       "      <td>0.291545</td>\n",
       "      <td>0.421941</td>\n",
       "      <td>0.322581</td>\n",
       "      <td>0.322581</td>\n",
       "      <td>0.416667</td>\n",
       "      <td>0.307692</td>\n",
       "      <td>0.294118</td>\n",
       "      <td>0.420168</td>\n",
       "      <td>0.274725</td>\n",
       "      <td>0.282486</td>\n",
       "      <td>0.462963</td>\n",
       "      <td>2016-08-13Evert</td>\n",
       "    </tr>\n",
       "    <tr>\n",
       "      <th>2016-08-13</th>\n",
       "      <td>HullCity</td>\n",
       "      <td>Leicester</td>\n",
       "      <td>0</td>\n",
       "      <td>0.222222</td>\n",
       "      <td>0.277778</td>\n",
       "      <td>0.523560</td>\n",
       "      <td>0.230947</td>\n",
       "      <td>0.294118</td>\n",
       "      <td>0.526316</td>\n",
       "      <td>0.303030</td>\n",
       "      <td>0.303030</td>\n",
       "      <td>0.476190</td>\n",
       "      <td>0.225734</td>\n",
       "      <td>0.281690</td>\n",
       "      <td>0.512821</td>\n",
       "      <td>0.238095</td>\n",
       "      <td>0.307692</td>\n",
       "      <td>0.512821</td>\n",
       "      <td>0.227273</td>\n",
       "      <td>0.285714</td>\n",
       "      <td>0.512821</td>\n",
       "      <td>0.213675</td>\n",
       "      <td>0.285714</td>\n",
       "      <td>0.520833</td>\n",
       "      <td>2016-08-13HullC</td>\n",
       "    </tr>\n",
       "    <tr>\n",
       "      <th>2016-08-13</th>\n",
       "      <td>ManCity</td>\n",
       "      <td>Sunderland</td>\n",
       "      <td>0</td>\n",
       "      <td>0.800000</td>\n",
       "      <td>0.153846</td>\n",
       "      <td>0.066667</td>\n",
       "      <td>0.819672</td>\n",
       "      <td>0.166667</td>\n",
       "      <td>0.086957</td>\n",
       "      <td>0.800000</td>\n",
       "      <td>0.181818</td>\n",
       "      <td>0.097087</td>\n",
       "      <td>0.787402</td>\n",
       "      <td>0.154321</td>\n",
       "      <td>0.076046</td>\n",
       "      <td>0.800000</td>\n",
       "      <td>0.181818</td>\n",
       "      <td>0.076923</td>\n",
       "      <td>0.800000</td>\n",
       "      <td>0.153846</td>\n",
       "      <td>0.066667</td>\n",
       "      <td>0.800000</td>\n",
       "      <td>0.153846</td>\n",
       "      <td>0.068966</td>\n",
       "      <td>2016-08-13ManCi</td>\n",
       "    </tr>\n",
       "  </tbody>\n",
       "</table>\n",
       "</div>"
      ],
      "text/plain": [
       "                  HomeTeam    AwayTeam  FTR     B365H     B365D     B365A  \\\n",
       "date                                                                        \n",
       "2016-08-13         Burnley     Swansea    1  0.416667  0.303030  0.307692   \n",
       "2016-08-13  Crystal Palace   West Brom    1  0.500000  0.303030  0.222222   \n",
       "2016-08-13         Everton   Tottenham    2  0.312500  0.294118  0.416667   \n",
       "2016-08-13        HullCity   Leicester    0  0.222222  0.277778  0.523560   \n",
       "2016-08-13         ManCity  Sunderland    0  0.800000  0.153846  0.066667   \n",
       "\n",
       "                 BWH       BWD       BWA       IWH       IWD       IWA  \\\n",
       "date                                                                     \n",
       "2016-08-13  0.408163  0.322581  0.338983  0.400000  0.303030  0.377358   \n",
       "2016-08-13  0.500000  0.312500  0.256410  0.476190  0.303030  0.303030   \n",
       "2016-08-13  0.338983  0.312500  0.416667  0.377358  0.303030  0.400000   \n",
       "2016-08-13  0.230947  0.294118  0.526316  0.303030  0.303030  0.476190   \n",
       "2016-08-13  0.819672  0.166667  0.086957  0.800000  0.181818  0.097087   \n",
       "\n",
       "                 PSH       PSD       PSA       WHH       WHD       WHA  \\\n",
       "date                                                                     \n",
       "2016-08-13  0.404858  0.301205  0.313480  0.400000  0.312500  0.344828   \n",
       "2016-08-13  0.485437  0.303951  0.231481  0.487805  0.322581  0.250000   \n",
       "2016-08-13  0.307692  0.291545  0.421941  0.322581  0.322581  0.416667   \n",
       "2016-08-13  0.225734  0.281690  0.512821  0.238095  0.307692  0.512821   \n",
       "2016-08-13  0.787402  0.154321  0.076046  0.800000  0.181818  0.076923   \n",
       "\n",
       "                 VCH       VCD       VCA      PSCH      PSCD      PSCA  \\\n",
       "date                                                                     \n",
       "2016-08-13  0.400000  0.312500  0.307692  0.358423  0.316456  0.346021   \n",
       "2016-08-13  0.500000  0.303030  0.227273  0.444444  0.317460  0.259067   \n",
       "2016-08-13  0.307692  0.294118  0.420168  0.274725  0.282486  0.462963   \n",
       "2016-08-13  0.227273  0.285714  0.512821  0.213675  0.285714  0.520833   \n",
       "2016-08-13  0.800000  0.153846  0.066667  0.800000  0.153846  0.068966   \n",
       "\n",
       "                        key  \n",
       "date                         \n",
       "2016-08-13  2016-08-13Burnl  \n",
       "2016-08-13  2016-08-13Cryst  \n",
       "2016-08-13  2016-08-13Evert  \n",
       "2016-08-13  2016-08-13HullC  \n",
       "2016-08-13  2016-08-13ManCi  "
      ]
     },
     "execution_count": 178,
     "metadata": {},
     "output_type": "execute_result"
    }
   ],
   "source": [
    "only_odds.head()"
   ]
  },
  {
   "cell_type": "code",
   "execution_count": 179,
   "metadata": {
    "ExecuteTime": {
     "end_time": "2019-09-12T20:08:44.761263Z",
     "start_time": "2019-09-12T20:08:44.746716Z"
    },
    "hidden": true
   },
   "outputs": [],
   "source": [
    "only_odds.sort_values('key', inplace=True)"
   ]
  },
  {
   "cell_type": "code",
   "execution_count": 180,
   "metadata": {
    "ExecuteTime": {
     "end_time": "2019-09-12T20:08:44.936158Z",
     "start_time": "2019-09-12T20:08:44.855392Z"
    },
    "hidden": true
   },
   "outputs": [
    {
     "name": "stderr",
     "output_type": "stream",
     "text": [
      "/anaconda3/lib/python3.7/site-packages/ipykernel_launcher.py:1: SettingWithCopyWarning: \n",
      "A value is trying to be set on a copy of a slice from a DataFrame\n",
      "\n",
      "See the caveats in the documentation: http://pandas.pydata.org/pandas-docs/stable/indexing.html#indexing-view-versus-copy\n",
      "  \"\"\"Entry point for launching an IPython kernel.\n"
     ]
    }
   ],
   "source": [
    "only_probs.sort_values('key', inplace=True)"
   ]
  },
  {
   "cell_type": "code",
   "execution_count": 181,
   "metadata": {
    "ExecuteTime": {
     "end_time": "2019-09-12T20:08:45.098331Z",
     "start_time": "2019-09-12T20:08:45.063431Z"
    },
    "hidden": true
   },
   "outputs": [
    {
     "data": {
      "text/html": [
       "<div>\n",
       "<style scoped>\n",
       "    .dataframe tbody tr th:only-of-type {\n",
       "        vertical-align: middle;\n",
       "    }\n",
       "\n",
       "    .dataframe tbody tr th {\n",
       "        vertical-align: top;\n",
       "    }\n",
       "\n",
       "    .dataframe thead th {\n",
       "        text-align: right;\n",
       "    }\n",
       "</style>\n",
       "<table border=\"1\" class=\"dataframe\">\n",
       "  <thead>\n",
       "    <tr style=\"text-align: right;\">\n",
       "      <th></th>\n",
       "      <th>HomeTeam</th>\n",
       "      <th>AwayTeam</th>\n",
       "      <th>FTR</th>\n",
       "      <th>B365H</th>\n",
       "      <th>B365D</th>\n",
       "      <th>B365A</th>\n",
       "      <th>BWH</th>\n",
       "      <th>BWD</th>\n",
       "      <th>BWA</th>\n",
       "      <th>IWH</th>\n",
       "      <th>IWD</th>\n",
       "      <th>IWA</th>\n",
       "      <th>PSH</th>\n",
       "      <th>PSD</th>\n",
       "      <th>PSA</th>\n",
       "      <th>WHH</th>\n",
       "      <th>WHD</th>\n",
       "      <th>WHA</th>\n",
       "      <th>VCH</th>\n",
       "      <th>VCD</th>\n",
       "      <th>VCA</th>\n",
       "      <th>PSCH</th>\n",
       "      <th>PSCD</th>\n",
       "      <th>PSCA</th>\n",
       "      <th>key</th>\n",
       "    </tr>\n",
       "    <tr>\n",
       "      <th>date</th>\n",
       "      <th></th>\n",
       "      <th></th>\n",
       "      <th></th>\n",
       "      <th></th>\n",
       "      <th></th>\n",
       "      <th></th>\n",
       "      <th></th>\n",
       "      <th></th>\n",
       "      <th></th>\n",
       "      <th></th>\n",
       "      <th></th>\n",
       "      <th></th>\n",
       "      <th></th>\n",
       "      <th></th>\n",
       "      <th></th>\n",
       "      <th></th>\n",
       "      <th></th>\n",
       "      <th></th>\n",
       "      <th></th>\n",
       "      <th></th>\n",
       "      <th></th>\n",
       "      <th></th>\n",
       "      <th></th>\n",
       "      <th></th>\n",
       "      <th></th>\n",
       "    </tr>\n",
       "  </thead>\n",
       "  <tbody>\n",
       "    <tr>\n",
       "      <th>2016-08-13</th>\n",
       "      <td>Burnley</td>\n",
       "      <td>Swansea</td>\n",
       "      <td>1</td>\n",
       "      <td>0.416667</td>\n",
       "      <td>0.303030</td>\n",
       "      <td>0.307692</td>\n",
       "      <td>0.408163</td>\n",
       "      <td>0.322581</td>\n",
       "      <td>0.338983</td>\n",
       "      <td>0.400000</td>\n",
       "      <td>0.303030</td>\n",
       "      <td>0.377358</td>\n",
       "      <td>0.404858</td>\n",
       "      <td>0.301205</td>\n",
       "      <td>0.313480</td>\n",
       "      <td>0.400000</td>\n",
       "      <td>0.312500</td>\n",
       "      <td>0.344828</td>\n",
       "      <td>0.400000</td>\n",
       "      <td>0.312500</td>\n",
       "      <td>0.307692</td>\n",
       "      <td>0.358423</td>\n",
       "      <td>0.316456</td>\n",
       "      <td>0.346021</td>\n",
       "      <td>2016-08-13Burnl</td>\n",
       "    </tr>\n",
       "    <tr>\n",
       "      <th>2016-08-13</th>\n",
       "      <td>Crystal Palace</td>\n",
       "      <td>West Brom</td>\n",
       "      <td>1</td>\n",
       "      <td>0.500000</td>\n",
       "      <td>0.303030</td>\n",
       "      <td>0.222222</td>\n",
       "      <td>0.500000</td>\n",
       "      <td>0.312500</td>\n",
       "      <td>0.256410</td>\n",
       "      <td>0.476190</td>\n",
       "      <td>0.303030</td>\n",
       "      <td>0.303030</td>\n",
       "      <td>0.485437</td>\n",
       "      <td>0.303951</td>\n",
       "      <td>0.231481</td>\n",
       "      <td>0.487805</td>\n",
       "      <td>0.322581</td>\n",
       "      <td>0.250000</td>\n",
       "      <td>0.500000</td>\n",
       "      <td>0.303030</td>\n",
       "      <td>0.227273</td>\n",
       "      <td>0.444444</td>\n",
       "      <td>0.317460</td>\n",
       "      <td>0.259067</td>\n",
       "      <td>2016-08-13Cryst</td>\n",
       "    </tr>\n",
       "    <tr>\n",
       "      <th>2016-08-13</th>\n",
       "      <td>Everton</td>\n",
       "      <td>Tottenham</td>\n",
       "      <td>2</td>\n",
       "      <td>0.312500</td>\n",
       "      <td>0.294118</td>\n",
       "      <td>0.416667</td>\n",
       "      <td>0.338983</td>\n",
       "      <td>0.312500</td>\n",
       "      <td>0.416667</td>\n",
       "      <td>0.377358</td>\n",
       "      <td>0.303030</td>\n",
       "      <td>0.400000</td>\n",
       "      <td>0.307692</td>\n",
       "      <td>0.291545</td>\n",
       "      <td>0.421941</td>\n",
       "      <td>0.322581</td>\n",
       "      <td>0.322581</td>\n",
       "      <td>0.416667</td>\n",
       "      <td>0.307692</td>\n",
       "      <td>0.294118</td>\n",
       "      <td>0.420168</td>\n",
       "      <td>0.274725</td>\n",
       "      <td>0.282486</td>\n",
       "      <td>0.462963</td>\n",
       "      <td>2016-08-13Evert</td>\n",
       "    </tr>\n",
       "    <tr>\n",
       "      <th>2016-08-13</th>\n",
       "      <td>HullCity</td>\n",
       "      <td>Leicester</td>\n",
       "      <td>0</td>\n",
       "      <td>0.222222</td>\n",
       "      <td>0.277778</td>\n",
       "      <td>0.523560</td>\n",
       "      <td>0.230947</td>\n",
       "      <td>0.294118</td>\n",
       "      <td>0.526316</td>\n",
       "      <td>0.303030</td>\n",
       "      <td>0.303030</td>\n",
       "      <td>0.476190</td>\n",
       "      <td>0.225734</td>\n",
       "      <td>0.281690</td>\n",
       "      <td>0.512821</td>\n",
       "      <td>0.238095</td>\n",
       "      <td>0.307692</td>\n",
       "      <td>0.512821</td>\n",
       "      <td>0.227273</td>\n",
       "      <td>0.285714</td>\n",
       "      <td>0.512821</td>\n",
       "      <td>0.213675</td>\n",
       "      <td>0.285714</td>\n",
       "      <td>0.520833</td>\n",
       "      <td>2016-08-13HullC</td>\n",
       "    </tr>\n",
       "    <tr>\n",
       "      <th>2016-08-13</th>\n",
       "      <td>ManCity</td>\n",
       "      <td>Sunderland</td>\n",
       "      <td>0</td>\n",
       "      <td>0.800000</td>\n",
       "      <td>0.153846</td>\n",
       "      <td>0.066667</td>\n",
       "      <td>0.819672</td>\n",
       "      <td>0.166667</td>\n",
       "      <td>0.086957</td>\n",
       "      <td>0.800000</td>\n",
       "      <td>0.181818</td>\n",
       "      <td>0.097087</td>\n",
       "      <td>0.787402</td>\n",
       "      <td>0.154321</td>\n",
       "      <td>0.076046</td>\n",
       "      <td>0.800000</td>\n",
       "      <td>0.181818</td>\n",
       "      <td>0.076923</td>\n",
       "      <td>0.800000</td>\n",
       "      <td>0.153846</td>\n",
       "      <td>0.066667</td>\n",
       "      <td>0.800000</td>\n",
       "      <td>0.153846</td>\n",
       "      <td>0.068966</td>\n",
       "      <td>2016-08-13ManCi</td>\n",
       "    </tr>\n",
       "  </tbody>\n",
       "</table>\n",
       "</div>"
      ],
      "text/plain": [
       "                  HomeTeam    AwayTeam  FTR     B365H     B365D     B365A  \\\n",
       "date                                                                        \n",
       "2016-08-13         Burnley     Swansea    1  0.416667  0.303030  0.307692   \n",
       "2016-08-13  Crystal Palace   West Brom    1  0.500000  0.303030  0.222222   \n",
       "2016-08-13         Everton   Tottenham    2  0.312500  0.294118  0.416667   \n",
       "2016-08-13        HullCity   Leicester    0  0.222222  0.277778  0.523560   \n",
       "2016-08-13         ManCity  Sunderland    0  0.800000  0.153846  0.066667   \n",
       "\n",
       "                 BWH       BWD       BWA       IWH       IWD       IWA  \\\n",
       "date                                                                     \n",
       "2016-08-13  0.408163  0.322581  0.338983  0.400000  0.303030  0.377358   \n",
       "2016-08-13  0.500000  0.312500  0.256410  0.476190  0.303030  0.303030   \n",
       "2016-08-13  0.338983  0.312500  0.416667  0.377358  0.303030  0.400000   \n",
       "2016-08-13  0.230947  0.294118  0.526316  0.303030  0.303030  0.476190   \n",
       "2016-08-13  0.819672  0.166667  0.086957  0.800000  0.181818  0.097087   \n",
       "\n",
       "                 PSH       PSD       PSA       WHH       WHD       WHA  \\\n",
       "date                                                                     \n",
       "2016-08-13  0.404858  0.301205  0.313480  0.400000  0.312500  0.344828   \n",
       "2016-08-13  0.485437  0.303951  0.231481  0.487805  0.322581  0.250000   \n",
       "2016-08-13  0.307692  0.291545  0.421941  0.322581  0.322581  0.416667   \n",
       "2016-08-13  0.225734  0.281690  0.512821  0.238095  0.307692  0.512821   \n",
       "2016-08-13  0.787402  0.154321  0.076046  0.800000  0.181818  0.076923   \n",
       "\n",
       "                 VCH       VCD       VCA      PSCH      PSCD      PSCA  \\\n",
       "date                                                                     \n",
       "2016-08-13  0.400000  0.312500  0.307692  0.358423  0.316456  0.346021   \n",
       "2016-08-13  0.500000  0.303030  0.227273  0.444444  0.317460  0.259067   \n",
       "2016-08-13  0.307692  0.294118  0.420168  0.274725  0.282486  0.462963   \n",
       "2016-08-13  0.227273  0.285714  0.512821  0.213675  0.285714  0.520833   \n",
       "2016-08-13  0.800000  0.153846  0.066667  0.800000  0.153846  0.068966   \n",
       "\n",
       "                        key  \n",
       "date                         \n",
       "2016-08-13  2016-08-13Burnl  \n",
       "2016-08-13  2016-08-13Cryst  \n",
       "2016-08-13  2016-08-13Evert  \n",
       "2016-08-13  2016-08-13HullC  \n",
       "2016-08-13  2016-08-13ManCi  "
      ]
     },
     "execution_count": 181,
     "metadata": {},
     "output_type": "execute_result"
    }
   ],
   "source": [
    "only_odds.head()"
   ]
  },
  {
   "cell_type": "code",
   "execution_count": 182,
   "metadata": {
    "ExecuteTime": {
     "end_time": "2019-09-12T20:08:45.209099Z",
     "start_time": "2019-09-12T20:08:45.197356Z"
    },
    "hidden": true
   },
   "outputs": [
    {
     "data": {
      "text/html": [
       "<div>\n",
       "<style scoped>\n",
       "    .dataframe tbody tr th:only-of-type {\n",
       "        vertical-align: middle;\n",
       "    }\n",
       "\n",
       "    .dataframe tbody tr th {\n",
       "        vertical-align: top;\n",
       "    }\n",
       "\n",
       "    .dataframe thead th {\n",
       "        text-align: right;\n",
       "    }\n",
       "</style>\n",
       "<table border=\"1\" class=\"dataframe\">\n",
       "  <thead>\n",
       "    <tr style=\"text-align: right;\">\n",
       "      <th></th>\n",
       "      <th>team1</th>\n",
       "      <th>team2</th>\n",
       "      <th>HomeWin</th>\n",
       "      <th>Draw</th>\n",
       "      <th>AwayWin</th>\n",
       "      <th>FTR</th>\n",
       "      <th>key</th>\n",
       "    </tr>\n",
       "    <tr>\n",
       "      <th>date</th>\n",
       "      <th></th>\n",
       "      <th></th>\n",
       "      <th></th>\n",
       "      <th></th>\n",
       "      <th></th>\n",
       "      <th></th>\n",
       "      <th></th>\n",
       "    </tr>\n",
       "  </thead>\n",
       "  <tbody>\n",
       "    <tr>\n",
       "      <th>2016-10-22</th>\n",
       "      <td>Burnley</td>\n",
       "      <td>Everton</td>\n",
       "      <td>0.451</td>\n",
       "      <td>0.181</td>\n",
       "      <td>0.367</td>\n",
       "      <td>0</td>\n",
       "      <td>2016-10-22Burnl</td>\n",
       "    </tr>\n",
       "    <tr>\n",
       "      <th>2016-11-05</th>\n",
       "      <td>Bournemouth</td>\n",
       "      <td>Sunderland</td>\n",
       "      <td>0.219</td>\n",
       "      <td>0.204</td>\n",
       "      <td>0.576</td>\n",
       "      <td>1</td>\n",
       "      <td>2016-11-05Bourn</td>\n",
       "    </tr>\n",
       "    <tr>\n",
       "      <th>2016-11-05</th>\n",
       "      <td>Burnley</td>\n",
       "      <td>Crystal Palace</td>\n",
       "      <td>0.741</td>\n",
       "      <td>0.126</td>\n",
       "      <td>0.133</td>\n",
       "      <td>0</td>\n",
       "      <td>2016-11-05Burnl</td>\n",
       "    </tr>\n",
       "    <tr>\n",
       "      <th>2016-11-05</th>\n",
       "      <td>Chelsea</td>\n",
       "      <td>Everton</td>\n",
       "      <td>0.416</td>\n",
       "      <td>0.154</td>\n",
       "      <td>0.430</td>\n",
       "      <td>0</td>\n",
       "      <td>2016-11-05Chels</td>\n",
       "    </tr>\n",
       "    <tr>\n",
       "      <th>2016-11-05</th>\n",
       "      <td>ManCity</td>\n",
       "      <td>Middlesbrough</td>\n",
       "      <td>0.730</td>\n",
       "      <td>0.162</td>\n",
       "      <td>0.108</td>\n",
       "      <td>2</td>\n",
       "      <td>2016-11-05ManCi</td>\n",
       "    </tr>\n",
       "  </tbody>\n",
       "</table>\n",
       "</div>"
      ],
      "text/plain": [
       "                  team1           team2  HomeWin   Draw  AwayWin  FTR  \\\n",
       "date                                                                    \n",
       "2016-10-22      Burnley         Everton    0.451  0.181    0.367    0   \n",
       "2016-11-05  Bournemouth      Sunderland    0.219  0.204    0.576    1   \n",
       "2016-11-05      Burnley  Crystal Palace    0.741  0.126    0.133    0   \n",
       "2016-11-05      Chelsea         Everton    0.416  0.154    0.430    0   \n",
       "2016-11-05      ManCity   Middlesbrough    0.730  0.162    0.108    2   \n",
       "\n",
       "                        key  \n",
       "date                         \n",
       "2016-10-22  2016-10-22Burnl  \n",
       "2016-11-05  2016-11-05Bourn  \n",
       "2016-11-05  2016-11-05Burnl  \n",
       "2016-11-05  2016-11-05Chels  \n",
       "2016-11-05  2016-11-05ManCi  "
      ]
     },
     "execution_count": 182,
     "metadata": {},
     "output_type": "execute_result"
    }
   ],
   "source": [
    "only_probs.head()"
   ]
  },
  {
   "cell_type": "code",
   "execution_count": 183,
   "metadata": {
    "ExecuteTime": {
     "end_time": "2019-09-12T20:08:45.329540Z",
     "start_time": "2019-09-12T20:08:45.318698Z"
    },
    "hidden": true
   },
   "outputs": [
    {
     "data": {
      "text/plain": [
       "((1140, 25), (1010, 7))"
      ]
     },
     "execution_count": 183,
     "metadata": {},
     "output_type": "execute_result"
    }
   ],
   "source": [
    "only_odds.shape, only_probs.shape"
   ]
  },
  {
   "cell_type": "code",
   "execution_count": 184,
   "metadata": {
    "ExecuteTime": {
     "end_time": "2019-09-12T20:08:45.451548Z",
     "start_time": "2019-09-12T20:08:45.443541Z"
    },
    "hidden": true
   },
   "outputs": [],
   "source": [
    "odds_probs = pd.merge(left=only_probs, right=only_odds, left_on='key', right_on='key', how='left')"
   ]
  },
  {
   "cell_type": "code",
   "execution_count": 185,
   "metadata": {
    "ExecuteTime": {
     "end_time": "2019-09-12T20:08:45.616336Z",
     "start_time": "2019-09-12T20:08:45.591859Z"
    },
    "hidden": true
   },
   "outputs": [
    {
     "data": {
      "text/html": [
       "<div>\n",
       "<style scoped>\n",
       "    .dataframe tbody tr th:only-of-type {\n",
       "        vertical-align: middle;\n",
       "    }\n",
       "\n",
       "    .dataframe tbody tr th {\n",
       "        vertical-align: top;\n",
       "    }\n",
       "\n",
       "    .dataframe thead th {\n",
       "        text-align: right;\n",
       "    }\n",
       "</style>\n",
       "<table border=\"1\" class=\"dataframe\">\n",
       "  <thead>\n",
       "    <tr style=\"text-align: right;\">\n",
       "      <th></th>\n",
       "      <th>team1</th>\n",
       "      <th>team2</th>\n",
       "      <th>HomeWin</th>\n",
       "      <th>Draw</th>\n",
       "      <th>AwayWin</th>\n",
       "      <th>FTR_x</th>\n",
       "      <th>key</th>\n",
       "      <th>HomeTeam</th>\n",
       "      <th>AwayTeam</th>\n",
       "      <th>FTR_y</th>\n",
       "      <th>B365H</th>\n",
       "      <th>B365D</th>\n",
       "      <th>B365A</th>\n",
       "      <th>BWH</th>\n",
       "      <th>BWD</th>\n",
       "      <th>BWA</th>\n",
       "      <th>IWH</th>\n",
       "      <th>IWD</th>\n",
       "      <th>IWA</th>\n",
       "      <th>PSH</th>\n",
       "      <th>PSD</th>\n",
       "      <th>PSA</th>\n",
       "      <th>WHH</th>\n",
       "      <th>WHD</th>\n",
       "      <th>WHA</th>\n",
       "      <th>VCH</th>\n",
       "      <th>VCD</th>\n",
       "      <th>VCA</th>\n",
       "      <th>PSCH</th>\n",
       "      <th>PSCD</th>\n",
       "      <th>PSCA</th>\n",
       "    </tr>\n",
       "  </thead>\n",
       "  <tbody>\n",
       "    <tr>\n",
       "      <th>0</th>\n",
       "      <td>Burnley</td>\n",
       "      <td>Everton</td>\n",
       "      <td>0.451</td>\n",
       "      <td>0.181</td>\n",
       "      <td>0.367</td>\n",
       "      <td>0</td>\n",
       "      <td>2016-10-22Burnl</td>\n",
       "      <td>Burnley</td>\n",
       "      <td>Everton</td>\n",
       "      <td>0</td>\n",
       "      <td>0.166667</td>\n",
       "      <td>0.263158</td>\n",
       "      <td>0.598802</td>\n",
       "      <td>0.166667</td>\n",
       "      <td>0.263158</td>\n",
       "      <td>0.617284</td>\n",
       "      <td>0.208333</td>\n",
       "      <td>0.277778</td>\n",
       "      <td>0.571429</td>\n",
       "      <td>0.165289</td>\n",
       "      <td>0.258398</td>\n",
       "      <td>0.595238</td>\n",
       "      <td>0.166667</td>\n",
       "      <td>0.277778</td>\n",
       "      <td>0.598802</td>\n",
       "      <td>0.160000</td>\n",
       "      <td>0.263158</td>\n",
       "      <td>0.598802</td>\n",
       "      <td>0.169492</td>\n",
       "      <td>0.268097</td>\n",
       "      <td>0.584795</td>\n",
       "    </tr>\n",
       "    <tr>\n",
       "      <th>1</th>\n",
       "      <td>Bournemouth</td>\n",
       "      <td>Sunderland</td>\n",
       "      <td>0.219</td>\n",
       "      <td>0.204</td>\n",
       "      <td>0.576</td>\n",
       "      <td>1</td>\n",
       "      <td>2016-11-05Bourn</td>\n",
       "      <td>Bournemouth</td>\n",
       "      <td>Sunderland</td>\n",
       "      <td>1</td>\n",
       "      <td>0.606061</td>\n",
       "      <td>0.238095</td>\n",
       "      <td>0.181818</td>\n",
       "      <td>0.617284</td>\n",
       "      <td>0.256410</td>\n",
       "      <td>0.173913</td>\n",
       "      <td>0.606061</td>\n",
       "      <td>0.263158</td>\n",
       "      <td>0.188679</td>\n",
       "      <td>0.613497</td>\n",
       "      <td>0.234192</td>\n",
       "      <td>0.173010</td>\n",
       "      <td>0.598802</td>\n",
       "      <td>0.277778</td>\n",
       "      <td>0.166667</td>\n",
       "      <td>0.606061</td>\n",
       "      <td>0.250000</td>\n",
       "      <td>0.173913</td>\n",
       "      <td>0.613497</td>\n",
       "      <td>0.227273</td>\n",
       "      <td>0.178253</td>\n",
       "    </tr>\n",
       "    <tr>\n",
       "      <th>2</th>\n",
       "      <td>Burnley</td>\n",
       "      <td>Crystal Palace</td>\n",
       "      <td>0.741</td>\n",
       "      <td>0.126</td>\n",
       "      <td>0.133</td>\n",
       "      <td>0</td>\n",
       "      <td>2016-11-05Burnl</td>\n",
       "      <td>Burnley</td>\n",
       "      <td>Crystal Palace</td>\n",
       "      <td>0</td>\n",
       "      <td>0.303030</td>\n",
       "      <td>0.303030</td>\n",
       "      <td>0.420168</td>\n",
       "      <td>0.312500</td>\n",
       "      <td>0.307692</td>\n",
       "      <td>0.425532</td>\n",
       "      <td>0.338983</td>\n",
       "      <td>0.303030</td>\n",
       "      <td>0.416667</td>\n",
       "      <td>0.292398</td>\n",
       "      <td>0.296736</td>\n",
       "      <td>0.431034</td>\n",
       "      <td>0.303030</td>\n",
       "      <td>0.322581</td>\n",
       "      <td>0.416667</td>\n",
       "      <td>0.285714</td>\n",
       "      <td>0.303030</td>\n",
       "      <td>0.434783</td>\n",
       "      <td>0.277778</td>\n",
       "      <td>0.305810</td>\n",
       "      <td>0.436681</td>\n",
       "    </tr>\n",
       "    <tr>\n",
       "      <th>3</th>\n",
       "      <td>Chelsea</td>\n",
       "      <td>Everton</td>\n",
       "      <td>0.416</td>\n",
       "      <td>0.154</td>\n",
       "      <td>0.430</td>\n",
       "      <td>0</td>\n",
       "      <td>2016-11-05Chels</td>\n",
       "      <td>Chelsea</td>\n",
       "      <td>Everton</td>\n",
       "      <td>0</td>\n",
       "      <td>0.653595</td>\n",
       "      <td>0.230947</td>\n",
       "      <td>0.142857</td>\n",
       "      <td>0.653595</td>\n",
       "      <td>0.238095</td>\n",
       "      <td>0.160000</td>\n",
       "      <td>0.645161</td>\n",
       "      <td>0.250000</td>\n",
       "      <td>0.161290</td>\n",
       "      <td>0.636943</td>\n",
       "      <td>0.228833</td>\n",
       "      <td>0.154560</td>\n",
       "      <td>0.636943</td>\n",
       "      <td>0.266667</td>\n",
       "      <td>0.142857</td>\n",
       "      <td>0.636943</td>\n",
       "      <td>0.230947</td>\n",
       "      <td>0.153846</td>\n",
       "      <td>0.666667</td>\n",
       "      <td>0.216920</td>\n",
       "      <td>0.135135</td>\n",
       "    </tr>\n",
       "    <tr>\n",
       "      <th>4</th>\n",
       "      <td>ManCity</td>\n",
       "      <td>Middlesbrough</td>\n",
       "      <td>0.730</td>\n",
       "      <td>0.162</td>\n",
       "      <td>0.108</td>\n",
       "      <td>2</td>\n",
       "      <td>2016-11-05ManCi</td>\n",
       "      <td>ManCity</td>\n",
       "      <td>Middlesbrough</td>\n",
       "      <td>2</td>\n",
       "      <td>0.819672</td>\n",
       "      <td>0.142857</td>\n",
       "      <td>0.066667</td>\n",
       "      <td>0.833333</td>\n",
       "      <td>0.148148</td>\n",
       "      <td>0.068966</td>\n",
       "      <td>0.833333</td>\n",
       "      <td>0.153846</td>\n",
       "      <td>0.066667</td>\n",
       "      <td>0.813008</td>\n",
       "      <td>0.139665</td>\n",
       "      <td>0.070323</td>\n",
       "      <td>0.819672</td>\n",
       "      <td>0.153846</td>\n",
       "      <td>0.076923</td>\n",
       "      <td>0.819672</td>\n",
       "      <td>0.142857</td>\n",
       "      <td>0.066667</td>\n",
       "      <td>0.819672</td>\n",
       "      <td>0.132450</td>\n",
       "      <td>0.067797</td>\n",
       "    </tr>\n",
       "  </tbody>\n",
       "</table>\n",
       "</div>"
      ],
      "text/plain": [
       "         team1           team2  HomeWin   Draw  AwayWin  FTR_x  \\\n",
       "0      Burnley         Everton    0.451  0.181    0.367      0   \n",
       "1  Bournemouth      Sunderland    0.219  0.204    0.576      1   \n",
       "2      Burnley  Crystal Palace    0.741  0.126    0.133      0   \n",
       "3      Chelsea         Everton    0.416  0.154    0.430      0   \n",
       "4      ManCity   Middlesbrough    0.730  0.162    0.108      2   \n",
       "\n",
       "               key     HomeTeam        AwayTeam  FTR_y     B365H     B365D  \\\n",
       "0  2016-10-22Burnl      Burnley         Everton      0  0.166667  0.263158   \n",
       "1  2016-11-05Bourn  Bournemouth      Sunderland      1  0.606061  0.238095   \n",
       "2  2016-11-05Burnl      Burnley  Crystal Palace      0  0.303030  0.303030   \n",
       "3  2016-11-05Chels      Chelsea         Everton      0  0.653595  0.230947   \n",
       "4  2016-11-05ManCi      ManCity   Middlesbrough      2  0.819672  0.142857   \n",
       "\n",
       "      B365A       BWH       BWD       BWA       IWH       IWD       IWA  \\\n",
       "0  0.598802  0.166667  0.263158  0.617284  0.208333  0.277778  0.571429   \n",
       "1  0.181818  0.617284  0.256410  0.173913  0.606061  0.263158  0.188679   \n",
       "2  0.420168  0.312500  0.307692  0.425532  0.338983  0.303030  0.416667   \n",
       "3  0.142857  0.653595  0.238095  0.160000  0.645161  0.250000  0.161290   \n",
       "4  0.066667  0.833333  0.148148  0.068966  0.833333  0.153846  0.066667   \n",
       "\n",
       "        PSH       PSD       PSA       WHH       WHD       WHA       VCH  \\\n",
       "0  0.165289  0.258398  0.595238  0.166667  0.277778  0.598802  0.160000   \n",
       "1  0.613497  0.234192  0.173010  0.598802  0.277778  0.166667  0.606061   \n",
       "2  0.292398  0.296736  0.431034  0.303030  0.322581  0.416667  0.285714   \n",
       "3  0.636943  0.228833  0.154560  0.636943  0.266667  0.142857  0.636943   \n",
       "4  0.813008  0.139665  0.070323  0.819672  0.153846  0.076923  0.819672   \n",
       "\n",
       "        VCD       VCA      PSCH      PSCD      PSCA  \n",
       "0  0.263158  0.598802  0.169492  0.268097  0.584795  \n",
       "1  0.250000  0.173913  0.613497  0.227273  0.178253  \n",
       "2  0.303030  0.434783  0.277778  0.305810  0.436681  \n",
       "3  0.230947  0.153846  0.666667  0.216920  0.135135  \n",
       "4  0.142857  0.066667  0.819672  0.132450  0.067797  "
      ]
     },
     "execution_count": 185,
     "metadata": {},
     "output_type": "execute_result"
    }
   ],
   "source": [
    "odds_probs.head()"
   ]
  },
  {
   "cell_type": "code",
   "execution_count": 186,
   "metadata": {
    "ExecuteTime": {
     "end_time": "2019-09-12T20:08:45.740410Z",
     "start_time": "2019-09-12T20:08:45.734563Z"
    },
    "hidden": true
   },
   "outputs": [
    {
     "data": {
      "text/plain": [
       "Index(['team1', 'team2', 'HomeWin', 'Draw', 'AwayWin', 'FTR_x', 'key',\n",
       "       'HomeTeam', 'AwayTeam', 'FTR_y', 'B365H', 'B365D', 'B365A', 'BWH',\n",
       "       'BWD', 'BWA', 'IWH', 'IWD', 'IWA', 'PSH', 'PSD', 'PSA', 'WHH', 'WHD',\n",
       "       'WHA', 'VCH', 'VCD', 'VCA', 'PSCH', 'PSCD', 'PSCA'],\n",
       "      dtype='object')"
      ]
     },
     "execution_count": 186,
     "metadata": {},
     "output_type": "execute_result"
    }
   ],
   "source": [
    "odds_probs.columns"
   ]
  },
  {
   "cell_type": "code",
   "execution_count": 187,
   "metadata": {
    "ExecuteTime": {
     "end_time": "2019-09-12T20:08:45.869343Z",
     "start_time": "2019-09-12T20:08:45.866337Z"
    },
    "hidden": true
   },
   "outputs": [],
   "source": [
    "odds_probs['FTR'] = odds_probs['FTR_x']"
   ]
  },
  {
   "cell_type": "code",
   "execution_count": 188,
   "metadata": {
    "ExecuteTime": {
     "end_time": "2019-09-12T20:08:46.075263Z",
     "start_time": "2019-09-12T20:08:46.067629Z"
    },
    "hidden": true
   },
   "outputs": [],
   "source": [
    "odds_probs.drop(columns=['key', 'HomeTeam', 'AwayTeam', 'FTR_y', 'FTR_x'], inplace=True)"
   ]
  },
  {
   "cell_type": "code",
   "execution_count": 189,
   "metadata": {
    "ExecuteTime": {
     "end_time": "2019-09-12T20:08:46.219006Z",
     "start_time": "2019-09-12T20:08:46.191327Z"
    },
    "hidden": true
   },
   "outputs": [
    {
     "data": {
      "text/html": [
       "<div>\n",
       "<style scoped>\n",
       "    .dataframe tbody tr th:only-of-type {\n",
       "        vertical-align: middle;\n",
       "    }\n",
       "\n",
       "    .dataframe tbody tr th {\n",
       "        vertical-align: top;\n",
       "    }\n",
       "\n",
       "    .dataframe thead th {\n",
       "        text-align: right;\n",
       "    }\n",
       "</style>\n",
       "<table border=\"1\" class=\"dataframe\">\n",
       "  <thead>\n",
       "    <tr style=\"text-align: right;\">\n",
       "      <th></th>\n",
       "      <th>team1</th>\n",
       "      <th>team2</th>\n",
       "      <th>HomeWin</th>\n",
       "      <th>Draw</th>\n",
       "      <th>AwayWin</th>\n",
       "      <th>B365H</th>\n",
       "      <th>B365D</th>\n",
       "      <th>B365A</th>\n",
       "      <th>BWH</th>\n",
       "      <th>BWD</th>\n",
       "      <th>BWA</th>\n",
       "      <th>IWH</th>\n",
       "      <th>IWD</th>\n",
       "      <th>IWA</th>\n",
       "      <th>PSH</th>\n",
       "      <th>PSD</th>\n",
       "      <th>PSA</th>\n",
       "      <th>WHH</th>\n",
       "      <th>WHD</th>\n",
       "      <th>WHA</th>\n",
       "      <th>VCH</th>\n",
       "      <th>VCD</th>\n",
       "      <th>VCA</th>\n",
       "      <th>PSCH</th>\n",
       "      <th>PSCD</th>\n",
       "      <th>PSCA</th>\n",
       "      <th>FTR</th>\n",
       "    </tr>\n",
       "  </thead>\n",
       "  <tbody>\n",
       "    <tr>\n",
       "      <th>0</th>\n",
       "      <td>Burnley</td>\n",
       "      <td>Everton</td>\n",
       "      <td>0.451</td>\n",
       "      <td>0.181</td>\n",
       "      <td>0.367</td>\n",
       "      <td>0.166667</td>\n",
       "      <td>0.263158</td>\n",
       "      <td>0.598802</td>\n",
       "      <td>0.166667</td>\n",
       "      <td>0.263158</td>\n",
       "      <td>0.617284</td>\n",
       "      <td>0.208333</td>\n",
       "      <td>0.277778</td>\n",
       "      <td>0.571429</td>\n",
       "      <td>0.165289</td>\n",
       "      <td>0.258398</td>\n",
       "      <td>0.595238</td>\n",
       "      <td>0.166667</td>\n",
       "      <td>0.277778</td>\n",
       "      <td>0.598802</td>\n",
       "      <td>0.160000</td>\n",
       "      <td>0.263158</td>\n",
       "      <td>0.598802</td>\n",
       "      <td>0.169492</td>\n",
       "      <td>0.268097</td>\n",
       "      <td>0.584795</td>\n",
       "      <td>0</td>\n",
       "    </tr>\n",
       "    <tr>\n",
       "      <th>1</th>\n",
       "      <td>Bournemouth</td>\n",
       "      <td>Sunderland</td>\n",
       "      <td>0.219</td>\n",
       "      <td>0.204</td>\n",
       "      <td>0.576</td>\n",
       "      <td>0.606061</td>\n",
       "      <td>0.238095</td>\n",
       "      <td>0.181818</td>\n",
       "      <td>0.617284</td>\n",
       "      <td>0.256410</td>\n",
       "      <td>0.173913</td>\n",
       "      <td>0.606061</td>\n",
       "      <td>0.263158</td>\n",
       "      <td>0.188679</td>\n",
       "      <td>0.613497</td>\n",
       "      <td>0.234192</td>\n",
       "      <td>0.173010</td>\n",
       "      <td>0.598802</td>\n",
       "      <td>0.277778</td>\n",
       "      <td>0.166667</td>\n",
       "      <td>0.606061</td>\n",
       "      <td>0.250000</td>\n",
       "      <td>0.173913</td>\n",
       "      <td>0.613497</td>\n",
       "      <td>0.227273</td>\n",
       "      <td>0.178253</td>\n",
       "      <td>1</td>\n",
       "    </tr>\n",
       "    <tr>\n",
       "      <th>2</th>\n",
       "      <td>Burnley</td>\n",
       "      <td>Crystal Palace</td>\n",
       "      <td>0.741</td>\n",
       "      <td>0.126</td>\n",
       "      <td>0.133</td>\n",
       "      <td>0.303030</td>\n",
       "      <td>0.303030</td>\n",
       "      <td>0.420168</td>\n",
       "      <td>0.312500</td>\n",
       "      <td>0.307692</td>\n",
       "      <td>0.425532</td>\n",
       "      <td>0.338983</td>\n",
       "      <td>0.303030</td>\n",
       "      <td>0.416667</td>\n",
       "      <td>0.292398</td>\n",
       "      <td>0.296736</td>\n",
       "      <td>0.431034</td>\n",
       "      <td>0.303030</td>\n",
       "      <td>0.322581</td>\n",
       "      <td>0.416667</td>\n",
       "      <td>0.285714</td>\n",
       "      <td>0.303030</td>\n",
       "      <td>0.434783</td>\n",
       "      <td>0.277778</td>\n",
       "      <td>0.305810</td>\n",
       "      <td>0.436681</td>\n",
       "      <td>0</td>\n",
       "    </tr>\n",
       "    <tr>\n",
       "      <th>3</th>\n",
       "      <td>Chelsea</td>\n",
       "      <td>Everton</td>\n",
       "      <td>0.416</td>\n",
       "      <td>0.154</td>\n",
       "      <td>0.430</td>\n",
       "      <td>0.653595</td>\n",
       "      <td>0.230947</td>\n",
       "      <td>0.142857</td>\n",
       "      <td>0.653595</td>\n",
       "      <td>0.238095</td>\n",
       "      <td>0.160000</td>\n",
       "      <td>0.645161</td>\n",
       "      <td>0.250000</td>\n",
       "      <td>0.161290</td>\n",
       "      <td>0.636943</td>\n",
       "      <td>0.228833</td>\n",
       "      <td>0.154560</td>\n",
       "      <td>0.636943</td>\n",
       "      <td>0.266667</td>\n",
       "      <td>0.142857</td>\n",
       "      <td>0.636943</td>\n",
       "      <td>0.230947</td>\n",
       "      <td>0.153846</td>\n",
       "      <td>0.666667</td>\n",
       "      <td>0.216920</td>\n",
       "      <td>0.135135</td>\n",
       "      <td>0</td>\n",
       "    </tr>\n",
       "    <tr>\n",
       "      <th>4</th>\n",
       "      <td>ManCity</td>\n",
       "      <td>Middlesbrough</td>\n",
       "      <td>0.730</td>\n",
       "      <td>0.162</td>\n",
       "      <td>0.108</td>\n",
       "      <td>0.819672</td>\n",
       "      <td>0.142857</td>\n",
       "      <td>0.066667</td>\n",
       "      <td>0.833333</td>\n",
       "      <td>0.148148</td>\n",
       "      <td>0.068966</td>\n",
       "      <td>0.833333</td>\n",
       "      <td>0.153846</td>\n",
       "      <td>0.066667</td>\n",
       "      <td>0.813008</td>\n",
       "      <td>0.139665</td>\n",
       "      <td>0.070323</td>\n",
       "      <td>0.819672</td>\n",
       "      <td>0.153846</td>\n",
       "      <td>0.076923</td>\n",
       "      <td>0.819672</td>\n",
       "      <td>0.142857</td>\n",
       "      <td>0.066667</td>\n",
       "      <td>0.819672</td>\n",
       "      <td>0.132450</td>\n",
       "      <td>0.067797</td>\n",
       "      <td>2</td>\n",
       "    </tr>\n",
       "  </tbody>\n",
       "</table>\n",
       "</div>"
      ],
      "text/plain": [
       "         team1           team2  HomeWin   Draw  AwayWin     B365H     B365D  \\\n",
       "0      Burnley         Everton    0.451  0.181    0.367  0.166667  0.263158   \n",
       "1  Bournemouth      Sunderland    0.219  0.204    0.576  0.606061  0.238095   \n",
       "2      Burnley  Crystal Palace    0.741  0.126    0.133  0.303030  0.303030   \n",
       "3      Chelsea         Everton    0.416  0.154    0.430  0.653595  0.230947   \n",
       "4      ManCity   Middlesbrough    0.730  0.162    0.108  0.819672  0.142857   \n",
       "\n",
       "      B365A       BWH       BWD       BWA       IWH       IWD       IWA  \\\n",
       "0  0.598802  0.166667  0.263158  0.617284  0.208333  0.277778  0.571429   \n",
       "1  0.181818  0.617284  0.256410  0.173913  0.606061  0.263158  0.188679   \n",
       "2  0.420168  0.312500  0.307692  0.425532  0.338983  0.303030  0.416667   \n",
       "3  0.142857  0.653595  0.238095  0.160000  0.645161  0.250000  0.161290   \n",
       "4  0.066667  0.833333  0.148148  0.068966  0.833333  0.153846  0.066667   \n",
       "\n",
       "        PSH       PSD       PSA       WHH       WHD       WHA       VCH  \\\n",
       "0  0.165289  0.258398  0.595238  0.166667  0.277778  0.598802  0.160000   \n",
       "1  0.613497  0.234192  0.173010  0.598802  0.277778  0.166667  0.606061   \n",
       "2  0.292398  0.296736  0.431034  0.303030  0.322581  0.416667  0.285714   \n",
       "3  0.636943  0.228833  0.154560  0.636943  0.266667  0.142857  0.636943   \n",
       "4  0.813008  0.139665  0.070323  0.819672  0.153846  0.076923  0.819672   \n",
       "\n",
       "        VCD       VCA      PSCH      PSCD      PSCA  FTR  \n",
       "0  0.263158  0.598802  0.169492  0.268097  0.584795    0  \n",
       "1  0.250000  0.173913  0.613497  0.227273  0.178253    1  \n",
       "2  0.303030  0.434783  0.277778  0.305810  0.436681    0  \n",
       "3  0.230947  0.153846  0.666667  0.216920  0.135135    0  \n",
       "4  0.142857  0.066667  0.819672  0.132450  0.067797    2  "
      ]
     },
     "execution_count": 189,
     "metadata": {},
     "output_type": "execute_result"
    }
   ],
   "source": [
    "odds_probs.head()"
   ]
  },
  {
   "cell_type": "code",
   "execution_count": 190,
   "metadata": {
    "ExecuteTime": {
     "end_time": "2019-09-12T20:08:46.355133Z",
     "start_time": "2019-09-12T20:08:46.311228Z"
    },
    "hidden": true
   },
   "outputs": [],
   "source": [
    "odds_probs.to_csv('odds_probs_clean.csv')"
   ]
  },
  {
   "cell_type": "code",
   "execution_count": 214,
   "metadata": {
    "ExecuteTime": {
     "end_time": "2019-09-12T20:12:40.408666Z",
     "start_time": "2019-09-12T20:12:40.386996Z"
    },
    "hidden": true
   },
   "outputs": [],
   "source": [
    "odds_probs = pd.read_csv('odds_probs_clean.csv', index_col=0)"
   ]
  },
  {
   "cell_type": "code",
   "execution_count": 215,
   "metadata": {
    "ExecuteTime": {
     "end_time": "2019-09-12T20:12:41.068536Z",
     "start_time": "2019-09-12T20:12:41.064556Z"
    },
    "hidden": true
   },
   "outputs": [],
   "source": [
    "cols = odds_probs.columns[2:-1]"
   ]
  },
  {
   "cell_type": "code",
   "execution_count": 216,
   "metadata": {
    "ExecuteTime": {
     "end_time": "2019-09-12T20:12:41.483882Z",
     "start_time": "2019-09-12T20:12:41.477977Z"
    },
    "hidden": true
   },
   "outputs": [
    {
     "data": {
      "text/plain": [
       "Index(['HomeWin', 'Draw', 'AwayWin', 'B365H', 'B365D', 'B365A', 'BWH', 'BWD',\n",
       "       'BWA', 'IWH', 'IWD', 'IWA', 'PSH', 'PSD', 'PSA', 'WHH', 'WHD', 'WHA',\n",
       "       'VCH', 'VCD', 'VCA', 'PSCH', 'PSCD', 'PSCA'],\n",
       "      dtype='object')"
      ]
     },
     "execution_count": 216,
     "metadata": {},
     "output_type": "execute_result"
    }
   ],
   "source": [
    "cols"
   ]
  },
  {
   "cell_type": "code",
   "execution_count": 217,
   "metadata": {
    "ExecuteTime": {
     "end_time": "2019-09-12T20:12:41.931282Z",
     "start_time": "2019-09-12T20:12:41.927218Z"
    },
    "hidden": true
   },
   "outputs": [],
   "source": [
    "df_odds_probs_clean = odds_probs.copy()"
   ]
  },
  {
   "cell_type": "code",
   "execution_count": 218,
   "metadata": {
    "ExecuteTime": {
     "end_time": "2019-09-12T20:12:43.340400Z",
     "start_time": "2019-09-12T20:12:43.317096Z"
    },
    "hidden": true
   },
   "outputs": [
    {
     "data": {
      "text/plain": [
       "Index(['team1', 'team2', 'HomeWin', 'Draw', 'AwayWin', 'B365H', 'B365D',\n",
       "       'B365A', 'BWH', 'BWD', 'BWA', 'IWH', 'IWD', 'IWA', 'PSH', 'PSD', 'PSA',\n",
       "       'WHH', 'WHD', 'WHA', 'VCH', 'VCD', 'VCA', 'PSCH', 'PSCD', 'PSCA',\n",
       "       'FTR'],\n",
       "      dtype='object')"
      ]
     },
     "execution_count": 218,
     "metadata": {},
     "output_type": "execute_result"
    }
   ],
   "source": [
    "df_odds_probs_clean.columns"
   ]
  },
  {
   "cell_type": "code",
   "execution_count": 219,
   "metadata": {
    "ExecuteTime": {
     "end_time": "2019-09-12T20:12:43.673310Z",
     "start_time": "2019-09-12T20:12:43.657185Z"
    },
    "hidden": true
   },
   "outputs": [],
   "source": [
    "df_odds_probs_clean = df_odds_probs_clean[['team1', 'team2', 'HomeWin', 'Draw', 'AwayWin', 'FTR', 'B365H', 'B365D',\n",
    "       'B365A', 'BWH', 'BWD', 'BWA', 'IWH', 'IWD', 'IWA', 'PSH', 'PSD', 'PSA',\n",
    "       'WHH', 'WHD', 'WHA', 'VCH', 'VCD', 'VCA', 'PSCH', 'PSCD', 'PSCA']]"
   ]
  },
  {
   "cell_type": "code",
   "execution_count": 225,
   "metadata": {
    "ExecuteTime": {
     "end_time": "2019-09-12T20:15:21.148161Z",
     "start_time": "2019-09-12T20:15:21.121060Z"
    },
    "hidden": true
   },
   "outputs": [
    {
     "data": {
      "text/html": [
       "<div>\n",
       "<style scoped>\n",
       "    .dataframe tbody tr th:only-of-type {\n",
       "        vertical-align: middle;\n",
       "    }\n",
       "\n",
       "    .dataframe tbody tr th {\n",
       "        vertical-align: top;\n",
       "    }\n",
       "\n",
       "    .dataframe thead th {\n",
       "        text-align: right;\n",
       "    }\n",
       "</style>\n",
       "<table border=\"1\" class=\"dataframe\">\n",
       "  <thead>\n",
       "    <tr style=\"text-align: right;\">\n",
       "      <th></th>\n",
       "      <th>team1</th>\n",
       "      <th>team2</th>\n",
       "      <th>HomeWin</th>\n",
       "      <th>Draw</th>\n",
       "      <th>AwayWin</th>\n",
       "      <th>FTR</th>\n",
       "      <th>B365H</th>\n",
       "      <th>B365D</th>\n",
       "      <th>B365A</th>\n",
       "      <th>BWH</th>\n",
       "      <th>BWD</th>\n",
       "      <th>BWA</th>\n",
       "      <th>IWH</th>\n",
       "      <th>IWD</th>\n",
       "      <th>IWA</th>\n",
       "      <th>PSH</th>\n",
       "      <th>PSD</th>\n",
       "      <th>PSA</th>\n",
       "      <th>WHH</th>\n",
       "      <th>WHD</th>\n",
       "      <th>WHA</th>\n",
       "      <th>VCH</th>\n",
       "      <th>VCD</th>\n",
       "      <th>VCA</th>\n",
       "      <th>PSCH</th>\n",
       "      <th>PSCD</th>\n",
       "      <th>PSCA</th>\n",
       "    </tr>\n",
       "  </thead>\n",
       "  <tbody>\n",
       "    <tr>\n",
       "      <th>1000</th>\n",
       "      <td>Brighton and Hove Albion</td>\n",
       "      <td>ManCity</td>\n",
       "      <td>0.497</td>\n",
       "      <td>0.287</td>\n",
       "      <td>0.217</td>\n",
       "      <td>A</td>\n",
       "      <td>0.052632</td>\n",
       "      <td>0.117647</td>\n",
       "      <td>0.862069</td>\n",
       "      <td>0.057143</td>\n",
       "      <td>0.114286</td>\n",
       "      <td>0.877193</td>\n",
       "      <td>0.058824</td>\n",
       "      <td>0.125000</td>\n",
       "      <td>0.869565</td>\n",
       "      <td>0.063980</td>\n",
       "      <td>0.122399</td>\n",
       "      <td>0.847458</td>\n",
       "      <td>0.052632</td>\n",
       "      <td>0.125000</td>\n",
       "      <td>0.877193</td>\n",
       "      <td>0.047619</td>\n",
       "      <td>0.117647</td>\n",
       "      <td>0.869565</td>\n",
       "      <td>0.075930</td>\n",
       "      <td>0.138122</td>\n",
       "      <td>0.819672</td>\n",
       "    </tr>\n",
       "    <tr>\n",
       "      <th>1001</th>\n",
       "      <td>Burnley</td>\n",
       "      <td>Arsenal</td>\n",
       "      <td>0.390</td>\n",
       "      <td>0.200</td>\n",
       "      <td>0.410</td>\n",
       "      <td>A</td>\n",
       "      <td>0.307692</td>\n",
       "      <td>0.263158</td>\n",
       "      <td>0.454545</td>\n",
       "      <td>0.322581</td>\n",
       "      <td>0.266667</td>\n",
       "      <td>0.465116</td>\n",
       "      <td>0.322581</td>\n",
       "      <td>0.266667</td>\n",
       "      <td>0.465116</td>\n",
       "      <td>0.317460</td>\n",
       "      <td>0.263158</td>\n",
       "      <td>0.444444</td>\n",
       "      <td>0.322581</td>\n",
       "      <td>0.270270</td>\n",
       "      <td>0.454545</td>\n",
       "      <td>0.319489</td>\n",
       "      <td>0.263158</td>\n",
       "      <td>0.454545</td>\n",
       "      <td>0.396825</td>\n",
       "      <td>0.271003</td>\n",
       "      <td>0.357143</td>\n",
       "    </tr>\n",
       "    <tr>\n",
       "      <th>1002</th>\n",
       "      <td>Crystal Palace</td>\n",
       "      <td>Bournemouth</td>\n",
       "      <td>0.330</td>\n",
       "      <td>0.240</td>\n",
       "      <td>0.430</td>\n",
       "      <td>H</td>\n",
       "      <td>0.526316</td>\n",
       "      <td>0.238095</td>\n",
       "      <td>0.263158</td>\n",
       "      <td>0.540541</td>\n",
       "      <td>0.256410</td>\n",
       "      <td>0.256410</td>\n",
       "      <td>0.540541</td>\n",
       "      <td>0.253165</td>\n",
       "      <td>0.259740</td>\n",
       "      <td>0.531915</td>\n",
       "      <td>0.241546</td>\n",
       "      <td>0.253165</td>\n",
       "      <td>0.546448</td>\n",
       "      <td>0.250000</td>\n",
       "      <td>0.256410</td>\n",
       "      <td>0.540541</td>\n",
       "      <td>0.243902</td>\n",
       "      <td>0.243902</td>\n",
       "      <td>0.558659</td>\n",
       "      <td>0.227273</td>\n",
       "      <td>0.240385</td>\n",
       "    </tr>\n",
       "    <tr>\n",
       "      <th>1003</th>\n",
       "      <td>Fulham</td>\n",
       "      <td>Newcastle</td>\n",
       "      <td>0.303</td>\n",
       "      <td>0.129</td>\n",
       "      <td>0.568</td>\n",
       "      <td>A</td>\n",
       "      <td>0.400000</td>\n",
       "      <td>0.277778</td>\n",
       "      <td>0.344828</td>\n",
       "      <td>0.392157</td>\n",
       "      <td>0.277778</td>\n",
       "      <td>0.377358</td>\n",
       "      <td>0.400000</td>\n",
       "      <td>0.285714</td>\n",
       "      <td>0.363636</td>\n",
       "      <td>0.392157</td>\n",
       "      <td>0.280112</td>\n",
       "      <td>0.353357</td>\n",
       "      <td>0.400000</td>\n",
       "      <td>0.285714</td>\n",
       "      <td>0.363636</td>\n",
       "      <td>0.400000</td>\n",
       "      <td>0.285714</td>\n",
       "      <td>0.347222</td>\n",
       "      <td>0.401606</td>\n",
       "      <td>0.281690</td>\n",
       "      <td>0.341297</td>\n",
       "    </tr>\n",
       "    <tr>\n",
       "      <th>1004</th>\n",
       "      <td>Leicester City</td>\n",
       "      <td>Chelsea</td>\n",
       "      <td>0.766</td>\n",
       "      <td>0.186</td>\n",
       "      <td>0.049</td>\n",
       "      <td>D</td>\n",
       "      <td>0.416667</td>\n",
       "      <td>0.266667</td>\n",
       "      <td>0.344828</td>\n",
       "      <td>0.425532</td>\n",
       "      <td>0.277778</td>\n",
       "      <td>0.350877</td>\n",
       "      <td>0.425532</td>\n",
       "      <td>0.285714</td>\n",
       "      <td>0.344828</td>\n",
       "      <td>0.409836</td>\n",
       "      <td>0.273973</td>\n",
       "      <td>0.341297</td>\n",
       "      <td>0.420168</td>\n",
       "      <td>0.277778</td>\n",
       "      <td>0.347222</td>\n",
       "      <td>0.416667</td>\n",
       "      <td>0.270270</td>\n",
       "      <td>0.344828</td>\n",
       "      <td>0.413223</td>\n",
       "      <td>0.275482</td>\n",
       "      <td>0.335570</td>\n",
       "    </tr>\n",
       "    <tr>\n",
       "      <th>1005</th>\n",
       "      <td>Liverpool</td>\n",
       "      <td>Wolverhampton</td>\n",
       "      <td>0.315</td>\n",
       "      <td>0.195</td>\n",
       "      <td>0.490</td>\n",
       "      <td>H</td>\n",
       "      <td>0.769231</td>\n",
       "      <td>0.166667</td>\n",
       "      <td>0.090909</td>\n",
       "      <td>0.769231</td>\n",
       "      <td>0.173913</td>\n",
       "      <td>0.105263</td>\n",
       "      <td>0.763359</td>\n",
       "      <td>0.185185</td>\n",
       "      <td>0.107527</td>\n",
       "      <td>0.763359</td>\n",
       "      <td>0.173310</td>\n",
       "      <td>0.094877</td>\n",
       "      <td>0.775194</td>\n",
       "      <td>0.181818</td>\n",
       "      <td>0.090909</td>\n",
       "      <td>0.769231</td>\n",
       "      <td>0.173913</td>\n",
       "      <td>0.086957</td>\n",
       "      <td>0.757576</td>\n",
       "      <td>0.169779</td>\n",
       "      <td>0.105485</td>\n",
       "    </tr>\n",
       "    <tr>\n",
       "      <th>1006</th>\n",
       "      <td>ManUtd</td>\n",
       "      <td>Cardiff City</td>\n",
       "      <td>0.710</td>\n",
       "      <td>0.180</td>\n",
       "      <td>0.110</td>\n",
       "      <td>A</td>\n",
       "      <td>0.781250</td>\n",
       "      <td>0.153846</td>\n",
       "      <td>0.090909</td>\n",
       "      <td>0.800000</td>\n",
       "      <td>0.160000</td>\n",
       "      <td>0.090909</td>\n",
       "      <td>0.781250</td>\n",
       "      <td>0.163934</td>\n",
       "      <td>0.108696</td>\n",
       "      <td>0.781250</td>\n",
       "      <td>0.157978</td>\n",
       "      <td>0.097943</td>\n",
       "      <td>0.800000</td>\n",
       "      <td>0.153846</td>\n",
       "      <td>0.100000</td>\n",
       "      <td>0.775194</td>\n",
       "      <td>0.160000</td>\n",
       "      <td>0.090909</td>\n",
       "      <td>0.769231</td>\n",
       "      <td>0.165017</td>\n",
       "      <td>0.102987</td>\n",
       "    </tr>\n",
       "    <tr>\n",
       "      <th>1007</th>\n",
       "      <td>Southampton</td>\n",
       "      <td>Huddersfield Town</td>\n",
       "      <td>0.628</td>\n",
       "      <td>0.237</td>\n",
       "      <td>0.135</td>\n",
       "      <td>D</td>\n",
       "      <td>0.694444</td>\n",
       "      <td>0.210526</td>\n",
       "      <td>0.117647</td>\n",
       "      <td>0.704225</td>\n",
       "      <td>0.210526</td>\n",
       "      <td>0.137931</td>\n",
       "      <td>0.704225</td>\n",
       "      <td>0.208333</td>\n",
       "      <td>0.140845</td>\n",
       "      <td>0.694444</td>\n",
       "      <td>0.207039</td>\n",
       "      <td>0.131234</td>\n",
       "      <td>0.714286</td>\n",
       "      <td>0.210526</td>\n",
       "      <td>0.125000</td>\n",
       "      <td>0.714286</td>\n",
       "      <td>0.208333</td>\n",
       "      <td>0.117647</td>\n",
       "      <td>0.729927</td>\n",
       "      <td>0.186567</td>\n",
       "      <td>0.117786</td>\n",
       "    </tr>\n",
       "    <tr>\n",
       "      <th>1008</th>\n",
       "      <td>Tottenham Hotspur</td>\n",
       "      <td>Everton</td>\n",
       "      <td>0.789</td>\n",
       "      <td>0.148</td>\n",
       "      <td>0.062</td>\n",
       "      <td>D</td>\n",
       "      <td>0.454545</td>\n",
       "      <td>0.285714</td>\n",
       "      <td>0.285714</td>\n",
       "      <td>0.476190</td>\n",
       "      <td>0.285714</td>\n",
       "      <td>0.285714</td>\n",
       "      <td>0.487805</td>\n",
       "      <td>0.289855</td>\n",
       "      <td>0.277778</td>\n",
       "      <td>0.476190</td>\n",
       "      <td>0.274725</td>\n",
       "      <td>0.274725</td>\n",
       "      <td>0.476190</td>\n",
       "      <td>0.285714</td>\n",
       "      <td>0.285714</td>\n",
       "      <td>0.476190</td>\n",
       "      <td>0.285714</td>\n",
       "      <td>0.270270</td>\n",
       "      <td>0.523560</td>\n",
       "      <td>0.262467</td>\n",
       "      <td>0.240964</td>\n",
       "    </tr>\n",
       "    <tr>\n",
       "      <th>1009</th>\n",
       "      <td>Watford</td>\n",
       "      <td>WestHam</td>\n",
       "      <td>0.617</td>\n",
       "      <td>0.257</td>\n",
       "      <td>0.125</td>\n",
       "      <td>A</td>\n",
       "      <td>0.444444</td>\n",
       "      <td>0.266667</td>\n",
       "      <td>0.312500</td>\n",
       "      <td>0.454545</td>\n",
       "      <td>0.270270</td>\n",
       "      <td>0.322581</td>\n",
       "      <td>0.454545</td>\n",
       "      <td>0.266667</td>\n",
       "      <td>0.327869</td>\n",
       "      <td>0.454545</td>\n",
       "      <td>0.259740</td>\n",
       "      <td>0.311526</td>\n",
       "      <td>0.454545</td>\n",
       "      <td>0.270270</td>\n",
       "      <td>0.322581</td>\n",
       "      <td>0.454545</td>\n",
       "      <td>0.266667</td>\n",
       "      <td>0.307692</td>\n",
       "      <td>0.473934</td>\n",
       "      <td>0.259067</td>\n",
       "      <td>0.293255</td>\n",
       "    </tr>\n",
       "  </tbody>\n",
       "</table>\n",
       "</div>"
      ],
      "text/plain": [
       "                         team1              team2  HomeWin   Draw  AwayWin  \\\n",
       "1000  Brighton and Hove Albion            ManCity    0.497  0.287    0.217   \n",
       "1001                   Burnley            Arsenal    0.390  0.200    0.410   \n",
       "1002            Crystal Palace        Bournemouth    0.330  0.240    0.430   \n",
       "1003                    Fulham          Newcastle    0.303  0.129    0.568   \n",
       "1004            Leicester City            Chelsea    0.766  0.186    0.049   \n",
       "1005                 Liverpool      Wolverhampton    0.315  0.195    0.490   \n",
       "1006                    ManUtd       Cardiff City    0.710  0.180    0.110   \n",
       "1007               Southampton  Huddersfield Town    0.628  0.237    0.135   \n",
       "1008         Tottenham Hotspur            Everton    0.789  0.148    0.062   \n",
       "1009                   Watford            WestHam    0.617  0.257    0.125   \n",
       "\n",
       "     FTR     B365H     B365D     B365A       BWH       BWD       BWA  \\\n",
       "1000   A  0.052632  0.117647  0.862069  0.057143  0.114286  0.877193   \n",
       "1001   A  0.307692  0.263158  0.454545  0.322581  0.266667  0.465116   \n",
       "1002   H  0.526316  0.238095  0.263158  0.540541  0.256410  0.256410   \n",
       "1003   A  0.400000  0.277778  0.344828  0.392157  0.277778  0.377358   \n",
       "1004   D  0.416667  0.266667  0.344828  0.425532  0.277778  0.350877   \n",
       "1005   H  0.769231  0.166667  0.090909  0.769231  0.173913  0.105263   \n",
       "1006   A  0.781250  0.153846  0.090909  0.800000  0.160000  0.090909   \n",
       "1007   D  0.694444  0.210526  0.117647  0.704225  0.210526  0.137931   \n",
       "1008   D  0.454545  0.285714  0.285714  0.476190  0.285714  0.285714   \n",
       "1009   A  0.444444  0.266667  0.312500  0.454545  0.270270  0.322581   \n",
       "\n",
       "           IWH       IWD       IWA       PSH       PSD       PSA       WHH  \\\n",
       "1000  0.058824  0.125000  0.869565  0.063980  0.122399  0.847458  0.052632   \n",
       "1001  0.322581  0.266667  0.465116  0.317460  0.263158  0.444444  0.322581   \n",
       "1002  0.540541  0.253165  0.259740  0.531915  0.241546  0.253165  0.546448   \n",
       "1003  0.400000  0.285714  0.363636  0.392157  0.280112  0.353357  0.400000   \n",
       "1004  0.425532  0.285714  0.344828  0.409836  0.273973  0.341297  0.420168   \n",
       "1005  0.763359  0.185185  0.107527  0.763359  0.173310  0.094877  0.775194   \n",
       "1006  0.781250  0.163934  0.108696  0.781250  0.157978  0.097943  0.800000   \n",
       "1007  0.704225  0.208333  0.140845  0.694444  0.207039  0.131234  0.714286   \n",
       "1008  0.487805  0.289855  0.277778  0.476190  0.274725  0.274725  0.476190   \n",
       "1009  0.454545  0.266667  0.327869  0.454545  0.259740  0.311526  0.454545   \n",
       "\n",
       "           WHD       WHA       VCH       VCD       VCA      PSCH      PSCD  \\\n",
       "1000  0.125000  0.877193  0.047619  0.117647  0.869565  0.075930  0.138122   \n",
       "1001  0.270270  0.454545  0.319489  0.263158  0.454545  0.396825  0.271003   \n",
       "1002  0.250000  0.256410  0.540541  0.243902  0.243902  0.558659  0.227273   \n",
       "1003  0.285714  0.363636  0.400000  0.285714  0.347222  0.401606  0.281690   \n",
       "1004  0.277778  0.347222  0.416667  0.270270  0.344828  0.413223  0.275482   \n",
       "1005  0.181818  0.090909  0.769231  0.173913  0.086957  0.757576  0.169779   \n",
       "1006  0.153846  0.100000  0.775194  0.160000  0.090909  0.769231  0.165017   \n",
       "1007  0.210526  0.125000  0.714286  0.208333  0.117647  0.729927  0.186567   \n",
       "1008  0.285714  0.285714  0.476190  0.285714  0.270270  0.523560  0.262467   \n",
       "1009  0.270270  0.322581  0.454545  0.266667  0.307692  0.473934  0.259067   \n",
       "\n",
       "          PSCA  \n",
       "1000  0.819672  \n",
       "1001  0.357143  \n",
       "1002  0.240385  \n",
       "1003  0.341297  \n",
       "1004  0.335570  \n",
       "1005  0.105485  \n",
       "1006  0.102987  \n",
       "1007  0.117786  \n",
       "1008  0.240964  \n",
       "1009  0.293255  "
      ]
     },
     "execution_count": 225,
     "metadata": {},
     "output_type": "execute_result"
    }
   ],
   "source": [
    "df_odds_probs_clean.tail(10)"
   ]
  },
  {
   "cell_type": "code",
   "execution_count": 222,
   "metadata": {
    "ExecuteTime": {
     "end_time": "2019-09-12T20:13:12.153573Z",
     "start_time": "2019-09-12T20:13:12.064427Z"
    },
    "hidden": true
   },
   "outputs": [],
   "source": [
    "df_odds_probs_clean['FTR'] = ['H' if i==0 else 'D' if i==2 else 'A' for i in df_odds_probs_clean['FTR']]"
   ]
  },
  {
   "cell_type": "code",
   "execution_count": 223,
   "metadata": {
    "ExecuteTime": {
     "end_time": "2019-09-12T20:13:13.260066Z",
     "start_time": "2019-09-12T20:13:13.248763Z"
    },
    "hidden": true
   },
   "outputs": [
    {
     "data": {
      "text/plain": [
       "['H',\n",
       " 'A',\n",
       " 'H',\n",
       " 'H',\n",
       " 'D',\n",
       " 'D',\n",
       " 'D',\n",
       " 'H',\n",
       " 'A',\n",
       " 'A',\n",
       " 'A',\n",
       " 'D',\n",
       " 'D',\n",
       " 'D',\n",
       " 'A',\n",
       " 'H',\n",
       " 'H',\n",
       " 'H',\n",
       " 'A',\n",
       " 'H',\n",
       " 'A',\n",
       " 'H',\n",
       " 'D',\n",
       " 'D',\n",
       " 'H',\n",
       " 'H',\n",
       " 'H',\n",
       " 'D',\n",
       " 'H',\n",
       " 'A',\n",
       " 'H',\n",
       " 'A',\n",
       " 'H',\n",
       " 'H',\n",
       " 'H',\n",
       " 'H',\n",
       " 'A',\n",
       " 'H',\n",
       " 'D',\n",
       " 'H',\n",
       " 'H',\n",
       " 'H',\n",
       " 'D',\n",
       " 'H',\n",
       " 'H',\n",
       " 'H',\n",
       " 'H',\n",
       " 'D',\n",
       " 'H',\n",
       " 'H',\n",
       " 'H',\n",
       " 'H',\n",
       " 'A',\n",
       " 'H',\n",
       " 'A',\n",
       " 'D',\n",
       " 'A',\n",
       " 'H',\n",
       " 'H',\n",
       " 'H',\n",
       " 'A',\n",
       " 'H',\n",
       " 'D',\n",
       " 'H',\n",
       " 'A',\n",
       " 'H',\n",
       " 'A',\n",
       " 'H',\n",
       " 'H',\n",
       " 'A',\n",
       " 'H',\n",
       " 'H',\n",
       " 'H',\n",
       " 'A',\n",
       " 'A',\n",
       " 'H',\n",
       " 'A',\n",
       " 'D',\n",
       " 'H',\n",
       " 'A',\n",
       " 'D',\n",
       " 'H',\n",
       " 'H',\n",
       " 'H',\n",
       " 'H',\n",
       " 'H',\n",
       " 'A',\n",
       " 'A',\n",
       " 'H',\n",
       " 'A',\n",
       " 'H',\n",
       " 'H',\n",
       " 'D',\n",
       " 'D',\n",
       " 'H',\n",
       " 'A',\n",
       " 'D',\n",
       " 'A',\n",
       " 'H',\n",
       " 'H',\n",
       " 'H',\n",
       " 'H',\n",
       " 'A',\n",
       " 'A',\n",
       " 'A',\n",
       " 'H',\n",
       " 'D',\n",
       " 'H',\n",
       " 'H',\n",
       " 'D',\n",
       " 'D',\n",
       " 'A',\n",
       " 'A',\n",
       " 'D',\n",
       " 'A',\n",
       " 'D',\n",
       " 'H',\n",
       " 'H',\n",
       " 'H',\n",
       " 'H',\n",
       " 'A',\n",
       " 'A',\n",
       " 'H',\n",
       " 'D',\n",
       " 'D',\n",
       " 'D',\n",
       " 'H',\n",
       " 'D',\n",
       " 'D',\n",
       " 'A',\n",
       " 'H',\n",
       " 'A',\n",
       " 'H',\n",
       " 'H',\n",
       " 'A',\n",
       " 'H',\n",
       " 'H',\n",
       " 'H',\n",
       " 'A',\n",
       " 'H',\n",
       " 'H',\n",
       " 'H',\n",
       " 'H',\n",
       " 'D',\n",
       " 'H',\n",
       " 'A',\n",
       " 'D',\n",
       " 'D',\n",
       " 'H',\n",
       " 'A',\n",
       " 'H',\n",
       " 'H',\n",
       " 'H',\n",
       " 'D',\n",
       " 'D',\n",
       " 'H',\n",
       " 'H',\n",
       " 'H',\n",
       " 'H',\n",
       " 'H',\n",
       " 'D',\n",
       " 'H',\n",
       " 'H',\n",
       " 'A',\n",
       " 'A',\n",
       " 'A',\n",
       " 'H',\n",
       " 'A',\n",
       " 'D',\n",
       " 'H',\n",
       " 'H',\n",
       " 'H',\n",
       " 'H',\n",
       " 'H',\n",
       " 'H',\n",
       " 'H',\n",
       " 'A',\n",
       " 'D',\n",
       " 'H',\n",
       " 'A',\n",
       " 'D',\n",
       " 'A',\n",
       " 'H',\n",
       " 'A',\n",
       " 'A',\n",
       " 'H',\n",
       " 'H',\n",
       " 'H',\n",
       " 'D',\n",
       " 'D',\n",
       " 'H',\n",
       " 'D',\n",
       " 'D',\n",
       " 'H',\n",
       " 'H',\n",
       " 'D',\n",
       " 'H',\n",
       " 'H',\n",
       " 'H',\n",
       " 'H',\n",
       " 'D',\n",
       " 'H',\n",
       " 'A',\n",
       " 'A',\n",
       " 'H',\n",
       " 'D',\n",
       " 'A',\n",
       " 'H',\n",
       " 'A',\n",
       " 'H',\n",
       " 'H',\n",
       " 'A',\n",
       " 'H',\n",
       " 'D',\n",
       " 'H',\n",
       " 'A',\n",
       " 'H',\n",
       " 'D',\n",
       " 'H',\n",
       " 'H',\n",
       " 'H',\n",
       " 'A',\n",
       " 'A',\n",
       " 'H',\n",
       " 'H',\n",
       " 'H',\n",
       " 'D',\n",
       " 'A',\n",
       " 'A',\n",
       " 'H',\n",
       " 'H',\n",
       " 'A',\n",
       " 'H',\n",
       " 'D',\n",
       " 'A',\n",
       " 'D',\n",
       " 'D',\n",
       " 'A',\n",
       " 'A',\n",
       " 'A',\n",
       " 'D',\n",
       " 'D',\n",
       " 'H',\n",
       " 'A',\n",
       " 'H',\n",
       " 'D',\n",
       " 'D',\n",
       " 'A',\n",
       " 'H',\n",
       " 'H',\n",
       " 'H',\n",
       " 'H',\n",
       " 'D',\n",
       " 'H',\n",
       " 'A',\n",
       " 'H',\n",
       " 'A',\n",
       " 'H',\n",
       " 'H',\n",
       " 'A',\n",
       " 'A',\n",
       " 'A',\n",
       " 'H',\n",
       " 'H',\n",
       " 'A',\n",
       " 'H',\n",
       " 'H',\n",
       " 'H',\n",
       " 'D',\n",
       " 'A',\n",
       " 'H',\n",
       " 'A',\n",
       " 'H',\n",
       " 'A',\n",
       " 'D',\n",
       " 'H',\n",
       " 'H',\n",
       " 'A',\n",
       " 'H',\n",
       " 'A',\n",
       " 'H',\n",
       " 'A',\n",
       " 'A',\n",
       " 'H',\n",
       " 'D',\n",
       " 'D',\n",
       " 'H',\n",
       " 'H',\n",
       " 'A',\n",
       " 'A',\n",
       " 'H',\n",
       " 'H',\n",
       " 'H',\n",
       " 'H',\n",
       " 'A',\n",
       " 'A',\n",
       " 'D',\n",
       " 'A',\n",
       " 'A',\n",
       " 'H',\n",
       " 'D',\n",
       " 'H',\n",
       " 'H',\n",
       " 'D',\n",
       " 'D',\n",
       " 'H',\n",
       " 'A',\n",
       " 'A',\n",
       " 'H',\n",
       " 'A',\n",
       " 'D',\n",
       " 'H',\n",
       " 'A',\n",
       " 'H',\n",
       " 'H',\n",
       " 'A',\n",
       " 'D',\n",
       " 'D',\n",
       " 'A',\n",
       " 'D',\n",
       " 'D',\n",
       " 'H',\n",
       " 'D',\n",
       " 'H',\n",
       " 'A',\n",
       " 'H',\n",
       " 'A',\n",
       " 'A',\n",
       " 'A',\n",
       " 'A',\n",
       " 'H',\n",
       " 'D',\n",
       " 'A',\n",
       " 'H',\n",
       " 'H',\n",
       " 'D',\n",
       " 'H',\n",
       " 'H',\n",
       " 'A',\n",
       " 'D',\n",
       " 'H',\n",
       " 'D',\n",
       " 'H',\n",
       " 'H',\n",
       " 'H',\n",
       " 'H',\n",
       " 'D',\n",
       " 'D',\n",
       " 'A',\n",
       " 'H',\n",
       " 'H',\n",
       " 'H',\n",
       " 'A',\n",
       " 'A',\n",
       " 'A',\n",
       " 'H',\n",
       " 'H',\n",
       " 'A',\n",
       " 'D',\n",
       " 'H',\n",
       " 'H',\n",
       " 'A',\n",
       " 'A',\n",
       " 'H',\n",
       " 'H',\n",
       " 'H',\n",
       " 'A',\n",
       " 'A',\n",
       " 'D',\n",
       " 'A',\n",
       " 'A',\n",
       " 'H',\n",
       " 'H',\n",
       " 'H',\n",
       " 'H',\n",
       " 'H',\n",
       " 'H',\n",
       " 'H',\n",
       " 'D',\n",
       " 'A',\n",
       " 'H',\n",
       " 'H',\n",
       " 'A',\n",
       " 'H',\n",
       " 'D',\n",
       " 'D',\n",
       " 'H',\n",
       " 'D',\n",
       " 'H',\n",
       " 'A',\n",
       " 'D',\n",
       " 'D',\n",
       " 'A',\n",
       " 'A',\n",
       " 'H',\n",
       " 'D',\n",
       " 'H',\n",
       " 'A',\n",
       " 'D',\n",
       " 'H',\n",
       " 'A',\n",
       " 'H',\n",
       " 'H',\n",
       " 'H',\n",
       " 'A',\n",
       " 'A',\n",
       " 'A',\n",
       " 'H',\n",
       " 'H',\n",
       " 'H',\n",
       " 'H',\n",
       " 'D',\n",
       " 'D',\n",
       " 'D',\n",
       " 'H',\n",
       " 'H',\n",
       " 'D',\n",
       " 'H',\n",
       " 'A',\n",
       " 'H',\n",
       " 'H',\n",
       " 'H',\n",
       " 'D',\n",
       " 'A',\n",
       " 'D',\n",
       " 'H',\n",
       " 'H',\n",
       " 'A',\n",
       " 'D',\n",
       " 'H',\n",
       " 'A',\n",
       " 'A',\n",
       " 'A',\n",
       " 'H',\n",
       " 'D',\n",
       " 'H',\n",
       " 'D',\n",
       " 'H',\n",
       " 'A',\n",
       " 'H',\n",
       " 'A',\n",
       " 'A',\n",
       " 'A',\n",
       " 'A',\n",
       " 'H',\n",
       " 'D',\n",
       " 'H',\n",
       " 'A',\n",
       " 'D',\n",
       " 'D',\n",
       " 'H',\n",
       " 'D',\n",
       " 'H',\n",
       " 'D',\n",
       " 'A',\n",
       " 'D',\n",
       " 'H',\n",
       " 'D',\n",
       " 'H',\n",
       " 'D',\n",
       " 'H',\n",
       " 'H',\n",
       " 'D',\n",
       " 'A',\n",
       " 'A',\n",
       " 'H',\n",
       " 'H',\n",
       " 'D',\n",
       " 'H',\n",
       " 'D',\n",
       " 'D',\n",
       " 'A',\n",
       " 'D',\n",
       " 'D',\n",
       " 'D',\n",
       " 'A',\n",
       " 'A',\n",
       " 'H',\n",
       " 'A',\n",
       " 'H',\n",
       " 'A',\n",
       " 'A',\n",
       " 'H',\n",
       " 'D',\n",
       " 'D',\n",
       " 'D',\n",
       " 'H',\n",
       " 'A',\n",
       " 'D',\n",
       " 'H',\n",
       " 'D',\n",
       " 'H',\n",
       " 'H',\n",
       " 'H',\n",
       " 'H',\n",
       " 'H',\n",
       " 'A',\n",
       " 'A',\n",
       " 'D',\n",
       " 'H',\n",
       " 'H',\n",
       " 'H',\n",
       " 'D',\n",
       " 'D',\n",
       " 'H',\n",
       " 'A',\n",
       " 'H',\n",
       " 'D',\n",
       " 'A',\n",
       " 'H',\n",
       " 'H',\n",
       " 'D',\n",
       " 'D',\n",
       " 'D',\n",
       " 'H',\n",
       " 'H',\n",
       " 'H',\n",
       " 'H',\n",
       " 'D',\n",
       " 'D',\n",
       " 'H',\n",
       " 'A',\n",
       " 'D',\n",
       " 'D',\n",
       " 'H',\n",
       " 'H',\n",
       " 'H',\n",
       " 'D',\n",
       " 'H',\n",
       " 'H',\n",
       " 'H',\n",
       " 'H',\n",
       " 'H',\n",
       " 'A',\n",
       " 'H',\n",
       " 'D',\n",
       " 'H',\n",
       " 'D',\n",
       " 'D',\n",
       " 'H',\n",
       " 'H',\n",
       " 'A',\n",
       " 'A',\n",
       " 'H',\n",
       " 'A',\n",
       " 'H',\n",
       " 'D',\n",
       " 'H',\n",
       " 'D',\n",
       " 'H',\n",
       " 'H',\n",
       " 'H',\n",
       " 'H',\n",
       " 'H',\n",
       " 'A',\n",
       " 'H',\n",
       " 'H',\n",
       " 'D',\n",
       " 'H',\n",
       " 'H',\n",
       " 'A',\n",
       " 'A',\n",
       " 'H',\n",
       " 'A',\n",
       " 'A',\n",
       " 'H',\n",
       " 'A',\n",
       " 'H',\n",
       " 'A',\n",
       " 'A',\n",
       " 'A',\n",
       " 'A',\n",
       " 'H',\n",
       " 'H',\n",
       " 'D',\n",
       " 'A',\n",
       " 'H',\n",
       " 'H',\n",
       " 'A',\n",
       " 'D',\n",
       " 'D',\n",
       " 'D',\n",
       " 'A',\n",
       " 'A',\n",
       " 'A',\n",
       " 'A',\n",
       " 'D',\n",
       " 'H',\n",
       " 'D',\n",
       " 'H',\n",
       " 'H',\n",
       " 'H',\n",
       " 'H',\n",
       " 'A',\n",
       " 'D',\n",
       " 'A',\n",
       " 'A',\n",
       " 'H',\n",
       " 'D',\n",
       " 'D',\n",
       " 'A',\n",
       " 'A',\n",
       " 'D',\n",
       " 'D',\n",
       " 'D',\n",
       " 'H',\n",
       " 'H',\n",
       " 'D',\n",
       " 'H',\n",
       " 'D',\n",
       " 'H',\n",
       " 'A',\n",
       " 'D',\n",
       " 'A',\n",
       " 'H',\n",
       " 'A',\n",
       " 'H',\n",
       " 'A',\n",
       " 'H',\n",
       " 'H',\n",
       " 'H',\n",
       " 'D',\n",
       " 'A',\n",
       " 'A',\n",
       " 'H',\n",
       " 'H',\n",
       " 'H',\n",
       " 'H',\n",
       " 'D',\n",
       " 'A',\n",
       " 'D',\n",
       " 'H',\n",
       " 'H',\n",
       " 'H',\n",
       " 'D',\n",
       " 'A',\n",
       " 'H',\n",
       " 'A',\n",
       " 'H',\n",
       " 'H',\n",
       " 'H',\n",
       " 'A',\n",
       " 'A',\n",
       " 'H',\n",
       " 'H',\n",
       " 'H',\n",
       " 'H',\n",
       " 'A',\n",
       " 'A',\n",
       " 'H',\n",
       " 'A',\n",
       " 'H',\n",
       " 'D',\n",
       " 'H',\n",
       " 'H',\n",
       " 'H',\n",
       " 'H',\n",
       " 'A',\n",
       " 'H',\n",
       " 'A',\n",
       " 'H',\n",
       " 'A',\n",
       " 'H',\n",
       " 'D',\n",
       " 'D',\n",
       " 'H',\n",
       " 'A',\n",
       " 'A',\n",
       " 'H',\n",
       " 'A',\n",
       " 'D',\n",
       " 'H',\n",
       " 'A',\n",
       " 'D',\n",
       " 'A',\n",
       " 'H',\n",
       " 'A',\n",
       " 'A',\n",
       " 'H',\n",
       " 'H',\n",
       " 'H',\n",
       " 'A',\n",
       " 'H',\n",
       " 'A',\n",
       " 'A',\n",
       " 'A',\n",
       " 'A',\n",
       " 'D',\n",
       " 'A',\n",
       " 'H',\n",
       " 'D',\n",
       " 'H',\n",
       " 'H',\n",
       " 'D',\n",
       " 'H',\n",
       " 'D',\n",
       " 'H',\n",
       " 'D',\n",
       " 'H',\n",
       " 'A',\n",
       " 'H',\n",
       " 'A',\n",
       " 'H',\n",
       " 'H',\n",
       " 'H',\n",
       " 'D',\n",
       " 'A',\n",
       " 'A',\n",
       " 'H',\n",
       " 'H',\n",
       " 'A',\n",
       " 'D',\n",
       " 'A',\n",
       " 'D',\n",
       " 'D',\n",
       " 'A',\n",
       " 'H',\n",
       " 'A',\n",
       " 'A',\n",
       " 'H',\n",
       " 'H',\n",
       " 'H',\n",
       " 'D',\n",
       " 'H',\n",
       " 'D',\n",
       " 'H',\n",
       " 'A',\n",
       " 'D',\n",
       " 'H',\n",
       " 'A',\n",
       " 'D',\n",
       " 'A',\n",
       " 'A',\n",
       " 'H',\n",
       " 'H',\n",
       " 'H',\n",
       " 'A',\n",
       " 'H',\n",
       " 'H',\n",
       " 'H',\n",
       " 'H',\n",
       " 'A',\n",
       " 'D',\n",
       " 'D',\n",
       " 'H',\n",
       " 'D',\n",
       " 'D',\n",
       " 'D',\n",
       " 'H',\n",
       " 'H',\n",
       " 'D',\n",
       " 'H',\n",
       " 'H',\n",
       " 'D',\n",
       " 'H',\n",
       " 'A',\n",
       " 'A',\n",
       " 'A',\n",
       " 'A',\n",
       " 'A',\n",
       " 'H',\n",
       " 'H',\n",
       " 'A',\n",
       " 'H',\n",
       " 'H',\n",
       " 'A',\n",
       " 'D',\n",
       " 'H',\n",
       " 'H',\n",
       " 'H',\n",
       " 'H',\n",
       " 'H',\n",
       " 'A',\n",
       " 'H',\n",
       " 'A',\n",
       " 'D',\n",
       " 'D',\n",
       " 'D',\n",
       " 'H',\n",
       " 'H',\n",
       " 'H',\n",
       " 'A',\n",
       " 'H',\n",
       " 'H',\n",
       " 'H',\n",
       " 'A',\n",
       " 'H',\n",
       " 'H',\n",
       " 'A',\n",
       " 'D',\n",
       " 'H',\n",
       " 'A',\n",
       " 'A',\n",
       " 'H',\n",
       " 'H',\n",
       " 'H',\n",
       " 'H',\n",
       " 'A',\n",
       " 'H',\n",
       " 'H',\n",
       " 'A',\n",
       " 'H',\n",
       " 'H',\n",
       " 'A',\n",
       " 'A',\n",
       " 'A',\n",
       " 'A',\n",
       " 'D',\n",
       " 'A',\n",
       " 'A',\n",
       " 'D',\n",
       " 'A',\n",
       " 'D',\n",
       " 'D',\n",
       " 'H',\n",
       " 'H',\n",
       " 'H',\n",
       " 'H',\n",
       " 'A',\n",
       " 'A',\n",
       " 'H',\n",
       " 'H',\n",
       " 'A',\n",
       " 'H',\n",
       " 'A',\n",
       " 'D',\n",
       " 'H',\n",
       " 'A',\n",
       " 'H',\n",
       " 'A',\n",
       " 'H',\n",
       " 'A',\n",
       " 'A',\n",
       " 'D',\n",
       " 'D',\n",
       " 'A',\n",
       " 'A',\n",
       " 'D',\n",
       " 'A',\n",
       " 'H',\n",
       " 'A',\n",
       " 'H',\n",
       " 'D',\n",
       " 'H',\n",
       " 'A',\n",
       " 'A',\n",
       " 'H',\n",
       " 'H',\n",
       " 'A',\n",
       " 'H',\n",
       " 'H',\n",
       " 'H',\n",
       " 'H',\n",
       " 'H',\n",
       " 'H',\n",
       " 'H',\n",
       " 'D',\n",
       " 'H',\n",
       " 'A',\n",
       " 'A',\n",
       " 'H',\n",
       " 'H',\n",
       " 'A',\n",
       " 'D',\n",
       " 'H',\n",
       " 'H',\n",
       " 'H',\n",
       " 'D',\n",
       " 'D',\n",
       " 'H',\n",
       " 'D',\n",
       " 'D',\n",
       " 'H',\n",
       " 'H',\n",
       " 'H',\n",
       " 'A',\n",
       " 'H',\n",
       " 'A',\n",
       " 'H',\n",
       " 'D',\n",
       " 'A',\n",
       " 'A',\n",
       " 'D',\n",
       " 'A',\n",
       " 'A',\n",
       " 'H',\n",
       " 'A',\n",
       " 'H',\n",
       " 'H',\n",
       " 'H',\n",
       " 'D',\n",
       " 'A',\n",
       " 'H',\n",
       " 'D',\n",
       " 'H',\n",
       " 'A',\n",
       " 'H',\n",
       " 'H',\n",
       " 'D',\n",
       " 'A',\n",
       " 'H',\n",
       " 'H',\n",
       " 'H',\n",
       " 'H',\n",
       " 'H',\n",
       " 'A',\n",
       " 'H',\n",
       " 'H',\n",
       " 'H',\n",
       " 'A',\n",
       " 'H',\n",
       " 'A',\n",
       " 'H',\n",
       " 'D',\n",
       " 'H',\n",
       " 'H',\n",
       " 'D',\n",
       " 'A',\n",
       " 'H',\n",
       " 'H',\n",
       " 'A',\n",
       " 'A',\n",
       " 'H',\n",
       " 'H',\n",
       " 'H',\n",
       " 'H',\n",
       " 'H',\n",
       " 'D',\n",
       " 'H',\n",
       " 'D',\n",
       " 'A',\n",
       " 'H',\n",
       " 'H',\n",
       " 'A',\n",
       " 'A',\n",
       " 'H',\n",
       " 'H',\n",
       " 'A',\n",
       " 'H',\n",
       " 'H',\n",
       " 'A',\n",
       " 'A',\n",
       " 'H',\n",
       " 'H',\n",
       " 'H',\n",
       " 'H',\n",
       " 'H',\n",
       " 'H',\n",
       " 'H',\n",
       " 'A',\n",
       " 'A',\n",
       " 'A',\n",
       " 'A',\n",
       " 'H',\n",
       " 'H',\n",
       " 'A',\n",
       " 'A',\n",
       " 'H',\n",
       " 'H',\n",
       " 'H',\n",
       " 'H',\n",
       " 'H',\n",
       " 'A',\n",
       " 'H',\n",
       " 'A',\n",
       " 'A',\n",
       " 'A',\n",
       " 'A',\n",
       " 'H',\n",
       " 'H',\n",
       " 'D',\n",
       " 'D',\n",
       " 'A',\n",
       " 'A',\n",
       " 'H',\n",
       " 'D',\n",
       " 'H',\n",
       " 'D',\n",
       " 'A',\n",
       " 'H',\n",
       " 'H',\n",
       " 'D',\n",
       " 'D',\n",
       " 'H',\n",
       " 'D',\n",
       " 'A',\n",
       " 'A',\n",
       " 'A',\n",
       " 'H',\n",
       " 'D',\n",
       " 'H',\n",
       " 'H',\n",
       " 'A',\n",
       " 'A',\n",
       " 'H',\n",
       " 'H',\n",
       " 'D',\n",
       " 'H',\n",
       " 'D',\n",
       " 'H',\n",
       " ...]"
      ]
     },
     "execution_count": 223,
     "metadata": {},
     "output_type": "execute_result"
    }
   ],
   "source": [
    "[i for i in df_odds_probs_clean['FTR']]"
   ]
  },
  {
   "cell_type": "code",
   "execution_count": 212,
   "metadata": {
    "ExecuteTime": {
     "end_time": "2019-09-12T20:11:48.761232Z",
     "start_time": "2019-09-12T20:11:48.721670Z"
    },
    "hidden": true
   },
   "outputs": [
    {
     "data": {
      "text/html": [
       "<div>\n",
       "<style scoped>\n",
       "    .dataframe tbody tr th:only-of-type {\n",
       "        vertical-align: middle;\n",
       "    }\n",
       "\n",
       "    .dataframe tbody tr th {\n",
       "        vertical-align: top;\n",
       "    }\n",
       "\n",
       "    .dataframe thead th {\n",
       "        text-align: right;\n",
       "    }\n",
       "</style>\n",
       "<table border=\"1\" class=\"dataframe\">\n",
       "  <thead>\n",
       "    <tr style=\"text-align: right;\">\n",
       "      <th></th>\n",
       "      <th>team1</th>\n",
       "      <th>team2</th>\n",
       "      <th>HomeWin</th>\n",
       "      <th>Draw</th>\n",
       "      <th>AwayWin</th>\n",
       "      <th>FTR</th>\n",
       "      <th>B365H</th>\n",
       "      <th>B365D</th>\n",
       "      <th>B365A</th>\n",
       "      <th>BWH</th>\n",
       "      <th>BWD</th>\n",
       "      <th>BWA</th>\n",
       "      <th>IWH</th>\n",
       "      <th>IWD</th>\n",
       "      <th>IWA</th>\n",
       "      <th>PSH</th>\n",
       "      <th>PSD</th>\n",
       "      <th>PSA</th>\n",
       "      <th>WHH</th>\n",
       "      <th>WHD</th>\n",
       "      <th>WHA</th>\n",
       "      <th>VCH</th>\n",
       "      <th>VCD</th>\n",
       "      <th>VCA</th>\n",
       "      <th>PSCH</th>\n",
       "      <th>PSCD</th>\n",
       "      <th>PSCA</th>\n",
       "      <th>HomeWi_best</th>\n",
       "      <th>HomeWi_pred</th>\n",
       "      <th>B365_best</th>\n",
       "      <th>B365_pred</th>\n",
       "      <th>BW_best</th>\n",
       "      <th>BW_pred</th>\n",
       "      <th>IW_best</th>\n",
       "      <th>IW_pred</th>\n",
       "      <th>PS_best</th>\n",
       "      <th>PS_pred</th>\n",
       "      <th>WH_best</th>\n",
       "      <th>WH_pred</th>\n",
       "      <th>VC_best</th>\n",
       "      <th>VC_pred</th>\n",
       "      <th>PSC_best</th>\n",
       "      <th>PSC_pred</th>\n",
       "    </tr>\n",
       "  </thead>\n",
       "  <tbody>\n",
       "    <tr>\n",
       "      <th>0</th>\n",
       "      <td>Burnley</td>\n",
       "      <td>Everton</td>\n",
       "      <td>0.451</td>\n",
       "      <td>0.181</td>\n",
       "      <td>0.367</td>\n",
       "      <td>A</td>\n",
       "      <td>0.166667</td>\n",
       "      <td>0.263158</td>\n",
       "      <td>0.598802</td>\n",
       "      <td>0.166667</td>\n",
       "      <td>0.263158</td>\n",
       "      <td>0.617284</td>\n",
       "      <td>0.208333</td>\n",
       "      <td>0.277778</td>\n",
       "      <td>0.571429</td>\n",
       "      <td>0.165289</td>\n",
       "      <td>0.258398</td>\n",
       "      <td>0.595238</td>\n",
       "      <td>0.166667</td>\n",
       "      <td>0.277778</td>\n",
       "      <td>0.598802</td>\n",
       "      <td>0.160000</td>\n",
       "      <td>0.263158</td>\n",
       "      <td>0.598802</td>\n",
       "      <td>0.169492</td>\n",
       "      <td>0.268097</td>\n",
       "      <td>0.584795</td>\n",
       "      <td>0.451</td>\n",
       "      <td>1</td>\n",
       "      <td>0.598802</td>\n",
       "      <td>0</td>\n",
       "      <td>0.617284</td>\n",
       "      <td>0</td>\n",
       "      <td>0.571429</td>\n",
       "      <td>0</td>\n",
       "      <td>0.595238</td>\n",
       "      <td>0</td>\n",
       "      <td>0.598802</td>\n",
       "      <td>0</td>\n",
       "      <td>0.598802</td>\n",
       "      <td>0</td>\n",
       "      <td>0.584795</td>\n",
       "      <td>0</td>\n",
       "    </tr>\n",
       "    <tr>\n",
       "      <th>1</th>\n",
       "      <td>Bournemouth</td>\n",
       "      <td>Sunderland</td>\n",
       "      <td>0.219</td>\n",
       "      <td>0.204</td>\n",
       "      <td>0.576</td>\n",
       "      <td>A</td>\n",
       "      <td>0.606061</td>\n",
       "      <td>0.238095</td>\n",
       "      <td>0.181818</td>\n",
       "      <td>0.617284</td>\n",
       "      <td>0.256410</td>\n",
       "      <td>0.173913</td>\n",
       "      <td>0.606061</td>\n",
       "      <td>0.263158</td>\n",
       "      <td>0.188679</td>\n",
       "      <td>0.613497</td>\n",
       "      <td>0.234192</td>\n",
       "      <td>0.173010</td>\n",
       "      <td>0.598802</td>\n",
       "      <td>0.277778</td>\n",
       "      <td>0.166667</td>\n",
       "      <td>0.606061</td>\n",
       "      <td>0.250000</td>\n",
       "      <td>0.173913</td>\n",
       "      <td>0.613497</td>\n",
       "      <td>0.227273</td>\n",
       "      <td>0.178253</td>\n",
       "      <td>0.576</td>\n",
       "      <td>1</td>\n",
       "      <td>0.606061</td>\n",
       "      <td>0</td>\n",
       "      <td>0.617284</td>\n",
       "      <td>0</td>\n",
       "      <td>0.606061</td>\n",
       "      <td>0</td>\n",
       "      <td>0.613497</td>\n",
       "      <td>0</td>\n",
       "      <td>0.598802</td>\n",
       "      <td>0</td>\n",
       "      <td>0.606061</td>\n",
       "      <td>0</td>\n",
       "      <td>0.613497</td>\n",
       "      <td>0</td>\n",
       "    </tr>\n",
       "    <tr>\n",
       "      <th>2</th>\n",
       "      <td>Burnley</td>\n",
       "      <td>Crystal Palace</td>\n",
       "      <td>0.741</td>\n",
       "      <td>0.126</td>\n",
       "      <td>0.133</td>\n",
       "      <td>A</td>\n",
       "      <td>0.303030</td>\n",
       "      <td>0.303030</td>\n",
       "      <td>0.420168</td>\n",
       "      <td>0.312500</td>\n",
       "      <td>0.307692</td>\n",
       "      <td>0.425532</td>\n",
       "      <td>0.338983</td>\n",
       "      <td>0.303030</td>\n",
       "      <td>0.416667</td>\n",
       "      <td>0.292398</td>\n",
       "      <td>0.296736</td>\n",
       "      <td>0.431034</td>\n",
       "      <td>0.303030</td>\n",
       "      <td>0.322581</td>\n",
       "      <td>0.416667</td>\n",
       "      <td>0.285714</td>\n",
       "      <td>0.303030</td>\n",
       "      <td>0.434783</td>\n",
       "      <td>0.277778</td>\n",
       "      <td>0.305810</td>\n",
       "      <td>0.436681</td>\n",
       "      <td>0.741</td>\n",
       "      <td>1</td>\n",
       "      <td>0.420168</td>\n",
       "      <td>0</td>\n",
       "      <td>0.425532</td>\n",
       "      <td>0</td>\n",
       "      <td>0.416667</td>\n",
       "      <td>0</td>\n",
       "      <td>0.431034</td>\n",
       "      <td>0</td>\n",
       "      <td>0.416667</td>\n",
       "      <td>0</td>\n",
       "      <td>0.434783</td>\n",
       "      <td>0</td>\n",
       "      <td>0.436681</td>\n",
       "      <td>0</td>\n",
       "    </tr>\n",
       "    <tr>\n",
       "      <th>3</th>\n",
       "      <td>Chelsea</td>\n",
       "      <td>Everton</td>\n",
       "      <td>0.416</td>\n",
       "      <td>0.154</td>\n",
       "      <td>0.430</td>\n",
       "      <td>A</td>\n",
       "      <td>0.653595</td>\n",
       "      <td>0.230947</td>\n",
       "      <td>0.142857</td>\n",
       "      <td>0.653595</td>\n",
       "      <td>0.238095</td>\n",
       "      <td>0.160000</td>\n",
       "      <td>0.645161</td>\n",
       "      <td>0.250000</td>\n",
       "      <td>0.161290</td>\n",
       "      <td>0.636943</td>\n",
       "      <td>0.228833</td>\n",
       "      <td>0.154560</td>\n",
       "      <td>0.636943</td>\n",
       "      <td>0.266667</td>\n",
       "      <td>0.142857</td>\n",
       "      <td>0.636943</td>\n",
       "      <td>0.230947</td>\n",
       "      <td>0.153846</td>\n",
       "      <td>0.666667</td>\n",
       "      <td>0.216920</td>\n",
       "      <td>0.135135</td>\n",
       "      <td>0.430</td>\n",
       "      <td>0</td>\n",
       "      <td>0.653595</td>\n",
       "      <td>1</td>\n",
       "      <td>0.653595</td>\n",
       "      <td>1</td>\n",
       "      <td>0.645161</td>\n",
       "      <td>1</td>\n",
       "      <td>0.636943</td>\n",
       "      <td>1</td>\n",
       "      <td>0.636943</td>\n",
       "      <td>1</td>\n",
       "      <td>0.636943</td>\n",
       "      <td>1</td>\n",
       "      <td>0.666667</td>\n",
       "      <td>1</td>\n",
       "    </tr>\n",
       "    <tr>\n",
       "      <th>4</th>\n",
       "      <td>ManCity</td>\n",
       "      <td>Middlesbrough</td>\n",
       "      <td>0.730</td>\n",
       "      <td>0.162</td>\n",
       "      <td>0.108</td>\n",
       "      <td>A</td>\n",
       "      <td>0.819672</td>\n",
       "      <td>0.142857</td>\n",
       "      <td>0.066667</td>\n",
       "      <td>0.833333</td>\n",
       "      <td>0.148148</td>\n",
       "      <td>0.068966</td>\n",
       "      <td>0.833333</td>\n",
       "      <td>0.153846</td>\n",
       "      <td>0.066667</td>\n",
       "      <td>0.813008</td>\n",
       "      <td>0.139665</td>\n",
       "      <td>0.070323</td>\n",
       "      <td>0.819672</td>\n",
       "      <td>0.153846</td>\n",
       "      <td>0.076923</td>\n",
       "      <td>0.819672</td>\n",
       "      <td>0.142857</td>\n",
       "      <td>0.066667</td>\n",
       "      <td>0.819672</td>\n",
       "      <td>0.132450</td>\n",
       "      <td>0.067797</td>\n",
       "      <td>0.730</td>\n",
       "      <td>0</td>\n",
       "      <td>0.819672</td>\n",
       "      <td>0</td>\n",
       "      <td>0.833333</td>\n",
       "      <td>0</td>\n",
       "      <td>0.833333</td>\n",
       "      <td>0</td>\n",
       "      <td>0.813008</td>\n",
       "      <td>0</td>\n",
       "      <td>0.819672</td>\n",
       "      <td>0</td>\n",
       "      <td>0.819672</td>\n",
       "      <td>0</td>\n",
       "      <td>0.819672</td>\n",
       "      <td>0</td>\n",
       "    </tr>\n",
       "    <tr>\n",
       "      <th>5</th>\n",
       "      <td>WestHam</td>\n",
       "      <td>Stoke City</td>\n",
       "      <td>0.325</td>\n",
       "      <td>0.120</td>\n",
       "      <td>0.555</td>\n",
       "      <td>A</td>\n",
       "      <td>0.500000</td>\n",
       "      <td>0.277778</td>\n",
       "      <td>0.250000</td>\n",
       "      <td>0.500000</td>\n",
       "      <td>0.285714</td>\n",
       "      <td>0.263158</td>\n",
       "      <td>0.500000</td>\n",
       "      <td>0.294118</td>\n",
       "      <td>0.263158</td>\n",
       "      <td>0.500000</td>\n",
       "      <td>0.278552</td>\n",
       "      <td>0.242131</td>\n",
       "      <td>0.487805</td>\n",
       "      <td>0.303030</td>\n",
       "      <td>0.250000</td>\n",
       "      <td>0.487805</td>\n",
       "      <td>0.277778</td>\n",
       "      <td>0.256410</td>\n",
       "      <td>0.497512</td>\n",
       "      <td>0.283286</td>\n",
       "      <td>0.239808</td>\n",
       "      <td>0.555</td>\n",
       "      <td>0</td>\n",
       "      <td>0.500000</td>\n",
       "      <td>0</td>\n",
       "      <td>0.500000</td>\n",
       "      <td>0</td>\n",
       "      <td>0.500000</td>\n",
       "      <td>0</td>\n",
       "      <td>0.500000</td>\n",
       "      <td>0</td>\n",
       "      <td>0.487805</td>\n",
       "      <td>0</td>\n",
       "      <td>0.487805</td>\n",
       "      <td>0</td>\n",
       "      <td>0.497512</td>\n",
       "      <td>0</td>\n",
       "    </tr>\n",
       "    <tr>\n",
       "      <th>6</th>\n",
       "      <td>Arsenal</td>\n",
       "      <td>Tottenham Hotspur</td>\n",
       "      <td>0.736</td>\n",
       "      <td>0.209</td>\n",
       "      <td>0.055</td>\n",
       "      <td>A</td>\n",
       "      <td>0.512821</td>\n",
       "      <td>0.277778</td>\n",
       "      <td>0.238095</td>\n",
       "      <td>0.512821</td>\n",
       "      <td>0.277778</td>\n",
       "      <td>0.256410</td>\n",
       "      <td>0.500000</td>\n",
       "      <td>0.294118</td>\n",
       "      <td>0.263158</td>\n",
       "      <td>0.512821</td>\n",
       "      <td>0.278552</td>\n",
       "      <td>0.229885</td>\n",
       "      <td>0.500000</td>\n",
       "      <td>0.312500</td>\n",
       "      <td>0.230947</td>\n",
       "      <td>0.512821</td>\n",
       "      <td>0.285714</td>\n",
       "      <td>0.238095</td>\n",
       "      <td>0.507614</td>\n",
       "      <td>0.275482</td>\n",
       "      <td>0.238095</td>\n",
       "      <td>0.736</td>\n",
       "      <td>0</td>\n",
       "      <td>0.512821</td>\n",
       "      <td>0</td>\n",
       "      <td>0.512821</td>\n",
       "      <td>0</td>\n",
       "      <td>0.500000</td>\n",
       "      <td>0</td>\n",
       "      <td>0.512821</td>\n",
       "      <td>0</td>\n",
       "      <td>0.500000</td>\n",
       "      <td>0</td>\n",
       "      <td>0.512821</td>\n",
       "      <td>0</td>\n",
       "      <td>0.507614</td>\n",
       "      <td>0</td>\n",
       "    </tr>\n",
       "    <tr>\n",
       "      <th>7</th>\n",
       "      <td>HullCity</td>\n",
       "      <td>Southampton</td>\n",
       "      <td>0.802</td>\n",
       "      <td>0.124</td>\n",
       "      <td>0.074</td>\n",
       "      <td>A</td>\n",
       "      <td>0.173913</td>\n",
       "      <td>0.263158</td>\n",
       "      <td>0.588235</td>\n",
       "      <td>0.181818</td>\n",
       "      <td>0.263158</td>\n",
       "      <td>0.606061</td>\n",
       "      <td>0.188679</td>\n",
       "      <td>0.263158</td>\n",
       "      <td>0.606061</td>\n",
       "      <td>0.174520</td>\n",
       "      <td>0.257732</td>\n",
       "      <td>0.588235</td>\n",
       "      <td>0.181818</td>\n",
       "      <td>0.277778</td>\n",
       "      <td>0.588235</td>\n",
       "      <td>0.173913</td>\n",
       "      <td>0.266667</td>\n",
       "      <td>0.588235</td>\n",
       "      <td>0.173913</td>\n",
       "      <td>0.256410</td>\n",
       "      <td>0.591716</td>\n",
       "      <td>0.802</td>\n",
       "      <td>1</td>\n",
       "      <td>0.588235</td>\n",
       "      <td>0</td>\n",
       "      <td>0.606061</td>\n",
       "      <td>0</td>\n",
       "      <td>0.606061</td>\n",
       "      <td>0</td>\n",
       "      <td>0.588235</td>\n",
       "      <td>0</td>\n",
       "      <td>0.588235</td>\n",
       "      <td>0</td>\n",
       "      <td>0.588235</td>\n",
       "      <td>0</td>\n",
       "      <td>0.591716</td>\n",
       "      <td>0</td>\n",
       "    </tr>\n",
       "    <tr>\n",
       "      <th>8</th>\n",
       "      <td>Leicester City</td>\n",
       "      <td>WestBrom</td>\n",
       "      <td>0.390</td>\n",
       "      <td>0.150</td>\n",
       "      <td>0.460</td>\n",
       "      <td>A</td>\n",
       "      <td>0.555556</td>\n",
       "      <td>0.277778</td>\n",
       "      <td>0.190476</td>\n",
       "      <td>0.561798</td>\n",
       "      <td>0.277778</td>\n",
       "      <td>0.210526</td>\n",
       "      <td>0.571429</td>\n",
       "      <td>0.277778</td>\n",
       "      <td>0.208333</td>\n",
       "      <td>0.561798</td>\n",
       "      <td>0.275482</td>\n",
       "      <td>0.182149</td>\n",
       "      <td>0.555556</td>\n",
       "      <td>0.303030</td>\n",
       "      <td>0.181818</td>\n",
       "      <td>0.555556</td>\n",
       "      <td>0.277778</td>\n",
       "      <td>0.192308</td>\n",
       "      <td>0.574713</td>\n",
       "      <td>0.268817</td>\n",
       "      <td>0.176991</td>\n",
       "      <td>0.460</td>\n",
       "      <td>1</td>\n",
       "      <td>0.555556</td>\n",
       "      <td>0</td>\n",
       "      <td>0.561798</td>\n",
       "      <td>0</td>\n",
       "      <td>0.571429</td>\n",
       "      <td>0</td>\n",
       "      <td>0.561798</td>\n",
       "      <td>0</td>\n",
       "      <td>0.555556</td>\n",
       "      <td>0</td>\n",
       "      <td>0.555556</td>\n",
       "      <td>0</td>\n",
       "      <td>0.574713</td>\n",
       "      <td>0</td>\n",
       "    </tr>\n",
       "    <tr>\n",
       "      <th>9</th>\n",
       "      <td>Swansea City</td>\n",
       "      <td>ManUtd</td>\n",
       "      <td>0.328</td>\n",
       "      <td>0.181</td>\n",
       "      <td>0.491</td>\n",
       "      <td>A</td>\n",
       "      <td>0.200000</td>\n",
       "      <td>0.250000</td>\n",
       "      <td>0.578035</td>\n",
       "      <td>0.210526</td>\n",
       "      <td>0.256410</td>\n",
       "      <td>0.581395</td>\n",
       "      <td>0.188679</td>\n",
       "      <td>0.263158</td>\n",
       "      <td>0.606061</td>\n",
       "      <td>0.202429</td>\n",
       "      <td>0.249377</td>\n",
       "      <td>0.568182</td>\n",
       "      <td>0.200000</td>\n",
       "      <td>0.266667</td>\n",
       "      <td>0.578035</td>\n",
       "      <td>0.200000</td>\n",
       "      <td>0.250000</td>\n",
       "      <td>0.578035</td>\n",
       "      <td>0.180832</td>\n",
       "      <td>0.247525</td>\n",
       "      <td>0.591716</td>\n",
       "      <td>0.491</td>\n",
       "      <td>1</td>\n",
       "      <td>0.578035</td>\n",
       "      <td>1</td>\n",
       "      <td>0.581395</td>\n",
       "      <td>1</td>\n",
       "      <td>0.606061</td>\n",
       "      <td>1</td>\n",
       "      <td>0.568182</td>\n",
       "      <td>1</td>\n",
       "      <td>0.578035</td>\n",
       "      <td>1</td>\n",
       "      <td>0.578035</td>\n",
       "      <td>1</td>\n",
       "      <td>0.591716</td>\n",
       "      <td>1</td>\n",
       "    </tr>\n",
       "  </tbody>\n",
       "</table>\n",
       "</div>"
      ],
      "text/plain": [
       "            team1              team2  HomeWin   Draw  AwayWin FTR     B365H  \\\n",
       "0         Burnley            Everton    0.451  0.181    0.367   A  0.166667   \n",
       "1     Bournemouth         Sunderland    0.219  0.204    0.576   A  0.606061   \n",
       "2         Burnley     Crystal Palace    0.741  0.126    0.133   A  0.303030   \n",
       "3         Chelsea            Everton    0.416  0.154    0.430   A  0.653595   \n",
       "4         ManCity      Middlesbrough    0.730  0.162    0.108   A  0.819672   \n",
       "5         WestHam         Stoke City    0.325  0.120    0.555   A  0.500000   \n",
       "6         Arsenal  Tottenham Hotspur    0.736  0.209    0.055   A  0.512821   \n",
       "7        HullCity        Southampton    0.802  0.124    0.074   A  0.173913   \n",
       "8  Leicester City           WestBrom    0.390  0.150    0.460   A  0.555556   \n",
       "9    Swansea City             ManUtd    0.328  0.181    0.491   A  0.200000   \n",
       "\n",
       "      B365D     B365A       BWH       BWD       BWA       IWH       IWD  \\\n",
       "0  0.263158  0.598802  0.166667  0.263158  0.617284  0.208333  0.277778   \n",
       "1  0.238095  0.181818  0.617284  0.256410  0.173913  0.606061  0.263158   \n",
       "2  0.303030  0.420168  0.312500  0.307692  0.425532  0.338983  0.303030   \n",
       "3  0.230947  0.142857  0.653595  0.238095  0.160000  0.645161  0.250000   \n",
       "4  0.142857  0.066667  0.833333  0.148148  0.068966  0.833333  0.153846   \n",
       "5  0.277778  0.250000  0.500000  0.285714  0.263158  0.500000  0.294118   \n",
       "6  0.277778  0.238095  0.512821  0.277778  0.256410  0.500000  0.294118   \n",
       "7  0.263158  0.588235  0.181818  0.263158  0.606061  0.188679  0.263158   \n",
       "8  0.277778  0.190476  0.561798  0.277778  0.210526  0.571429  0.277778   \n",
       "9  0.250000  0.578035  0.210526  0.256410  0.581395  0.188679  0.263158   \n",
       "\n",
       "        IWA       PSH       PSD       PSA       WHH       WHD       WHA  \\\n",
       "0  0.571429  0.165289  0.258398  0.595238  0.166667  0.277778  0.598802   \n",
       "1  0.188679  0.613497  0.234192  0.173010  0.598802  0.277778  0.166667   \n",
       "2  0.416667  0.292398  0.296736  0.431034  0.303030  0.322581  0.416667   \n",
       "3  0.161290  0.636943  0.228833  0.154560  0.636943  0.266667  0.142857   \n",
       "4  0.066667  0.813008  0.139665  0.070323  0.819672  0.153846  0.076923   \n",
       "5  0.263158  0.500000  0.278552  0.242131  0.487805  0.303030  0.250000   \n",
       "6  0.263158  0.512821  0.278552  0.229885  0.500000  0.312500  0.230947   \n",
       "7  0.606061  0.174520  0.257732  0.588235  0.181818  0.277778  0.588235   \n",
       "8  0.208333  0.561798  0.275482  0.182149  0.555556  0.303030  0.181818   \n",
       "9  0.606061  0.202429  0.249377  0.568182  0.200000  0.266667  0.578035   \n",
       "\n",
       "        VCH       VCD       VCA      PSCH      PSCD      PSCA  HomeWi_best  \\\n",
       "0  0.160000  0.263158  0.598802  0.169492  0.268097  0.584795        0.451   \n",
       "1  0.606061  0.250000  0.173913  0.613497  0.227273  0.178253        0.576   \n",
       "2  0.285714  0.303030  0.434783  0.277778  0.305810  0.436681        0.741   \n",
       "3  0.636943  0.230947  0.153846  0.666667  0.216920  0.135135        0.430   \n",
       "4  0.819672  0.142857  0.066667  0.819672  0.132450  0.067797        0.730   \n",
       "5  0.487805  0.277778  0.256410  0.497512  0.283286  0.239808        0.555   \n",
       "6  0.512821  0.285714  0.238095  0.507614  0.275482  0.238095        0.736   \n",
       "7  0.173913  0.266667  0.588235  0.173913  0.256410  0.591716        0.802   \n",
       "8  0.555556  0.277778  0.192308  0.574713  0.268817  0.176991        0.460   \n",
       "9  0.200000  0.250000  0.578035  0.180832  0.247525  0.591716        0.491   \n",
       "\n",
       "   HomeWi_pred  B365_best  B365_pred   BW_best  BW_pred   IW_best  IW_pred  \\\n",
       "0            1   0.598802          0  0.617284        0  0.571429        0   \n",
       "1            1   0.606061          0  0.617284        0  0.606061        0   \n",
       "2            1   0.420168          0  0.425532        0  0.416667        0   \n",
       "3            0   0.653595          1  0.653595        1  0.645161        1   \n",
       "4            0   0.819672          0  0.833333        0  0.833333        0   \n",
       "5            0   0.500000          0  0.500000        0  0.500000        0   \n",
       "6            0   0.512821          0  0.512821        0  0.500000        0   \n",
       "7            1   0.588235          0  0.606061        0  0.606061        0   \n",
       "8            1   0.555556          0  0.561798        0  0.571429        0   \n",
       "9            1   0.578035          1  0.581395        1  0.606061        1   \n",
       "\n",
       "    PS_best  PS_pred   WH_best  WH_pred   VC_best  VC_pred  PSC_best  PSC_pred  \n",
       "0  0.595238        0  0.598802        0  0.598802        0  0.584795         0  \n",
       "1  0.613497        0  0.598802        0  0.606061        0  0.613497         0  \n",
       "2  0.431034        0  0.416667        0  0.434783        0  0.436681         0  \n",
       "3  0.636943        1  0.636943        1  0.636943        1  0.666667         1  \n",
       "4  0.813008        0  0.819672        0  0.819672        0  0.819672         0  \n",
       "5  0.500000        0  0.487805        0  0.487805        0  0.497512         0  \n",
       "6  0.512821        0  0.500000        0  0.512821        0  0.507614         0  \n",
       "7  0.588235        0  0.588235        0  0.588235        0  0.591716         0  \n",
       "8  0.561798        0  0.555556        0  0.555556        0  0.574713         0  \n",
       "9  0.568182        1  0.578035        1  0.578035        1  0.591716         1  "
      ]
     },
     "execution_count": 212,
     "metadata": {},
     "output_type": "execute_result"
    }
   ],
   "source": [
    "df_odds_probs_clean.head(10)"
   ]
  },
  {
   "cell_type": "code",
   "execution_count": 198,
   "metadata": {
    "ExecuteTime": {
     "end_time": "2019-09-12T20:08:49.625618Z",
     "start_time": "2019-09-12T20:08:48.963764Z"
    },
    "hidden": true
   },
   "outputs": [
    {
     "name": "stderr",
     "output_type": "stream",
     "text": [
      "/anaconda3/lib/python3.7/site-packages/numpy/core/fromnumeric.py:51: FutureWarning: 'argmax' is deprecated, use 'idxmax' instead. The behavior of 'argmax'\n",
      "will be corrected to return the positional maximum in the future.\n",
      "Use 'series.values.argmax' to get the position of the maximum now.\n",
      "  return getattr(obj, method)(*args, **kwds)\n"
     ]
    },
    {
     "data": {
      "text/plain": [
       "0.5851485148514851"
      ]
     },
     "execution_count": 198,
     "metadata": {},
     "output_type": "execute_result"
    }
   ],
   "source": [
    "checkywecky = []\n",
    "for i in range(len(df_odds_probs_clean)):\n",
    "    checkywecky.append(np.argmax(df_odds_probs_clean[['B365H', 'B365D', 'B365A']].iloc[i]))\n",
    "\n",
    "sum([1 if j==n else 0 for j,n in \n",
    "     zip([0 if i=='B365H' else 1 if i=='B365A' else 2 for i in checkywecky], \n",
    "         df_odds_probs_clean['FTR'])])/1010"
   ]
  },
  {
   "cell_type": "code",
   "execution_count": 199,
   "metadata": {
    "ExecuteTime": {
     "end_time": "2019-09-12T20:08:49.636254Z",
     "start_time": "2019-09-12T20:08:49.628049Z"
    },
    "hidden": true
   },
   "outputs": [
    {
     "data": {
      "text/plain": [
       "Index(['HomeWin', 'Draw', 'AwayWin', 'B365H', 'B365D', 'B365A', 'BWH', 'BWD',\n",
       "       'BWA', 'IWH', 'IWD', 'IWA', 'PSH', 'PSD', 'PSA', 'WHH', 'WHD', 'WHA',\n",
       "       'VCH', 'VCD', 'VCA', 'PSCH', 'PSCD', 'PSCA'],\n",
       "      dtype='object')"
      ]
     },
     "execution_count": 199,
     "metadata": {},
     "output_type": "execute_result"
    }
   ],
   "source": [
    "cols"
   ]
  },
  {
   "cell_type": "code",
   "execution_count": 200,
   "metadata": {
    "ExecuteTime": {
     "end_time": "2019-09-12T20:08:55.266290Z",
     "start_time": "2019-09-12T20:08:49.638631Z"
    },
    "hidden": true
   },
   "outputs": [
    {
     "name": "stdout",
     "output_type": "stream",
     "text": [
      "0.4396039603960396\n",
      "0.5851485148514851\n",
      "0.5841584158415841\n",
      "0.5881188118811881\n",
      "0.5831683168316831\n",
      "0.5861386138613861\n",
      "0.5841584158415841\n",
      "0.5811881188118811\n"
     ]
    }
   ],
   "source": [
    "# Using BC Predictions\n",
    "\n",
    "for col in range(0,24,3):\n",
    "    checkywecky = []\n",
    "    for i in range(len(df_odds_probs_clean)):\n",
    "        checkywecky.append(np.argmax(df_odds_probs_clean[[cols[col], cols[col+1], cols[col+2]]].iloc[i]))\n",
    "        \n",
    "    print(sum([1 if j==n else 0 for j,n in \n",
    "     zip([0 if i==cols[col] else 1 if i==cols[col+2] else 2 for i in checkywecky], \n",
    "         df_odds_probs_clean['FTR'])])/1010)"
   ]
  },
  {
   "cell_type": "code",
   "execution_count": 201,
   "metadata": {
    "ExecuteTime": {
     "end_time": "2019-09-12T20:08:56.234427Z",
     "start_time": "2019-09-12T20:08:55.280857Z"
    },
    "hidden": true
   },
   "outputs": [
    {
     "name": "stdout",
     "output_type": "stream",
     "text": [
      "{0, 1, 2}\n",
      "{0, 1}\n",
      "{0, 1}\n",
      "{0, 1}\n",
      "{0, 1}\n",
      "{0, 1}\n",
      "{0, 1}\n",
      "{0, 1}\n"
     ]
    }
   ],
   "source": [
    "for col in range(0,24,3):\n",
    "    list_lists = []\n",
    "    for index, row in odds_probs.iterrows():\n",
    "        list_lists.append(list((row[cols[col]], row[cols[col+1]], row[cols[col+2]])))\n",
    "    \n",
    "    the_best = []\n",
    "    positions = []\n",
    "    \n",
    "    for pos in list_lists:\n",
    "        \n",
    "        the_best.append(max(pos))\n",
    "        \n",
    "        if np.argmax(pos) == 0:\n",
    "            positions.append(0)\n",
    "            \n",
    "        elif np.argmax(pos) == 1:\n",
    "            positions.append(2)\n",
    "            \n",
    "        else:\n",
    "            positions.append(1)\n",
    "    \n",
    "    print(set(positions))\n",
    "    accurate_guesses = []\n",
    "    for pred, actual in zip(df_odds_probs_clean['FTR'], positions):\n",
    "        if pred == actual:\n",
    "            accurate_guesses.append(1)\n",
    "        else:\n",
    "            accurate_guesses.append(0)\n",
    "\n",
    "    df_odds_probs_clean[str(cols[col][:-1]) + '_best'] = the_best\n",
    "    df_odds_probs_clean[str(cols[col][:-1]) + '_pred'] = accurate_guesses"
   ]
  },
  {
   "cell_type": "code",
   "execution_count": 202,
   "metadata": {
    "ExecuteTime": {
     "end_time": "2019-09-12T20:08:56.247280Z",
     "start_time": "2019-09-12T20:08:56.236561Z"
    },
    "hidden": true
   },
   "outputs": [],
   "source": [
    "pd.options.display.max_columns = 100"
   ]
  },
  {
   "cell_type": "code",
   "execution_count": 203,
   "metadata": {
    "ExecuteTime": {
     "end_time": "2019-09-12T20:08:56.275294Z",
     "start_time": "2019-09-12T20:08:56.250907Z"
    },
    "hidden": true
   },
   "outputs": [
    {
     "data": {
      "text/html": [
       "<div>\n",
       "<style scoped>\n",
       "    .dataframe tbody tr th:only-of-type {\n",
       "        vertical-align: middle;\n",
       "    }\n",
       "\n",
       "    .dataframe tbody tr th {\n",
       "        vertical-align: top;\n",
       "    }\n",
       "\n",
       "    .dataframe thead th {\n",
       "        text-align: right;\n",
       "    }\n",
       "</style>\n",
       "<table border=\"1\" class=\"dataframe\">\n",
       "  <thead>\n",
       "    <tr style=\"text-align: right;\">\n",
       "      <th></th>\n",
       "      <th>HomeWin</th>\n",
       "      <th>AwayWin</th>\n",
       "      <th>Draw</th>\n",
       "    </tr>\n",
       "  </thead>\n",
       "  <tbody>\n",
       "    <tr>\n",
       "      <th>0</th>\n",
       "      <td>0.485320</td>\n",
       "      <td>0.274891</td>\n",
       "      <td>0.239789</td>\n",
       "    </tr>\n",
       "    <tr>\n",
       "      <th>1</th>\n",
       "      <td>0.485320</td>\n",
       "      <td>0.274891</td>\n",
       "      <td>0.239789</td>\n",
       "    </tr>\n",
       "    <tr>\n",
       "      <th>2</th>\n",
       "      <td>0.485241</td>\n",
       "      <td>0.275007</td>\n",
       "      <td>0.239752</td>\n",
       "    </tr>\n",
       "    <tr>\n",
       "      <th>3</th>\n",
       "      <td>0.485320</td>\n",
       "      <td>0.274891</td>\n",
       "      <td>0.239789</td>\n",
       "    </tr>\n",
       "    <tr>\n",
       "      <th>4</th>\n",
       "      <td>0.485320</td>\n",
       "      <td>0.274891</td>\n",
       "      <td>0.239789</td>\n",
       "    </tr>\n",
       "    <tr>\n",
       "      <th>5</th>\n",
       "      <td>0.484740</td>\n",
       "      <td>0.275485</td>\n",
       "      <td>0.239775</td>\n",
       "    </tr>\n",
       "    <tr>\n",
       "      <th>6</th>\n",
       "      <td>0.485320</td>\n",
       "      <td>0.274891</td>\n",
       "      <td>0.239789</td>\n",
       "    </tr>\n",
       "    <tr>\n",
       "      <th>7</th>\n",
       "      <td>0.485320</td>\n",
       "      <td>0.274891</td>\n",
       "      <td>0.239789</td>\n",
       "    </tr>\n",
       "    <tr>\n",
       "      <th>8</th>\n",
       "      <td>0.485320</td>\n",
       "      <td>0.274891</td>\n",
       "      <td>0.239789</td>\n",
       "    </tr>\n",
       "    <tr>\n",
       "      <th>9</th>\n",
       "      <td>0.485320</td>\n",
       "      <td>0.274891</td>\n",
       "      <td>0.239789</td>\n",
       "    </tr>\n",
       "    <tr>\n",
       "      <th>10</th>\n",
       "      <td>0.485320</td>\n",
       "      <td>0.274891</td>\n",
       "      <td>0.239789</td>\n",
       "    </tr>\n",
       "    <tr>\n",
       "      <th>11</th>\n",
       "      <td>0.485320</td>\n",
       "      <td>0.274891</td>\n",
       "      <td>0.239789</td>\n",
       "    </tr>\n",
       "    <tr>\n",
       "      <th>12</th>\n",
       "      <td>0.485320</td>\n",
       "      <td>0.274891</td>\n",
       "      <td>0.239789</td>\n",
       "    </tr>\n",
       "    <tr>\n",
       "      <th>13</th>\n",
       "      <td>0.485320</td>\n",
       "      <td>0.274891</td>\n",
       "      <td>0.239789</td>\n",
       "    </tr>\n",
       "    <tr>\n",
       "      <th>14</th>\n",
       "      <td>0.485320</td>\n",
       "      <td>0.274891</td>\n",
       "      <td>0.239789</td>\n",
       "    </tr>\n",
       "    <tr>\n",
       "      <th>15</th>\n",
       "      <td>0.485320</td>\n",
       "      <td>0.274891</td>\n",
       "      <td>0.239789</td>\n",
       "    </tr>\n",
       "    <tr>\n",
       "      <th>16</th>\n",
       "      <td>0.485320</td>\n",
       "      <td>0.274891</td>\n",
       "      <td>0.239789</td>\n",
       "    </tr>\n",
       "    <tr>\n",
       "      <th>17</th>\n",
       "      <td>0.485320</td>\n",
       "      <td>0.274891</td>\n",
       "      <td>0.239789</td>\n",
       "    </tr>\n",
       "    <tr>\n",
       "      <th>18</th>\n",
       "      <td>0.485320</td>\n",
       "      <td>0.274891</td>\n",
       "      <td>0.239789</td>\n",
       "    </tr>\n",
       "    <tr>\n",
       "      <th>19</th>\n",
       "      <td>0.731215</td>\n",
       "      <td>0.054075</td>\n",
       "      <td>0.214709</td>\n",
       "    </tr>\n",
       "    <tr>\n",
       "      <th>20</th>\n",
       "      <td>0.485320</td>\n",
       "      <td>0.274891</td>\n",
       "      <td>0.239789</td>\n",
       "    </tr>\n",
       "    <tr>\n",
       "      <th>21</th>\n",
       "      <td>0.485320</td>\n",
       "      <td>0.274891</td>\n",
       "      <td>0.239789</td>\n",
       "    </tr>\n",
       "    <tr>\n",
       "      <th>22</th>\n",
       "      <td>0.485320</td>\n",
       "      <td>0.274891</td>\n",
       "      <td>0.239789</td>\n",
       "    </tr>\n",
       "    <tr>\n",
       "      <th>23</th>\n",
       "      <td>0.485320</td>\n",
       "      <td>0.274891</td>\n",
       "      <td>0.239789</td>\n",
       "    </tr>\n",
       "    <tr>\n",
       "      <th>24</th>\n",
       "      <td>0.485320</td>\n",
       "      <td>0.274891</td>\n",
       "      <td>0.239789</td>\n",
       "    </tr>\n",
       "    <tr>\n",
       "      <th>25</th>\n",
       "      <td>0.485320</td>\n",
       "      <td>0.274891</td>\n",
       "      <td>0.239789</td>\n",
       "    </tr>\n",
       "    <tr>\n",
       "      <th>26</th>\n",
       "      <td>0.485320</td>\n",
       "      <td>0.274891</td>\n",
       "      <td>0.239789</td>\n",
       "    </tr>\n",
       "    <tr>\n",
       "      <th>27</th>\n",
       "      <td>0.485320</td>\n",
       "      <td>0.274891</td>\n",
       "      <td>0.239789</td>\n",
       "    </tr>\n",
       "    <tr>\n",
       "      <th>28</th>\n",
       "      <td>0.485320</td>\n",
       "      <td>0.274891</td>\n",
       "      <td>0.239789</td>\n",
       "    </tr>\n",
       "    <tr>\n",
       "      <th>29</th>\n",
       "      <td>0.409430</td>\n",
       "      <td>0.352222</td>\n",
       "      <td>0.238348</td>\n",
       "    </tr>\n",
       "    <tr>\n",
       "      <th>...</th>\n",
       "      <td>...</td>\n",
       "      <td>...</td>\n",
       "      <td>...</td>\n",
       "    </tr>\n",
       "    <tr>\n",
       "      <th>980</th>\n",
       "      <td>0.485320</td>\n",
       "      <td>0.274891</td>\n",
       "      <td>0.239789</td>\n",
       "    </tr>\n",
       "    <tr>\n",
       "      <th>981</th>\n",
       "      <td>0.485320</td>\n",
       "      <td>0.274891</td>\n",
       "      <td>0.239789</td>\n",
       "    </tr>\n",
       "    <tr>\n",
       "      <th>982</th>\n",
       "      <td>0.485320</td>\n",
       "      <td>0.274891</td>\n",
       "      <td>0.239789</td>\n",
       "    </tr>\n",
       "    <tr>\n",
       "      <th>983</th>\n",
       "      <td>0.548781</td>\n",
       "      <td>0.227164</td>\n",
       "      <td>0.224055</td>\n",
       "    </tr>\n",
       "    <tr>\n",
       "      <th>984</th>\n",
       "      <td>0.485392</td>\n",
       "      <td>0.275371</td>\n",
       "      <td>0.239237</td>\n",
       "    </tr>\n",
       "    <tr>\n",
       "      <th>985</th>\n",
       "      <td>0.485320</td>\n",
       "      <td>0.274891</td>\n",
       "      <td>0.239789</td>\n",
       "    </tr>\n",
       "    <tr>\n",
       "      <th>986</th>\n",
       "      <td>0.485439</td>\n",
       "      <td>0.274916</td>\n",
       "      <td>0.239645</td>\n",
       "    </tr>\n",
       "    <tr>\n",
       "      <th>987</th>\n",
       "      <td>0.485320</td>\n",
       "      <td>0.274891</td>\n",
       "      <td>0.239789</td>\n",
       "    </tr>\n",
       "    <tr>\n",
       "      <th>988</th>\n",
       "      <td>0.485320</td>\n",
       "      <td>0.274891</td>\n",
       "      <td>0.239789</td>\n",
       "    </tr>\n",
       "    <tr>\n",
       "      <th>989</th>\n",
       "      <td>0.541968</td>\n",
       "      <td>0.134481</td>\n",
       "      <td>0.323550</td>\n",
       "    </tr>\n",
       "    <tr>\n",
       "      <th>990</th>\n",
       "      <td>0.485320</td>\n",
       "      <td>0.274891</td>\n",
       "      <td>0.239789</td>\n",
       "    </tr>\n",
       "    <tr>\n",
       "      <th>991</th>\n",
       "      <td>0.485320</td>\n",
       "      <td>0.274891</td>\n",
       "      <td>0.239789</td>\n",
       "    </tr>\n",
       "    <tr>\n",
       "      <th>992</th>\n",
       "      <td>0.485320</td>\n",
       "      <td>0.274891</td>\n",
       "      <td>0.239789</td>\n",
       "    </tr>\n",
       "    <tr>\n",
       "      <th>993</th>\n",
       "      <td>0.485320</td>\n",
       "      <td>0.274891</td>\n",
       "      <td>0.239789</td>\n",
       "    </tr>\n",
       "    <tr>\n",
       "      <th>994</th>\n",
       "      <td>0.485291</td>\n",
       "      <td>0.274921</td>\n",
       "      <td>0.239787</td>\n",
       "    </tr>\n",
       "    <tr>\n",
       "      <th>995</th>\n",
       "      <td>0.485320</td>\n",
       "      <td>0.274891</td>\n",
       "      <td>0.239789</td>\n",
       "    </tr>\n",
       "    <tr>\n",
       "      <th>996</th>\n",
       "      <td>0.485320</td>\n",
       "      <td>0.274891</td>\n",
       "      <td>0.239789</td>\n",
       "    </tr>\n",
       "    <tr>\n",
       "      <th>997</th>\n",
       "      <td>0.485320</td>\n",
       "      <td>0.274891</td>\n",
       "      <td>0.239789</td>\n",
       "    </tr>\n",
       "    <tr>\n",
       "      <th>998</th>\n",
       "      <td>0.485320</td>\n",
       "      <td>0.274891</td>\n",
       "      <td>0.239789</td>\n",
       "    </tr>\n",
       "    <tr>\n",
       "      <th>999</th>\n",
       "      <td>0.485320</td>\n",
       "      <td>0.274891</td>\n",
       "      <td>0.239789</td>\n",
       "    </tr>\n",
       "    <tr>\n",
       "      <th>1000</th>\n",
       "      <td>0.485320</td>\n",
       "      <td>0.274891</td>\n",
       "      <td>0.239789</td>\n",
       "    </tr>\n",
       "    <tr>\n",
       "      <th>1001</th>\n",
       "      <td>0.485320</td>\n",
       "      <td>0.274891</td>\n",
       "      <td>0.239789</td>\n",
       "    </tr>\n",
       "    <tr>\n",
       "      <th>1002</th>\n",
       "      <td>0.485320</td>\n",
       "      <td>0.274891</td>\n",
       "      <td>0.239789</td>\n",
       "    </tr>\n",
       "    <tr>\n",
       "      <th>1003</th>\n",
       "      <td>0.485320</td>\n",
       "      <td>0.274891</td>\n",
       "      <td>0.239789</td>\n",
       "    </tr>\n",
       "    <tr>\n",
       "      <th>1004</th>\n",
       "      <td>0.485320</td>\n",
       "      <td>0.274891</td>\n",
       "      <td>0.239789</td>\n",
       "    </tr>\n",
       "    <tr>\n",
       "      <th>1005</th>\n",
       "      <td>0.485320</td>\n",
       "      <td>0.274891</td>\n",
       "      <td>0.239789</td>\n",
       "    </tr>\n",
       "    <tr>\n",
       "      <th>1006</th>\n",
       "      <td>0.485320</td>\n",
       "      <td>0.274891</td>\n",
       "      <td>0.239789</td>\n",
       "    </tr>\n",
       "    <tr>\n",
       "      <th>1007</th>\n",
       "      <td>0.485320</td>\n",
       "      <td>0.274891</td>\n",
       "      <td>0.239789</td>\n",
       "    </tr>\n",
       "    <tr>\n",
       "      <th>1008</th>\n",
       "      <td>0.485320</td>\n",
       "      <td>0.274891</td>\n",
       "      <td>0.239789</td>\n",
       "    </tr>\n",
       "    <tr>\n",
       "      <th>1009</th>\n",
       "      <td>0.484649</td>\n",
       "      <td>0.275540</td>\n",
       "      <td>0.239811</td>\n",
       "    </tr>\n",
       "  </tbody>\n",
       "</table>\n",
       "<p>1010 rows × 3 columns</p>\n",
       "</div>"
      ],
      "text/plain": [
       "       HomeWin   AwayWin      Draw\n",
       "0     0.485320  0.274891  0.239789\n",
       "1     0.485320  0.274891  0.239789\n",
       "2     0.485241  0.275007  0.239752\n",
       "3     0.485320  0.274891  0.239789\n",
       "4     0.485320  0.274891  0.239789\n",
       "5     0.484740  0.275485  0.239775\n",
       "6     0.485320  0.274891  0.239789\n",
       "7     0.485320  0.274891  0.239789\n",
       "8     0.485320  0.274891  0.239789\n",
       "9     0.485320  0.274891  0.239789\n",
       "10    0.485320  0.274891  0.239789\n",
       "11    0.485320  0.274891  0.239789\n",
       "12    0.485320  0.274891  0.239789\n",
       "13    0.485320  0.274891  0.239789\n",
       "14    0.485320  0.274891  0.239789\n",
       "15    0.485320  0.274891  0.239789\n",
       "16    0.485320  0.274891  0.239789\n",
       "17    0.485320  0.274891  0.239789\n",
       "18    0.485320  0.274891  0.239789\n",
       "19    0.731215  0.054075  0.214709\n",
       "20    0.485320  0.274891  0.239789\n",
       "21    0.485320  0.274891  0.239789\n",
       "22    0.485320  0.274891  0.239789\n",
       "23    0.485320  0.274891  0.239789\n",
       "24    0.485320  0.274891  0.239789\n",
       "25    0.485320  0.274891  0.239789\n",
       "26    0.485320  0.274891  0.239789\n",
       "27    0.485320  0.274891  0.239789\n",
       "28    0.485320  0.274891  0.239789\n",
       "29    0.409430  0.352222  0.238348\n",
       "...        ...       ...       ...\n",
       "980   0.485320  0.274891  0.239789\n",
       "981   0.485320  0.274891  0.239789\n",
       "982   0.485320  0.274891  0.239789\n",
       "983   0.548781  0.227164  0.224055\n",
       "984   0.485392  0.275371  0.239237\n",
       "985   0.485320  0.274891  0.239789\n",
       "986   0.485439  0.274916  0.239645\n",
       "987   0.485320  0.274891  0.239789\n",
       "988   0.485320  0.274891  0.239789\n",
       "989   0.541968  0.134481  0.323550\n",
       "990   0.485320  0.274891  0.239789\n",
       "991   0.485320  0.274891  0.239789\n",
       "992   0.485320  0.274891  0.239789\n",
       "993   0.485320  0.274891  0.239789\n",
       "994   0.485291  0.274921  0.239787\n",
       "995   0.485320  0.274891  0.239789\n",
       "996   0.485320  0.274891  0.239789\n",
       "997   0.485320  0.274891  0.239789\n",
       "998   0.485320  0.274891  0.239789\n",
       "999   0.485320  0.274891  0.239789\n",
       "1000  0.485320  0.274891  0.239789\n",
       "1001  0.485320  0.274891  0.239789\n",
       "1002  0.485320  0.274891  0.239789\n",
       "1003  0.485320  0.274891  0.239789\n",
       "1004  0.485320  0.274891  0.239789\n",
       "1005  0.485320  0.274891  0.239789\n",
       "1006  0.485320  0.274891  0.239789\n",
       "1007  0.485320  0.274891  0.239789\n",
       "1008  0.485320  0.274891  0.239789\n",
       "1009  0.484649  0.275540  0.239811\n",
       "\n",
       "[1010 rows x 3 columns]"
      ]
     },
     "execution_count": 203,
     "metadata": {},
     "output_type": "execute_result"
    }
   ],
   "source": [
    "svc_preds"
   ]
  },
  {
   "cell_type": "code",
   "execution_count": 204,
   "metadata": {
    "ExecuteTime": {
     "end_time": "2019-09-12T20:08:56.352971Z",
     "start_time": "2019-09-12T20:08:56.281745Z"
    },
    "hidden": true
   },
   "outputs": [
    {
     "data": {
      "text/html": [
       "<div>\n",
       "<style scoped>\n",
       "    .dataframe tbody tr th:only-of-type {\n",
       "        vertical-align: middle;\n",
       "    }\n",
       "\n",
       "    .dataframe tbody tr th {\n",
       "        vertical-align: top;\n",
       "    }\n",
       "\n",
       "    .dataframe thead th {\n",
       "        text-align: right;\n",
       "    }\n",
       "</style>\n",
       "<table border=\"1\" class=\"dataframe\">\n",
       "  <thead>\n",
       "    <tr style=\"text-align: right;\">\n",
       "      <th></th>\n",
       "      <th>team1</th>\n",
       "      <th>team2</th>\n",
       "      <th>HomeWin</th>\n",
       "      <th>Draw</th>\n",
       "      <th>AwayWin</th>\n",
       "      <th>FTR</th>\n",
       "      <th>B365H</th>\n",
       "      <th>B365D</th>\n",
       "      <th>B365A</th>\n",
       "      <th>BWH</th>\n",
       "      <th>BWD</th>\n",
       "      <th>BWA</th>\n",
       "      <th>IWH</th>\n",
       "      <th>IWD</th>\n",
       "      <th>IWA</th>\n",
       "      <th>PSH</th>\n",
       "      <th>PSD</th>\n",
       "      <th>PSA</th>\n",
       "      <th>WHH</th>\n",
       "      <th>WHD</th>\n",
       "      <th>WHA</th>\n",
       "      <th>VCH</th>\n",
       "      <th>VCD</th>\n",
       "      <th>VCA</th>\n",
       "      <th>PSCH</th>\n",
       "      <th>PSCD</th>\n",
       "      <th>PSCA</th>\n",
       "      <th>HomeWi_best</th>\n",
       "      <th>HomeWi_pred</th>\n",
       "      <th>B365_best</th>\n",
       "      <th>B365_pred</th>\n",
       "      <th>BW_best</th>\n",
       "      <th>BW_pred</th>\n",
       "      <th>IW_best</th>\n",
       "      <th>IW_pred</th>\n",
       "      <th>PS_best</th>\n",
       "      <th>PS_pred</th>\n",
       "      <th>WH_best</th>\n",
       "      <th>WH_pred</th>\n",
       "      <th>VC_best</th>\n",
       "      <th>VC_pred</th>\n",
       "      <th>PSC_best</th>\n",
       "      <th>PSC_pred</th>\n",
       "    </tr>\n",
       "  </thead>\n",
       "  <tbody>\n",
       "    <tr>\n",
       "      <th>0</th>\n",
       "      <td>Burnley</td>\n",
       "      <td>Everton</td>\n",
       "      <td>0.451</td>\n",
       "      <td>0.181</td>\n",
       "      <td>0.367</td>\n",
       "      <td>0</td>\n",
       "      <td>0.166667</td>\n",
       "      <td>0.263158</td>\n",
       "      <td>0.598802</td>\n",
       "      <td>0.166667</td>\n",
       "      <td>0.263158</td>\n",
       "      <td>0.617284</td>\n",
       "      <td>0.208333</td>\n",
       "      <td>0.277778</td>\n",
       "      <td>0.571429</td>\n",
       "      <td>0.165289</td>\n",
       "      <td>0.258398</td>\n",
       "      <td>0.595238</td>\n",
       "      <td>0.166667</td>\n",
       "      <td>0.277778</td>\n",
       "      <td>0.598802</td>\n",
       "      <td>0.160000</td>\n",
       "      <td>0.263158</td>\n",
       "      <td>0.598802</td>\n",
       "      <td>0.169492</td>\n",
       "      <td>0.268097</td>\n",
       "      <td>0.584795</td>\n",
       "      <td>0.451</td>\n",
       "      <td>1</td>\n",
       "      <td>0.598802</td>\n",
       "      <td>0</td>\n",
       "      <td>0.617284</td>\n",
       "      <td>0</td>\n",
       "      <td>0.571429</td>\n",
       "      <td>0</td>\n",
       "      <td>0.595238</td>\n",
       "      <td>0</td>\n",
       "      <td>0.598802</td>\n",
       "      <td>0</td>\n",
       "      <td>0.598802</td>\n",
       "      <td>0</td>\n",
       "      <td>0.584795</td>\n",
       "      <td>0</td>\n",
       "    </tr>\n",
       "    <tr>\n",
       "      <th>1</th>\n",
       "      <td>Bournemouth</td>\n",
       "      <td>Sunderland</td>\n",
       "      <td>0.219</td>\n",
       "      <td>0.204</td>\n",
       "      <td>0.576</td>\n",
       "      <td>1</td>\n",
       "      <td>0.606061</td>\n",
       "      <td>0.238095</td>\n",
       "      <td>0.181818</td>\n",
       "      <td>0.617284</td>\n",
       "      <td>0.256410</td>\n",
       "      <td>0.173913</td>\n",
       "      <td>0.606061</td>\n",
       "      <td>0.263158</td>\n",
       "      <td>0.188679</td>\n",
       "      <td>0.613497</td>\n",
       "      <td>0.234192</td>\n",
       "      <td>0.173010</td>\n",
       "      <td>0.598802</td>\n",
       "      <td>0.277778</td>\n",
       "      <td>0.166667</td>\n",
       "      <td>0.606061</td>\n",
       "      <td>0.250000</td>\n",
       "      <td>0.173913</td>\n",
       "      <td>0.613497</td>\n",
       "      <td>0.227273</td>\n",
       "      <td>0.178253</td>\n",
       "      <td>0.576</td>\n",
       "      <td>1</td>\n",
       "      <td>0.606061</td>\n",
       "      <td>0</td>\n",
       "      <td>0.617284</td>\n",
       "      <td>0</td>\n",
       "      <td>0.606061</td>\n",
       "      <td>0</td>\n",
       "      <td>0.613497</td>\n",
       "      <td>0</td>\n",
       "      <td>0.598802</td>\n",
       "      <td>0</td>\n",
       "      <td>0.606061</td>\n",
       "      <td>0</td>\n",
       "      <td>0.613497</td>\n",
       "      <td>0</td>\n",
       "    </tr>\n",
       "    <tr>\n",
       "      <th>2</th>\n",
       "      <td>Burnley</td>\n",
       "      <td>Crystal Palace</td>\n",
       "      <td>0.741</td>\n",
       "      <td>0.126</td>\n",
       "      <td>0.133</td>\n",
       "      <td>0</td>\n",
       "      <td>0.303030</td>\n",
       "      <td>0.303030</td>\n",
       "      <td>0.420168</td>\n",
       "      <td>0.312500</td>\n",
       "      <td>0.307692</td>\n",
       "      <td>0.425532</td>\n",
       "      <td>0.338983</td>\n",
       "      <td>0.303030</td>\n",
       "      <td>0.416667</td>\n",
       "      <td>0.292398</td>\n",
       "      <td>0.296736</td>\n",
       "      <td>0.431034</td>\n",
       "      <td>0.303030</td>\n",
       "      <td>0.322581</td>\n",
       "      <td>0.416667</td>\n",
       "      <td>0.285714</td>\n",
       "      <td>0.303030</td>\n",
       "      <td>0.434783</td>\n",
       "      <td>0.277778</td>\n",
       "      <td>0.305810</td>\n",
       "      <td>0.436681</td>\n",
       "      <td>0.741</td>\n",
       "      <td>1</td>\n",
       "      <td>0.420168</td>\n",
       "      <td>0</td>\n",
       "      <td>0.425532</td>\n",
       "      <td>0</td>\n",
       "      <td>0.416667</td>\n",
       "      <td>0</td>\n",
       "      <td>0.431034</td>\n",
       "      <td>0</td>\n",
       "      <td>0.416667</td>\n",
       "      <td>0</td>\n",
       "      <td>0.434783</td>\n",
       "      <td>0</td>\n",
       "      <td>0.436681</td>\n",
       "      <td>0</td>\n",
       "    </tr>\n",
       "    <tr>\n",
       "      <th>3</th>\n",
       "      <td>Chelsea</td>\n",
       "      <td>Everton</td>\n",
       "      <td>0.416</td>\n",
       "      <td>0.154</td>\n",
       "      <td>0.430</td>\n",
       "      <td>0</td>\n",
       "      <td>0.653595</td>\n",
       "      <td>0.230947</td>\n",
       "      <td>0.142857</td>\n",
       "      <td>0.653595</td>\n",
       "      <td>0.238095</td>\n",
       "      <td>0.160000</td>\n",
       "      <td>0.645161</td>\n",
       "      <td>0.250000</td>\n",
       "      <td>0.161290</td>\n",
       "      <td>0.636943</td>\n",
       "      <td>0.228833</td>\n",
       "      <td>0.154560</td>\n",
       "      <td>0.636943</td>\n",
       "      <td>0.266667</td>\n",
       "      <td>0.142857</td>\n",
       "      <td>0.636943</td>\n",
       "      <td>0.230947</td>\n",
       "      <td>0.153846</td>\n",
       "      <td>0.666667</td>\n",
       "      <td>0.216920</td>\n",
       "      <td>0.135135</td>\n",
       "      <td>0.430</td>\n",
       "      <td>0</td>\n",
       "      <td>0.653595</td>\n",
       "      <td>1</td>\n",
       "      <td>0.653595</td>\n",
       "      <td>1</td>\n",
       "      <td>0.645161</td>\n",
       "      <td>1</td>\n",
       "      <td>0.636943</td>\n",
       "      <td>1</td>\n",
       "      <td>0.636943</td>\n",
       "      <td>1</td>\n",
       "      <td>0.636943</td>\n",
       "      <td>1</td>\n",
       "      <td>0.666667</td>\n",
       "      <td>1</td>\n",
       "    </tr>\n",
       "    <tr>\n",
       "      <th>4</th>\n",
       "      <td>ManCity</td>\n",
       "      <td>Middlesbrough</td>\n",
       "      <td>0.730</td>\n",
       "      <td>0.162</td>\n",
       "      <td>0.108</td>\n",
       "      <td>2</td>\n",
       "      <td>0.819672</td>\n",
       "      <td>0.142857</td>\n",
       "      <td>0.066667</td>\n",
       "      <td>0.833333</td>\n",
       "      <td>0.148148</td>\n",
       "      <td>0.068966</td>\n",
       "      <td>0.833333</td>\n",
       "      <td>0.153846</td>\n",
       "      <td>0.066667</td>\n",
       "      <td>0.813008</td>\n",
       "      <td>0.139665</td>\n",
       "      <td>0.070323</td>\n",
       "      <td>0.819672</td>\n",
       "      <td>0.153846</td>\n",
       "      <td>0.076923</td>\n",
       "      <td>0.819672</td>\n",
       "      <td>0.142857</td>\n",
       "      <td>0.066667</td>\n",
       "      <td>0.819672</td>\n",
       "      <td>0.132450</td>\n",
       "      <td>0.067797</td>\n",
       "      <td>0.730</td>\n",
       "      <td>0</td>\n",
       "      <td>0.819672</td>\n",
       "      <td>0</td>\n",
       "      <td>0.833333</td>\n",
       "      <td>0</td>\n",
       "      <td>0.833333</td>\n",
       "      <td>0</td>\n",
       "      <td>0.813008</td>\n",
       "      <td>0</td>\n",
       "      <td>0.819672</td>\n",
       "      <td>0</td>\n",
       "      <td>0.819672</td>\n",
       "      <td>0</td>\n",
       "      <td>0.819672</td>\n",
       "      <td>0</td>\n",
       "    </tr>\n",
       "    <tr>\n",
       "      <th>5</th>\n",
       "      <td>WestHam</td>\n",
       "      <td>Stoke City</td>\n",
       "      <td>0.325</td>\n",
       "      <td>0.120</td>\n",
       "      <td>0.555</td>\n",
       "      <td>2</td>\n",
       "      <td>0.500000</td>\n",
       "      <td>0.277778</td>\n",
       "      <td>0.250000</td>\n",
       "      <td>0.500000</td>\n",
       "      <td>0.285714</td>\n",
       "      <td>0.263158</td>\n",
       "      <td>0.500000</td>\n",
       "      <td>0.294118</td>\n",
       "      <td>0.263158</td>\n",
       "      <td>0.500000</td>\n",
       "      <td>0.278552</td>\n",
       "      <td>0.242131</td>\n",
       "      <td>0.487805</td>\n",
       "      <td>0.303030</td>\n",
       "      <td>0.250000</td>\n",
       "      <td>0.487805</td>\n",
       "      <td>0.277778</td>\n",
       "      <td>0.256410</td>\n",
       "      <td>0.497512</td>\n",
       "      <td>0.283286</td>\n",
       "      <td>0.239808</td>\n",
       "      <td>0.555</td>\n",
       "      <td>0</td>\n",
       "      <td>0.500000</td>\n",
       "      <td>0</td>\n",
       "      <td>0.500000</td>\n",
       "      <td>0</td>\n",
       "      <td>0.500000</td>\n",
       "      <td>0</td>\n",
       "      <td>0.500000</td>\n",
       "      <td>0</td>\n",
       "      <td>0.487805</td>\n",
       "      <td>0</td>\n",
       "      <td>0.487805</td>\n",
       "      <td>0</td>\n",
       "      <td>0.497512</td>\n",
       "      <td>0</td>\n",
       "    </tr>\n",
       "    <tr>\n",
       "      <th>6</th>\n",
       "      <td>Arsenal</td>\n",
       "      <td>Tottenham Hotspur</td>\n",
       "      <td>0.736</td>\n",
       "      <td>0.209</td>\n",
       "      <td>0.055</td>\n",
       "      <td>2</td>\n",
       "      <td>0.512821</td>\n",
       "      <td>0.277778</td>\n",
       "      <td>0.238095</td>\n",
       "      <td>0.512821</td>\n",
       "      <td>0.277778</td>\n",
       "      <td>0.256410</td>\n",
       "      <td>0.500000</td>\n",
       "      <td>0.294118</td>\n",
       "      <td>0.263158</td>\n",
       "      <td>0.512821</td>\n",
       "      <td>0.278552</td>\n",
       "      <td>0.229885</td>\n",
       "      <td>0.500000</td>\n",
       "      <td>0.312500</td>\n",
       "      <td>0.230947</td>\n",
       "      <td>0.512821</td>\n",
       "      <td>0.285714</td>\n",
       "      <td>0.238095</td>\n",
       "      <td>0.507614</td>\n",
       "      <td>0.275482</td>\n",
       "      <td>0.238095</td>\n",
       "      <td>0.736</td>\n",
       "      <td>0</td>\n",
       "      <td>0.512821</td>\n",
       "      <td>0</td>\n",
       "      <td>0.512821</td>\n",
       "      <td>0</td>\n",
       "      <td>0.500000</td>\n",
       "      <td>0</td>\n",
       "      <td>0.512821</td>\n",
       "      <td>0</td>\n",
       "      <td>0.500000</td>\n",
       "      <td>0</td>\n",
       "      <td>0.512821</td>\n",
       "      <td>0</td>\n",
       "      <td>0.507614</td>\n",
       "      <td>0</td>\n",
       "    </tr>\n",
       "    <tr>\n",
       "      <th>7</th>\n",
       "      <td>HullCity</td>\n",
       "      <td>Southampton</td>\n",
       "      <td>0.802</td>\n",
       "      <td>0.124</td>\n",
       "      <td>0.074</td>\n",
       "      <td>0</td>\n",
       "      <td>0.173913</td>\n",
       "      <td>0.263158</td>\n",
       "      <td>0.588235</td>\n",
       "      <td>0.181818</td>\n",
       "      <td>0.263158</td>\n",
       "      <td>0.606061</td>\n",
       "      <td>0.188679</td>\n",
       "      <td>0.263158</td>\n",
       "      <td>0.606061</td>\n",
       "      <td>0.174520</td>\n",
       "      <td>0.257732</td>\n",
       "      <td>0.588235</td>\n",
       "      <td>0.181818</td>\n",
       "      <td>0.277778</td>\n",
       "      <td>0.588235</td>\n",
       "      <td>0.173913</td>\n",
       "      <td>0.266667</td>\n",
       "      <td>0.588235</td>\n",
       "      <td>0.173913</td>\n",
       "      <td>0.256410</td>\n",
       "      <td>0.591716</td>\n",
       "      <td>0.802</td>\n",
       "      <td>1</td>\n",
       "      <td>0.588235</td>\n",
       "      <td>0</td>\n",
       "      <td>0.606061</td>\n",
       "      <td>0</td>\n",
       "      <td>0.606061</td>\n",
       "      <td>0</td>\n",
       "      <td>0.588235</td>\n",
       "      <td>0</td>\n",
       "      <td>0.588235</td>\n",
       "      <td>0</td>\n",
       "      <td>0.588235</td>\n",
       "      <td>0</td>\n",
       "      <td>0.591716</td>\n",
       "      <td>0</td>\n",
       "    </tr>\n",
       "    <tr>\n",
       "      <th>8</th>\n",
       "      <td>Leicester City</td>\n",
       "      <td>WestBrom</td>\n",
       "      <td>0.390</td>\n",
       "      <td>0.150</td>\n",
       "      <td>0.460</td>\n",
       "      <td>1</td>\n",
       "      <td>0.555556</td>\n",
       "      <td>0.277778</td>\n",
       "      <td>0.190476</td>\n",
       "      <td>0.561798</td>\n",
       "      <td>0.277778</td>\n",
       "      <td>0.210526</td>\n",
       "      <td>0.571429</td>\n",
       "      <td>0.277778</td>\n",
       "      <td>0.208333</td>\n",
       "      <td>0.561798</td>\n",
       "      <td>0.275482</td>\n",
       "      <td>0.182149</td>\n",
       "      <td>0.555556</td>\n",
       "      <td>0.303030</td>\n",
       "      <td>0.181818</td>\n",
       "      <td>0.555556</td>\n",
       "      <td>0.277778</td>\n",
       "      <td>0.192308</td>\n",
       "      <td>0.574713</td>\n",
       "      <td>0.268817</td>\n",
       "      <td>0.176991</td>\n",
       "      <td>0.460</td>\n",
       "      <td>1</td>\n",
       "      <td>0.555556</td>\n",
       "      <td>0</td>\n",
       "      <td>0.561798</td>\n",
       "      <td>0</td>\n",
       "      <td>0.571429</td>\n",
       "      <td>0</td>\n",
       "      <td>0.561798</td>\n",
       "      <td>0</td>\n",
       "      <td>0.555556</td>\n",
       "      <td>0</td>\n",
       "      <td>0.555556</td>\n",
       "      <td>0</td>\n",
       "      <td>0.574713</td>\n",
       "      <td>0</td>\n",
       "    </tr>\n",
       "    <tr>\n",
       "      <th>9</th>\n",
       "      <td>Swansea City</td>\n",
       "      <td>ManUtd</td>\n",
       "      <td>0.328</td>\n",
       "      <td>0.181</td>\n",
       "      <td>0.491</td>\n",
       "      <td>1</td>\n",
       "      <td>0.200000</td>\n",
       "      <td>0.250000</td>\n",
       "      <td>0.578035</td>\n",
       "      <td>0.210526</td>\n",
       "      <td>0.256410</td>\n",
       "      <td>0.581395</td>\n",
       "      <td>0.188679</td>\n",
       "      <td>0.263158</td>\n",
       "      <td>0.606061</td>\n",
       "      <td>0.202429</td>\n",
       "      <td>0.249377</td>\n",
       "      <td>0.568182</td>\n",
       "      <td>0.200000</td>\n",
       "      <td>0.266667</td>\n",
       "      <td>0.578035</td>\n",
       "      <td>0.200000</td>\n",
       "      <td>0.250000</td>\n",
       "      <td>0.578035</td>\n",
       "      <td>0.180832</td>\n",
       "      <td>0.247525</td>\n",
       "      <td>0.591716</td>\n",
       "      <td>0.491</td>\n",
       "      <td>1</td>\n",
       "      <td>0.578035</td>\n",
       "      <td>1</td>\n",
       "      <td>0.581395</td>\n",
       "      <td>1</td>\n",
       "      <td>0.606061</td>\n",
       "      <td>1</td>\n",
       "      <td>0.568182</td>\n",
       "      <td>1</td>\n",
       "      <td>0.578035</td>\n",
       "      <td>1</td>\n",
       "      <td>0.578035</td>\n",
       "      <td>1</td>\n",
       "      <td>0.591716</td>\n",
       "      <td>1</td>\n",
       "    </tr>\n",
       "  </tbody>\n",
       "</table>\n",
       "</div>"
      ],
      "text/plain": [
       "            team1              team2  HomeWin   Draw  AwayWin  FTR     B365H  \\\n",
       "0         Burnley            Everton    0.451  0.181    0.367    0  0.166667   \n",
       "1     Bournemouth         Sunderland    0.219  0.204    0.576    1  0.606061   \n",
       "2         Burnley     Crystal Palace    0.741  0.126    0.133    0  0.303030   \n",
       "3         Chelsea            Everton    0.416  0.154    0.430    0  0.653595   \n",
       "4         ManCity      Middlesbrough    0.730  0.162    0.108    2  0.819672   \n",
       "5         WestHam         Stoke City    0.325  0.120    0.555    2  0.500000   \n",
       "6         Arsenal  Tottenham Hotspur    0.736  0.209    0.055    2  0.512821   \n",
       "7        HullCity        Southampton    0.802  0.124    0.074    0  0.173913   \n",
       "8  Leicester City           WestBrom    0.390  0.150    0.460    1  0.555556   \n",
       "9    Swansea City             ManUtd    0.328  0.181    0.491    1  0.200000   \n",
       "\n",
       "      B365D     B365A       BWH       BWD       BWA       IWH       IWD  \\\n",
       "0  0.263158  0.598802  0.166667  0.263158  0.617284  0.208333  0.277778   \n",
       "1  0.238095  0.181818  0.617284  0.256410  0.173913  0.606061  0.263158   \n",
       "2  0.303030  0.420168  0.312500  0.307692  0.425532  0.338983  0.303030   \n",
       "3  0.230947  0.142857  0.653595  0.238095  0.160000  0.645161  0.250000   \n",
       "4  0.142857  0.066667  0.833333  0.148148  0.068966  0.833333  0.153846   \n",
       "5  0.277778  0.250000  0.500000  0.285714  0.263158  0.500000  0.294118   \n",
       "6  0.277778  0.238095  0.512821  0.277778  0.256410  0.500000  0.294118   \n",
       "7  0.263158  0.588235  0.181818  0.263158  0.606061  0.188679  0.263158   \n",
       "8  0.277778  0.190476  0.561798  0.277778  0.210526  0.571429  0.277778   \n",
       "9  0.250000  0.578035  0.210526  0.256410  0.581395  0.188679  0.263158   \n",
       "\n",
       "        IWA       PSH       PSD       PSA       WHH       WHD       WHA  \\\n",
       "0  0.571429  0.165289  0.258398  0.595238  0.166667  0.277778  0.598802   \n",
       "1  0.188679  0.613497  0.234192  0.173010  0.598802  0.277778  0.166667   \n",
       "2  0.416667  0.292398  0.296736  0.431034  0.303030  0.322581  0.416667   \n",
       "3  0.161290  0.636943  0.228833  0.154560  0.636943  0.266667  0.142857   \n",
       "4  0.066667  0.813008  0.139665  0.070323  0.819672  0.153846  0.076923   \n",
       "5  0.263158  0.500000  0.278552  0.242131  0.487805  0.303030  0.250000   \n",
       "6  0.263158  0.512821  0.278552  0.229885  0.500000  0.312500  0.230947   \n",
       "7  0.606061  0.174520  0.257732  0.588235  0.181818  0.277778  0.588235   \n",
       "8  0.208333  0.561798  0.275482  0.182149  0.555556  0.303030  0.181818   \n",
       "9  0.606061  0.202429  0.249377  0.568182  0.200000  0.266667  0.578035   \n",
       "\n",
       "        VCH       VCD       VCA      PSCH      PSCD      PSCA  HomeWi_best  \\\n",
       "0  0.160000  0.263158  0.598802  0.169492  0.268097  0.584795        0.451   \n",
       "1  0.606061  0.250000  0.173913  0.613497  0.227273  0.178253        0.576   \n",
       "2  0.285714  0.303030  0.434783  0.277778  0.305810  0.436681        0.741   \n",
       "3  0.636943  0.230947  0.153846  0.666667  0.216920  0.135135        0.430   \n",
       "4  0.819672  0.142857  0.066667  0.819672  0.132450  0.067797        0.730   \n",
       "5  0.487805  0.277778  0.256410  0.497512  0.283286  0.239808        0.555   \n",
       "6  0.512821  0.285714  0.238095  0.507614  0.275482  0.238095        0.736   \n",
       "7  0.173913  0.266667  0.588235  0.173913  0.256410  0.591716        0.802   \n",
       "8  0.555556  0.277778  0.192308  0.574713  0.268817  0.176991        0.460   \n",
       "9  0.200000  0.250000  0.578035  0.180832  0.247525  0.591716        0.491   \n",
       "\n",
       "   HomeWi_pred  B365_best  B365_pred   BW_best  BW_pred   IW_best  IW_pred  \\\n",
       "0            1   0.598802          0  0.617284        0  0.571429        0   \n",
       "1            1   0.606061          0  0.617284        0  0.606061        0   \n",
       "2            1   0.420168          0  0.425532        0  0.416667        0   \n",
       "3            0   0.653595          1  0.653595        1  0.645161        1   \n",
       "4            0   0.819672          0  0.833333        0  0.833333        0   \n",
       "5            0   0.500000          0  0.500000        0  0.500000        0   \n",
       "6            0   0.512821          0  0.512821        0  0.500000        0   \n",
       "7            1   0.588235          0  0.606061        0  0.606061        0   \n",
       "8            1   0.555556          0  0.561798        0  0.571429        0   \n",
       "9            1   0.578035          1  0.581395        1  0.606061        1   \n",
       "\n",
       "    PS_best  PS_pred   WH_best  WH_pred   VC_best  VC_pred  PSC_best  PSC_pred  \n",
       "0  0.595238        0  0.598802        0  0.598802        0  0.584795         0  \n",
       "1  0.613497        0  0.598802        0  0.606061        0  0.613497         0  \n",
       "2  0.431034        0  0.416667        0  0.434783        0  0.436681         0  \n",
       "3  0.636943        1  0.636943        1  0.636943        1  0.666667         1  \n",
       "4  0.813008        0  0.819672        0  0.819672        0  0.819672         0  \n",
       "5  0.500000        0  0.487805        0  0.487805        0  0.497512         0  \n",
       "6  0.512821        0  0.500000        0  0.512821        0  0.507614         0  \n",
       "7  0.588235        0  0.588235        0  0.588235        0  0.591716         0  \n",
       "8  0.561798        0  0.555556        0  0.555556        0  0.574713         0  \n",
       "9  0.568182        1  0.578035        1  0.578035        1  0.591716         1  "
      ]
     },
     "execution_count": 204,
     "metadata": {},
     "output_type": "execute_result"
    }
   ],
   "source": [
    "df_odds_probs_clean.head(10)"
   ]
  },
  {
   "cell_type": "code",
   "execution_count": 205,
   "metadata": {
    "ExecuteTime": {
     "end_time": "2019-09-12T20:08:56.361515Z",
     "start_time": "2019-09-12T20:08:56.357147Z"
    },
    "hidden": true
   },
   "outputs": [],
   "source": [
    "# by printing set(positions) we can see that over the course of 3 seasons the bookies never favoured a draw...\n",
    "# This could be interesting... may be where my model could make up some ground... if I am predicting \n",
    "# a win with equal probability to a draw, then I should favour the draw and see how that affects my score"
   ]
  },
  {
   "cell_type": "code",
   "execution_count": 206,
   "metadata": {
    "ExecuteTime": {
     "end_time": "2019-09-12T20:08:56.371051Z",
     "start_time": "2019-09-12T20:08:56.364088Z"
    },
    "hidden": true
   },
   "outputs": [
    {
     "data": {
      "text/plain": [
       "Index(['team1', 'team2', 'HomeWin', 'Draw', 'AwayWin', 'FTR', 'B365H', 'B365D',\n",
       "       'B365A', 'BWH', 'BWD', 'BWA', 'IWH', 'IWD', 'IWA', 'PSH', 'PSD', 'PSA',\n",
       "       'WHH', 'WHD', 'WHA', 'VCH', 'VCD', 'VCA', 'PSCH', 'PSCD', 'PSCA',\n",
       "       'HomeWi_best', 'HomeWi_pred', 'B365_best', 'B365_pred', 'BW_best',\n",
       "       'BW_pred', 'IW_best', 'IW_pred', 'PS_best', 'PS_pred', 'WH_best',\n",
       "       'WH_pred', 'VC_best', 'VC_pred', 'PSC_best', 'PSC_pred'],\n",
       "      dtype='object')"
      ]
     },
     "execution_count": 206,
     "metadata": {},
     "output_type": "execute_result"
    }
   ],
   "source": [
    "df_odds_probs_clean.columns"
   ]
  },
  {
   "cell_type": "code",
   "execution_count": 183,
   "metadata": {
    "ExecuteTime": {
     "end_time": "2019-09-12T19:12:38.301402Z",
     "start_time": "2019-09-12T19:12:38.296845Z"
    },
    "hidden": true,
    "scrolled": true
   },
   "outputs": [],
   "source": [
    "predders = [i for i in list(df_odds_probs_clean.columns) if i[-4:] == 'pred']"
   ]
  },
  {
   "cell_type": "code",
   "execution_count": 184,
   "metadata": {
    "ExecuteTime": {
     "end_time": "2019-09-12T19:12:38.310695Z",
     "start_time": "2019-09-12T19:12:38.303208Z"
    },
    "hidden": true
   },
   "outputs": [
    {
     "data": {
      "text/plain": [
       "0.4801980198019802"
      ]
     },
     "execution_count": 184,
     "metadata": {},
     "output_type": "execute_result"
    }
   ],
   "source": [
    "df_odds_probs_clean['HomeWi_pred'].sum()/1010"
   ]
  },
  {
   "cell_type": "code",
   "execution_count": 185,
   "metadata": {
    "ExecuteTime": {
     "end_time": "2019-09-12T19:12:38.317929Z",
     "start_time": "2019-09-12T19:12:38.313683Z"
    },
    "hidden": true
   },
   "outputs": [
    {
     "data": {
      "text/plain": [
       "0.5851485148514851"
      ]
     },
     "execution_count": 185,
     "metadata": {},
     "output_type": "execute_result"
    }
   ],
   "source": [
    "df_odds_probs_clean['B365_pred'].sum()/1010"
   ]
  },
  {
   "cell_type": "code",
   "execution_count": 186,
   "metadata": {
    "ExecuteTime": {
     "end_time": "2019-09-12T19:12:38.342816Z",
     "start_time": "2019-09-12T19:12:38.319285Z"
    },
    "hidden": true
   },
   "outputs": [
    {
     "data": {
      "text/plain": [
       "1.000990099009901"
      ]
     },
     "execution_count": 186,
     "metadata": {},
     "output_type": "execute_result"
    }
   ],
   "source": [
    "0.4158415841584158+0.5851485148514851"
   ]
  },
  {
   "cell_type": "code",
   "execution_count": 187,
   "metadata": {
    "ExecuteTime": {
     "end_time": "2019-09-12T19:12:38.379161Z",
     "start_time": "2019-09-12T19:12:38.371224Z"
    },
    "hidden": true,
    "scrolled": true
   },
   "outputs": [
    {
     "name": "stdout",
     "output_type": "stream",
     "text": [
      "0.4801980198019802\n",
      "0.5851485148514851\n",
      "0.5841584158415841\n",
      "0.5881188118811881\n",
      "0.5831683168316831\n",
      "0.5861386138613861\n",
      "0.5841584158415841\n",
      "0.5811881188118811\n"
     ]
    }
   ],
   "source": [
    "for i in range(len(predders)):\n",
    "    print(np.sum(df_odds_probs_clean[predders[i]])/1010)"
   ]
  },
  {
   "cell_type": "code",
   "execution_count": 191,
   "metadata": {
    "ExecuteTime": {
     "end_time": "2019-09-12T19:12:42.212627Z",
     "start_time": "2019-09-12T19:12:42.208745Z"
    },
    "hidden": true
   },
   "outputs": [],
   "source": [
    "# running a betting model. Place bets daily, and use results from the end of the day to add to your \n",
    "# purse. Then use new purse total to place further bets...\n",
    "# Do this until purse is empty or season is over."
   ]
  },
  {
   "cell_type": "code",
   "execution_count": 192,
   "metadata": {
    "ExecuteTime": {
     "end_time": "2019-09-12T19:12:42.318242Z",
     "start_time": "2019-09-12T19:12:42.315722Z"
    },
    "hidden": true
   },
   "outputs": [],
   "source": [
    "# find out the bookies margin by adding all three values per game together to get an amount higher than 100\n",
    "# the difference will be the margin I need to outperform.... maybe"
   ]
  },
  {
   "cell_type": "code",
   "execution_count": 193,
   "metadata": {
    "ExecuteTime": {
     "end_time": "2019-09-12T19:12:42.550991Z",
     "start_time": "2019-09-12T19:12:42.528808Z"
    },
    "hidden": true
   },
   "outputs": [
    {
     "ename": "NameError",
     "evalue": "name 'combined' is not defined",
     "output_type": "error",
     "traceback": [
      "\u001b[0;31m---------------------------------------------------------------------------\u001b[0m",
      "\u001b[0;31mNameError\u001b[0m                                 Traceback (most recent call last)",
      "\u001b[0;32m<ipython-input-193-a80ee9c94d43>\u001b[0m in \u001b[0;36m<module>\u001b[0;34m\u001b[0m\n\u001b[0;32m----> 1\u001b[0;31m \u001b[0;32mfor\u001b[0m \u001b[0mi\u001b[0m \u001b[0;32min\u001b[0m \u001b[0mrange\u001b[0m\u001b[0;34m(\u001b[0m\u001b[0;36m0\u001b[0m\u001b[0;34m,\u001b[0m\u001b[0mlen\u001b[0m\u001b[0;34m(\u001b[0m\u001b[0mcombined\u001b[0m\u001b[0;34m.\u001b[0m\u001b[0mcolumns\u001b[0m\u001b[0;34m)\u001b[0m\u001b[0;34m-\u001b[0m\u001b[0;36m3\u001b[0m\u001b[0;34m,\u001b[0m\u001b[0;36m3\u001b[0m\u001b[0;34m)\u001b[0m\u001b[0;34m:\u001b[0m\u001b[0;34m\u001b[0m\u001b[0;34m\u001b[0m\u001b[0m\n\u001b[0m\u001b[1;32m      2\u001b[0m     \u001b[0mcol\u001b[0m \u001b[0;34m=\u001b[0m \u001b[0;34m[\u001b[0m\u001b[0;34m]\u001b[0m\u001b[0;34m\u001b[0m\u001b[0;34m\u001b[0m\u001b[0m\n\u001b[1;32m      3\u001b[0m     \u001b[0mclean\u001b[0m \u001b[0;34m=\u001b[0m \u001b[0;34m[\u001b[0m\u001b[0;34m]\u001b[0m\u001b[0;34m\u001b[0m\u001b[0;34m\u001b[0m\u001b[0m\n\u001b[1;32m      4\u001b[0m     \u001b[0;32mfor\u001b[0m \u001b[0mj\u001b[0m \u001b[0;32min\u001b[0m \u001b[0mrange\u001b[0m\u001b[0;34m(\u001b[0m\u001b[0mlen\u001b[0m\u001b[0;34m(\u001b[0m\u001b[0mcombined\u001b[0m\u001b[0;34m)\u001b[0m\u001b[0;34m)\u001b[0m\u001b[0;34m:\u001b[0m\u001b[0;34m\u001b[0m\u001b[0;34m\u001b[0m\u001b[0m\n\u001b[1;32m      5\u001b[0m         \u001b[0mcol\u001b[0m\u001b[0;34m.\u001b[0m\u001b[0mappend\u001b[0m\u001b[0;34m(\u001b[0m\u001b[0mcombined\u001b[0m\u001b[0;34m.\u001b[0m\u001b[0miloc\u001b[0m\u001b[0;34m[\u001b[0m\u001b[0;34m:\u001b[0m\u001b[0;34m,\u001b[0m\u001b[0mi\u001b[0m\u001b[0;34m:\u001b[0m\u001b[0mi\u001b[0m\u001b[0;34m+\u001b[0m\u001b[0;36m3\u001b[0m\u001b[0;34m]\u001b[0m\u001b[0;34m[\u001b[0m\u001b[0mj\u001b[0m\u001b[0;34m:\u001b[0m\u001b[0mj\u001b[0m\u001b[0;34m+\u001b[0m\u001b[0;36m1\u001b[0m\u001b[0;34m]\u001b[0m\u001b[0;34m.\u001b[0m\u001b[0msum\u001b[0m\u001b[0;34m(\u001b[0m\u001b[0maxis\u001b[0m\u001b[0;34m=\u001b[0m\u001b[0;36m1\u001b[0m\u001b[0;34m)\u001b[0m\u001b[0;34m-\u001b[0m\u001b[0;36m1\u001b[0m\u001b[0;34m)\u001b[0m\u001b[0;34m\u001b[0m\u001b[0;34m\u001b[0m\u001b[0m\n",
      "\u001b[0;31mNameError\u001b[0m: name 'combined' is not defined"
     ]
    }
   ],
   "source": [
    "for i in range(0,len(combined.columns)-3,3):\n",
    "    col = []\n",
    "    clean = []\n",
    "    for j in range(len(combined)):\n",
    "        col.append(combined.iloc[:,i:i+3][j:j+1].sum(axis=1)-1)\n",
    "    for x in range(len(col)):\n",
    "        clean.append(col[x][0])\n",
    "    combined[i] = clean\n",
    "    \n",
    "    \n",
    "    \n",
    "# Adds a column to the end of the dataframe showing the bookies margin per Home/Away/Draw bet"
   ]
  },
  {
   "cell_type": "code",
   "execution_count": null,
   "metadata": {
    "hidden": true
   },
   "outputs": [],
   "source": []
  },
  {
   "cell_type": "code",
   "execution_count": null,
   "metadata": {
    "hidden": true
   },
   "outputs": [],
   "source": []
  },
  {
   "cell_type": "code",
   "execution_count": null,
   "metadata": {
    "hidden": true
   },
   "outputs": [],
   "source": []
  },
  {
   "cell_type": "code",
   "execution_count": null,
   "metadata": {
    "hidden": true
   },
   "outputs": [],
   "source": []
  }
 ],
 "metadata": {
  "kernelspec": {
   "display_name": "Python 3",
   "language": "python",
   "name": "python3"
  },
  "language_info": {
   "codemirror_mode": {
    "name": "ipython",
    "version": 3
   },
   "file_extension": ".py",
   "mimetype": "text/x-python",
   "name": "python",
   "nbconvert_exporter": "python",
   "pygments_lexer": "ipython3",
   "version": "3.7.1"
  }
 },
 "nbformat": 4,
 "nbformat_minor": 2
}
