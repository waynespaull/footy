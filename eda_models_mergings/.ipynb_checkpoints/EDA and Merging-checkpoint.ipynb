{
 "cells": [
  {
   "cell_type": "markdown",
   "metadata": {},
   "source": [
    "# Odd Ball"
   ]
  },
  {
   "cell_type": "markdown",
   "metadata": {},
   "source": [
    "## Dataframes and Cleaning"
   ]
  },
  {
   "cell_type": "code",
   "execution_count": 1,
   "metadata": {
    "ExecuteTime": {
     "end_time": "2019-09-29T13:28:21.448638Z",
     "start_time": "2019-09-29T13:28:19.604231Z"
    }
   },
   "outputs": [],
   "source": [
    "import pandas as pd\n",
    "import numpy as np\n",
    "import requests"
   ]
  },
  {
   "cell_type": "markdown",
   "metadata": {},
   "source": [
    "### Elo DataFrames"
   ]
  },
  {
   "cell_type": "markdown",
   "metadata": {},
   "source": [
    "These DataFrames contain the ELO score scraped from clubelo.com for each of the clubs in the premier league for the passed three seasons.\n",
    "\n",
    "I think this will be one of the strongest coefficients for predicting the outcome of a game."
   ]
  },
  {
   "cell_type": "code",
   "execution_count": 2,
   "metadata": {
    "ExecuteTime": {
     "end_time": "2019-09-29T13:28:21.459006Z",
     "start_time": "2019-09-29T13:28:21.451963Z"
    }
   },
   "outputs": [],
   "source": [
    "clubs = ['Burnley', 'CrystalPalace', 'Everton', 'Hull',\n",
    "       'ManCity', 'Middlesbrough', 'Southampton', 'Arsenal',\n",
    "       'Bournemouth', 'Chelsea', 'ManUnited', 'Leicester',\n",
    "       'Stoke', 'Swansea', 'Tottenham', 'Watford',\n",
    "       'WestBrom', 'Sunderland', 'WestHam',\n",
    "       'Liverpool', 'Brighton', 'Newcastle',\n",
    "       'Huddersfield', 'Fulham', 'Wolves', 'Cardiff']"
   ]
  },
  {
   "cell_type": "code",
   "execution_count": 3,
   "metadata": {
    "ExecuteTime": {
     "end_time": "2019-09-29T13:28:21.467747Z",
     "start_time": "2019-09-29T13:28:21.460856Z"
    }
   },
   "outputs": [],
   "source": [
    "# Commented out so don't accidently run the scraper unnecesarily\n",
    "# You need to run this if doing from scratch though\n",
    "\n",
    "# for i in clubs:\n",
    "#     csv = requests.get('http://api.clubelo.com/{}'.format(i))\n",
    "    \n",
    "#     with open('{}.csv'.format(i), 'w+') as f:\n",
    "#         f.write(csv.text)  "
   ]
  },
  {
   "cell_type": "code",
   "execution_count": null,
   "metadata": {
    "ExecuteTime": {
     "end_time": "2019-09-09T19:01:42.990436Z",
     "start_time": "2019-09-09T19:01:42.984987Z"
    }
   },
   "outputs": [],
   "source": [
    "# create an empty df to append the cleaned csv's to\n",
    "\n",
    "all_elo = pd.DataFrame()"
   ]
  },
  {
   "cell_type": "code",
   "execution_count": null,
   "metadata": {
    "ExecuteTime": {
     "end_time": "2019-09-09T19:02:18.770052Z",
     "start_time": "2019-09-09T19:02:18.280472Z"
    }
   },
   "outputs": [],
   "source": [
    "for i in clubs:\n",
    "    \n",
    "    df_maker = pd.read_csv('{}.csv'.format(i)) # open each csv\n",
    "    \n",
    "    # convert date column to datetime format\n",
    "    try:\n",
    "        df_maker['Date'] = pd.to_datetime(df_maker['To'], format='%Y/%m/%d')\n",
    "    except:\n",
    "        df_maker['Date'] = pd.to_datetime(df_maker['To'], format='%d/%m/%Y')\n",
    "     \n",
    "    # make the date column the index\n",
    "    df_maker.set_index('Date', inplace=True, drop=True)\n",
    "    \n",
    "    # drop unnecessary columns\n",
    "    df_maker.drop(columns=['From', 'To', 'Level', 'Country', 'Rank'], inplace=True)\n",
    "    \n",
    "    # subset the data so that only the relevant periods are kept\n",
    "    df_maker = df_maker[(df_maker.index <= '2019-06') & (df_maker.index >= '2016-08')]\n",
    "    \n",
    "    # combine cleaned df with all_elo\n",
    "    all_elo = pd.concat([all_elo, df_maker])"
   ]
  },
  {
   "cell_type": "code",
   "execution_count": null,
   "metadata": {
    "ExecuteTime": {
     "end_time": "2019-09-09T19:02:19.757675Z",
     "start_time": "2019-09-09T19:02:19.751707Z"
    }
   },
   "outputs": [],
   "source": [
    "all_elo.shape"
   ]
  },
  {
   "cell_type": "code",
   "execution_count": null,
   "metadata": {
    "ExecuteTime": {
     "end_time": "2019-09-09T19:02:20.889488Z",
     "start_time": "2019-09-09T19:02:20.882398Z"
    }
   },
   "outputs": [],
   "source": [
    "# need to see the formatting of the club names, this needs to be consistent as I plan to use a portion\n",
    "# of the club names and the date column to create unique keys for merging dataframes later\n",
    "\n",
    "all_elo.Club.unique()"
   ]
  },
  {
   "cell_type": "code",
   "execution_count": null,
   "metadata": {
    "ExecuteTime": {
     "end_time": "2019-09-09T19:02:21.889114Z",
     "start_time": "2019-09-09T19:02:21.875231Z"
    }
   },
   "outputs": [],
   "source": [
    "# Changing the format of some of the clubs\n",
    "\n",
    "all_elo['Club'] = ['ManUtd' if i=='Man United' else i for i in all_elo['Club']]\n",
    "all_elo['Club'] = ['ManCity' if i=='Man City' else i for i in all_elo['Club']]\n",
    "all_elo['Club'] = ['WestHam' if i=='West Ham' else i for i in all_elo['Club']]\n",
    "all_elo['Club'] = ['WestBrom' if i=='West Brom' else i for i in all_elo['Club']]\n",
    "all_elo['Club'] = ['HullCity' if i=='Hull' else i for i in all_elo['Club']]"
   ]
  },
  {
   "cell_type": "code",
   "execution_count": null,
   "metadata": {
    "ExecuteTime": {
     "end_time": "2019-09-09T19:02:23.290972Z",
     "start_time": "2019-09-09T19:02:23.252720Z"
    }
   },
   "outputs": [],
   "source": [
    "# creating a unique key for merging dataframes later\n",
    "\n",
    "all_elo['key'] = [str(i)+n[:5] for i,n in zip(all_elo.index, all_elo['Club'])]"
   ]
  },
  {
   "cell_type": "code",
   "execution_count": null,
   "metadata": {
    "ExecuteTime": {
     "end_time": "2019-09-09T19:02:24.060241Z",
     "start_time": "2019-09-09T19:02:23.728151Z"
    }
   },
   "outputs": [],
   "source": [
    "# look! a histogram!\n",
    "\n",
    "all_elo.plot(kind='hist');"
   ]
  },
  {
   "cell_type": "markdown",
   "metadata": {
    "heading_collapsed": true
   },
   "source": [
    "### Five_38 Dataset"
   ]
  },
  {
   "cell_type": "markdown",
   "metadata": {
    "hidden": true
   },
   "source": [
    "This is the dataset I am going to use as my main dataset. I plan on appending the market values of the clubs as well as the ELO's of the clubs to this one. I alos need to do some feature engineering and clean/remove some of these columns."
   ]
  },
  {
   "cell_type": "code",
   "execution_count": 32,
   "metadata": {
    "ExecuteTime": {
     "end_time": "2019-09-24T19:20:04.197567Z",
     "start_time": "2019-09-24T19:20:04.060357Z"
    },
    "hidden": true
   },
   "outputs": [],
   "source": [
    "five_38 = pd.read_csv('csv/spi_matches.csv')"
   ]
  },
  {
   "cell_type": "code",
   "execution_count": 33,
   "metadata": {
    "ExecuteTime": {
     "end_time": "2019-09-24T19:20:04.527344Z",
     "start_time": "2019-09-24T19:20:04.500745Z"
    },
    "hidden": true
   },
   "outputs": [
    {
     "data": {
      "text/html": [
       "<div>\n",
       "<style scoped>\n",
       "    .dataframe tbody tr th:only-of-type {\n",
       "        vertical-align: middle;\n",
       "    }\n",
       "\n",
       "    .dataframe tbody tr th {\n",
       "        vertical-align: top;\n",
       "    }\n",
       "\n",
       "    .dataframe thead th {\n",
       "        text-align: right;\n",
       "    }\n",
       "</style>\n",
       "<table border=\"1\" class=\"dataframe\">\n",
       "  <thead>\n",
       "    <tr style=\"text-align: right;\">\n",
       "      <th></th>\n",
       "      <th>date</th>\n",
       "      <th>league_id</th>\n",
       "      <th>league</th>\n",
       "      <th>team1</th>\n",
       "      <th>team2</th>\n",
       "      <th>spi1</th>\n",
       "      <th>spi2</th>\n",
       "      <th>prob1</th>\n",
       "      <th>prob2</th>\n",
       "      <th>probtie</th>\n",
       "      <th>...</th>\n",
       "      <th>importance1</th>\n",
       "      <th>importance2</th>\n",
       "      <th>score1</th>\n",
       "      <th>score2</th>\n",
       "      <th>xg1</th>\n",
       "      <th>xg2</th>\n",
       "      <th>nsxg1</th>\n",
       "      <th>nsxg2</th>\n",
       "      <th>adj_score1</th>\n",
       "      <th>adj_score2</th>\n",
       "    </tr>\n",
       "  </thead>\n",
       "  <tbody>\n",
       "    <tr>\n",
       "      <th>0</th>\n",
       "      <td>2016-08-12</td>\n",
       "      <td>1843</td>\n",
       "      <td>French Ligue 1</td>\n",
       "      <td>Bastia</td>\n",
       "      <td>Paris Saint-Germain</td>\n",
       "      <td>51.16</td>\n",
       "      <td>85.68</td>\n",
       "      <td>0.0463</td>\n",
       "      <td>0.8380</td>\n",
       "      <td>0.1157</td>\n",
       "      <td>...</td>\n",
       "      <td>32.4</td>\n",
       "      <td>67.7</td>\n",
       "      <td>0.0</td>\n",
       "      <td>1.0</td>\n",
       "      <td>0.97</td>\n",
       "      <td>0.63</td>\n",
       "      <td>0.43</td>\n",
       "      <td>0.45</td>\n",
       "      <td>0.00</td>\n",
       "      <td>1.05</td>\n",
       "    </tr>\n",
       "    <tr>\n",
       "      <th>1</th>\n",
       "      <td>2016-08-12</td>\n",
       "      <td>1843</td>\n",
       "      <td>French Ligue 1</td>\n",
       "      <td>AS Monaco</td>\n",
       "      <td>Guingamp</td>\n",
       "      <td>68.85</td>\n",
       "      <td>56.48</td>\n",
       "      <td>0.5714</td>\n",
       "      <td>0.1669</td>\n",
       "      <td>0.2617</td>\n",
       "      <td>...</td>\n",
       "      <td>53.7</td>\n",
       "      <td>22.9</td>\n",
       "      <td>2.0</td>\n",
       "      <td>2.0</td>\n",
       "      <td>2.45</td>\n",
       "      <td>0.77</td>\n",
       "      <td>1.75</td>\n",
       "      <td>0.42</td>\n",
       "      <td>2.10</td>\n",
       "      <td>2.10</td>\n",
       "    </tr>\n",
       "    <tr>\n",
       "      <th>2</th>\n",
       "      <td>2016-08-13</td>\n",
       "      <td>2411</td>\n",
       "      <td>Barclays Premier League</td>\n",
       "      <td>Hull City</td>\n",
       "      <td>Leicester City</td>\n",
       "      <td>53.57</td>\n",
       "      <td>66.81</td>\n",
       "      <td>0.3459</td>\n",
       "      <td>0.3621</td>\n",
       "      <td>0.2921</td>\n",
       "      <td>...</td>\n",
       "      <td>38.1</td>\n",
       "      <td>22.2</td>\n",
       "      <td>2.0</td>\n",
       "      <td>1.0</td>\n",
       "      <td>0.85</td>\n",
       "      <td>2.77</td>\n",
       "      <td>0.17</td>\n",
       "      <td>1.25</td>\n",
       "      <td>2.10</td>\n",
       "      <td>1.05</td>\n",
       "    </tr>\n",
       "    <tr>\n",
       "      <th>3</th>\n",
       "      <td>2016-08-13</td>\n",
       "      <td>2411</td>\n",
       "      <td>Barclays Premier League</td>\n",
       "      <td>Crystal Palace</td>\n",
       "      <td>West Bromwich Albion</td>\n",
       "      <td>55.19</td>\n",
       "      <td>58.66</td>\n",
       "      <td>0.4214</td>\n",
       "      <td>0.2939</td>\n",
       "      <td>0.2847</td>\n",
       "      <td>...</td>\n",
       "      <td>43.6</td>\n",
       "      <td>34.6</td>\n",
       "      <td>0.0</td>\n",
       "      <td>1.0</td>\n",
       "      <td>1.11</td>\n",
       "      <td>0.68</td>\n",
       "      <td>0.84</td>\n",
       "      <td>1.60</td>\n",
       "      <td>0.00</td>\n",
       "      <td>1.05</td>\n",
       "    </tr>\n",
       "    <tr>\n",
       "      <th>4</th>\n",
       "      <td>2016-08-13</td>\n",
       "      <td>2411</td>\n",
       "      <td>Barclays Premier League</td>\n",
       "      <td>Everton</td>\n",
       "      <td>Tottenham Hotspur</td>\n",
       "      <td>68.02</td>\n",
       "      <td>73.25</td>\n",
       "      <td>0.3910</td>\n",
       "      <td>0.3401</td>\n",
       "      <td>0.2689</td>\n",
       "      <td>...</td>\n",
       "      <td>31.9</td>\n",
       "      <td>48.0</td>\n",
       "      <td>1.0</td>\n",
       "      <td>1.0</td>\n",
       "      <td>0.73</td>\n",
       "      <td>1.11</td>\n",
       "      <td>0.88</td>\n",
       "      <td>1.81</td>\n",
       "      <td>1.05</td>\n",
       "      <td>1.05</td>\n",
       "    </tr>\n",
       "  </tbody>\n",
       "</table>\n",
       "<p>5 rows × 22 columns</p>\n",
       "</div>"
      ],
      "text/plain": [
       "         date  league_id                   league           team1  \\\n",
       "0  2016-08-12       1843           French Ligue 1          Bastia   \n",
       "1  2016-08-12       1843           French Ligue 1       AS Monaco   \n",
       "2  2016-08-13       2411  Barclays Premier League       Hull City   \n",
       "3  2016-08-13       2411  Barclays Premier League  Crystal Palace   \n",
       "4  2016-08-13       2411  Barclays Premier League         Everton   \n",
       "\n",
       "                  team2   spi1   spi2   prob1   prob2  probtie     ...      \\\n",
       "0   Paris Saint-Germain  51.16  85.68  0.0463  0.8380   0.1157     ...       \n",
       "1              Guingamp  68.85  56.48  0.5714  0.1669   0.2617     ...       \n",
       "2        Leicester City  53.57  66.81  0.3459  0.3621   0.2921     ...       \n",
       "3  West Bromwich Albion  55.19  58.66  0.4214  0.2939   0.2847     ...       \n",
       "4     Tottenham Hotspur  68.02  73.25  0.3910  0.3401   0.2689     ...       \n",
       "\n",
       "   importance1  importance2  score1  score2   xg1   xg2  nsxg1  nsxg2  \\\n",
       "0         32.4         67.7     0.0     1.0  0.97  0.63   0.43   0.45   \n",
       "1         53.7         22.9     2.0     2.0  2.45  0.77   1.75   0.42   \n",
       "2         38.1         22.2     2.0     1.0  0.85  2.77   0.17   1.25   \n",
       "3         43.6         34.6     0.0     1.0  1.11  0.68   0.84   1.60   \n",
       "4         31.9         48.0     1.0     1.0  0.73  1.11   0.88   1.81   \n",
       "\n",
       "   adj_score1  adj_score2  \n",
       "0        0.00        1.05  \n",
       "1        2.10        2.10  \n",
       "2        2.10        1.05  \n",
       "3        0.00        1.05  \n",
       "4        1.05        1.05  \n",
       "\n",
       "[5 rows x 22 columns]"
      ]
     },
     "execution_count": 33,
     "metadata": {},
     "output_type": "execute_result"
    }
   ],
   "source": [
    "five_38.head()"
   ]
  },
  {
   "cell_type": "code",
   "execution_count": 34,
   "metadata": {
    "ExecuteTime": {
     "end_time": "2019-09-24T19:20:05.167115Z",
     "start_time": "2019-09-24T19:20:05.157515Z"
    },
    "hidden": true
   },
   "outputs": [
    {
     "data": {
      "text/plain": [
       "array(['French Ligue 1', 'Barclays Premier League',\n",
       "       'Spanish Primera Division', 'Italy Serie A', 'German Bundesliga',\n",
       "       'UEFA Champions League',\n",
       "       'Mexican Primera Division Torneo Clausura', 'Major League Soccer',\n",
       "       'Swedish Allsvenskan', 'Norwegian Tippeligaen',\n",
       "       \"National Women's Soccer League\", 'Brasileiro Série A',\n",
       "       'Russian Premier Liga', 'Mexican Primera Division Torneo Apertura',\n",
       "       'Austrian T-Mobile Bundesliga', 'Swiss Raiffeisen Super League',\n",
       "       'French Ligue 2', 'German 2. Bundesliga',\n",
       "       'English League Championship', 'Scottish Premiership',\n",
       "       'Portuguese Liga', 'Dutch Eredivisie',\n",
       "       'Turkish Turkcell Super Lig', 'Spanish Segunda Division',\n",
       "       'Italy Serie B', 'Argentina Primera Division',\n",
       "       'UEFA Europa League', 'United Soccer League', 'Danish SAS-Ligaen',\n",
       "       'Belgian Jupiler League', 'Japanese J League',\n",
       "       'Chinese Super League', 'English League One',\n",
       "       'South African ABSA Premier League', 'English League Two',\n",
       "       'Greek Super League', 'Australian A-League'], dtype=object)"
      ]
     },
     "execution_count": 34,
     "metadata": {},
     "output_type": "execute_result"
    }
   ],
   "source": [
    "five_38['league'].unique()"
   ]
  },
  {
   "cell_type": "code",
   "execution_count": 35,
   "metadata": {
    "ExecuteTime": {
     "end_time": "2019-09-24T19:20:05.581283Z",
     "start_time": "2019-09-24T19:20:05.566111Z"
    },
    "hidden": true
   },
   "outputs": [],
   "source": [
    "# change date column to datetime\n",
    "\n",
    "five_38['date'] = pd.to_datetime(five_38['date'], format='%Y-%m-%d')"
   ]
  },
  {
   "cell_type": "code",
   "execution_count": 36,
   "metadata": {
    "ExecuteTime": {
     "end_time": "2019-09-24T19:20:05.873563Z",
     "start_time": "2019-09-24T19:20:05.868454Z"
    },
    "hidden": true
   },
   "outputs": [],
   "source": [
    "# make it the index\n",
    "\n",
    "five_38.set_index('date', inplace=True, drop=True)"
   ]
  },
  {
   "cell_type": "code",
   "execution_count": 37,
   "metadata": {
    "ExecuteTime": {
     "end_time": "2019-09-24T19:20:06.103923Z",
     "start_time": "2019-09-24T19:20:06.101275Z"
    },
    "hidden": true
   },
   "outputs": [],
   "source": [
    "# make it prettier\n",
    "\n",
    "five_38.index.name = None"
   ]
  },
  {
   "cell_type": "code",
   "execution_count": 38,
   "metadata": {
    "ExecuteTime": {
     "end_time": "2019-09-24T19:20:06.306459Z",
     "start_time": "2019-09-24T19:20:06.298804Z"
    },
    "hidden": true
   },
   "outputs": [],
   "source": [
    "# Selecting only the premier league and only the last three seasons\n",
    "\n",
    "epl = five_38[(five_38['league_id'] == 2411) & (five_38.index <= '2019-07')]"
   ]
  },
  {
   "cell_type": "code",
   "execution_count": 39,
   "metadata": {
    "ExecuteTime": {
     "end_time": "2019-09-24T19:20:06.483646Z",
     "start_time": "2019-09-24T19:20:06.478930Z"
    },
    "hidden": true
   },
   "outputs": [
    {
     "data": {
      "text/plain": [
       "(1140, 21)"
      ]
     },
     "execution_count": 39,
     "metadata": {},
     "output_type": "execute_result"
    }
   ],
   "source": [
    "epl.shape"
   ]
  },
  {
   "cell_type": "code",
   "execution_count": 50,
   "metadata": {
    "ExecuteTime": {
     "end_time": "2019-09-24T19:21:56.698949Z",
     "start_time": "2019-09-24T19:21:56.694025Z"
    },
    "hidden": true
   },
   "outputs": [],
   "source": [
    "# making sure things are in date order\n",
    "\n",
    "epl.sort_index(inplace=True)"
   ]
  },
  {
   "cell_type": "code",
   "execution_count": 51,
   "metadata": {
    "ExecuteTime": {
     "end_time": "2019-09-24T19:21:57.385963Z",
     "start_time": "2019-09-24T19:21:57.362528Z"
    },
    "hidden": true
   },
   "outputs": [
    {
     "data": {
      "text/html": [
       "<div>\n",
       "<style scoped>\n",
       "    .dataframe tbody tr th:only-of-type {\n",
       "        vertical-align: middle;\n",
       "    }\n",
       "\n",
       "    .dataframe tbody tr th {\n",
       "        vertical-align: top;\n",
       "    }\n",
       "\n",
       "    .dataframe thead th {\n",
       "        text-align: right;\n",
       "    }\n",
       "</style>\n",
       "<table border=\"1\" class=\"dataframe\">\n",
       "  <thead>\n",
       "    <tr style=\"text-align: right;\">\n",
       "      <th></th>\n",
       "      <th>league_id</th>\n",
       "      <th>league</th>\n",
       "      <th>team1</th>\n",
       "      <th>team2</th>\n",
       "      <th>spi1</th>\n",
       "      <th>spi2</th>\n",
       "      <th>prob1</th>\n",
       "      <th>prob2</th>\n",
       "      <th>probtie</th>\n",
       "      <th>proj_score1</th>\n",
       "      <th>...</th>\n",
       "      <th>importance1</th>\n",
       "      <th>importance2</th>\n",
       "      <th>score1</th>\n",
       "      <th>score2</th>\n",
       "      <th>xg1</th>\n",
       "      <th>xg2</th>\n",
       "      <th>nsxg1</th>\n",
       "      <th>nsxg2</th>\n",
       "      <th>adj_score1</th>\n",
       "      <th>adj_score2</th>\n",
       "    </tr>\n",
       "  </thead>\n",
       "  <tbody>\n",
       "    <tr>\n",
       "      <th>2016-08-13</th>\n",
       "      <td>2411</td>\n",
       "      <td>Barclays Premier League</td>\n",
       "      <td>Burnley</td>\n",
       "      <td>Swansea City</td>\n",
       "      <td>58.98</td>\n",
       "      <td>59.74</td>\n",
       "      <td>0.4482</td>\n",
       "      <td>0.2663</td>\n",
       "      <td>0.2854</td>\n",
       "      <td>1.37</td>\n",
       "      <td>...</td>\n",
       "      <td>36.5</td>\n",
       "      <td>29.1</td>\n",
       "      <td>0.0</td>\n",
       "      <td>1.0</td>\n",
       "      <td>1.24</td>\n",
       "      <td>1.84</td>\n",
       "      <td>1.71</td>\n",
       "      <td>1.56</td>\n",
       "      <td>0.00</td>\n",
       "      <td>1.05</td>\n",
       "    </tr>\n",
       "    <tr>\n",
       "      <th>2016-08-13</th>\n",
       "      <td>2411</td>\n",
       "      <td>Barclays Premier League</td>\n",
       "      <td>Crystal Palace</td>\n",
       "      <td>WestBrom</td>\n",
       "      <td>55.19</td>\n",
       "      <td>58.66</td>\n",
       "      <td>0.4214</td>\n",
       "      <td>0.2939</td>\n",
       "      <td>0.2847</td>\n",
       "      <td>1.35</td>\n",
       "      <td>...</td>\n",
       "      <td>43.6</td>\n",
       "      <td>34.6</td>\n",
       "      <td>0.0</td>\n",
       "      <td>1.0</td>\n",
       "      <td>1.11</td>\n",
       "      <td>0.68</td>\n",
       "      <td>0.84</td>\n",
       "      <td>1.60</td>\n",
       "      <td>0.00</td>\n",
       "      <td>1.05</td>\n",
       "    </tr>\n",
       "    <tr>\n",
       "      <th>2016-08-13</th>\n",
       "      <td>2411</td>\n",
       "      <td>Barclays Premier League</td>\n",
       "      <td>Everton</td>\n",
       "      <td>Tottenham Hotspur</td>\n",
       "      <td>68.02</td>\n",
       "      <td>73.25</td>\n",
       "      <td>0.3910</td>\n",
       "      <td>0.3401</td>\n",
       "      <td>0.2689</td>\n",
       "      <td>1.47</td>\n",
       "      <td>...</td>\n",
       "      <td>31.9</td>\n",
       "      <td>48.0</td>\n",
       "      <td>1.0</td>\n",
       "      <td>1.0</td>\n",
       "      <td>0.73</td>\n",
       "      <td>1.11</td>\n",
       "      <td>0.88</td>\n",
       "      <td>1.81</td>\n",
       "      <td>1.05</td>\n",
       "      <td>1.05</td>\n",
       "    </tr>\n",
       "    <tr>\n",
       "      <th>2016-08-13</th>\n",
       "      <td>2411</td>\n",
       "      <td>Barclays Premier League</td>\n",
       "      <td>HullCity</td>\n",
       "      <td>Leicester City</td>\n",
       "      <td>53.57</td>\n",
       "      <td>66.81</td>\n",
       "      <td>0.3459</td>\n",
       "      <td>0.3621</td>\n",
       "      <td>0.2921</td>\n",
       "      <td>1.16</td>\n",
       "      <td>...</td>\n",
       "      <td>38.1</td>\n",
       "      <td>22.2</td>\n",
       "      <td>2.0</td>\n",
       "      <td>1.0</td>\n",
       "      <td>0.85</td>\n",
       "      <td>2.77</td>\n",
       "      <td>0.17</td>\n",
       "      <td>1.25</td>\n",
       "      <td>2.10</td>\n",
       "      <td>1.05</td>\n",
       "    </tr>\n",
       "    <tr>\n",
       "      <th>2016-08-13</th>\n",
       "      <td>2411</td>\n",
       "      <td>Barclays Premier League</td>\n",
       "      <td>ManCity</td>\n",
       "      <td>Sunderland</td>\n",
       "      <td>86.42</td>\n",
       "      <td>53.64</td>\n",
       "      <td>0.8152</td>\n",
       "      <td>0.0525</td>\n",
       "      <td>0.1323</td>\n",
       "      <td>2.69</td>\n",
       "      <td>...</td>\n",
       "      <td>73.0</td>\n",
       "      <td>27.0</td>\n",
       "      <td>2.0</td>\n",
       "      <td>1.0</td>\n",
       "      <td>2.14</td>\n",
       "      <td>1.25</td>\n",
       "      <td>1.81</td>\n",
       "      <td>0.92</td>\n",
       "      <td>2.10</td>\n",
       "      <td>1.05</td>\n",
       "    </tr>\n",
       "  </tbody>\n",
       "</table>\n",
       "<p>5 rows × 21 columns</p>\n",
       "</div>"
      ],
      "text/plain": [
       "            league_id                   league           team1  \\\n",
       "2016-08-13       2411  Barclays Premier League         Burnley   \n",
       "2016-08-13       2411  Barclays Premier League  Crystal Palace   \n",
       "2016-08-13       2411  Barclays Premier League         Everton   \n",
       "2016-08-13       2411  Barclays Premier League        HullCity   \n",
       "2016-08-13       2411  Barclays Premier League         ManCity   \n",
       "\n",
       "                        team2   spi1   spi2   prob1   prob2  probtie  \\\n",
       "2016-08-13       Swansea City  58.98  59.74  0.4482  0.2663   0.2854   \n",
       "2016-08-13           WestBrom  55.19  58.66  0.4214  0.2939   0.2847   \n",
       "2016-08-13  Tottenham Hotspur  68.02  73.25  0.3910  0.3401   0.2689   \n",
       "2016-08-13     Leicester City  53.57  66.81  0.3459  0.3621   0.2921   \n",
       "2016-08-13         Sunderland  86.42  53.64  0.8152  0.0525   0.1323   \n",
       "\n",
       "            proj_score1     ...      importance1  importance2  score1  score2  \\\n",
       "2016-08-13         1.37     ...             36.5         29.1     0.0     1.0   \n",
       "2016-08-13         1.35     ...             43.6         34.6     0.0     1.0   \n",
       "2016-08-13         1.47     ...             31.9         48.0     1.0     1.0   \n",
       "2016-08-13         1.16     ...             38.1         22.2     2.0     1.0   \n",
       "2016-08-13         2.69     ...             73.0         27.0     2.0     1.0   \n",
       "\n",
       "             xg1   xg2  nsxg1  nsxg2  adj_score1  adj_score2  \n",
       "2016-08-13  1.24  1.84   1.71   1.56        0.00        1.05  \n",
       "2016-08-13  1.11  0.68   0.84   1.60        0.00        1.05  \n",
       "2016-08-13  0.73  1.11   0.88   1.81        1.05        1.05  \n",
       "2016-08-13  0.85  2.77   0.17   1.25        2.10        1.05  \n",
       "2016-08-13  2.14  1.25   1.81   0.92        2.10        1.05  \n",
       "\n",
       "[5 rows x 21 columns]"
      ]
     },
     "execution_count": 51,
     "metadata": {},
     "output_type": "execute_result"
    }
   ],
   "source": [
    "# yes,they are\n",
    "\n",
    "epl.head()"
   ]
  },
  {
   "cell_type": "code",
   "execution_count": 44,
   "metadata": {
    "ExecuteTime": {
     "end_time": "2019-09-24T19:20:08.779119Z",
     "start_time": "2019-09-24T19:20:08.429398Z"
    },
    "hidden": true
   },
   "outputs": [
    {
     "name": "stderr",
     "output_type": "stream",
     "text": [
      "/anaconda3/lib/python3.7/site-packages/ipykernel_launcher.py:5: SettingWithCopyWarning: \n",
      "A value is trying to be set on a copy of a slice from a DataFrame.\n",
      "Try using .loc[row_indexer,col_indexer] = value instead\n",
      "\n",
      "See the caveats in the documentation: http://pandas.pydata.org/pandas-docs/stable/indexing.html#indexing-view-versus-copy\n",
      "  \"\"\"\n",
      "/anaconda3/lib/python3.7/site-packages/ipykernel_launcher.py:6: SettingWithCopyWarning: \n",
      "A value is trying to be set on a copy of a slice from a DataFrame.\n",
      "Try using .loc[row_indexer,col_indexer] = value instead\n",
      "\n",
      "See the caveats in the documentation: http://pandas.pydata.org/pandas-docs/stable/indexing.html#indexing-view-versus-copy\n",
      "  \n",
      "/anaconda3/lib/python3.7/site-packages/ipykernel_launcher.py:7: SettingWithCopyWarning: \n",
      "A value is trying to be set on a copy of a slice from a DataFrame.\n",
      "Try using .loc[row_indexer,col_indexer] = value instead\n",
      "\n",
      "See the caveats in the documentation: http://pandas.pydata.org/pandas-docs/stable/indexing.html#indexing-view-versus-copy\n",
      "  import sys\n",
      "/anaconda3/lib/python3.7/site-packages/ipykernel_launcher.py:8: SettingWithCopyWarning: \n",
      "A value is trying to be set on a copy of a slice from a DataFrame.\n",
      "Try using .loc[row_indexer,col_indexer] = value instead\n",
      "\n",
      "See the caveats in the documentation: http://pandas.pydata.org/pandas-docs/stable/indexing.html#indexing-view-versus-copy\n",
      "  \n",
      "/anaconda3/lib/python3.7/site-packages/ipykernel_launcher.py:9: SettingWithCopyWarning: \n",
      "A value is trying to be set on a copy of a slice from a DataFrame.\n",
      "Try using .loc[row_indexer,col_indexer] = value instead\n",
      "\n",
      "See the caveats in the documentation: http://pandas.pydata.org/pandas-docs/stable/indexing.html#indexing-view-versus-copy\n",
      "  if __name__ == '__main__':\n",
      "/anaconda3/lib/python3.7/site-packages/ipykernel_launcher.py:10: SettingWithCopyWarning: \n",
      "A value is trying to be set on a copy of a slice from a DataFrame.\n",
      "Try using .loc[row_indexer,col_indexer] = value instead\n",
      "\n",
      "See the caveats in the documentation: http://pandas.pydata.org/pandas-docs/stable/indexing.html#indexing-view-versus-copy\n",
      "  # Remove the CWD from sys.path while we load stuff.\n",
      "/anaconda3/lib/python3.7/site-packages/ipykernel_launcher.py:11: SettingWithCopyWarning: \n",
      "A value is trying to be set on a copy of a slice from a DataFrame.\n",
      "Try using .loc[row_indexer,col_indexer] = value instead\n",
      "\n",
      "See the caveats in the documentation: http://pandas.pydata.org/pandas-docs/stable/indexing.html#indexing-view-versus-copy\n",
      "  # This is added back by InteractiveShellApp.init_path()\n",
      "/anaconda3/lib/python3.7/site-packages/ipykernel_launcher.py:12: SettingWithCopyWarning: \n",
      "A value is trying to be set on a copy of a slice from a DataFrame.\n",
      "Try using .loc[row_indexer,col_indexer] = value instead\n",
      "\n",
      "See the caveats in the documentation: http://pandas.pydata.org/pandas-docs/stable/indexing.html#indexing-view-versus-copy\n",
      "  if sys.path[0] == '':\n",
      "/anaconda3/lib/python3.7/site-packages/ipykernel_launcher.py:13: SettingWithCopyWarning: \n",
      "A value is trying to be set on a copy of a slice from a DataFrame.\n",
      "Try using .loc[row_indexer,col_indexer] = value instead\n",
      "\n",
      "See the caveats in the documentation: http://pandas.pydata.org/pandas-docs/stable/indexing.html#indexing-view-versus-copy\n",
      "  del sys.path[0]\n",
      "/anaconda3/lib/python3.7/site-packages/ipykernel_launcher.py:14: SettingWithCopyWarning: \n",
      "A value is trying to be set on a copy of a slice from a DataFrame.\n",
      "Try using .loc[row_indexer,col_indexer] = value instead\n",
      "\n",
      "See the caveats in the documentation: http://pandas.pydata.org/pandas-docs/stable/indexing.html#indexing-view-versus-copy\n",
      "  \n",
      "/anaconda3/lib/python3.7/site-packages/ipykernel_launcher.py:15: SettingWithCopyWarning: \n",
      "A value is trying to be set on a copy of a slice from a DataFrame.\n",
      "Try using .loc[row_indexer,col_indexer] = value instead\n",
      "\n",
      "See the caveats in the documentation: http://pandas.pydata.org/pandas-docs/stable/indexing.html#indexing-view-versus-copy\n",
      "  from ipykernel import kernelapp as app\n",
      "/anaconda3/lib/python3.7/site-packages/ipykernel_launcher.py:16: SettingWithCopyWarning: \n",
      "A value is trying to be set on a copy of a slice from a DataFrame.\n",
      "Try using .loc[row_indexer,col_indexer] = value instead\n",
      "\n",
      "See the caveats in the documentation: http://pandas.pydata.org/pandas-docs/stable/indexing.html#indexing-view-versus-copy\n",
      "  app.launch_new_instance()\n"
     ]
    }
   ],
   "source": [
    "# making sure the teams names match those from previous dataframes.\n",
    "# This could be streamlined if there are lots of teams I'd need to change\n",
    "# a function with loops to remove spaces for example\n",
    "\n",
    "epl['team1'] = ['Bournemouth' if i=='AFC Bournemouth' else i for i in epl['team1']]\n",
    "epl['team2'] = ['Bournemouth' if i=='AFC Bournemouth' else i for i in epl['team2']]\n",
    "epl['team1'] = ['ManUtd' if i=='Manchester United' else i for i in epl['team1']]\n",
    "epl['team2'] = ['ManUtd' if i=='Manchester United' else i for i in epl['team2']]\n",
    "epl['team1'] = ['ManCity' if i=='Manchester City' else i for i in epl['team1']]\n",
    "epl['team2'] = ['ManCity' if i=='Manchester City' else i for i in epl['team2']]\n",
    "epl['team1'] = ['WestBrom' if i=='West Bromwich Albion' else i for i in epl['team1']]\n",
    "epl['team2'] = ['WestBrom' if i=='West Bromwich Albion' else i for i in epl['team2']]\n",
    "epl['team1'] = ['HullCity' if i=='Hull City' else i for i in epl['team1']]\n",
    "epl['team2'] = ['HullCity' if i=='Hull City' else i for i in epl['team2']]\n",
    "epl['team1'] = ['WestHam' if i=='West Ham United' else i for i in epl['team1']]\n",
    "epl['team2'] = ['WestHam' if i=='West Ham United' else i for i in epl['team2']]"
   ]
  },
  {
   "cell_type": "code",
   "execution_count": 45,
   "metadata": {
    "ExecuteTime": {
     "end_time": "2019-09-24T19:20:11.774038Z",
     "start_time": "2019-09-24T19:20:11.766910Z"
    },
    "hidden": true
   },
   "outputs": [],
   "source": [
    "# because I made it prettier by dropping the index name, it made it hard for me to sort values\n",
    "# i renamed the index column and then sorted by date and then by home team to keep everything in season order\n",
    "\n",
    "epl = epl.rename_axis('date').sort_values(by = ['date', 'team1'], ascending = True)"
   ]
  },
  {
   "cell_type": "code",
   "execution_count": 46,
   "metadata": {
    "ExecuteTime": {
     "end_time": "2019-09-24T19:20:12.072592Z",
     "start_time": "2019-09-24T19:20:12.069626Z"
    },
    "hidden": true
   },
   "outputs": [],
   "source": [
    "# made it pretty again\n",
    "\n",
    "epl.index.name = None"
   ]
  },
  {
   "cell_type": "code",
   "execution_count": 47,
   "metadata": {
    "ExecuteTime": {
     "end_time": "2019-09-24T19:20:12.313316Z",
     "start_time": "2019-09-24T19:20:12.286528Z"
    },
    "hidden": true,
    "scrolled": true
   },
   "outputs": [
    {
     "data": {
      "text/html": [
       "<div>\n",
       "<style scoped>\n",
       "    .dataframe tbody tr th:only-of-type {\n",
       "        vertical-align: middle;\n",
       "    }\n",
       "\n",
       "    .dataframe tbody tr th {\n",
       "        vertical-align: top;\n",
       "    }\n",
       "\n",
       "    .dataframe thead th {\n",
       "        text-align: right;\n",
       "    }\n",
       "</style>\n",
       "<table border=\"1\" class=\"dataframe\">\n",
       "  <thead>\n",
       "    <tr style=\"text-align: right;\">\n",
       "      <th></th>\n",
       "      <th>league_id</th>\n",
       "      <th>league</th>\n",
       "      <th>team1</th>\n",
       "      <th>team2</th>\n",
       "      <th>spi1</th>\n",
       "      <th>spi2</th>\n",
       "      <th>prob1</th>\n",
       "      <th>prob2</th>\n",
       "      <th>probtie</th>\n",
       "      <th>proj_score1</th>\n",
       "      <th>...</th>\n",
       "      <th>importance1</th>\n",
       "      <th>importance2</th>\n",
       "      <th>score1</th>\n",
       "      <th>score2</th>\n",
       "      <th>xg1</th>\n",
       "      <th>xg2</th>\n",
       "      <th>nsxg1</th>\n",
       "      <th>nsxg2</th>\n",
       "      <th>adj_score1</th>\n",
       "      <th>adj_score2</th>\n",
       "    </tr>\n",
       "  </thead>\n",
       "  <tbody>\n",
       "    <tr>\n",
       "      <th>2016-08-13</th>\n",
       "      <td>2411</td>\n",
       "      <td>Barclays Premier League</td>\n",
       "      <td>Burnley</td>\n",
       "      <td>Swansea City</td>\n",
       "      <td>58.98</td>\n",
       "      <td>59.74</td>\n",
       "      <td>0.4482</td>\n",
       "      <td>0.2663</td>\n",
       "      <td>0.2854</td>\n",
       "      <td>1.37</td>\n",
       "      <td>...</td>\n",
       "      <td>36.5</td>\n",
       "      <td>29.1</td>\n",
       "      <td>0.0</td>\n",
       "      <td>1.0</td>\n",
       "      <td>1.24</td>\n",
       "      <td>1.84</td>\n",
       "      <td>1.71</td>\n",
       "      <td>1.56</td>\n",
       "      <td>0.00</td>\n",
       "      <td>1.05</td>\n",
       "    </tr>\n",
       "    <tr>\n",
       "      <th>2016-08-13</th>\n",
       "      <td>2411</td>\n",
       "      <td>Barclays Premier League</td>\n",
       "      <td>Crystal Palace</td>\n",
       "      <td>WestBrom</td>\n",
       "      <td>55.19</td>\n",
       "      <td>58.66</td>\n",
       "      <td>0.4214</td>\n",
       "      <td>0.2939</td>\n",
       "      <td>0.2847</td>\n",
       "      <td>1.35</td>\n",
       "      <td>...</td>\n",
       "      <td>43.6</td>\n",
       "      <td>34.6</td>\n",
       "      <td>0.0</td>\n",
       "      <td>1.0</td>\n",
       "      <td>1.11</td>\n",
       "      <td>0.68</td>\n",
       "      <td>0.84</td>\n",
       "      <td>1.60</td>\n",
       "      <td>0.00</td>\n",
       "      <td>1.05</td>\n",
       "    </tr>\n",
       "    <tr>\n",
       "      <th>2016-08-13</th>\n",
       "      <td>2411</td>\n",
       "      <td>Barclays Premier League</td>\n",
       "      <td>Everton</td>\n",
       "      <td>Tottenham Hotspur</td>\n",
       "      <td>68.02</td>\n",
       "      <td>73.25</td>\n",
       "      <td>0.3910</td>\n",
       "      <td>0.3401</td>\n",
       "      <td>0.2689</td>\n",
       "      <td>1.47</td>\n",
       "      <td>...</td>\n",
       "      <td>31.9</td>\n",
       "      <td>48.0</td>\n",
       "      <td>1.0</td>\n",
       "      <td>1.0</td>\n",
       "      <td>0.73</td>\n",
       "      <td>1.11</td>\n",
       "      <td>0.88</td>\n",
       "      <td>1.81</td>\n",
       "      <td>1.05</td>\n",
       "      <td>1.05</td>\n",
       "    </tr>\n",
       "    <tr>\n",
       "      <th>2016-08-13</th>\n",
       "      <td>2411</td>\n",
       "      <td>Barclays Premier League</td>\n",
       "      <td>HullCity</td>\n",
       "      <td>Leicester City</td>\n",
       "      <td>53.57</td>\n",
       "      <td>66.81</td>\n",
       "      <td>0.3459</td>\n",
       "      <td>0.3621</td>\n",
       "      <td>0.2921</td>\n",
       "      <td>1.16</td>\n",
       "      <td>...</td>\n",
       "      <td>38.1</td>\n",
       "      <td>22.2</td>\n",
       "      <td>2.0</td>\n",
       "      <td>1.0</td>\n",
       "      <td>0.85</td>\n",
       "      <td>2.77</td>\n",
       "      <td>0.17</td>\n",
       "      <td>1.25</td>\n",
       "      <td>2.10</td>\n",
       "      <td>1.05</td>\n",
       "    </tr>\n",
       "    <tr>\n",
       "      <th>2016-08-13</th>\n",
       "      <td>2411</td>\n",
       "      <td>Barclays Premier League</td>\n",
       "      <td>ManCity</td>\n",
       "      <td>Sunderland</td>\n",
       "      <td>86.42</td>\n",
       "      <td>53.64</td>\n",
       "      <td>0.8152</td>\n",
       "      <td>0.0525</td>\n",
       "      <td>0.1323</td>\n",
       "      <td>2.69</td>\n",
       "      <td>...</td>\n",
       "      <td>73.0</td>\n",
       "      <td>27.0</td>\n",
       "      <td>2.0</td>\n",
       "      <td>1.0</td>\n",
       "      <td>2.14</td>\n",
       "      <td>1.25</td>\n",
       "      <td>1.81</td>\n",
       "      <td>0.92</td>\n",
       "      <td>2.10</td>\n",
       "      <td>1.05</td>\n",
       "    </tr>\n",
       "  </tbody>\n",
       "</table>\n",
       "<p>5 rows × 21 columns</p>\n",
       "</div>"
      ],
      "text/plain": [
       "            league_id                   league           team1  \\\n",
       "2016-08-13       2411  Barclays Premier League         Burnley   \n",
       "2016-08-13       2411  Barclays Premier League  Crystal Palace   \n",
       "2016-08-13       2411  Barclays Premier League         Everton   \n",
       "2016-08-13       2411  Barclays Premier League        HullCity   \n",
       "2016-08-13       2411  Barclays Premier League         ManCity   \n",
       "\n",
       "                        team2   spi1   spi2   prob1   prob2  probtie  \\\n",
       "2016-08-13       Swansea City  58.98  59.74  0.4482  0.2663   0.2854   \n",
       "2016-08-13           WestBrom  55.19  58.66  0.4214  0.2939   0.2847   \n",
       "2016-08-13  Tottenham Hotspur  68.02  73.25  0.3910  0.3401   0.2689   \n",
       "2016-08-13     Leicester City  53.57  66.81  0.3459  0.3621   0.2921   \n",
       "2016-08-13         Sunderland  86.42  53.64  0.8152  0.0525   0.1323   \n",
       "\n",
       "            proj_score1     ...      importance1  importance2  score1  score2  \\\n",
       "2016-08-13         1.37     ...             36.5         29.1     0.0     1.0   \n",
       "2016-08-13         1.35     ...             43.6         34.6     0.0     1.0   \n",
       "2016-08-13         1.47     ...             31.9         48.0     1.0     1.0   \n",
       "2016-08-13         1.16     ...             38.1         22.2     2.0     1.0   \n",
       "2016-08-13         2.69     ...             73.0         27.0     2.0     1.0   \n",
       "\n",
       "             xg1   xg2  nsxg1  nsxg2  adj_score1  adj_score2  \n",
       "2016-08-13  1.24  1.84   1.71   1.56        0.00        1.05  \n",
       "2016-08-13  1.11  0.68   0.84   1.60        0.00        1.05  \n",
       "2016-08-13  0.73  1.11   0.88   1.81        1.05        1.05  \n",
       "2016-08-13  0.85  2.77   0.17   1.25        2.10        1.05  \n",
       "2016-08-13  2.14  1.25   1.81   0.92        2.10        1.05  \n",
       "\n",
       "[5 rows x 21 columns]"
      ]
     },
     "execution_count": 47,
     "metadata": {},
     "output_type": "execute_result"
    }
   ],
   "source": [
    "epl.head()"
   ]
  },
  {
   "cell_type": "code",
   "execution_count": 48,
   "metadata": {
    "ExecuteTime": {
     "end_time": "2019-09-24T19:20:12.966592Z",
     "start_time": "2019-09-24T19:20:12.960590Z"
    },
    "hidden": true
   },
   "outputs": [
    {
     "data": {
      "text/plain": [
       "array(['Burnley', 'Crystal Palace', 'Everton', 'HullCity', 'ManCity',\n",
       "       'Middlesbrough', 'Southampton', 'Arsenal', 'Bournemouth',\n",
       "       'Chelsea', 'ManUtd', 'Leicester City', 'Stoke City',\n",
       "       'Swansea City', 'Tottenham Hotspur', 'Watford', 'WestBrom',\n",
       "       'Sunderland', 'WestHam', 'Liverpool', 'Brighton and Hove Albion',\n",
       "       'Newcastle', 'Huddersfield Town', 'Fulham', 'Wolverhampton',\n",
       "       'Cardiff City'], dtype=object)"
      ]
     },
     "execution_count": 48,
     "metadata": {},
     "output_type": "execute_result"
    }
   ],
   "source": [
    "epl.team1.unique()"
   ]
  },
  {
   "cell_type": "code",
   "execution_count": 656,
   "metadata": {
    "ExecuteTime": {
     "end_time": "2019-09-11T17:31:49.498059Z",
     "start_time": "2019-09-11T17:31:49.124918Z"
    },
    "hidden": true
   },
   "outputs": [
    {
     "data": {
      "text/plain": [
       "<matplotlib.axes._subplots.AxesSubplot at 0x1a1bf0d588>"
      ]
     },
     "execution_count": 656,
     "metadata": {},
     "output_type": "execute_result"
    },
    {
     "data": {
      "image/png": "[encoded data removed]",
      "text/plain": [
       "<Figure size 432x288 with 1 Axes>"
      ]
     },
     "metadata": {
      "image/png": {
       "height": 256,
       "width": 411
      },
      "needs_background": "light"
     },
     "output_type": "display_data"
    }
   ],
   "source": [
    "epl[epl['team1'] == 'Liverpool'].xg1.plot(kind='hist')\n",
    "epl[epl['team1'] == 'Liverpool'].score1.plot(kind='hist', alpha=0.8)"
   ]
  },
  {
   "cell_type": "code",
   "execution_count": 655,
   "metadata": {
    "ExecuteTime": {
     "end_time": "2019-09-11T17:31:41.145067Z",
     "start_time": "2019-09-11T17:31:40.776450Z"
    },
    "hidden": true
   },
   "outputs": [
    {
     "data": {
      "text/plain": [
       "<matplotlib.axes._subplots.AxesSubplot at 0x1a1be3da58>"
      ]
     },
     "execution_count": 655,
     "metadata": {},
     "output_type": "execute_result"
    },
    {
     "data": {
      "image/png": "[encoded data removed]",
      "text/plain": [
       "<Figure size 432x288 with 1 Axes>"
      ]
     },
     "metadata": {
      "image/png": {
       "height": 256,
       "width": 397
      },
      "needs_background": "light"
     },
     "output_type": "display_data"
    }
   ],
   "source": [
    "epl[epl['team1'] == 'ManCity'].xg1.plot(kind='hist')\n",
    "epl[epl['team1'] == 'ManCity'].score1.plot(kind='hist', alpha=0.8)"
   ]
  },
  {
   "cell_type": "markdown",
   "metadata": {
    "heading_collapsed": true
   },
   "source": [
    "### Football Odds DataFrames"
   ]
  },
  {
   "cell_type": "markdown",
   "metadata": {
    "hidden": true
   },
   "source": [
    "These DataFrames will be the testing of the concept. Predicting the outcome of a football game with a great deal of certainty is an unlikely event. However, predicting the outcome of the game better than the bookies do is a possibility.\n",
    "\n",
    "These dataframes show the bookies odds for the passed three seasons in the Premier League"
   ]
  },
  {
   "cell_type": "code",
   "execution_count": 7,
   "metadata": {
    "ExecuteTime": {
     "end_time": "2019-09-24T19:17:03.479176Z",
     "start_time": "2019-09-24T19:17:03.445074Z"
    },
    "hidden": true
   },
   "outputs": [],
   "source": [
    "football_data_2016 = pd.read_csv('csv/2016_2017.csv')\n",
    "football_data_2017 = pd.read_csv('csv/2017_2018.csv')\n",
    "football_data_2018 = pd.read_csv('csv/2018_2019.csv')"
   ]
  },
  {
   "cell_type": "code",
   "execution_count": 8,
   "metadata": {
    "ExecuteTime": {
     "end_time": "2019-09-24T19:17:04.018104Z",
     "start_time": "2019-09-24T19:17:04.008793Z"
    },
    "hidden": true
   },
   "outputs": [
    {
     "data": {
      "text/plain": [
       "(380, 65)"
      ]
     },
     "execution_count": 8,
     "metadata": {},
     "output_type": "execute_result"
    }
   ],
   "source": [
    "# Checking the shape, there should be 380 values based on a single season\n",
    "\n",
    "football_data_2016.shape"
   ]
  },
  {
   "cell_type": "code",
   "execution_count": 9,
   "metadata": {
    "ExecuteTime": {
     "end_time": "2019-09-24T19:17:04.677520Z",
     "start_time": "2019-09-24T19:17:04.672697Z"
    },
    "hidden": true
   },
   "outputs": [
    {
     "data": {
      "text/plain": [
       "(380, 65)"
      ]
     },
     "execution_count": 9,
     "metadata": {},
     "output_type": "execute_result"
    }
   ],
   "source": [
    "football_data_2017.shape"
   ]
  },
  {
   "cell_type": "code",
   "execution_count": 10,
   "metadata": {
    "ExecuteTime": {
     "end_time": "2019-09-24T19:17:05.182270Z",
     "start_time": "2019-09-24T19:17:05.171914Z"
    },
    "hidden": true
   },
   "outputs": [
    {
     "data": {
      "text/plain": [
       "(380, 62)"
      ]
     },
     "execution_count": 10,
     "metadata": {},
     "output_type": "execute_result"
    }
   ],
   "source": [
    "# There are three less columns in this dataframe, probably going to need to drop these three so I can merge\n",
    "# with the other two\n",
    "\n",
    "football_data_2018.shape"
   ]
  },
  {
   "cell_type": "code",
   "execution_count": 11,
   "metadata": {
    "ExecuteTime": {
     "end_time": "2019-09-24T19:17:06.787371Z",
     "start_time": "2019-09-24T19:17:06.750392Z"
    },
    "hidden": true
   },
   "outputs": [
    {
     "data": {
      "text/html": [
       "<div>\n",
       "<style scoped>\n",
       "    .dataframe tbody tr th:only-of-type {\n",
       "        vertical-align: middle;\n",
       "    }\n",
       "\n",
       "    .dataframe tbody tr th {\n",
       "        vertical-align: top;\n",
       "    }\n",
       "\n",
       "    .dataframe thead th {\n",
       "        text-align: right;\n",
       "    }\n",
       "</style>\n",
       "<table border=\"1\" class=\"dataframe\">\n",
       "  <thead>\n",
       "    <tr style=\"text-align: right;\">\n",
       "      <th></th>\n",
       "      <th>Div</th>\n",
       "      <th>Date</th>\n",
       "      <th>HomeTeam</th>\n",
       "      <th>AwayTeam</th>\n",
       "      <th>FTHG</th>\n",
       "      <th>FTAG</th>\n",
       "      <th>FTR</th>\n",
       "      <th>HTHG</th>\n",
       "      <th>HTAG</th>\n",
       "      <th>HTR</th>\n",
       "      <th>...</th>\n",
       "      <th>BbAv&lt;2.5</th>\n",
       "      <th>BbAH</th>\n",
       "      <th>BbAHh</th>\n",
       "      <th>BbMxAHH</th>\n",
       "      <th>BbAvAHH</th>\n",
       "      <th>BbMxAHA</th>\n",
       "      <th>BbAvAHA</th>\n",
       "      <th>PSCH</th>\n",
       "      <th>PSCD</th>\n",
       "      <th>PSCA</th>\n",
       "    </tr>\n",
       "  </thead>\n",
       "  <tbody>\n",
       "    <tr>\n",
       "      <th>0</th>\n",
       "      <td>E0</td>\n",
       "      <td>10/08/2018</td>\n",
       "      <td>Man United</td>\n",
       "      <td>Leicester</td>\n",
       "      <td>2</td>\n",
       "      <td>1</td>\n",
       "      <td>H</td>\n",
       "      <td>1</td>\n",
       "      <td>0</td>\n",
       "      <td>H</td>\n",
       "      <td>...</td>\n",
       "      <td>1.79</td>\n",
       "      <td>17</td>\n",
       "      <td>-0.75</td>\n",
       "      <td>1.75</td>\n",
       "      <td>1.70</td>\n",
       "      <td>2.29</td>\n",
       "      <td>2.21</td>\n",
       "      <td>1.55</td>\n",
       "      <td>4.07</td>\n",
       "      <td>7.69</td>\n",
       "    </tr>\n",
       "    <tr>\n",
       "      <th>1</th>\n",
       "      <td>E0</td>\n",
       "      <td>11/08/2018</td>\n",
       "      <td>Bournemouth</td>\n",
       "      <td>Cardiff</td>\n",
       "      <td>2</td>\n",
       "      <td>0</td>\n",
       "      <td>H</td>\n",
       "      <td>1</td>\n",
       "      <td>0</td>\n",
       "      <td>H</td>\n",
       "      <td>...</td>\n",
       "      <td>1.83</td>\n",
       "      <td>20</td>\n",
       "      <td>-0.75</td>\n",
       "      <td>2.20</td>\n",
       "      <td>2.13</td>\n",
       "      <td>1.80</td>\n",
       "      <td>1.75</td>\n",
       "      <td>1.88</td>\n",
       "      <td>3.61</td>\n",
       "      <td>4.70</td>\n",
       "    </tr>\n",
       "    <tr>\n",
       "      <th>2</th>\n",
       "      <td>E0</td>\n",
       "      <td>11/08/2018</td>\n",
       "      <td>Fulham</td>\n",
       "      <td>Crystal Palace</td>\n",
       "      <td>0</td>\n",
       "      <td>2</td>\n",
       "      <td>A</td>\n",
       "      <td>0</td>\n",
       "      <td>1</td>\n",
       "      <td>A</td>\n",
       "      <td>...</td>\n",
       "      <td>1.87</td>\n",
       "      <td>22</td>\n",
       "      <td>-0.25</td>\n",
       "      <td>2.18</td>\n",
       "      <td>2.11</td>\n",
       "      <td>1.81</td>\n",
       "      <td>1.77</td>\n",
       "      <td>2.62</td>\n",
       "      <td>3.38</td>\n",
       "      <td>2.90</td>\n",
       "    </tr>\n",
       "    <tr>\n",
       "      <th>3</th>\n",
       "      <td>E0</td>\n",
       "      <td>11/08/2018</td>\n",
       "      <td>Huddersfield</td>\n",
       "      <td>Chelsea</td>\n",
       "      <td>0</td>\n",
       "      <td>3</td>\n",
       "      <td>A</td>\n",
       "      <td>0</td>\n",
       "      <td>2</td>\n",
       "      <td>A</td>\n",
       "      <td>...</td>\n",
       "      <td>1.84</td>\n",
       "      <td>23</td>\n",
       "      <td>1.00</td>\n",
       "      <td>1.84</td>\n",
       "      <td>1.80</td>\n",
       "      <td>2.13</td>\n",
       "      <td>2.06</td>\n",
       "      <td>7.24</td>\n",
       "      <td>3.95</td>\n",
       "      <td>1.58</td>\n",
       "    </tr>\n",
       "    <tr>\n",
       "      <th>4</th>\n",
       "      <td>E0</td>\n",
       "      <td>11/08/2018</td>\n",
       "      <td>Newcastle</td>\n",
       "      <td>Tottenham</td>\n",
       "      <td>1</td>\n",
       "      <td>2</td>\n",
       "      <td>A</td>\n",
       "      <td>1</td>\n",
       "      <td>2</td>\n",
       "      <td>A</td>\n",
       "      <td>...</td>\n",
       "      <td>1.81</td>\n",
       "      <td>20</td>\n",
       "      <td>0.25</td>\n",
       "      <td>2.20</td>\n",
       "      <td>2.12</td>\n",
       "      <td>1.80</td>\n",
       "      <td>1.76</td>\n",
       "      <td>4.74</td>\n",
       "      <td>3.53</td>\n",
       "      <td>1.89</td>\n",
       "    </tr>\n",
       "  </tbody>\n",
       "</table>\n",
       "<p>5 rows × 62 columns</p>\n",
       "</div>"
      ],
      "text/plain": [
       "  Div        Date      HomeTeam        AwayTeam  FTHG  FTAG FTR  HTHG  HTAG  \\\n",
       "0  E0  10/08/2018    Man United       Leicester     2     1   H     1     0   \n",
       "1  E0  11/08/2018   Bournemouth         Cardiff     2     0   H     1     0   \n",
       "2  E0  11/08/2018        Fulham  Crystal Palace     0     2   A     0     1   \n",
       "3  E0  11/08/2018  Huddersfield         Chelsea     0     3   A     0     2   \n",
       "4  E0  11/08/2018     Newcastle       Tottenham     1     2   A     1     2   \n",
       "\n",
       "  HTR  ...  BbAv<2.5  BbAH  BbAHh  BbMxAHH  BbAvAHH  BbMxAHA  BbAvAHA  PSCH  \\\n",
       "0   H  ...      1.79    17  -0.75     1.75     1.70     2.29     2.21  1.55   \n",
       "1   H  ...      1.83    20  -0.75     2.20     2.13     1.80     1.75  1.88   \n",
       "2   A  ...      1.87    22  -0.25     2.18     2.11     1.81     1.77  2.62   \n",
       "3   A  ...      1.84    23   1.00     1.84     1.80     2.13     2.06  7.24   \n",
       "4   A  ...      1.81    20   0.25     2.20     2.12     1.80     1.76  4.74   \n",
       "\n",
       "   PSCD  PSCA  \n",
       "0  4.07  7.69  \n",
       "1  3.61  4.70  \n",
       "2  3.38  2.90  \n",
       "3  3.95  1.58  \n",
       "4  3.53  1.89  \n",
       "\n",
       "[5 rows x 62 columns]"
      ]
     },
     "execution_count": 11,
     "metadata": {},
     "output_type": "execute_result"
    }
   ],
   "source": [
    "# How does it look\n",
    "\n",
    "football_data_2018.head()"
   ]
  },
  {
   "cell_type": "markdown",
   "metadata": {
    "hidden": true
   },
   "source": [
    "<b>It turns out that this dataframe has more variables than I thought it would. I'll use this one as my main dataframe and append the others to this.</b>"
   ]
  },
  {
   "cell_type": "code",
   "execution_count": 12,
   "metadata": {
    "ExecuteTime": {
     "end_time": "2019-09-24T19:17:08.099908Z",
     "start_time": "2019-09-24T19:17:08.090916Z"
    },
    "hidden": true
   },
   "outputs": [
    {
     "data": {
      "text/plain": [
       "['Div',\n",
       " 'Date',\n",
       " 'HomeTeam',\n",
       " 'AwayTeam',\n",
       " 'FTHG',\n",
       " 'FTAG',\n",
       " 'FTR',\n",
       " 'HTHG',\n",
       " 'HTAG',\n",
       " 'HTR',\n",
       " 'Referee',\n",
       " 'HS',\n",
       " 'AS',\n",
       " 'HST',\n",
       " 'AST',\n",
       " 'HF',\n",
       " 'AF',\n",
       " 'HC',\n",
       " 'AC',\n",
       " 'HY',\n",
       " 'AY',\n",
       " 'HR',\n",
       " 'AR',\n",
       " 'B365H',\n",
       " 'B365D',\n",
       " 'B365A',\n",
       " 'BWH',\n",
       " 'BWD',\n",
       " 'BWA',\n",
       " 'IWH',\n",
       " 'IWD',\n",
       " 'IWA',\n",
       " nan,\n",
       " nan,\n",
       " nan,\n",
       " nan,\n",
       " nan,\n",
       " nan,\n",
       " nan,\n",
       " nan,\n",
       " nan,\n",
       " nan,\n",
       " nan,\n",
       " nan,\n",
       " nan,\n",
       " nan,\n",
       " nan,\n",
       " nan,\n",
       " nan,\n",
       " nan,\n",
       " nan,\n",
       " nan,\n",
       " nan,\n",
       " nan,\n",
       " nan,\n",
       " nan,\n",
       " nan,\n",
       " nan,\n",
       " nan,\n",
       " nan,\n",
       " nan,\n",
       " nan]"
      ]
     },
     "execution_count": 12,
     "metadata": {},
     "output_type": "execute_result"
    }
   ],
   "source": [
    "# a dirty list comprehension to see where the df's stop lining up\n",
    "\n",
    "[n if n==i else np.nan for i,n in zip(football_data_2017.columns, football_data_2018.columns)]"
   ]
  },
  {
   "cell_type": "code",
   "execution_count": 13,
   "metadata": {
    "ExecuteTime": {
     "end_time": "2019-09-24T19:17:11.149058Z",
     "start_time": "2019-09-24T19:17:11.144036Z"
    },
    "hidden": true
   },
   "outputs": [],
   "source": [
    "# It looks like the missing columns occur just after 'IWA' - let's eyeball the three df's columns"
   ]
  },
  {
   "cell_type": "code",
   "execution_count": 14,
   "metadata": {
    "ExecuteTime": {
     "end_time": "2019-09-24T19:17:11.684052Z",
     "start_time": "2019-09-24T19:17:11.675252Z"
    },
    "hidden": true
   },
   "outputs": [
    {
     "data": {
      "text/plain": [
       "Index(['Div', 'Date', 'HomeTeam', 'AwayTeam', 'FTHG', 'FTAG', 'FTR', 'HTHG',\n",
       "       'HTAG', 'HTR', 'Referee', 'HS', 'AS', 'HST', 'AST', 'HF', 'AF', 'HC',\n",
       "       'AC', 'HY', 'AY', 'HR', 'AR', 'B365H', 'B365D', 'B365A', 'BWH', 'BWD',\n",
       "       'BWA', 'IWH', 'IWD', 'IWA', 'LBH', 'LBD', 'LBA', 'PSH', 'PSD', 'PSA',\n",
       "       'WHH', 'WHD', 'WHA', 'VCH', 'VCD', 'VCA', 'Bb1X2', 'BbMxH', 'BbAvH',\n",
       "       'BbMxD', 'BbAvD', 'BbMxA', 'BbAvA', 'BbOU', 'BbMx>2.5', 'BbAv>2.5',\n",
       "       'BbMx<2.5', 'BbAv<2.5', 'BbAH', 'BbAHh', 'BbMxAHH', 'BbAvAHH',\n",
       "       'BbMxAHA', 'BbAvAHA', 'PSCH', 'PSCD', 'PSCA'],\n",
       "      dtype='object')"
      ]
     },
     "execution_count": 14,
     "metadata": {},
     "output_type": "execute_result"
    }
   ],
   "source": [
    "football_data_2016.columns"
   ]
  },
  {
   "cell_type": "code",
   "execution_count": 15,
   "metadata": {
    "ExecuteTime": {
     "end_time": "2019-09-24T19:17:12.076423Z",
     "start_time": "2019-09-24T19:17:12.070247Z"
    },
    "hidden": true
   },
   "outputs": [
    {
     "data": {
      "text/plain": [
       "Index(['Div', 'Date', 'HomeTeam', 'AwayTeam', 'FTHG', 'FTAG', 'FTR', 'HTHG',\n",
       "       'HTAG', 'HTR', 'Referee', 'HS', 'AS', 'HST', 'AST', 'HF', 'AF', 'HC',\n",
       "       'AC', 'HY', 'AY', 'HR', 'AR', 'B365H', 'B365D', 'B365A', 'BWH', 'BWD',\n",
       "       'BWA', 'IWH', 'IWD', 'IWA', 'LBH', 'LBD', 'LBA', 'PSH', 'PSD', 'PSA',\n",
       "       'WHH', 'WHD', 'WHA', 'VCH', 'VCD', 'VCA', 'Bb1X2', 'BbMxH', 'BbAvH',\n",
       "       'BbMxD', 'BbAvD', 'BbMxA', 'BbAvA', 'BbOU', 'BbMx>2.5', 'BbAv>2.5',\n",
       "       'BbMx<2.5', 'BbAv<2.5', 'BbAH', 'BbAHh', 'BbMxAHH', 'BbAvAHH',\n",
       "       'BbMxAHA', 'BbAvAHA', 'PSCH', 'PSCD', 'PSCA'],\n",
       "      dtype='object')"
      ]
     },
     "execution_count": 15,
     "metadata": {},
     "output_type": "execute_result"
    }
   ],
   "source": [
    "football_data_2017.columns"
   ]
  },
  {
   "cell_type": "code",
   "execution_count": 16,
   "metadata": {
    "ExecuteTime": {
     "end_time": "2019-09-24T19:17:12.576174Z",
     "start_time": "2019-09-24T19:17:12.568941Z"
    },
    "hidden": true
   },
   "outputs": [
    {
     "data": {
      "text/plain": [
       "Index(['Div', 'Date', 'HomeTeam', 'AwayTeam', 'FTHG', 'FTAG', 'FTR', 'HTHG',\n",
       "       'HTAG', 'HTR', 'Referee', 'HS', 'AS', 'HST', 'AST', 'HF', 'AF', 'HC',\n",
       "       'AC', 'HY', 'AY', 'HR', 'AR', 'B365H', 'B365D', 'B365A', 'BWH', 'BWD',\n",
       "       'BWA', 'IWH', 'IWD', 'IWA', 'PSH', 'PSD', 'PSA', 'WHH', 'WHD', 'WHA',\n",
       "       'VCH', 'VCD', 'VCA', 'Bb1X2', 'BbMxH', 'BbAvH', 'BbMxD', 'BbAvD',\n",
       "       'BbMxA', 'BbAvA', 'BbOU', 'BbMx>2.5', 'BbAv>2.5', 'BbMx<2.5',\n",
       "       'BbAv<2.5', 'BbAH', 'BbAHh', 'BbMxAHH', 'BbAvAHH', 'BbMxAHA', 'BbAvAHA',\n",
       "       'PSCH', 'PSCD', 'PSCA'],\n",
       "      dtype='object')"
      ]
     },
     "execution_count": 16,
     "metadata": {},
     "output_type": "execute_result"
    }
   ],
   "source": [
    "football_data_2018.columns"
   ]
  },
  {
   "cell_type": "code",
   "execution_count": 17,
   "metadata": {
    "ExecuteTime": {
     "end_time": "2019-09-24T19:17:13.005020Z",
     "start_time": "2019-09-24T19:17:13.000720Z"
    },
    "hidden": true
   },
   "outputs": [],
   "source": [
    "# Yes, just after IWA, 2016 and 2017 have three values that don't appear in 2018. I'll just drop those\n",
    "# as I have enough betting companies anyway"
   ]
  },
  {
   "cell_type": "code",
   "execution_count": 18,
   "metadata": {
    "ExecuteTime": {
     "end_time": "2019-09-24T19:17:14.342172Z",
     "start_time": "2019-09-24T19:17:14.333083Z"
    },
    "hidden": true
   },
   "outputs": [],
   "source": [
    "football_data_2016.drop(columns=['LBH', 'LBD', 'LBA'], inplace=True)\n",
    "football_data_2017.drop(columns=['LBH', 'LBD', 'LBA'], inplace=True)"
   ]
  },
  {
   "cell_type": "code",
   "execution_count": 19,
   "metadata": {
    "ExecuteTime": {
     "end_time": "2019-09-24T19:17:14.673304Z",
     "start_time": "2019-09-24T19:17:14.670133Z"
    },
    "hidden": true
   },
   "outputs": [],
   "source": [
    "# Create a list of the df's to merge them\n",
    "\n",
    "frames = [football_data_2016, football_data_2017, football_data_2018]"
   ]
  },
  {
   "cell_type": "code",
   "execution_count": 20,
   "metadata": {
    "ExecuteTime": {
     "end_time": "2019-09-24T19:17:15.168616Z",
     "start_time": "2019-09-24T19:17:15.158754Z"
    },
    "hidden": true
   },
   "outputs": [],
   "source": [
    "# aaaaaaaand concat!\n",
    "football_all = pd.concat(frames)"
   ]
  },
  {
   "cell_type": "code",
   "execution_count": 21,
   "metadata": {
    "ExecuteTime": {
     "end_time": "2019-09-24T19:17:15.478443Z",
     "start_time": "2019-09-24T19:17:15.470322Z"
    },
    "hidden": true
   },
   "outputs": [
    {
     "data": {
      "text/plain": [
       "(1140, 62)"
      ]
     },
     "execution_count": 21,
     "metadata": {},
     "output_type": "execute_result"
    }
   ],
   "source": [
    "# Just checking....\n",
    "\n",
    "football_all.shape"
   ]
  },
  {
   "cell_type": "code",
   "execution_count": 22,
   "metadata": {
    "ExecuteTime": {
     "end_time": "2019-09-24T19:17:15.782036Z",
     "start_time": "2019-09-24T19:17:15.754965Z"
    },
    "hidden": true
   },
   "outputs": [
    {
     "data": {
      "text/html": [
       "<div>\n",
       "<style scoped>\n",
       "    .dataframe tbody tr th:only-of-type {\n",
       "        vertical-align: middle;\n",
       "    }\n",
       "\n",
       "    .dataframe tbody tr th {\n",
       "        vertical-align: top;\n",
       "    }\n",
       "\n",
       "    .dataframe thead th {\n",
       "        text-align: right;\n",
       "    }\n",
       "</style>\n",
       "<table border=\"1\" class=\"dataframe\">\n",
       "  <thead>\n",
       "    <tr style=\"text-align: right;\">\n",
       "      <th></th>\n",
       "      <th>Div</th>\n",
       "      <th>Date</th>\n",
       "      <th>HomeTeam</th>\n",
       "      <th>AwayTeam</th>\n",
       "      <th>FTHG</th>\n",
       "      <th>FTAG</th>\n",
       "      <th>FTR</th>\n",
       "      <th>HTHG</th>\n",
       "      <th>HTAG</th>\n",
       "      <th>HTR</th>\n",
       "      <th>...</th>\n",
       "      <th>BbAv&lt;2.5</th>\n",
       "      <th>BbAH</th>\n",
       "      <th>BbAHh</th>\n",
       "      <th>BbMxAHH</th>\n",
       "      <th>BbAvAHH</th>\n",
       "      <th>BbMxAHA</th>\n",
       "      <th>BbAvAHA</th>\n",
       "      <th>PSCH</th>\n",
       "      <th>PSCD</th>\n",
       "      <th>PSCA</th>\n",
       "    </tr>\n",
       "  </thead>\n",
       "  <tbody>\n",
       "    <tr>\n",
       "      <th>0</th>\n",
       "      <td>E0</td>\n",
       "      <td>13/08/2016</td>\n",
       "      <td>Burnley</td>\n",
       "      <td>Swansea</td>\n",
       "      <td>0</td>\n",
       "      <td>1</td>\n",
       "      <td>A</td>\n",
       "      <td>0</td>\n",
       "      <td>0</td>\n",
       "      <td>D</td>\n",
       "      <td>...</td>\n",
       "      <td>1.61</td>\n",
       "      <td>32</td>\n",
       "      <td>-0.25</td>\n",
       "      <td>2.13</td>\n",
       "      <td>2.06</td>\n",
       "      <td>1.86</td>\n",
       "      <td>1.81</td>\n",
       "      <td>2.79</td>\n",
       "      <td>3.16</td>\n",
       "      <td>2.89</td>\n",
       "    </tr>\n",
       "    <tr>\n",
       "      <th>1</th>\n",
       "      <td>E0</td>\n",
       "      <td>13/08/2016</td>\n",
       "      <td>Crystal Palace</td>\n",
       "      <td>West Brom</td>\n",
       "      <td>0</td>\n",
       "      <td>1</td>\n",
       "      <td>A</td>\n",
       "      <td>0</td>\n",
       "      <td>0</td>\n",
       "      <td>D</td>\n",
       "      <td>...</td>\n",
       "      <td>1.52</td>\n",
       "      <td>33</td>\n",
       "      <td>-0.50</td>\n",
       "      <td>2.07</td>\n",
       "      <td>2.00</td>\n",
       "      <td>1.90</td>\n",
       "      <td>1.85</td>\n",
       "      <td>2.25</td>\n",
       "      <td>3.15</td>\n",
       "      <td>3.86</td>\n",
       "    </tr>\n",
       "    <tr>\n",
       "      <th>2</th>\n",
       "      <td>E0</td>\n",
       "      <td>13/08/2016</td>\n",
       "      <td>Everton</td>\n",
       "      <td>Tottenham</td>\n",
       "      <td>1</td>\n",
       "      <td>1</td>\n",
       "      <td>D</td>\n",
       "      <td>1</td>\n",
       "      <td>0</td>\n",
       "      <td>H</td>\n",
       "      <td>...</td>\n",
       "      <td>1.77</td>\n",
       "      <td>32</td>\n",
       "      <td>0.25</td>\n",
       "      <td>1.91</td>\n",
       "      <td>1.85</td>\n",
       "      <td>2.09</td>\n",
       "      <td>2.00</td>\n",
       "      <td>3.64</td>\n",
       "      <td>3.54</td>\n",
       "      <td>2.16</td>\n",
       "    </tr>\n",
       "    <tr>\n",
       "      <th>3</th>\n",
       "      <td>E0</td>\n",
       "      <td>13/08/2016</td>\n",
       "      <td>Hull</td>\n",
       "      <td>Leicester</td>\n",
       "      <td>2</td>\n",
       "      <td>1</td>\n",
       "      <td>H</td>\n",
       "      <td>1</td>\n",
       "      <td>0</td>\n",
       "      <td>H</td>\n",
       "      <td>...</td>\n",
       "      <td>1.67</td>\n",
       "      <td>31</td>\n",
       "      <td>0.25</td>\n",
       "      <td>2.35</td>\n",
       "      <td>2.26</td>\n",
       "      <td>2.03</td>\n",
       "      <td>1.67</td>\n",
       "      <td>4.68</td>\n",
       "      <td>3.50</td>\n",
       "      <td>1.92</td>\n",
       "    </tr>\n",
       "    <tr>\n",
       "      <th>4</th>\n",
       "      <td>E0</td>\n",
       "      <td>13/08/2016</td>\n",
       "      <td>Man City</td>\n",
       "      <td>Sunderland</td>\n",
       "      <td>2</td>\n",
       "      <td>1</td>\n",
       "      <td>H</td>\n",
       "      <td>1</td>\n",
       "      <td>0</td>\n",
       "      <td>H</td>\n",
       "      <td>...</td>\n",
       "      <td>2.48</td>\n",
       "      <td>34</td>\n",
       "      <td>-1.50</td>\n",
       "      <td>1.81</td>\n",
       "      <td>1.73</td>\n",
       "      <td>2.20</td>\n",
       "      <td>2.14</td>\n",
       "      <td>1.25</td>\n",
       "      <td>6.50</td>\n",
       "      <td>14.50</td>\n",
       "    </tr>\n",
       "  </tbody>\n",
       "</table>\n",
       "<p>5 rows × 62 columns</p>\n",
       "</div>"
      ],
      "text/plain": [
       "  Div        Date        HomeTeam    AwayTeam  FTHG  FTAG FTR  HTHG  HTAG HTR  \\\n",
       "0  E0  13/08/2016         Burnley     Swansea     0     1   A     0     0   D   \n",
       "1  E0  13/08/2016  Crystal Palace   West Brom     0     1   A     0     0   D   \n",
       "2  E0  13/08/2016         Everton   Tottenham     1     1   D     1     0   H   \n",
       "3  E0  13/08/2016            Hull   Leicester     2     1   H     1     0   H   \n",
       "4  E0  13/08/2016        Man City  Sunderland     2     1   H     1     0   H   \n",
       "\n",
       "   ...   BbAv<2.5  BbAH  BbAHh  BbMxAHH  BbAvAHH  BbMxAHA  BbAvAHA  PSCH  \\\n",
       "0  ...       1.61    32  -0.25     2.13     2.06     1.86     1.81  2.79   \n",
       "1  ...       1.52    33  -0.50     2.07     2.00     1.90     1.85  2.25   \n",
       "2  ...       1.77    32   0.25     1.91     1.85     2.09     2.00  3.64   \n",
       "3  ...       1.67    31   0.25     2.35     2.26     2.03     1.67  4.68   \n",
       "4  ...       2.48    34  -1.50     1.81     1.73     2.20     2.14  1.25   \n",
       "\n",
       "   PSCD   PSCA  \n",
       "0  3.16   2.89  \n",
       "1  3.15   3.86  \n",
       "2  3.54   2.16  \n",
       "3  3.50   1.92  \n",
       "4  6.50  14.50  \n",
       "\n",
       "[5 rows x 62 columns]"
      ]
     },
     "execution_count": 22,
     "metadata": {},
     "output_type": "execute_result"
    }
   ],
   "source": [
    "football_all.head()"
   ]
  },
  {
   "cell_type": "code",
   "execution_count": 23,
   "metadata": {
    "ExecuteTime": {
     "end_time": "2019-09-24T19:17:16.150505Z",
     "start_time": "2019-09-24T19:17:16.137572Z"
    },
    "hidden": true
   },
   "outputs": [],
   "source": [
    "# convert date to datetime format\n",
    "\n",
    "football_all['date'] = pd.to_datetime(football_all['Date'], format='%d/%m/%Y')"
   ]
  },
  {
   "cell_type": "code",
   "execution_count": 24,
   "metadata": {
    "ExecuteTime": {
     "end_time": "2019-09-24T19:17:17.536149Z",
     "start_time": "2019-09-24T19:17:17.529260Z"
    },
    "hidden": true
   },
   "outputs": [],
   "source": [
    "# make it the index\n",
    "\n",
    "football_all.set_index('date', inplace=True, drop=True)"
   ]
  },
  {
   "cell_type": "code",
   "execution_count": 25,
   "metadata": {
    "ExecuteTime": {
     "end_time": "2019-09-24T19:17:17.929323Z",
     "start_time": "2019-09-24T19:17:17.926630Z"
    },
    "hidden": true
   },
   "outputs": [],
   "source": [
    "# give the index a name so I can sort it by index and home team\n",
    "\n",
    "football_all.index.name = 'date'"
   ]
  },
  {
   "cell_type": "code",
   "execution_count": 26,
   "metadata": {
    "ExecuteTime": {
     "end_time": "2019-09-24T19:17:18.333113Z",
     "start_time": "2019-09-24T19:17:18.320776Z"
    },
    "hidden": true
   },
   "outputs": [],
   "source": [
    "football_all = football_all.sort_values(by = ['date', 'HomeTeam'], ascending = True)"
   ]
  },
  {
   "cell_type": "code",
   "execution_count": 27,
   "metadata": {
    "ExecuteTime": {
     "end_time": "2019-09-24T19:17:18.676209Z",
     "start_time": "2019-09-24T19:17:18.647122Z"
    },
    "hidden": true
   },
   "outputs": [
    {
     "data": {
      "text/html": [
       "<div>\n",
       "<style scoped>\n",
       "    .dataframe tbody tr th:only-of-type {\n",
       "        vertical-align: middle;\n",
       "    }\n",
       "\n",
       "    .dataframe tbody tr th {\n",
       "        vertical-align: top;\n",
       "    }\n",
       "\n",
       "    .dataframe thead th {\n",
       "        text-align: right;\n",
       "    }\n",
       "</style>\n",
       "<table border=\"1\" class=\"dataframe\">\n",
       "  <thead>\n",
       "    <tr style=\"text-align: right;\">\n",
       "      <th></th>\n",
       "      <th>Div</th>\n",
       "      <th>Date</th>\n",
       "      <th>HomeTeam</th>\n",
       "      <th>AwayTeam</th>\n",
       "      <th>FTHG</th>\n",
       "      <th>FTAG</th>\n",
       "      <th>FTR</th>\n",
       "      <th>HTHG</th>\n",
       "      <th>HTAG</th>\n",
       "      <th>HTR</th>\n",
       "      <th>...</th>\n",
       "      <th>BbAv&lt;2.5</th>\n",
       "      <th>BbAH</th>\n",
       "      <th>BbAHh</th>\n",
       "      <th>BbMxAHH</th>\n",
       "      <th>BbAvAHH</th>\n",
       "      <th>BbMxAHA</th>\n",
       "      <th>BbAvAHA</th>\n",
       "      <th>PSCH</th>\n",
       "      <th>PSCD</th>\n",
       "      <th>PSCA</th>\n",
       "    </tr>\n",
       "    <tr>\n",
       "      <th>date</th>\n",
       "      <th></th>\n",
       "      <th></th>\n",
       "      <th></th>\n",
       "      <th></th>\n",
       "      <th></th>\n",
       "      <th></th>\n",
       "      <th></th>\n",
       "      <th></th>\n",
       "      <th></th>\n",
       "      <th></th>\n",
       "      <th></th>\n",
       "      <th></th>\n",
       "      <th></th>\n",
       "      <th></th>\n",
       "      <th></th>\n",
       "      <th></th>\n",
       "      <th></th>\n",
       "      <th></th>\n",
       "      <th></th>\n",
       "      <th></th>\n",
       "      <th></th>\n",
       "    </tr>\n",
       "  </thead>\n",
       "  <tbody>\n",
       "    <tr>\n",
       "      <th>2016-08-13</th>\n",
       "      <td>E0</td>\n",
       "      <td>13/08/2016</td>\n",
       "      <td>Burnley</td>\n",
       "      <td>Swansea</td>\n",
       "      <td>0</td>\n",
       "      <td>1</td>\n",
       "      <td>A</td>\n",
       "      <td>0</td>\n",
       "      <td>0</td>\n",
       "      <td>D</td>\n",
       "      <td>...</td>\n",
       "      <td>1.61</td>\n",
       "      <td>32</td>\n",
       "      <td>-0.25</td>\n",
       "      <td>2.13</td>\n",
       "      <td>2.06</td>\n",
       "      <td>1.86</td>\n",
       "      <td>1.81</td>\n",
       "      <td>2.79</td>\n",
       "      <td>3.16</td>\n",
       "      <td>2.89</td>\n",
       "    </tr>\n",
       "    <tr>\n",
       "      <th>2016-08-13</th>\n",
       "      <td>E0</td>\n",
       "      <td>13/08/2016</td>\n",
       "      <td>Crystal Palace</td>\n",
       "      <td>West Brom</td>\n",
       "      <td>0</td>\n",
       "      <td>1</td>\n",
       "      <td>A</td>\n",
       "      <td>0</td>\n",
       "      <td>0</td>\n",
       "      <td>D</td>\n",
       "      <td>...</td>\n",
       "      <td>1.52</td>\n",
       "      <td>33</td>\n",
       "      <td>-0.50</td>\n",
       "      <td>2.07</td>\n",
       "      <td>2.00</td>\n",
       "      <td>1.90</td>\n",
       "      <td>1.85</td>\n",
       "      <td>2.25</td>\n",
       "      <td>3.15</td>\n",
       "      <td>3.86</td>\n",
       "    </tr>\n",
       "    <tr>\n",
       "      <th>2016-08-13</th>\n",
       "      <td>E0</td>\n",
       "      <td>13/08/2016</td>\n",
       "      <td>Everton</td>\n",
       "      <td>Tottenham</td>\n",
       "      <td>1</td>\n",
       "      <td>1</td>\n",
       "      <td>D</td>\n",
       "      <td>1</td>\n",
       "      <td>0</td>\n",
       "      <td>H</td>\n",
       "      <td>...</td>\n",
       "      <td>1.77</td>\n",
       "      <td>32</td>\n",
       "      <td>0.25</td>\n",
       "      <td>1.91</td>\n",
       "      <td>1.85</td>\n",
       "      <td>2.09</td>\n",
       "      <td>2.00</td>\n",
       "      <td>3.64</td>\n",
       "      <td>3.54</td>\n",
       "      <td>2.16</td>\n",
       "    </tr>\n",
       "    <tr>\n",
       "      <th>2016-08-13</th>\n",
       "      <td>E0</td>\n",
       "      <td>13/08/2016</td>\n",
       "      <td>Hull</td>\n",
       "      <td>Leicester</td>\n",
       "      <td>2</td>\n",
       "      <td>1</td>\n",
       "      <td>H</td>\n",
       "      <td>1</td>\n",
       "      <td>0</td>\n",
       "      <td>H</td>\n",
       "      <td>...</td>\n",
       "      <td>1.67</td>\n",
       "      <td>31</td>\n",
       "      <td>0.25</td>\n",
       "      <td>2.35</td>\n",
       "      <td>2.26</td>\n",
       "      <td>2.03</td>\n",
       "      <td>1.67</td>\n",
       "      <td>4.68</td>\n",
       "      <td>3.50</td>\n",
       "      <td>1.92</td>\n",
       "    </tr>\n",
       "    <tr>\n",
       "      <th>2016-08-13</th>\n",
       "      <td>E0</td>\n",
       "      <td>13/08/2016</td>\n",
       "      <td>Man City</td>\n",
       "      <td>Sunderland</td>\n",
       "      <td>2</td>\n",
       "      <td>1</td>\n",
       "      <td>H</td>\n",
       "      <td>1</td>\n",
       "      <td>0</td>\n",
       "      <td>H</td>\n",
       "      <td>...</td>\n",
       "      <td>2.48</td>\n",
       "      <td>34</td>\n",
       "      <td>-1.50</td>\n",
       "      <td>1.81</td>\n",
       "      <td>1.73</td>\n",
       "      <td>2.20</td>\n",
       "      <td>2.14</td>\n",
       "      <td>1.25</td>\n",
       "      <td>6.50</td>\n",
       "      <td>14.50</td>\n",
       "    </tr>\n",
       "  </tbody>\n",
       "</table>\n",
       "<p>5 rows × 62 columns</p>\n",
       "</div>"
      ],
      "text/plain": [
       "           Div        Date        HomeTeam    AwayTeam  FTHG  FTAG FTR  HTHG  \\\n",
       "date                                                                           \n",
       "2016-08-13  E0  13/08/2016         Burnley     Swansea     0     1   A     0   \n",
       "2016-08-13  E0  13/08/2016  Crystal Palace   West Brom     0     1   A     0   \n",
       "2016-08-13  E0  13/08/2016         Everton   Tottenham     1     1   D     1   \n",
       "2016-08-13  E0  13/08/2016            Hull   Leicester     2     1   H     1   \n",
       "2016-08-13  E0  13/08/2016        Man City  Sunderland     2     1   H     1   \n",
       "\n",
       "            HTAG HTR  ...   BbAv<2.5  BbAH  BbAHh  BbMxAHH  BbAvAHH  BbMxAHA  \\\n",
       "date                  ...                                                      \n",
       "2016-08-13     0   D  ...       1.61    32  -0.25     2.13     2.06     1.86   \n",
       "2016-08-13     0   D  ...       1.52    33  -0.50     2.07     2.00     1.90   \n",
       "2016-08-13     0   H  ...       1.77    32   0.25     1.91     1.85     2.09   \n",
       "2016-08-13     0   H  ...       1.67    31   0.25     2.35     2.26     2.03   \n",
       "2016-08-13     0   H  ...       2.48    34  -1.50     1.81     1.73     2.20   \n",
       "\n",
       "            BbAvAHA  PSCH  PSCD   PSCA  \n",
       "date                                    \n",
       "2016-08-13     1.81  2.79  3.16   2.89  \n",
       "2016-08-13     1.85  2.25  3.15   3.86  \n",
       "2016-08-13     2.00  3.64  3.54   2.16  \n",
       "2016-08-13     1.67  4.68  3.50   1.92  \n",
       "2016-08-13     2.14  1.25  6.50  14.50  \n",
       "\n",
       "[5 rows x 62 columns]"
      ]
     },
     "execution_count": 27,
     "metadata": {},
     "output_type": "execute_result"
    }
   ],
   "source": [
    "football_all.head()"
   ]
  },
  {
   "cell_type": "code",
   "execution_count": 28,
   "metadata": {
    "ExecuteTime": {
     "end_time": "2019-09-24T19:17:19.054629Z",
     "start_time": "2019-09-24T19:17:19.047049Z"
    },
    "hidden": true
   },
   "outputs": [
    {
     "data": {
      "text/plain": [
       "(1140, 62)"
      ]
     },
     "execution_count": 28,
     "metadata": {},
     "output_type": "execute_result"
    }
   ],
   "source": [
    "football_all.shape"
   ]
  },
  {
   "cell_type": "code",
   "execution_count": 29,
   "metadata": {
    "ExecuteTime": {
     "end_time": "2019-09-24T19:17:20.965113Z",
     "start_time": "2019-09-24T19:17:20.876108Z"
    },
    "hidden": true
   },
   "outputs": [],
   "source": [
    "# save it to csv \n",
    "\n",
    "football_all.to_csv('csv/football_all.csv')"
   ]
  },
  {
   "cell_type": "code",
   "execution_count": 30,
   "metadata": {
    "ExecuteTime": {
     "end_time": "2019-09-24T19:17:23.140217Z",
     "start_time": "2019-09-24T19:17:23.077026Z"
    },
    "hidden": true
   },
   "outputs": [
    {
     "data": {
      "text/html": [
       "<div>\n",
       "<style scoped>\n",
       "    .dataframe tbody tr th:only-of-type {\n",
       "        vertical-align: middle;\n",
       "    }\n",
       "\n",
       "    .dataframe tbody tr th {\n",
       "        vertical-align: top;\n",
       "    }\n",
       "\n",
       "    .dataframe thead th {\n",
       "        text-align: right;\n",
       "    }\n",
       "</style>\n",
       "<table border=\"1\" class=\"dataframe\">\n",
       "  <thead>\n",
       "    <tr style=\"text-align: right;\">\n",
       "      <th></th>\n",
       "      <th>date</th>\n",
       "      <th>Div</th>\n",
       "      <th>Date</th>\n",
       "      <th>HomeTeam</th>\n",
       "      <th>AwayTeam</th>\n",
       "      <th>FTHG</th>\n",
       "      <th>FTAG</th>\n",
       "      <th>FTR</th>\n",
       "      <th>HTHG</th>\n",
       "      <th>HTAG</th>\n",
       "      <th>...</th>\n",
       "      <th>BbAv&lt;2.5</th>\n",
       "      <th>BbAH</th>\n",
       "      <th>BbAHh</th>\n",
       "      <th>BbMxAHH</th>\n",
       "      <th>BbAvAHH</th>\n",
       "      <th>BbMxAHA</th>\n",
       "      <th>BbAvAHA</th>\n",
       "      <th>PSCH</th>\n",
       "      <th>PSCD</th>\n",
       "      <th>PSCA</th>\n",
       "    </tr>\n",
       "  </thead>\n",
       "  <tbody>\n",
       "    <tr>\n",
       "      <th>0</th>\n",
       "      <td>2016-08-13</td>\n",
       "      <td>E0</td>\n",
       "      <td>13/08/2016</td>\n",
       "      <td>Burnley</td>\n",
       "      <td>Swansea</td>\n",
       "      <td>0</td>\n",
       "      <td>1</td>\n",
       "      <td>A</td>\n",
       "      <td>0</td>\n",
       "      <td>0</td>\n",
       "      <td>...</td>\n",
       "      <td>1.61</td>\n",
       "      <td>32</td>\n",
       "      <td>-0.25</td>\n",
       "      <td>2.13</td>\n",
       "      <td>2.06</td>\n",
       "      <td>1.86</td>\n",
       "      <td>1.81</td>\n",
       "      <td>2.79</td>\n",
       "      <td>3.16</td>\n",
       "      <td>2.89</td>\n",
       "    </tr>\n",
       "    <tr>\n",
       "      <th>1</th>\n",
       "      <td>2016-08-13</td>\n",
       "      <td>E0</td>\n",
       "      <td>13/08/2016</td>\n",
       "      <td>Crystal Palace</td>\n",
       "      <td>West Brom</td>\n",
       "      <td>0</td>\n",
       "      <td>1</td>\n",
       "      <td>A</td>\n",
       "      <td>0</td>\n",
       "      <td>0</td>\n",
       "      <td>...</td>\n",
       "      <td>1.52</td>\n",
       "      <td>33</td>\n",
       "      <td>-0.50</td>\n",
       "      <td>2.07</td>\n",
       "      <td>2.00</td>\n",
       "      <td>1.90</td>\n",
       "      <td>1.85</td>\n",
       "      <td>2.25</td>\n",
       "      <td>3.15</td>\n",
       "      <td>3.86</td>\n",
       "    </tr>\n",
       "    <tr>\n",
       "      <th>2</th>\n",
       "      <td>2016-08-13</td>\n",
       "      <td>E0</td>\n",
       "      <td>13/08/2016</td>\n",
       "      <td>Everton</td>\n",
       "      <td>Tottenham</td>\n",
       "      <td>1</td>\n",
       "      <td>1</td>\n",
       "      <td>D</td>\n",
       "      <td>1</td>\n",
       "      <td>0</td>\n",
       "      <td>...</td>\n",
       "      <td>1.77</td>\n",
       "      <td>32</td>\n",
       "      <td>0.25</td>\n",
       "      <td>1.91</td>\n",
       "      <td>1.85</td>\n",
       "      <td>2.09</td>\n",
       "      <td>2.00</td>\n",
       "      <td>3.64</td>\n",
       "      <td>3.54</td>\n",
       "      <td>2.16</td>\n",
       "    </tr>\n",
       "    <tr>\n",
       "      <th>3</th>\n",
       "      <td>2016-08-13</td>\n",
       "      <td>E0</td>\n",
       "      <td>13/08/2016</td>\n",
       "      <td>Hull</td>\n",
       "      <td>Leicester</td>\n",
       "      <td>2</td>\n",
       "      <td>1</td>\n",
       "      <td>H</td>\n",
       "      <td>1</td>\n",
       "      <td>0</td>\n",
       "      <td>...</td>\n",
       "      <td>1.67</td>\n",
       "      <td>31</td>\n",
       "      <td>0.25</td>\n",
       "      <td>2.35</td>\n",
       "      <td>2.26</td>\n",
       "      <td>2.03</td>\n",
       "      <td>1.67</td>\n",
       "      <td>4.68</td>\n",
       "      <td>3.50</td>\n",
       "      <td>1.92</td>\n",
       "    </tr>\n",
       "    <tr>\n",
       "      <th>4</th>\n",
       "      <td>2016-08-13</td>\n",
       "      <td>E0</td>\n",
       "      <td>13/08/2016</td>\n",
       "      <td>Man City</td>\n",
       "      <td>Sunderland</td>\n",
       "      <td>2</td>\n",
       "      <td>1</td>\n",
       "      <td>H</td>\n",
       "      <td>1</td>\n",
       "      <td>0</td>\n",
       "      <td>...</td>\n",
       "      <td>2.48</td>\n",
       "      <td>34</td>\n",
       "      <td>-1.50</td>\n",
       "      <td>1.81</td>\n",
       "      <td>1.73</td>\n",
       "      <td>2.20</td>\n",
       "      <td>2.14</td>\n",
       "      <td>1.25</td>\n",
       "      <td>6.50</td>\n",
       "      <td>14.50</td>\n",
       "    </tr>\n",
       "    <tr>\n",
       "      <th>5</th>\n",
       "      <td>2016-08-13</td>\n",
       "      <td>E0</td>\n",
       "      <td>13/08/2016</td>\n",
       "      <td>Middlesbrough</td>\n",
       "      <td>Stoke</td>\n",
       "      <td>1</td>\n",
       "      <td>1</td>\n",
       "      <td>D</td>\n",
       "      <td>1</td>\n",
       "      <td>0</td>\n",
       "      <td>...</td>\n",
       "      <td>1.53</td>\n",
       "      <td>32</td>\n",
       "      <td>-0.25</td>\n",
       "      <td>1.99</td>\n",
       "      <td>1.93</td>\n",
       "      <td>1.97</td>\n",
       "      <td>1.92</td>\n",
       "      <td>2.20</td>\n",
       "      <td>3.38</td>\n",
       "      <td>3.70</td>\n",
       "    </tr>\n",
       "    <tr>\n",
       "      <th>6</th>\n",
       "      <td>2016-08-13</td>\n",
       "      <td>E0</td>\n",
       "      <td>13/08/2016</td>\n",
       "      <td>Southampton</td>\n",
       "      <td>Watford</td>\n",
       "      <td>1</td>\n",
       "      <td>1</td>\n",
       "      <td>D</td>\n",
       "      <td>0</td>\n",
       "      <td>1</td>\n",
       "      <td>...</td>\n",
       "      <td>1.75</td>\n",
       "      <td>33</td>\n",
       "      <td>-0.75</td>\n",
       "      <td>2.16</td>\n",
       "      <td>2.07</td>\n",
       "      <td>1.89</td>\n",
       "      <td>1.80</td>\n",
       "      <td>1.80</td>\n",
       "      <td>3.83</td>\n",
       "      <td>4.91</td>\n",
       "    </tr>\n",
       "    <tr>\n",
       "      <th>7</th>\n",
       "      <td>2016-08-14</td>\n",
       "      <td>E0</td>\n",
       "      <td>14/08/2016</td>\n",
       "      <td>Arsenal</td>\n",
       "      <td>Liverpool</td>\n",
       "      <td>3</td>\n",
       "      <td>4</td>\n",
       "      <td>A</td>\n",
       "      <td>1</td>\n",
       "      <td>1</td>\n",
       "      <td>...</td>\n",
       "      <td>1.99</td>\n",
       "      <td>31</td>\n",
       "      <td>-0.50</td>\n",
       "      <td>2.41</td>\n",
       "      <td>2.31</td>\n",
       "      <td>1.81</td>\n",
       "      <td>1.64</td>\n",
       "      <td>2.80</td>\n",
       "      <td>3.44</td>\n",
       "      <td>2.68</td>\n",
       "    </tr>\n",
       "    <tr>\n",
       "      <th>8</th>\n",
       "      <td>2016-08-14</td>\n",
       "      <td>E0</td>\n",
       "      <td>14/08/2016</td>\n",
       "      <td>Bournemouth</td>\n",
       "      <td>Man United</td>\n",
       "      <td>1</td>\n",
       "      <td>3</td>\n",
       "      <td>A</td>\n",
       "      <td>0</td>\n",
       "      <td>1</td>\n",
       "      <td>...</td>\n",
       "      <td>1.76</td>\n",
       "      <td>33</td>\n",
       "      <td>0.75</td>\n",
       "      <td>1.80</td>\n",
       "      <td>1.76</td>\n",
       "      <td>2.17</td>\n",
       "      <td>2.11</td>\n",
       "      <td>5.40</td>\n",
       "      <td>3.65</td>\n",
       "      <td>1.78</td>\n",
       "    </tr>\n",
       "    <tr>\n",
       "      <th>9</th>\n",
       "      <td>2016-08-15</td>\n",
       "      <td>E0</td>\n",
       "      <td>15/08/2016</td>\n",
       "      <td>Chelsea</td>\n",
       "      <td>West Ham</td>\n",
       "      <td>2</td>\n",
       "      <td>1</td>\n",
       "      <td>H</td>\n",
       "      <td>0</td>\n",
       "      <td>0</td>\n",
       "      <td>...</td>\n",
       "      <td>2.01</td>\n",
       "      <td>33</td>\n",
       "      <td>-1.00</td>\n",
       "      <td>2.20</td>\n",
       "      <td>2.10</td>\n",
       "      <td>1.80</td>\n",
       "      <td>1.76</td>\n",
       "      <td>1.52</td>\n",
       "      <td>4.38</td>\n",
       "      <td>7.45</td>\n",
       "    </tr>\n",
       "    <tr>\n",
       "      <th>10</th>\n",
       "      <td>2016-08-19</td>\n",
       "      <td>E0</td>\n",
       "      <td>19/08/2016</td>\n",
       "      <td>Man United</td>\n",
       "      <td>Southampton</td>\n",
       "      <td>2</td>\n",
       "      <td>0</td>\n",
       "      <td>H</td>\n",
       "      <td>1</td>\n",
       "      <td>0</td>\n",
       "      <td>...</td>\n",
       "      <td>1.86</td>\n",
       "      <td>37</td>\n",
       "      <td>-1.00</td>\n",
       "      <td>2.01</td>\n",
       "      <td>1.92</td>\n",
       "      <td>2.19</td>\n",
       "      <td>1.94</td>\n",
       "      <td>1.53</td>\n",
       "      <td>4.27</td>\n",
       "      <td>7.44</td>\n",
       "    </tr>\n",
       "    <tr>\n",
       "      <th>11</th>\n",
       "      <td>2016-08-20</td>\n",
       "      <td>E0</td>\n",
       "      <td>20/08/2016</td>\n",
       "      <td>Burnley</td>\n",
       "      <td>Liverpool</td>\n",
       "      <td>2</td>\n",
       "      <td>0</td>\n",
       "      <td>H</td>\n",
       "      <td>2</td>\n",
       "      <td>0</td>\n",
       "      <td>...</td>\n",
       "      <td>1.93</td>\n",
       "      <td>36</td>\n",
       "      <td>1.00</td>\n",
       "      <td>1.98</td>\n",
       "      <td>1.91</td>\n",
       "      <td>2.00</td>\n",
       "      <td>1.94</td>\n",
       "      <td>7.26</td>\n",
       "      <td>4.54</td>\n",
       "      <td>1.51</td>\n",
       "    </tr>\n",
       "    <tr>\n",
       "      <th>12</th>\n",
       "      <td>2016-08-20</td>\n",
       "      <td>E0</td>\n",
       "      <td>20/08/2016</td>\n",
       "      <td>Leicester</td>\n",
       "      <td>Arsenal</td>\n",
       "      <td>0</td>\n",
       "      <td>0</td>\n",
       "      <td>D</td>\n",
       "      <td>0</td>\n",
       "      <td>0</td>\n",
       "      <td>...</td>\n",
       "      <td>2.16</td>\n",
       "      <td>32</td>\n",
       "      <td>0.25</td>\n",
       "      <td>1.83</td>\n",
       "      <td>1.78</td>\n",
       "      <td>2.15</td>\n",
       "      <td>2.10</td>\n",
       "      <td>2.82</td>\n",
       "      <td>3.50</td>\n",
       "      <td>2.63</td>\n",
       "    </tr>\n",
       "    <tr>\n",
       "      <th>13</th>\n",
       "      <td>2016-08-20</td>\n",
       "      <td>E0</td>\n",
       "      <td>20/08/2016</td>\n",
       "      <td>Stoke</td>\n",
       "      <td>Man City</td>\n",
       "      <td>1</td>\n",
       "      <td>4</td>\n",
       "      <td>A</td>\n",
       "      <td>0</td>\n",
       "      <td>2</td>\n",
       "      <td>...</td>\n",
       "      <td>2.05</td>\n",
       "      <td>36</td>\n",
       "      <td>1.00</td>\n",
       "      <td>1.75</td>\n",
       "      <td>1.69</td>\n",
       "      <td>2.33</td>\n",
       "      <td>2.22</td>\n",
       "      <td>6.29</td>\n",
       "      <td>4.34</td>\n",
       "      <td>1.58</td>\n",
       "    </tr>\n",
       "    <tr>\n",
       "      <th>14</th>\n",
       "      <td>2016-08-20</td>\n",
       "      <td>E0</td>\n",
       "      <td>20/08/2016</td>\n",
       "      <td>Swansea</td>\n",
       "      <td>Hull</td>\n",
       "      <td>0</td>\n",
       "      <td>2</td>\n",
       "      <td>A</td>\n",
       "      <td>0</td>\n",
       "      <td>0</td>\n",
       "      <td>...</td>\n",
       "      <td>1.64</td>\n",
       "      <td>33</td>\n",
       "      <td>-1.00</td>\n",
       "      <td>2.56</td>\n",
       "      <td>2.45</td>\n",
       "      <td>1.62</td>\n",
       "      <td>1.57</td>\n",
       "      <td>1.86</td>\n",
       "      <td>3.55</td>\n",
       "      <td>4.95</td>\n",
       "    </tr>\n",
       "    <tr>\n",
       "      <th>15</th>\n",
       "      <td>2016-08-20</td>\n",
       "      <td>E0</td>\n",
       "      <td>20/08/2016</td>\n",
       "      <td>Tottenham</td>\n",
       "      <td>Crystal Palace</td>\n",
       "      <td>1</td>\n",
       "      <td>0</td>\n",
       "      <td>H</td>\n",
       "      <td>0</td>\n",
       "      <td>0</td>\n",
       "      <td>...</td>\n",
       "      <td>2.04</td>\n",
       "      <td>36</td>\n",
       "      <td>-1.00</td>\n",
       "      <td>1.76</td>\n",
       "      <td>1.72</td>\n",
       "      <td>2.26</td>\n",
       "      <td>2.17</td>\n",
       "      <td>1.47</td>\n",
       "      <td>4.64</td>\n",
       "      <td>7.91</td>\n",
       "    </tr>\n",
       "    <tr>\n",
       "      <th>16</th>\n",
       "      <td>2016-08-20</td>\n",
       "      <td>E0</td>\n",
       "      <td>20/08/2016</td>\n",
       "      <td>Watford</td>\n",
       "      <td>Chelsea</td>\n",
       "      <td>1</td>\n",
       "      <td>2</td>\n",
       "      <td>A</td>\n",
       "      <td>0</td>\n",
       "      <td>0</td>\n",
       "      <td>...</td>\n",
       "      <td>1.74</td>\n",
       "      <td>33</td>\n",
       "      <td>0.75</td>\n",
       "      <td>1.97</td>\n",
       "      <td>1.93</td>\n",
       "      <td>2.01</td>\n",
       "      <td>1.93</td>\n",
       "      <td>6.00</td>\n",
       "      <td>3.99</td>\n",
       "      <td>1.66</td>\n",
       "    </tr>\n",
       "    <tr>\n",
       "      <th>17</th>\n",
       "      <td>2016-08-20</td>\n",
       "      <td>E0</td>\n",
       "      <td>20/08/2016</td>\n",
       "      <td>West Brom</td>\n",
       "      <td>Everton</td>\n",
       "      <td>1</td>\n",
       "      <td>2</td>\n",
       "      <td>A</td>\n",
       "      <td>1</td>\n",
       "      <td>1</td>\n",
       "      <td>...</td>\n",
       "      <td>1.57</td>\n",
       "      <td>32</td>\n",
       "      <td>0.25</td>\n",
       "      <td>1.77</td>\n",
       "      <td>1.72</td>\n",
       "      <td>2.25</td>\n",
       "      <td>2.17</td>\n",
       "      <td>3.08</td>\n",
       "      <td>3.17</td>\n",
       "      <td>2.63</td>\n",
       "    </tr>\n",
       "    <tr>\n",
       "      <th>18</th>\n",
       "      <td>2016-08-21</td>\n",
       "      <td>E0</td>\n",
       "      <td>21/08/2016</td>\n",
       "      <td>Sunderland</td>\n",
       "      <td>Middlesbrough</td>\n",
       "      <td>1</td>\n",
       "      <td>2</td>\n",
       "      <td>A</td>\n",
       "      <td>0</td>\n",
       "      <td>2</td>\n",
       "      <td>...</td>\n",
       "      <td>1.57</td>\n",
       "      <td>33</td>\n",
       "      <td>-0.25</td>\n",
       "      <td>2.21</td>\n",
       "      <td>2.14</td>\n",
       "      <td>1.80</td>\n",
       "      <td>1.75</td>\n",
       "      <td>2.79</td>\n",
       "      <td>3.10</td>\n",
       "      <td>2.94</td>\n",
       "    </tr>\n",
       "    <tr>\n",
       "      <th>19</th>\n",
       "      <td>2016-08-21</td>\n",
       "      <td>E0</td>\n",
       "      <td>21/08/2016</td>\n",
       "      <td>West Ham</td>\n",
       "      <td>Bournemouth</td>\n",
       "      <td>1</td>\n",
       "      <td>0</td>\n",
       "      <td>H</td>\n",
       "      <td>0</td>\n",
       "      <td>0</td>\n",
       "      <td>...</td>\n",
       "      <td>2.02</td>\n",
       "      <td>31</td>\n",
       "      <td>-0.50</td>\n",
       "      <td>2.00</td>\n",
       "      <td>1.94</td>\n",
       "      <td>2.03</td>\n",
       "      <td>1.91</td>\n",
       "      <td>2.48</td>\n",
       "      <td>3.31</td>\n",
       "      <td>3.17</td>\n",
       "    </tr>\n",
       "    <tr>\n",
       "      <th>20</th>\n",
       "      <td>2016-08-27</td>\n",
       "      <td>E0</td>\n",
       "      <td>27/08/2016</td>\n",
       "      <td>Chelsea</td>\n",
       "      <td>Burnley</td>\n",
       "      <td>3</td>\n",
       "      <td>0</td>\n",
       "      <td>H</td>\n",
       "      <td>2</td>\n",
       "      <td>0</td>\n",
       "      <td>...</td>\n",
       "      <td>2.09</td>\n",
       "      <td>33</td>\n",
       "      <td>-2.00</td>\n",
       "      <td>2.44</td>\n",
       "      <td>2.33</td>\n",
       "      <td>1.68</td>\n",
       "      <td>1.62</td>\n",
       "      <td>1.25</td>\n",
       "      <td>6.60</td>\n",
       "      <td>15.24</td>\n",
       "    </tr>\n",
       "    <tr>\n",
       "      <th>21</th>\n",
       "      <td>2016-08-27</td>\n",
       "      <td>E0</td>\n",
       "      <td>27/08/2016</td>\n",
       "      <td>Crystal Palace</td>\n",
       "      <td>Bournemouth</td>\n",
       "      <td>1</td>\n",
       "      <td>1</td>\n",
       "      <td>D</td>\n",
       "      <td>0</td>\n",
       "      <td>1</td>\n",
       "      <td>...</td>\n",
       "      <td>1.68</td>\n",
       "      <td>31</td>\n",
       "      <td>-0.25</td>\n",
       "      <td>2.03</td>\n",
       "      <td>1.94</td>\n",
       "      <td>1.94</td>\n",
       "      <td>1.88</td>\n",
       "      <td>2.23</td>\n",
       "      <td>3.36</td>\n",
       "      <td>3.64</td>\n",
       "    </tr>\n",
       "    <tr>\n",
       "      <th>22</th>\n",
       "      <td>2016-08-27</td>\n",
       "      <td>E0</td>\n",
       "      <td>27/08/2016</td>\n",
       "      <td>Everton</td>\n",
       "      <td>Stoke</td>\n",
       "      <td>1</td>\n",
       "      <td>0</td>\n",
       "      <td>H</td>\n",
       "      <td>0</td>\n",
       "      <td>0</td>\n",
       "      <td>...</td>\n",
       "      <td>1.82</td>\n",
       "      <td>32</td>\n",
       "      <td>-1.00</td>\n",
       "      <td>2.38</td>\n",
       "      <td>2.30</td>\n",
       "      <td>1.68</td>\n",
       "      <td>1.64</td>\n",
       "      <td>1.68</td>\n",
       "      <td>4.20</td>\n",
       "      <td>5.39</td>\n",
       "    </tr>\n",
       "    <tr>\n",
       "      <th>23</th>\n",
       "      <td>2016-08-27</td>\n",
       "      <td>E0</td>\n",
       "      <td>27/08/2016</td>\n",
       "      <td>Hull</td>\n",
       "      <td>Man United</td>\n",
       "      <td>0</td>\n",
       "      <td>1</td>\n",
       "      <td>A</td>\n",
       "      <td>0</td>\n",
       "      <td>0</td>\n",
       "      <td>...</td>\n",
       "      <td>1.81</td>\n",
       "      <td>33</td>\n",
       "      <td>1.00</td>\n",
       "      <td>2.21</td>\n",
       "      <td>2.12</td>\n",
       "      <td>1.80</td>\n",
       "      <td>1.75</td>\n",
       "      <td>9.15</td>\n",
       "      <td>4.54</td>\n",
       "      <td>1.45</td>\n",
       "    </tr>\n",
       "    <tr>\n",
       "      <th>24</th>\n",
       "      <td>2016-08-27</td>\n",
       "      <td>E0</td>\n",
       "      <td>27/08/2016</td>\n",
       "      <td>Leicester</td>\n",
       "      <td>Swansea</td>\n",
       "      <td>2</td>\n",
       "      <td>1</td>\n",
       "      <td>H</td>\n",
       "      <td>1</td>\n",
       "      <td>0</td>\n",
       "      <td>...</td>\n",
       "      <td>1.74</td>\n",
       "      <td>33</td>\n",
       "      <td>-1.00</td>\n",
       "      <td>2.45</td>\n",
       "      <td>2.31</td>\n",
       "      <td>1.67</td>\n",
       "      <td>1.63</td>\n",
       "      <td>1.69</td>\n",
       "      <td>4.12</td>\n",
       "      <td>5.37</td>\n",
       "    </tr>\n",
       "    <tr>\n",
       "      <th>25</th>\n",
       "      <td>2016-08-27</td>\n",
       "      <td>E0</td>\n",
       "      <td>27/08/2016</td>\n",
       "      <td>Southampton</td>\n",
       "      <td>Sunderland</td>\n",
       "      <td>1</td>\n",
       "      <td>1</td>\n",
       "      <td>D</td>\n",
       "      <td>0</td>\n",
       "      <td>0</td>\n",
       "      <td>...</td>\n",
       "      <td>1.73</td>\n",
       "      <td>34</td>\n",
       "      <td>-1.00</td>\n",
       "      <td>2.12</td>\n",
       "      <td>2.04</td>\n",
       "      <td>1.86</td>\n",
       "      <td>1.81</td>\n",
       "      <td>1.48</td>\n",
       "      <td>4.75</td>\n",
       "      <td>7.45</td>\n",
       "    </tr>\n",
       "    <tr>\n",
       "      <th>26</th>\n",
       "      <td>2016-08-27</td>\n",
       "      <td>E0</td>\n",
       "      <td>27/08/2016</td>\n",
       "      <td>Tottenham</td>\n",
       "      <td>Liverpool</td>\n",
       "      <td>1</td>\n",
       "      <td>1</td>\n",
       "      <td>D</td>\n",
       "      <td>0</td>\n",
       "      <td>1</td>\n",
       "      <td>...</td>\n",
       "      <td>2.05</td>\n",
       "      <td>30</td>\n",
       "      <td>-0.25</td>\n",
       "      <td>2.08</td>\n",
       "      <td>2.01</td>\n",
       "      <td>1.91</td>\n",
       "      <td>1.84</td>\n",
       "      <td>2.68</td>\n",
       "      <td>3.37</td>\n",
       "      <td>2.85</td>\n",
       "    </tr>\n",
       "    <tr>\n",
       "      <th>27</th>\n",
       "      <td>2016-08-27</td>\n",
       "      <td>E0</td>\n",
       "      <td>27/08/2016</td>\n",
       "      <td>Watford</td>\n",
       "      <td>Arsenal</td>\n",
       "      <td>1</td>\n",
       "      <td>3</td>\n",
       "      <td>A</td>\n",
       "      <td>0</td>\n",
       "      <td>3</td>\n",
       "      <td>...</td>\n",
       "      <td>1.87</td>\n",
       "      <td>33</td>\n",
       "      <td>1.00</td>\n",
       "      <td>1.72</td>\n",
       "      <td>1.67</td>\n",
       "      <td>2.34</td>\n",
       "      <td>2.24</td>\n",
       "      <td>6.00</td>\n",
       "      <td>4.16</td>\n",
       "      <td>1.63</td>\n",
       "    </tr>\n",
       "    <tr>\n",
       "      <th>28</th>\n",
       "      <td>2016-08-28</td>\n",
       "      <td>E0</td>\n",
       "      <td>28/08/2016</td>\n",
       "      <td>Man City</td>\n",
       "      <td>West Ham</td>\n",
       "      <td>3</td>\n",
       "      <td>1</td>\n",
       "      <td>H</td>\n",
       "      <td>2</td>\n",
       "      <td>0</td>\n",
       "      <td>...</td>\n",
       "      <td>2.57</td>\n",
       "      <td>31</td>\n",
       "      <td>-1.50</td>\n",
       "      <td>1.85</td>\n",
       "      <td>1.77</td>\n",
       "      <td>2.20</td>\n",
       "      <td>2.08</td>\n",
       "      <td>1.26</td>\n",
       "      <td>6.50</td>\n",
       "      <td>13.25</td>\n",
       "    </tr>\n",
       "    <tr>\n",
       "      <th>29</th>\n",
       "      <td>2016-08-28</td>\n",
       "      <td>E0</td>\n",
       "      <td>28/08/2016</td>\n",
       "      <td>West Brom</td>\n",
       "      <td>Middlesbrough</td>\n",
       "      <td>0</td>\n",
       "      <td>0</td>\n",
       "      <td>D</td>\n",
       "      <td>0</td>\n",
       "      <td>0</td>\n",
       "      <td>...</td>\n",
       "      <td>1.49</td>\n",
       "      <td>29</td>\n",
       "      <td>-0.25</td>\n",
       "      <td>2.20</td>\n",
       "      <td>2.15</td>\n",
       "      <td>1.79</td>\n",
       "      <td>1.73</td>\n",
       "      <td>2.65</td>\n",
       "      <td>3.10</td>\n",
       "      <td>3.12</td>\n",
       "    </tr>\n",
       "    <tr>\n",
       "      <th>...</th>\n",
       "      <td>...</td>\n",
       "      <td>...</td>\n",
       "      <td>...</td>\n",
       "      <td>...</td>\n",
       "      <td>...</td>\n",
       "      <td>...</td>\n",
       "      <td>...</td>\n",
       "      <td>...</td>\n",
       "      <td>...</td>\n",
       "      <td>...</td>\n",
       "      <td>...</td>\n",
       "      <td>...</td>\n",
       "      <td>...</td>\n",
       "      <td>...</td>\n",
       "      <td>...</td>\n",
       "      <td>...</td>\n",
       "      <td>...</td>\n",
       "      <td>...</td>\n",
       "      <td>...</td>\n",
       "      <td>...</td>\n",
       "      <td>...</td>\n",
       "    </tr>\n",
       "    <tr>\n",
       "      <th>1110</th>\n",
       "      <td>2019-04-26</td>\n",
       "      <td>E0</td>\n",
       "      <td>26/04/2019</td>\n",
       "      <td>Liverpool</td>\n",
       "      <td>Huddersfield</td>\n",
       "      <td>5</td>\n",
       "      <td>0</td>\n",
       "      <td>H</td>\n",
       "      <td>3</td>\n",
       "      <td>0</td>\n",
       "      <td>...</td>\n",
       "      <td>4.17</td>\n",
       "      <td>21</td>\n",
       "      <td>-3.00</td>\n",
       "      <td>1.93</td>\n",
       "      <td>1.89</td>\n",
       "      <td>2.02</td>\n",
       "      <td>1.97</td>\n",
       "      <td>1.08</td>\n",
       "      <td>14.10</td>\n",
       "      <td>34.97</td>\n",
       "    </tr>\n",
       "    <tr>\n",
       "      <th>1111</th>\n",
       "      <td>2019-04-27</td>\n",
       "      <td>E0</td>\n",
       "      <td>27/04/2019</td>\n",
       "      <td>Brighton</td>\n",
       "      <td>Newcastle</td>\n",
       "      <td>1</td>\n",
       "      <td>1</td>\n",
       "      <td>D</td>\n",
       "      <td>0</td>\n",
       "      <td>1</td>\n",
       "      <td>...</td>\n",
       "      <td>1.58</td>\n",
       "      <td>19</td>\n",
       "      <td>-0.50</td>\n",
       "      <td>2.36</td>\n",
       "      <td>2.30</td>\n",
       "      <td>1.71</td>\n",
       "      <td>1.66</td>\n",
       "      <td>2.25</td>\n",
       "      <td>3.29</td>\n",
       "      <td>3.68</td>\n",
       "    </tr>\n",
       "    <tr>\n",
       "      <th>1112</th>\n",
       "      <td>2019-04-27</td>\n",
       "      <td>E0</td>\n",
       "      <td>27/04/2019</td>\n",
       "      <td>Crystal Palace</td>\n",
       "      <td>Everton</td>\n",
       "      <td>0</td>\n",
       "      <td>0</td>\n",
       "      <td>D</td>\n",
       "      <td>0</td>\n",
       "      <td>0</td>\n",
       "      <td>...</td>\n",
       "      <td>1.88</td>\n",
       "      <td>18</td>\n",
       "      <td>0.25</td>\n",
       "      <td>1.66</td>\n",
       "      <td>1.63</td>\n",
       "      <td>2.47</td>\n",
       "      <td>2.37</td>\n",
       "      <td>3.05</td>\n",
       "      <td>3.49</td>\n",
       "      <td>2.46</td>\n",
       "    </tr>\n",
       "    <tr>\n",
       "      <th>1113</th>\n",
       "      <td>2019-04-27</td>\n",
       "      <td>E0</td>\n",
       "      <td>27/04/2019</td>\n",
       "      <td>Fulham</td>\n",
       "      <td>Cardiff</td>\n",
       "      <td>1</td>\n",
       "      <td>0</td>\n",
       "      <td>H</td>\n",
       "      <td>0</td>\n",
       "      <td>0</td>\n",
       "      <td>...</td>\n",
       "      <td>2.11</td>\n",
       "      <td>17</td>\n",
       "      <td>0.00</td>\n",
       "      <td>1.80</td>\n",
       "      <td>1.74</td>\n",
       "      <td>2.23</td>\n",
       "      <td>2.15</td>\n",
       "      <td>2.21</td>\n",
       "      <td>3.69</td>\n",
       "      <td>3.35</td>\n",
       "    </tr>\n",
       "    <tr>\n",
       "      <th>1114</th>\n",
       "      <td>2019-04-27</td>\n",
       "      <td>E0</td>\n",
       "      <td>27/04/2019</td>\n",
       "      <td>Southampton</td>\n",
       "      <td>Bournemouth</td>\n",
       "      <td>3</td>\n",
       "      <td>3</td>\n",
       "      <td>D</td>\n",
       "      <td>1</td>\n",
       "      <td>2</td>\n",
       "      <td>...</td>\n",
       "      <td>2.08</td>\n",
       "      <td>19</td>\n",
       "      <td>-0.50</td>\n",
       "      <td>1.95</td>\n",
       "      <td>1.89</td>\n",
       "      <td>2.02</td>\n",
       "      <td>1.97</td>\n",
       "      <td>1.81</td>\n",
       "      <td>3.97</td>\n",
       "      <td>4.58</td>\n",
       "    </tr>\n",
       "    <tr>\n",
       "      <th>1115</th>\n",
       "      <td>2019-04-27</td>\n",
       "      <td>E0</td>\n",
       "      <td>27/04/2019</td>\n",
       "      <td>Tottenham</td>\n",
       "      <td>West Ham</td>\n",
       "      <td>0</td>\n",
       "      <td>1</td>\n",
       "      <td>A</td>\n",
       "      <td>0</td>\n",
       "      <td>0</td>\n",
       "      <td>...</td>\n",
       "      <td>2.50</td>\n",
       "      <td>22</td>\n",
       "      <td>-1.50</td>\n",
       "      <td>2.28</td>\n",
       "      <td>2.17</td>\n",
       "      <td>1.80</td>\n",
       "      <td>1.72</td>\n",
       "      <td>1.36</td>\n",
       "      <td>5.55</td>\n",
       "      <td>8.95</td>\n",
       "    </tr>\n",
       "    <tr>\n",
       "      <th>1116</th>\n",
       "      <td>2019-04-27</td>\n",
       "      <td>E0</td>\n",
       "      <td>27/04/2019</td>\n",
       "      <td>Watford</td>\n",
       "      <td>Wolves</td>\n",
       "      <td>1</td>\n",
       "      <td>2</td>\n",
       "      <td>A</td>\n",
       "      <td>0</td>\n",
       "      <td>1</td>\n",
       "      <td>...</td>\n",
       "      <td>1.68</td>\n",
       "      <td>18</td>\n",
       "      <td>0.25</td>\n",
       "      <td>1.62</td>\n",
       "      <td>1.59</td>\n",
       "      <td>2.51</td>\n",
       "      <td>2.46</td>\n",
       "      <td>2.73</td>\n",
       "      <td>3.26</td>\n",
       "      <td>2.87</td>\n",
       "    </tr>\n",
       "    <tr>\n",
       "      <th>1117</th>\n",
       "      <td>2019-04-28</td>\n",
       "      <td>E0</td>\n",
       "      <td>28/04/2019</td>\n",
       "      <td>Burnley</td>\n",
       "      <td>Man City</td>\n",
       "      <td>0</td>\n",
       "      <td>1</td>\n",
       "      <td>A</td>\n",
       "      <td>0</td>\n",
       "      <td>0</td>\n",
       "      <td>...</td>\n",
       "      <td>2.88</td>\n",
       "      <td>20</td>\n",
       "      <td>2.00</td>\n",
       "      <td>2.27</td>\n",
       "      <td>2.20</td>\n",
       "      <td>1.77</td>\n",
       "      <td>1.71</td>\n",
       "      <td>18.20</td>\n",
       "      <td>9.44</td>\n",
       "      <td>1.16</td>\n",
       "    </tr>\n",
       "    <tr>\n",
       "      <th>1118</th>\n",
       "      <td>2019-04-28</td>\n",
       "      <td>E0</td>\n",
       "      <td>28/04/2019</td>\n",
       "      <td>Leicester</td>\n",
       "      <td>Arsenal</td>\n",
       "      <td>3</td>\n",
       "      <td>0</td>\n",
       "      <td>H</td>\n",
       "      <td>0</td>\n",
       "      <td>0</td>\n",
       "      <td>...</td>\n",
       "      <td>2.33</td>\n",
       "      <td>18</td>\n",
       "      <td>0.25</td>\n",
       "      <td>1.76</td>\n",
       "      <td>1.71</td>\n",
       "      <td>2.26</td>\n",
       "      <td>2.22</td>\n",
       "      <td>2.60</td>\n",
       "      <td>3.65</td>\n",
       "      <td>2.77</td>\n",
       "    </tr>\n",
       "    <tr>\n",
       "      <th>1119</th>\n",
       "      <td>2019-04-28</td>\n",
       "      <td>E0</td>\n",
       "      <td>28/04/2019</td>\n",
       "      <td>Man United</td>\n",
       "      <td>Chelsea</td>\n",
       "      <td>1</td>\n",
       "      <td>1</td>\n",
       "      <td>D</td>\n",
       "      <td>1</td>\n",
       "      <td>1</td>\n",
       "      <td>...</td>\n",
       "      <td>1.97</td>\n",
       "      <td>18</td>\n",
       "      <td>-0.25</td>\n",
       "      <td>2.36</td>\n",
       "      <td>2.31</td>\n",
       "      <td>1.72</td>\n",
       "      <td>1.66</td>\n",
       "      <td>2.77</td>\n",
       "      <td>3.38</td>\n",
       "      <td>2.76</td>\n",
       "    </tr>\n",
       "    <tr>\n",
       "      <th>1120</th>\n",
       "      <td>2019-05-03</td>\n",
       "      <td>E0</td>\n",
       "      <td>03/05/2019</td>\n",
       "      <td>Everton</td>\n",
       "      <td>Burnley</td>\n",
       "      <td>2</td>\n",
       "      <td>0</td>\n",
       "      <td>H</td>\n",
       "      <td>2</td>\n",
       "      <td>0</td>\n",
       "      <td>...</td>\n",
       "      <td>1.99</td>\n",
       "      <td>21</td>\n",
       "      <td>-1.00</td>\n",
       "      <td>2.25</td>\n",
       "      <td>2.16</td>\n",
       "      <td>1.80</td>\n",
       "      <td>1.75</td>\n",
       "      <td>1.71</td>\n",
       "      <td>3.85</td>\n",
       "      <td>5.56</td>\n",
       "    </tr>\n",
       "    <tr>\n",
       "      <th>1121</th>\n",
       "      <td>2019-05-04</td>\n",
       "      <td>E0</td>\n",
       "      <td>04/05/2019</td>\n",
       "      <td>Bournemouth</td>\n",
       "      <td>Tottenham</td>\n",
       "      <td>1</td>\n",
       "      <td>0</td>\n",
       "      <td>H</td>\n",
       "      <td>0</td>\n",
       "      <td>0</td>\n",
       "      <td>...</td>\n",
       "      <td>2.30</td>\n",
       "      <td>19</td>\n",
       "      <td>1.00</td>\n",
       "      <td>1.57</td>\n",
       "      <td>1.54</td>\n",
       "      <td>2.64</td>\n",
       "      <td>2.55</td>\n",
       "      <td>5.99</td>\n",
       "      <td>4.75</td>\n",
       "      <td>1.54</td>\n",
       "    </tr>\n",
       "    <tr>\n",
       "      <th>1122</th>\n",
       "      <td>2019-05-04</td>\n",
       "      <td>E0</td>\n",
       "      <td>04/05/2019</td>\n",
       "      <td>Cardiff</td>\n",
       "      <td>Crystal Palace</td>\n",
       "      <td>2</td>\n",
       "      <td>3</td>\n",
       "      <td>A</td>\n",
       "      <td>1</td>\n",
       "      <td>2</td>\n",
       "      <td>...</td>\n",
       "      <td>1.88</td>\n",
       "      <td>17</td>\n",
       "      <td>0.25</td>\n",
       "      <td>1.69</td>\n",
       "      <td>1.66</td>\n",
       "      <td>2.42</td>\n",
       "      <td>2.31</td>\n",
       "      <td>2.53</td>\n",
       "      <td>3.79</td>\n",
       "      <td>2.75</td>\n",
       "    </tr>\n",
       "    <tr>\n",
       "      <th>1123</th>\n",
       "      <td>2019-05-04</td>\n",
       "      <td>E0</td>\n",
       "      <td>04/05/2019</td>\n",
       "      <td>Newcastle</td>\n",
       "      <td>Liverpool</td>\n",
       "      <td>2</td>\n",
       "      <td>3</td>\n",
       "      <td>A</td>\n",
       "      <td>1</td>\n",
       "      <td>2</td>\n",
       "      <td>...</td>\n",
       "      <td>2.14</td>\n",
       "      <td>22</td>\n",
       "      <td>1.50</td>\n",
       "      <td>1.90</td>\n",
       "      <td>1.83</td>\n",
       "      <td>2.10</td>\n",
       "      <td>2.03</td>\n",
       "      <td>9.80</td>\n",
       "      <td>5.56</td>\n",
       "      <td>1.34</td>\n",
       "    </tr>\n",
       "    <tr>\n",
       "      <th>1124</th>\n",
       "      <td>2019-05-04</td>\n",
       "      <td>E0</td>\n",
       "      <td>04/05/2019</td>\n",
       "      <td>West Ham</td>\n",
       "      <td>Southampton</td>\n",
       "      <td>3</td>\n",
       "      <td>0</td>\n",
       "      <td>H</td>\n",
       "      <td>1</td>\n",
       "      <td>0</td>\n",
       "      <td>...</td>\n",
       "      <td>2.32</td>\n",
       "      <td>18</td>\n",
       "      <td>-0.50</td>\n",
       "      <td>2.35</td>\n",
       "      <td>2.29</td>\n",
       "      <td>1.73</td>\n",
       "      <td>1.66</td>\n",
       "      <td>2.40</td>\n",
       "      <td>3.69</td>\n",
       "      <td>3.00</td>\n",
       "    </tr>\n",
       "    <tr>\n",
       "      <th>1125</th>\n",
       "      <td>2019-05-04</td>\n",
       "      <td>E0</td>\n",
       "      <td>04/05/2019</td>\n",
       "      <td>Wolves</td>\n",
       "      <td>Fulham</td>\n",
       "      <td>1</td>\n",
       "      <td>0</td>\n",
       "      <td>H</td>\n",
       "      <td>0</td>\n",
       "      <td>0</td>\n",
       "      <td>...</td>\n",
       "      <td>2.03</td>\n",
       "      <td>21</td>\n",
       "      <td>-1.00</td>\n",
       "      <td>1.99</td>\n",
       "      <td>1.93</td>\n",
       "      <td>2.00</td>\n",
       "      <td>1.94</td>\n",
       "      <td>1.52</td>\n",
       "      <td>4.39</td>\n",
       "      <td>7.01</td>\n",
       "    </tr>\n",
       "    <tr>\n",
       "      <th>1126</th>\n",
       "      <td>2019-05-05</td>\n",
       "      <td>E0</td>\n",
       "      <td>05/05/2019</td>\n",
       "      <td>Arsenal</td>\n",
       "      <td>Brighton</td>\n",
       "      <td>1</td>\n",
       "      <td>1</td>\n",
       "      <td>D</td>\n",
       "      <td>1</td>\n",
       "      <td>0</td>\n",
       "      <td>...</td>\n",
       "      <td>2.20</td>\n",
       "      <td>22</td>\n",
       "      <td>-1.50</td>\n",
       "      <td>2.35</td>\n",
       "      <td>2.21</td>\n",
       "      <td>1.75</td>\n",
       "      <td>1.70</td>\n",
       "      <td>1.27</td>\n",
       "      <td>6.31</td>\n",
       "      <td>12.29</td>\n",
       "    </tr>\n",
       "    <tr>\n",
       "      <th>1127</th>\n",
       "      <td>2019-05-05</td>\n",
       "      <td>E0</td>\n",
       "      <td>05/05/2019</td>\n",
       "      <td>Chelsea</td>\n",
       "      <td>Watford</td>\n",
       "      <td>3</td>\n",
       "      <td>0</td>\n",
       "      <td>H</td>\n",
       "      <td>0</td>\n",
       "      <td>0</td>\n",
       "      <td>...</td>\n",
       "      <td>2.34</td>\n",
       "      <td>22</td>\n",
       "      <td>-1.50</td>\n",
       "      <td>2.21</td>\n",
       "      <td>2.14</td>\n",
       "      <td>1.80</td>\n",
       "      <td>1.74</td>\n",
       "      <td>1.31</td>\n",
       "      <td>5.98</td>\n",
       "      <td>10.83</td>\n",
       "    </tr>\n",
       "    <tr>\n",
       "      <th>1128</th>\n",
       "      <td>2019-05-05</td>\n",
       "      <td>E0</td>\n",
       "      <td>05/05/2019</td>\n",
       "      <td>Huddersfield</td>\n",
       "      <td>Man United</td>\n",
       "      <td>1</td>\n",
       "      <td>1</td>\n",
       "      <td>D</td>\n",
       "      <td>0</td>\n",
       "      <td>1</td>\n",
       "      <td>...</td>\n",
       "      <td>2.22</td>\n",
       "      <td>22</td>\n",
       "      <td>1.50</td>\n",
       "      <td>2.00</td>\n",
       "      <td>1.93</td>\n",
       "      <td>1.98</td>\n",
       "      <td>1.93</td>\n",
       "      <td>9.96</td>\n",
       "      <td>5.76</td>\n",
       "      <td>1.33</td>\n",
       "    </tr>\n",
       "    <tr>\n",
       "      <th>1129</th>\n",
       "      <td>2019-05-06</td>\n",
       "      <td>E0</td>\n",
       "      <td>06/05/2019</td>\n",
       "      <td>Man City</td>\n",
       "      <td>Leicester</td>\n",
       "      <td>1</td>\n",
       "      <td>0</td>\n",
       "      <td>H</td>\n",
       "      <td>0</td>\n",
       "      <td>0</td>\n",
       "      <td>...</td>\n",
       "      <td>3.42</td>\n",
       "      <td>20</td>\n",
       "      <td>-2.00</td>\n",
       "      <td>1.83</td>\n",
       "      <td>1.75</td>\n",
       "      <td>2.20</td>\n",
       "      <td>2.12</td>\n",
       "      <td>1.17</td>\n",
       "      <td>9.36</td>\n",
       "      <td>15.00</td>\n",
       "    </tr>\n",
       "    <tr>\n",
       "      <th>1130</th>\n",
       "      <td>2019-05-12</td>\n",
       "      <td>E0</td>\n",
       "      <td>12/05/2019</td>\n",
       "      <td>Brighton</td>\n",
       "      <td>Man City</td>\n",
       "      <td>1</td>\n",
       "      <td>4</td>\n",
       "      <td>A</td>\n",
       "      <td>1</td>\n",
       "      <td>2</td>\n",
       "      <td>...</td>\n",
       "      <td>2.86</td>\n",
       "      <td>19</td>\n",
       "      <td>2.50</td>\n",
       "      <td>1.68</td>\n",
       "      <td>1.64</td>\n",
       "      <td>2.38</td>\n",
       "      <td>2.30</td>\n",
       "      <td>13.17</td>\n",
       "      <td>7.24</td>\n",
       "      <td>1.22</td>\n",
       "    </tr>\n",
       "    <tr>\n",
       "      <th>1131</th>\n",
       "      <td>2019-05-12</td>\n",
       "      <td>E0</td>\n",
       "      <td>12/05/2019</td>\n",
       "      <td>Burnley</td>\n",
       "      <td>Arsenal</td>\n",
       "      <td>1</td>\n",
       "      <td>3</td>\n",
       "      <td>A</td>\n",
       "      <td>0</td>\n",
       "      <td>0</td>\n",
       "      <td>...</td>\n",
       "      <td>2.39</td>\n",
       "      <td>19</td>\n",
       "      <td>0.50</td>\n",
       "      <td>1.77</td>\n",
       "      <td>1.72</td>\n",
       "      <td>2.25</td>\n",
       "      <td>2.18</td>\n",
       "      <td>2.52</td>\n",
       "      <td>3.69</td>\n",
       "      <td>2.80</td>\n",
       "    </tr>\n",
       "    <tr>\n",
       "      <th>1132</th>\n",
       "      <td>2019-05-12</td>\n",
       "      <td>E0</td>\n",
       "      <td>12/05/2019</td>\n",
       "      <td>Crystal Palace</td>\n",
       "      <td>Bournemouth</td>\n",
       "      <td>5</td>\n",
       "      <td>3</td>\n",
       "      <td>H</td>\n",
       "      <td>3</td>\n",
       "      <td>1</td>\n",
       "      <td>...</td>\n",
       "      <td>2.45</td>\n",
       "      <td>19</td>\n",
       "      <td>-1.00</td>\n",
       "      <td>2.61</td>\n",
       "      <td>2.52</td>\n",
       "      <td>1.60</td>\n",
       "      <td>1.54</td>\n",
       "      <td>1.79</td>\n",
       "      <td>4.40</td>\n",
       "      <td>4.16</td>\n",
       "    </tr>\n",
       "    <tr>\n",
       "      <th>1133</th>\n",
       "      <td>2019-05-12</td>\n",
       "      <td>E0</td>\n",
       "      <td>12/05/2019</td>\n",
       "      <td>Fulham</td>\n",
       "      <td>Newcastle</td>\n",
       "      <td>0</td>\n",
       "      <td>4</td>\n",
       "      <td>A</td>\n",
       "      <td>0</td>\n",
       "      <td>2</td>\n",
       "      <td>...</td>\n",
       "      <td>2.08</td>\n",
       "      <td>18</td>\n",
       "      <td>-0.25</td>\n",
       "      <td>2.21</td>\n",
       "      <td>2.15</td>\n",
       "      <td>1.80</td>\n",
       "      <td>1.75</td>\n",
       "      <td>2.49</td>\n",
       "      <td>3.55</td>\n",
       "      <td>2.93</td>\n",
       "    </tr>\n",
       "    <tr>\n",
       "      <th>1134</th>\n",
       "      <td>2019-05-12</td>\n",
       "      <td>E0</td>\n",
       "      <td>12/05/2019</td>\n",
       "      <td>Leicester</td>\n",
       "      <td>Chelsea</td>\n",
       "      <td>0</td>\n",
       "      <td>0</td>\n",
       "      <td>D</td>\n",
       "      <td>0</td>\n",
       "      <td>0</td>\n",
       "      <td>...</td>\n",
       "      <td>2.16</td>\n",
       "      <td>19</td>\n",
       "      <td>-0.50</td>\n",
       "      <td>2.45</td>\n",
       "      <td>2.38</td>\n",
       "      <td>1.65</td>\n",
       "      <td>1.62</td>\n",
       "      <td>2.42</td>\n",
       "      <td>3.63</td>\n",
       "      <td>2.98</td>\n",
       "    </tr>\n",
       "    <tr>\n",
       "      <th>1135</th>\n",
       "      <td>2019-05-12</td>\n",
       "      <td>E0</td>\n",
       "      <td>12/05/2019</td>\n",
       "      <td>Liverpool</td>\n",
       "      <td>Wolves</td>\n",
       "      <td>2</td>\n",
       "      <td>0</td>\n",
       "      <td>H</td>\n",
       "      <td>1</td>\n",
       "      <td>0</td>\n",
       "      <td>...</td>\n",
       "      <td>2.31</td>\n",
       "      <td>22</td>\n",
       "      <td>-1.50</td>\n",
       "      <td>1.98</td>\n",
       "      <td>1.91</td>\n",
       "      <td>2.01</td>\n",
       "      <td>1.95</td>\n",
       "      <td>1.32</td>\n",
       "      <td>5.89</td>\n",
       "      <td>9.48</td>\n",
       "    </tr>\n",
       "    <tr>\n",
       "      <th>1136</th>\n",
       "      <td>2019-05-12</td>\n",
       "      <td>E0</td>\n",
       "      <td>12/05/2019</td>\n",
       "      <td>Man United</td>\n",
       "      <td>Cardiff</td>\n",
       "      <td>0</td>\n",
       "      <td>2</td>\n",
       "      <td>A</td>\n",
       "      <td>0</td>\n",
       "      <td>1</td>\n",
       "      <td>...</td>\n",
       "      <td>2.95</td>\n",
       "      <td>21</td>\n",
       "      <td>-2.00</td>\n",
       "      <td>2.52</td>\n",
       "      <td>2.32</td>\n",
       "      <td>1.72</td>\n",
       "      <td>1.64</td>\n",
       "      <td>1.30</td>\n",
       "      <td>6.06</td>\n",
       "      <td>9.71</td>\n",
       "    </tr>\n",
       "    <tr>\n",
       "      <th>1137</th>\n",
       "      <td>2019-05-12</td>\n",
       "      <td>E0</td>\n",
       "      <td>12/05/2019</td>\n",
       "      <td>Southampton</td>\n",
       "      <td>Huddersfield</td>\n",
       "      <td>1</td>\n",
       "      <td>1</td>\n",
       "      <td>D</td>\n",
       "      <td>1</td>\n",
       "      <td>0</td>\n",
       "      <td>...</td>\n",
       "      <td>2.29</td>\n",
       "      <td>22</td>\n",
       "      <td>-1.50</td>\n",
       "      <td>2.27</td>\n",
       "      <td>2.16</td>\n",
       "      <td>1.80</td>\n",
       "      <td>1.73</td>\n",
       "      <td>1.37</td>\n",
       "      <td>5.36</td>\n",
       "      <td>8.49</td>\n",
       "    </tr>\n",
       "    <tr>\n",
       "      <th>1138</th>\n",
       "      <td>2019-05-12</td>\n",
       "      <td>E0</td>\n",
       "      <td>12/05/2019</td>\n",
       "      <td>Tottenham</td>\n",
       "      <td>Everton</td>\n",
       "      <td>2</td>\n",
       "      <td>2</td>\n",
       "      <td>D</td>\n",
       "      <td>1</td>\n",
       "      <td>0</td>\n",
       "      <td>...</td>\n",
       "      <td>2.07</td>\n",
       "      <td>19</td>\n",
       "      <td>-0.50</td>\n",
       "      <td>2.13</td>\n",
       "      <td>2.08</td>\n",
       "      <td>1.85</td>\n",
       "      <td>1.80</td>\n",
       "      <td>1.91</td>\n",
       "      <td>3.81</td>\n",
       "      <td>4.15</td>\n",
       "    </tr>\n",
       "    <tr>\n",
       "      <th>1139</th>\n",
       "      <td>2019-05-12</td>\n",
       "      <td>E0</td>\n",
       "      <td>12/05/2019</td>\n",
       "      <td>Watford</td>\n",
       "      <td>West Ham</td>\n",
       "      <td>1</td>\n",
       "      <td>4</td>\n",
       "      <td>A</td>\n",
       "      <td>0</td>\n",
       "      <td>2</td>\n",
       "      <td>...</td>\n",
       "      <td>2.44</td>\n",
       "      <td>19</td>\n",
       "      <td>-0.50</td>\n",
       "      <td>2.25</td>\n",
       "      <td>2.19</td>\n",
       "      <td>1.78</td>\n",
       "      <td>1.72</td>\n",
       "      <td>2.11</td>\n",
       "      <td>3.86</td>\n",
       "      <td>3.41</td>\n",
       "    </tr>\n",
       "  </tbody>\n",
       "</table>\n",
       "<p>1140 rows × 63 columns</p>\n",
       "</div>"
      ],
      "text/plain": [
       "            date Div        Date        HomeTeam        AwayTeam  FTHG  FTAG  \\\n",
       "0     2016-08-13  E0  13/08/2016         Burnley         Swansea     0     1   \n",
       "1     2016-08-13  E0  13/08/2016  Crystal Palace       West Brom     0     1   \n",
       "2     2016-08-13  E0  13/08/2016         Everton       Tottenham     1     1   \n",
       "3     2016-08-13  E0  13/08/2016            Hull       Leicester     2     1   \n",
       "4     2016-08-13  E0  13/08/2016        Man City      Sunderland     2     1   \n",
       "5     2016-08-13  E0  13/08/2016   Middlesbrough           Stoke     1     1   \n",
       "6     2016-08-13  E0  13/08/2016     Southampton         Watford     1     1   \n",
       "7     2016-08-14  E0  14/08/2016         Arsenal       Liverpool     3     4   \n",
       "8     2016-08-14  E0  14/08/2016     Bournemouth      Man United     1     3   \n",
       "9     2016-08-15  E0  15/08/2016         Chelsea        West Ham     2     1   \n",
       "10    2016-08-19  E0  19/08/2016      Man United     Southampton     2     0   \n",
       "11    2016-08-20  E0  20/08/2016         Burnley       Liverpool     2     0   \n",
       "12    2016-08-20  E0  20/08/2016       Leicester         Arsenal     0     0   \n",
       "13    2016-08-20  E0  20/08/2016           Stoke        Man City     1     4   \n",
       "14    2016-08-20  E0  20/08/2016         Swansea            Hull     0     2   \n",
       "15    2016-08-20  E0  20/08/2016       Tottenham  Crystal Palace     1     0   \n",
       "16    2016-08-20  E0  20/08/2016         Watford         Chelsea     1     2   \n",
       "17    2016-08-20  E0  20/08/2016       West Brom         Everton     1     2   \n",
       "18    2016-08-21  E0  21/08/2016      Sunderland   Middlesbrough     1     2   \n",
       "19    2016-08-21  E0  21/08/2016        West Ham     Bournemouth     1     0   \n",
       "20    2016-08-27  E0  27/08/2016         Chelsea         Burnley     3     0   \n",
       "21    2016-08-27  E0  27/08/2016  Crystal Palace     Bournemouth     1     1   \n",
       "22    2016-08-27  E0  27/08/2016         Everton           Stoke     1     0   \n",
       "23    2016-08-27  E0  27/08/2016            Hull      Man United     0     1   \n",
       "24    2016-08-27  E0  27/08/2016       Leicester         Swansea     2     1   \n",
       "25    2016-08-27  E0  27/08/2016     Southampton      Sunderland     1     1   \n",
       "26    2016-08-27  E0  27/08/2016       Tottenham       Liverpool     1     1   \n",
       "27    2016-08-27  E0  27/08/2016         Watford         Arsenal     1     3   \n",
       "28    2016-08-28  E0  28/08/2016        Man City        West Ham     3     1   \n",
       "29    2016-08-28  E0  28/08/2016       West Brom   Middlesbrough     0     0   \n",
       "...          ...  ..         ...             ...             ...   ...   ...   \n",
       "1110  2019-04-26  E0  26/04/2019       Liverpool    Huddersfield     5     0   \n",
       "1111  2019-04-27  E0  27/04/2019        Brighton       Newcastle     1     1   \n",
       "1112  2019-04-27  E0  27/04/2019  Crystal Palace         Everton     0     0   \n",
       "1113  2019-04-27  E0  27/04/2019          Fulham         Cardiff     1     0   \n",
       "1114  2019-04-27  E0  27/04/2019     Southampton     Bournemouth     3     3   \n",
       "1115  2019-04-27  E0  27/04/2019       Tottenham        West Ham     0     1   \n",
       "1116  2019-04-27  E0  27/04/2019         Watford          Wolves     1     2   \n",
       "1117  2019-04-28  E0  28/04/2019         Burnley        Man City     0     1   \n",
       "1118  2019-04-28  E0  28/04/2019       Leicester         Arsenal     3     0   \n",
       "1119  2019-04-28  E0  28/04/2019      Man United         Chelsea     1     1   \n",
       "1120  2019-05-03  E0  03/05/2019         Everton         Burnley     2     0   \n",
       "1121  2019-05-04  E0  04/05/2019     Bournemouth       Tottenham     1     0   \n",
       "1122  2019-05-04  E0  04/05/2019         Cardiff  Crystal Palace     2     3   \n",
       "1123  2019-05-04  E0  04/05/2019       Newcastle       Liverpool     2     3   \n",
       "1124  2019-05-04  E0  04/05/2019        West Ham     Southampton     3     0   \n",
       "1125  2019-05-04  E0  04/05/2019          Wolves          Fulham     1     0   \n",
       "1126  2019-05-05  E0  05/05/2019         Arsenal        Brighton     1     1   \n",
       "1127  2019-05-05  E0  05/05/2019         Chelsea         Watford     3     0   \n",
       "1128  2019-05-05  E0  05/05/2019    Huddersfield      Man United     1     1   \n",
       "1129  2019-05-06  E0  06/05/2019        Man City       Leicester     1     0   \n",
       "1130  2019-05-12  E0  12/05/2019        Brighton        Man City     1     4   \n",
       "1131  2019-05-12  E0  12/05/2019         Burnley         Arsenal     1     3   \n",
       "1132  2019-05-12  E0  12/05/2019  Crystal Palace     Bournemouth     5     3   \n",
       "1133  2019-05-12  E0  12/05/2019          Fulham       Newcastle     0     4   \n",
       "1134  2019-05-12  E0  12/05/2019       Leicester         Chelsea     0     0   \n",
       "1135  2019-05-12  E0  12/05/2019       Liverpool          Wolves     2     0   \n",
       "1136  2019-05-12  E0  12/05/2019      Man United         Cardiff     0     2   \n",
       "1137  2019-05-12  E0  12/05/2019     Southampton    Huddersfield     1     1   \n",
       "1138  2019-05-12  E0  12/05/2019       Tottenham         Everton     2     2   \n",
       "1139  2019-05-12  E0  12/05/2019         Watford        West Ham     1     4   \n",
       "\n",
       "     FTR  HTHG  HTAG  ...   BbAv<2.5 BbAH  BbAHh  BbMxAHH  BbAvAHH  BbMxAHA  \\\n",
       "0      A     0     0  ...       1.61   32  -0.25     2.13     2.06     1.86   \n",
       "1      A     0     0  ...       1.52   33  -0.50     2.07     2.00     1.90   \n",
       "2      D     1     0  ...       1.77   32   0.25     1.91     1.85     2.09   \n",
       "3      H     1     0  ...       1.67   31   0.25     2.35     2.26     2.03   \n",
       "4      H     1     0  ...       2.48   34  -1.50     1.81     1.73     2.20   \n",
       "5      D     1     0  ...       1.53   32  -0.25     1.99     1.93     1.97   \n",
       "6      D     0     1  ...       1.75   33  -0.75     2.16     2.07     1.89   \n",
       "7      A     1     1  ...       1.99   31  -0.50     2.41     2.31     1.81   \n",
       "8      A     0     1  ...       1.76   33   0.75     1.80     1.76     2.17   \n",
       "9      H     0     0  ...       2.01   33  -1.00     2.20     2.10     1.80   \n",
       "10     H     1     0  ...       1.86   37  -1.00     2.01     1.92     2.19   \n",
       "11     H     2     0  ...       1.93   36   1.00     1.98     1.91     2.00   \n",
       "12     D     0     0  ...       2.16   32   0.25     1.83     1.78     2.15   \n",
       "13     A     0     2  ...       2.05   36   1.00     1.75     1.69     2.33   \n",
       "14     A     0     0  ...       1.64   33  -1.00     2.56     2.45     1.62   \n",
       "15     H     0     0  ...       2.04   36  -1.00     1.76     1.72     2.26   \n",
       "16     A     0     0  ...       1.74   33   0.75     1.97     1.93     2.01   \n",
       "17     A     1     1  ...       1.57   32   0.25     1.77     1.72     2.25   \n",
       "18     A     0     2  ...       1.57   33  -0.25     2.21     2.14     1.80   \n",
       "19     H     0     0  ...       2.02   31  -0.50     2.00     1.94     2.03   \n",
       "20     H     2     0  ...       2.09   33  -2.00     2.44     2.33     1.68   \n",
       "21     D     0     1  ...       1.68   31  -0.25     2.03     1.94     1.94   \n",
       "22     H     0     0  ...       1.82   32  -1.00     2.38     2.30     1.68   \n",
       "23     A     0     0  ...       1.81   33   1.00     2.21     2.12     1.80   \n",
       "24     H     1     0  ...       1.74   33  -1.00     2.45     2.31     1.67   \n",
       "25     D     0     0  ...       1.73   34  -1.00     2.12     2.04     1.86   \n",
       "26     D     0     1  ...       2.05   30  -0.25     2.08     2.01     1.91   \n",
       "27     A     0     3  ...       1.87   33   1.00     1.72     1.67     2.34   \n",
       "28     H     2     0  ...       2.57   31  -1.50     1.85     1.77     2.20   \n",
       "29     D     0     0  ...       1.49   29  -0.25     2.20     2.15     1.79   \n",
       "...   ..   ...   ...  ...        ...  ...    ...      ...      ...      ...   \n",
       "1110   H     3     0  ...       4.17   21  -3.00     1.93     1.89     2.02   \n",
       "1111   D     0     1  ...       1.58   19  -0.50     2.36     2.30     1.71   \n",
       "1112   D     0     0  ...       1.88   18   0.25     1.66     1.63     2.47   \n",
       "1113   H     0     0  ...       2.11   17   0.00     1.80     1.74     2.23   \n",
       "1114   D     1     2  ...       2.08   19  -0.50     1.95     1.89     2.02   \n",
       "1115   A     0     0  ...       2.50   22  -1.50     2.28     2.17     1.80   \n",
       "1116   A     0     1  ...       1.68   18   0.25     1.62     1.59     2.51   \n",
       "1117   A     0     0  ...       2.88   20   2.00     2.27     2.20     1.77   \n",
       "1118   H     0     0  ...       2.33   18   0.25     1.76     1.71     2.26   \n",
       "1119   D     1     1  ...       1.97   18  -0.25     2.36     2.31     1.72   \n",
       "1120   H     2     0  ...       1.99   21  -1.00     2.25     2.16     1.80   \n",
       "1121   H     0     0  ...       2.30   19   1.00     1.57     1.54     2.64   \n",
       "1122   A     1     2  ...       1.88   17   0.25     1.69     1.66     2.42   \n",
       "1123   A     1     2  ...       2.14   22   1.50     1.90     1.83     2.10   \n",
       "1124   H     1     0  ...       2.32   18  -0.50     2.35     2.29     1.73   \n",
       "1125   H     0     0  ...       2.03   21  -1.00     1.99     1.93     2.00   \n",
       "1126   D     1     0  ...       2.20   22  -1.50     2.35     2.21     1.75   \n",
       "1127   H     0     0  ...       2.34   22  -1.50     2.21     2.14     1.80   \n",
       "1128   D     0     1  ...       2.22   22   1.50     2.00     1.93     1.98   \n",
       "1129   H     0     0  ...       3.42   20  -2.00     1.83     1.75     2.20   \n",
       "1130   A     1     2  ...       2.86   19   2.50     1.68     1.64     2.38   \n",
       "1131   A     0     0  ...       2.39   19   0.50     1.77     1.72     2.25   \n",
       "1132   H     3     1  ...       2.45   19  -1.00     2.61     2.52     1.60   \n",
       "1133   A     0     2  ...       2.08   18  -0.25     2.21     2.15     1.80   \n",
       "1134   D     0     0  ...       2.16   19  -0.50     2.45     2.38     1.65   \n",
       "1135   H     1     0  ...       2.31   22  -1.50     1.98     1.91     2.01   \n",
       "1136   A     0     1  ...       2.95   21  -2.00     2.52     2.32     1.72   \n",
       "1137   D     1     0  ...       2.29   22  -1.50     2.27     2.16     1.80   \n",
       "1138   D     1     0  ...       2.07   19  -0.50     2.13     2.08     1.85   \n",
       "1139   A     0     2  ...       2.44   19  -0.50     2.25     2.19     1.78   \n",
       "\n",
       "      BbAvAHA   PSCH   PSCD   PSCA  \n",
       "0        1.81   2.79   3.16   2.89  \n",
       "1        1.85   2.25   3.15   3.86  \n",
       "2        2.00   3.64   3.54   2.16  \n",
       "3        1.67   4.68   3.50   1.92  \n",
       "4        2.14   1.25   6.50  14.50  \n",
       "5        1.92   2.20   3.38   3.70  \n",
       "6        1.80   1.80   3.83   4.91  \n",
       "7        1.64   2.80   3.44   2.68  \n",
       "8        2.11   5.40   3.65   1.78  \n",
       "9        1.76   1.52   4.38   7.45  \n",
       "10       1.94   1.53   4.27   7.44  \n",
       "11       1.94   7.26   4.54   1.51  \n",
       "12       2.10   2.82   3.50   2.63  \n",
       "13       2.22   6.29   4.34   1.58  \n",
       "14       1.57   1.86   3.55   4.95  \n",
       "15       2.17   1.47   4.64   7.91  \n",
       "16       1.93   6.00   3.99   1.66  \n",
       "17       2.17   3.08   3.17   2.63  \n",
       "18       1.75   2.79   3.10   2.94  \n",
       "19       1.91   2.48   3.31   3.17  \n",
       "20       1.62   1.25   6.60  15.24  \n",
       "21       1.88   2.23   3.36   3.64  \n",
       "22       1.64   1.68   4.20   5.39  \n",
       "23       1.75   9.15   4.54   1.45  \n",
       "24       1.63   1.69   4.12   5.37  \n",
       "25       1.81   1.48   4.75   7.45  \n",
       "26       1.84   2.68   3.37   2.85  \n",
       "27       2.24   6.00   4.16   1.63  \n",
       "28       2.08   1.26   6.50  13.25  \n",
       "29       1.73   2.65   3.10   3.12  \n",
       "...       ...    ...    ...    ...  \n",
       "1110     1.97   1.08  14.10  34.97  \n",
       "1111     1.66   2.25   3.29   3.68  \n",
       "1112     2.37   3.05   3.49   2.46  \n",
       "1113     2.15   2.21   3.69   3.35  \n",
       "1114     1.97   1.81   3.97   4.58  \n",
       "1115     1.72   1.36   5.55   8.95  \n",
       "1116     2.46   2.73   3.26   2.87  \n",
       "1117     1.71  18.20   9.44   1.16  \n",
       "1118     2.22   2.60   3.65   2.77  \n",
       "1119     1.66   2.77   3.38   2.76  \n",
       "1120     1.75   1.71   3.85   5.56  \n",
       "1121     2.55   5.99   4.75   1.54  \n",
       "1122     2.31   2.53   3.79   2.75  \n",
       "1123     2.03   9.80   5.56   1.34  \n",
       "1124     1.66   2.40   3.69   3.00  \n",
       "1125     1.94   1.52   4.39   7.01  \n",
       "1126     1.70   1.27   6.31  12.29  \n",
       "1127     1.74   1.31   5.98  10.83  \n",
       "1128     1.93   9.96   5.76   1.33  \n",
       "1129     2.12   1.17   9.36  15.00  \n",
       "1130     2.30  13.17   7.24   1.22  \n",
       "1131     2.18   2.52   3.69   2.80  \n",
       "1132     1.54   1.79   4.40   4.16  \n",
       "1133     1.75   2.49   3.55   2.93  \n",
       "1134     1.62   2.42   3.63   2.98  \n",
       "1135     1.95   1.32   5.89   9.48  \n",
       "1136     1.64   1.30   6.06   9.71  \n",
       "1137     1.73   1.37   5.36   8.49  \n",
       "1138     1.80   1.91   3.81   4.15  \n",
       "1139     1.72   2.11   3.86   3.41  \n",
       "\n",
       "[1140 rows x 63 columns]"
      ]
     },
     "execution_count": 30,
     "metadata": {},
     "output_type": "execute_result"
    }
   ],
   "source": [
    "pd.read_csv('csv/football_all.csv')"
   ]
  },
  {
   "cell_type": "markdown",
   "metadata": {},
   "source": [
    "### Merging of Football Odds, EPL DataFrames and ELO DataFrames"
   ]
  },
  {
   "cell_type": "markdown",
   "metadata": {},
   "source": [
    "Pretty much what it says on the tin... it's merging time"
   ]
  },
  {
   "cell_type": "code",
   "execution_count": 52,
   "metadata": {
    "ExecuteTime": {
     "end_time": "2019-09-24T19:22:05.480589Z",
     "start_time": "2019-09-24T19:22:05.474374Z"
    }
   },
   "outputs": [],
   "source": [
    "# Could get rid of the columns after the merge, it is just less messy doing it first\n",
    "# I don't need these columns because they're features which were created by the author of the dataset\n",
    "# and while they may help, I can't re-create them for any new data.\n",
    "# I may include them later just to see if they add anything. \n",
    "# For Science\n",
    "\n",
    "df = epl.drop(columns=['league_id', 'league', 'spi1', 'spi2', 'prob1',\n",
    "       'prob2', 'probtie', 'proj_score1', 'proj_score2', 'importance1',\n",
    "       'importance2','nsxg1', 'nsxg2',\n",
    "       'adj_score1', 'adj_score2'])"
   ]
  },
  {
   "cell_type": "code",
   "execution_count": 53,
   "metadata": {
    "ExecuteTime": {
     "end_time": "2019-09-24T19:22:08.041297Z",
     "start_time": "2019-09-24T19:22:08.027959Z"
    },
    "scrolled": true
   },
   "outputs": [
    {
     "data": {
      "text/html": [
       "<div>\n",
       "<style scoped>\n",
       "    .dataframe tbody tr th:only-of-type {\n",
       "        vertical-align: middle;\n",
       "    }\n",
       "\n",
       "    .dataframe tbody tr th {\n",
       "        vertical-align: top;\n",
       "    }\n",
       "\n",
       "    .dataframe thead th {\n",
       "        text-align: right;\n",
       "    }\n",
       "</style>\n",
       "<table border=\"1\" class=\"dataframe\">\n",
       "  <thead>\n",
       "    <tr style=\"text-align: right;\">\n",
       "      <th></th>\n",
       "      <th>team1</th>\n",
       "      <th>team2</th>\n",
       "      <th>score1</th>\n",
       "      <th>score2</th>\n",
       "      <th>xg1</th>\n",
       "      <th>xg2</th>\n",
       "    </tr>\n",
       "  </thead>\n",
       "  <tbody>\n",
       "    <tr>\n",
       "      <th>2016-08-13</th>\n",
       "      <td>Burnley</td>\n",
       "      <td>Swansea City</td>\n",
       "      <td>0.0</td>\n",
       "      <td>1.0</td>\n",
       "      <td>1.24</td>\n",
       "      <td>1.84</td>\n",
       "    </tr>\n",
       "    <tr>\n",
       "      <th>2016-08-13</th>\n",
       "      <td>Crystal Palace</td>\n",
       "      <td>WestBrom</td>\n",
       "      <td>0.0</td>\n",
       "      <td>1.0</td>\n",
       "      <td>1.11</td>\n",
       "      <td>0.68</td>\n",
       "    </tr>\n",
       "    <tr>\n",
       "      <th>2016-08-13</th>\n",
       "      <td>Everton</td>\n",
       "      <td>Tottenham Hotspur</td>\n",
       "      <td>1.0</td>\n",
       "      <td>1.0</td>\n",
       "      <td>0.73</td>\n",
       "      <td>1.11</td>\n",
       "    </tr>\n",
       "    <tr>\n",
       "      <th>2016-08-13</th>\n",
       "      <td>HullCity</td>\n",
       "      <td>Leicester City</td>\n",
       "      <td>2.0</td>\n",
       "      <td>1.0</td>\n",
       "      <td>0.85</td>\n",
       "      <td>2.77</td>\n",
       "    </tr>\n",
       "    <tr>\n",
       "      <th>2016-08-13</th>\n",
       "      <td>ManCity</td>\n",
       "      <td>Sunderland</td>\n",
       "      <td>2.0</td>\n",
       "      <td>1.0</td>\n",
       "      <td>2.14</td>\n",
       "      <td>1.25</td>\n",
       "    </tr>\n",
       "  </tbody>\n",
       "</table>\n",
       "</div>"
      ],
      "text/plain": [
       "                     team1              team2  score1  score2   xg1   xg2\n",
       "2016-08-13         Burnley       Swansea City     0.0     1.0  1.24  1.84\n",
       "2016-08-13  Crystal Palace           WestBrom     0.0     1.0  1.11  0.68\n",
       "2016-08-13         Everton  Tottenham Hotspur     1.0     1.0  0.73  1.11\n",
       "2016-08-13        HullCity     Leicester City     2.0     1.0  0.85  2.77\n",
       "2016-08-13         ManCity         Sunderland     2.0     1.0  2.14  1.25"
      ]
     },
     "execution_count": 53,
     "metadata": {},
     "output_type": "execute_result"
    }
   ],
   "source": [
    "# The only thing I really care about is the xg from this dataframe.\n",
    "\n",
    "df.head()"
   ]
  },
  {
   "cell_type": "code",
   "execution_count": 54,
   "metadata": {
    "ExecuteTime": {
     "end_time": "2019-09-24T19:22:37.401473Z",
     "start_time": "2019-09-24T19:22:37.373776Z"
    }
   },
   "outputs": [
    {
     "data": {
      "text/html": [
       "<div>\n",
       "<style scoped>\n",
       "    .dataframe tbody tr th:only-of-type {\n",
       "        vertical-align: middle;\n",
       "    }\n",
       "\n",
       "    .dataframe tbody tr th {\n",
       "        vertical-align: top;\n",
       "    }\n",
       "\n",
       "    .dataframe thead th {\n",
       "        text-align: right;\n",
       "    }\n",
       "</style>\n",
       "<table border=\"1\" class=\"dataframe\">\n",
       "  <thead>\n",
       "    <tr style=\"text-align: right;\">\n",
       "      <th></th>\n",
       "      <th>Div</th>\n",
       "      <th>Date</th>\n",
       "      <th>HomeTeam</th>\n",
       "      <th>AwayTeam</th>\n",
       "      <th>FTHG</th>\n",
       "      <th>FTAG</th>\n",
       "      <th>FTR</th>\n",
       "      <th>HTHG</th>\n",
       "      <th>HTAG</th>\n",
       "      <th>HTR</th>\n",
       "      <th>...</th>\n",
       "      <th>BbAv&lt;2.5</th>\n",
       "      <th>BbAH</th>\n",
       "      <th>BbAHh</th>\n",
       "      <th>BbMxAHH</th>\n",
       "      <th>BbAvAHH</th>\n",
       "      <th>BbMxAHA</th>\n",
       "      <th>BbAvAHA</th>\n",
       "      <th>PSCH</th>\n",
       "      <th>PSCD</th>\n",
       "      <th>PSCA</th>\n",
       "    </tr>\n",
       "    <tr>\n",
       "      <th>date</th>\n",
       "      <th></th>\n",
       "      <th></th>\n",
       "      <th></th>\n",
       "      <th></th>\n",
       "      <th></th>\n",
       "      <th></th>\n",
       "      <th></th>\n",
       "      <th></th>\n",
       "      <th></th>\n",
       "      <th></th>\n",
       "      <th></th>\n",
       "      <th></th>\n",
       "      <th></th>\n",
       "      <th></th>\n",
       "      <th></th>\n",
       "      <th></th>\n",
       "      <th></th>\n",
       "      <th></th>\n",
       "      <th></th>\n",
       "      <th></th>\n",
       "      <th></th>\n",
       "    </tr>\n",
       "  </thead>\n",
       "  <tbody>\n",
       "    <tr>\n",
       "      <th>2016-08-13</th>\n",
       "      <td>E0</td>\n",
       "      <td>13/08/2016</td>\n",
       "      <td>Burnley</td>\n",
       "      <td>Swansea</td>\n",
       "      <td>0</td>\n",
       "      <td>1</td>\n",
       "      <td>A</td>\n",
       "      <td>0</td>\n",
       "      <td>0</td>\n",
       "      <td>D</td>\n",
       "      <td>...</td>\n",
       "      <td>1.61</td>\n",
       "      <td>32</td>\n",
       "      <td>-0.25</td>\n",
       "      <td>2.13</td>\n",
       "      <td>2.06</td>\n",
       "      <td>1.86</td>\n",
       "      <td>1.81</td>\n",
       "      <td>2.79</td>\n",
       "      <td>3.16</td>\n",
       "      <td>2.89</td>\n",
       "    </tr>\n",
       "    <tr>\n",
       "      <th>2016-08-13</th>\n",
       "      <td>E0</td>\n",
       "      <td>13/08/2016</td>\n",
       "      <td>Crystal Palace</td>\n",
       "      <td>West Brom</td>\n",
       "      <td>0</td>\n",
       "      <td>1</td>\n",
       "      <td>A</td>\n",
       "      <td>0</td>\n",
       "      <td>0</td>\n",
       "      <td>D</td>\n",
       "      <td>...</td>\n",
       "      <td>1.52</td>\n",
       "      <td>33</td>\n",
       "      <td>-0.50</td>\n",
       "      <td>2.07</td>\n",
       "      <td>2.00</td>\n",
       "      <td>1.90</td>\n",
       "      <td>1.85</td>\n",
       "      <td>2.25</td>\n",
       "      <td>3.15</td>\n",
       "      <td>3.86</td>\n",
       "    </tr>\n",
       "    <tr>\n",
       "      <th>2016-08-13</th>\n",
       "      <td>E0</td>\n",
       "      <td>13/08/2016</td>\n",
       "      <td>Everton</td>\n",
       "      <td>Tottenham</td>\n",
       "      <td>1</td>\n",
       "      <td>1</td>\n",
       "      <td>D</td>\n",
       "      <td>1</td>\n",
       "      <td>0</td>\n",
       "      <td>H</td>\n",
       "      <td>...</td>\n",
       "      <td>1.77</td>\n",
       "      <td>32</td>\n",
       "      <td>0.25</td>\n",
       "      <td>1.91</td>\n",
       "      <td>1.85</td>\n",
       "      <td>2.09</td>\n",
       "      <td>2.00</td>\n",
       "      <td>3.64</td>\n",
       "      <td>3.54</td>\n",
       "      <td>2.16</td>\n",
       "    </tr>\n",
       "    <tr>\n",
       "      <th>2016-08-13</th>\n",
       "      <td>E0</td>\n",
       "      <td>13/08/2016</td>\n",
       "      <td>Hull</td>\n",
       "      <td>Leicester</td>\n",
       "      <td>2</td>\n",
       "      <td>1</td>\n",
       "      <td>H</td>\n",
       "      <td>1</td>\n",
       "      <td>0</td>\n",
       "      <td>H</td>\n",
       "      <td>...</td>\n",
       "      <td>1.67</td>\n",
       "      <td>31</td>\n",
       "      <td>0.25</td>\n",
       "      <td>2.35</td>\n",
       "      <td>2.26</td>\n",
       "      <td>2.03</td>\n",
       "      <td>1.67</td>\n",
       "      <td>4.68</td>\n",
       "      <td>3.50</td>\n",
       "      <td>1.92</td>\n",
       "    </tr>\n",
       "    <tr>\n",
       "      <th>2016-08-13</th>\n",
       "      <td>E0</td>\n",
       "      <td>13/08/2016</td>\n",
       "      <td>Man City</td>\n",
       "      <td>Sunderland</td>\n",
       "      <td>2</td>\n",
       "      <td>1</td>\n",
       "      <td>H</td>\n",
       "      <td>1</td>\n",
       "      <td>0</td>\n",
       "      <td>H</td>\n",
       "      <td>...</td>\n",
       "      <td>2.48</td>\n",
       "      <td>34</td>\n",
       "      <td>-1.50</td>\n",
       "      <td>1.81</td>\n",
       "      <td>1.73</td>\n",
       "      <td>2.20</td>\n",
       "      <td>2.14</td>\n",
       "      <td>1.25</td>\n",
       "      <td>6.50</td>\n",
       "      <td>14.50</td>\n",
       "    </tr>\n",
       "  </tbody>\n",
       "</table>\n",
       "<p>5 rows × 62 columns</p>\n",
       "</div>"
      ],
      "text/plain": [
       "           Div        Date        HomeTeam    AwayTeam  FTHG  FTAG FTR  HTHG  \\\n",
       "date                                                                           \n",
       "2016-08-13  E0  13/08/2016         Burnley     Swansea     0     1   A     0   \n",
       "2016-08-13  E0  13/08/2016  Crystal Palace   West Brom     0     1   A     0   \n",
       "2016-08-13  E0  13/08/2016         Everton   Tottenham     1     1   D     1   \n",
       "2016-08-13  E0  13/08/2016            Hull   Leicester     2     1   H     1   \n",
       "2016-08-13  E0  13/08/2016        Man City  Sunderland     2     1   H     1   \n",
       "\n",
       "            HTAG HTR  ...   BbAv<2.5  BbAH  BbAHh  BbMxAHH  BbAvAHH  BbMxAHA  \\\n",
       "date                  ...                                                      \n",
       "2016-08-13     0   D  ...       1.61    32  -0.25     2.13     2.06     1.86   \n",
       "2016-08-13     0   D  ...       1.52    33  -0.50     2.07     2.00     1.90   \n",
       "2016-08-13     0   H  ...       1.77    32   0.25     1.91     1.85     2.09   \n",
       "2016-08-13     0   H  ...       1.67    31   0.25     2.35     2.26     2.03   \n",
       "2016-08-13     0   H  ...       2.48    34  -1.50     1.81     1.73     2.20   \n",
       "\n",
       "            BbAvAHA  PSCH  PSCD   PSCA  \n",
       "date                                    \n",
       "2016-08-13     1.81  2.79  3.16   2.89  \n",
       "2016-08-13     1.85  2.25  3.15   3.86  \n",
       "2016-08-13     2.00  3.64  3.54   2.16  \n",
       "2016-08-13     1.67  4.68  3.50   1.92  \n",
       "2016-08-13     2.14  1.25  6.50  14.50  \n",
       "\n",
       "[5 rows x 62 columns]"
      ]
     },
     "execution_count": 54,
     "metadata": {},
     "output_type": "execute_result"
    }
   ],
   "source": [
    "football_all.head()"
   ]
  },
  {
   "cell_type": "code",
   "execution_count": 55,
   "metadata": {
    "ExecuteTime": {
     "end_time": "2019-09-24T19:22:38.537560Z",
     "start_time": "2019-09-24T19:22:38.530878Z"
    }
   },
   "outputs": [
    {
     "data": {
      "text/plain": [
       "Index(['Div', 'Date', 'HomeTeam', 'AwayTeam', 'FTHG', 'FTAG', 'FTR', 'HTHG',\n",
       "       'HTAG', 'HTR', 'Referee', 'HS', 'AS', 'HST', 'AST', 'HF', 'AF', 'HC',\n",
       "       'AC', 'HY', 'AY', 'HR', 'AR', 'B365H', 'B365D', 'B365A', 'BWH', 'BWD',\n",
       "       'BWA', 'IWH', 'IWD', 'IWA', 'PSH', 'PSD', 'PSA', 'WHH', 'WHD', 'WHA',\n",
       "       'VCH', 'VCD', 'VCA', 'Bb1X2', 'BbMxH', 'BbAvH', 'BbMxD', 'BbAvD',\n",
       "       'BbMxA', 'BbAvA', 'BbOU', 'BbMx>2.5', 'BbAv>2.5', 'BbMx<2.5',\n",
       "       'BbAv<2.5', 'BbAH', 'BbAHh', 'BbMxAHH', 'BbAvAHH', 'BbMxAHA', 'BbAvAHA',\n",
       "       'PSCH', 'PSCD', 'PSCA'],\n",
       "      dtype='object')"
      ]
     },
     "execution_count": 55,
     "metadata": {},
     "output_type": "execute_result"
    }
   ],
   "source": [
    "football_all.columns"
   ]
  },
  {
   "cell_type": "code",
   "execution_count": 56,
   "metadata": {
    "ExecuteTime": {
     "end_time": "2019-09-24T19:22:40.489581Z",
     "start_time": "2019-09-24T19:22:40.484750Z"
    }
   },
   "outputs": [],
   "source": [
    "df2 = football_all[['FTR']]"
   ]
  },
  {
   "cell_type": "code",
   "execution_count": 57,
   "metadata": {
    "ExecuteTime": {
     "end_time": "2019-09-24T19:22:41.682144Z",
     "start_time": "2019-09-24T19:22:41.674145Z"
    }
   },
   "outputs": [
    {
     "data": {
      "text/html": [
       "<div>\n",
       "<style scoped>\n",
       "    .dataframe tbody tr th:only-of-type {\n",
       "        vertical-align: middle;\n",
       "    }\n",
       "\n",
       "    .dataframe tbody tr th {\n",
       "        vertical-align: top;\n",
       "    }\n",
       "\n",
       "    .dataframe thead th {\n",
       "        text-align: right;\n",
       "    }\n",
       "</style>\n",
       "<table border=\"1\" class=\"dataframe\">\n",
       "  <thead>\n",
       "    <tr style=\"text-align: right;\">\n",
       "      <th></th>\n",
       "      <th>FTR</th>\n",
       "    </tr>\n",
       "    <tr>\n",
       "      <th>date</th>\n",
       "      <th></th>\n",
       "    </tr>\n",
       "  </thead>\n",
       "  <tbody>\n",
       "    <tr>\n",
       "      <th>2016-08-13</th>\n",
       "      <td>A</td>\n",
       "    </tr>\n",
       "    <tr>\n",
       "      <th>2016-08-13</th>\n",
       "      <td>A</td>\n",
       "    </tr>\n",
       "    <tr>\n",
       "      <th>2016-08-13</th>\n",
       "      <td>D</td>\n",
       "    </tr>\n",
       "    <tr>\n",
       "      <th>2016-08-13</th>\n",
       "      <td>H</td>\n",
       "    </tr>\n",
       "    <tr>\n",
       "      <th>2016-08-13</th>\n",
       "      <td>H</td>\n",
       "    </tr>\n",
       "  </tbody>\n",
       "</table>\n",
       "</div>"
      ],
      "text/plain": [
       "           FTR\n",
       "date          \n",
       "2016-08-13   A\n",
       "2016-08-13   A\n",
       "2016-08-13   D\n",
       "2016-08-13   H\n",
       "2016-08-13   H"
      ]
     },
     "execution_count": 57,
     "metadata": {},
     "output_type": "execute_result"
    }
   ],
   "source": [
    "df2.head()"
   ]
  },
  {
   "cell_type": "code",
   "execution_count": 64,
   "metadata": {
    "ExecuteTime": {
     "end_time": "2019-09-24T19:23:23.772305Z",
     "start_time": "2019-09-24T19:23:23.767191Z"
    }
   },
   "outputs": [],
   "source": [
    "df4 = pd.concat([df,df2], axis=1)"
   ]
  },
  {
   "cell_type": "code",
   "execution_count": 66,
   "metadata": {
    "ExecuteTime": {
     "end_time": "2019-09-24T19:23:30.023751Z",
     "start_time": "2019-09-24T19:23:30.010202Z"
    }
   },
   "outputs": [
    {
     "data": {
      "text/html": [
       "<div>\n",
       "<style scoped>\n",
       "    .dataframe tbody tr th:only-of-type {\n",
       "        vertical-align: middle;\n",
       "    }\n",
       "\n",
       "    .dataframe tbody tr th {\n",
       "        vertical-align: top;\n",
       "    }\n",
       "\n",
       "    .dataframe thead th {\n",
       "        text-align: right;\n",
       "    }\n",
       "</style>\n",
       "<table border=\"1\" class=\"dataframe\">\n",
       "  <thead>\n",
       "    <tr style=\"text-align: right;\">\n",
       "      <th></th>\n",
       "      <th>team1</th>\n",
       "      <th>team2</th>\n",
       "      <th>score1</th>\n",
       "      <th>score2</th>\n",
       "      <th>xg1</th>\n",
       "      <th>xg2</th>\n",
       "      <th>FTR</th>\n",
       "    </tr>\n",
       "    <tr>\n",
       "      <th>date</th>\n",
       "      <th></th>\n",
       "      <th></th>\n",
       "      <th></th>\n",
       "      <th></th>\n",
       "      <th></th>\n",
       "      <th></th>\n",
       "      <th></th>\n",
       "    </tr>\n",
       "  </thead>\n",
       "  <tbody>\n",
       "    <tr>\n",
       "      <th>2016-08-13</th>\n",
       "      <td>Burnley</td>\n",
       "      <td>Swansea City</td>\n",
       "      <td>0.0</td>\n",
       "      <td>1.0</td>\n",
       "      <td>1.24</td>\n",
       "      <td>1.84</td>\n",
       "      <td>A</td>\n",
       "    </tr>\n",
       "    <tr>\n",
       "      <th>2016-08-13</th>\n",
       "      <td>Crystal Palace</td>\n",
       "      <td>WestBrom</td>\n",
       "      <td>0.0</td>\n",
       "      <td>1.0</td>\n",
       "      <td>1.11</td>\n",
       "      <td>0.68</td>\n",
       "      <td>A</td>\n",
       "    </tr>\n",
       "    <tr>\n",
       "      <th>2016-08-13</th>\n",
       "      <td>Everton</td>\n",
       "      <td>Tottenham Hotspur</td>\n",
       "      <td>1.0</td>\n",
       "      <td>1.0</td>\n",
       "      <td>0.73</td>\n",
       "      <td>1.11</td>\n",
       "      <td>D</td>\n",
       "    </tr>\n",
       "    <tr>\n",
       "      <th>2016-08-13</th>\n",
       "      <td>HullCity</td>\n",
       "      <td>Leicester City</td>\n",
       "      <td>2.0</td>\n",
       "      <td>1.0</td>\n",
       "      <td>0.85</td>\n",
       "      <td>2.77</td>\n",
       "      <td>H</td>\n",
       "    </tr>\n",
       "    <tr>\n",
       "      <th>2016-08-13</th>\n",
       "      <td>ManCity</td>\n",
       "      <td>Sunderland</td>\n",
       "      <td>2.0</td>\n",
       "      <td>1.0</td>\n",
       "      <td>2.14</td>\n",
       "      <td>1.25</td>\n",
       "      <td>H</td>\n",
       "    </tr>\n",
       "  </tbody>\n",
       "</table>\n",
       "</div>"
      ],
      "text/plain": [
       "                     team1              team2  score1  score2   xg1   xg2 FTR\n",
       "date                                                                         \n",
       "2016-08-13         Burnley       Swansea City     0.0     1.0  1.24  1.84   A\n",
       "2016-08-13  Crystal Palace           WestBrom     0.0     1.0  1.11  0.68   A\n",
       "2016-08-13         Everton  Tottenham Hotspur     1.0     1.0  0.73  1.11   D\n",
       "2016-08-13        HullCity     Leicester City     2.0     1.0  0.85  2.77   H\n",
       "2016-08-13         ManCity         Sunderland     2.0     1.0  2.14  1.25   H"
      ]
     },
     "execution_count": 66,
     "metadata": {},
     "output_type": "execute_result"
    }
   ],
   "source": [
    "df4.head()"
   ]
  },
  {
   "cell_type": "code",
   "execution_count": 67,
   "metadata": {
    "ExecuteTime": {
     "end_time": "2019-09-24T19:23:38.602757Z",
     "start_time": "2019-09-24T19:23:38.597431Z"
    }
   },
   "outputs": [],
   "source": [
    "# Creating my target variables, changing from H for Home Win to a 0 for Home Win\n",
    "\n",
    "df4['FTR'] = [0 if i=='H' else 1 if i=='A' else 2 for i in df4['FTR']]"
   ]
  },
  {
   "cell_type": "code",
   "execution_count": 68,
   "metadata": {
    "ExecuteTime": {
     "end_time": "2019-09-24T19:23:41.600922Z",
     "start_time": "2019-09-24T19:23:41.587836Z"
    }
   },
   "outputs": [
    {
     "data": {
      "text/html": [
       "<div>\n",
       "<style scoped>\n",
       "    .dataframe tbody tr th:only-of-type {\n",
       "        vertical-align: middle;\n",
       "    }\n",
       "\n",
       "    .dataframe tbody tr th {\n",
       "        vertical-align: top;\n",
       "    }\n",
       "\n",
       "    .dataframe thead th {\n",
       "        text-align: right;\n",
       "    }\n",
       "</style>\n",
       "<table border=\"1\" class=\"dataframe\">\n",
       "  <thead>\n",
       "    <tr style=\"text-align: right;\">\n",
       "      <th></th>\n",
       "      <th>team1</th>\n",
       "      <th>team2</th>\n",
       "      <th>score1</th>\n",
       "      <th>score2</th>\n",
       "      <th>xg1</th>\n",
       "      <th>xg2</th>\n",
       "      <th>FTR</th>\n",
       "    </tr>\n",
       "    <tr>\n",
       "      <th>date</th>\n",
       "      <th></th>\n",
       "      <th></th>\n",
       "      <th></th>\n",
       "      <th></th>\n",
       "      <th></th>\n",
       "      <th></th>\n",
       "      <th></th>\n",
       "    </tr>\n",
       "  </thead>\n",
       "  <tbody>\n",
       "    <tr>\n",
       "      <th>2016-08-13</th>\n",
       "      <td>Burnley</td>\n",
       "      <td>Swansea City</td>\n",
       "      <td>0.0</td>\n",
       "      <td>1.0</td>\n",
       "      <td>1.24</td>\n",
       "      <td>1.84</td>\n",
       "      <td>1</td>\n",
       "    </tr>\n",
       "    <tr>\n",
       "      <th>2016-08-13</th>\n",
       "      <td>Crystal Palace</td>\n",
       "      <td>WestBrom</td>\n",
       "      <td>0.0</td>\n",
       "      <td>1.0</td>\n",
       "      <td>1.11</td>\n",
       "      <td>0.68</td>\n",
       "      <td>1</td>\n",
       "    </tr>\n",
       "    <tr>\n",
       "      <th>2016-08-13</th>\n",
       "      <td>Everton</td>\n",
       "      <td>Tottenham Hotspur</td>\n",
       "      <td>1.0</td>\n",
       "      <td>1.0</td>\n",
       "      <td>0.73</td>\n",
       "      <td>1.11</td>\n",
       "      <td>2</td>\n",
       "    </tr>\n",
       "    <tr>\n",
       "      <th>2016-08-13</th>\n",
       "      <td>HullCity</td>\n",
       "      <td>Leicester City</td>\n",
       "      <td>2.0</td>\n",
       "      <td>1.0</td>\n",
       "      <td>0.85</td>\n",
       "      <td>2.77</td>\n",
       "      <td>0</td>\n",
       "    </tr>\n",
       "    <tr>\n",
       "      <th>2016-08-13</th>\n",
       "      <td>ManCity</td>\n",
       "      <td>Sunderland</td>\n",
       "      <td>2.0</td>\n",
       "      <td>1.0</td>\n",
       "      <td>2.14</td>\n",
       "      <td>1.25</td>\n",
       "      <td>0</td>\n",
       "    </tr>\n",
       "  </tbody>\n",
       "</table>\n",
       "</div>"
      ],
      "text/plain": [
       "                     team1              team2  score1  score2   xg1   xg2  FTR\n",
       "date                                                                          \n",
       "2016-08-13         Burnley       Swansea City     0.0     1.0  1.24  1.84    1\n",
       "2016-08-13  Crystal Palace           WestBrom     0.0     1.0  1.11  0.68    1\n",
       "2016-08-13         Everton  Tottenham Hotspur     1.0     1.0  0.73  1.11    2\n",
       "2016-08-13        HullCity     Leicester City     2.0     1.0  0.85  2.77    0\n",
       "2016-08-13         ManCity         Sunderland     2.0     1.0  2.14  1.25    0"
      ]
     },
     "execution_count": 68,
     "metadata": {},
     "output_type": "execute_result"
    }
   ],
   "source": [
    "df4.head()"
   ]
  },
  {
   "cell_type": "markdown",
   "metadata": {},
   "source": [
    "Below I am combining columns from the viewpoint of the home team. The columns relate to Half Time Home Goals and Half Time Away Goals and Home Shots on Target and Away Shots on Target. By subtracting the Away value from the Home value I am reducing the number of input variables. Also, I get a chance to rename the columns"
   ]
  },
  {
   "cell_type": "code",
   "execution_count": 69,
   "metadata": {
    "ExecuteTime": {
     "end_time": "2019-09-24T19:23:47.909636Z",
     "start_time": "2019-09-24T19:23:47.907131Z"
    }
   },
   "outputs": [],
   "source": [
    "# First Season"
   ]
  },
  {
   "cell_type": "code",
   "execution_count": 70,
   "metadata": {
    "ExecuteTime": {
     "end_time": "2019-09-24T19:23:48.109182Z",
     "start_time": "2019-09-24T19:23:48.099701Z"
    }
   },
   "outputs": [
    {
     "data": {
      "text/plain": [
       "(380, 7)"
      ]
     },
     "execution_count": 70,
     "metadata": {},
     "output_type": "execute_result"
    }
   ],
   "source": [
    "df4[(df4.index <= '2017-06') & (df4.index >= '2016-08')].shape # First Whole Season"
   ]
  },
  {
   "cell_type": "code",
   "execution_count": 71,
   "metadata": {
    "ExecuteTime": {
     "end_time": "2019-09-24T19:23:49.580067Z",
     "start_time": "2019-09-24T19:23:49.519038Z"
    }
   },
   "outputs": [
    {
     "name": "stderr",
     "output_type": "stream",
     "text": [
      "/anaconda3/lib/python3.7/site-packages/ipykernel_launcher.py:2: SettingWithCopyWarning: \n",
      "A value is trying to be set on a copy of a slice from a DataFrame.\n",
      "Try using .loc[row_indexer,col_indexer] = value instead\n",
      "\n",
      "See the caveats in the documentation: http://pandas.pydata.org/pandas-docs/stable/indexing.html#indexing-view-versus-copy\n",
      "  \n"
     ]
    }
   ],
   "source": [
    "df11 = df4[(df4.index < '2016-12') & (df4.index >= '2016-08')]  #First third of First Season\n",
    "df11['season_period'] = [0 for i in df11.index]"
   ]
  },
  {
   "cell_type": "code",
   "execution_count": 72,
   "metadata": {
    "ExecuteTime": {
     "end_time": "2019-09-24T19:23:49.812219Z",
     "start_time": "2019-09-24T19:23:49.773433Z"
    }
   },
   "outputs": [
    {
     "name": "stderr",
     "output_type": "stream",
     "text": [
      "/anaconda3/lib/python3.7/site-packages/ipykernel_launcher.py:2: SettingWithCopyWarning: \n",
      "A value is trying to be set on a copy of a slice from a DataFrame.\n",
      "Try using .loc[row_indexer,col_indexer] = value instead\n",
      "\n",
      "See the caveats in the documentation: http://pandas.pydata.org/pandas-docs/stable/indexing.html#indexing-view-versus-copy\n",
      "  \n"
     ]
    }
   ],
   "source": [
    "df21 = df4[(df4.index < '2017-04') & (df4.index >= '2016-12')] # Second third of First Season\n",
    "df21['season_period'] = [1 for i in df21.index]"
   ]
  },
  {
   "cell_type": "code",
   "execution_count": 73,
   "metadata": {
    "ExecuteTime": {
     "end_time": "2019-09-24T19:23:49.933931Z",
     "start_time": "2019-09-24T19:23:49.898367Z"
    }
   },
   "outputs": [
    {
     "name": "stderr",
     "output_type": "stream",
     "text": [
      "/anaconda3/lib/python3.7/site-packages/ipykernel_launcher.py:2: SettingWithCopyWarning: \n",
      "A value is trying to be set on a copy of a slice from a DataFrame.\n",
      "Try using .loc[row_indexer,col_indexer] = value instead\n",
      "\n",
      "See the caveats in the documentation: http://pandas.pydata.org/pandas-docs/stable/indexing.html#indexing-view-versus-copy\n",
      "  \n"
     ]
    }
   ],
   "source": [
    "df31 = df4[(df4.index < '2017-07') & (df4.index >= '2017-04')] # Final third of First Season\n",
    "df31['season_period'] = [2 for i in df31.index]"
   ]
  },
  {
   "cell_type": "code",
   "execution_count": 74,
   "metadata": {
    "ExecuteTime": {
     "end_time": "2019-09-24T19:23:50.127668Z",
     "start_time": "2019-09-24T19:23:50.122786Z"
    }
   },
   "outputs": [],
   "source": [
    "# Second Season"
   ]
  },
  {
   "cell_type": "code",
   "execution_count": 75,
   "metadata": {
    "ExecuteTime": {
     "end_time": "2019-09-24T19:23:50.438458Z",
     "start_time": "2019-09-24T19:23:50.427308Z"
    }
   },
   "outputs": [
    {
     "data": {
      "text/plain": [
       "(380, 7)"
      ]
     },
     "execution_count": 75,
     "metadata": {},
     "output_type": "execute_result"
    }
   ],
   "source": [
    "df4[(df4.index <= '2018-06') & (df4.index >= '2017-08')].shape # Second Whole Season"
   ]
  },
  {
   "cell_type": "code",
   "execution_count": 76,
   "metadata": {
    "ExecuteTime": {
     "end_time": "2019-09-24T19:23:50.745510Z",
     "start_time": "2019-09-24T19:23:50.715964Z"
    }
   },
   "outputs": [
    {
     "name": "stderr",
     "output_type": "stream",
     "text": [
      "/anaconda3/lib/python3.7/site-packages/ipykernel_launcher.py:2: SettingWithCopyWarning: \n",
      "A value is trying to be set on a copy of a slice from a DataFrame.\n",
      "Try using .loc[row_indexer,col_indexer] = value instead\n",
      "\n",
      "See the caveats in the documentation: http://pandas.pydata.org/pandas-docs/stable/indexing.html#indexing-view-versus-copy\n",
      "  \n"
     ]
    }
   ],
   "source": [
    "df12 = df4[(df4.index < '2017-12') & (df4.index >= '2017-08')]  #First third of Second Season\n",
    "df12['season_period'] = [0 for i in df12.index]"
   ]
  },
  {
   "cell_type": "code",
   "execution_count": 77,
   "metadata": {
    "ExecuteTime": {
     "end_time": "2019-09-24T19:23:50.963079Z",
     "start_time": "2019-09-24T19:23:50.919407Z"
    }
   },
   "outputs": [
    {
     "name": "stderr",
     "output_type": "stream",
     "text": [
      "/anaconda3/lib/python3.7/site-packages/ipykernel_launcher.py:2: SettingWithCopyWarning: \n",
      "A value is trying to be set on a copy of a slice from a DataFrame.\n",
      "Try using .loc[row_indexer,col_indexer] = value instead\n",
      "\n",
      "See the caveats in the documentation: http://pandas.pydata.org/pandas-docs/stable/indexing.html#indexing-view-versus-copy\n",
      "  \n"
     ]
    }
   ],
   "source": [
    "df22 = df4[(df4.index < '2018-04') & (df4.index >= '2017-12')] # Second third of Second Season\n",
    "df22['season_period'] = [1 for i in df22.index]"
   ]
  },
  {
   "cell_type": "code",
   "execution_count": 78,
   "metadata": {
    "ExecuteTime": {
     "end_time": "2019-09-24T19:23:51.103075Z",
     "start_time": "2019-09-24T19:23:51.065867Z"
    }
   },
   "outputs": [
    {
     "name": "stderr",
     "output_type": "stream",
     "text": [
      "/anaconda3/lib/python3.7/site-packages/ipykernel_launcher.py:2: SettingWithCopyWarning: \n",
      "A value is trying to be set on a copy of a slice from a DataFrame.\n",
      "Try using .loc[row_indexer,col_indexer] = value instead\n",
      "\n",
      "See the caveats in the documentation: http://pandas.pydata.org/pandas-docs/stable/indexing.html#indexing-view-versus-copy\n",
      "  \n"
     ]
    }
   ],
   "source": [
    "df32 = df4[(df4.index < '2018-07') & (df4.index >= '2018-04')] # Final third of Second Season\n",
    "df32['season_period'] = [2 for i in df32.index]"
   ]
  },
  {
   "cell_type": "code",
   "execution_count": 79,
   "metadata": {
    "ExecuteTime": {
     "end_time": "2019-09-24T19:23:51.234507Z",
     "start_time": "2019-09-24T19:23:51.230480Z"
    }
   },
   "outputs": [],
   "source": [
    "# Third Season"
   ]
  },
  {
   "cell_type": "code",
   "execution_count": 80,
   "metadata": {
    "ExecuteTime": {
     "end_time": "2019-09-24T19:23:52.598722Z",
     "start_time": "2019-09-24T19:23:52.591300Z"
    }
   },
   "outputs": [
    {
     "data": {
      "text/plain": [
       "(380, 7)"
      ]
     },
     "execution_count": 80,
     "metadata": {},
     "output_type": "execute_result"
    }
   ],
   "source": [
    "df4[(df4.index <= '2019-06') & (df4.index >= '2018-08')].shape# Third Whole Season"
   ]
  },
  {
   "cell_type": "code",
   "execution_count": 81,
   "metadata": {
    "ExecuteTime": {
     "end_time": "2019-09-24T19:23:52.860358Z",
     "start_time": "2019-09-24T19:23:52.815803Z"
    }
   },
   "outputs": [
    {
     "name": "stderr",
     "output_type": "stream",
     "text": [
      "/anaconda3/lib/python3.7/site-packages/ipykernel_launcher.py:2: SettingWithCopyWarning: \n",
      "A value is trying to be set on a copy of a slice from a DataFrame.\n",
      "Try using .loc[row_indexer,col_indexer] = value instead\n",
      "\n",
      "See the caveats in the documentation: http://pandas.pydata.org/pandas-docs/stable/indexing.html#indexing-view-versus-copy\n",
      "  \n"
     ]
    }
   ],
   "source": [
    "df13 = df4[(df4.index < '2018-12') & (df4.index >= '2018-08')]  #First third of Third Season\n",
    "df13['season_period'] = [0 for i in df13.index]"
   ]
  },
  {
   "cell_type": "code",
   "execution_count": 82,
   "metadata": {
    "ExecuteTime": {
     "end_time": "2019-09-24T19:23:52.930398Z",
     "start_time": "2019-09-24T19:23:52.900612Z"
    }
   },
   "outputs": [
    {
     "name": "stderr",
     "output_type": "stream",
     "text": [
      "/anaconda3/lib/python3.7/site-packages/ipykernel_launcher.py:2: SettingWithCopyWarning: \n",
      "A value is trying to be set on a copy of a slice from a DataFrame.\n",
      "Try using .loc[row_indexer,col_indexer] = value instead\n",
      "\n",
      "See the caveats in the documentation: http://pandas.pydata.org/pandas-docs/stable/indexing.html#indexing-view-versus-copy\n",
      "  \n"
     ]
    }
   ],
   "source": [
    "df23 = df4[(df4.index < '2019-04') & (df4.index >= '2018-12')] # Second third of Third Season\n",
    "df23['season_period'] = [1 for i in df23.index]"
   ]
  },
  {
   "cell_type": "code",
   "execution_count": 83,
   "metadata": {
    "ExecuteTime": {
     "end_time": "2019-09-24T19:23:53.159024Z",
     "start_time": "2019-09-24T19:23:53.109821Z"
    }
   },
   "outputs": [
    {
     "name": "stderr",
     "output_type": "stream",
     "text": [
      "/anaconda3/lib/python3.7/site-packages/ipykernel_launcher.py:2: SettingWithCopyWarning: \n",
      "A value is trying to be set on a copy of a slice from a DataFrame.\n",
      "Try using .loc[row_indexer,col_indexer] = value instead\n",
      "\n",
      "See the caveats in the documentation: http://pandas.pydata.org/pandas-docs/stable/indexing.html#indexing-view-versus-copy\n",
      "  \n"
     ]
    }
   ],
   "source": [
    "df33 = df4[(df4.index < '2019-07') & (df4.index >= '2019-04')] # Final third of Third Season\n",
    "df33['season_period'] = [2 for i in df33.index]"
   ]
  },
  {
   "cell_type": "code",
   "execution_count": 84,
   "metadata": {
    "ExecuteTime": {
     "end_time": "2019-09-24T19:23:53.238633Z",
     "start_time": "2019-09-24T19:23:53.231799Z"
    }
   },
   "outputs": [
    {
     "data": {
      "text/plain": [
       "(1140, 7)"
      ]
     },
     "execution_count": 84,
     "metadata": {},
     "output_type": "execute_result"
    }
   ],
   "source": [
    "df4.shape"
   ]
  },
  {
   "cell_type": "code",
   "execution_count": 85,
   "metadata": {
    "ExecuteTime": {
     "end_time": "2019-09-24T19:23:53.410292Z",
     "start_time": "2019-09-24T19:23:53.406922Z"
    }
   },
   "outputs": [],
   "source": [
    "frames = [df11, df21, df31, df12, df22, df32, df13, df23, df33]\n"
   ]
  },
  {
   "cell_type": "code",
   "execution_count": 86,
   "metadata": {
    "ExecuteTime": {
     "end_time": "2019-09-24T19:23:53.566083Z",
     "start_time": "2019-09-24T19:23:53.553955Z"
    }
   },
   "outputs": [],
   "source": [
    "df5 = pd.concat(frames)"
   ]
  },
  {
   "cell_type": "code",
   "execution_count": 87,
   "metadata": {
    "ExecuteTime": {
     "end_time": "2019-09-24T19:23:59.098668Z",
     "start_time": "2019-09-24T19:23:59.092743Z"
    }
   },
   "outputs": [
    {
     "data": {
      "text/plain": [
       "(1140, 8)"
      ]
     },
     "execution_count": 87,
     "metadata": {},
     "output_type": "execute_result"
    }
   ],
   "source": [
    "df5.shape"
   ]
  },
  {
   "cell_type": "code",
   "execution_count": 88,
   "metadata": {
    "ExecuteTime": {
     "end_time": "2019-09-24T19:24:00.391939Z",
     "start_time": "2019-09-24T19:24:00.385958Z"
    }
   },
   "outputs": [],
   "source": [
    "df5 = df5.sort_values(by = ['date', 'team1'], ascending = True)"
   ]
  },
  {
   "cell_type": "code",
   "execution_count": 89,
   "metadata": {
    "ExecuteTime": {
     "end_time": "2019-09-24T19:24:01.736165Z",
     "start_time": "2019-09-24T19:24:01.726811Z"
    }
   },
   "outputs": [],
   "source": [
    "# Run the below to generate a key for all the home teams to merge with Home Elo's\n",
    "\n",
    "df5['key'] = [str(i)+n[:5] for i,n in zip(df5.index, df5['team1'])]"
   ]
  },
  {
   "cell_type": "code",
   "execution_count": 4,
   "metadata": {
    "ExecuteTime": {
     "end_time": "2019-09-29T13:29:07.105703Z",
     "start_time": "2019-09-29T13:29:07.077502Z"
    }
   },
   "outputs": [],
   "source": [
    "all_elo = pd.read_csv('../csv/all_elo.csv')"
   ]
  },
  {
   "cell_type": "code",
   "execution_count": 92,
   "metadata": {
    "ExecuteTime": {
     "end_time": "2019-09-24T19:28:21.088298Z",
     "start_time": "2019-09-24T19:28:21.074206Z"
    }
   },
   "outputs": [],
   "source": [
    "df5 = pd.merge(left=df5, right=all_elo, left_on='key', right_on='key', how='left')"
   ]
  },
  {
   "cell_type": "code",
   "execution_count": 93,
   "metadata": {
    "ExecuteTime": {
     "end_time": "2019-09-24T19:28:22.523362Z",
     "start_time": "2019-09-24T19:28:22.518145Z"
    }
   },
   "outputs": [
    {
     "data": {
      "text/plain": [
       "(1140, 12)"
      ]
     },
     "execution_count": 93,
     "metadata": {},
     "output_type": "execute_result"
    }
   ],
   "source": [
    "df5.shape"
   ]
  },
  {
   "cell_type": "code",
   "execution_count": 94,
   "metadata": {
    "ExecuteTime": {
     "end_time": "2019-09-24T19:28:22.958918Z",
     "start_time": "2019-09-24T19:28:22.951727Z"
    }
   },
   "outputs": [],
   "source": [
    "df5['home_elo'] = [i for i in df5['Elo']]"
   ]
  },
  {
   "cell_type": "code",
   "execution_count": 95,
   "metadata": {
    "ExecuteTime": {
     "end_time": "2019-09-24T19:28:24.646168Z",
     "start_time": "2019-09-24T19:28:24.633322Z"
    }
   },
   "outputs": [],
   "source": [
    "df5.drop(columns=['key', 'Club', 'Elo'], inplace=True)"
   ]
  },
  {
   "cell_type": "code",
   "execution_count": 96,
   "metadata": {
    "ExecuteTime": {
     "end_time": "2019-09-24T19:28:25.578006Z",
     "start_time": "2019-09-24T19:28:25.570760Z"
    }
   },
   "outputs": [
    {
     "data": {
      "text/plain": [
       "Index(['team1', 'team2', 'score1', 'score2', 'xg1', 'xg2', 'FTR',\n",
       "       'season_period', 'Date', 'home_elo'],\n",
       "      dtype='object')"
      ]
     },
     "execution_count": 96,
     "metadata": {},
     "output_type": "execute_result"
    }
   ],
   "source": [
    "df5.columns"
   ]
  },
  {
   "cell_type": "code",
   "execution_count": 97,
   "metadata": {
    "ExecuteTime": {
     "end_time": "2019-09-24T19:28:26.311804Z",
     "start_time": "2019-09-24T19:28:26.306180Z"
    }
   },
   "outputs": [],
   "source": [
    "# Lost index during merge, need to recreate it\n",
    "df5['date'] = [i for i in df4.index]"
   ]
  },
  {
   "cell_type": "code",
   "execution_count": 98,
   "metadata": {
    "ExecuteTime": {
     "end_time": "2019-09-24T19:28:26.894142Z",
     "start_time": "2019-09-24T19:28:26.872749Z"
    }
   },
   "outputs": [
    {
     "data": {
      "text/html": [
       "<div>\n",
       "<style scoped>\n",
       "    .dataframe tbody tr th:only-of-type {\n",
       "        vertical-align: middle;\n",
       "    }\n",
       "\n",
       "    .dataframe tbody tr th {\n",
       "        vertical-align: top;\n",
       "    }\n",
       "\n",
       "    .dataframe thead th {\n",
       "        text-align: right;\n",
       "    }\n",
       "</style>\n",
       "<table border=\"1\" class=\"dataframe\">\n",
       "  <thead>\n",
       "    <tr style=\"text-align: right;\">\n",
       "      <th></th>\n",
       "      <th>team1</th>\n",
       "      <th>team2</th>\n",
       "      <th>score1</th>\n",
       "      <th>score2</th>\n",
       "      <th>xg1</th>\n",
       "      <th>xg2</th>\n",
       "      <th>FTR</th>\n",
       "      <th>season_period</th>\n",
       "      <th>Date</th>\n",
       "      <th>home_elo</th>\n",
       "      <th>date</th>\n",
       "    </tr>\n",
       "  </thead>\n",
       "  <tbody>\n",
       "    <tr>\n",
       "      <th>0</th>\n",
       "      <td>Burnley</td>\n",
       "      <td>Swansea City</td>\n",
       "      <td>0.0</td>\n",
       "      <td>1.0</td>\n",
       "      <td>1.24</td>\n",
       "      <td>1.84</td>\n",
       "      <td>1</td>\n",
       "      <td>0</td>\n",
       "      <td>2016-08-13</td>\n",
       "      <td>1636.985718</td>\n",
       "      <td>2016-08-13</td>\n",
       "    </tr>\n",
       "    <tr>\n",
       "      <th>1</th>\n",
       "      <td>Crystal Palace</td>\n",
       "      <td>WestBrom</td>\n",
       "      <td>0.0</td>\n",
       "      <td>1.0</td>\n",
       "      <td>1.11</td>\n",
       "      <td>0.68</td>\n",
       "      <td>1</td>\n",
       "      <td>0</td>\n",
       "      <td>2016-08-13</td>\n",
       "      <td>1633.740601</td>\n",
       "      <td>2016-08-13</td>\n",
       "    </tr>\n",
       "    <tr>\n",
       "      <th>2</th>\n",
       "      <td>Everton</td>\n",
       "      <td>Tottenham Hotspur</td>\n",
       "      <td>1.0</td>\n",
       "      <td>1.0</td>\n",
       "      <td>0.73</td>\n",
       "      <td>1.11</td>\n",
       "      <td>2</td>\n",
       "      <td>0</td>\n",
       "      <td>2016-08-13</td>\n",
       "      <td>1695.128418</td>\n",
       "      <td>2016-08-13</td>\n",
       "    </tr>\n",
       "    <tr>\n",
       "      <th>3</th>\n",
       "      <td>HullCity</td>\n",
       "      <td>Leicester City</td>\n",
       "      <td>2.0</td>\n",
       "      <td>1.0</td>\n",
       "      <td>0.85</td>\n",
       "      <td>2.77</td>\n",
       "      <td>0</td>\n",
       "      <td>0</td>\n",
       "      <td>2016-08-13</td>\n",
       "      <td>1589.138184</td>\n",
       "      <td>2016-08-13</td>\n",
       "    </tr>\n",
       "    <tr>\n",
       "      <th>4</th>\n",
       "      <td>ManCity</td>\n",
       "      <td>Sunderland</td>\n",
       "      <td>2.0</td>\n",
       "      <td>1.0</td>\n",
       "      <td>2.14</td>\n",
       "      <td>1.25</td>\n",
       "      <td>0</td>\n",
       "      <td>0</td>\n",
       "      <td>2016-08-13</td>\n",
       "      <td>1848.615112</td>\n",
       "      <td>2016-08-13</td>\n",
       "    </tr>\n",
       "    <tr>\n",
       "      <th>5</th>\n",
       "      <td>Middlesbrough</td>\n",
       "      <td>Stoke City</td>\n",
       "      <td>1.0</td>\n",
       "      <td>1.0</td>\n",
       "      <td>1.40</td>\n",
       "      <td>0.55</td>\n",
       "      <td>2</td>\n",
       "      <td>0</td>\n",
       "      <td>2016-08-13</td>\n",
       "      <td>1594.981812</td>\n",
       "      <td>2016-08-13</td>\n",
       "    </tr>\n",
       "    <tr>\n",
       "      <th>6</th>\n",
       "      <td>Southampton</td>\n",
       "      <td>Watford</td>\n",
       "      <td>1.0</td>\n",
       "      <td>1.0</td>\n",
       "      <td>1.05</td>\n",
       "      <td>0.22</td>\n",
       "      <td>2</td>\n",
       "      <td>0</td>\n",
       "      <td>2016-08-13</td>\n",
       "      <td>1778.468750</td>\n",
       "      <td>2016-08-13</td>\n",
       "    </tr>\n",
       "    <tr>\n",
       "      <th>7</th>\n",
       "      <td>Arsenal</td>\n",
       "      <td>Liverpool</td>\n",
       "      <td>3.0</td>\n",
       "      <td>4.0</td>\n",
       "      <td>1.14</td>\n",
       "      <td>1.84</td>\n",
       "      <td>1</td>\n",
       "      <td>0</td>\n",
       "      <td>2016-08-14</td>\n",
       "      <td>1840.049438</td>\n",
       "      <td>2016-08-14</td>\n",
       "    </tr>\n",
       "    <tr>\n",
       "      <th>8</th>\n",
       "      <td>Bournemouth</td>\n",
       "      <td>ManUtd</td>\n",
       "      <td>1.0</td>\n",
       "      <td>3.0</td>\n",
       "      <td>0.51</td>\n",
       "      <td>2.21</td>\n",
       "      <td>1</td>\n",
       "      <td>0</td>\n",
       "      <td>2016-08-14</td>\n",
       "      <td>1619.907837</td>\n",
       "      <td>2016-08-14</td>\n",
       "    </tr>\n",
       "    <tr>\n",
       "      <th>9</th>\n",
       "      <td>Chelsea</td>\n",
       "      <td>WestHam</td>\n",
       "      <td>2.0</td>\n",
       "      <td>1.0</td>\n",
       "      <td>1.55</td>\n",
       "      <td>0.55</td>\n",
       "      <td>0</td>\n",
       "      <td>0</td>\n",
       "      <td>2016-08-15</td>\n",
       "      <td>1793.423950</td>\n",
       "      <td>2016-08-15</td>\n",
       "    </tr>\n",
       "  </tbody>\n",
       "</table>\n",
       "</div>"
      ],
      "text/plain": [
       "            team1              team2  score1  score2   xg1   xg2  FTR  \\\n",
       "0         Burnley       Swansea City     0.0     1.0  1.24  1.84    1   \n",
       "1  Crystal Palace           WestBrom     0.0     1.0  1.11  0.68    1   \n",
       "2         Everton  Tottenham Hotspur     1.0     1.0  0.73  1.11    2   \n",
       "3        HullCity     Leicester City     2.0     1.0  0.85  2.77    0   \n",
       "4         ManCity         Sunderland     2.0     1.0  2.14  1.25    0   \n",
       "5   Middlesbrough         Stoke City     1.0     1.0  1.40  0.55    2   \n",
       "6     Southampton            Watford     1.0     1.0  1.05  0.22    2   \n",
       "7         Arsenal          Liverpool     3.0     4.0  1.14  1.84    1   \n",
       "8     Bournemouth             ManUtd     1.0     3.0  0.51  2.21    1   \n",
       "9         Chelsea            WestHam     2.0     1.0  1.55  0.55    0   \n",
       "\n",
       "   season_period        Date     home_elo       date  \n",
       "0              0  2016-08-13  1636.985718 2016-08-13  \n",
       "1              0  2016-08-13  1633.740601 2016-08-13  \n",
       "2              0  2016-08-13  1695.128418 2016-08-13  \n",
       "3              0  2016-08-13  1589.138184 2016-08-13  \n",
       "4              0  2016-08-13  1848.615112 2016-08-13  \n",
       "5              0  2016-08-13  1594.981812 2016-08-13  \n",
       "6              0  2016-08-13  1778.468750 2016-08-13  \n",
       "7              0  2016-08-14  1840.049438 2016-08-14  \n",
       "8              0  2016-08-14  1619.907837 2016-08-14  \n",
       "9              0  2016-08-15  1793.423950 2016-08-15  "
      ]
     },
     "execution_count": 98,
     "metadata": {},
     "output_type": "execute_result"
    }
   ],
   "source": [
    "df5.head(10)"
   ]
  },
  {
   "cell_type": "code",
   "execution_count": 99,
   "metadata": {
    "ExecuteTime": {
     "end_time": "2019-09-24T19:28:27.336695Z",
     "start_time": "2019-09-24T19:28:27.322010Z"
    }
   },
   "outputs": [],
   "source": [
    "df5.set_index('date', inplace=True)"
   ]
  },
  {
   "cell_type": "code",
   "execution_count": 100,
   "metadata": {
    "ExecuteTime": {
     "end_time": "2019-09-24T19:28:28.798089Z",
     "start_time": "2019-09-24T19:28:28.790134Z"
    }
   },
   "outputs": [],
   "source": [
    "# change key so that I can add away elo, too\n",
    "\n",
    "df5['key'] = [str(i)+n[:5] for i,n in zip(df5.index, df5['team2'])]"
   ]
  },
  {
   "cell_type": "code",
   "execution_count": 101,
   "metadata": {
    "ExecuteTime": {
     "end_time": "2019-09-24T19:28:29.488156Z",
     "start_time": "2019-09-24T19:28:29.477264Z"
    }
   },
   "outputs": [],
   "source": [
    "df5 = pd.merge(left=df5, right=all_elo, left_on='key', right_on='key', how='left')"
   ]
  },
  {
   "cell_type": "code",
   "execution_count": 102,
   "metadata": {
    "ExecuteTime": {
     "end_time": "2019-09-24T19:28:30.069648Z",
     "start_time": "2019-09-24T19:28:30.059579Z"
    }
   },
   "outputs": [
    {
     "data": {
      "text/plain": [
       "(1140, 14)"
      ]
     },
     "execution_count": 102,
     "metadata": {},
     "output_type": "execute_result"
    }
   ],
   "source": [
    "df5.shape"
   ]
  },
  {
   "cell_type": "code",
   "execution_count": 103,
   "metadata": {
    "ExecuteTime": {
     "end_time": "2019-09-24T19:28:30.571328Z",
     "start_time": "2019-09-24T19:28:30.560381Z"
    }
   },
   "outputs": [],
   "source": [
    "df5['away_elo'] = [i for i in df5['Elo']]"
   ]
  },
  {
   "cell_type": "code",
   "execution_count": 104,
   "metadata": {
    "ExecuteTime": {
     "end_time": "2019-09-24T19:28:31.836720Z",
     "start_time": "2019-09-24T19:28:31.830903Z"
    }
   },
   "outputs": [],
   "source": [
    "df5.drop(columns=['key', 'Club', 'Elo'], inplace=True)"
   ]
  },
  {
   "cell_type": "code",
   "execution_count": 105,
   "metadata": {
    "ExecuteTime": {
     "end_time": "2019-09-24T19:28:32.238350Z",
     "start_time": "2019-09-24T19:28:32.221753Z"
    }
   },
   "outputs": [
    {
     "data": {
      "text/html": [
       "<div>\n",
       "<style scoped>\n",
       "    .dataframe tbody tr th:only-of-type {\n",
       "        vertical-align: middle;\n",
       "    }\n",
       "\n",
       "    .dataframe tbody tr th {\n",
       "        vertical-align: top;\n",
       "    }\n",
       "\n",
       "    .dataframe thead th {\n",
       "        text-align: right;\n",
       "    }\n",
       "</style>\n",
       "<table border=\"1\" class=\"dataframe\">\n",
       "  <thead>\n",
       "    <tr style=\"text-align: right;\">\n",
       "      <th></th>\n",
       "      <th>team1</th>\n",
       "      <th>team2</th>\n",
       "      <th>score1</th>\n",
       "      <th>score2</th>\n",
       "      <th>xg1</th>\n",
       "      <th>xg2</th>\n",
       "      <th>FTR</th>\n",
       "      <th>season_period</th>\n",
       "      <th>Date_x</th>\n",
       "      <th>home_elo</th>\n",
       "      <th>Date_y</th>\n",
       "      <th>away_elo</th>\n",
       "    </tr>\n",
       "  </thead>\n",
       "  <tbody>\n",
       "    <tr>\n",
       "      <th>1130</th>\n",
       "      <td>Brighton and Hove Albion</td>\n",
       "      <td>ManCity</td>\n",
       "      <td>1.0</td>\n",
       "      <td>4.0</td>\n",
       "      <td>0.67</td>\n",
       "      <td>2.11</td>\n",
       "      <td>1</td>\n",
       "      <td>2</td>\n",
       "      <td>2019-05-12</td>\n",
       "      <td>1618.852417</td>\n",
       "      <td>2019-05-12</td>\n",
       "      <td>2034.380859</td>\n",
       "    </tr>\n",
       "    <tr>\n",
       "      <th>1131</th>\n",
       "      <td>Burnley</td>\n",
       "      <td>Arsenal</td>\n",
       "      <td>1.0</td>\n",
       "      <td>3.0</td>\n",
       "      <td>1.71</td>\n",
       "      <td>2.86</td>\n",
       "      <td>1</td>\n",
       "      <td>2</td>\n",
       "      <td>2019-05-12</td>\n",
       "      <td>1688.669434</td>\n",
       "      <td>2019-05-12</td>\n",
       "      <td>1873.267700</td>\n",
       "    </tr>\n",
       "    <tr>\n",
       "      <th>1132</th>\n",
       "      <td>Crystal Palace</td>\n",
       "      <td>Bournemouth</td>\n",
       "      <td>5.0</td>\n",
       "      <td>3.0</td>\n",
       "      <td>2.69</td>\n",
       "      <td>2.17</td>\n",
       "      <td>0</td>\n",
       "      <td>2</td>\n",
       "      <td>2019-05-12</td>\n",
       "      <td>1734.742065</td>\n",
       "      <td>2019-05-12</td>\n",
       "      <td>1697.812134</td>\n",
       "    </tr>\n",
       "    <tr>\n",
       "      <th>1133</th>\n",
       "      <td>Fulham</td>\n",
       "      <td>Newcastle</td>\n",
       "      <td>0.0</td>\n",
       "      <td>4.0</td>\n",
       "      <td>0.76</td>\n",
       "      <td>2.06</td>\n",
       "      <td>1</td>\n",
       "      <td>2</td>\n",
       "      <td>2019-05-12</td>\n",
       "      <td>1599.815308</td>\n",
       "      <td>2019-05-12</td>\n",
       "      <td>1700.610474</td>\n",
       "    </tr>\n",
       "    <tr>\n",
       "      <th>1134</th>\n",
       "      <td>Leicester City</td>\n",
       "      <td>Chelsea</td>\n",
       "      <td>0.0</td>\n",
       "      <td>0.0</td>\n",
       "      <td>0.42</td>\n",
       "      <td>1.44</td>\n",
       "      <td>2</td>\n",
       "      <td>2</td>\n",
       "      <td>2019-05-12</td>\n",
       "      <td>1736.503052</td>\n",
       "      <td>2019-05-12</td>\n",
       "      <td>1870.400024</td>\n",
       "    </tr>\n",
       "    <tr>\n",
       "      <th>1135</th>\n",
       "      <td>Liverpool</td>\n",
       "      <td>Wolverhampton</td>\n",
       "      <td>2.0</td>\n",
       "      <td>0.0</td>\n",
       "      <td>2.00</td>\n",
       "      <td>1.09</td>\n",
       "      <td>0</td>\n",
       "      <td>2</td>\n",
       "      <td>2019-05-12</td>\n",
       "      <td>2035.113281</td>\n",
       "      <td>2019-05-12</td>\n",
       "      <td>1721.086304</td>\n",
       "    </tr>\n",
       "    <tr>\n",
       "      <th>1136</th>\n",
       "      <td>ManUtd</td>\n",
       "      <td>Cardiff City</td>\n",
       "      <td>0.0</td>\n",
       "      <td>2.0</td>\n",
       "      <td>1.95</td>\n",
       "      <td>1.66</td>\n",
       "      <td>1</td>\n",
       "      <td>2</td>\n",
       "      <td>2019-05-12</td>\n",
       "      <td>1859.725342</td>\n",
       "      <td>2019-05-12</td>\n",
       "      <td>1585.044189</td>\n",
       "    </tr>\n",
       "    <tr>\n",
       "      <th>1137</th>\n",
       "      <td>Southampton</td>\n",
       "      <td>Huddersfield Town</td>\n",
       "      <td>1.0</td>\n",
       "      <td>1.0</td>\n",
       "      <td>0.96</td>\n",
       "      <td>1.02</td>\n",
       "      <td>2</td>\n",
       "      <td>2</td>\n",
       "      <td>2019-05-12</td>\n",
       "      <td>1679.398438</td>\n",
       "      <td>2019-05-12</td>\n",
       "      <td>1515.806152</td>\n",
       "    </tr>\n",
       "    <tr>\n",
       "      <th>1138</th>\n",
       "      <td>Tottenham Hotspur</td>\n",
       "      <td>Everton</td>\n",
       "      <td>2.0</td>\n",
       "      <td>2.0</td>\n",
       "      <td>0.86</td>\n",
       "      <td>2.43</td>\n",
       "      <td>2</td>\n",
       "      <td>2</td>\n",
       "      <td>2019-05-12</td>\n",
       "      <td>1902.648438</td>\n",
       "      <td>2019-05-12</td>\n",
       "      <td>1763.895630</td>\n",
       "    </tr>\n",
       "    <tr>\n",
       "      <th>1139</th>\n",
       "      <td>Watford</td>\n",
       "      <td>WestHam</td>\n",
       "      <td>1.0</td>\n",
       "      <td>4.0</td>\n",
       "      <td>2.07</td>\n",
       "      <td>2.86</td>\n",
       "      <td>1</td>\n",
       "      <td>2</td>\n",
       "      <td>2019-05-12</td>\n",
       "      <td>1701.092041</td>\n",
       "      <td>2019-05-12</td>\n",
       "      <td>1712.852173</td>\n",
       "    </tr>\n",
       "  </tbody>\n",
       "</table>\n",
       "</div>"
      ],
      "text/plain": [
       "                         team1              team2  score1  score2   xg1   xg2  \\\n",
       "1130  Brighton and Hove Albion            ManCity     1.0     4.0  0.67  2.11   \n",
       "1131                   Burnley            Arsenal     1.0     3.0  1.71  2.86   \n",
       "1132            Crystal Palace        Bournemouth     5.0     3.0  2.69  2.17   \n",
       "1133                    Fulham          Newcastle     0.0     4.0  0.76  2.06   \n",
       "1134            Leicester City            Chelsea     0.0     0.0  0.42  1.44   \n",
       "1135                 Liverpool      Wolverhampton     2.0     0.0  2.00  1.09   \n",
       "1136                    ManUtd       Cardiff City     0.0     2.0  1.95  1.66   \n",
       "1137               Southampton  Huddersfield Town     1.0     1.0  0.96  1.02   \n",
       "1138         Tottenham Hotspur            Everton     2.0     2.0  0.86  2.43   \n",
       "1139                   Watford            WestHam     1.0     4.0  2.07  2.86   \n",
       "\n",
       "      FTR  season_period      Date_x     home_elo      Date_y     away_elo  \n",
       "1130    1              2  2019-05-12  1618.852417  2019-05-12  2034.380859  \n",
       "1131    1              2  2019-05-12  1688.669434  2019-05-12  1873.267700  \n",
       "1132    0              2  2019-05-12  1734.742065  2019-05-12  1697.812134  \n",
       "1133    1              2  2019-05-12  1599.815308  2019-05-12  1700.610474  \n",
       "1134    2              2  2019-05-12  1736.503052  2019-05-12  1870.400024  \n",
       "1135    0              2  2019-05-12  2035.113281  2019-05-12  1721.086304  \n",
       "1136    1              2  2019-05-12  1859.725342  2019-05-12  1585.044189  \n",
       "1137    2              2  2019-05-12  1679.398438  2019-05-12  1515.806152  \n",
       "1138    2              2  2019-05-12  1902.648438  2019-05-12  1763.895630  \n",
       "1139    1              2  2019-05-12  1701.092041  2019-05-12  1712.852173  "
      ]
     },
     "execution_count": 105,
     "metadata": {},
     "output_type": "execute_result"
    }
   ],
   "source": [
    "df5.tail(10)"
   ]
  },
  {
   "cell_type": "code",
   "execution_count": 106,
   "metadata": {
    "ExecuteTime": {
     "end_time": "2019-09-24T19:28:32.644045Z",
     "start_time": "2019-09-24T19:28:32.637106Z"
    }
   },
   "outputs": [
    {
     "data": {
      "text/plain": [
       "0"
      ]
     },
     "execution_count": 106,
     "metadata": {},
     "output_type": "execute_result"
    }
   ],
   "source": [
    "df5.home_elo.isnull().sum()"
   ]
  },
  {
   "cell_type": "code",
   "execution_count": 107,
   "metadata": {
    "ExecuteTime": {
     "end_time": "2019-09-24T19:28:33.387851Z",
     "start_time": "2019-09-24T19:28:33.382689Z"
    }
   },
   "outputs": [],
   "source": [
    "teams = list(df5.team1.unique())"
   ]
  },
  {
   "cell_type": "code",
   "execution_count": 108,
   "metadata": {
    "ExecuteTime": {
     "end_time": "2019-09-24T19:28:34.550131Z",
     "start_time": "2019-09-24T19:28:34.545225Z"
    }
   },
   "outputs": [],
   "source": [
    "df5.set_index(df4.index, inplace=True)"
   ]
  },
  {
   "cell_type": "code",
   "execution_count": 109,
   "metadata": {
    "ExecuteTime": {
     "end_time": "2019-09-24T19:28:34.855295Z",
     "start_time": "2019-09-24T19:28:34.851945Z"
    }
   },
   "outputs": [],
   "source": [
    "df5['score1'] = df['score1']\n",
    "df5['score2'] = df['score2']"
   ]
  },
  {
   "cell_type": "code",
   "execution_count": 110,
   "metadata": {
    "ExecuteTime": {
     "end_time": "2019-09-24T19:28:35.876601Z",
     "start_time": "2019-09-24T19:28:35.869631Z"
    }
   },
   "outputs": [],
   "source": [
    "df5['FTR_alpha'] = football_all['FTR']"
   ]
  },
  {
   "cell_type": "code",
   "execution_count": 111,
   "metadata": {
    "ExecuteTime": {
     "end_time": "2019-09-24T19:28:36.490662Z",
     "start_time": "2019-09-24T19:28:36.475721Z"
    }
   },
   "outputs": [
    {
     "data": {
      "text/html": [
       "<div>\n",
       "<style scoped>\n",
       "    .dataframe tbody tr th:only-of-type {\n",
       "        vertical-align: middle;\n",
       "    }\n",
       "\n",
       "    .dataframe tbody tr th {\n",
       "        vertical-align: top;\n",
       "    }\n",
       "\n",
       "    .dataframe thead th {\n",
       "        text-align: right;\n",
       "    }\n",
       "</style>\n",
       "<table border=\"1\" class=\"dataframe\">\n",
       "  <thead>\n",
       "    <tr style=\"text-align: right;\">\n",
       "      <th></th>\n",
       "      <th>team1</th>\n",
       "      <th>team2</th>\n",
       "      <th>score1</th>\n",
       "      <th>score2</th>\n",
       "      <th>xg1</th>\n",
       "      <th>xg2</th>\n",
       "      <th>FTR</th>\n",
       "      <th>season_period</th>\n",
       "      <th>Date_x</th>\n",
       "      <th>home_elo</th>\n",
       "      <th>Date_y</th>\n",
       "      <th>away_elo</th>\n",
       "      <th>FTR_alpha</th>\n",
       "    </tr>\n",
       "    <tr>\n",
       "      <th>date</th>\n",
       "      <th></th>\n",
       "      <th></th>\n",
       "      <th></th>\n",
       "      <th></th>\n",
       "      <th></th>\n",
       "      <th></th>\n",
       "      <th></th>\n",
       "      <th></th>\n",
       "      <th></th>\n",
       "      <th></th>\n",
       "      <th></th>\n",
       "      <th></th>\n",
       "      <th></th>\n",
       "    </tr>\n",
       "  </thead>\n",
       "  <tbody>\n",
       "    <tr>\n",
       "      <th>2016-08-13</th>\n",
       "      <td>Burnley</td>\n",
       "      <td>Swansea City</td>\n",
       "      <td>0.0</td>\n",
       "      <td>1.0</td>\n",
       "      <td>1.24</td>\n",
       "      <td>1.84</td>\n",
       "      <td>1</td>\n",
       "      <td>0</td>\n",
       "      <td>2016-08-13</td>\n",
       "      <td>1636.985718</td>\n",
       "      <td>2016-08-13</td>\n",
       "      <td>1688.034180</td>\n",
       "      <td>A</td>\n",
       "    </tr>\n",
       "    <tr>\n",
       "      <th>2016-08-13</th>\n",
       "      <td>Crystal Palace</td>\n",
       "      <td>WestBrom</td>\n",
       "      <td>0.0</td>\n",
       "      <td>1.0</td>\n",
       "      <td>1.11</td>\n",
       "      <td>0.68</td>\n",
       "      <td>1</td>\n",
       "      <td>0</td>\n",
       "      <td>2016-08-13</td>\n",
       "      <td>1633.740601</td>\n",
       "      <td>2016-08-13</td>\n",
       "      <td>1645.436768</td>\n",
       "      <td>A</td>\n",
       "    </tr>\n",
       "    <tr>\n",
       "      <th>2016-08-13</th>\n",
       "      <td>Everton</td>\n",
       "      <td>Tottenham Hotspur</td>\n",
       "      <td>1.0</td>\n",
       "      <td>1.0</td>\n",
       "      <td>0.73</td>\n",
       "      <td>1.11</td>\n",
       "      <td>2</td>\n",
       "      <td>0</td>\n",
       "      <td>2016-08-13</td>\n",
       "      <td>1695.128418</td>\n",
       "      <td>2016-08-13</td>\n",
       "      <td>1804.363892</td>\n",
       "      <td>D</td>\n",
       "    </tr>\n",
       "    <tr>\n",
       "      <th>2016-08-13</th>\n",
       "      <td>HullCity</td>\n",
       "      <td>Leicester City</td>\n",
       "      <td>2.0</td>\n",
       "      <td>1.0</td>\n",
       "      <td>0.85</td>\n",
       "      <td>2.77</td>\n",
       "      <td>0</td>\n",
       "      <td>0</td>\n",
       "      <td>2016-08-13</td>\n",
       "      <td>1589.138184</td>\n",
       "      <td>2016-08-13</td>\n",
       "      <td>1811.647949</td>\n",
       "      <td>H</td>\n",
       "    </tr>\n",
       "    <tr>\n",
       "      <th>2016-08-13</th>\n",
       "      <td>ManCity</td>\n",
       "      <td>Sunderland</td>\n",
       "      <td>2.0</td>\n",
       "      <td>1.0</td>\n",
       "      <td>2.14</td>\n",
       "      <td>1.25</td>\n",
       "      <td>0</td>\n",
       "      <td>0</td>\n",
       "      <td>2016-08-13</td>\n",
       "      <td>1848.615112</td>\n",
       "      <td>2016-08-13</td>\n",
       "      <td>1655.610107</td>\n",
       "      <td>H</td>\n",
       "    </tr>\n",
       "  </tbody>\n",
       "</table>\n",
       "</div>"
      ],
      "text/plain": [
       "                     team1              team2  score1  score2   xg1   xg2  \\\n",
       "date                                                                        \n",
       "2016-08-13         Burnley       Swansea City     0.0     1.0  1.24  1.84   \n",
       "2016-08-13  Crystal Palace           WestBrom     0.0     1.0  1.11  0.68   \n",
       "2016-08-13         Everton  Tottenham Hotspur     1.0     1.0  0.73  1.11   \n",
       "2016-08-13        HullCity     Leicester City     2.0     1.0  0.85  2.77   \n",
       "2016-08-13         ManCity         Sunderland     2.0     1.0  2.14  1.25   \n",
       "\n",
       "            FTR  season_period      Date_x     home_elo      Date_y  \\\n",
       "date                                                                  \n",
       "2016-08-13    1              0  2016-08-13  1636.985718  2016-08-13   \n",
       "2016-08-13    1              0  2016-08-13  1633.740601  2016-08-13   \n",
       "2016-08-13    2              0  2016-08-13  1695.128418  2016-08-13   \n",
       "2016-08-13    0              0  2016-08-13  1589.138184  2016-08-13   \n",
       "2016-08-13    0              0  2016-08-13  1848.615112  2016-08-13   \n",
       "\n",
       "               away_elo FTR_alpha  \n",
       "date                               \n",
       "2016-08-13  1688.034180         A  \n",
       "2016-08-13  1645.436768         A  \n",
       "2016-08-13  1804.363892         D  \n",
       "2016-08-13  1811.647949         H  \n",
       "2016-08-13  1655.610107         H  "
      ]
     },
     "execution_count": 111,
     "metadata": {},
     "output_type": "execute_result"
    }
   ],
   "source": [
    "df5.head()"
   ]
  },
  {
   "cell_type": "code",
   "execution_count": 112,
   "metadata": {
    "ExecuteTime": {
     "end_time": "2019-09-24T19:30:44.701233Z",
     "start_time": "2019-09-24T19:30:44.692293Z"
    }
   },
   "outputs": [],
   "source": [
    "df5.drop(columns=['Date_x', 'Date_y'], inplace=True)"
   ]
  },
  {
   "cell_type": "code",
   "execution_count": 113,
   "metadata": {
    "ExecuteTime": {
     "end_time": "2019-09-24T19:30:50.869496Z",
     "start_time": "2019-09-24T19:30:50.864746Z"
    }
   },
   "outputs": [],
   "source": [
    "# creating columns for form and average xg"
   ]
  },
  {
   "cell_type": "code",
   "execution_count": 114,
   "metadata": {
    "ExecuteTime": {
     "end_time": "2019-09-24T19:31:12.647623Z",
     "start_time": "2019-09-24T19:30:53.606199Z"
    }
   },
   "outputs": [
    {
     "name": "stderr",
     "output_type": "stream",
     "text": [
      "/anaconda3/lib/python3.7/site-packages/ipykernel_launcher.py:43: SettingWithCopyWarning: \n",
      "A value is trying to be set on a copy of a slice from a DataFrame.\n",
      "Try using .loc[row_indexer,col_indexer] = value instead\n",
      "\n",
      "See the caveats in the documentation: http://pandas.pydata.org/pandas-docs/stable/indexing.html#indexing-view-versus-copy\n",
      "/anaconda3/lib/python3.7/site-packages/ipykernel_launcher.py:44: SettingWithCopyWarning: \n",
      "A value is trying to be set on a copy of a slice from a DataFrame.\n",
      "Try using .loc[row_indexer,col_indexer] = value instead\n",
      "\n",
      "See the caveats in the documentation: http://pandas.pydata.org/pandas-docs/stable/indexing.html#indexing-view-versus-copy\n",
      "/anaconda3/lib/python3.7/site-packages/ipykernel_launcher.py:46: SettingWithCopyWarning: \n",
      "A value is trying to be set on a copy of a slice from a DataFrame.\n",
      "Try using .loc[row_indexer,col_indexer] = value instead\n",
      "\n",
      "See the caveats in the documentation: http://pandas.pydata.org/pandas-docs/stable/indexing.html#indexing-view-versus-copy\n",
      "/anaconda3/lib/python3.7/site-packages/ipykernel_launcher.py:49: SettingWithCopyWarning: \n",
      "A value is trying to be set on a copy of a slice from a DataFrame.\n",
      "Try using .loc[row_indexer,col_indexer] = value instead\n",
      "\n",
      "See the caveats in the documentation: http://pandas.pydata.org/pandas-docs/stable/indexing.html#indexing-view-versus-copy\n",
      "/anaconda3/lib/python3.7/site-packages/ipykernel_launcher.py:50: SettingWithCopyWarning: \n",
      "A value is trying to be set on a copy of a slice from a DataFrame.\n",
      "Try using .loc[row_indexer,col_indexer] = value instead\n",
      "\n",
      "See the caveats in the documentation: http://pandas.pydata.org/pandas-docs/stable/indexing.html#indexing-view-versus-copy\n",
      "/anaconda3/lib/python3.7/site-packages/ipykernel_launcher.py:51: SettingWithCopyWarning: \n",
      "A value is trying to be set on a copy of a slice from a DataFrame.\n",
      "Try using .loc[row_indexer,col_indexer] = value instead\n",
      "\n",
      "See the caveats in the documentation: http://pandas.pydata.org/pandas-docs/stable/indexing.html#indexing-view-versus-copy\n",
      "/anaconda3/lib/python3.7/site-packages/ipykernel_launcher.py:52: SettingWithCopyWarning: \n",
      "A value is trying to be set on a copy of a slice from a DataFrame.\n",
      "Try using .loc[row_indexer,col_indexer] = value instead\n",
      "\n",
      "See the caveats in the documentation: http://pandas.pydata.org/pandas-docs/stable/indexing.html#indexing-view-versus-copy\n",
      "/anaconda3/lib/python3.7/site-packages/ipykernel_launcher.py:53: SettingWithCopyWarning: \n",
      "A value is trying to be set on a copy of a slice from a DataFrame.\n",
      "Try using .loc[row_indexer,col_indexer] = value instead\n",
      "\n",
      "See the caveats in the documentation: http://pandas.pydata.org/pandas-docs/stable/indexing.html#indexing-view-versus-copy\n"
     ]
    }
   ],
   "source": [
    "new_df = pd.DataFrame()\n",
    "\n",
    "for team in teams:\n",
    "    \n",
    "    tester = df5[df5['team1'] == team] # create a new dataframe sorting by home team only\n",
    "\n",
    "    xg1_tracker = [1,2,3,4,5] # add 5 numbers because the length of the column is five longer than I have data for\n",
    "    xg2_tracker = [1,2,3,4,5]\n",
    "    \n",
    "    gd_tracker = [1,2,3,4,5]\n",
    "    \n",
    "    game_hist = [[1,2,3,4,5],[1,2,3,4,5],[1,2,3,4,5],[1,2,3,4,5],[1,2,3,4,5]]\n",
    "    \n",
    "\n",
    "    for i in range(5,len(tester['xg1'])): # for each row in new dataframe\n",
    "\n",
    "        xg1_adder = 0\n",
    "        xg2_adder = 0\n",
    "        gd1_adder = 0\n",
    "        gd2_adder = 0\n",
    "        \n",
    "        game = 0\n",
    "        history_tracker = []\n",
    "        \n",
    "        for x in range(i-5,i):\n",
    "            \n",
    "            xg1_adder += tester['xg1'][x] # add up the xg for the last five games\n",
    "            xg2_adder += tester['xg2'][x]\n",
    "            history_tracker.append(tester['FTR_alpha'][x])\n",
    "            gd1_adder += tester['score1'][x]\n",
    "            gd2_adder += tester['score2'][x]\n",
    "            \n",
    "            \n",
    "            \n",
    "        xg1_tracker.append(xg1_adder/5) # append the xg to a list dividing by 5 to give the avg\n",
    "        xg2_tracker.append(xg2_adder/5) \n",
    "        \n",
    "        gd_tracker.append((gd1_adder - gd2_adder)/5)\n",
    "        \n",
    "        game_hist.append(history_tracker)\n",
    "\n",
    "        \n",
    "    tester['xg1_5g_avg'] = [i for i in xg1_tracker] # create a column with the avg xg for the last 5 games\n",
    "    tester['xg2_5g_avg'] = [i for i in xg2_tracker]\n",
    "    \n",
    "    tester['gd_5g_avg'] = [i for i in gd_tracker] # goal diff avg over last 5 games\n",
    "    \n",
    "   \n",
    "    tester['game1'] = [i[0] for i in game_hist]\n",
    "    tester['game2'] = [i[1] for i in game_hist]\n",
    "    tester['game3'] = [i[2] for i in game_hist]    \n",
    "    tester['game4'] = [i[3] for i in game_hist]\n",
    "    tester['game5'] = [i[4] for i in game_hist]\n",
    "    \n",
    "    tester = tester.iloc[5:] # ignore the first 5 rows because I don't have historical data for them\n",
    "    \n",
    "    new_df = pd.concat([new_df, tester]) # append updated dataframe to new_df\n"
   ]
  },
  {
   "cell_type": "code",
   "execution_count": 115,
   "metadata": {
    "ExecuteTime": {
     "end_time": "2019-09-24T19:31:16.210295Z",
     "start_time": "2019-09-24T19:31:16.182345Z"
    }
   },
   "outputs": [
    {
     "data": {
      "text/html": [
       "<div>\n",
       "<style scoped>\n",
       "    .dataframe tbody tr th:only-of-type {\n",
       "        vertical-align: middle;\n",
       "    }\n",
       "\n",
       "    .dataframe tbody tr th {\n",
       "        vertical-align: top;\n",
       "    }\n",
       "\n",
       "    .dataframe thead th {\n",
       "        text-align: right;\n",
       "    }\n",
       "</style>\n",
       "<table border=\"1\" class=\"dataframe\">\n",
       "  <thead>\n",
       "    <tr style=\"text-align: right;\">\n",
       "      <th></th>\n",
       "      <th>team1</th>\n",
       "      <th>team2</th>\n",
       "      <th>score1</th>\n",
       "      <th>score2</th>\n",
       "      <th>xg1</th>\n",
       "      <th>xg2</th>\n",
       "      <th>FTR</th>\n",
       "      <th>season_period</th>\n",
       "      <th>home_elo</th>\n",
       "      <th>away_elo</th>\n",
       "      <th>FTR_alpha</th>\n",
       "      <th>xg1_5g_avg</th>\n",
       "      <th>xg2_5g_avg</th>\n",
       "      <th>gd_5g_avg</th>\n",
       "      <th>game1</th>\n",
       "      <th>game2</th>\n",
       "      <th>game3</th>\n",
       "      <th>game4</th>\n",
       "      <th>game5</th>\n",
       "    </tr>\n",
       "    <tr>\n",
       "      <th>date</th>\n",
       "      <th></th>\n",
       "      <th></th>\n",
       "      <th></th>\n",
       "      <th></th>\n",
       "      <th></th>\n",
       "      <th></th>\n",
       "      <th></th>\n",
       "      <th></th>\n",
       "      <th></th>\n",
       "      <th></th>\n",
       "      <th></th>\n",
       "      <th></th>\n",
       "      <th></th>\n",
       "      <th></th>\n",
       "      <th></th>\n",
       "      <th></th>\n",
       "      <th></th>\n",
       "      <th></th>\n",
       "      <th></th>\n",
       "    </tr>\n",
       "  </thead>\n",
       "  <tbody>\n",
       "    <tr>\n",
       "      <th>2019-02-26</th>\n",
       "      <td>Cardiff City</td>\n",
       "      <td>Everton</td>\n",
       "      <td>0.0</td>\n",
       "      <td>3.0</td>\n",
       "      <td>0.33</td>\n",
       "      <td>1.17</td>\n",
       "      <td>1</td>\n",
       "      <td>1</td>\n",
       "      <td>1564.042603</td>\n",
       "      <td>1667.101074</td>\n",
       "      <td>A</td>\n",
       "      <td>1.228</td>\n",
       "      <td>1.326</td>\n",
       "      <td>-1.8</td>\n",
       "      <td>A</td>\n",
       "      <td>A</td>\n",
       "      <td>D</td>\n",
       "      <td>H</td>\n",
       "      <td>A</td>\n",
       "    </tr>\n",
       "    <tr>\n",
       "      <th>2019-03-09</th>\n",
       "      <td>Cardiff City</td>\n",
       "      <td>WestHam</td>\n",
       "      <td>2.0</td>\n",
       "      <td>0.0</td>\n",
       "      <td>3.31</td>\n",
       "      <td>0.32</td>\n",
       "      <td>0</td>\n",
       "      <td>1</td>\n",
       "      <td>1552.825684</td>\n",
       "      <td>1691.774414</td>\n",
       "      <td>H</td>\n",
       "      <td>1.038</td>\n",
       "      <td>1.160</td>\n",
       "      <td>-1.6</td>\n",
       "      <td>A</td>\n",
       "      <td>D</td>\n",
       "      <td>H</td>\n",
       "      <td>A</td>\n",
       "      <td>A</td>\n",
       "    </tr>\n",
       "    <tr>\n",
       "      <th>2019-03-31</th>\n",
       "      <td>Cardiff City</td>\n",
       "      <td>Chelsea</td>\n",
       "      <td>1.0</td>\n",
       "      <td>2.0</td>\n",
       "      <td>0.47</td>\n",
       "      <td>2.15</td>\n",
       "      <td>1</td>\n",
       "      <td>1</td>\n",
       "      <td>1579.037231</td>\n",
       "      <td>1847.152344</td>\n",
       "      <td>A</td>\n",
       "      <td>1.520</td>\n",
       "      <td>0.910</td>\n",
       "      <td>-0.6</td>\n",
       "      <td>D</td>\n",
       "      <td>H</td>\n",
       "      <td>A</td>\n",
       "      <td>A</td>\n",
       "      <td>H</td>\n",
       "    </tr>\n",
       "    <tr>\n",
       "      <th>2019-04-21</th>\n",
       "      <td>Cardiff City</td>\n",
       "      <td>Liverpool</td>\n",
       "      <td>0.0</td>\n",
       "      <td>2.0</td>\n",
       "      <td>1.12</td>\n",
       "      <td>2.84</td>\n",
       "      <td>1</td>\n",
       "      <td>2</td>\n",
       "      <td>1590.018433</td>\n",
       "      <td>2006.652588</td>\n",
       "      <td>A</td>\n",
       "      <td>1.582</td>\n",
       "      <td>1.246</td>\n",
       "      <td>-0.8</td>\n",
       "      <td>H</td>\n",
       "      <td>A</td>\n",
       "      <td>A</td>\n",
       "      <td>H</td>\n",
       "      <td>A</td>\n",
       "    </tr>\n",
       "    <tr>\n",
       "      <th>2019-05-04</th>\n",
       "      <td>Cardiff City</td>\n",
       "      <td>Crystal Palace</td>\n",
       "      <td>2.0</td>\n",
       "      <td>3.0</td>\n",
       "      <td>1.64</td>\n",
       "      <td>1.88</td>\n",
       "      <td>1</td>\n",
       "      <td>2</td>\n",
       "      <td>1577.592407</td>\n",
       "      <td>1714.466187</td>\n",
       "      <td>A</td>\n",
       "      <td>1.364</td>\n",
       "      <td>1.720</td>\n",
       "      <td>-1.6</td>\n",
       "      <td>A</td>\n",
       "      <td>A</td>\n",
       "      <td>H</td>\n",
       "      <td>A</td>\n",
       "      <td>A</td>\n",
       "    </tr>\n",
       "  </tbody>\n",
       "</table>\n",
       "</div>"
      ],
      "text/plain": [
       "                   team1           team2  score1  score2   xg1   xg2  FTR  \\\n",
       "date                                                                        \n",
       "2019-02-26  Cardiff City         Everton     0.0     3.0  0.33  1.17    1   \n",
       "2019-03-09  Cardiff City         WestHam     2.0     0.0  3.31  0.32    0   \n",
       "2019-03-31  Cardiff City         Chelsea     1.0     2.0  0.47  2.15    1   \n",
       "2019-04-21  Cardiff City       Liverpool     0.0     2.0  1.12  2.84    1   \n",
       "2019-05-04  Cardiff City  Crystal Palace     2.0     3.0  1.64  1.88    1   \n",
       "\n",
       "            season_period     home_elo     away_elo FTR_alpha  xg1_5g_avg  \\\n",
       "date                                                                        \n",
       "2019-02-26              1  1564.042603  1667.101074         A       1.228   \n",
       "2019-03-09              1  1552.825684  1691.774414         H       1.038   \n",
       "2019-03-31              1  1579.037231  1847.152344         A       1.520   \n",
       "2019-04-21              2  1590.018433  2006.652588         A       1.582   \n",
       "2019-05-04              2  1577.592407  1714.466187         A       1.364   \n",
       "\n",
       "            xg2_5g_avg  gd_5g_avg game1 game2 game3 game4 game5  \n",
       "date                                                             \n",
       "2019-02-26       1.326       -1.8     A     A     D     H     A  \n",
       "2019-03-09       1.160       -1.6     A     D     H     A     A  \n",
       "2019-03-31       0.910       -0.6     D     H     A     A     H  \n",
       "2019-04-21       1.246       -0.8     H     A     A     H     A  \n",
       "2019-05-04       1.720       -1.6     A     A     H     A     A  "
      ]
     },
     "execution_count": 115,
     "metadata": {},
     "output_type": "execute_result"
    }
   ],
   "source": [
    "new_df.tail()"
   ]
  },
  {
   "cell_type": "code",
   "execution_count": 116,
   "metadata": {
    "ExecuteTime": {
     "end_time": "2019-09-24T19:31:23.262523Z",
     "start_time": "2019-09-24T19:31:23.242939Z"
    }
   },
   "outputs": [
    {
     "data": {
      "text/html": [
       "<div>\n",
       "<style scoped>\n",
       "    .dataframe tbody tr th:only-of-type {\n",
       "        vertical-align: middle;\n",
       "    }\n",
       "\n",
       "    .dataframe tbody tr th {\n",
       "        vertical-align: top;\n",
       "    }\n",
       "\n",
       "    .dataframe thead th {\n",
       "        text-align: right;\n",
       "    }\n",
       "</style>\n",
       "<table border=\"1\" class=\"dataframe\">\n",
       "  <thead>\n",
       "    <tr style=\"text-align: right;\">\n",
       "      <th></th>\n",
       "      <th>team1</th>\n",
       "      <th>team2</th>\n",
       "      <th>score1</th>\n",
       "      <th>score2</th>\n",
       "      <th>xg1</th>\n",
       "      <th>xg2</th>\n",
       "      <th>FTR</th>\n",
       "      <th>season_period</th>\n",
       "      <th>home_elo</th>\n",
       "      <th>away_elo</th>\n",
       "      <th>FTR_alpha</th>\n",
       "      <th>xg1_5g_avg</th>\n",
       "      <th>xg2_5g_avg</th>\n",
       "      <th>gd_5g_avg</th>\n",
       "      <th>game1</th>\n",
       "      <th>game2</th>\n",
       "      <th>game3</th>\n",
       "      <th>game4</th>\n",
       "      <th>game5</th>\n",
       "    </tr>\n",
       "    <tr>\n",
       "      <th>date</th>\n",
       "      <th></th>\n",
       "      <th></th>\n",
       "      <th></th>\n",
       "      <th></th>\n",
       "      <th></th>\n",
       "      <th></th>\n",
       "      <th></th>\n",
       "      <th></th>\n",
       "      <th></th>\n",
       "      <th></th>\n",
       "      <th></th>\n",
       "      <th></th>\n",
       "      <th></th>\n",
       "      <th></th>\n",
       "      <th></th>\n",
       "      <th></th>\n",
       "      <th></th>\n",
       "      <th></th>\n",
       "      <th></th>\n",
       "    </tr>\n",
       "  </thead>\n",
       "  <tbody>\n",
       "    <tr>\n",
       "      <th>2016-10-22</th>\n",
       "      <td>Burnley</td>\n",
       "      <td>Everton</td>\n",
       "      <td>2.0</td>\n",
       "      <td>1.0</td>\n",
       "      <td>0.97</td>\n",
       "      <td>1.00</td>\n",
       "      <td>0</td>\n",
       "      <td>0</td>\n",
       "      <td>1629.542358</td>\n",
       "      <td>1720.473145</td>\n",
       "      <td>H</td>\n",
       "      <td>0.650</td>\n",
       "      <td>1.306</td>\n",
       "      <td>0.4</td>\n",
       "      <td>A</td>\n",
       "      <td>H</td>\n",
       "      <td>D</td>\n",
       "      <td>H</td>\n",
       "      <td>A</td>\n",
       "    </tr>\n",
       "    <tr>\n",
       "      <th>2016-11-05</th>\n",
       "      <td>Burnley</td>\n",
       "      <td>Crystal Palace</td>\n",
       "      <td>3.0</td>\n",
       "      <td>2.0</td>\n",
       "      <td>1.87</td>\n",
       "      <td>2.42</td>\n",
       "      <td>0</td>\n",
       "      <td>0</td>\n",
       "      <td>1642.840088</td>\n",
       "      <td>1630.743774</td>\n",
       "      <td>H</td>\n",
       "      <td>0.596</td>\n",
       "      <td>1.138</td>\n",
       "      <td>0.8</td>\n",
       "      <td>H</td>\n",
       "      <td>D</td>\n",
       "      <td>H</td>\n",
       "      <td>A</td>\n",
       "      <td>H</td>\n",
       "    </tr>\n",
       "    <tr>\n",
       "      <th>2016-11-26</th>\n",
       "      <td>Burnley</td>\n",
       "      <td>ManCity</td>\n",
       "      <td>1.0</td>\n",
       "      <td>2.0</td>\n",
       "      <td>0.73</td>\n",
       "      <td>2.57</td>\n",
       "      <td>1</td>\n",
       "      <td>0</td>\n",
       "      <td>1632.258057</td>\n",
       "      <td>1872.487793</td>\n",
       "      <td>A</td>\n",
       "      <td>0.928</td>\n",
       "      <td>1.384</td>\n",
       "      <td>0.6</td>\n",
       "      <td>D</td>\n",
       "      <td>H</td>\n",
       "      <td>A</td>\n",
       "      <td>H</td>\n",
       "      <td>H</td>\n",
       "    </tr>\n",
       "    <tr>\n",
       "      <th>2016-12-10</th>\n",
       "      <td>Burnley</td>\n",
       "      <td>Bournemouth</td>\n",
       "      <td>3.0</td>\n",
       "      <td>2.0</td>\n",
       "      <td>2.05</td>\n",
       "      <td>1.09</td>\n",
       "      <td>0</td>\n",
       "      <td>1</td>\n",
       "      <td>1618.332764</td>\n",
       "      <td>1632.510742</td>\n",
       "      <td>H</td>\n",
       "      <td>0.968</td>\n",
       "      <td>1.692</td>\n",
       "      <td>0.4</td>\n",
       "      <td>H</td>\n",
       "      <td>A</td>\n",
       "      <td>H</td>\n",
       "      <td>H</td>\n",
       "      <td>A</td>\n",
       "    </tr>\n",
       "    <tr>\n",
       "      <th>2016-12-26</th>\n",
       "      <td>Burnley</td>\n",
       "      <td>Middlesbrough</td>\n",
       "      <td>1.0</td>\n",
       "      <td>0.0</td>\n",
       "      <td>0.35</td>\n",
       "      <td>0.91</td>\n",
       "      <td>0</td>\n",
       "      <td>1</td>\n",
       "      <td>1616.764526</td>\n",
       "      <td>1611.276367</td>\n",
       "      <td>H</td>\n",
       "      <td>1.262</td>\n",
       "      <td>1.746</td>\n",
       "      <td>0.2</td>\n",
       "      <td>A</td>\n",
       "      <td>H</td>\n",
       "      <td>H</td>\n",
       "      <td>A</td>\n",
       "      <td>H</td>\n",
       "    </tr>\n",
       "  </tbody>\n",
       "</table>\n",
       "</div>"
      ],
      "text/plain": [
       "              team1           team2  score1  score2   xg1   xg2  FTR  \\\n",
       "date                                                                   \n",
       "2016-10-22  Burnley         Everton     2.0     1.0  0.97  1.00    0   \n",
       "2016-11-05  Burnley  Crystal Palace     3.0     2.0  1.87  2.42    0   \n",
       "2016-11-26  Burnley         ManCity     1.0     2.0  0.73  2.57    1   \n",
       "2016-12-10  Burnley     Bournemouth     3.0     2.0  2.05  1.09    0   \n",
       "2016-12-26  Burnley   Middlesbrough     1.0     0.0  0.35  0.91    0   \n",
       "\n",
       "            season_period     home_elo     away_elo FTR_alpha  xg1_5g_avg  \\\n",
       "date                                                                        \n",
       "2016-10-22              0  1629.542358  1720.473145         H       0.650   \n",
       "2016-11-05              0  1642.840088  1630.743774         H       0.596   \n",
       "2016-11-26              0  1632.258057  1872.487793         A       0.928   \n",
       "2016-12-10              1  1618.332764  1632.510742         H       0.968   \n",
       "2016-12-26              1  1616.764526  1611.276367         H       1.262   \n",
       "\n",
       "            xg2_5g_avg  gd_5g_avg game1 game2 game3 game4 game5  \n",
       "date                                                             \n",
       "2016-10-22       1.306        0.4     A     H     D     H     A  \n",
       "2016-11-05       1.138        0.8     H     D     H     A     H  \n",
       "2016-11-26       1.384        0.6     D     H     A     H     H  \n",
       "2016-12-10       1.692        0.4     H     A     H     H     A  \n",
       "2016-12-26       1.746        0.2     A     H     H     A     H  "
      ]
     },
     "execution_count": 116,
     "metadata": {},
     "output_type": "execute_result"
    }
   ],
   "source": [
    "new_df.head()"
   ]
  },
  {
   "cell_type": "code",
   "execution_count": 117,
   "metadata": {
    "ExecuteTime": {
     "end_time": "2019-09-24T19:31:23.695344Z",
     "start_time": "2019-09-24T19:31:23.690746Z"
    }
   },
   "outputs": [],
   "source": [
    "no_club_no_xg = new_df.copy()"
   ]
  },
  {
   "cell_type": "code",
   "execution_count": 118,
   "metadata": {
    "ExecuteTime": {
     "end_time": "2019-09-24T19:31:36.444793Z",
     "start_time": "2019-09-24T19:31:36.425842Z"
    }
   },
   "outputs": [],
   "source": [
    "no_club_no_xg['elo_diff'] = no_club_no_xg['home_elo'] - no_club_no_xg['away_elo']"
   ]
  },
  {
   "cell_type": "code",
   "execution_count": 119,
   "metadata": {
    "ExecuteTime": {
     "end_time": "2019-09-24T19:31:37.131100Z",
     "start_time": "2019-09-24T19:31:37.127065Z"
    }
   },
   "outputs": [],
   "source": [
    "no_club_no_xg.reset_index(inplace=True)"
   ]
  },
  {
   "cell_type": "code",
   "execution_count": 120,
   "metadata": {
    "ExecuteTime": {
     "end_time": "2019-09-24T19:31:37.688184Z",
     "start_time": "2019-09-24T19:31:37.681367Z"
    }
   },
   "outputs": [
    {
     "data": {
      "text/plain": [
       "Index(['date', 'team1', 'team2', 'score1', 'score2', 'xg1', 'xg2', 'FTR',\n",
       "       'season_period', 'home_elo', 'away_elo', 'FTR_alpha', 'xg1_5g_avg',\n",
       "       'xg2_5g_avg', 'gd_5g_avg', 'game1', 'game2', 'game3', 'game4', 'game5',\n",
       "       'elo_diff'],\n",
       "      dtype='object')"
      ]
     },
     "execution_count": 120,
     "metadata": {},
     "output_type": "execute_result"
    }
   ],
   "source": [
    "no_club_no_xg.columns"
   ]
  },
  {
   "cell_type": "code",
   "execution_count": 121,
   "metadata": {
    "ExecuteTime": {
     "end_time": "2019-09-24T19:31:47.345698Z",
     "start_time": "2019-09-24T19:31:47.338804Z"
    }
   },
   "outputs": [],
   "source": [
    "no_club_no_xg = no_club_no_xg.sort_values(by = ['date', 'team1'], ascending = True)"
   ]
  },
  {
   "cell_type": "code",
   "execution_count": 122,
   "metadata": {
    "ExecuteTime": {
     "end_time": "2019-09-24T19:33:44.004409Z",
     "start_time": "2019-09-24T19:33:44.000544Z"
    }
   },
   "outputs": [],
   "source": [
    "no_club_no_xg.drop(columns=['date', 'team1', 'team2', 'xg1', 'xg2','home_elo',\n",
    "                            'away_elo', 'score1', 'score2', 'FTR_alpha'], inplace=True)"
   ]
  },
  {
   "cell_type": "code",
   "execution_count": 125,
   "metadata": {
    "ExecuteTime": {
     "end_time": "2019-09-24T19:38:38.046046Z",
     "start_time": "2019-09-24T19:38:38.022483Z"
    }
   },
   "outputs": [],
   "source": [
    "no_club_no_xg = pd.get_dummies(no_club_no_xg, drop_first=True)"
   ]
  },
  {
   "cell_type": "code",
   "execution_count": 126,
   "metadata": {
    "ExecuteTime": {
     "end_time": "2019-09-24T19:38:39.028649Z",
     "start_time": "2019-09-24T19:38:38.999885Z"
    }
   },
   "outputs": [],
   "source": [
    "new_df.to_csv('../csv/new_df.csv')"
   ]
  },
  {
   "cell_type": "code",
   "execution_count": 127,
   "metadata": {
    "ExecuteTime": {
     "end_time": "2019-09-24T19:38:39.518508Z",
     "start_time": "2019-09-24T19:38:39.491603Z"
    }
   },
   "outputs": [],
   "source": [
    "no_club_no_xg.to_csv('../csv/no_club.csv')"
   ]
  }
 ],
 "metadata": {
  "kernelspec": {
   "display_name": "Python 3",
   "language": "python",
   "name": "python3"
  },
  "language_info": {
   "codemirror_mode": {
    "name": "ipython",
    "version": 3
   },
   "file_extension": ".py",
   "mimetype": "text/x-python",
   "name": "python",
   "nbconvert_exporter": "python",
   "pygments_lexer": "ipython3",
   "version": "3.7.1"
  }
 },
 "nbformat": 4,
 "nbformat_minor": 2
}
