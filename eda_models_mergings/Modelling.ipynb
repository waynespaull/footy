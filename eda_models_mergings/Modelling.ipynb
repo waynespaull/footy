{
 "cells": [
  {
   "cell_type": "markdown",
   "metadata": {},
   "source": [
    "# Odd Ball"
   ]
  },
  {
   "cell_type": "markdown",
   "metadata": {},
   "source": [
    "# Modelling Time!"
   ]
  },
  {
   "cell_type": "code",
   "execution_count": 202,
   "metadata": {
    "ExecuteTime": {
     "end_time": "2019-09-29T12:49:44.949716Z",
     "start_time": "2019-09-29T12:49:44.925958Z"
    }
   },
   "outputs": [],
   "source": [
    "import pandas as pd\n",
    "import numpy as np\n",
    "import matplotlib.pyplot as plt\n",
    "import seaborn as sns\n",
    "\n",
    "sns.set(font_scale=1.5)\n",
    "%config InlineBackend.figure_format = 'retina'\n",
    "%matplotlib inline"
   ]
  },
  {
   "cell_type": "code",
   "execution_count": 203,
   "metadata": {
    "ExecuteTime": {
     "end_time": "2019-09-29T12:49:45.074293Z",
     "start_time": "2019-09-29T12:49:45.060585Z"
    }
   },
   "outputs": [],
   "source": [
    "from sklearn.metrics import classification_report, confusion_matrix, accuracy_score, roc_curve, roc_auc_score\n",
    "from sklearn.linear_model import LogisticRegression, LogisticRegressionCV\n",
    "from sklearn.model_selection import cross_val_score\n",
    "from sklearn.model_selection import train_test_split\n",
    "from sklearn.preprocessing import StandardScaler"
   ]
  },
  {
   "cell_type": "code",
   "execution_count": 204,
   "metadata": {
    "ExecuteTime": {
     "end_time": "2019-09-29T12:49:45.250761Z",
     "start_time": "2019-09-29T12:49:45.234783Z"
    }
   },
   "outputs": [],
   "source": [
    "modelling_df = pd.read_csv('csv/no_club.csv', index_col=0)"
   ]
  },
  {
   "cell_type": "code",
   "execution_count": 205,
   "metadata": {
    "ExecuteTime": {
     "end_time": "2019-09-29T12:49:45.410365Z",
     "start_time": "2019-09-29T12:49:45.393454Z"
    }
   },
   "outputs": [
    {
     "data": {
      "text/html": [
       "<div>\n",
       "<style scoped>\n",
       "    .dataframe tbody tr th:only-of-type {\n",
       "        vertical-align: middle;\n",
       "    }\n",
       "\n",
       "    .dataframe tbody tr th {\n",
       "        vertical-align: top;\n",
       "    }\n",
       "\n",
       "    .dataframe thead th {\n",
       "        text-align: right;\n",
       "    }\n",
       "</style>\n",
       "<table border=\"1\" class=\"dataframe\">\n",
       "  <thead>\n",
       "    <tr style=\"text-align: right;\">\n",
       "      <th></th>\n",
       "      <th>FTR</th>\n",
       "      <th>season_period</th>\n",
       "      <th>xg1_5g_avg</th>\n",
       "      <th>xg2_5g_avg</th>\n",
       "      <th>gd_5g_avg</th>\n",
       "      <th>elo_diff</th>\n",
       "      <th>game1_D</th>\n",
       "      <th>game1_H</th>\n",
       "      <th>game2_D</th>\n",
       "      <th>game2_H</th>\n",
       "      <th>game3_D</th>\n",
       "      <th>game3_H</th>\n",
       "      <th>game4_D</th>\n",
       "      <th>game4_H</th>\n",
       "      <th>game5_D</th>\n",
       "      <th>game5_H</th>\n",
       "    </tr>\n",
       "  </thead>\n",
       "  <tbody>\n",
       "    <tr>\n",
       "      <th>0</th>\n",
       "      <td>0</td>\n",
       "      <td>0</td>\n",
       "      <td>0.650</td>\n",
       "      <td>1.306</td>\n",
       "      <td>0.4</td>\n",
       "      <td>-90.930786</td>\n",
       "      <td>0</td>\n",
       "      <td>0</td>\n",
       "      <td>0</td>\n",
       "      <td>1</td>\n",
       "      <td>1</td>\n",
       "      <td>0</td>\n",
       "      <td>0</td>\n",
       "      <td>1</td>\n",
       "      <td>0</td>\n",
       "      <td>0</td>\n",
       "    </tr>\n",
       "    <tr>\n",
       "      <th>340</th>\n",
       "      <td>1</td>\n",
       "      <td>0</td>\n",
       "      <td>1.078</td>\n",
       "      <td>1.228</td>\n",
       "      <td>1.0</td>\n",
       "      <td>30.798828</td>\n",
       "      <td>0</td>\n",
       "      <td>0</td>\n",
       "      <td>0</td>\n",
       "      <td>1</td>\n",
       "      <td>0</td>\n",
       "      <td>1</td>\n",
       "      <td>0</td>\n",
       "      <td>1</td>\n",
       "      <td>1</td>\n",
       "      <td>0</td>\n",
       "    </tr>\n",
       "    <tr>\n",
       "      <th>1</th>\n",
       "      <td>0</td>\n",
       "      <td>0</td>\n",
       "      <td>0.596</td>\n",
       "      <td>1.138</td>\n",
       "      <td>0.8</td>\n",
       "      <td>12.096313</td>\n",
       "      <td>0</td>\n",
       "      <td>1</td>\n",
       "      <td>1</td>\n",
       "      <td>0</td>\n",
       "      <td>0</td>\n",
       "      <td>1</td>\n",
       "      <td>0</td>\n",
       "      <td>0</td>\n",
       "      <td>0</td>\n",
       "      <td>1</td>\n",
       "    </tr>\n",
       "    <tr>\n",
       "      <th>392</th>\n",
       "      <td>0</td>\n",
       "      <td>0</td>\n",
       "      <td>2.090</td>\n",
       "      <td>0.756</td>\n",
       "      <td>2.0</td>\n",
       "      <td>110.588257</td>\n",
       "      <td>0</td>\n",
       "      <td>1</td>\n",
       "      <td>0</td>\n",
       "      <td>1</td>\n",
       "      <td>0</td>\n",
       "      <td>0</td>\n",
       "      <td>0</td>\n",
       "      <td>1</td>\n",
       "      <td>0</td>\n",
       "      <td>1</td>\n",
       "    </tr>\n",
       "    <tr>\n",
       "      <th>170</th>\n",
       "      <td>2</td>\n",
       "      <td>0</td>\n",
       "      <td>2.468</td>\n",
       "      <td>0.630</td>\n",
       "      <td>1.4</td>\n",
       "      <td>280.346558</td>\n",
       "      <td>0</td>\n",
       "      <td>1</td>\n",
       "      <td>0</td>\n",
       "      <td>1</td>\n",
       "      <td>0</td>\n",
       "      <td>1</td>\n",
       "      <td>1</td>\n",
       "      <td>0</td>\n",
       "      <td>1</td>\n",
       "      <td>0</td>\n",
       "    </tr>\n",
       "  </tbody>\n",
       "</table>\n",
       "</div>"
      ],
      "text/plain": [
       "     FTR  season_period  xg1_5g_avg  xg2_5g_avg  gd_5g_avg    elo_diff  \\\n",
       "0      0              0       0.650       1.306        0.4  -90.930786   \n",
       "340    1              0       1.078       1.228        1.0   30.798828   \n",
       "1      0              0       0.596       1.138        0.8   12.096313   \n",
       "392    0              0       2.090       0.756        2.0  110.588257   \n",
       "170    2              0       2.468       0.630        1.4  280.346558   \n",
       "\n",
       "     game1_D  game1_H  game2_D  game2_H  game3_D  game3_H  game4_D  game4_H  \\\n",
       "0          0        0        0        1        1        0        0        1   \n",
       "340        0        0        0        1        0        1        0        1   \n",
       "1          0        1        1        0        0        1        0        0   \n",
       "392        0        1        0        1        0        0        0        1   \n",
       "170        0        1        0        1        0        1        1        0   \n",
       "\n",
       "     game5_D  game5_H  \n",
       "0          0        0  \n",
       "340        1        0  \n",
       "1          0        1  \n",
       "392        0        1  \n",
       "170        1        0  "
      ]
     },
     "execution_count": 205,
     "metadata": {},
     "output_type": "execute_result"
    }
   ],
   "source": [
    "modelling_df.head()"
   ]
  },
  {
   "cell_type": "code",
   "execution_count": 206,
   "metadata": {
    "ExecuteTime": {
     "end_time": "2019-09-29T12:49:45.952501Z",
     "start_time": "2019-09-29T12:49:45.943954Z"
    }
   },
   "outputs": [],
   "source": [
    "y = modelling_df.pop('FTR')"
   ]
  },
  {
   "cell_type": "code",
   "execution_count": 207,
   "metadata": {
    "ExecuteTime": {
     "end_time": "2019-09-29T12:49:47.636368Z",
     "start_time": "2019-09-29T12:49:47.633231Z"
    }
   },
   "outputs": [],
   "source": [
    "# Getting that sweet baseline"
   ]
  },
  {
   "cell_type": "code",
   "execution_count": 208,
   "metadata": {
    "ExecuteTime": {
     "end_time": "2019-09-29T12:49:48.016661Z",
     "start_time": "2019-09-29T12:49:48.006869Z"
    }
   },
   "outputs": [
    {
     "data": {
      "text/plain": [
       "0    0.483168\n",
       "1    0.300000\n",
       "2    0.216832\n",
       "Name: FTR, dtype: float64"
      ]
     },
     "execution_count": 208,
     "metadata": {},
     "output_type": "execute_result"
    }
   ],
   "source": [
    "y.value_counts(normalize=True)"
   ]
  },
  {
   "cell_type": "code",
   "execution_count": 209,
   "metadata": {
    "ExecuteTime": {
     "end_time": "2019-09-29T12:49:48.164905Z",
     "start_time": "2019-09-29T12:49:48.158225Z"
    }
   },
   "outputs": [],
   "source": [
    "X = modelling_df.copy()"
   ]
  },
  {
   "cell_type": "code",
   "execution_count": 210,
   "metadata": {
    "ExecuteTime": {
     "end_time": "2019-09-29T12:49:48.326800Z",
     "start_time": "2019-09-29T12:49:48.316028Z"
    }
   },
   "outputs": [],
   "source": [
    "X_train, X_test, y_train, y_test = train_test_split(X, y, test_size=0.25, stratify=y)"
   ]
  },
  {
   "cell_type": "code",
   "execution_count": 211,
   "metadata": {
    "ExecuteTime": {
     "end_time": "2019-09-29T12:49:48.501987Z",
     "start_time": "2019-09-29T12:49:48.491953Z"
    }
   },
   "outputs": [
    {
     "name": "stderr",
     "output_type": "stream",
     "text": [
      "/anaconda3/lib/python3.7/site-packages/sklearn/preprocessing/data.py:625: DataConversionWarning: Data with input dtype int64, float64 were all converted to float64 by StandardScaler.\n",
      "  return self.partial_fit(X, y)\n",
      "/anaconda3/lib/python3.7/site-packages/sklearn/base.py:462: DataConversionWarning: Data with input dtype int64, float64 were all converted to float64 by StandardScaler.\n",
      "  return self.fit(X, **fit_params).transform(X)\n",
      "/anaconda3/lib/python3.7/site-packages/ipykernel_launcher.py:3: DataConversionWarning: Data with input dtype int64, float64 were all converted to float64 by StandardScaler.\n",
      "  This is separate from the ipykernel package so we can avoid doing imports until\n"
     ]
    }
   ],
   "source": [
    "scaler = StandardScaler()\n",
    "X_train = pd.DataFrame(scaler.fit_transform(X_train), columns=X_train.columns)\n",
    "X_test = pd.DataFrame(scaler.transform(X_test), columns=(X_train.columns))"
   ]
  },
  {
   "cell_type": "code",
   "execution_count": 212,
   "metadata": {
    "ExecuteTime": {
     "end_time": "2019-09-29T12:49:48.830915Z",
     "start_time": "2019-09-29T12:49:48.825572Z"
    }
   },
   "outputs": [
    {
     "data": {
      "text/plain": [
       "Index(['season_period', 'xg1_5g_avg', 'xg2_5g_avg', 'gd_5g_avg', 'elo_diff',\n",
       "       'game1_D', 'game1_H', 'game2_D', 'game2_H', 'game3_D', 'game3_H',\n",
       "       'game4_D', 'game4_H', 'game5_D', 'game5_H'],\n",
       "      dtype='object')"
      ]
     },
     "execution_count": 212,
     "metadata": {},
     "output_type": "execute_result"
    }
   ],
   "source": [
    "X_train.columns"
   ]
  },
  {
   "cell_type": "code",
   "execution_count": 86,
   "metadata": {
    "ExecuteTime": {
     "end_time": "2019-09-29T11:46:06.360168Z",
     "start_time": "2019-09-29T11:46:05.937014Z"
    }
   },
   "outputs": [
    {
     "name": "stdout",
     "output_type": "stream",
     "text": [
      "0.5652173913043478\n",
      "0.5785997357992074\n"
     ]
    }
   ],
   "source": [
    "model = LogisticRegressionCV(solver='newton-cg', multi_class='multinomial', cv=5)\n",
    "\n",
    "model.fit(X_train, y_train)\n",
    "yhat_test = model.predict(X_test)\n",
    "log_reg_test = model.score(X_test, y_test)\n",
    "log_reg_cv = model.score(X_train, y_train)\n",
    "print(log_reg_test)\n",
    "print(log_reg_cv)"
   ]
  },
  {
   "cell_type": "code",
   "execution_count": 87,
   "metadata": {
    "ExecuteTime": {
     "end_time": "2019-09-29T11:46:06.582365Z",
     "start_time": "2019-09-29T11:46:06.570118Z"
    }
   },
   "outputs": [
    {
     "data": {
      "text/html": [
       "<div>\n",
       "<style scoped>\n",
       "    .dataframe tbody tr th:only-of-type {\n",
       "        vertical-align: middle;\n",
       "    }\n",
       "\n",
       "    .dataframe tbody tr th {\n",
       "        vertical-align: top;\n",
       "    }\n",
       "\n",
       "    .dataframe thead th {\n",
       "        text-align: right;\n",
       "    }\n",
       "</style>\n",
       "<table border=\"1\" class=\"dataframe\">\n",
       "  <thead>\n",
       "    <tr style=\"text-align: right;\">\n",
       "      <th></th>\n",
       "      <th>0</th>\n",
       "      <th>1</th>\n",
       "      <th>2</th>\n",
       "    </tr>\n",
       "  </thead>\n",
       "  <tbody>\n",
       "    <tr>\n",
       "      <th>0</th>\n",
       "      <td>105</td>\n",
       "      <td>17</td>\n",
       "      <td>0</td>\n",
       "    </tr>\n",
       "    <tr>\n",
       "      <th>1</th>\n",
       "      <td>38</td>\n",
       "      <td>38</td>\n",
       "      <td>0</td>\n",
       "    </tr>\n",
       "    <tr>\n",
       "      <th>2</th>\n",
       "      <td>42</td>\n",
       "      <td>13</td>\n",
       "      <td>0</td>\n",
       "    </tr>\n",
       "  </tbody>\n",
       "</table>\n",
       "</div>"
      ],
      "text/plain": [
       "     0   1  2\n",
       "0  105  17  0\n",
       "1   38  38  0\n",
       "2   42  13  0"
      ]
     },
     "execution_count": 87,
     "metadata": {},
     "output_type": "execute_result"
    }
   ],
   "source": [
    "pd.DataFrame(confusion_matrix(y_test, yhat_test))"
   ]
  },
  {
   "cell_type": "markdown",
   "metadata": {},
   "source": [
    "#### Won't use the above model as it doesn't predict draws, just hates them. Also, doesn't like predicting anything other than home wins... May be something to pursue in the future though"
   ]
  },
  {
   "cell_type": "code",
   "execution_count": 88,
   "metadata": {
    "ExecuteTime": {
     "end_time": "2019-09-29T11:46:08.934103Z",
     "start_time": "2019-09-29T11:46:08.721471Z"
    }
   },
   "outputs": [
    {
     "name": "stdout",
     "output_type": "stream",
     "text": [
      "0.5217391304347826\n",
      "0.5270805812417437\n"
     ]
    }
   ],
   "source": [
    "model = LogisticRegressionCV(solver='liblinear', multi_class='ovr', cv=5)\n",
    "\n",
    "model.fit(X_train, y_train)\n",
    "yhat_test = model.predict(X_test)\n",
    "log_reg_test = model.score(X_test, y_test)\n",
    "log_reg_cv = model.score(X_train, y_train)\n",
    "print(log_reg_test)\n",
    "print(log_reg_cv)"
   ]
  },
  {
   "cell_type": "code",
   "execution_count": 89,
   "metadata": {
    "ExecuteTime": {
     "end_time": "2019-09-29T11:46:10.204215Z",
     "start_time": "2019-09-29T11:46:10.194342Z"
    }
   },
   "outputs": [
    {
     "data": {
      "text/html": [
       "<div>\n",
       "<style scoped>\n",
       "    .dataframe tbody tr th:only-of-type {\n",
       "        vertical-align: middle;\n",
       "    }\n",
       "\n",
       "    .dataframe tbody tr th {\n",
       "        vertical-align: top;\n",
       "    }\n",
       "\n",
       "    .dataframe thead th {\n",
       "        text-align: right;\n",
       "    }\n",
       "</style>\n",
       "<table border=\"1\" class=\"dataframe\">\n",
       "  <thead>\n",
       "    <tr style=\"text-align: right;\">\n",
       "      <th></th>\n",
       "      <th>0</th>\n",
       "      <th>1</th>\n",
       "      <th>2</th>\n",
       "    </tr>\n",
       "  </thead>\n",
       "  <tbody>\n",
       "    <tr>\n",
       "      <th>0</th>\n",
       "      <td>80</td>\n",
       "      <td>9</td>\n",
       "      <td>33</td>\n",
       "    </tr>\n",
       "    <tr>\n",
       "      <th>1</th>\n",
       "      <td>14</td>\n",
       "      <td>28</td>\n",
       "      <td>34</td>\n",
       "    </tr>\n",
       "    <tr>\n",
       "      <th>2</th>\n",
       "      <td>23</td>\n",
       "      <td>8</td>\n",
       "      <td>24</td>\n",
       "    </tr>\n",
       "  </tbody>\n",
       "</table>\n",
       "</div>"
      ],
      "text/plain": [
       "    0   1   2\n",
       "0  80   9  33\n",
       "1  14  28  34\n",
       "2  23   8  24"
      ]
     },
     "execution_count": 89,
     "metadata": {},
     "output_type": "execute_result"
    }
   ],
   "source": [
    "pd.DataFrame(confusion_matrix(y_test, yhat_test))"
   ]
  },
  {
   "cell_type": "code",
   "execution_count": 90,
   "metadata": {
    "ExecuteTime": {
     "end_time": "2019-09-29T11:46:19.918624Z",
     "start_time": "2019-09-29T11:46:19.909258Z"
    },
    "scrolled": true
   },
   "outputs": [
    {
     "name": "stdout",
     "output_type": "stream",
     "text": [
      "              precision    recall  f1-score   support\n",
      "\n",
      "           0       0.68      0.66      0.67       122\n",
      "           1       0.62      0.37      0.46        76\n",
      "           2       0.26      0.44      0.33        55\n",
      "\n",
      "   micro avg       0.52      0.52      0.52       253\n",
      "   macro avg       0.52      0.49      0.49       253\n",
      "weighted avg       0.57      0.52      0.53       253\n",
      "\n"
     ]
    }
   ],
   "source": [
    "print(classification_report(y_test, yhat_test))"
   ]
  },
  {
   "cell_type": "code",
   "execution_count": 91,
   "metadata": {
    "ExecuteTime": {
     "end_time": "2019-09-29T11:46:33.746194Z",
     "start_time": "2019-09-29T11:46:33.426946Z"
    }
   },
   "outputs": [
    {
     "data": {
      "image/png": "[encoded data removed]",
      "text/plain": [
       "<Figure size 432x432 with 1 Axes>"
      ]
     },
     "metadata": {
      "image/png": {
       "height": 365,
       "width": 487
      },
      "needs_background": "light"
     },
     "output_type": "display_data"
    }
   ],
   "source": [
    "coefs_vars_model = pd.DataFrame({\n",
    "    'coef': model.coef_[0],\n",
    "    'variable': X.columns,\n",
    "    'abscoef': np.abs(model.coef_[0])\n",
    "})\n",
    "coefs_vars_model.sort_values('abscoef', ascending=False, inplace=True)\n",
    "coefs_vars_model.plot(kind='barh', x='variable', y='coef',\n",
    "                      color='b', figsize=(6, 6), label='Standard Model')\n",
    "plt.show()"
   ]
  },
  {
   "cell_type": "code",
   "execution_count": 112,
   "metadata": {
    "ExecuteTime": {
     "end_time": "2019-09-29T11:58:33.767541Z",
     "start_time": "2019-09-29T11:58:32.170463Z"
    }
   },
   "outputs": [
    {
     "name": "stdout",
     "output_type": "stream",
     "text": [
      "[4.03701726e+00 5.59081018e-02 1.00000000e-04]\n",
      "0.5217391304347826\n",
      "0.5284015852047557\n"
     ]
    }
   ],
   "source": [
    "lr_ridge = LogisticRegressionCV(\n",
    "    penalty='l2', Cs=100, cv=5, solver='liblinear', multi_class='auto')\n",
    "lr_ridge.fit(X_train, y_train)\n",
    "\n",
    "\n",
    "ridge_test = lr_ridge.score(X_test, y_test)\n",
    "ridge_cv = lr_ridge.score(X_train, y_train)\n",
    "\n",
    "print(lr_ridge.C_)\n",
    "print(ridge_test)\n",
    "print(ridge_cv)\n"
   ]
  },
  {
   "cell_type": "code",
   "execution_count": 226,
   "metadata": {
    "ExecuteTime": {
     "end_time": "2019-09-29T13:03:20.979854Z",
     "start_time": "2019-09-29T13:03:20.967203Z"
    }
   },
   "outputs": [
    {
     "data": {
      "text/html": [
       "<div>\n",
       "<style scoped>\n",
       "    .dataframe tbody tr th:only-of-type {\n",
       "        vertical-align: middle;\n",
       "    }\n",
       "\n",
       "    .dataframe tbody tr th {\n",
       "        vertical-align: top;\n",
       "    }\n",
       "\n",
       "    .dataframe thead th {\n",
       "        text-align: right;\n",
       "    }\n",
       "</style>\n",
       "<table border=\"1\" class=\"dataframe\">\n",
       "  <thead>\n",
       "    <tr style=\"text-align: right;\">\n",
       "      <th></th>\n",
       "      <th>0</th>\n",
       "      <th>1</th>\n",
       "      <th>2</th>\n",
       "    </tr>\n",
       "  </thead>\n",
       "  <tbody>\n",
       "    <tr>\n",
       "      <th>0</th>\n",
       "      <td>65</td>\n",
       "      <td>11</td>\n",
       "      <td>46</td>\n",
       "    </tr>\n",
       "    <tr>\n",
       "      <th>1</th>\n",
       "      <td>18</td>\n",
       "      <td>30</td>\n",
       "      <td>28</td>\n",
       "    </tr>\n",
       "    <tr>\n",
       "      <th>2</th>\n",
       "      <td>19</td>\n",
       "      <td>6</td>\n",
       "      <td>30</td>\n",
       "    </tr>\n",
       "  </tbody>\n",
       "</table>\n",
       "</div>"
      ],
      "text/plain": [
       "    0   1   2\n",
       "0  65  11  46\n",
       "1  18  30  28\n",
       "2  19   6  30"
      ]
     },
     "execution_count": 226,
     "metadata": {},
     "output_type": "execute_result"
    }
   ],
   "source": [
    "yhat_ridge = lr_ridge.predict(X_test)\n",
    "yhat_pp_ridge = lr_ridge.predict_proba(X_test)\n",
    "pd.DataFrame(confusion_matrix(y_test, yhat_ridge))"
   ]
  },
  {
   "cell_type": "code",
   "execution_count": 115,
   "metadata": {
    "ExecuteTime": {
     "end_time": "2019-09-29T11:59:52.969534Z",
     "start_time": "2019-09-29T11:59:52.941112Z"
    }
   },
   "outputs": [
    {
     "name": "stdout",
     "output_type": "stream",
     "text": [
      "              precision    recall  f1-score   support\n",
      "\n",
      "           0       0.68      0.66      0.67       122\n",
      "           1       0.62      0.37      0.46        76\n",
      "           2       0.26      0.44      0.33        55\n",
      "\n",
      "   micro avg       0.52      0.52      0.52       253\n",
      "   macro avg       0.52      0.49      0.49       253\n",
      "weighted avg       0.57      0.52      0.53       253\n",
      "\n"
     ]
    }
   ],
   "source": [
    "print(classification_report(y_test, yhat_ridge))"
   ]
  },
  {
   "cell_type": "code",
   "execution_count": 116,
   "metadata": {
    "ExecuteTime": {
     "end_time": "2019-09-29T11:59:54.724257Z",
     "start_time": "2019-09-29T11:59:54.378401Z"
    },
    "scrolled": false
   },
   "outputs": [
    {
     "data": {
      "image/png": "[encoded data removed]",
      "text/plain": [
       "<Figure size 432x432 with 1 Axes>"
      ]
     },
     "metadata": {
      "image/png": {
       "height": 365,
       "width": 487
      },
      "needs_background": "light"
     },
     "output_type": "display_data"
    }
   ],
   "source": [
    "coefs_vars_ridge = pd.DataFrame({\n",
    "    'coef': lr_ridge.coef_[0],\n",
    "    'variable': X.columns,\n",
    "    'abscoef': np.abs(lr_ridge.coef_[0])\n",
    "})\n",
    "coefs_vars_ridge.sort_values('abscoef', ascending=False, inplace=True)\n",
    "coefs_vars_ridge.plot(kind='barh', x='variable', y='coef',\n",
    "                      color='b', figsize=(6, 6), label='Ridge')\n",
    "plt.show()"
   ]
  },
  {
   "cell_type": "code",
   "execution_count": 117,
   "metadata": {
    "ExecuteTime": {
     "end_time": "2019-09-29T12:00:00.013572Z",
     "start_time": "2019-09-29T11:59:57.995081Z"
    }
   },
   "outputs": [],
   "source": [
    "from sklearn.model_selection import cross_val_score\n",
    "from sklearn.neighbors import KNeighborsClassifier\n",
    "from sklearn import metrics\n",
    "\n",
    "folds = 5\n",
    "max_neighbors = 65\n",
    "\n",
    "\n",
    "\n",
    "# plot test accuracy by number of neighbors:\n",
    "test_acc = []\n",
    "for i in range(1, int(max_neighbors)):\n",
    "    knn = KNeighborsClassifier(n_neighbors=i)\n",
    "    test_acc.append(np.mean(cross_val_score(knn, X_train, y_train, cv=folds)))"
   ]
  },
  {
   "cell_type": "code",
   "execution_count": 118,
   "metadata": {
    "ExecuteTime": {
     "end_time": "2019-09-29T12:00:00.339178Z",
     "start_time": "2019-09-29T12:00:00.015317Z"
    }
   },
   "outputs": [
    {
     "data": {
      "image/png": "[encoded data removed]",
      "text/plain": [
       "<Figure size 576x432 with 1 Axes>"
      ]
     },
     "metadata": {
      "image/png": {
       "height": 386,
       "width": 522
      },
      "needs_background": "light"
     },
     "output_type": "display_data"
    }
   ],
   "source": [
    "fig, ax = plt.subplots(figsize=(8,6))\n",
    "ax.plot(range(1, int(max_neighbors)), test_acc, lw=3.)\n",
    "ax.set_xlabel('k')\n",
    "ax.set_ylabel('accuracy')\n",
    "plt.show()"
   ]
  },
  {
   "cell_type": "code",
   "execution_count": 119,
   "metadata": {
    "ExecuteTime": {
     "end_time": "2019-09-29T12:00:04.207548Z",
     "start_time": "2019-09-29T12:00:04.192121Z"
    }
   },
   "outputs": [
    {
     "name": "stdout",
     "output_type": "stream",
     "text": [
      "0.5335968379446641\n",
      "0.5482934159837979\n"
     ]
    }
   ],
   "source": [
    "knn = KNeighborsClassifier(n_neighbors=63)\n",
    "knn.fit(X_train, y_train)\n",
    "y_pred_class = knn.predict(X_test)\n",
    "print(metrics.accuracy_score(y_test, y_pred_class))\n",
    "print(max(test_acc))\n"
   ]
  },
  {
   "cell_type": "code",
   "execution_count": 120,
   "metadata": {
    "ExecuteTime": {
     "end_time": "2019-09-29T12:00:05.163228Z",
     "start_time": "2019-09-29T12:00:05.115614Z"
    }
   },
   "outputs": [],
   "source": [
    "knn_test = knn.score(X_test, y_test)\n",
    "knn_cv = cross_val_score(knn, X_train, y_train, cv=5).mean()"
   ]
  },
  {
   "cell_type": "code",
   "execution_count": 228,
   "metadata": {
    "ExecuteTime": {
     "end_time": "2019-09-29T13:04:46.714811Z",
     "start_time": "2019-09-29T13:04:46.695017Z"
    }
   },
   "outputs": [
    {
     "data": {
      "text/html": [
       "<div>\n",
       "<style scoped>\n",
       "    .dataframe tbody tr th:only-of-type {\n",
       "        vertical-align: middle;\n",
       "    }\n",
       "\n",
       "    .dataframe tbody tr th {\n",
       "        vertical-align: top;\n",
       "    }\n",
       "\n",
       "    .dataframe thead th {\n",
       "        text-align: right;\n",
       "    }\n",
       "</style>\n",
       "<table border=\"1\" class=\"dataframe\">\n",
       "  <thead>\n",
       "    <tr style=\"text-align: right;\">\n",
       "      <th></th>\n",
       "      <th>0</th>\n",
       "      <th>1</th>\n",
       "      <th>2</th>\n",
       "    </tr>\n",
       "  </thead>\n",
       "  <tbody>\n",
       "    <tr>\n",
       "      <th>0</th>\n",
       "      <td>109</td>\n",
       "      <td>13</td>\n",
       "      <td>0</td>\n",
       "    </tr>\n",
       "    <tr>\n",
       "      <th>1</th>\n",
       "      <td>45</td>\n",
       "      <td>31</td>\n",
       "      <td>0</td>\n",
       "    </tr>\n",
       "    <tr>\n",
       "      <th>2</th>\n",
       "      <td>41</td>\n",
       "      <td>13</td>\n",
       "      <td>1</td>\n",
       "    </tr>\n",
       "  </tbody>\n",
       "</table>\n",
       "</div>"
      ],
      "text/plain": [
       "     0   1  2\n",
       "0  109  13  0\n",
       "1   45  31  0\n",
       "2   41  13  1"
      ]
     },
     "execution_count": 228,
     "metadata": {},
     "output_type": "execute_result"
    }
   ],
   "source": [
    "yhat_knn = knn.predict(X_test)\n",
    "pd.DataFrame(confusion_matrix(y_test, yhat_knn))"
   ]
  },
  {
   "cell_type": "code",
   "execution_count": 213,
   "metadata": {
    "ExecuteTime": {
     "end_time": "2019-09-29T12:49:58.037831Z",
     "start_time": "2019-09-29T12:49:58.034404Z"
    }
   },
   "outputs": [],
   "source": [
    "from sklearn import svm, linear_model, datasets"
   ]
  },
  {
   "cell_type": "code",
   "execution_count": 214,
   "metadata": {
    "ExecuteTime": {
     "end_time": "2019-09-29T12:49:58.922230Z",
     "start_time": "2019-09-29T12:49:58.452770Z"
    }
   },
   "outputs": [],
   "source": [
    "clf = svm.SVC(gamma='scale', probability=True)\n",
    "clf_cv = cross_val_score(clf, X_train, y_train, cv=5, scoring='accuracy').mean()\n",
    "clf_test = clf.fit(X_train, y_train).score(X_test, y_test)"
   ]
  },
  {
   "cell_type": "code",
   "execution_count": 215,
   "metadata": {
    "ExecuteTime": {
     "end_time": "2019-09-29T12:49:58.934647Z",
     "start_time": "2019-09-29T12:49:58.927949Z"
    }
   },
   "outputs": [
    {
     "data": {
      "text/plain": [
       "0.541501976284585"
      ]
     },
     "execution_count": 215,
     "metadata": {},
     "output_type": "execute_result"
    }
   ],
   "source": [
    "clf_test"
   ]
  },
  {
   "cell_type": "code",
   "execution_count": 227,
   "metadata": {
    "ExecuteTime": {
     "end_time": "2019-09-29T13:03:56.962660Z",
     "start_time": "2019-09-29T13:03:56.948530Z"
    }
   },
   "outputs": [
    {
     "data": {
      "text/html": [
       "<div>\n",
       "<style scoped>\n",
       "    .dataframe tbody tr th:only-of-type {\n",
       "        vertical-align: middle;\n",
       "    }\n",
       "\n",
       "    .dataframe tbody tr th {\n",
       "        vertical-align: top;\n",
       "    }\n",
       "\n",
       "    .dataframe thead th {\n",
       "        text-align: right;\n",
       "    }\n",
       "</style>\n",
       "<table border=\"1\" class=\"dataframe\">\n",
       "  <thead>\n",
       "    <tr style=\"text-align: right;\">\n",
       "      <th></th>\n",
       "      <th>0</th>\n",
       "      <th>1</th>\n",
       "      <th>2</th>\n",
       "    </tr>\n",
       "  </thead>\n",
       "  <tbody>\n",
       "    <tr>\n",
       "      <th>0</th>\n",
       "      <td>99</td>\n",
       "      <td>22</td>\n",
       "      <td>1</td>\n",
       "    </tr>\n",
       "    <tr>\n",
       "      <th>1</th>\n",
       "      <td>36</td>\n",
       "      <td>38</td>\n",
       "      <td>2</td>\n",
       "    </tr>\n",
       "    <tr>\n",
       "      <th>2</th>\n",
       "      <td>40</td>\n",
       "      <td>15</td>\n",
       "      <td>0</td>\n",
       "    </tr>\n",
       "  </tbody>\n",
       "</table>\n",
       "</div>"
      ],
      "text/plain": [
       "    0   1  2\n",
       "0  99  22  1\n",
       "1  36  38  2\n",
       "2  40  15  0"
      ]
     },
     "execution_count": 227,
     "metadata": {},
     "output_type": "execute_result"
    }
   ],
   "source": [
    "yhat_clf = clf.predict(X_test)\n",
    "pd.DataFrame(confusion_matrix(y_test, yhat_clf))"
   ]
  },
  {
   "cell_type": "code",
   "execution_count": 216,
   "metadata": {
    "ExecuteTime": {
     "end_time": "2019-09-29T12:49:59.373450Z",
     "start_time": "2019-09-29T12:49:59.365082Z"
    }
   },
   "outputs": [
    {
     "data": {
      "text/plain": [
       "<bound method BaseEstimator.get_params of SVC(C=1.0, cache_size=200, class_weight=None, coef0=0.0,\n",
       "  decision_function_shape='ovr', degree=3, gamma='scale', kernel='rbf',\n",
       "  max_iter=-1, probability=True, random_state=None, shrinking=True,\n",
       "  tol=0.001, verbose=False)>"
      ]
     },
     "execution_count": 216,
     "metadata": {},
     "output_type": "execute_result"
    }
   ],
   "source": [
    "clf.get_params"
   ]
  },
  {
   "cell_type": "code",
   "execution_count": 125,
   "metadata": {
    "ExecuteTime": {
     "end_time": "2019-09-29T12:01:17.583030Z",
     "start_time": "2019-09-29T12:00:07.798871Z"
    }
   },
   "outputs": [
    {
     "name": "stdout",
     "output_type": "stream",
     "text": [
      "Fitting 5 folds for each of 200 candidates, totalling 1000 fits\n"
     ]
    },
    {
     "name": "stderr",
     "output_type": "stream",
     "text": [
      "[Parallel(n_jobs=2)]: Using backend LokyBackend with 2 concurrent workers.\n",
      "[Parallel(n_jobs=2)]: Done  66 tasks      | elapsed:    5.8s\n",
      "[Parallel(n_jobs=2)]: Done 366 tasks      | elapsed:   24.0s\n",
      "[Parallel(n_jobs=2)]: Done 866 tasks      | elapsed:  1.0min\n",
      "[Parallel(n_jobs=2)]: Done 1000 out of 1000 | elapsed:  1.2min finished\n"
     ]
    },
    {
     "data": {
      "text/plain": [
       "GridSearchCV(cv=5, error_score='raise-deprecating',\n",
       "       estimator=SVC(C=1.0, cache_size=200, class_weight=None, coef0=0.0,\n",
       "  decision_function_shape='ovr', degree=3, gamma='scale', kernel='rbf',\n",
       "  max_iter=-1, probability=True, random_state=None, shrinking=True,\n",
       "  tol=0.001, verbose=False),\n",
       "       fit_params=None, iid=False, n_jobs=2,\n",
       "       param_grid={'gamma': array([1.00000e-05, 2.33572e-05, 5.45559e-05, 1.27427e-04, 2.97635e-04,\n",
       "       6.95193e-04, 1.62378e-03, 3.79269e-03, 8.85867e-03, 2.06914e-02,\n",
       "       4.83293e-02, 1.12884e-01, 2.63665e-01, 6.15848e-01, 1.43845e+00,\n",
       "       3.35982e+00, 7.84760e+00, 1.83298e+01, 4.28133e+01, 1.00000e+02]), 'C': array([  1.,  12.,  23.,  34.,  45.,  56.,  67.,  78.,  89., 100.]), 'kernel': ['rbf']},\n",
       "       pre_dispatch='2*n_jobs', refit=True, return_train_score=True,\n",
       "       scoring='accuracy', verbose=True)"
      ]
     },
     "execution_count": 125,
     "metadata": {},
     "output_type": "execute_result"
    }
   ],
   "source": [
    "from sklearn.model_selection import GridSearchCV\n",
    "\n",
    "\n",
    "gamma_range = np.logspace(-5, 2, 20)\n",
    "c = np.linspace(1,100,10)\n",
    "param_grid = dict(gamma=gamma_range, C=c, kernel=['rbf'])\n",
    "\n",
    "clf_grid = GridSearchCV(clf, param_grid, cv=5, scoring='accuracy',\n",
    "                    verbose=True, return_train_score=True, iid=False, n_jobs=2)\n",
    "clf_grid.fit(X_train, y_train)"
   ]
  },
  {
   "cell_type": "code",
   "execution_count": 126,
   "metadata": {
    "ExecuteTime": {
     "end_time": "2019-09-29T12:01:17.614563Z",
     "start_time": "2019-09-29T12:01:17.586154Z"
    },
    "scrolled": false
   },
   "outputs": [
    {
     "data": {
      "text/html": [
       "<div>\n",
       "<style scoped>\n",
       "    .dataframe tbody tr th:only-of-type {\n",
       "        vertical-align: middle;\n",
       "    }\n",
       "\n",
       "    .dataframe tbody tr th {\n",
       "        vertical-align: top;\n",
       "    }\n",
       "\n",
       "    .dataframe thead th {\n",
       "        text-align: right;\n",
       "    }\n",
       "</style>\n",
       "<table border=\"1\" class=\"dataframe\">\n",
       "  <thead>\n",
       "    <tr style=\"text-align: right;\">\n",
       "      <th></th>\n",
       "      <th>mean_fit_time</th>\n",
       "      <th>std_fit_time</th>\n",
       "      <th>mean_score_time</th>\n",
       "      <th>std_score_time</th>\n",
       "      <th>param_C</th>\n",
       "      <th>param_gamma</th>\n",
       "      <th>param_kernel</th>\n",
       "      <th>params</th>\n",
       "      <th>split0_test_score</th>\n",
       "      <th>split1_test_score</th>\n",
       "      <th>...</th>\n",
       "      <th>std_test_score</th>\n",
       "      <th>rank_test_score</th>\n",
       "      <th>split0_train_score</th>\n",
       "      <th>split1_train_score</th>\n",
       "      <th>split2_train_score</th>\n",
       "      <th>split3_train_score</th>\n",
       "      <th>split4_train_score</th>\n",
       "      <th>mean_train_score</th>\n",
       "      <th>std_train_score</th>\n",
       "      <th>gamma</th>\n",
       "    </tr>\n",
       "  </thead>\n",
       "  <tbody>\n",
       "    <tr>\n",
       "      <th>0</th>\n",
       "      <td>0.058257</td>\n",
       "      <td>0.001196</td>\n",
       "      <td>0.002785</td>\n",
       "      <td>0.000150</td>\n",
       "      <td>1</td>\n",
       "      <td>1e-05</td>\n",
       "      <td>rbf</td>\n",
       "      <td>{'C': 1.0, 'gamma': 1e-05, 'kernel': 'rbf'}</td>\n",
       "      <td>0.48366</td>\n",
       "      <td>0.480263</td>\n",
       "      <td>...</td>\n",
       "      <td>0.002027</td>\n",
       "      <td>84</td>\n",
       "      <td>0.483444</td>\n",
       "      <td>0.484298</td>\n",
       "      <td>0.483498</td>\n",
       "      <td>0.483498</td>\n",
       "      <td>0.482702</td>\n",
       "      <td>0.483488</td>\n",
       "      <td>0.000505</td>\n",
       "      <td>0.000010</td>\n",
       "    </tr>\n",
       "    <tr>\n",
       "      <th>1</th>\n",
       "      <td>0.072943</td>\n",
       "      <td>0.017148</td>\n",
       "      <td>0.004183</td>\n",
       "      <td>0.001613</td>\n",
       "      <td>1</td>\n",
       "      <td>2.33572e-05</td>\n",
       "      <td>rbf</td>\n",
       "      <td>{'C': 1.0, 'gamma': 2.3357214690901213e-05, 'k...</td>\n",
       "      <td>0.48366</td>\n",
       "      <td>0.480263</td>\n",
       "      <td>...</td>\n",
       "      <td>0.002027</td>\n",
       "      <td>84</td>\n",
       "      <td>0.483444</td>\n",
       "      <td>0.484298</td>\n",
       "      <td>0.483498</td>\n",
       "      <td>0.483498</td>\n",
       "      <td>0.482702</td>\n",
       "      <td>0.483488</td>\n",
       "      <td>0.000505</td>\n",
       "      <td>0.000023</td>\n",
       "    </tr>\n",
       "    <tr>\n",
       "      <th>2</th>\n",
       "      <td>0.072717</td>\n",
       "      <td>0.013617</td>\n",
       "      <td>0.002750</td>\n",
       "      <td>0.000207</td>\n",
       "      <td>1</td>\n",
       "      <td>5.45559e-05</td>\n",
       "      <td>rbf</td>\n",
       "      <td>{'C': 1.0, 'gamma': 5.4555947811685143e-05, 'k...</td>\n",
       "      <td>0.48366</td>\n",
       "      <td>0.480263</td>\n",
       "      <td>...</td>\n",
       "      <td>0.002027</td>\n",
       "      <td>84</td>\n",
       "      <td>0.483444</td>\n",
       "      <td>0.484298</td>\n",
       "      <td>0.483498</td>\n",
       "      <td>0.483498</td>\n",
       "      <td>0.482702</td>\n",
       "      <td>0.483488</td>\n",
       "      <td>0.000505</td>\n",
       "      <td>0.000055</td>\n",
       "    </tr>\n",
       "    <tr>\n",
       "      <th>3</th>\n",
       "      <td>0.060314</td>\n",
       "      <td>0.000773</td>\n",
       "      <td>0.002580</td>\n",
       "      <td>0.000092</td>\n",
       "      <td>1</td>\n",
       "      <td>0.000127427</td>\n",
       "      <td>rbf</td>\n",
       "      <td>{'C': 1.0, 'gamma': 0.00012742749857031334, 'k...</td>\n",
       "      <td>0.48366</td>\n",
       "      <td>0.480263</td>\n",
       "      <td>...</td>\n",
       "      <td>0.002027</td>\n",
       "      <td>84</td>\n",
       "      <td>0.483444</td>\n",
       "      <td>0.484298</td>\n",
       "      <td>0.483498</td>\n",
       "      <td>0.483498</td>\n",
       "      <td>0.482702</td>\n",
       "      <td>0.483488</td>\n",
       "      <td>0.000505</td>\n",
       "      <td>0.000127</td>\n",
       "    </tr>\n",
       "    <tr>\n",
       "      <th>4</th>\n",
       "      <td>0.060961</td>\n",
       "      <td>0.001538</td>\n",
       "      <td>0.003041</td>\n",
       "      <td>0.000873</td>\n",
       "      <td>1</td>\n",
       "      <td>0.000297635</td>\n",
       "      <td>rbf</td>\n",
       "      <td>{'C': 1.0, 'gamma': 0.00029763514416313193, 'k...</td>\n",
       "      <td>0.48366</td>\n",
       "      <td>0.480263</td>\n",
       "      <td>...</td>\n",
       "      <td>0.002027</td>\n",
       "      <td>84</td>\n",
       "      <td>0.483444</td>\n",
       "      <td>0.484298</td>\n",
       "      <td>0.483498</td>\n",
       "      <td>0.483498</td>\n",
       "      <td>0.482702</td>\n",
       "      <td>0.483488</td>\n",
       "      <td>0.000505</td>\n",
       "      <td>0.000298</td>\n",
       "    </tr>\n",
       "  </tbody>\n",
       "</table>\n",
       "<p>5 rows × 24 columns</p>\n",
       "</div>"
      ],
      "text/plain": [
       "   mean_fit_time  std_fit_time  mean_score_time  std_score_time param_C  \\\n",
       "0       0.058257      0.001196         0.002785        0.000150       1   \n",
       "1       0.072943      0.017148         0.004183        0.001613       1   \n",
       "2       0.072717      0.013617         0.002750        0.000207       1   \n",
       "3       0.060314      0.000773         0.002580        0.000092       1   \n",
       "4       0.060961      0.001538         0.003041        0.000873       1   \n",
       "\n",
       "   param_gamma param_kernel  \\\n",
       "0        1e-05          rbf   \n",
       "1  2.33572e-05          rbf   \n",
       "2  5.45559e-05          rbf   \n",
       "3  0.000127427          rbf   \n",
       "4  0.000297635          rbf   \n",
       "\n",
       "                                              params  split0_test_score  \\\n",
       "0        {'C': 1.0, 'gamma': 1e-05, 'kernel': 'rbf'}            0.48366   \n",
       "1  {'C': 1.0, 'gamma': 2.3357214690901213e-05, 'k...            0.48366   \n",
       "2  {'C': 1.0, 'gamma': 5.4555947811685143e-05, 'k...            0.48366   \n",
       "3  {'C': 1.0, 'gamma': 0.00012742749857031334, 'k...            0.48366   \n",
       "4  {'C': 1.0, 'gamma': 0.00029763514416313193, 'k...            0.48366   \n",
       "\n",
       "   split1_test_score    ...     std_test_score  rank_test_score  \\\n",
       "0           0.480263    ...           0.002027               84   \n",
       "1           0.480263    ...           0.002027               84   \n",
       "2           0.480263    ...           0.002027               84   \n",
       "3           0.480263    ...           0.002027               84   \n",
       "4           0.480263    ...           0.002027               84   \n",
       "\n",
       "   split0_train_score  split1_train_score  split2_train_score  \\\n",
       "0            0.483444            0.484298            0.483498   \n",
       "1            0.483444            0.484298            0.483498   \n",
       "2            0.483444            0.484298            0.483498   \n",
       "3            0.483444            0.484298            0.483498   \n",
       "4            0.483444            0.484298            0.483498   \n",
       "\n",
       "   split3_train_score  split4_train_score  mean_train_score  std_train_score  \\\n",
       "0            0.483498            0.482702          0.483488         0.000505   \n",
       "1            0.483498            0.482702          0.483488         0.000505   \n",
       "2            0.483498            0.482702          0.483488         0.000505   \n",
       "3            0.483498            0.482702          0.483488         0.000505   \n",
       "4            0.483498            0.482702          0.483488         0.000505   \n",
       "\n",
       "      gamma  \n",
       "0  0.000010  \n",
       "1  0.000023  \n",
       "2  0.000055  \n",
       "3  0.000127  \n",
       "4  0.000298  \n",
       "\n",
       "[5 rows x 24 columns]"
      ]
     },
     "execution_count": 126,
     "metadata": {},
     "output_type": "execute_result"
    }
   ],
   "source": [
    "clf_grid_results = pd.DataFrame(clf_grid.cv_results_)\n",
    "clf_grid_results['gamma'] = [x['gamma'] for x in clf_grid_results.params.values]\n",
    "clf_grid_results.head()"
   ]
  },
  {
   "cell_type": "code",
   "execution_count": 127,
   "metadata": {
    "ExecuteTime": {
     "end_time": "2019-09-29T12:01:17.622846Z",
     "start_time": "2019-09-29T12:01:17.616205Z"
    }
   },
   "outputs": [
    {
     "data": {
      "text/plain": [
       "{'C': 34.0, 'gamma': 0.00029763514416313193, 'kernel': 'rbf'}"
      ]
     },
     "execution_count": 127,
     "metadata": {},
     "output_type": "execute_result"
    }
   ],
   "source": [
    "clf_grid.best_params_"
   ]
  },
  {
   "cell_type": "code",
   "execution_count": 128,
   "metadata": {
    "ExecuteTime": {
     "end_time": "2019-09-29T12:01:17.648247Z",
     "start_time": "2019-09-29T12:01:17.626202Z"
    },
    "scrolled": true
   },
   "outputs": [],
   "source": [
    "\n",
    "clf_grid_cv = clf_grid.score(X_train, y_train)\n",
    "clf_grid_test = clf_grid.score(X_test, y_test)"
   ]
  },
  {
   "cell_type": "code",
   "execution_count": 129,
   "metadata": {
    "ExecuteTime": {
     "end_time": "2019-09-29T12:01:17.655819Z",
     "start_time": "2019-09-29T12:01:17.650684Z"
    }
   },
   "outputs": [
    {
     "data": {
      "text/plain": [
       "0.5533596837944664"
      ]
     },
     "execution_count": 129,
     "metadata": {},
     "output_type": "execute_result"
    }
   ],
   "source": [
    "clf_grid_test"
   ]
  },
  {
   "cell_type": "code",
   "execution_count": 229,
   "metadata": {
    "ExecuteTime": {
     "end_time": "2019-09-29T13:05:16.132062Z",
     "start_time": "2019-09-29T13:05:16.117573Z"
    }
   },
   "outputs": [
    {
     "data": {
      "text/html": [
       "<div>\n",
       "<style scoped>\n",
       "    .dataframe tbody tr th:only-of-type {\n",
       "        vertical-align: middle;\n",
       "    }\n",
       "\n",
       "    .dataframe tbody tr th {\n",
       "        vertical-align: top;\n",
       "    }\n",
       "\n",
       "    .dataframe thead th {\n",
       "        text-align: right;\n",
       "    }\n",
       "</style>\n",
       "<table border=\"1\" class=\"dataframe\">\n",
       "  <thead>\n",
       "    <tr style=\"text-align: right;\">\n",
       "      <th></th>\n",
       "      <th>0</th>\n",
       "      <th>1</th>\n",
       "      <th>2</th>\n",
       "    </tr>\n",
       "  </thead>\n",
       "  <tbody>\n",
       "    <tr>\n",
       "      <th>0</th>\n",
       "      <td>99</td>\n",
       "      <td>23</td>\n",
       "      <td>0</td>\n",
       "    </tr>\n",
       "    <tr>\n",
       "      <th>1</th>\n",
       "      <td>41</td>\n",
       "      <td>35</td>\n",
       "      <td>0</td>\n",
       "    </tr>\n",
       "    <tr>\n",
       "      <th>2</th>\n",
       "      <td>43</td>\n",
       "      <td>12</td>\n",
       "      <td>0</td>\n",
       "    </tr>\n",
       "  </tbody>\n",
       "</table>\n",
       "</div>"
      ],
      "text/plain": [
       "    0   1  2\n",
       "0  99  23  0\n",
       "1  41  35  0\n",
       "2  43  12  0"
      ]
     },
     "execution_count": 229,
     "metadata": {},
     "output_type": "execute_result"
    }
   ],
   "source": [
    "yhat_clf_grid = clf_grid.predict(X_test)\n",
    "pd.DataFrame(confusion_matrix(y_test, yhat_clf_grid))"
   ]
  },
  {
   "cell_type": "code",
   "execution_count": 139,
   "metadata": {
    "ExecuteTime": {
     "end_time": "2019-09-29T12:02:57.924526Z",
     "start_time": "2019-09-29T12:02:57.878198Z"
    }
   },
   "outputs": [],
   "source": [
    "from sklearn.tree import DecisionTreeClassifier\n",
    "from sklearn.ensemble import BaggingClassifier\n",
    "from sklearn.ensemble import RandomForestClassifier"
   ]
  },
  {
   "cell_type": "code",
   "execution_count": 140,
   "metadata": {
    "ExecuteTime": {
     "end_time": "2019-09-29T12:02:58.257847Z",
     "start_time": "2019-09-29T12:02:58.166632Z"
    }
   },
   "outputs": [
    {
     "data": {
      "text/plain": [
       "BaggingClassifier(base_estimator=DecisionTreeClassifier(class_weight=None, criterion='gini', max_depth=None,\n",
       "            max_features=None, max_leaf_nodes=None,\n",
       "            min_impurity_decrease=0.0, min_impurity_split=None,\n",
       "            min_samples_leaf=1, min_samples_split=2,\n",
       "            min_weight_fraction_leaf=0.0, presort=False, random_state=None,\n",
       "            splitter='best'),\n",
       "         bootstrap=True, bootstrap_features=False, max_features=0.5,\n",
       "         max_samples=0.5, n_estimators=50, n_jobs=None, oob_score=True,\n",
       "         random_state=None, verbose=0, warm_start=False)"
      ]
     },
     "execution_count": 140,
     "metadata": {},
     "output_type": "execute_result"
    }
   ],
   "source": [
    "\n",
    "DT = DecisionTreeClassifier()\n",
    "bc = BaggingClassifier(base_estimator=DT,\n",
    "                       n_estimators=50,\n",
    "                       max_features=0.5,\n",
    "                       max_samples=0.5,\n",
    "                       oob_score=True)\n",
    "\n",
    "\n",
    "bc.fit(X_train, y_train)"
   ]
  },
  {
   "cell_type": "code",
   "execution_count": 141,
   "metadata": {
    "ExecuteTime": {
     "end_time": "2019-09-29T12:03:00.098938Z",
     "start_time": "2019-09-29T12:02:59.750862Z"
    }
   },
   "outputs": [],
   "source": [
    "bc_cv = cross_val_score(bc, X_train, y_train, cv=5).mean()"
   ]
  },
  {
   "cell_type": "code",
   "execution_count": 142,
   "metadata": {
    "ExecuteTime": {
     "end_time": "2019-09-29T12:03:00.309385Z",
     "start_time": "2019-09-29T12:03:00.298472Z"
    }
   },
   "outputs": [],
   "source": [
    "bc_test = bc.score(X_test, y_test)"
   ]
  },
  {
   "cell_type": "code",
   "execution_count": 230,
   "metadata": {
    "ExecuteTime": {
     "end_time": "2019-09-29T13:05:40.529911Z",
     "start_time": "2019-09-29T13:05:40.510885Z"
    }
   },
   "outputs": [
    {
     "data": {
      "text/html": [
       "<div>\n",
       "<style scoped>\n",
       "    .dataframe tbody tr th:only-of-type {\n",
       "        vertical-align: middle;\n",
       "    }\n",
       "\n",
       "    .dataframe tbody tr th {\n",
       "        vertical-align: top;\n",
       "    }\n",
       "\n",
       "    .dataframe thead th {\n",
       "        text-align: right;\n",
       "    }\n",
       "</style>\n",
       "<table border=\"1\" class=\"dataframe\">\n",
       "  <thead>\n",
       "    <tr style=\"text-align: right;\">\n",
       "      <th></th>\n",
       "      <th>0</th>\n",
       "      <th>1</th>\n",
       "      <th>2</th>\n",
       "    </tr>\n",
       "  </thead>\n",
       "  <tbody>\n",
       "    <tr>\n",
       "      <th>0</th>\n",
       "      <td>118</td>\n",
       "      <td>4</td>\n",
       "      <td>0</td>\n",
       "    </tr>\n",
       "    <tr>\n",
       "      <th>1</th>\n",
       "      <td>17</td>\n",
       "      <td>55</td>\n",
       "      <td>4</td>\n",
       "    </tr>\n",
       "    <tr>\n",
       "      <th>2</th>\n",
       "      <td>17</td>\n",
       "      <td>5</td>\n",
       "      <td>33</td>\n",
       "    </tr>\n",
       "  </tbody>\n",
       "</table>\n",
       "</div>"
      ],
      "text/plain": [
       "     0   1   2\n",
       "0  118   4   0\n",
       "1   17  55   4\n",
       "2   17   5  33"
      ]
     },
     "execution_count": 230,
     "metadata": {},
     "output_type": "execute_result"
    }
   ],
   "source": [
    "yhat_bc = bc.predict(X_test)\n",
    "pd.DataFrame(confusion_matrix(y_test, yhat_bc))"
   ]
  },
  {
   "cell_type": "code",
   "execution_count": 143,
   "metadata": {
    "ExecuteTime": {
     "end_time": "2019-09-29T12:03:01.651958Z",
     "start_time": "2019-09-29T12:03:01.648429Z"
    }
   },
   "outputs": [],
   "source": [
    "from sklearn.ensemble import AdaBoostClassifier, AdaBoostRegressor, GradientBoostingClassifier, GradientBoostingRegressor\n",
    "from sklearn.tree import DecisionTreeClassifier, DecisionTreeRegressor\n",
    "from sklearn import datasets\n",
    "from sklearn.model_selection import cross_val_score, train_test_split\n",
    "from sklearn.metrics import accuracy_score, r2_score, mean_squared_error"
   ]
  },
  {
   "cell_type": "code",
   "execution_count": 144,
   "metadata": {
    "ExecuteTime": {
     "end_time": "2019-09-29T12:03:16.314367Z",
     "start_time": "2019-09-29T12:03:01.827487Z"
    }
   },
   "outputs": [],
   "source": [
    "gradboo_model = GradientBoostingClassifier(n_estimators=1000,\n",
    "                                   criterion='mse',\n",
    "                                   loss='deviance',\n",
    "                                   max_depth=3,\n",
    "                                   #learning_rate=1.0,\n",
    "                                   random_state=1,\n",
    "                                   min_samples_split=4)\n",
    "gradboo_model.fit(X_train, y_train)\n",
    "\n",
    "\n",
    "gradboo_cv = cross_val_score(gradboo_model, X_train, y_train, cv=5).mean()\n",
    "gradboo_test = gradboo_model.score(X_test, y_test)"
   ]
  },
  {
   "cell_type": "code",
   "execution_count": 145,
   "metadata": {
    "ExecuteTime": {
     "end_time": "2019-09-29T12:03:19.232260Z",
     "start_time": "2019-09-29T12:03:18.033390Z"
    }
   },
   "outputs": [
    {
     "name": "stdout",
     "output_type": "stream",
     "text": [
      "0    0.525692\n",
      "1    0.573123\n",
      "2    0.573123\n",
      "3    0.577075\n",
      "4    0.573123\n",
      "dtype: float64\n"
     ]
    },
    {
     "data": {
      "image/png": "[encoded data removed]",
      "text/plain": [
       "<Figure size 432x288 with 1 Axes>"
      ]
     },
     "metadata": {
      "image/png": {
       "height": 277,
       "width": 414
      },
      "needs_background": "light"
     },
     "output_type": "display_data"
    }
   ],
   "source": [
    "scores = pd.DataFrame(gradboo_model.staged_predict(X_test)).T.apply(\n",
    "    lambda x: accuracy_score(y_test, x), axis=0)\n",
    "print(scores.head())\n",
    "scores.plot()\n",
    "plt.xlabel('iteration')\n",
    "plt.ylabel('score')\n",
    "plt.show()"
   ]
  },
  {
   "cell_type": "code",
   "execution_count": 231,
   "metadata": {
    "ExecuteTime": {
     "end_time": "2019-09-29T13:07:31.354782Z",
     "start_time": "2019-09-29T13:07:31.287893Z"
    }
   },
   "outputs": [
    {
     "data": {
      "text/html": [
       "<div>\n",
       "<style scoped>\n",
       "    .dataframe tbody tr th:only-of-type {\n",
       "        vertical-align: middle;\n",
       "    }\n",
       "\n",
       "    .dataframe tbody tr th {\n",
       "        vertical-align: top;\n",
       "    }\n",
       "\n",
       "    .dataframe thead th {\n",
       "        text-align: right;\n",
       "    }\n",
       "</style>\n",
       "<table border=\"1\" class=\"dataframe\">\n",
       "  <thead>\n",
       "    <tr style=\"text-align: right;\">\n",
       "      <th></th>\n",
       "      <th>0</th>\n",
       "      <th>1</th>\n",
       "      <th>2</th>\n",
       "    </tr>\n",
       "  </thead>\n",
       "  <tbody>\n",
       "    <tr>\n",
       "      <th>0</th>\n",
       "      <td>100</td>\n",
       "      <td>11</td>\n",
       "      <td>11</td>\n",
       "    </tr>\n",
       "    <tr>\n",
       "      <th>1</th>\n",
       "      <td>16</td>\n",
       "      <td>53</td>\n",
       "      <td>7</td>\n",
       "    </tr>\n",
       "    <tr>\n",
       "      <th>2</th>\n",
       "      <td>15</td>\n",
       "      <td>5</td>\n",
       "      <td>35</td>\n",
       "    </tr>\n",
       "  </tbody>\n",
       "</table>\n",
       "</div>"
      ],
      "text/plain": [
       "     0   1   2\n",
       "0  100  11  11\n",
       "1   16  53   7\n",
       "2   15   5  35"
      ]
     },
     "execution_count": 231,
     "metadata": {},
     "output_type": "execute_result"
    }
   ],
   "source": [
    "yhat_gradboo = gradboo_model.predict(X_test)\n",
    "pd.DataFrame(confusion_matrix(y_test, yhat_gradboo))"
   ]
  },
  {
   "cell_type": "code",
   "execution_count": 146,
   "metadata": {
    "ExecuteTime": {
     "end_time": "2019-09-29T12:03:37.201558Z",
     "start_time": "2019-09-29T12:03:37.194523Z"
    }
   },
   "outputs": [
    {
     "data": {
      "text/plain": [
       "<bound method BaseEstimator.get_params of GradientBoostingClassifier(criterion='mse', init=None, learning_rate=0.1,\n",
       "              loss='deviance', max_depth=3, max_features=None,\n",
       "              max_leaf_nodes=None, min_impurity_decrease=0.0,\n",
       "              min_impurity_split=None, min_samples_leaf=1,\n",
       "              min_samples_split=4, min_weight_fraction_leaf=0.0,\n",
       "              n_estimators=1000, n_iter_no_change=None, presort='auto',\n",
       "              random_state=1, subsample=1.0, tol=0.0001,\n",
       "              validation_fraction=0.1, verbose=0, warm_start=False)>"
      ]
     },
     "execution_count": 146,
     "metadata": {},
     "output_type": "execute_result"
    }
   ],
   "source": [
    "gradboo_model.get_params"
   ]
  },
  {
   "cell_type": "code",
   "execution_count": 147,
   "metadata": {
    "ExecuteTime": {
     "end_time": "2019-09-29T12:03:37.833007Z",
     "start_time": "2019-09-29T12:03:37.828839Z"
    }
   },
   "outputs": [],
   "source": [
    "params = {'n_estimators':[100,10000,100],\n",
    "          'max_depth':[3,4,5],\n",
    "          'min_samples_split':[2,4,6]\n",
    "          }\n",
    "\n",
    "grad_grid = GridSearchCV(gradboo_model, params, cv=5, n_jobs=2, verbose=1)"
   ]
  },
  {
   "cell_type": "code",
   "execution_count": 148,
   "metadata": {
    "ExecuteTime": {
     "end_time": "2019-09-29T12:09:00.235851Z",
     "start_time": "2019-09-29T12:03:38.592526Z"
    }
   },
   "outputs": [
    {
     "name": "stdout",
     "output_type": "stream",
     "text": [
      "Fitting 5 folds for each of 27 candidates, totalling 135 fits\n"
     ]
    },
    {
     "name": "stderr",
     "output_type": "stream",
     "text": [
      "[Parallel(n_jobs=2)]: Using backend LokyBackend with 2 concurrent workers.\n",
      "[Parallel(n_jobs=2)]: Done  46 tasks      | elapsed:  1.7min\n",
      "[Parallel(n_jobs=2)]: Done 135 out of 135 | elapsed:  5.4min finished\n",
      "/anaconda3/lib/python3.7/site-packages/sklearn/model_selection/_search.py:841: DeprecationWarning: The default of the `iid` parameter will change from True to False in version 0.22 and will be removed in 0.24. This will change numeric results when test-set sizes are unequal.\n",
      "  DeprecationWarning)\n"
     ]
    },
    {
     "data": {
      "text/plain": [
       "GridSearchCV(cv=5, error_score='raise-deprecating',\n",
       "       estimator=GradientBoostingClassifier(criterion='mse', init=None, learning_rate=0.1,\n",
       "              loss='deviance', max_depth=3, max_features=None,\n",
       "              max_leaf_nodes=None, min_impurity_decrease=0.0,\n",
       "              min_impurity_split=None, min_samples_leaf=1,\n",
       "              min_samples_split=...te=1, subsample=1.0, tol=0.0001,\n",
       "              validation_fraction=0.1, verbose=0, warm_start=False),\n",
       "       fit_params=None, iid='warn', n_jobs=2,\n",
       "       param_grid={'n_estimators': [100, 10000, 100], 'max_depth': [3, 4, 5], 'min_samples_split': [2, 4, 6]},\n",
       "       pre_dispatch='2*n_jobs', refit=True, return_train_score='warn',\n",
       "       scoring=None, verbose=1)"
      ]
     },
     "execution_count": 148,
     "metadata": {},
     "output_type": "execute_result"
    }
   ],
   "source": [
    "grad_grid.fit(X_train, y_train)"
   ]
  },
  {
   "cell_type": "code",
   "execution_count": 149,
   "metadata": {
    "ExecuteTime": {
     "end_time": "2019-09-29T12:09:02.622879Z",
     "start_time": "2019-09-29T12:09:02.616453Z"
    }
   },
   "outputs": [
    {
     "data": {
      "text/plain": [
       "{'max_depth': 3, 'min_samples_split': 4, 'n_estimators': 100}"
      ]
     },
     "execution_count": 149,
     "metadata": {},
     "output_type": "execute_result"
    }
   ],
   "source": [
    "grad_grid.best_params_"
   ]
  },
  {
   "cell_type": "code",
   "execution_count": 190,
   "metadata": {
    "ExecuteTime": {
     "end_time": "2019-09-29T12:30:51.941183Z",
     "start_time": "2019-09-29T12:30:51.931473Z"
    }
   },
   "outputs": [],
   "source": [
    "grad_grid_cv = grad_grid.score(X_test, y_test)"
   ]
  },
  {
   "cell_type": "code",
   "execution_count": 191,
   "metadata": {
    "ExecuteTime": {
     "end_time": "2019-09-29T12:30:52.068955Z",
     "start_time": "2019-09-29T12:30:52.060878Z"
    }
   },
   "outputs": [],
   "source": [
    "grad_grid_test = grad_grid.score(X_test, y_test)"
   ]
  },
  {
   "cell_type": "code",
   "execution_count": 237,
   "metadata": {
    "ExecuteTime": {
     "end_time": "2019-09-29T13:11:36.511253Z",
     "start_time": "2019-09-29T13:11:36.498432Z"
    }
   },
   "outputs": [
    {
     "data": {
      "text/html": [
       "<div>\n",
       "<style scoped>\n",
       "    .dataframe tbody tr th:only-of-type {\n",
       "        vertical-align: middle;\n",
       "    }\n",
       "\n",
       "    .dataframe tbody tr th {\n",
       "        vertical-align: top;\n",
       "    }\n",
       "\n",
       "    .dataframe thead th {\n",
       "        text-align: right;\n",
       "    }\n",
       "</style>\n",
       "<table border=\"1\" class=\"dataframe\">\n",
       "  <thead>\n",
       "    <tr style=\"text-align: right;\">\n",
       "      <th></th>\n",
       "      <th>0</th>\n",
       "      <th>1</th>\n",
       "      <th>2</th>\n",
       "    </tr>\n",
       "  </thead>\n",
       "  <tbody>\n",
       "    <tr>\n",
       "      <th>0</th>\n",
       "      <td>104</td>\n",
       "      <td>11</td>\n",
       "      <td>7</td>\n",
       "    </tr>\n",
       "    <tr>\n",
       "      <th>1</th>\n",
       "      <td>29</td>\n",
       "      <td>43</td>\n",
       "      <td>4</td>\n",
       "    </tr>\n",
       "    <tr>\n",
       "      <th>2</th>\n",
       "      <td>24</td>\n",
       "      <td>6</td>\n",
       "      <td>25</td>\n",
       "    </tr>\n",
       "  </tbody>\n",
       "</table>\n",
       "</div>"
      ],
      "text/plain": [
       "     0   1   2\n",
       "0  104  11   7\n",
       "1   29  43   4\n",
       "2   24   6  25"
      ]
     },
     "execution_count": 237,
     "metadata": {},
     "output_type": "execute_result"
    }
   ],
   "source": [
    "yhat_gradgrid = grad_grid.predict(X_test)\n",
    "pd.DataFrame(confusion_matrix(y_test, yhat_gradgrid))"
   ]
  },
  {
   "cell_type": "markdown",
   "metadata": {},
   "source": [
    "### Quick check to see what the accuracy is like across all my X!"
   ]
  },
  {
   "cell_type": "code",
   "execution_count": 152,
   "metadata": {
    "ExecuteTime": {
     "end_time": "2019-09-29T12:09:04.932826Z",
     "start_time": "2019-09-29T12:09:04.926967Z"
    }
   },
   "outputs": [],
   "source": [
    "lr_preds = pd.DataFrame(model.predict_proba(X), columns=['HomeWin', 'AwayWin', 'Draw'])"
   ]
  },
  {
   "cell_type": "code",
   "execution_count": 153,
   "metadata": {
    "ExecuteTime": {
     "end_time": "2019-09-29T12:09:05.144650Z",
     "start_time": "2019-09-29T12:09:05.117541Z"
    }
   },
   "outputs": [],
   "source": [
    "knn_preds = pd.DataFrame(knn.predict_proba(X), columns=['HomeWin', 'AwayWin', 'Draw'])"
   ]
  },
  {
   "cell_type": "code",
   "execution_count": 154,
   "metadata": {
    "ExecuteTime": {
     "end_time": "2019-09-29T12:09:05.284973Z",
     "start_time": "2019-09-29T12:09:05.279898Z"
    }
   },
   "outputs": [],
   "source": [
    "ridge_preds = pd.DataFrame(lr_ridge.predict_proba(X), columns=['HomeWin', 'AwayWin', 'Draw'])"
   ]
  },
  {
   "cell_type": "code",
   "execution_count": 220,
   "metadata": {
    "ExecuteTime": {
     "end_time": "2019-09-29T12:50:16.636013Z",
     "start_time": "2019-09-29T12:50:16.607129Z"
    }
   },
   "outputs": [],
   "source": [
    "svc_preds = pd.DataFrame(clf.predict_proba(X), columns=['HomeWin', 'AwayWin', 'Draw'])"
   ]
  },
  {
   "cell_type": "code",
   "execution_count": 157,
   "metadata": {
    "ExecuteTime": {
     "end_time": "2019-09-29T12:09:05.968781Z",
     "start_time": "2019-09-29T12:09:05.941577Z"
    }
   },
   "outputs": [],
   "source": [
    "svc_grid_preds = pd.DataFrame(clf_grid.predict_proba(X), columns=['HomeWin', 'AwayWin', 'Draw'])"
   ]
  },
  {
   "cell_type": "code",
   "execution_count": 159,
   "metadata": {
    "ExecuteTime": {
     "end_time": "2019-09-29T12:09:21.762852Z",
     "start_time": "2019-09-29T12:09:21.747990Z"
    }
   },
   "outputs": [],
   "source": [
    "bc_preds = pd.DataFrame(bc.predict_proba(X), columns=['HomeWin', 'AwayWin', 'Draw'])"
   ]
  },
  {
   "cell_type": "code",
   "execution_count": 160,
   "metadata": {
    "ExecuteTime": {
     "end_time": "2019-09-29T12:09:22.374410Z",
     "start_time": "2019-09-29T12:09:22.335894Z"
    },
    "scrolled": true
   },
   "outputs": [],
   "source": [
    "gradboo_preds = pd.DataFrame(gradboo_model.predict_proba(X), columns=['HomeWin', 'AwayWin', 'Draw'])"
   ]
  },
  {
   "cell_type": "code",
   "execution_count": 161,
   "metadata": {
    "ExecuteTime": {
     "end_time": "2019-09-29T12:09:23.045455Z",
     "start_time": "2019-09-29T12:09:23.024471Z"
    }
   },
   "outputs": [],
   "source": [
    "gradgrid_preds = pd.DataFrame(grad_grid.predict_proba(X), columns=['HomeWin', 'AwayWin', 'Draw'])"
   ]
  },
  {
   "cell_type": "code",
   "execution_count": 199,
   "metadata": {
    "ExecuteTime": {
     "end_time": "2019-09-29T12:48:12.615449Z",
     "start_time": "2019-09-29T12:48:08.532659Z"
    }
   },
   "outputs": [
    {
     "name": "stderr",
     "output_type": "stream",
     "text": [
      "/anaconda3/lib/python3.7/site-packages/numpy/core/fromnumeric.py:51: FutureWarning: 'argmax' is deprecated, use 'idxmax' instead. The behavior of 'argmax'\n",
      "will be corrected to return the positional maximum in the future.\n",
      "Use 'series.values.argmax' to get the position of the maximum now.\n",
      "  return getattr(obj, method)(*args, **kwds)\n"
     ]
    }
   ],
   "source": [
    "# looping tester\n",
    "\n",
    "model_preddies = [lr_preds, ridge_preds, knn_preds, svc_preds, bc_preds, gradboo_preds, svc_grid_preds,\n",
    "                 gradgrid_preds]\n",
    "\n",
    "results = []\n",
    "\n",
    "for mod in model_preddies:\n",
    "    \n",
    "    orig_df = pd.read_csv('csv/new_df.csv')\n",
    "    orig_df = pd.concat([orig_df, mod], axis=1)\n",
    "\n",
    "    checkywecky = []\n",
    "    for i in range(len(orig_df)):\n",
    "        checkywecky.append(np.argmax(orig_df[['HomeWin', 'Draw', 'AwayWin']].iloc[i]))\n",
    "\n",
    "    results.append(sum([1 if j==n else 0 for j,n in \n",
    "         zip([0 if i=='HomeWin' else 1 if i=='AwayWin' else 2 for i in checkywecky], \n",
    "             orig_df['FTR'])])/1010)\n",
    "    "
   ]
  },
  {
   "cell_type": "code",
   "execution_count": 192,
   "metadata": {
    "ExecuteTime": {
     "end_time": "2019-09-29T12:30:59.280140Z",
     "start_time": "2019-09-29T12:30:59.268266Z"
    }
   },
   "outputs": [],
   "source": [
    "models_df = pd.DataFrame([results,\n",
    "               [log_reg_test, ridge_test, knn_test, clf_test, bc_test, gradboo_test, clf_grid_test, \n",
    "                grad_grid_test],\n",
    "               [log_reg_cv, ridge_cv, knn_cv, clf_cv, bc_cv, gradboo_cv, clf_grid_cv,\n",
    "               grad_grid_cv]], \n",
    "                         columns=['LogReg', 'Ridge', 'KNN','SVC', 'SVC_Grad',\n",
    "                             'BaggClass', 'GradBoost', 'GradGrid'],\n",
    "            index=['money_maker', 'test', 'cv']).T.sort_values(by='money_maker', ascending=False)"
   ]
  },
  {
   "cell_type": "code",
   "execution_count": 193,
   "metadata": {
    "ExecuteTime": {
     "end_time": "2019-09-29T12:31:02.531168Z",
     "start_time": "2019-09-29T12:31:01.582913Z"
    }
   },
   "outputs": [
    {
     "data": {
      "image/png": "[encoded data removed]",
      "text/plain": [
       "<Figure size 1080x864 with 1 Axes>"
      ]
     },
     "metadata": {
      "image/png": {
       "height": 756,
       "width": 883
      },
      "needs_background": "light"
     },
     "output_type": "display_data"
    }
   ],
   "source": [
    "from matplotlib import pyplot as plt\n",
    "models_df.drop(columns=['money_maker']).plot(kind='bar', figsize=[15,12])\n",
    "plt.savefig('model.png', bbox_inches='tight')"
   ]
  },
  {
   "cell_type": "code",
   "execution_count": 194,
   "metadata": {
    "ExecuteTime": {
     "end_time": "2019-09-29T12:31:05.204613Z",
     "start_time": "2019-09-29T12:31:04.465257Z"
    }
   },
   "outputs": [
    {
     "data": {
      "image/png": "[encoded data removed]",
      "text/plain": [
       "<Figure size 1080x864 with 1 Axes>"
      ]
     },
     "metadata": {
      "image/png": {
       "height": 756,
       "width": 883
      },
      "needs_background": "light"
     },
     "output_type": "display_data"
    }
   ],
   "source": [
    "from matplotlib import pyplot as plt\n",
    "models_df.plot(kind='bar', figsize=[15,12])\n",
    "plt.savefig('moneymaker.png', bbox_inches='tight')"
   ]
  },
  {
   "cell_type": "code",
   "execution_count": 195,
   "metadata": {
    "ExecuteTime": {
     "end_time": "2019-09-29T12:31:10.971975Z",
     "start_time": "2019-09-29T12:31:10.960206Z"
    }
   },
   "outputs": [
    {
     "data": {
      "text/html": [
       "<div>\n",
       "<style scoped>\n",
       "    .dataframe tbody tr th:only-of-type {\n",
       "        vertical-align: middle;\n",
       "    }\n",
       "\n",
       "    .dataframe tbody tr th {\n",
       "        vertical-align: top;\n",
       "    }\n",
       "\n",
       "    .dataframe thead th {\n",
       "        text-align: right;\n",
       "    }\n",
       "</style>\n",
       "<table border=\"1\" class=\"dataframe\">\n",
       "  <thead>\n",
       "    <tr style=\"text-align: right;\">\n",
       "      <th></th>\n",
       "      <th>money_maker</th>\n",
       "      <th>test</th>\n",
       "      <th>cv</th>\n",
       "    </tr>\n",
       "  </thead>\n",
       "  <tbody>\n",
       "    <tr>\n",
       "      <th>SVC</th>\n",
       "      <td>0.480198</td>\n",
       "      <td>0.569170</td>\n",
       "      <td>0.552181</td>\n",
       "    </tr>\n",
       "    <tr>\n",
       "      <th>SVC_Grad</th>\n",
       "      <td>0.418812</td>\n",
       "      <td>0.573123</td>\n",
       "      <td>0.534926</td>\n",
       "    </tr>\n",
       "    <tr>\n",
       "      <th>KNN</th>\n",
       "      <td>0.415842</td>\n",
       "      <td>0.533597</td>\n",
       "      <td>0.548232</td>\n",
       "    </tr>\n",
       "    <tr>\n",
       "      <th>LogReg</th>\n",
       "      <td>0.413861</td>\n",
       "      <td>0.521739</td>\n",
       "      <td>0.527081</td>\n",
       "    </tr>\n",
       "    <tr>\n",
       "      <th>Ridge</th>\n",
       "      <td>0.413861</td>\n",
       "      <td>0.521739</td>\n",
       "      <td>0.528402</td>\n",
       "    </tr>\n",
       "    <tr>\n",
       "      <th>GradGrid</th>\n",
       "      <td>0.394059</td>\n",
       "      <td>0.561265</td>\n",
       "      <td>0.561265</td>\n",
       "    </tr>\n",
       "    <tr>\n",
       "      <th>BaggClass</th>\n",
       "      <td>0.375248</td>\n",
       "      <td>0.525692</td>\n",
       "      <td>0.478310</td>\n",
       "    </tr>\n",
       "    <tr>\n",
       "      <th>GradBoost</th>\n",
       "      <td>0.365347</td>\n",
       "      <td>0.553360</td>\n",
       "      <td>0.585205</td>\n",
       "    </tr>\n",
       "  </tbody>\n",
       "</table>\n",
       "</div>"
      ],
      "text/plain": [
       "           money_maker      test        cv\n",
       "SVC           0.480198  0.569170  0.552181\n",
       "SVC_Grad      0.418812  0.573123  0.534926\n",
       "KNN           0.415842  0.533597  0.548232\n",
       "LogReg        0.413861  0.521739  0.527081\n",
       "Ridge         0.413861  0.521739  0.528402\n",
       "GradGrid      0.394059  0.561265  0.561265\n",
       "BaggClass     0.375248  0.525692  0.478310\n",
       "GradBoost     0.365347  0.553360  0.585205"
      ]
     },
     "execution_count": 195,
     "metadata": {},
     "output_type": "execute_result"
    }
   ],
   "source": [
    "models_df.sort_values(by='money_maker', ascending=False)"
   ]
  },
  {
   "cell_type": "code",
   "execution_count": 196,
   "metadata": {
    "ExecuteTime": {
     "end_time": "2019-09-29T12:31:18.510450Z",
     "start_time": "2019-09-29T12:31:18.501493Z"
    }
   },
   "outputs": [
    {
     "data": {
      "text/plain": [
       "0.5691699604743083"
      ]
     },
     "execution_count": 196,
     "metadata": {},
     "output_type": "execute_result"
    }
   ],
   "source": [
    "clf_test"
   ]
  },
  {
   "cell_type": "code",
   "execution_count": 233,
   "metadata": {
    "ExecuteTime": {
     "end_time": "2019-09-29T13:08:31.157380Z",
     "start_time": "2019-09-29T13:08:31.134600Z"
    }
   },
   "outputs": [],
   "source": [
    "orig_df = pd.read_csv('csv/new_df.csv')\n",
    "orig_df = pd.concat([orig_df, svc_preds], axis=1)\n",
    "orig_df['HomeWin'] = [round(i, 3) for i in orig_df['HomeWin']]\n",
    "orig_df['AwayWin'] = [round(i, 3) for i in orig_df['AwayWin']]\n",
    "orig_df['Draw'] = [round(i, 3) for i in orig_df['Draw']]\n",
    "orig_df.to_csv('csv/with_probs_svcstd.csv')"
   ]
  },
  {
   "cell_type": "code",
   "execution_count": 236,
   "metadata": {
    "ExecuteTime": {
     "end_time": "2019-09-29T13:10:11.168026Z",
     "start_time": "2019-09-29T13:10:11.129913Z"
    }
   },
   "outputs": [],
   "source": [
    "orig_df = pd.read_csv('csv/new_df.csv')\n",
    "orig_df = pd.concat([orig_df, bc_preds], axis=1)\n",
    "orig_df['HomeWin'] = [round(i, 3) for i in orig_df['HomeWin']]\n",
    "orig_df['AwayWin'] = [round(i, 3) for i in orig_df['AwayWin']]\n",
    "orig_df['Draw'] = [round(i, 3) for i in orig_df['Draw']]\n",
    "orig_df.to_csv('csv/with_probs_bagcla.csv')"
   ]
  },
  {
   "cell_type": "code",
   "execution_count": 238,
   "metadata": {
    "ExecuteTime": {
     "end_time": "2019-09-29T13:12:07.465475Z",
     "start_time": "2019-09-29T13:12:07.428344Z"
    }
   },
   "outputs": [],
   "source": [
    "orig_df = pd.read_csv('csv/new_df.csv')\n",
    "orig_df = pd.concat([orig_df, gradboo_preds], axis=1)\n",
    "orig_df['HomeWin'] = [round(i, 3) for i in orig_df['HomeWin']]\n",
    "orig_df['AwayWin'] = [round(i, 3) for i in orig_df['AwayWin']]\n",
    "orig_df['Draw'] = [round(i, 3) for i in orig_df['Draw']]\n",
    "orig_df.to_csv('csv/with_probs_gradboo.csv')"
   ]
  }
 ],
 "metadata": {
  "kernelspec": {
   "display_name": "Python 3",
   "language": "python",
   "name": "python3"
  },
  "language_info": {
   "codemirror_mode": {
    "name": "ipython",
    "version": 3
   },
   "file_extension": ".py",
   "mimetype": "text/x-python",
   "name": "python",
   "nbconvert_exporter": "python",
   "pygments_lexer": "ipython3",
   "version": "3.7.1"
  }
 },
 "nbformat": 4,
 "nbformat_minor": 2
}
